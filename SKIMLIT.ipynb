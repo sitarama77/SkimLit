{
  "nbformat": 4,
  "nbformat_minor": 0,
  "metadata": {
    "colab": {
      "provenance": [],
      "gpuType": "T4"
    },
    "kernelspec": {
      "name": "python3",
      "display_name": "Python 3"
    },
    "language_info": {
      "name": "python"
    },
    "accelerator": "GPU"
  },
  "cells": [
    {
      "cell_type": "markdown",
      "source": [
        "#Milestone Project: SKIMLIT\n",
        "\n",
        "The purpose of the project is to build a Natural Processing Language(NLP) model to make reading medical abstraction easier\n",
        "\n",
        "The paper used is: https://arxiv.org/abs/1710.06071v1\n",
        "\n",
        "And reading through the paper above, we can see that the model architecture that they use to acheive their best results"
      ],
      "metadata": {
        "id": "tNMDAZ_ApGdY"
      }
    },
    {
      "cell_type": "markdown",
      "source": [
        "##Confirm access to GPU"
      ],
      "metadata": {
        "id": "cVPMuX_qpPcw"
      }
    },
    {
      "cell_type": "code",
      "execution_count": 1,
      "metadata": {
        "id": "mqVlXGUmncFW",
        "colab": {
          "base_uri": "https://localhost:8080/"
        },
        "outputId": "9cfe8a41-9159-4e52-cf15-e5069acf2ef1"
      },
      "outputs": [
        {
          "output_type": "stream",
          "name": "stdout",
          "text": [
            "Tue Dec 10 08:57:42 2024       \n",
            "+---------------------------------------------------------------------------------------+\n",
            "| NVIDIA-SMI 535.104.05             Driver Version: 535.104.05   CUDA Version: 12.2     |\n",
            "|-----------------------------------------+----------------------+----------------------+\n",
            "| GPU  Name                 Persistence-M | Bus-Id        Disp.A | Volatile Uncorr. ECC |\n",
            "| Fan  Temp   Perf          Pwr:Usage/Cap |         Memory-Usage | GPU-Util  Compute M. |\n",
            "|                                         |                      |               MIG M. |\n",
            "|=========================================+======================+======================|\n",
            "|   0  Tesla T4                       Off | 00000000:00:04.0 Off |                    0 |\n",
            "| N/A   40C    P8               9W /  70W |      0MiB / 15360MiB |      0%      Default |\n",
            "|                                         |                      |                  N/A |\n",
            "+-----------------------------------------+----------------------+----------------------+\n",
            "                                                                                         \n",
            "+---------------------------------------------------------------------------------------+\n",
            "| Processes:                                                                            |\n",
            "|  GPU   GI   CI        PID   Type   Process name                            GPU Memory |\n",
            "|        ID   ID                                                             Usage      |\n",
            "|=======================================================================================|\n",
            "|  No running processes found                                                           |\n",
            "+---------------------------------------------------------------------------------------+\n"
          ]
        }
      ],
      "source": [
        "!nvidia-smi"
      ]
    },
    {
      "cell_type": "markdown",
      "source": [
        "##Get data\n",
        "We will be working on PubMed 200k RCT"
      ],
      "metadata": {
        "id": "1sBpiVi_pL2n"
      }
    },
    {
      "cell_type": "code",
      "source": [
        "!git clone https://github.com/Franck-Dernoncourt/pubmed-rct.git\n",
        "!ls pubmed-rct"
      ],
      "metadata": {
        "colab": {
          "base_uri": "https://localhost:8080/"
        },
        "id": "I1shYuT8oOF5",
        "outputId": "4c2c5718-665d-43f8-c76c-4340db8d7ff4"
      },
      "execution_count": 2,
      "outputs": [
        {
          "output_type": "stream",
          "name": "stdout",
          "text": [
            "Cloning into 'pubmed-rct'...\n",
            "remote: Enumerating objects: 39, done.\u001b[K\n",
            "remote: Counting objects: 100% (14/14), done.\u001b[K\n",
            "remote: Compressing objects: 100% (9/9), done.\u001b[K\n",
            "remote: Total 39 (delta 8), reused 5 (delta 5), pack-reused 25 (from 1)\u001b[K\n",
            "Receiving objects: 100% (39/39), 177.08 MiB | 30.74 MiB/s, done.\n",
            "Resolving deltas: 100% (15/15), done.\n",
            "Updating files: 100% (13/13), done.\n",
            "PubMed_200k_RCT\t\t\t\t       PubMed_20k_RCT_numbers_replaced_with_at_sign\n",
            "PubMed_200k_RCT_numbers_replaced_with_at_sign  README.md\n",
            "PubMed_20k_RCT\n"
          ]
        }
      ]
    },
    {
      "cell_type": "code",
      "source": [
        "# Check what files are in the PubMed_20K dataset\n",
        "!ls pubmed-rct/PubMed_20k_RCT_numbers_replaced_with_at_sign"
      ],
      "metadata": {
        "colab": {
          "base_uri": "https://localhost:8080/"
        },
        "id": "egYNtGhuoe8H",
        "outputId": "fef95b32-167d-4946-bc32-58ec22f9500e"
      },
      "execution_count": 3,
      "outputs": [
        {
          "output_type": "stream",
          "name": "stdout",
          "text": [
            "dev.txt  test.txt  train.txt\n"
          ]
        }
      ]
    },
    {
      "cell_type": "code",
      "source": [
        "# Start by using the 20k dataset\n",
        "data_dir = \"pubmed-rct/PubMed_20k_RCT_numbers_replaced_with_at_sign/\""
      ],
      "metadata": {
        "id": "dVV3xr-5oowJ"
      },
      "execution_count": 4,
      "outputs": []
    },
    {
      "cell_type": "code",
      "source": [
        "import os\n",
        "filenames = [data_dir + filename for filename in os.listdir(data_dir)]\n",
        "filenames"
      ],
      "metadata": {
        "colab": {
          "base_uri": "https://localhost:8080/"
        },
        "id": "WhGDNCDqoueZ",
        "outputId": "903b0a23-9023-4a53-b2d2-3cff814af968"
      },
      "execution_count": 5,
      "outputs": [
        {
          "output_type": "execute_result",
          "data": {
            "text/plain": [
              "['pubmed-rct/PubMed_20k_RCT_numbers_replaced_with_at_sign/dev.txt',\n",
              " 'pubmed-rct/PubMed_20k_RCT_numbers_replaced_with_at_sign/test.txt',\n",
              " 'pubmed-rct/PubMed_20k_RCT_numbers_replaced_with_at_sign/train.txt']"
            ]
          },
          "metadata": {},
          "execution_count": 5
        }
      ]
    },
    {
      "cell_type": "markdown",
      "source": [
        "##Preprocess data\n",
        "Got a data, it's time to become one with it and visualize it"
      ],
      "metadata": {
        "id": "d3EW_CG0ox3n"
      }
    },
    {
      "cell_type": "code",
      "source": [
        "# Create function to read the lines of a document\n",
        "def get_lines(filename):\n",
        "  \"\"\"\n",
        "  Reads filename (a text file) and returns the lines of text as a list.\n",
        "\n",
        "  Args:\n",
        "      filename: a string containing the target filepath to read.\n",
        "\n",
        "  Returns:\n",
        "      A list of strings with one string per line from the target filename.\n",
        "      For example:\n",
        "      [\"this is the first line of filename\",\n",
        "       \"this is the second line of filename\",\n",
        "       \"...\"]\n",
        "  \"\"\"\n",
        "  with open(filename, \"r\") as f:\n",
        "    return f.readlines()"
      ],
      "metadata": {
        "id": "zpxuDaHJpYdw"
      },
      "execution_count": 6,
      "outputs": []
    },
    {
      "cell_type": "code",
      "source": [
        "train_lines = get_lines(data_dir+\"train.txt\")\n",
        "train_lines[:20] # the whole first example of an abstract + a little more of the next one"
      ],
      "metadata": {
        "colab": {
          "base_uri": "https://localhost:8080/"
        },
        "id": "H-6XmmYRpbVo",
        "outputId": "f3e0026e-ccb8-4738-fd51-d681611a8a29"
      },
      "execution_count": 7,
      "outputs": [
        {
          "output_type": "execute_result",
          "data": {
            "text/plain": [
              "['###24293578\\n',\n",
              " 'OBJECTIVE\\tTo investigate the efficacy of @ weeks of daily low-dose oral prednisolone in improving pain , mobility , and systemic low-grade inflammation in the short term and whether the effect would be sustained at @ weeks in older adults with moderate to severe knee osteoarthritis ( OA ) .\\n',\n",
              " 'METHODS\\tA total of @ patients with primary knee OA were randomized @:@ ; @ received @ mg/day of prednisolone and @ received placebo for @ weeks .\\n',\n",
              " 'METHODS\\tOutcome measures included pain reduction and improvement in function scores and systemic inflammation markers .\\n',\n",
              " 'METHODS\\tPain was assessed using the visual analog pain scale ( @-@ mm ) .\\n',\n",
              " 'METHODS\\tSecondary outcome measures included the Western Ontario and McMaster Universities Osteoarthritis Index scores , patient global assessment ( PGA ) of the severity of knee OA , and @-min walk distance ( @MWD ) .\\n',\n",
              " 'METHODS\\tSerum levels of interleukin @ ( IL-@ ) , IL-@ , tumor necrosis factor ( TNF ) - , and high-sensitivity C-reactive protein ( hsCRP ) were measured .\\n',\n",
              " 'RESULTS\\tThere was a clinically relevant reduction in the intervention group compared to the placebo group for knee pain , physical function , PGA , and @MWD at @ weeks .\\n',\n",
              " 'RESULTS\\tThe mean difference between treatment arms ( @ % CI ) was @ ( @-@ @ ) , p < @ ; @ ( @-@ @ ) , p < @ ; @ ( @-@ @ ) , p < @ ; and @ ( @-@ @ ) , p < @ , respectively .\\n',\n",
              " 'RESULTS\\tFurther , there was a clinically relevant reduction in the serum levels of IL-@ , IL-@ , TNF - , and hsCRP at @ weeks in the intervention group when compared to the placebo group .\\n',\n",
              " 'RESULTS\\tThese differences remained significant at @ weeks .\\n',\n",
              " 'RESULTS\\tThe Outcome Measures in Rheumatology Clinical Trials-Osteoarthritis Research Society International responder rate was @ % in the intervention group and @ % in the placebo group ( p < @ ) .\\n',\n",
              " 'CONCLUSIONS\\tLow-dose oral prednisolone had both a short-term and a longer sustained effect resulting in less knee pain , better physical function , and attenuation of systemic inflammation in older patients with knee OA ( ClinicalTrials.gov identifier NCT@ ) .\\n',\n",
              " '\\n',\n",
              " '###24854809\\n',\n",
              " 'BACKGROUND\\tEmotional eating is associated with overeating and the development of obesity .\\n',\n",
              " 'BACKGROUND\\tYet , empirical evidence for individual ( trait ) differences in emotional eating and cognitive mechanisms that contribute to eating during sad mood remain equivocal .\\n',\n",
              " 'OBJECTIVE\\tThe aim of this study was to test if attention bias for food moderates the effect of self-reported emotional eating during sad mood ( vs neutral mood ) on actual food intake .\\n',\n",
              " 'OBJECTIVE\\tIt was expected that emotional eating is predictive of elevated attention for food and higher food intake after an experimentally induced sad mood and that attentional maintenance on food predicts food intake during a sad versus a neutral mood .\\n',\n",
              " 'METHODS\\tParticipants ( N = @ ) were randomly assigned to one of the two experimental mood induction conditions ( sad/neutral ) .\\n']"
            ]
          },
          "metadata": {},
          "execution_count": 7
        }
      ]
    },
    {
      "cell_type": "markdown",
      "source": [
        "###Representing data in the best way\n",
        "\n",
        "[{'line_number':0,\n",
        "\n",
        "   'target':'Background',\n",
        "\n",
        "   'text':\"Adrenergic activation is thought to be an important determinant of outcome in subjects with chronic heart failure ( CHF ) , but baseline or serial changes in adrenergic activity have not been previously investigated in a large patient sample treated with a powerful antiadrenergic agent .\\n'\",\n",
        "   \n",
        "   'total_lines':11}]\n"
      ],
      "metadata": {
        "id": "STWSprx4peNn"
      }
    },
    {
      "cell_type": "code",
      "source": [
        "def preprocess_text_with_line_numbers(filename):\n",
        "  \"\"\"Returns a list of dictionaries of abstract line data.\n",
        "\n",
        "  Takes in filename, reads its contents and sorts through each line,\n",
        "  extracting things like the target label, the text of the sentence,\n",
        "  how many sentences are in the current abstract and what sentence number\n",
        "  the target line is.\n",
        "\n",
        "  Args:\n",
        "      filename: a string of the target text file to read and extract line data\n",
        "      from.\n",
        "\n",
        "  Returns:\n",
        "      A list of dictionaries each containing a line from an abstract,\n",
        "      the lines label, the lines position in the abstract and the total number\n",
        "      of lines in the abstract where the line is from. For example:\n",
        "\n",
        "      [{\"target\": 'CONCLUSION',\n",
        "        \"text\": The study couldn't have gone better, turns out people are kinder than you think\",\n",
        "        \"line_number\": 8,\n",
        "        \"total_lines\": 8}]\n",
        "  \"\"\"\n",
        "  input_lines = get_lines(filename) # get all lines from filename\n",
        "  abstract_lines = \"\" # create an empty abstract\n",
        "  abstract_samples = [] # create an empty list of abstracts\n",
        "\n",
        "  # Loop through each line in target file\n",
        "  for line in input_lines:\n",
        "    if line.startswith(\"###\"): # check to see if line is an ID line\n",
        "      abstract_id = line\n",
        "      abstract_lines = \"\" # reset abstract string\n",
        "    elif line.isspace(): # check to see if line is a new line\n",
        "      abstract_line_split = abstract_lines.splitlines() # split abstract into separate lines\n",
        "\n",
        "      # Iterate through each line in abstract and count them at the same time\n",
        "      for abstract_line_number, abstract_line in enumerate(abstract_line_split):\n",
        "        line_data = {} # create empty dict to store data from line\n",
        "        target_text_split = abstract_line.split(\"\\t\") # split target label from text\n",
        "        line_data[\"target\"] = target_text_split[0] # get target label\n",
        "        line_data[\"text\"] = target_text_split[1].lower() # get target text and lower it\n",
        "        line_data[\"line_number\"] = abstract_line_number # what number line does the line appear in the abstract?\n",
        "        line_data[\"total_lines\"] = len(abstract_line_split) - 1 # how many total lines are in the abstract? (start from 0)\n",
        "        abstract_samples.append(line_data) # add line data to abstract samples list\n",
        "\n",
        "    else: # if the above conditions aren't fulfilled, the line contains a labelled sentence\n",
        "      abstract_lines += line # add line to abstract\n",
        "  return abstract_samples"
      ],
      "metadata": {
        "id": "I7SPC8XVpsNI"
      },
      "execution_count": 8,
      "outputs": []
    },
    {
      "cell_type": "code",
      "source": [
        "# Get data from file and preprocess it\n",
        "%%time\n",
        "train_samples = preprocess_text_with_line_numbers(data_dir + \"train.txt\")\n",
        "val_samples = preprocess_text_with_line_numbers(data_dir + \"dev.txt\") # dev is another name for validation set\n",
        "test_samples = preprocess_text_with_line_numbers(data_dir + \"test.txt\")\n",
        "len(train_samples), len(val_samples), len(test_samples)"
      ],
      "metadata": {
        "colab": {
          "base_uri": "https://localhost:8080/"
        },
        "id": "a6yhvworpyVI",
        "outputId": "9bfe3d82-7694-4d2a-a00a-f1778f6835e3"
      },
      "execution_count": 9,
      "outputs": [
        {
          "output_type": "stream",
          "name": "stdout",
          "text": [
            "CPU times: user 731 ms, sys: 111 ms, total: 842 ms\n",
            "Wall time: 1.04 s\n"
          ]
        },
        {
          "output_type": "execute_result",
          "data": {
            "text/plain": [
              "(180040, 30212, 30135)"
            ]
          },
          "metadata": {},
          "execution_count": 9
        }
      ]
    },
    {
      "cell_type": "code",
      "source": [
        "#Check first abstract of our training samples\n",
        "train_samples[:14]"
      ],
      "metadata": {
        "colab": {
          "base_uri": "https://localhost:8080/"
        },
        "id": "qNMTw27Ep15Y",
        "outputId": "9718af20-2c8a-455f-8fbc-6f677f5dfc9b"
      },
      "execution_count": 10,
      "outputs": [
        {
          "output_type": "execute_result",
          "data": {
            "text/plain": [
              "[{'target': 'OBJECTIVE',\n",
              "  'text': 'to investigate the efficacy of @ weeks of daily low-dose oral prednisolone in improving pain , mobility , and systemic low-grade inflammation in the short term and whether the effect would be sustained at @ weeks in older adults with moderate to severe knee osteoarthritis ( oa ) .',\n",
              "  'line_number': 0,\n",
              "  'total_lines': 11},\n",
              " {'target': 'METHODS',\n",
              "  'text': 'a total of @ patients with primary knee oa were randomized @:@ ; @ received @ mg/day of prednisolone and @ received placebo for @ weeks .',\n",
              "  'line_number': 1,\n",
              "  'total_lines': 11},\n",
              " {'target': 'METHODS',\n",
              "  'text': 'outcome measures included pain reduction and improvement in function scores and systemic inflammation markers .',\n",
              "  'line_number': 2,\n",
              "  'total_lines': 11},\n",
              " {'target': 'METHODS',\n",
              "  'text': 'pain was assessed using the visual analog pain scale ( @-@ mm ) .',\n",
              "  'line_number': 3,\n",
              "  'total_lines': 11},\n",
              " {'target': 'METHODS',\n",
              "  'text': 'secondary outcome measures included the western ontario and mcmaster universities osteoarthritis index scores , patient global assessment ( pga ) of the severity of knee oa , and @-min walk distance ( @mwd ) .',\n",
              "  'line_number': 4,\n",
              "  'total_lines': 11},\n",
              " {'target': 'METHODS',\n",
              "  'text': 'serum levels of interleukin @ ( il-@ ) , il-@ , tumor necrosis factor ( tnf ) - , and high-sensitivity c-reactive protein ( hscrp ) were measured .',\n",
              "  'line_number': 5,\n",
              "  'total_lines': 11},\n",
              " {'target': 'RESULTS',\n",
              "  'text': 'there was a clinically relevant reduction in the intervention group compared to the placebo group for knee pain , physical function , pga , and @mwd at @ weeks .',\n",
              "  'line_number': 6,\n",
              "  'total_lines': 11},\n",
              " {'target': 'RESULTS',\n",
              "  'text': 'the mean difference between treatment arms ( @ % ci ) was @ ( @-@ @ ) , p < @ ; @ ( @-@ @ ) , p < @ ; @ ( @-@ @ ) , p < @ ; and @ ( @-@ @ ) , p < @ , respectively .',\n",
              "  'line_number': 7,\n",
              "  'total_lines': 11},\n",
              " {'target': 'RESULTS',\n",
              "  'text': 'further , there was a clinically relevant reduction in the serum levels of il-@ , il-@ , tnf - , and hscrp at @ weeks in the intervention group when compared to the placebo group .',\n",
              "  'line_number': 8,\n",
              "  'total_lines': 11},\n",
              " {'target': 'RESULTS',\n",
              "  'text': 'these differences remained significant at @ weeks .',\n",
              "  'line_number': 9,\n",
              "  'total_lines': 11},\n",
              " {'target': 'RESULTS',\n",
              "  'text': 'the outcome measures in rheumatology clinical trials-osteoarthritis research society international responder rate was @ % in the intervention group and @ % in the placebo group ( p < @ ) .',\n",
              "  'line_number': 10,\n",
              "  'total_lines': 11},\n",
              " {'target': 'CONCLUSIONS',\n",
              "  'text': 'low-dose oral prednisolone had both a short-term and a longer sustained effect resulting in less knee pain , better physical function , and attenuation of systemic inflammation in older patients with knee oa ( clinicaltrials.gov identifier nct@ ) .',\n",
              "  'line_number': 11,\n",
              "  'total_lines': 11},\n",
              " {'target': 'BACKGROUND',\n",
              "  'text': 'emotional eating is associated with overeating and the development of obesity .',\n",
              "  'line_number': 0,\n",
              "  'total_lines': 10},\n",
              " {'target': 'BACKGROUND',\n",
              "  'text': 'yet , empirical evidence for individual ( trait ) differences in emotional eating and cognitive mechanisms that contribute to eating during sad mood remain equivocal .',\n",
              "  'line_number': 1,\n",
              "  'total_lines': 10}]"
            ]
          },
          "metadata": {},
          "execution_count": 10
        }
      ]
    },
    {
      "cell_type": "markdown",
      "source": [
        "Data is in the format of a list of dictionary, now turning it into DataFrame to visualize it"
      ],
      "metadata": {
        "id": "9ybcvk4tqeN5"
      }
    },
    {
      "cell_type": "code",
      "source": [
        "import pandas as pd\n",
        "train_df = pd.DataFrame(train_samples)\n",
        "val_df = pd.DataFrame(val_samples)\n",
        "test_df = pd.DataFrame(test_samples)\n",
        "train_df.head(14)"
      ],
      "metadata": {
        "colab": {
          "base_uri": "https://localhost:8080/",
          "height": 488
        },
        "id": "7bBV-7HjsRco",
        "outputId": "292108df-d0e6-4c85-930a-1d5233d6fe09"
      },
      "execution_count": 11,
      "outputs": [
        {
          "output_type": "execute_result",
          "data": {
            "text/plain": [
              "         target                                               text  \\\n",
              "0     OBJECTIVE  to investigate the efficacy of @ weeks of dail...   \n",
              "1       METHODS  a total of @ patients with primary knee oa wer...   \n",
              "2       METHODS  outcome measures included pain reduction and i...   \n",
              "3       METHODS  pain was assessed using the visual analog pain...   \n",
              "4       METHODS  secondary outcome measures included the wester...   \n",
              "5       METHODS  serum levels of interleukin @ ( il-@ ) , il-@ ...   \n",
              "6       RESULTS  there was a clinically relevant reduction in t...   \n",
              "7       RESULTS  the mean difference between treatment arms ( @...   \n",
              "8       RESULTS  further , there was a clinically relevant redu...   \n",
              "9       RESULTS  these differences remained significant at @ we...   \n",
              "10      RESULTS  the outcome measures in rheumatology clinical ...   \n",
              "11  CONCLUSIONS  low-dose oral prednisolone had both a short-te...   \n",
              "12   BACKGROUND  emotional eating is associated with overeating...   \n",
              "13   BACKGROUND  yet , empirical evidence for individual ( trai...   \n",
              "\n",
              "    line_number  total_lines  \n",
              "0             0           11  \n",
              "1             1           11  \n",
              "2             2           11  \n",
              "3             3           11  \n",
              "4             4           11  \n",
              "5             5           11  \n",
              "6             6           11  \n",
              "7             7           11  \n",
              "8             8           11  \n",
              "9             9           11  \n",
              "10           10           11  \n",
              "11           11           11  \n",
              "12            0           10  \n",
              "13            1           10  "
            ],
            "text/html": [
              "\n",
              "  <div id=\"df-d4d0734b-717c-46d5-8104-c742608d09d5\" class=\"colab-df-container\">\n",
              "    <div>\n",
              "<style scoped>\n",
              "    .dataframe tbody tr th:only-of-type {\n",
              "        vertical-align: middle;\n",
              "    }\n",
              "\n",
              "    .dataframe tbody tr th {\n",
              "        vertical-align: top;\n",
              "    }\n",
              "\n",
              "    .dataframe thead th {\n",
              "        text-align: right;\n",
              "    }\n",
              "</style>\n",
              "<table border=\"1\" class=\"dataframe\">\n",
              "  <thead>\n",
              "    <tr style=\"text-align: right;\">\n",
              "      <th></th>\n",
              "      <th>target</th>\n",
              "      <th>text</th>\n",
              "      <th>line_number</th>\n",
              "      <th>total_lines</th>\n",
              "    </tr>\n",
              "  </thead>\n",
              "  <tbody>\n",
              "    <tr>\n",
              "      <th>0</th>\n",
              "      <td>OBJECTIVE</td>\n",
              "      <td>to investigate the efficacy of @ weeks of dail...</td>\n",
              "      <td>0</td>\n",
              "      <td>11</td>\n",
              "    </tr>\n",
              "    <tr>\n",
              "      <th>1</th>\n",
              "      <td>METHODS</td>\n",
              "      <td>a total of @ patients with primary knee oa wer...</td>\n",
              "      <td>1</td>\n",
              "      <td>11</td>\n",
              "    </tr>\n",
              "    <tr>\n",
              "      <th>2</th>\n",
              "      <td>METHODS</td>\n",
              "      <td>outcome measures included pain reduction and i...</td>\n",
              "      <td>2</td>\n",
              "      <td>11</td>\n",
              "    </tr>\n",
              "    <tr>\n",
              "      <th>3</th>\n",
              "      <td>METHODS</td>\n",
              "      <td>pain was assessed using the visual analog pain...</td>\n",
              "      <td>3</td>\n",
              "      <td>11</td>\n",
              "    </tr>\n",
              "    <tr>\n",
              "      <th>4</th>\n",
              "      <td>METHODS</td>\n",
              "      <td>secondary outcome measures included the wester...</td>\n",
              "      <td>4</td>\n",
              "      <td>11</td>\n",
              "    </tr>\n",
              "    <tr>\n",
              "      <th>5</th>\n",
              "      <td>METHODS</td>\n",
              "      <td>serum levels of interleukin @ ( il-@ ) , il-@ ...</td>\n",
              "      <td>5</td>\n",
              "      <td>11</td>\n",
              "    </tr>\n",
              "    <tr>\n",
              "      <th>6</th>\n",
              "      <td>RESULTS</td>\n",
              "      <td>there was a clinically relevant reduction in t...</td>\n",
              "      <td>6</td>\n",
              "      <td>11</td>\n",
              "    </tr>\n",
              "    <tr>\n",
              "      <th>7</th>\n",
              "      <td>RESULTS</td>\n",
              "      <td>the mean difference between treatment arms ( @...</td>\n",
              "      <td>7</td>\n",
              "      <td>11</td>\n",
              "    </tr>\n",
              "    <tr>\n",
              "      <th>8</th>\n",
              "      <td>RESULTS</td>\n",
              "      <td>further , there was a clinically relevant redu...</td>\n",
              "      <td>8</td>\n",
              "      <td>11</td>\n",
              "    </tr>\n",
              "    <tr>\n",
              "      <th>9</th>\n",
              "      <td>RESULTS</td>\n",
              "      <td>these differences remained significant at @ we...</td>\n",
              "      <td>9</td>\n",
              "      <td>11</td>\n",
              "    </tr>\n",
              "    <tr>\n",
              "      <th>10</th>\n",
              "      <td>RESULTS</td>\n",
              "      <td>the outcome measures in rheumatology clinical ...</td>\n",
              "      <td>10</td>\n",
              "      <td>11</td>\n",
              "    </tr>\n",
              "    <tr>\n",
              "      <th>11</th>\n",
              "      <td>CONCLUSIONS</td>\n",
              "      <td>low-dose oral prednisolone had both a short-te...</td>\n",
              "      <td>11</td>\n",
              "      <td>11</td>\n",
              "    </tr>\n",
              "    <tr>\n",
              "      <th>12</th>\n",
              "      <td>BACKGROUND</td>\n",
              "      <td>emotional eating is associated with overeating...</td>\n",
              "      <td>0</td>\n",
              "      <td>10</td>\n",
              "    </tr>\n",
              "    <tr>\n",
              "      <th>13</th>\n",
              "      <td>BACKGROUND</td>\n",
              "      <td>yet , empirical evidence for individual ( trai...</td>\n",
              "      <td>1</td>\n",
              "      <td>10</td>\n",
              "    </tr>\n",
              "  </tbody>\n",
              "</table>\n",
              "</div>\n",
              "    <div class=\"colab-df-buttons\">\n",
              "\n",
              "  <div class=\"colab-df-container\">\n",
              "    <button class=\"colab-df-convert\" onclick=\"convertToInteractive('df-d4d0734b-717c-46d5-8104-c742608d09d5')\"\n",
              "            title=\"Convert this dataframe to an interactive table.\"\n",
              "            style=\"display:none;\">\n",
              "\n",
              "  <svg xmlns=\"http://www.w3.org/2000/svg\" height=\"24px\" viewBox=\"0 -960 960 960\">\n",
              "    <path d=\"M120-120v-720h720v720H120Zm60-500h600v-160H180v160Zm220 220h160v-160H400v160Zm0 220h160v-160H400v160ZM180-400h160v-160H180v160Zm440 0h160v-160H620v160ZM180-180h160v-160H180v160Zm440 0h160v-160H620v160Z\"/>\n",
              "  </svg>\n",
              "    </button>\n",
              "\n",
              "  <style>\n",
              "    .colab-df-container {\n",
              "      display:flex;\n",
              "      gap: 12px;\n",
              "    }\n",
              "\n",
              "    .colab-df-convert {\n",
              "      background-color: #E8F0FE;\n",
              "      border: none;\n",
              "      border-radius: 50%;\n",
              "      cursor: pointer;\n",
              "      display: none;\n",
              "      fill: #1967D2;\n",
              "      height: 32px;\n",
              "      padding: 0 0 0 0;\n",
              "      width: 32px;\n",
              "    }\n",
              "\n",
              "    .colab-df-convert:hover {\n",
              "      background-color: #E2EBFA;\n",
              "      box-shadow: 0px 1px 2px rgba(60, 64, 67, 0.3), 0px 1px 3px 1px rgba(60, 64, 67, 0.15);\n",
              "      fill: #174EA6;\n",
              "    }\n",
              "\n",
              "    .colab-df-buttons div {\n",
              "      margin-bottom: 4px;\n",
              "    }\n",
              "\n",
              "    [theme=dark] .colab-df-convert {\n",
              "      background-color: #3B4455;\n",
              "      fill: #D2E3FC;\n",
              "    }\n",
              "\n",
              "    [theme=dark] .colab-df-convert:hover {\n",
              "      background-color: #434B5C;\n",
              "      box-shadow: 0px 1px 3px 1px rgba(0, 0, 0, 0.15);\n",
              "      filter: drop-shadow(0px 1px 2px rgba(0, 0, 0, 0.3));\n",
              "      fill: #FFFFFF;\n",
              "    }\n",
              "  </style>\n",
              "\n",
              "    <script>\n",
              "      const buttonEl =\n",
              "        document.querySelector('#df-d4d0734b-717c-46d5-8104-c742608d09d5 button.colab-df-convert');\n",
              "      buttonEl.style.display =\n",
              "        google.colab.kernel.accessAllowed ? 'block' : 'none';\n",
              "\n",
              "      async function convertToInteractive(key) {\n",
              "        const element = document.querySelector('#df-d4d0734b-717c-46d5-8104-c742608d09d5');\n",
              "        const dataTable =\n",
              "          await google.colab.kernel.invokeFunction('convertToInteractive',\n",
              "                                                    [key], {});\n",
              "        if (!dataTable) return;\n",
              "\n",
              "        const docLinkHtml = 'Like what you see? Visit the ' +\n",
              "          '<a target=\"_blank\" href=https://colab.research.google.com/notebooks/data_table.ipynb>data table notebook</a>'\n",
              "          + ' to learn more about interactive tables.';\n",
              "        element.innerHTML = '';\n",
              "        dataTable['output_type'] = 'display_data';\n",
              "        await google.colab.output.renderOutput(dataTable, element);\n",
              "        const docLink = document.createElement('div');\n",
              "        docLink.innerHTML = docLinkHtml;\n",
              "        element.appendChild(docLink);\n",
              "      }\n",
              "    </script>\n",
              "  </div>\n",
              "\n",
              "\n",
              "<div id=\"df-82f65347-10b3-4d56-bf0e-9f20c0531441\">\n",
              "  <button class=\"colab-df-quickchart\" onclick=\"quickchart('df-82f65347-10b3-4d56-bf0e-9f20c0531441')\"\n",
              "            title=\"Suggest charts\"\n",
              "            style=\"display:none;\">\n",
              "\n",
              "<svg xmlns=\"http://www.w3.org/2000/svg\" height=\"24px\"viewBox=\"0 0 24 24\"\n",
              "     width=\"24px\">\n",
              "    <g>\n",
              "        <path d=\"M19 3H5c-1.1 0-2 .9-2 2v14c0 1.1.9 2 2 2h14c1.1 0 2-.9 2-2V5c0-1.1-.9-2-2-2zM9 17H7v-7h2v7zm4 0h-2V7h2v10zm4 0h-2v-4h2v4z\"/>\n",
              "    </g>\n",
              "</svg>\n",
              "  </button>\n",
              "\n",
              "<style>\n",
              "  .colab-df-quickchart {\n",
              "      --bg-color: #E8F0FE;\n",
              "      --fill-color: #1967D2;\n",
              "      --hover-bg-color: #E2EBFA;\n",
              "      --hover-fill-color: #174EA6;\n",
              "      --disabled-fill-color: #AAA;\n",
              "      --disabled-bg-color: #DDD;\n",
              "  }\n",
              "\n",
              "  [theme=dark] .colab-df-quickchart {\n",
              "      --bg-color: #3B4455;\n",
              "      --fill-color: #D2E3FC;\n",
              "      --hover-bg-color: #434B5C;\n",
              "      --hover-fill-color: #FFFFFF;\n",
              "      --disabled-bg-color: #3B4455;\n",
              "      --disabled-fill-color: #666;\n",
              "  }\n",
              "\n",
              "  .colab-df-quickchart {\n",
              "    background-color: var(--bg-color);\n",
              "    border: none;\n",
              "    border-radius: 50%;\n",
              "    cursor: pointer;\n",
              "    display: none;\n",
              "    fill: var(--fill-color);\n",
              "    height: 32px;\n",
              "    padding: 0;\n",
              "    width: 32px;\n",
              "  }\n",
              "\n",
              "  .colab-df-quickchart:hover {\n",
              "    background-color: var(--hover-bg-color);\n",
              "    box-shadow: 0 1px 2px rgba(60, 64, 67, 0.3), 0 1px 3px 1px rgba(60, 64, 67, 0.15);\n",
              "    fill: var(--button-hover-fill-color);\n",
              "  }\n",
              "\n",
              "  .colab-df-quickchart-complete:disabled,\n",
              "  .colab-df-quickchart-complete:disabled:hover {\n",
              "    background-color: var(--disabled-bg-color);\n",
              "    fill: var(--disabled-fill-color);\n",
              "    box-shadow: none;\n",
              "  }\n",
              "\n",
              "  .colab-df-spinner {\n",
              "    border: 2px solid var(--fill-color);\n",
              "    border-color: transparent;\n",
              "    border-bottom-color: var(--fill-color);\n",
              "    animation:\n",
              "      spin 1s steps(1) infinite;\n",
              "  }\n",
              "\n",
              "  @keyframes spin {\n",
              "    0% {\n",
              "      border-color: transparent;\n",
              "      border-bottom-color: var(--fill-color);\n",
              "      border-left-color: var(--fill-color);\n",
              "    }\n",
              "    20% {\n",
              "      border-color: transparent;\n",
              "      border-left-color: var(--fill-color);\n",
              "      border-top-color: var(--fill-color);\n",
              "    }\n",
              "    30% {\n",
              "      border-color: transparent;\n",
              "      border-left-color: var(--fill-color);\n",
              "      border-top-color: var(--fill-color);\n",
              "      border-right-color: var(--fill-color);\n",
              "    }\n",
              "    40% {\n",
              "      border-color: transparent;\n",
              "      border-right-color: var(--fill-color);\n",
              "      border-top-color: var(--fill-color);\n",
              "    }\n",
              "    60% {\n",
              "      border-color: transparent;\n",
              "      border-right-color: var(--fill-color);\n",
              "    }\n",
              "    80% {\n",
              "      border-color: transparent;\n",
              "      border-right-color: var(--fill-color);\n",
              "      border-bottom-color: var(--fill-color);\n",
              "    }\n",
              "    90% {\n",
              "      border-color: transparent;\n",
              "      border-bottom-color: var(--fill-color);\n",
              "    }\n",
              "  }\n",
              "</style>\n",
              "\n",
              "  <script>\n",
              "    async function quickchart(key) {\n",
              "      const quickchartButtonEl =\n",
              "        document.querySelector('#' + key + ' button');\n",
              "      quickchartButtonEl.disabled = true;  // To prevent multiple clicks.\n",
              "      quickchartButtonEl.classList.add('colab-df-spinner');\n",
              "      try {\n",
              "        const charts = await google.colab.kernel.invokeFunction(\n",
              "            'suggestCharts', [key], {});\n",
              "      } catch (error) {\n",
              "        console.error('Error during call to suggestCharts:', error);\n",
              "      }\n",
              "      quickchartButtonEl.classList.remove('colab-df-spinner');\n",
              "      quickchartButtonEl.classList.add('colab-df-quickchart-complete');\n",
              "    }\n",
              "    (() => {\n",
              "      let quickchartButtonEl =\n",
              "        document.querySelector('#df-82f65347-10b3-4d56-bf0e-9f20c0531441 button');\n",
              "      quickchartButtonEl.style.display =\n",
              "        google.colab.kernel.accessAllowed ? 'block' : 'none';\n",
              "    })();\n",
              "  </script>\n",
              "</div>\n",
              "\n",
              "    </div>\n",
              "  </div>\n"
            ],
            "application/vnd.google.colaboratory.intrinsic+json": {
              "type": "dataframe",
              "variable_name": "train_df"
            }
          },
          "metadata": {},
          "execution_count": 11
        }
      ]
    },
    {
      "cell_type": "code",
      "source": [
        "#Distribution of labels in training data\n",
        "train_df.target.value_counts()"
      ],
      "metadata": {
        "colab": {
          "base_uri": "https://localhost:8080/",
          "height": 272
        },
        "id": "3R076iGQv4NI",
        "outputId": "d3267242-de3b-4899-a472-9aa29bfe434d"
      },
      "execution_count": 12,
      "outputs": [
        {
          "output_type": "execute_result",
          "data": {
            "text/plain": [
              "target\n",
              "METHODS        59353\n",
              "RESULTS        57953\n",
              "CONCLUSIONS    27168\n",
              "BACKGROUND     21727\n",
              "OBJECTIVE      13839\n",
              "Name: count, dtype: int64"
            ],
            "text/html": [
              "<div>\n",
              "<style scoped>\n",
              "    .dataframe tbody tr th:only-of-type {\n",
              "        vertical-align: middle;\n",
              "    }\n",
              "\n",
              "    .dataframe tbody tr th {\n",
              "        vertical-align: top;\n",
              "    }\n",
              "\n",
              "    .dataframe thead th {\n",
              "        text-align: right;\n",
              "    }\n",
              "</style>\n",
              "<table border=\"1\" class=\"dataframe\">\n",
              "  <thead>\n",
              "    <tr style=\"text-align: right;\">\n",
              "      <th></th>\n",
              "      <th>count</th>\n",
              "    </tr>\n",
              "    <tr>\n",
              "      <th>target</th>\n",
              "      <th></th>\n",
              "    </tr>\n",
              "  </thead>\n",
              "  <tbody>\n",
              "    <tr>\n",
              "      <th>METHODS</th>\n",
              "      <td>59353</td>\n",
              "    </tr>\n",
              "    <tr>\n",
              "      <th>RESULTS</th>\n",
              "      <td>57953</td>\n",
              "    </tr>\n",
              "    <tr>\n",
              "      <th>CONCLUSIONS</th>\n",
              "      <td>27168</td>\n",
              "    </tr>\n",
              "    <tr>\n",
              "      <th>BACKGROUND</th>\n",
              "      <td>21727</td>\n",
              "    </tr>\n",
              "    <tr>\n",
              "      <th>OBJECTIVE</th>\n",
              "      <td>13839</td>\n",
              "    </tr>\n",
              "  </tbody>\n",
              "</table>\n",
              "</div><br><label><b>dtype:</b> int64</label>"
            ]
          },
          "metadata": {},
          "execution_count": 12
        }
      ]
    },
    {
      "cell_type": "code",
      "source": [
        "train_df.total_lines.plot.hist();"
      ],
      "metadata": {
        "colab": {
          "base_uri": "https://localhost:8080/",
          "height": 431
        },
        "id": "mwd4bAOcz7bO",
        "outputId": "8aa7829a-2bd5-4b65-9bed-3601ae10e3f2"
      },
      "execution_count": 13,
      "outputs": [
        {
          "output_type": "display_data",
          "data": {
            "text/plain": [
              "<Figure size 640x480 with 1 Axes>"
            ],
            "image/png": "[encoded data removed]"
          },
          "metadata": {}
        }
      ]
    },
    {
      "cell_type": "markdown",
      "source": [
        "###Get lists of sentences\n",
        "When we build our deep learning model, one of its main inputs will be a list of strings (the lines of an abstract).\n",
        "\n",
        "We can get these easily from our DataFrames by calling the tolist() method on our \"text\" columns"
      ],
      "metadata": {
        "id": "dyNz_iA1wd8I"
      }
    },
    {
      "cell_type": "code",
      "source": [
        "#Convert abstract text lines into lists\n",
        "train_sentences = train_df[\"text\"].tolist()\n",
        "val_sentences = val_df[\"text\"].tolist()\n",
        "test_sentences = test_df[\"text\"].tolist()\n",
        "len(train_sentences), len(val_sentences), len(test_sentences)"
      ],
      "metadata": {
        "colab": {
          "base_uri": "https://localhost:8080/"
        },
        "id": "Ex2X1hCMwmZv",
        "outputId": "88938d14-c175-46bd-b7d7-850c5646a714"
      },
      "execution_count": 14,
      "outputs": [
        {
          "output_type": "execute_result",
          "data": {
            "text/plain": [
              "(180040, 30212, 30135)"
            ]
          },
          "metadata": {},
          "execution_count": 14
        }
      ]
    },
    {
      "cell_type": "code",
      "source": [
        "train_sentences[:10]"
      ],
      "metadata": {
        "colab": {
          "base_uri": "https://localhost:8080/"
        },
        "id": "iMUgIyuEw8-4",
        "outputId": "26eb35f5-34ab-4c50-8b33-96450e05fa3d"
      },
      "execution_count": 15,
      "outputs": [
        {
          "output_type": "execute_result",
          "data": {
            "text/plain": [
              "['to investigate the efficacy of @ weeks of daily low-dose oral prednisolone in improving pain , mobility , and systemic low-grade inflammation in the short term and whether the effect would be sustained at @ weeks in older adults with moderate to severe knee osteoarthritis ( oa ) .',\n",
              " 'a total of @ patients with primary knee oa were randomized @:@ ; @ received @ mg/day of prednisolone and @ received placebo for @ weeks .',\n",
              " 'outcome measures included pain reduction and improvement in function scores and systemic inflammation markers .',\n",
              " 'pain was assessed using the visual analog pain scale ( @-@ mm ) .',\n",
              " 'secondary outcome measures included the western ontario and mcmaster universities osteoarthritis index scores , patient global assessment ( pga ) of the severity of knee oa , and @-min walk distance ( @mwd ) .',\n",
              " 'serum levels of interleukin @ ( il-@ ) , il-@ , tumor necrosis factor ( tnf ) - , and high-sensitivity c-reactive protein ( hscrp ) were measured .',\n",
              " 'there was a clinically relevant reduction in the intervention group compared to the placebo group for knee pain , physical function , pga , and @mwd at @ weeks .',\n",
              " 'the mean difference between treatment arms ( @ % ci ) was @ ( @-@ @ ) , p < @ ; @ ( @-@ @ ) , p < @ ; @ ( @-@ @ ) , p < @ ; and @ ( @-@ @ ) , p < @ , respectively .',\n",
              " 'further , there was a clinically relevant reduction in the serum levels of il-@ , il-@ , tnf - , and hscrp at @ weeks in the intervention group when compared to the placebo group .',\n",
              " 'these differences remained significant at @ weeks .']"
            ]
          },
          "metadata": {},
          "execution_count": 15
        }
      ]
    },
    {
      "cell_type": "code",
      "source": [],
      "metadata": {
        "id": "Y7a-p8Nkz443"
      },
      "execution_count": 15,
      "outputs": []
    },
    {
      "cell_type": "markdown",
      "source": [
        "##Making numeric labels(ML models requires numeric labels)\n",
        "To numerically encode labels we'll use Scikit-Learn's OneHotEncoder and LabelEncoder classes."
      ],
      "metadata": {
        "id": "OMtUeeNFxL-Y"
      }
    },
    {
      "cell_type": "code",
      "source": [
        "#one hot encode labels\n",
        "from sklearn.preprocessing import OneHotEncoder\n",
        "one_hot_encoder = OneHotEncoder(sparse_output=False)\n",
        "train_labels_one_hot = one_hot_encoder.fit_transform(train_df[\"target\"].to_numpy().reshape(-1, 1))\n",
        "val_labels_one_hot = one_hot_encoder.transform(val_df[\"target\"].to_numpy().reshape(-1, 1))\n",
        "test_labels_one_hot = one_hot_encoder.transform(test_df[\"target\"].to_numpy().reshape(-1, 1))\n",
        "#train_labels.shape, val_labels.shape, test_labels.shape\n",
        "\n",
        "train_labels_one_hot"
      ],
      "metadata": {
        "colab": {
          "base_uri": "https://localhost:8080/"
        },
        "id": "wYHik85-xdF-",
        "outputId": "a13025e8-8bec-476d-a085-af046518ec27"
      },
      "execution_count": 16,
      "outputs": [
        {
          "output_type": "execute_result",
          "data": {
            "text/plain": [
              "array([[0., 0., 0., 1., 0.],\n",
              "       [0., 0., 1., 0., 0.],\n",
              "       [0., 0., 1., 0., 0.],\n",
              "       ...,\n",
              "       [0., 0., 0., 0., 1.],\n",
              "       [0., 1., 0., 0., 0.],\n",
              "       [0., 1., 0., 0., 0.]])"
            ]
          },
          "metadata": {},
          "execution_count": 16
        }
      ]
    },
    {
      "cell_type": "code",
      "source": [
        "import tensorflow as tf\n",
        "tf.constant(train_labels_one_hot)"
      ],
      "metadata": {
        "colab": {
          "base_uri": "https://localhost:8080/"
        },
        "id": "VYBJLDxNzSBI",
        "outputId": "17dbcc2e-b16e-46c3-c214-8a82dd015298"
      },
      "execution_count": 17,
      "outputs": [
        {
          "output_type": "execute_result",
          "data": {
            "text/plain": [
              "<tf.Tensor: shape=(180040, 5), dtype=float64, numpy=\n",
              "array([[0., 0., 0., 1., 0.],\n",
              "       [0., 0., 1., 0., 0.],\n",
              "       [0., 0., 1., 0., 0.],\n",
              "       ...,\n",
              "       [0., 0., 0., 0., 1.],\n",
              "       [0., 1., 0., 0., 0.],\n",
              "       [0., 1., 0., 0., 0.]])>"
            ]
          },
          "metadata": {},
          "execution_count": 17
        }
      ]
    },
    {
      "cell_type": "markdown",
      "source": [
        "###Label encoder labels"
      ],
      "metadata": {
        "id": "Dievp_mT0mgY"
      }
    },
    {
      "cell_type": "code",
      "source": [
        "#Extract labels(\"target\" columns) and encode them into integers\n",
        "from sklearn.preprocessing import LabelEncoder\n",
        "label_encoder = LabelEncoder()\n",
        "train_labels_encoded = label_encoder.fit_transform(train_df[\"target\"])\n",
        "val_labels_encoded = label_encoder.fit_transform(val_df[\"target\"])\n",
        "test_labels_encoded = label_encoder.fit_transform(test_df[\"target\"])\n",
        "\n",
        "#Check what training labels look like\n",
        "train_labels_encoded"
      ],
      "metadata": {
        "colab": {
          "base_uri": "https://localhost:8080/"
        },
        "id": "gj8Usbx-0t6m",
        "outputId": "185cca75-9a13-42dc-a65a-25c0bb631ca2"
      },
      "execution_count": 18,
      "outputs": [
        {
          "output_type": "execute_result",
          "data": {
            "text/plain": [
              "array([3, 2, 2, ..., 4, 1, 1])"
            ]
          },
          "metadata": {},
          "execution_count": 18
        }
      ]
    },
    {
      "cell_type": "code",
      "source": [
        "#Get classes names and no.of classes from LabelEncoder instance\n",
        "num_classes = len(label_encoder.classes_)\n",
        "class_names = label_encoder.classes_\n",
        "num_classes, class_names"
      ],
      "metadata": {
        "colab": {
          "base_uri": "https://localhost:8080/"
        },
        "id": "Hv7pN6rw1l_4",
        "outputId": "eeae11f8-de61-4584-9924-3721d38e6ce6"
      },
      "execution_count": 19,
      "outputs": [
        {
          "output_type": "execute_result",
          "data": {
            "text/plain": [
              "(5,\n",
              " array(['BACKGROUND', 'CONCLUSIONS', 'METHODS', 'OBJECTIVE', 'RESULTS'],\n",
              "       dtype=object))"
            ]
          },
          "metadata": {},
          "execution_count": 19
        }
      ]
    },
    {
      "cell_type": "markdown",
      "source": [
        "##Model 0:Getting a baseline"
      ],
      "metadata": {
        "id": "IY0X38R92WH3"
      }
    },
    {
      "cell_type": "code",
      "source": [
        "from sklearn.feature_extraction.text import TfidfVectorizer\n",
        "from sklearn.naive_bayes import MultinomialNB\n",
        "from sklearn.pipeline import Pipeline\n",
        "\n",
        "#Create pipeline\n",
        "model_0 = Pipeline([\n",
        "            (\"tf_idf\", TfidfVectorizer()),\n",
        "            (\"clf\", MultinomialNB())\n",
        "])\n",
        "#Fit the pipeline to the training data\n",
        "model_0.fit(X = train_sentences,\n",
        "            y = train_labels_encoded)"
      ],
      "metadata": {
        "colab": {
          "base_uri": "https://localhost:8080/",
          "height": 143
        },
        "id": "aEVxMYMc2g0v",
        "outputId": "fc61eac9-3228-43f9-faa2-906e7acd6ccc"
      },
      "execution_count": 20,
      "outputs": [
        {
          "output_type": "execute_result",
          "data": {
            "text/plain": [
              "Pipeline(steps=[('tf_idf', TfidfVectorizer()), ('clf', MultinomialNB())])"
            ],
            "text/html": [
              "<style>#sk-container-id-1 {\n",
              "  /* Definition of color scheme common for light and dark mode */\n",
              "  --sklearn-color-text: black;\n",
              "  --sklearn-color-line: gray;\n",
              "  /* Definition of color scheme for unfitted estimators */\n",
              "  --sklearn-color-unfitted-level-0: #fff5e6;\n",
              "  --sklearn-color-unfitted-level-1: #f6e4d2;\n",
              "  --sklearn-color-unfitted-level-2: #ffe0b3;\n",
              "  --sklearn-color-unfitted-level-3: chocolate;\n",
              "  /* Definition of color scheme for fitted estimators */\n",
              "  --sklearn-color-fitted-level-0: #f0f8ff;\n",
              "  --sklearn-color-fitted-level-1: #d4ebff;\n",
              "  --sklearn-color-fitted-level-2: #b3dbfd;\n",
              "  --sklearn-color-fitted-level-3: cornflowerblue;\n",
              "\n",
              "  /* Specific color for light theme */\n",
              "  --sklearn-color-text-on-default-background: var(--sg-text-color, var(--theme-code-foreground, var(--jp-content-font-color1, black)));\n",
              "  --sklearn-color-background: var(--sg-background-color, var(--theme-background, var(--jp-layout-color0, white)));\n",
              "  --sklearn-color-border-box: var(--sg-text-color, var(--theme-code-foreground, var(--jp-content-font-color1, black)));\n",
              "  --sklearn-color-icon: #696969;\n",
              "\n",
              "  @media (prefers-color-scheme: dark) {\n",
              "    /* Redefinition of color scheme for dark theme */\n",
              "    --sklearn-color-text-on-default-background: var(--sg-text-color, var(--theme-code-foreground, var(--jp-content-font-color1, white)));\n",
              "    --sklearn-color-background: var(--sg-background-color, var(--theme-background, var(--jp-layout-color0, #111)));\n",
              "    --sklearn-color-border-box: var(--sg-text-color, var(--theme-code-foreground, var(--jp-content-font-color1, white)));\n",
              "    --sklearn-color-icon: #878787;\n",
              "  }\n",
              "}\n",
              "\n",
              "#sk-container-id-1 {\n",
              "  color: var(--sklearn-color-text);\n",
              "}\n",
              "\n",
              "#sk-container-id-1 pre {\n",
              "  padding: 0;\n",
              "}\n",
              "\n",
              "#sk-container-id-1 input.sk-hidden--visually {\n",
              "  border: 0;\n",
              "  clip: rect(1px 1px 1px 1px);\n",
              "  clip: rect(1px, 1px, 1px, 1px);\n",
              "  height: 1px;\n",
              "  margin: -1px;\n",
              "  overflow: hidden;\n",
              "  padding: 0;\n",
              "  position: absolute;\n",
              "  width: 1px;\n",
              "}\n",
              "\n",
              "#sk-container-id-1 div.sk-dashed-wrapped {\n",
              "  border: 1px dashed var(--sklearn-color-line);\n",
              "  margin: 0 0.4em 0.5em 0.4em;\n",
              "  box-sizing: border-box;\n",
              "  padding-bottom: 0.4em;\n",
              "  background-color: var(--sklearn-color-background);\n",
              "}\n",
              "\n",
              "#sk-container-id-1 div.sk-container {\n",
              "  /* jupyter's `normalize.less` sets `[hidden] { display: none; }`\n",
              "     but bootstrap.min.css set `[hidden] { display: none !important; }`\n",
              "     so we also need the `!important` here to be able to override the\n",
              "     default hidden behavior on the sphinx rendered scikit-learn.org.\n",
              "     See: https://github.com/scikit-learn/scikit-learn/issues/21755 */\n",
              "  display: inline-block !important;\n",
              "  position: relative;\n",
              "}\n",
              "\n",
              "#sk-container-id-1 div.sk-text-repr-fallback {\n",
              "  display: none;\n",
              "}\n",
              "\n",
              "div.sk-parallel-item,\n",
              "div.sk-serial,\n",
              "div.sk-item {\n",
              "  /* draw centered vertical line to link estimators */\n",
              "  background-image: linear-gradient(var(--sklearn-color-text-on-default-background), var(--sklearn-color-text-on-default-background));\n",
              "  background-size: 2px 100%;\n",
              "  background-repeat: no-repeat;\n",
              "  background-position: center center;\n",
              "}\n",
              "\n",
              "/* Parallel-specific style estimator block */\n",
              "\n",
              "#sk-container-id-1 div.sk-parallel-item::after {\n",
              "  content: \"\";\n",
              "  width: 100%;\n",
              "  border-bottom: 2px solid var(--sklearn-color-text-on-default-background);\n",
              "  flex-grow: 1;\n",
              "}\n",
              "\n",
              "#sk-container-id-1 div.sk-parallel {\n",
              "  display: flex;\n",
              "  align-items: stretch;\n",
              "  justify-content: center;\n",
              "  background-color: var(--sklearn-color-background);\n",
              "  position: relative;\n",
              "}\n",
              "\n",
              "#sk-container-id-1 div.sk-parallel-item {\n",
              "  display: flex;\n",
              "  flex-direction: column;\n",
              "}\n",
              "\n",
              "#sk-container-id-1 div.sk-parallel-item:first-child::after {\n",
              "  align-self: flex-end;\n",
              "  width: 50%;\n",
              "}\n",
              "\n",
              "#sk-container-id-1 div.sk-parallel-item:last-child::after {\n",
              "  align-self: flex-start;\n",
              "  width: 50%;\n",
              "}\n",
              "\n",
              "#sk-container-id-1 div.sk-parallel-item:only-child::after {\n",
              "  width: 0;\n",
              "}\n",
              "\n",
              "/* Serial-specific style estimator block */\n",
              "\n",
              "#sk-container-id-1 div.sk-serial {\n",
              "  display: flex;\n",
              "  flex-direction: column;\n",
              "  align-items: center;\n",
              "  background-color: var(--sklearn-color-background);\n",
              "  padding-right: 1em;\n",
              "  padding-left: 1em;\n",
              "}\n",
              "\n",
              "\n",
              "/* Toggleable style: style used for estimator/Pipeline/ColumnTransformer box that is\n",
              "clickable and can be expanded/collapsed.\n",
              "- Pipeline and ColumnTransformer use this feature and define the default style\n",
              "- Estimators will overwrite some part of the style using the `sk-estimator` class\n",
              "*/\n",
              "\n",
              "/* Pipeline and ColumnTransformer style (default) */\n",
              "\n",
              "#sk-container-id-1 div.sk-toggleable {\n",
              "  /* Default theme specific background. It is overwritten whether we have a\n",
              "  specific estimator or a Pipeline/ColumnTransformer */\n",
              "  background-color: var(--sklearn-color-background);\n",
              "}\n",
              "\n",
              "/* Toggleable label */\n",
              "#sk-container-id-1 label.sk-toggleable__label {\n",
              "  cursor: pointer;\n",
              "  display: block;\n",
              "  width: 100%;\n",
              "  margin-bottom: 0;\n",
              "  padding: 0.5em;\n",
              "  box-sizing: border-box;\n",
              "  text-align: center;\n",
              "}\n",
              "\n",
              "#sk-container-id-1 label.sk-toggleable__label-arrow:before {\n",
              "  /* Arrow on the left of the label */\n",
              "  content: \"▸\";\n",
              "  float: left;\n",
              "  margin-right: 0.25em;\n",
              "  color: var(--sklearn-color-icon);\n",
              "}\n",
              "\n",
              "#sk-container-id-1 label.sk-toggleable__label-arrow:hover:before {\n",
              "  color: var(--sklearn-color-text);\n",
              "}\n",
              "\n",
              "/* Toggleable content - dropdown */\n",
              "\n",
              "#sk-container-id-1 div.sk-toggleable__content {\n",
              "  max-height: 0;\n",
              "  max-width: 0;\n",
              "  overflow: hidden;\n",
              "  text-align: left;\n",
              "  /* unfitted */\n",
              "  background-color: var(--sklearn-color-unfitted-level-0);\n",
              "}\n",
              "\n",
              "#sk-container-id-1 div.sk-toggleable__content.fitted {\n",
              "  /* fitted */\n",
              "  background-color: var(--sklearn-color-fitted-level-0);\n",
              "}\n",
              "\n",
              "#sk-container-id-1 div.sk-toggleable__content pre {\n",
              "  margin: 0.2em;\n",
              "  border-radius: 0.25em;\n",
              "  color: var(--sklearn-color-text);\n",
              "  /* unfitted */\n",
              "  background-color: var(--sklearn-color-unfitted-level-0);\n",
              "}\n",
              "\n",
              "#sk-container-id-1 div.sk-toggleable__content.fitted pre {\n",
              "  /* unfitted */\n",
              "  background-color: var(--sklearn-color-fitted-level-0);\n",
              "}\n",
              "\n",
              "#sk-container-id-1 input.sk-toggleable__control:checked~div.sk-toggleable__content {\n",
              "  /* Expand drop-down */\n",
              "  max-height: 200px;\n",
              "  max-width: 100%;\n",
              "  overflow: auto;\n",
              "}\n",
              "\n",
              "#sk-container-id-1 input.sk-toggleable__control:checked~label.sk-toggleable__label-arrow:before {\n",
              "  content: \"▾\";\n",
              "}\n",
              "\n",
              "/* Pipeline/ColumnTransformer-specific style */\n",
              "\n",
              "#sk-container-id-1 div.sk-label input.sk-toggleable__control:checked~label.sk-toggleable__label {\n",
              "  color: var(--sklearn-color-text);\n",
              "  background-color: var(--sklearn-color-unfitted-level-2);\n",
              "}\n",
              "\n",
              "#sk-container-id-1 div.sk-label.fitted input.sk-toggleable__control:checked~label.sk-toggleable__label {\n",
              "  background-color: var(--sklearn-color-fitted-level-2);\n",
              "}\n",
              "\n",
              "/* Estimator-specific style */\n",
              "\n",
              "/* Colorize estimator box */\n",
              "#sk-container-id-1 div.sk-estimator input.sk-toggleable__control:checked~label.sk-toggleable__label {\n",
              "  /* unfitted */\n",
              "  background-color: var(--sklearn-color-unfitted-level-2);\n",
              "}\n",
              "\n",
              "#sk-container-id-1 div.sk-estimator.fitted input.sk-toggleable__control:checked~label.sk-toggleable__label {\n",
              "  /* fitted */\n",
              "  background-color: var(--sklearn-color-fitted-level-2);\n",
              "}\n",
              "\n",
              "#sk-container-id-1 div.sk-label label.sk-toggleable__label,\n",
              "#sk-container-id-1 div.sk-label label {\n",
              "  /* The background is the default theme color */\n",
              "  color: var(--sklearn-color-text-on-default-background);\n",
              "}\n",
              "\n",
              "/* On hover, darken the color of the background */\n",
              "#sk-container-id-1 div.sk-label:hover label.sk-toggleable__label {\n",
              "  color: var(--sklearn-color-text);\n",
              "  background-color: var(--sklearn-color-unfitted-level-2);\n",
              "}\n",
              "\n",
              "/* Label box, darken color on hover, fitted */\n",
              "#sk-container-id-1 div.sk-label.fitted:hover label.sk-toggleable__label.fitted {\n",
              "  color: var(--sklearn-color-text);\n",
              "  background-color: var(--sklearn-color-fitted-level-2);\n",
              "}\n",
              "\n",
              "/* Estimator label */\n",
              "\n",
              "#sk-container-id-1 div.sk-label label {\n",
              "  font-family: monospace;\n",
              "  font-weight: bold;\n",
              "  display: inline-block;\n",
              "  line-height: 1.2em;\n",
              "}\n",
              "\n",
              "#sk-container-id-1 div.sk-label-container {\n",
              "  text-align: center;\n",
              "}\n",
              "\n",
              "/* Estimator-specific */\n",
              "#sk-container-id-1 div.sk-estimator {\n",
              "  font-family: monospace;\n",
              "  border: 1px dotted var(--sklearn-color-border-box);\n",
              "  border-radius: 0.25em;\n",
              "  box-sizing: border-box;\n",
              "  margin-bottom: 0.5em;\n",
              "  /* unfitted */\n",
              "  background-color: var(--sklearn-color-unfitted-level-0);\n",
              "}\n",
              "\n",
              "#sk-container-id-1 div.sk-estimator.fitted {\n",
              "  /* fitted */\n",
              "  background-color: var(--sklearn-color-fitted-level-0);\n",
              "}\n",
              "\n",
              "/* on hover */\n",
              "#sk-container-id-1 div.sk-estimator:hover {\n",
              "  /* unfitted */\n",
              "  background-color: var(--sklearn-color-unfitted-level-2);\n",
              "}\n",
              "\n",
              "#sk-container-id-1 div.sk-estimator.fitted:hover {\n",
              "  /* fitted */\n",
              "  background-color: var(--sklearn-color-fitted-level-2);\n",
              "}\n",
              "\n",
              "/* Specification for estimator info (e.g. \"i\" and \"?\") */\n",
              "\n",
              "/* Common style for \"i\" and \"?\" */\n",
              "\n",
              ".sk-estimator-doc-link,\n",
              "a:link.sk-estimator-doc-link,\n",
              "a:visited.sk-estimator-doc-link {\n",
              "  float: right;\n",
              "  font-size: smaller;\n",
              "  line-height: 1em;\n",
              "  font-family: monospace;\n",
              "  background-color: var(--sklearn-color-background);\n",
              "  border-radius: 1em;\n",
              "  height: 1em;\n",
              "  width: 1em;\n",
              "  text-decoration: none !important;\n",
              "  margin-left: 1ex;\n",
              "  /* unfitted */\n",
              "  border: var(--sklearn-color-unfitted-level-1) 1pt solid;\n",
              "  color: var(--sklearn-color-unfitted-level-1);\n",
              "}\n",
              "\n",
              ".sk-estimator-doc-link.fitted,\n",
              "a:link.sk-estimator-doc-link.fitted,\n",
              "a:visited.sk-estimator-doc-link.fitted {\n",
              "  /* fitted */\n",
              "  border: var(--sklearn-color-fitted-level-1) 1pt solid;\n",
              "  color: var(--sklearn-color-fitted-level-1);\n",
              "}\n",
              "\n",
              "/* On hover */\n",
              "div.sk-estimator:hover .sk-estimator-doc-link:hover,\n",
              ".sk-estimator-doc-link:hover,\n",
              "div.sk-label-container:hover .sk-estimator-doc-link:hover,\n",
              ".sk-estimator-doc-link:hover {\n",
              "  /* unfitted */\n",
              "  background-color: var(--sklearn-color-unfitted-level-3);\n",
              "  color: var(--sklearn-color-background);\n",
              "  text-decoration: none;\n",
              "}\n",
              "\n",
              "div.sk-estimator.fitted:hover .sk-estimator-doc-link.fitted:hover,\n",
              ".sk-estimator-doc-link.fitted:hover,\n",
              "div.sk-label-container:hover .sk-estimator-doc-link.fitted:hover,\n",
              ".sk-estimator-doc-link.fitted:hover {\n",
              "  /* fitted */\n",
              "  background-color: var(--sklearn-color-fitted-level-3);\n",
              "  color: var(--sklearn-color-background);\n",
              "  text-decoration: none;\n",
              "}\n",
              "\n",
              "/* Span, style for the box shown on hovering the info icon */\n",
              ".sk-estimator-doc-link span {\n",
              "  display: none;\n",
              "  z-index: 9999;\n",
              "  position: relative;\n",
              "  font-weight: normal;\n",
              "  right: .2ex;\n",
              "  padding: .5ex;\n",
              "  margin: .5ex;\n",
              "  width: min-content;\n",
              "  min-width: 20ex;\n",
              "  max-width: 50ex;\n",
              "  color: var(--sklearn-color-text);\n",
              "  box-shadow: 2pt 2pt 4pt #999;\n",
              "  /* unfitted */\n",
              "  background: var(--sklearn-color-unfitted-level-0);\n",
              "  border: .5pt solid var(--sklearn-color-unfitted-level-3);\n",
              "}\n",
              "\n",
              ".sk-estimator-doc-link.fitted span {\n",
              "  /* fitted */\n",
              "  background: var(--sklearn-color-fitted-level-0);\n",
              "  border: var(--sklearn-color-fitted-level-3);\n",
              "}\n",
              "\n",
              ".sk-estimator-doc-link:hover span {\n",
              "  display: block;\n",
              "}\n",
              "\n",
              "/* \"?\"-specific style due to the `<a>` HTML tag */\n",
              "\n",
              "#sk-container-id-1 a.estimator_doc_link {\n",
              "  float: right;\n",
              "  font-size: 1rem;\n",
              "  line-height: 1em;\n",
              "  font-family: monospace;\n",
              "  background-color: var(--sklearn-color-background);\n",
              "  border-radius: 1rem;\n",
              "  height: 1rem;\n",
              "  width: 1rem;\n",
              "  text-decoration: none;\n",
              "  /* unfitted */\n",
              "  color: var(--sklearn-color-unfitted-level-1);\n",
              "  border: var(--sklearn-color-unfitted-level-1) 1pt solid;\n",
              "}\n",
              "\n",
              "#sk-container-id-1 a.estimator_doc_link.fitted {\n",
              "  /* fitted */\n",
              "  border: var(--sklearn-color-fitted-level-1) 1pt solid;\n",
              "  color: var(--sklearn-color-fitted-level-1);\n",
              "}\n",
              "\n",
              "/* On hover */\n",
              "#sk-container-id-1 a.estimator_doc_link:hover {\n",
              "  /* unfitted */\n",
              "  background-color: var(--sklearn-color-unfitted-level-3);\n",
              "  color: var(--sklearn-color-background);\n",
              "  text-decoration: none;\n",
              "}\n",
              "\n",
              "#sk-container-id-1 a.estimator_doc_link.fitted:hover {\n",
              "  /* fitted */\n",
              "  background-color: var(--sklearn-color-fitted-level-3);\n",
              "}\n",
              "</style><div id=\"sk-container-id-1\" class=\"sk-top-container\"><div class=\"sk-text-repr-fallback\"><pre>Pipeline(steps=[(&#x27;tf_idf&#x27;, TfidfVectorizer()), (&#x27;clf&#x27;, MultinomialNB())])</pre><b>In a Jupyter environment, please rerun this cell to show the HTML representation or trust the notebook. <br />On GitHub, the HTML representation is unable to render, please try loading this page with nbviewer.org.</b></div><div class=\"sk-container\" hidden><div class=\"sk-item sk-dashed-wrapped\"><div class=\"sk-label-container\"><div class=\"sk-label fitted sk-toggleable\"><input class=\"sk-toggleable__control sk-hidden--visually\" id=\"sk-estimator-id-1\" type=\"checkbox\" ><label for=\"sk-estimator-id-1\" class=\"sk-toggleable__label fitted sk-toggleable__label-arrow fitted\">&nbsp;&nbsp;Pipeline<a class=\"sk-estimator-doc-link fitted\" rel=\"noreferrer\" target=\"_blank\" href=\"https://scikit-learn.org/1.5/modules/generated/sklearn.pipeline.Pipeline.html\">?<span>Documentation for Pipeline</span></a><span class=\"sk-estimator-doc-link fitted\">i<span>Fitted</span></span></label><div class=\"sk-toggleable__content fitted\"><pre>Pipeline(steps=[(&#x27;tf_idf&#x27;, TfidfVectorizer()), (&#x27;clf&#x27;, MultinomialNB())])</pre></div> </div></div><div class=\"sk-serial\"><div class=\"sk-item\"><div class=\"sk-estimator fitted sk-toggleable\"><input class=\"sk-toggleable__control sk-hidden--visually\" id=\"sk-estimator-id-2\" type=\"checkbox\" ><label for=\"sk-estimator-id-2\" class=\"sk-toggleable__label fitted sk-toggleable__label-arrow fitted\">&nbsp;TfidfVectorizer<a class=\"sk-estimator-doc-link fitted\" rel=\"noreferrer\" target=\"_blank\" href=\"https://scikit-learn.org/1.5/modules/generated/sklearn.feature_extraction.text.TfidfVectorizer.html\">?<span>Documentation for TfidfVectorizer</span></a></label><div class=\"sk-toggleable__content fitted\"><pre>TfidfVectorizer()</pre></div> </div></div><div class=\"sk-item\"><div class=\"sk-estimator fitted sk-toggleable\"><input class=\"sk-toggleable__control sk-hidden--visually\" id=\"sk-estimator-id-3\" type=\"checkbox\" ><label for=\"sk-estimator-id-3\" class=\"sk-toggleable__label fitted sk-toggleable__label-arrow fitted\">&nbsp;MultinomialNB<a class=\"sk-estimator-doc-link fitted\" rel=\"noreferrer\" target=\"_blank\" href=\"https://scikit-learn.org/1.5/modules/generated/sklearn.naive_bayes.MultinomialNB.html\">?<span>Documentation for MultinomialNB</span></a></label><div class=\"sk-toggleable__content fitted\"><pre>MultinomialNB()</pre></div> </div></div></div></div></div></div>"
            ]
          },
          "metadata": {},
          "execution_count": 20
        }
      ]
    },
    {
      "cell_type": "code",
      "source": [
        "#Evaluate baseline model on validation dataset\n",
        "model_0.score(X=val_sentences,\n",
        "              y=val_labels_encoded)"
      ],
      "metadata": {
        "colab": {
          "base_uri": "https://localhost:8080/"
        },
        "id": "RBsh7XU94w54",
        "outputId": "9bcd03b1-7c42-469c-eda0-bf756a4dd17a"
      },
      "execution_count": 21,
      "outputs": [
        {
          "output_type": "execute_result",
          "data": {
            "text/plain": [
              "0.7218323844829869"
            ]
          },
          "metadata": {},
          "execution_count": 21
        }
      ]
    },
    {
      "cell_type": "code",
      "source": [
        "#Make predictions using baseline model\n",
        "baseline_preds = model_0.predict(val_sentences)\n",
        "baseline_preds[:20]"
      ],
      "metadata": {
        "colab": {
          "base_uri": "https://localhost:8080/"
        },
        "id": "L02Qf3745iqt",
        "outputId": "a5428c79-3b38-426d-f709-2e403ffe89c7"
      },
      "execution_count": 22,
      "outputs": [
        {
          "output_type": "execute_result",
          "data": {
            "text/plain": [
              "array([4, 1, 3, 2, 2, 2, 2, 2, 4, 4, 0, 4, 1, 1, 2, 2, 4, 1, 4, 4])"
            ]
          },
          "metadata": {},
          "execution_count": 22
        }
      ]
    },
    {
      "cell_type": "markdown",
      "source": [
        "###Download helper functions script\n",
        "calculate_results() function calculates:\n",
        "\n",
        "* Accuracy\n",
        "* Precision\n",
        "* Recall\n",
        "* F1-score"
      ],
      "metadata": {
        "id": "0uEpUEx_7kwY"
      }
    },
    {
      "cell_type": "code",
      "source": [
        "!wget https://raw.githubusercontent.com/mrdbourke/tensorflow-deep-learning/refs/heads/main/extras/helper_functions.py"
      ],
      "metadata": {
        "colab": {
          "base_uri": "https://localhost:8080/"
        },
        "id": "uY9XBMr98qgm",
        "outputId": "2181deb1-9a39-4423-d26c-91a769492811"
      },
      "execution_count": 23,
      "outputs": [
        {
          "output_type": "stream",
          "name": "stdout",
          "text": [
            "--2024-12-10 08:58:07--  https://raw.githubusercontent.com/mrdbourke/tensorflow-deep-learning/refs/heads/main/extras/helper_functions.py\n",
            "Resolving raw.githubusercontent.com (raw.githubusercontent.com)... 185.199.109.133, 185.199.111.133, 185.199.108.133, ...\n",
            "Connecting to raw.githubusercontent.com (raw.githubusercontent.com)|185.199.109.133|:443... connected.\n",
            "HTTP request sent, awaiting response... 200 OK\n",
            "Length: 10246 (10K) [text/plain]\n",
            "Saving to: ‘helper_functions.py’\n",
            "\n",
            "\rhelper_functions.py   0%[                    ]       0  --.-KB/s               \rhelper_functions.py 100%[===================>]  10.01K  --.-KB/s    in 0.001s  \n",
            "\n",
            "2024-12-10 08:58:07 (15.2 MB/s) - ‘helper_functions.py’ saved [10246/10246]\n",
            "\n"
          ]
        }
      ]
    },
    {
      "cell_type": "code",
      "source": [
        "from helper_functions import calculate_results\n",
        "baseline_results = calculate_results(y_true=val_labels_encoded,\n",
        "                                     y_pred=baseline_preds)\n",
        "baseline_results"
      ],
      "metadata": {
        "colab": {
          "base_uri": "https://localhost:8080/"
        },
        "id": "6KC9Fb-S9Cen",
        "outputId": "6d18ceb0-1176-4046-809b-c9941375dde8"
      },
      "execution_count": 24,
      "outputs": [
        {
          "output_type": "execute_result",
          "data": {
            "text/plain": [
              "{'accuracy': 72.1832384482987,\n",
              " 'precision': 0.7186466952323352,\n",
              " 'recall': 0.7218323844829869,\n",
              " 'f1': 0.6989250353450294}"
            ]
          },
          "metadata": {},
          "execution_count": 24
        }
      ]
    },
    {
      "cell_type": "markdown",
      "source": [
        "##Preparing data(the text) for deep sequence models\n",
        "Creating vectorization and embedding layers"
      ],
      "metadata": {
        "id": "vz9PNPcY9qMX"
      }
    },
    {
      "cell_type": "code",
      "source": [
        "import numpy as np\n",
        "import tensorflow as tf\n",
        "from tensorflow.keras.layers import TextVectorization"
      ],
      "metadata": {
        "id": "d2ME-m7t-fLX"
      },
      "execution_count": 25,
      "outputs": []
    },
    {
      "cell_type": "code",
      "source": [
        "#How long is each sentence average\n",
        "sent_lens = [len(sentence.split()) for sentence in train_sentences]\n",
        "avg_sent_len = np.mean(sent_lens)\n",
        "avg_sent_len"
      ],
      "metadata": {
        "colab": {
          "base_uri": "https://localhost:8080/"
        },
        "id": "8ZFc9h4s_S83",
        "outputId": "7ab4796f-0c89-4ad6-dbe4-b74e3f439f68"
      },
      "execution_count": 26,
      "outputs": [
        {
          "output_type": "execute_result",
          "data": {
            "text/plain": [
              "26.338269273494777"
            ]
          },
          "metadata": {},
          "execution_count": 26
        }
      ]
    },
    {
      "cell_type": "code",
      "source": [
        "#What's the distribution look like?\n",
        "import matplotlib.pyplot as plt\n",
        "plt.hist(sent_lens,bins=20)"
      ],
      "metadata": {
        "colab": {
          "base_uri": "https://localhost:8080/",
          "height": 569
        },
        "id": "89WZKsKD_xXH",
        "outputId": "58da53e2-44d0-4b61-e3e3-d70a2e561cce"
      },
      "execution_count": 27,
      "outputs": [
        {
          "output_type": "execute_result",
          "data": {
            "text/plain": [
              "(array([4.2075e+04, 8.3771e+04, 3.6877e+04, 1.0945e+04, 3.9310e+03,\n",
              "        1.4450e+03, 5.6000e+02, 2.2600e+02, 1.0100e+02, 4.5000e+01,\n",
              "        2.0000e+01, 1.2000e+01, 9.0000e+00, 1.0000e+01, 6.0000e+00,\n",
              "        2.0000e+00, 3.0000e+00, 0.0000e+00, 1.0000e+00, 1.0000e+00]),\n",
              " array([  1.  ,  15.75,  30.5 ,  45.25,  60.  ,  74.75,  89.5 , 104.25,\n",
              "        119.  , 133.75, 148.5 , 163.25, 178.  , 192.75, 207.5 , 222.25,\n",
              "        237.  , 251.75, 266.5 , 281.25, 296.  ]),\n",
              " <BarContainer object of 20 artists>)"
            ]
          },
          "metadata": {},
          "execution_count": 27
        },
        {
          "output_type": "display_data",
          "data": {
            "text/plain": [
              "<Figure size 640x480 with 1 Axes>"
            ],
            "image/png": "[encoded data removed]"
          },
          "metadata": {}
        }
      ]
    },
    {
      "cell_type": "code",
      "source": [
        "#How long of a sentence length covers 95% of examples\n",
        "output_seq_len = int(np.percentile(sent_lens, 95))\n",
        "output_seq_len"
      ],
      "metadata": {
        "id": "MdPaZIsC_953",
        "colab": {
          "base_uri": "https://localhost:8080/"
        },
        "outputId": "e6d43873-89bf-4e96-d861-a111f205734f"
      },
      "execution_count": 28,
      "outputs": [
        {
          "output_type": "execute_result",
          "data": {
            "text/plain": [
              "55"
            ]
          },
          "metadata": {},
          "execution_count": 28
        }
      ]
    },
    {
      "cell_type": "code",
      "source": [
        "#Max sequence length in the training set\n",
        "max(sent_lens)"
      ],
      "metadata": {
        "colab": {
          "base_uri": "https://localhost:8080/"
        },
        "id": "9rcPfTw1H4Ec",
        "outputId": "5a82d8b4-474a-467f-eef2-9657a964613a"
      },
      "execution_count": 29,
      "outputs": [
        {
          "output_type": "execute_result",
          "data": {
            "text/plain": [
              "296"
            ]
          },
          "metadata": {},
          "execution_count": 29
        }
      ]
    },
    {
      "cell_type": "markdown",
      "source": [
        "###Create text vectorizer layer\n",
        "Layer which maps our text from words to numbers"
      ],
      "metadata": {
        "id": "QWASthsUIPto"
      }
    },
    {
      "cell_type": "code",
      "source": [
        "#How many words in our vocab\n",
        "max_tokens = 68000"
      ],
      "metadata": {
        "id": "An25LiE1Ik8F"
      },
      "execution_count": 30,
      "outputs": []
    },
    {
      "cell_type": "markdown",
      "source": [
        "sentence length of 55 covers 95% of the training sentences, we'll use that as our output_sequence_length parameter."
      ],
      "metadata": {
        "id": "t3S8qlF4MJ_5"
      }
    },
    {
      "cell_type": "code",
      "source": [
        "#Create text vectorizer\n",
        "from tensorflow.keras.layers import TextVectorization\n",
        "\n",
        "text_vectorizer = TextVectorization(max_tokens=max_tokens, #no.of words in vocab\n",
        "                                    output_sequence_length=output_seq_len #desired o/p length of vectorized sequences\n",
        "                                    )"
      ],
      "metadata": {
        "id": "I7PZADLPJeSM"
      },
      "execution_count": 31,
      "outputs": []
    },
    {
      "cell_type": "code",
      "source": [
        "#Adapt text vectorizer to training sentences\n",
        "text_vectorizer.adapt(train_sentences)"
      ],
      "metadata": {
        "id": "oShP7-7iKEGc"
      },
      "execution_count": 32,
      "outputs": []
    },
    {
      "cell_type": "code",
      "source": [
        "#Testout text vectorizer on random sentences\n",
        "import random\n",
        "target_sentence = random.choice(train_sentences)\n",
        "print(f\"Text:\\n{target_sentence}\")\n",
        "print(f\"\\nLength of text: {len(target_sentence.split())}\")\n",
        "print(f\"\\nVectorized text:\\n{text_vectorizer([target_sentence])}\")"
      ],
      "metadata": {
        "colab": {
          "base_uri": "https://localhost:8080/"
        },
        "id": "OTtDAmkCKX45",
        "outputId": "a782adfe-20f2-4ad9-84b2-a50d1a2acea0"
      },
      "execution_count": 33,
      "outputs": [
        {
          "output_type": "stream",
          "name": "stdout",
          "text": [
            "Text:\n",
            "( @ ) positive rate of blocking antibodies : the positive rate of blocking antibodies were @ % ( @/@ ) , @ % ( @/@ ) , @ % ( @/@ ) and @ % ( @/@ ) in the @ , @ , @ , and @ times of intradermal injection group , respectively ( p < @ ) .\n",
            "\n",
            "Length of text: 62\n",
            "\n",
            "Vectorized text:\n",
            "[[ 280   78    4 5372 2190    2  280   78    4 5372 2190    9    3    5\n",
            "     2    3  361    4 5833  390   13   83   14    0    0    0    0    0\n",
            "     0    0    0    0    0    0    0    0    0    0    0    0    0    0\n",
            "     0    0    0    0    0    0    0    0    0    0    0    0    0]]\n"
          ]
        }
      ]
    },
    {
      "cell_type": "markdown",
      "source": [
        "Using the get_vocabulary() method of text_vectorizer we can find out a few different tidbits about our text.\n",
        "\n",
        "\n",
        "\n"
      ],
      "metadata": {
        "id": "N3Fc46w-Mzoi"
      }
    },
    {
      "cell_type": "code",
      "source": [
        "#How many words in training vocabulary\n",
        "rct_20k_text_vocab = text_vectorizer.get_vocabulary()\n",
        "print(f\"Number of words in vocab: {len(rct_20k_text_vocab)}\")\n",
        "print(f\"Top 5 words in vocab:{(rct_20k_text_vocab[:5])}\")\n",
        "print(f\"Bottom 5 words in vocab:{(rct_20k_text_vocab[-5:])}\")"
      ],
      "metadata": {
        "colab": {
          "base_uri": "https://localhost:8080/"
        },
        "id": "b_PbEuyqNBvq",
        "outputId": "c2fca367-a00e-4785-c2c9-06e4237b39fa"
      },
      "execution_count": 34,
      "outputs": [
        {
          "output_type": "stream",
          "name": "stdout",
          "text": [
            "Number of words in vocab: 64841\n",
            "Top 5 words in vocab:['', '[UNK]', 'the', 'and', 'of']\n",
            "Bottom 5 words in vocab:['aainduced', 'aaigroup', 'aachener', 'aachen', 'aaacp']\n"
          ]
        }
      ]
    },
    {
      "cell_type": "code",
      "source": [
        "#Get config of our text vectorizer\n",
        "text_vectorizer.get_config()"
      ],
      "metadata": {
        "colab": {
          "base_uri": "https://localhost:8080/"
        },
        "id": "tiDgIbPxN_-l",
        "outputId": "dc5af0c0-3b4f-48b9-9c3c-bdf0ccf18a0d"
      },
      "execution_count": 35,
      "outputs": [
        {
          "output_type": "execute_result",
          "data": {
            "text/plain": [
              "{'name': 'text_vectorization',\n",
              " 'trainable': True,\n",
              " 'dtype': {'module': 'keras',\n",
              "  'class_name': 'DTypePolicy',\n",
              "  'config': {'name': 'float32'},\n",
              "  'registered_name': None},\n",
              " 'max_tokens': 68000,\n",
              " 'standardize': 'lower_and_strip_punctuation',\n",
              " 'split': 'whitespace',\n",
              " 'ngrams': None,\n",
              " 'output_mode': 'int',\n",
              " 'output_sequence_length': 55,\n",
              " 'pad_to_max_tokens': False,\n",
              " 'sparse': False,\n",
              " 'ragged': False,\n",
              " 'vocabulary': None,\n",
              " 'idf_weights': None,\n",
              " 'encoding': 'utf-8',\n",
              " 'vocabulary_size': 64841}"
            ]
          },
          "metadata": {},
          "execution_count": 35
        }
      ]
    },
    {
      "cell_type": "markdown",
      "source": [
        "###Creat custom text embedding"
      ],
      "metadata": {
        "id": "bqjrhJSJOhsl"
      }
    },
    {
      "cell_type": "code",
      "source": [
        "from tensorflow.keras import layers\n",
        "# Create token embedding layer\n",
        "token_embed = layers.Embedding(input_dim=len(rct_20k_text_vocab), # length of vocabulary\n",
        "                               output_dim=128,\n",
        "                               mask_zero=True,\n",
        "                               name=\"token_embedding\")\n",
        "\n",
        "# Show example embedding\n",
        "print(f\"Sentence before vectorization:\\n{target_sentence}\\n\")\n",
        "vectorized_sentence = text_vectorizer([target_sentence])\n",
        "print(f\"Sentence after vectorization (before embedding):\\n{vectorized_sentence}\\n\")\n",
        "embedded_sentence = token_embed(vectorized_sentence)\n",
        "print(f\"Sentence after embedding:\\n{embedded_sentence}\\n\")\n",
        "print(f\"Embedded sentence shape: {embedded_sentence.shape}\")"
      ],
      "metadata": {
        "colab": {
          "base_uri": "https://localhost:8080/"
        },
        "id": "3QxyXOZPVsFz",
        "outputId": "30e950a4-b7e0-4252-9d36-750af055d426"
      },
      "execution_count": 36,
      "outputs": [
        {
          "output_type": "stream",
          "name": "stdout",
          "text": [
            "Sentence before vectorization:\n",
            "( @ ) positive rate of blocking antibodies : the positive rate of blocking antibodies were @ % ( @/@ ) , @ % ( @/@ ) , @ % ( @/@ ) and @ % ( @/@ ) in the @ , @ , @ , and @ times of intradermal injection group , respectively ( p < @ ) .\n",
            "\n",
            "Sentence after vectorization (before embedding):\n",
            "[[ 280   78    4 5372 2190    2  280   78    4 5372 2190    9    3    5\n",
            "     2    3  361    4 5833  390   13   83   14    0    0    0    0    0\n",
            "     0    0    0    0    0    0    0    0    0    0    0    0    0    0\n",
            "     0    0    0    0    0    0    0    0    0    0    0    0    0]]\n",
            "\n",
            "Sentence after embedding:\n",
            "[[[-0.02192403  0.02974656  0.03813826 ... -0.02018361  0.01440324\n",
            "    0.00463105]\n",
            "  [-0.00882082 -0.03970345 -0.03725073 ...  0.04484772  0.03694986\n",
            "   -0.03159602]\n",
            "  [ 0.04980997  0.03723988  0.00777913 ... -0.03900649 -0.0283208\n",
            "   -0.0378769 ]\n",
            "  ...\n",
            "  [ 0.01645912 -0.02641052 -0.04146362 ... -0.04531104  0.02340445\n",
            "   -0.01178634]\n",
            "  [ 0.01645912 -0.02641052 -0.04146362 ... -0.04531104  0.02340445\n",
            "   -0.01178634]\n",
            "  [ 0.01645912 -0.02641052 -0.04146362 ... -0.04531104  0.02340445\n",
            "   -0.01178634]]]\n",
            "\n",
            "Embedded sentence shape: (1, 55, 128)\n"
          ]
        }
      ]
    },
    {
      "cell_type": "markdown",
      "source": [
        "##Creating datasets(making sure our data loads as much as possible)\n",
        "Setting up our data to run as fast as possible with Tensorflow tf.data.API"
      ],
      "metadata": {
        "id": "v0MGM5DjPwW8"
      }
    },
    {
      "cell_type": "code",
      "source": [
        "#Turn our data into Tensorflow datasets\n",
        "train_dataset = tf.data.Dataset.from_tensor_slices((train_sentences,train_labels_encoded))\n",
        "val_dataset = tf.data.Dataset.from_tensor_slices((val_sentences,val_labels_encoded))\n",
        "test_dataset = tf.data.Dataset.from_tensor_slices((test_sentences,test_labels_encoded))\n",
        "\n",
        "train_dataset"
      ],
      "metadata": {
        "colab": {
          "base_uri": "https://localhost:8080/"
        },
        "id": "BHaoSPbTQep0",
        "outputId": "4854ac50-462d-4503-93d4-2d1874f5d051"
      },
      "execution_count": 37,
      "outputs": [
        {
          "output_type": "execute_result",
          "data": {
            "text/plain": [
              "<_TensorSliceDataset element_spec=(TensorSpec(shape=(), dtype=tf.string, name=None), TensorSpec(shape=(), dtype=tf.int64, name=None))>"
            ]
          },
          "metadata": {},
          "execution_count": 37
        }
      ]
    },
    {
      "cell_type": "code",
      "source": [
        "#Take the TensorSlice Datasets and turn them into prefetched data\n",
        "train_dataset = train_dataset.batch(32).prefetch(tf.data.AUTOTUNE)\n",
        "val_dataset = val_dataset.batch(32).prefetch(tf.data.AUTOTUNE)\n",
        "test_dataset = test_dataset.batch(32).prefetch(tf.data.AUTOTUNE)\n",
        "train_dataset"
      ],
      "metadata": {
        "colab": {
          "base_uri": "https://localhost:8080/"
        },
        "id": "NGcanOPbQ92i",
        "outputId": "1a048312-0ada-4327-cc0d-177898151251"
      },
      "execution_count": 38,
      "outputs": [
        {
          "output_type": "execute_result",
          "data": {
            "text/plain": [
              "<_PrefetchDataset element_spec=(TensorSpec(shape=(None,), dtype=tf.string, name=None), TensorSpec(shape=(None,), dtype=tf.int64, name=None))>"
            ]
          },
          "metadata": {},
          "execution_count": 38
        }
      ]
    },
    {
      "cell_type": "markdown",
      "source": [
        "##Model 1:Conv1D with token embedding\n",
        "###Architecture\n",
        "Input (text) -> Tokenize -> Embedding -> Layers -> Output (label probability)\n"
      ],
      "metadata": {
        "id": "T8fpuzTTStvh"
      }
    },
    {
      "cell_type": "code",
      "source": [
        "from tensorflow.keras import layers\n",
        "#Create 1D conv model to process sequence\n",
        "inputs = layers.Input(shape=(1,), dtype=tf.string)\n",
        "text_vectors = text_vectorizer(inputs) # vectorize text inputs\n",
        "token_embeddings = token_embed(text_vectors) # create embedding\n",
        "x = layers.Conv1D(64, kernel_size=5, padding=\"same\", activation=\"relu\")(token_embeddings)\n",
        "x = layers.GlobalAveragePooling1D()(x) # condense the output of our feature vector\n",
        "outputs = layers.Dense(num_classes, activation=\"softmax\")(x)\n",
        "model_1 = tf.keras.Model(inputs, outputs)\n",
        "\n",
        "#Compile the model\n",
        "model_1.compile(loss=\"sparse_categorical_crossentropy\", # labels are integer form (not one hot) use sparse_categorical crossentropy\n",
        "                optimizer=tf.keras.optimizers.Adam(),\n",
        "                metrics=[\"accuracy\"])\n",
        "\n",
        "#Fit the model\n",
        "model_1_history = model_1.fit(train_dataset,\n",
        "                              steps_per_epoch=int(0.1 * len(train_dataset)), # only fit on 10% of batches for faster training time\n",
        "                              epochs=3,\n",
        "                              validation_data=val_dataset,\n",
        "                              validation_steps=int(0.1 * len(val_dataset))) # only validate on 10% of batches\n"
      ],
      "metadata": {
        "colab": {
          "base_uri": "https://localhost:8080/"
        },
        "id": "6PKLBxWeS2OS",
        "outputId": "522e49dd-b011-4260-daa0-1a0528a97dc5"
      },
      "execution_count": 39,
      "outputs": [
        {
          "output_type": "stream",
          "name": "stdout",
          "text": [
            "Epoch 1/3\n"
          ]
        },
        {
          "output_type": "stream",
          "name": "stderr",
          "text": [
            "/usr/local/lib/python3.10/dist-packages/keras/src/layers/layer.py:934: UserWarning: Layer 'conv1d' (of type Conv1D) was passed an input with a mask attached to it. However, this layer does not support masking and will therefore destroy the mask information. Downstream layers will not see the mask.\n",
            "  warnings.warn(\n"
          ]
        },
        {
          "output_type": "stream",
          "name": "stdout",
          "text": [
            "\u001b[1m562/562\u001b[0m \u001b[32m━━━━━━━━━━━━━━━━━━━━\u001b[0m\u001b[37m\u001b[0m \u001b[1m9s\u001b[0m 9ms/step - accuracy: 0.5287 - loss: 1.1659 - val_accuracy: 0.7397 - val_loss: 0.6975\n",
            "Epoch 2/3\n",
            "\u001b[1m562/562\u001b[0m \u001b[32m━━━━━━━━━━━━━━━━━━━━\u001b[0m\u001b[37m\u001b[0m \u001b[1m6s\u001b[0m 10ms/step - accuracy: 0.7448 - loss: 0.6847 - val_accuracy: 0.7776 - val_loss: 0.6225\n",
            "Epoch 3/3\n",
            "\u001b[1m562/562\u001b[0m \u001b[32m━━━━━━━━━━━━━━━━━━━━\u001b[0m\u001b[37m\u001b[0m \u001b[1m5s\u001b[0m 9ms/step - accuracy: 0.7722 - loss: 0.6229 - val_accuracy: 0.7896 - val_loss: 0.5892\n"
          ]
        }
      ]
    },
    {
      "cell_type": "code",
      "source": [
        "#Model summary\n",
        "model_1.summary()"
      ],
      "metadata": {
        "id": "fN5QcONAUY0t",
        "colab": {
          "base_uri": "https://localhost:8080/",
          "height": 391
        },
        "outputId": "53702e1a-2944-4f91-a6c0-6b0bc2880093"
      },
      "execution_count": 40,
      "outputs": [
        {
          "output_type": "display_data",
          "data": {
            "text/plain": [
              "\u001b[1mModel: \"functional\"\u001b[0m\n"
            ],
            "text/html": [
              "<pre style=\"white-space:pre;overflow-x:auto;line-height:normal;font-family:Menlo,'DejaVu Sans Mono',consolas,'Courier New',monospace\"><span style=\"font-weight: bold\">Model: \"functional\"</span>\n",
              "</pre>\n"
            ]
          },
          "metadata": {}
        },
        {
          "output_type": "display_data",
          "data": {
            "text/plain": [
              "┏━━━━━━━━━━━━━━━━━━━━━━━━━━━━━━━━━━━━━━┳━━━━━━━━━━━━━━━━━━━━━━━━━━━━━┳━━━━━━━━━━━━━━━━━┓\n",
              "┃\u001b[1m \u001b[0m\u001b[1mLayer (type)                        \u001b[0m\u001b[1m \u001b[0m┃\u001b[1m \u001b[0m\u001b[1mOutput Shape               \u001b[0m\u001b[1m \u001b[0m┃\u001b[1m \u001b[0m\u001b[1m        Param #\u001b[0m\u001b[1m \u001b[0m┃\n",
              "┡━━━━━━━━━━━━━━━━━━━━━━━━━━━━━━━━━━━━━━╇━━━━━━━━━━━━━━━━━━━━━━━━━━━━━╇━━━━━━━━━━━━━━━━━┩\n",
              "│ input_layer (\u001b[38;5;33mInputLayer\u001b[0m)             │ (\u001b[38;5;45mNone\u001b[0m, \u001b[38;5;34m1\u001b[0m)                   │               \u001b[38;5;34m0\u001b[0m │\n",
              "├──────────────────────────────────────┼─────────────────────────────┼─────────────────┤\n",
              "│ text_vectorization                   │ (\u001b[38;5;45mNone\u001b[0m, \u001b[38;5;34m55\u001b[0m)                  │               \u001b[38;5;34m0\u001b[0m │\n",
              "│ (\u001b[38;5;33mTextVectorization\u001b[0m)                  │                             │                 │\n",
              "├──────────────────────────────────────┼─────────────────────────────┼─────────────────┤\n",
              "│ token_embedding (\u001b[38;5;33mEmbedding\u001b[0m)          │ (\u001b[38;5;45mNone\u001b[0m, \u001b[38;5;34m55\u001b[0m, \u001b[38;5;34m128\u001b[0m)             │       \u001b[38;5;34m8,299,648\u001b[0m │\n",
              "├──────────────────────────────────────┼─────────────────────────────┼─────────────────┤\n",
              "│ conv1d (\u001b[38;5;33mConv1D\u001b[0m)                      │ (\u001b[38;5;45mNone\u001b[0m, \u001b[38;5;34m55\u001b[0m, \u001b[38;5;34m64\u001b[0m)              │          \u001b[38;5;34m41,024\u001b[0m │\n",
              "├──────────────────────────────────────┼─────────────────────────────┼─────────────────┤\n",
              "│ global_average_pooling1d             │ (\u001b[38;5;45mNone\u001b[0m, \u001b[38;5;34m64\u001b[0m)                  │               \u001b[38;5;34m0\u001b[0m │\n",
              "│ (\u001b[38;5;33mGlobalAveragePooling1D\u001b[0m)             │                             │                 │\n",
              "├──────────────────────────────────────┼─────────────────────────────┼─────────────────┤\n",
              "│ dense (\u001b[38;5;33mDense\u001b[0m)                        │ (\u001b[38;5;45mNone\u001b[0m, \u001b[38;5;34m5\u001b[0m)                   │             \u001b[38;5;34m325\u001b[0m │\n",
              "└──────────────────────────────────────┴─────────────────────────────┴─────────────────┘\n"
            ],
            "text/html": [
              "<pre style=\"white-space:pre;overflow-x:auto;line-height:normal;font-family:Menlo,'DejaVu Sans Mono',consolas,'Courier New',monospace\">┏━━━━━━━━━━━━━━━━━━━━━━━━━━━━━━━━━━━━━━┳━━━━━━━━━━━━━━━━━━━━━━━━━━━━━┳━━━━━━━━━━━━━━━━━┓\n",
              "┃<span style=\"font-weight: bold\"> Layer (type)                         </span>┃<span style=\"font-weight: bold\"> Output Shape                </span>┃<span style=\"font-weight: bold\">         Param # </span>┃\n",
              "┡━━━━━━━━━━━━━━━━━━━━━━━━━━━━━━━━━━━━━━╇━━━━━━━━━━━━━━━━━━━━━━━━━━━━━╇━━━━━━━━━━━━━━━━━┩\n",
              "│ input_layer (<span style=\"color: #0087ff; text-decoration-color: #0087ff\">InputLayer</span>)             │ (<span style=\"color: #00d7ff; text-decoration-color: #00d7ff\">None</span>, <span style=\"color: #00af00; text-decoration-color: #00af00\">1</span>)                   │               <span style=\"color: #00af00; text-decoration-color: #00af00\">0</span> │\n",
              "├──────────────────────────────────────┼─────────────────────────────┼─────────────────┤\n",
              "│ text_vectorization                   │ (<span style=\"color: #00d7ff; text-decoration-color: #00d7ff\">None</span>, <span style=\"color: #00af00; text-decoration-color: #00af00\">55</span>)                  │               <span style=\"color: #00af00; text-decoration-color: #00af00\">0</span> │\n",
              "│ (<span style=\"color: #0087ff; text-decoration-color: #0087ff\">TextVectorization</span>)                  │                             │                 │\n",
              "├──────────────────────────────────────┼─────────────────────────────┼─────────────────┤\n",
              "│ token_embedding (<span style=\"color: #0087ff; text-decoration-color: #0087ff\">Embedding</span>)          │ (<span style=\"color: #00d7ff; text-decoration-color: #00d7ff\">None</span>, <span style=\"color: #00af00; text-decoration-color: #00af00\">55</span>, <span style=\"color: #00af00; text-decoration-color: #00af00\">128</span>)             │       <span style=\"color: #00af00; text-decoration-color: #00af00\">8,299,648</span> │\n",
              "├──────────────────────────────────────┼─────────────────────────────┼─────────────────┤\n",
              "│ conv1d (<span style=\"color: #0087ff; text-decoration-color: #0087ff\">Conv1D</span>)                      │ (<span style=\"color: #00d7ff; text-decoration-color: #00d7ff\">None</span>, <span style=\"color: #00af00; text-decoration-color: #00af00\">55</span>, <span style=\"color: #00af00; text-decoration-color: #00af00\">64</span>)              │          <span style=\"color: #00af00; text-decoration-color: #00af00\">41,024</span> │\n",
              "├──────────────────────────────────────┼─────────────────────────────┼─────────────────┤\n",
              "│ global_average_pooling1d             │ (<span style=\"color: #00d7ff; text-decoration-color: #00d7ff\">None</span>, <span style=\"color: #00af00; text-decoration-color: #00af00\">64</span>)                  │               <span style=\"color: #00af00; text-decoration-color: #00af00\">0</span> │\n",
              "│ (<span style=\"color: #0087ff; text-decoration-color: #0087ff\">GlobalAveragePooling1D</span>)             │                             │                 │\n",
              "├──────────────────────────────────────┼─────────────────────────────┼─────────────────┤\n",
              "│ dense (<span style=\"color: #0087ff; text-decoration-color: #0087ff\">Dense</span>)                        │ (<span style=\"color: #00d7ff; text-decoration-color: #00d7ff\">None</span>, <span style=\"color: #00af00; text-decoration-color: #00af00\">5</span>)                   │             <span style=\"color: #00af00; text-decoration-color: #00af00\">325</span> │\n",
              "└──────────────────────────────────────┴─────────────────────────────┴─────────────────┘\n",
              "</pre>\n"
            ]
          },
          "metadata": {}
        },
        {
          "output_type": "display_data",
          "data": {
            "text/plain": [
              "\u001b[1m Total params: \u001b[0m\u001b[38;5;34m25,022,993\u001b[0m (95.46 MB)\n"
            ],
            "text/html": [
              "<pre style=\"white-space:pre;overflow-x:auto;line-height:normal;font-family:Menlo,'DejaVu Sans Mono',consolas,'Courier New',monospace\"><span style=\"font-weight: bold\"> Total params: </span><span style=\"color: #00af00; text-decoration-color: #00af00\">25,022,993</span> (95.46 MB)\n",
              "</pre>\n"
            ]
          },
          "metadata": {}
        },
        {
          "output_type": "display_data",
          "data": {
            "text/plain": [
              "\u001b[1m Trainable params: \u001b[0m\u001b[38;5;34m8,340,997\u001b[0m (31.82 MB)\n"
            ],
            "text/html": [
              "<pre style=\"white-space:pre;overflow-x:auto;line-height:normal;font-family:Menlo,'DejaVu Sans Mono',consolas,'Courier New',monospace\"><span style=\"font-weight: bold\"> Trainable params: </span><span style=\"color: #00af00; text-decoration-color: #00af00\">8,340,997</span> (31.82 MB)\n",
              "</pre>\n"
            ]
          },
          "metadata": {}
        },
        {
          "output_type": "display_data",
          "data": {
            "text/plain": [
              "\u001b[1m Non-trainable params: \u001b[0m\u001b[38;5;34m0\u001b[0m (0.00 B)\n"
            ],
            "text/html": [
              "<pre style=\"white-space:pre;overflow-x:auto;line-height:normal;font-family:Menlo,'DejaVu Sans Mono',consolas,'Courier New',monospace\"><span style=\"font-weight: bold\"> Non-trainable params: </span><span style=\"color: #00af00; text-decoration-color: #00af00\">0</span> (0.00 B)\n",
              "</pre>\n"
            ]
          },
          "metadata": {}
        },
        {
          "output_type": "display_data",
          "data": {
            "text/plain": [
              "\u001b[1m Optimizer params: \u001b[0m\u001b[38;5;34m16,681,996\u001b[0m (63.64 MB)\n"
            ],
            "text/html": [
              "<pre style=\"white-space:pre;overflow-x:auto;line-height:normal;font-family:Menlo,'DejaVu Sans Mono',consolas,'Courier New',monospace\"><span style=\"font-weight: bold\"> Optimizer params: </span><span style=\"color: #00af00; text-decoration-color: #00af00\">16,681,996</span> (63.64 MB)\n",
              "</pre>\n"
            ]
          },
          "metadata": {}
        }
      ]
    },
    {
      "cell_type": "code",
      "source": [
        "#Evaluate on whole dataset\n",
        "model_1.evaluate(val_dataset)"
      ],
      "metadata": {
        "colab": {
          "base_uri": "https://localhost:8080/"
        },
        "id": "DMeDg_HdW96-",
        "outputId": "8314bf2a-acb2-46f8-9a54-14bad22fa20f"
      },
      "execution_count": 41,
      "outputs": [
        {
          "output_type": "stream",
          "name": "stdout",
          "text": [
            "\u001b[1m945/945\u001b[0m \u001b[32m━━━━━━━━━━━━━━━━━━━━\u001b[0m\u001b[37m\u001b[0m \u001b[1m2s\u001b[0m 3ms/step - accuracy: 0.7866 - loss: 0.5945\n"
          ]
        },
        {
          "output_type": "execute_result",
          "data": {
            "text/plain": [
              "[0.5964870452880859, 0.786806583404541]"
            ]
          },
          "metadata": {},
          "execution_count": 41
        }
      ]
    },
    {
      "cell_type": "code",
      "source": [
        "#Make predictions\n",
        "model_1_pred_probs = model_1.predict(val_dataset)\n",
        "model_1_pred_probs.shape, model_1_pred_probs[:10]"
      ],
      "metadata": {
        "colab": {
          "base_uri": "https://localhost:8080/"
        },
        "id": "d_T_IhhgXE3O",
        "outputId": "84b31f1b-e617-4fe3-8590-1ad47b99ba39"
      },
      "execution_count": 42,
      "outputs": [
        {
          "output_type": "stream",
          "name": "stdout",
          "text": [
            "\u001b[1m945/945\u001b[0m \u001b[32m━━━━━━━━━━━━━━━━━━━━\u001b[0m\u001b[37m\u001b[0m \u001b[1m2s\u001b[0m 2ms/step\n"
          ]
        },
        {
          "output_type": "execute_result",
          "data": {
            "text/plain": [
              "((30212, 5),\n",
              " array([[4.30807412e-01, 1.13444924e-01, 7.78749064e-02, 3.51955742e-01,\n",
              "         2.59170663e-02],\n",
              "        [4.56687033e-01, 2.63576359e-01, 9.12405085e-03, 2.62610793e-01,\n",
              "         8.00175592e-03],\n",
              "        [1.69060379e-01, 6.48740120e-03, 1.86033663e-03, 8.22546184e-01,\n",
              "         4.57638598e-05],\n",
              "        [1.58460552e-05, 5.02695271e-04, 9.83186007e-01, 1.93363485e-05,\n",
              "         1.62760951e-02],\n",
              "        [9.83691076e-04, 4.77366000e-02, 2.72933245e-01, 9.96341463e-04,\n",
              "         6.77350104e-01],\n",
              "        [2.14979947e-02, 2.99720429e-02, 5.67945838e-01, 1.23863099e-02,\n",
              "         3.68197769e-01],\n",
              "        [5.73191151e-04, 5.93469571e-03, 3.34781587e-01, 4.57559101e-04,\n",
              "         6.58252954e-01],\n",
              "        [2.90323999e-02, 2.71000601e-02, 6.43262327e-01, 1.99362598e-02,\n",
              "         2.80668914e-01],\n",
              "        [1.15839182e-13, 2.45388918e-08, 5.82356705e-08, 7.51172128e-14,\n",
              "         9.99999881e-01],\n",
              "        [9.15863551e-03, 6.68417275e-01, 7.03793168e-02, 2.73121819e-02,\n",
              "         2.24732623e-01]], dtype=float32))"
            ]
          },
          "metadata": {},
          "execution_count": 42
        }
      ]
    },
    {
      "cell_type": "code",
      "source": [
        "#Convert pred probs into classes\n",
        "model_1_preds = tf.argmax(model_1_pred_probs, axis=1)\n",
        "model_1_preds[:10]"
      ],
      "metadata": {
        "colab": {
          "base_uri": "https://localhost:8080/"
        },
        "id": "6RLEAD02XTfZ",
        "outputId": "c4fcb279-f055-4db1-a364-e3dc5f3f6670"
      },
      "execution_count": 43,
      "outputs": [
        {
          "output_type": "execute_result",
          "data": {
            "text/plain": [
              "<tf.Tensor: shape=(10,), dtype=int64, numpy=array([0, 0, 3, 2, 4, 2, 4, 2, 4, 1])>"
            ]
          },
          "metadata": {},
          "execution_count": 43
        }
      ]
    },
    {
      "cell_type": "code",
      "source": [
        "#Calculate model_1 results\n",
        "model_1_results = calculate_results(y_true=val_labels_encoded,\n",
        "                                    y_pred=model_1_preds)\n",
        "model_1_results"
      ],
      "metadata": {
        "colab": {
          "base_uri": "https://localhost:8080/"
        },
        "id": "LeRBn2bEX1Ui",
        "outputId": "9c359197-73ac-4cde-d61a-6363ae14bc4e"
      },
      "execution_count": 44,
      "outputs": [
        {
          "output_type": "execute_result",
          "data": {
            "text/plain": [
              "{'accuracy': 78.68065669270489,\n",
              " 'precision': 0.7836118508263664,\n",
              " 'recall': 0.7868065669270489,\n",
              " 'f1': 0.7847899171508497}"
            ]
          },
          "metadata": {},
          "execution_count": 44
        }
      ]
    },
    {
      "cell_type": "markdown",
      "source": [
        "##Model 2: Feature extraction with pretrained token embeddings\n",
        "Using pretrained Universal Sentence Encoder embeddings from TensorFlow Hub.\n",
        "####Architecture\n",
        "inputs (string) -> Pretrained embeddings from TensorFlow Hub (Universal Sentence Encoder) -> Layers -> Output (prediction probabilities)\n",
        "\n"
      ],
      "metadata": {
        "id": "3s4NJj63YOZb"
      }
    },
    {
      "cell_type": "code",
      "source": [
        "#Download pretrained model from tensorflow hub USE\n",
        "import tensorflow_hub as hub\n",
        "tf_hub_embedding_layer = hub.KerasLayer(\"https://tfhub.dev/google/universal-sentence-encoder/4\",\n",
        "                                    trainable=False,\n",
        "                                    name=\"universal_sentence_encoder\")"
      ],
      "metadata": {
        "id": "TOJklzwbYm04"
      },
      "execution_count": 45,
      "outputs": []
    },
    {
      "cell_type": "code",
      "source": [
        "#Test our pretrained embedding on random sentences\n",
        "random_train_sentence = random.choice(train_sentences)\n",
        "print(f\"Random sentence: {random_train_sentence}\")\n",
        "use_embedded_sentence = tf_hub_embedding_layer([random_train_sentence])\n",
        "print(f\"Sentence after embedding:\\n{use_embedded_sentence}\\n\")\n",
        "print(f\"Length of sentence: {len(random_train_sentence.split())}\")"
      ],
      "metadata": {
        "colab": {
          "base_uri": "https://localhost:8080/"
        },
        "id": "LHA0sM5fZMCD",
        "outputId": "db4d8f59-1b59-474b-eac9-911b537cedb0"
      },
      "execution_count": 46,
      "outputs": [
        {
          "output_type": "stream",
          "name": "stdout",
          "text": [
            "Random sentence: -lsb- corrected -rsb- trailnumber : isrctn@ , date of registration : @ july @ .\n",
            "Sentence after embedding:\n",
            "[[-0.00975676 -0.03463877  0.01225147  0.00772284  0.04839175 -0.03203547\n",
            "  -0.08746412 -0.01137604 -0.04620865 -0.06317698 -0.04497935 -0.08725964\n",
            "   0.01049449 -0.00874486  0.01403114  0.0218117  -0.06732405 -0.05591948\n",
            "  -0.01679449 -0.01573567 -0.07311194  0.00507967  0.08454072  0.05049535\n",
            "   0.00628992  0.02689478  0.03982202  0.03408629  0.0318829  -0.00731542\n",
            "  -0.00581502  0.03311909 -0.02558443 -0.06351867 -0.07644691 -0.00794618\n",
            "  -0.07766658 -0.09385972 -0.0380794  -0.00582857  0.04494705 -0.05779095\n",
            "   0.04285527 -0.02591024  0.06000264  0.04493987  0.04614883  0.04117683\n",
            "  -0.05639419  0.01559992 -0.07276341 -0.06801456 -0.02335907 -0.02876236\n",
            "   0.04234813  0.01657155 -0.01746307 -0.05096338 -0.00311283 -0.05801608\n",
            "  -0.05520957 -0.04454923  0.02488236 -0.00522101  0.02231358 -0.06535204\n",
            "   0.04641252 -0.00349676 -0.04985957  0.03185427  0.06868537 -0.09828207\n",
            "   0.02972328 -0.01087329 -0.00415932  0.08214279 -0.04633876 -0.04856277\n",
            "  -0.03961688 -0.07520864  0.03772419 -0.02293472 -0.03780389  0.05395197\n",
            "   0.03198481 -0.04835499 -0.00625352  0.01070256 -0.00715838 -0.02724375\n",
            "   0.01233373 -0.00983321 -0.0211819   0.03470681 -0.02817769  0.04031406\n",
            "   0.0129962  -0.00587337  0.01936483  0.03335032 -0.02430031  0.0864425\n",
            "  -0.05615345  0.00095201  0.06260286  0.02742687 -0.02389035  0.0756512\n",
            "   0.01310694 -0.04069795  0.04716372  0.01609144  0.06100307 -0.04585386\n",
            "   0.06452556  0.01844081 -0.00919359  0.03036581  0.04704766  0.00547512\n",
            "   0.03886645 -0.02280701  0.05402921 -0.01585789  0.09099572 -0.01093181\n",
            "  -0.04587141  0.01181028  0.0545323   0.00082892  0.05941138  0.00667861\n",
            "  -0.01355711  0.00696183 -0.03894452 -0.01819459  0.01387565  0.01753571\n",
            "   0.05076438 -0.05430905 -0.06375857  0.03290984 -0.01021363  0.01316469\n",
            "  -0.07998776 -0.03292478  0.05250669 -0.0410446  -0.0103164  -0.03364135\n",
            "   0.07788656  0.05756082 -0.03237229 -0.06557279  0.00950614 -0.01937565\n",
            "  -0.00070216 -0.03107046 -0.05709356 -0.01630439 -0.0448334   0.05259253\n",
            "  -0.01282512 -0.03605862  0.01942725  0.04730697 -0.0635384  -0.01391927\n",
            "  -0.04815708  0.09295551  0.0258098  -0.01758383  0.05188629 -0.02339082\n",
            "  -0.06270996  0.01513775  0.00271503  0.07790372  0.03527857  0.06432287\n",
            "  -0.02847339 -0.03953408  0.06668501 -0.07142382 -0.0158948  -0.01992915\n",
            "  -0.0161682   0.03006685  0.02854639  0.02820423 -0.04136763  0.08557173\n",
            "   0.0027833  -0.06022431  0.04346382  0.06291645  0.08919509  0.02319081\n",
            "   0.03918451  0.00266376  0.02588507 -0.01277166  0.00427098  0.03644995\n",
            "  -0.00462076 -0.02100252 -0.08197152 -0.03998542 -0.00815289 -0.03326333\n",
            "  -0.04524199 -0.01482035 -0.05257331 -0.04960859 -0.03028375 -0.04406615\n",
            "   0.03728488  0.05985314  0.05872526 -0.07675649  0.00232878  0.01195088\n",
            "  -0.04184311  0.07218708  0.06081403  0.05818163 -0.00645926  0.05083402\n",
            "  -0.06198034  0.05616235  0.08854406  0.00965428  0.00241281  0.05538502\n",
            "  -0.00239252  0.01221045 -0.07512517  0.02655618 -0.08790203 -0.02326378\n",
            "   0.00337533 -0.04326899  0.05852437  0.01553874 -0.05841346  0.07149775\n",
            "  -0.01929208  0.03262554  0.0075693  -0.02885191 -0.00294063  0.00674525\n",
            "  -0.02012356 -0.05065814 -0.03308497 -0.05067012 -0.07150294 -0.08135725\n",
            "  -0.04699725  0.02669242  0.00132986 -0.08925743 -0.02488364 -0.077906\n",
            "   0.06606673  0.06683825  0.03605317  0.0484059  -0.06979183 -0.01774615\n",
            "  -0.01584673 -0.02237875 -0.01251377 -0.02431764  0.00277522  0.04974363\n",
            "   0.03609436 -0.05353306  0.02030145 -0.0128745  -0.06726647 -0.04456918\n",
            "   0.04464516  0.04619952  0.01714497  0.0698785  -0.00872375  0.01387999\n",
            "   0.04109899 -0.02392365  0.02559556  0.02831373 -0.00093319 -0.0472701\n",
            "  -0.03084948  0.02760062 -0.03633409 -0.04549646  0.062932    0.05339291\n",
            "  -0.01595875 -0.01632089 -0.01524379 -0.00316573 -0.05590454  0.03239727\n",
            "  -0.06795491 -0.06586263 -0.00945715 -0.00255618  0.03146817  0.02521399\n",
            "  -0.00296563  0.06459449  0.08504581  0.01720276  0.02813732 -0.06616402\n",
            "  -0.06155482 -0.03465018  0.00563586 -0.06507327  0.01026277 -0.06380757\n",
            "   0.01276629 -0.00632502 -0.01466238 -0.06767744  0.06565634 -0.0760818\n",
            "   0.04841056 -0.04065609  0.03231219  0.08313813 -0.01523838 -0.02123729\n",
            "   0.02257979  0.01349067  0.0068594   0.07928562 -0.01721825  0.03746242\n",
            "  -0.06545442  0.03105414  0.02737246  0.07295302  0.00206583  0.00226555\n",
            "  -0.05854775 -0.05320306  0.005801   -0.01163084 -0.06181534 -0.02053907\n",
            "   0.00079674  0.05355679 -0.04988972  0.03278604  0.03155061 -0.01744306\n",
            "   0.03397218 -0.00439401 -0.06350721  0.0275319   0.0676811   0.02776113\n",
            "  -0.00973607  0.04643426  0.03774486  0.0379738   0.00548743 -0.00504285\n",
            "   0.03476553 -0.00512135  0.05808369  0.00806272 -0.05797312  0.00237778\n",
            "   0.01518708 -0.01617853 -0.03670543  0.04504328 -0.09244476  0.03933009\n",
            "   0.03787129 -0.04506426  0.06758898  0.05754384  0.02100606  0.0580924\n",
            "   0.03640928  0.01156482 -0.04362622 -0.04964725 -0.04858319  0.02343542\n",
            "  -0.06155814  0.03668776  0.01882374 -0.0448141   0.08743352 -0.00596719\n",
            "  -0.02845775 -0.01254775  0.04347809 -0.01230468  0.02323863 -0.0401772\n",
            "   0.06140682 -0.03463093  0.00048635  0.02215918 -0.01502009  0.03404234\n",
            "  -0.07659346 -0.04300502  0.00787652  0.01332922  0.02954996  0.01867444\n",
            "  -0.03835109  0.03770417  0.06169337 -0.01910727 -0.02369985 -0.05912228\n",
            "  -0.03586017 -0.04814329 -0.02288745  0.05730396  0.088896   -0.03668735\n",
            "   0.01417999  0.10536145 -0.01501246  0.01140061 -0.00993613 -0.05813172\n",
            "  -0.0305911  -0.02780204  0.07457623 -0.06326818 -0.0254113  -0.05746076\n",
            "   0.07155053 -0.03705515 -0.00958913 -0.07028445 -0.04888969  0.00612994\n",
            "   0.03032455  0.01850872 -0.01048068  0.05039474 -0.01709132 -0.04385841\n",
            "  -0.0598604  -0.03536072 -0.01192998  0.01788058  0.04927118  0.02141069\n",
            "   0.01688239 -0.02641132 -0.01529831 -0.01665365 -0.00725321 -0.01572292\n",
            "   0.03388519  0.05596108 -0.00693115  0.02429563 -0.01045296 -0.06952433\n",
            "   0.0605599   0.09979592 -0.03719594 -0.03529933 -0.09177776  0.07033769\n",
            "   0.07802969 -0.04911369  0.0149303  -0.03276809  0.07107426 -0.01234529\n",
            "  -0.03637414 -0.05136277  0.03336137 -0.06870273 -0.059397    0.02423526\n",
            "  -0.00947695 -0.02625838  0.02762851 -0.08860164  0.03380299  0.00968236\n",
            "  -0.04432556 -0.03797135  0.01278695  0.03752207 -0.0771885  -0.01727122\n",
            "   0.09744427  0.00026582 -0.07318914 -0.0376282  -0.01314379  0.03223342\n",
            "  -0.0361795  -0.06315434]]\n",
            "\n",
            "Length of sentence: 15\n"
          ]
        }
      ]
    },
    {
      "cell_type": "markdown",
      "source": [
        "###Building and fitting an NLP feature extraction model using pretrained embeddings Tensorflow hub\n"
      ],
      "metadata": {
        "id": "sqAc8VTqaDNP"
      }
    },
    {
      "cell_type": "markdown",
      "source": [
        "##Model 3:Conv1D with character embeddings\n",
        "\n",
        "The paper we are replacating uses the both combinations os token and character level embeddings\n",
        "\n",
        "The difference between a character and token embedding is that the character embedding is created using sequences split into characters (e.g. hello -> [h, e, l, l, o]) where as a token embedding is created on sequences split into tokens.\n"
      ],
      "metadata": {
        "id": "4Zjp4xT85p0s"
      }
    },
    {
      "cell_type": "markdown",
      "source": [
        "###Character-level-embvedding(Tokinizer)"
      ],
      "metadata": {
        "id": "UMZ153mtKCoa"
      }
    },
    {
      "cell_type": "code",
      "source": [
        "#Make function to split sentences into characters\n",
        "def split_chars(text):\n",
        "  return \"\".join(list(text))\n",
        "  #Text splitting non_character_level sequence into characters\n",
        "  split_chars(random_train_sentence)"
      ],
      "metadata": {
        "id": "10UPs9yIKwPb"
      },
      "execution_count": 48,
      "outputs": []
    },
    {
      "cell_type": "code",
      "source": [
        "#from re import split\n",
        "#Split sequence_level data splits into character_level data splits\n",
        "train_chars = [split_chars(sentence) for sentence in train_sentences]\n",
        "val_chars = [split_chars(sentence) for sentence in val_sentences]\n",
        "test_chars = [split_chars(sentence) for sentence in test_sentences]\n",
        "train_chars[:5]"
      ],
      "metadata": {
        "id": "2btqeCevLXNr",
        "colab": {
          "base_uri": "https://localhost:8080/"
        },
        "outputId": "f44d9edf-f21a-4c33-a320-3c0645cfdf76"
      },
      "execution_count": 49,
      "outputs": [
        {
          "output_type": "execute_result",
          "data": {
            "text/plain": [
              "['to investigate the efficacy of @ weeks of daily low-dose oral prednisolone in improving pain , mobility , and systemic low-grade inflammation in the short term and whether the effect would be sustained at @ weeks in older adults with moderate to severe knee osteoarthritis ( oa ) .',\n",
              " 'a total of @ patients with primary knee oa were randomized @:@ ; @ received @ mg/day of prednisolone and @ received placebo for @ weeks .',\n",
              " 'outcome measures included pain reduction and improvement in function scores and systemic inflammation markers .',\n",
              " 'pain was assessed using the visual analog pain scale ( @-@ mm ) .',\n",
              " 'secondary outcome measures included the western ontario and mcmaster universities osteoarthritis index scores , patient global assessment ( pga ) of the severity of knee oa , and @-min walk distance ( @mwd ) .']"
            ]
          },
          "metadata": {},
          "execution_count": 49
        }
      ]
    },
    {
      "cell_type": "code",
      "source": [
        "#What's the average characters length?\n",
        "chars_len = [len(sentence) for sentence in train_sentences]\n",
        "mean_chars_len = np.mean(chars_len)\n",
        "mean_chars_len"
      ],
      "metadata": {
        "colab": {
          "base_uri": "https://localhost:8080/"
        },
        "id": "G8jJ9dFjXuni",
        "outputId": "46e67999-a861-49b8-a6a3-2d78dd8429b5"
      },
      "execution_count": 50,
      "outputs": [
        {
          "output_type": "execute_result",
          "data": {
            "text/plain": [
              "149.3662574983337"
            ]
          },
          "metadata": {},
          "execution_count": 50
        }
      ]
    },
    {
      "cell_type": "code",
      "source": [
        "#Check the distribution of sequences at character_level\n",
        "import matplotlib.pyplot as plt\n",
        "plt.hist(chars_len,bins=7)"
      ],
      "metadata": {
        "colab": {
          "base_uri": "https://localhost:8080/",
          "height": 517
        },
        "id": "-VP7EN2pYTt8",
        "outputId": "bdd7385f-45e7-43b6-fafe-38e84872cca4"
      },
      "execution_count": 51,
      "outputs": [
        {
          "output_type": "execute_result",
          "data": {
            "text/plain": [
              "(array([1.41175e+05, 3.71110e+04, 1.60000e+03, 1.27000e+02, 2.10000e+01,\n",
              "        5.00000e+00, 1.00000e+00]),\n",
              " array([1.00000000e+00, 1.98857143e+02, 3.96714286e+02, 5.94571429e+02,\n",
              "        7.92428571e+02, 9.90285714e+02, 1.18814286e+03, 1.38600000e+03]),\n",
              " <BarContainer object of 7 artists>)"
            ]
          },
          "metadata": {},
          "execution_count": 51
        },
        {
          "output_type": "display_data",
          "data": {
            "text/plain": [
              "<Figure size 640x480 with 1 Axes>"
            ],
            "image/png": "[encoded data removed]"
          },
          "metadata": {}
        }
      ]
    },
    {
      "cell_type": "code",
      "source": [
        "#Find what characters length covers 95% of sequences?\n",
        "output_seq_char_len = int(np.percentile(chars_len,95))\n",
        "output_seq_char_len"
      ],
      "metadata": {
        "colab": {
          "base_uri": "https://localhost:8080/"
        },
        "id": "-tfxQ5OxZhrK",
        "outputId": "c53cc20f-9381-45cc-bae2-f6e22b00e8b5"
      },
      "execution_count": 52,
      "outputs": [
        {
          "output_type": "execute_result",
          "data": {
            "text/plain": [
              "290"
            ]
          },
          "metadata": {},
          "execution_count": 52
        }
      ]
    },
    {
      "cell_type": "code",
      "source": [
        "#Get all keywords characters\n",
        "import string\n",
        "alpha = string.ascii_lowercase + string.digits + string.punctuation\n",
        "alpha"
      ],
      "metadata": {
        "colab": {
          "base_uri": "https://localhost:8080/",
          "height": 35
        },
        "id": "UY_uD2aZayXQ",
        "outputId": "09bd899b-a837-44e7-d5ab-bdf940cbe3b9"
      },
      "execution_count": 53,
      "outputs": [
        {
          "output_type": "execute_result",
          "data": {
            "text/plain": [
              "'abcdefghijklmnopqrstuvwxyz0123456789!\"#$%&\\'()*+,-./:;<=>?@[\\\\]^_`{|}~'"
            ],
            "application/vnd.google.colaboratory.intrinsic+json": {
              "type": "string"
            }
          },
          "metadata": {},
          "execution_count": 53
        }
      ]
    },
    {
      "cell_type": "code",
      "source": [
        "#Create chars_level token vectorizer instance\n",
        "NUM_CHARS_TOKENS = len(alpha) + 2 #add 2 space and OOV(out of vocabulary)\n",
        "char_vectorizer = TextVectorization(max_tokens=NUM_CHARS_TOKENS,\n",
        "                                   output_mode=\"int\",\n",
        "                                   output_sequence_length=output_seq_char_len,\n",
        "                                    name=\"char_vectorizer\")"
      ],
      "metadata": {
        "id": "ktkUaN6RbDz5"
      },
      "execution_count": 54,
      "outputs": []
    },
    {
      "cell_type": "code",
      "source": [
        "#Adapt chars vectorizer to training chars\n",
        "char_vectorizer.adapt(train_chars)"
      ],
      "metadata": {
        "id": "5zpfylbMbzNI"
      },
      "execution_count": 55,
      "outputs": []
    },
    {
      "cell_type": "code",
      "source": [
        "#Check chars vocab stats\n",
        "char_vocab = char_vectorizer.get_vocabulary()\n",
        "print(f\"Number of characters in vocab is: {len(char_vocab)}\")\n",
        "print(f\"Top 5 characters in vocab: {char_vocab[:5]}\")\n",
        "print(f\"Bottom 5 characters in vocab: {char_vocab[-5]}\")"
      ],
      "metadata": {
        "colab": {
          "base_uri": "https://localhost:8080/"
        },
        "id": "p8ThWsDhcs2Y",
        "outputId": "3b20804d-e2b8-4c5e-8939-8a232c9195d2"
      },
      "execution_count": 56,
      "outputs": [
        {
          "output_type": "stream",
          "name": "stdout",
          "text": [
            "Number of characters in vocab is: 70\n",
            "Top 5 characters in vocab: ['', '[UNK]', 'the', 'and', 'of']\n",
            "Bottom 5 characters in vocab: pain\n"
          ]
        }
      ]
    },
    {
      "cell_type": "code",
      "source": [
        "#Test our character vectorizer\n",
        "random_train_chars = random.choice(train_chars)\n",
        "print(f\"Random sentence: {random_train_chars}\")\n",
        "print(f\"\\n Length of random_train_chars:{len(random_train_chars.split())}\")\n",
        "vectorized_chars = char_vectorizer([random_train_chars])\n",
        "print(f\"\\n Vectorized chars: \\n{vectorized_chars}\")\n",
        "print(f\"\\n length of vectorized chars: {vectorized_chars[0]}\")"
      ],
      "metadata": {
        "colab": {
          "base_uri": "https://localhost:8080/"
        },
        "id": "uYBsH5nCdU8K",
        "outputId": "658c3f4e-c618-4e4f-fdf3-5f64c8ed57da"
      },
      "execution_count": 57,
      "outputs": [
        {
          "output_type": "stream",
          "name": "stdout",
          "text": [
            "Random sentence: a positive association was observed between achieving undetectable serum androgens and psa decline ( testosterone : odds ratio = @ ; @ % confidence interval : @-@ @ ) .\n",
            "\n",
            " Length of random_train_chars:30\n",
            "\n",
            " Vectorized chars: \n",
            "[[ 8  1  1 10  1 30  1  1  1  1  3  1  1  1  1  1  1  1  0  0  0  0  0  0\n",
            "   0  0  0  0  0  0  0  0  0  0  0  0  0  0  0  0  0  0  0  0  0  0  0  0\n",
            "   0  0  0  0  0  0  0  0  0  0  0  0  0  0  0  0  0  0  0  0  0  0  0  0\n",
            "   0  0  0  0  0  0  0  0  0  0  0  0  0  0  0  0  0  0  0  0  0  0  0  0\n",
            "   0  0  0  0  0  0  0  0  0  0  0  0  0  0  0  0  0  0  0  0  0  0  0  0\n",
            "   0  0  0  0  0  0  0  0  0  0  0  0  0  0  0  0  0  0  0  0  0  0  0  0\n",
            "   0  0  0  0  0  0  0  0  0  0  0  0  0  0  0  0  0  0  0  0  0  0  0  0\n",
            "   0  0  0  0  0  0  0  0  0  0  0  0  0  0  0  0  0  0  0  0  0  0  0  0\n",
            "   0  0  0  0  0  0  0  0  0  0  0  0  0  0  0  0  0  0  0  0  0  0  0  0\n",
            "   0  0  0  0  0  0  0  0  0  0  0  0  0  0  0  0  0  0  0  0  0  0  0  0\n",
            "   0  0  0  0  0  0  0  0  0  0  0  0  0  0  0  0  0  0  0  0  0  0  0  0\n",
            "   0  0  0  0  0  0  0  0  0  0  0  0  0  0  0  0  0  0  0  0  0  0  0  0\n",
            "   0  0]]\n",
            "\n",
            " length of vectorized chars: [ 8  1  1 10  1 30  1  1  1  1  3  1  1  1  1  1  1  1  0  0  0  0  0  0\n",
            "  0  0  0  0  0  0  0  0  0  0  0  0  0  0  0  0  0  0  0  0  0  0  0  0\n",
            "  0  0  0  0  0  0  0  0  0  0  0  0  0  0  0  0  0  0  0  0  0  0  0  0\n",
            "  0  0  0  0  0  0  0  0  0  0  0  0  0  0  0  0  0  0  0  0  0  0  0  0\n",
            "  0  0  0  0  0  0  0  0  0  0  0  0  0  0  0  0  0  0  0  0  0  0  0  0\n",
            "  0  0  0  0  0  0  0  0  0  0  0  0  0  0  0  0  0  0  0  0  0  0  0  0\n",
            "  0  0  0  0  0  0  0  0  0  0  0  0  0  0  0  0  0  0  0  0  0  0  0  0\n",
            "  0  0  0  0  0  0  0  0  0  0  0  0  0  0  0  0  0  0  0  0  0  0  0  0\n",
            "  0  0  0  0  0  0  0  0  0  0  0  0  0  0  0  0  0  0  0  0  0  0  0  0\n",
            "  0  0  0  0  0  0  0  0  0  0  0  0  0  0  0  0  0  0  0  0  0  0  0  0\n",
            "  0  0  0  0  0  0  0  0  0  0  0  0  0  0  0  0  0  0  0  0  0  0  0  0\n",
            "  0  0  0  0  0  0  0  0  0  0  0  0  0  0  0  0  0  0  0  0  0  0  0  0\n",
            "  0  0]\n"
          ]
        }
      ]
    },
    {
      "cell_type": "markdown",
      "source": [
        "##Creating a character-level embedding"
      ],
      "metadata": {
        "id": "Echk5iFEfWs1"
      }
    },
    {
      "cell_type": "code",
      "source": [
        "#Create char embedding layer\n",
        "char_embed = layers.Embedding(input_dim=len(char_vocab),\n",
        "                              output_dim=25,#size of character embedding given in paper\n",
        "                              mask_zero=True,\n",
        "                              name=\"char_embedding\")"
      ],
      "metadata": {
        "id": "JMr2gm2UkHIn"
      },
      "execution_count": 58,
      "outputs": []
    },
    {
      "cell_type": "code",
      "source": [
        "#Test our character embedding layer\n",
        "print(f\"Charified text:\\n {random_train_chars}\")\n",
        "char_embed_ex = char_embed(vectorized_chars)\n",
        "print(f\"\\n Embedded chars(after vectorization and embedding): {char_embed_ex}\")\n",
        "print(f\"\\n Embedded chars shape: {char_embed_ex.shape}\")"
      ],
      "metadata": {
        "colab": {
          "base_uri": "https://localhost:8080/"
        },
        "id": "5qnbAsMZoN-x",
        "outputId": "9dc6e188-ff56-41dd-cb43-9bde4dd3db9b"
      },
      "execution_count": 59,
      "outputs": [
        {
          "output_type": "stream",
          "name": "stdout",
          "text": [
            "Charified text:\n",
            " a positive association was observed between achieving undetectable serum androgens and psa decline ( testosterone : odds ratio = @ ; @ % confidence interval : @-@ @ ) .\n",
            "\n",
            " Embedded chars(after vectorization and embedding): [[[-0.02335111 -0.0181812  -0.04820208 ... -0.03250407 -0.03391502\n",
            "   -0.0309893 ]\n",
            "  [-0.01928283  0.02582688 -0.04381082 ... -0.01516136 -0.01259327\n",
            "   -0.01774364]\n",
            "  [-0.01928283  0.02582688 -0.04381082 ... -0.01516136 -0.01259327\n",
            "   -0.01774364]\n",
            "  ...\n",
            "  [ 0.04094613 -0.02651029  0.04315424 ... -0.03320621  0.01432481\n",
            "    0.02227795]\n",
            "  [ 0.04094613 -0.02651029  0.04315424 ... -0.03320621  0.01432481\n",
            "    0.02227795]\n",
            "  [ 0.04094613 -0.02651029  0.04315424 ... -0.03320621  0.01432481\n",
            "    0.02227795]]]\n",
            "\n",
            " Embedded chars shape: (1, 290, 25)\n"
          ]
        }
      ]
    },
    {
      "cell_type": "markdown",
      "source": [
        "###Building a Conv1D model to fit on character embeddings"
      ],
      "metadata": {
        "id": "GMGg1bA9ov5h"
      }
    },
    {
      "cell_type": "markdown",
      "source": [
        "Before fitting our model on the data, we'll create char-level batched `PrefetchedDataset's`."
      ],
      "metadata": {
        "id": "2_NGrYOD7Yld"
      }
    },
    {
      "cell_type": "code",
      "source": [
        "# Define the feature extraction model using TF Hub layer outside of any loop or function\n",
        "inputs = layers.Input(shape=(1,), dtype=\"string\")\n",
        "char_vectors = char_vectorizer(inputs)\n",
        "char_embeddings = char_embed(char_vectors)\n",
        "x = layers.Conv1D(64, kernel_size=5, padding=\"same\", activation=\"relu\")(char_embeddings)\n",
        "x = layers.GlobalMaxPool1D()(x)\n",
        "outputs = layers.Dense(num_classes, activation=\"softmax\")(x)\n",
        "model_3 = tf.keras.Model(inputs=inputs,\n",
        "                         outputs=outputs,\n",
        "                         name=\"model_3_conv1D_char_embedding\")\n",
        "\n",
        "# Compile model outside of any loop or function\n",
        "model_3.compile(loss=\"sparse_categorical_crossentropy\",\n",
        "                optimizer=tf.keras.optimizers.Adam(),\n",
        "                metrics=[\"accuracy\"])\n",
        "\n",
        "model_3.summary()"
      ],
      "metadata": {
        "colab": {
          "base_uri": "https://localhost:8080/",
          "height": 412
        },
        "id": "c26IUyw29xAr",
        "outputId": "545d4da0-f445-45aa-f9b0-8b560c74191c"
      },
      "execution_count": 60,
      "outputs": [
        {
          "output_type": "stream",
          "name": "stderr",
          "text": [
            "/usr/local/lib/python3.10/dist-packages/keras/src/layers/layer.py:934: UserWarning: Layer 'conv1d_1' (of type Conv1D) was passed an input with a mask attached to it. However, this layer does not support masking and will therefore destroy the mask information. Downstream layers will not see the mask.\n",
            "  warnings.warn(\n"
          ]
        },
        {
          "output_type": "display_data",
          "data": {
            "text/plain": [
              "\u001b[1mModel: \"model_3_conv1D_char_embedding\"\u001b[0m\n"
            ],
            "text/html": [
              "<pre style=\"white-space:pre;overflow-x:auto;line-height:normal;font-family:Menlo,'DejaVu Sans Mono',consolas,'Courier New',monospace\"><span style=\"font-weight: bold\">Model: \"model_3_conv1D_char_embedding\"</span>\n",
              "</pre>\n"
            ]
          },
          "metadata": {}
        },
        {
          "output_type": "display_data",
          "data": {
            "text/plain": [
              "┏━━━━━━━━━━━━━━━━━━━━━━━━━━━━━━━━━━━━━━┳━━━━━━━━━━━━━━━━━━━━━━━━━━━━━┳━━━━━━━━━━━━━━━━━┓\n",
              "┃\u001b[1m \u001b[0m\u001b[1mLayer (type)                        \u001b[0m\u001b[1m \u001b[0m┃\u001b[1m \u001b[0m\u001b[1mOutput Shape               \u001b[0m\u001b[1m \u001b[0m┃\u001b[1m \u001b[0m\u001b[1m        Param #\u001b[0m\u001b[1m \u001b[0m┃\n",
              "┡━━━━━━━━━━━━━━━━━━━━━━━━━━━━━━━━━━━━━━╇━━━━━━━━━━━━━━━━━━━━━━━━━━━━━╇━━━━━━━━━━━━━━━━━┩\n",
              "│ input_layer_2 (\u001b[38;5;33mInputLayer\u001b[0m)           │ (\u001b[38;5;45mNone\u001b[0m, \u001b[38;5;34m1\u001b[0m)                   │               \u001b[38;5;34m0\u001b[0m │\n",
              "├──────────────────────────────────────┼─────────────────────────────┼─────────────────┤\n",
              "│ char_vectorizer (\u001b[38;5;33mTextVectorization\u001b[0m)  │ (\u001b[38;5;45mNone\u001b[0m, \u001b[38;5;34m290\u001b[0m)                 │               \u001b[38;5;34m0\u001b[0m │\n",
              "├──────────────────────────────────────┼─────────────────────────────┼─────────────────┤\n",
              "│ char_embedding (\u001b[38;5;33mEmbedding\u001b[0m)           │ (\u001b[38;5;45mNone\u001b[0m, \u001b[38;5;34m290\u001b[0m, \u001b[38;5;34m25\u001b[0m)             │           \u001b[38;5;34m1,750\u001b[0m │\n",
              "├──────────────────────────────────────┼─────────────────────────────┼─────────────────┤\n",
              "│ conv1d_1 (\u001b[38;5;33mConv1D\u001b[0m)                    │ (\u001b[38;5;45mNone\u001b[0m, \u001b[38;5;34m290\u001b[0m, \u001b[38;5;34m64\u001b[0m)             │           \u001b[38;5;34m8,064\u001b[0m │\n",
              "├──────────────────────────────────────┼─────────────────────────────┼─────────────────┤\n",
              "│ global_max_pooling1d                 │ (\u001b[38;5;45mNone\u001b[0m, \u001b[38;5;34m64\u001b[0m)                  │               \u001b[38;5;34m0\u001b[0m │\n",
              "│ (\u001b[38;5;33mGlobalMaxPooling1D\u001b[0m)                 │                             │                 │\n",
              "├──────────────────────────────────────┼─────────────────────────────┼─────────────────┤\n",
              "│ dense_3 (\u001b[38;5;33mDense\u001b[0m)                      │ (\u001b[38;5;45mNone\u001b[0m, \u001b[38;5;34m5\u001b[0m)                   │             \u001b[38;5;34m325\u001b[0m │\n",
              "└──────────────────────────────────────┴─────────────────────────────┴─────────────────┘\n"
            ],
            "text/html": [
              "<pre style=\"white-space:pre;overflow-x:auto;line-height:normal;font-family:Menlo,'DejaVu Sans Mono',consolas,'Courier New',monospace\">┏━━━━━━━━━━━━━━━━━━━━━━━━━━━━━━━━━━━━━━┳━━━━━━━━━━━━━━━━━━━━━━━━━━━━━┳━━━━━━━━━━━━━━━━━┓\n",
              "┃<span style=\"font-weight: bold\"> Layer (type)                         </span>┃<span style=\"font-weight: bold\"> Output Shape                </span>┃<span style=\"font-weight: bold\">         Param # </span>┃\n",
              "┡━━━━━━━━━━━━━━━━━━━━━━━━━━━━━━━━━━━━━━╇━━━━━━━━━━━━━━━━━━━━━━━━━━━━━╇━━━━━━━━━━━━━━━━━┩\n",
              "│ input_layer_2 (<span style=\"color: #0087ff; text-decoration-color: #0087ff\">InputLayer</span>)           │ (<span style=\"color: #00d7ff; text-decoration-color: #00d7ff\">None</span>, <span style=\"color: #00af00; text-decoration-color: #00af00\">1</span>)                   │               <span style=\"color: #00af00; text-decoration-color: #00af00\">0</span> │\n",
              "├──────────────────────────────────────┼─────────────────────────────┼─────────────────┤\n",
              "│ char_vectorizer (<span style=\"color: #0087ff; text-decoration-color: #0087ff\">TextVectorization</span>)  │ (<span style=\"color: #00d7ff; text-decoration-color: #00d7ff\">None</span>, <span style=\"color: #00af00; text-decoration-color: #00af00\">290</span>)                 │               <span style=\"color: #00af00; text-decoration-color: #00af00\">0</span> │\n",
              "├──────────────────────────────────────┼─────────────────────────────┼─────────────────┤\n",
              "│ char_embedding (<span style=\"color: #0087ff; text-decoration-color: #0087ff\">Embedding</span>)           │ (<span style=\"color: #00d7ff; text-decoration-color: #00d7ff\">None</span>, <span style=\"color: #00af00; text-decoration-color: #00af00\">290</span>, <span style=\"color: #00af00; text-decoration-color: #00af00\">25</span>)             │           <span style=\"color: #00af00; text-decoration-color: #00af00\">1,750</span> │\n",
              "├──────────────────────────────────────┼─────────────────────────────┼─────────────────┤\n",
              "│ conv1d_1 (<span style=\"color: #0087ff; text-decoration-color: #0087ff\">Conv1D</span>)                    │ (<span style=\"color: #00d7ff; text-decoration-color: #00d7ff\">None</span>, <span style=\"color: #00af00; text-decoration-color: #00af00\">290</span>, <span style=\"color: #00af00; text-decoration-color: #00af00\">64</span>)             │           <span style=\"color: #00af00; text-decoration-color: #00af00\">8,064</span> │\n",
              "├──────────────────────────────────────┼─────────────────────────────┼─────────────────┤\n",
              "│ global_max_pooling1d                 │ (<span style=\"color: #00d7ff; text-decoration-color: #00d7ff\">None</span>, <span style=\"color: #00af00; text-decoration-color: #00af00\">64</span>)                  │               <span style=\"color: #00af00; text-decoration-color: #00af00\">0</span> │\n",
              "│ (<span style=\"color: #0087ff; text-decoration-color: #0087ff\">GlobalMaxPooling1D</span>)                 │                             │                 │\n",
              "├──────────────────────────────────────┼─────────────────────────────┼─────────────────┤\n",
              "│ dense_3 (<span style=\"color: #0087ff; text-decoration-color: #0087ff\">Dense</span>)                      │ (<span style=\"color: #00d7ff; text-decoration-color: #00d7ff\">None</span>, <span style=\"color: #00af00; text-decoration-color: #00af00\">5</span>)                   │             <span style=\"color: #00af00; text-decoration-color: #00af00\">325</span> │\n",
              "└──────────────────────────────────────┴─────────────────────────────┴─────────────────┘\n",
              "</pre>\n"
            ]
          },
          "metadata": {}
        },
        {
          "output_type": "display_data",
          "data": {
            "text/plain": [
              "\u001b[1m Total params: \u001b[0m\u001b[38;5;34m10,139\u001b[0m (39.61 KB)\n"
            ],
            "text/html": [
              "<pre style=\"white-space:pre;overflow-x:auto;line-height:normal;font-family:Menlo,'DejaVu Sans Mono',consolas,'Courier New',monospace\"><span style=\"font-weight: bold\"> Total params: </span><span style=\"color: #00af00; text-decoration-color: #00af00\">10,139</span> (39.61 KB)\n",
              "</pre>\n"
            ]
          },
          "metadata": {}
        },
        {
          "output_type": "display_data",
          "data": {
            "text/plain": [
              "\u001b[1m Trainable params: \u001b[0m\u001b[38;5;34m10,139\u001b[0m (39.61 KB)\n"
            ],
            "text/html": [
              "<pre style=\"white-space:pre;overflow-x:auto;line-height:normal;font-family:Menlo,'DejaVu Sans Mono',consolas,'Courier New',monospace\"><span style=\"font-weight: bold\"> Trainable params: </span><span style=\"color: #00af00; text-decoration-color: #00af00\">10,139</span> (39.61 KB)\n",
              "</pre>\n"
            ]
          },
          "metadata": {}
        },
        {
          "output_type": "display_data",
          "data": {
            "text/plain": [
              "\u001b[1m Non-trainable params: \u001b[0m\u001b[38;5;34m0\u001b[0m (0.00 B)\n"
            ],
            "text/html": [
              "<pre style=\"white-space:pre;overflow-x:auto;line-height:normal;font-family:Menlo,'DejaVu Sans Mono',consolas,'Courier New',monospace\"><span style=\"font-weight: bold\"> Non-trainable params: </span><span style=\"color: #00af00; text-decoration-color: #00af00\">0</span> (0.00 B)\n",
              "</pre>\n"
            ]
          },
          "metadata": {}
        }
      ]
    },
    {
      "cell_type": "code",
      "source": [
        "# Create char datasets (using integer labels for sparse_categorical_crossentropy)\n",
        "train_char_dataset = tf.data.Dataset.from_tensor_slices((train_chars, train_labels_encoded)).batch(32).prefetch(tf.data.AUTOTUNE)\n",
        "val_char_dataset = tf.data.Dataset.from_tensor_slices((val_chars, val_labels_encoded)).batch(32).prefetch(tf.data.AUTOTUNE)"
      ],
      "metadata": {
        "id": "XfY2ncPO9nBT"
      },
      "execution_count": 61,
      "outputs": []
    },
    {
      "cell_type": "code",
      "source": [
        "# Fit the model on chars only\n",
        "model_3_history = model_3.fit(train_char_dataset,\n",
        "                              steps_per_epoch=int(0.1 * len(train_char_dataset)),\n",
        "                              epochs=3,\n",
        "                              validation_data=val_char_dataset,\n",
        "                              validation_steps=int(0.1 * len(val_char_dataset)))"
      ],
      "metadata": {
        "colab": {
          "base_uri": "https://localhost:8080/"
        },
        "id": "tRZNGgTf9Phr",
        "outputId": "0037f85a-4baf-4c2c-a6c4-c2e65a18582c"
      },
      "execution_count": 62,
      "outputs": [
        {
          "output_type": "stream",
          "name": "stdout",
          "text": [
            "Epoch 1/3\n",
            "\u001b[1m562/562\u001b[0m \u001b[32m━━━━━━━━━━━━━━━━━━━━\u001b[0m\u001b[37m\u001b[0m \u001b[1m4s\u001b[0m 5ms/step - accuracy: 0.4613 - loss: 1.2734 - val_accuracy: 0.6323 - val_loss: 0.8922\n",
            "Epoch 2/3\n",
            "\u001b[1m562/562\u001b[0m \u001b[32m━━━━━━━━━━━━━━━━━━━━\u001b[0m\u001b[37m\u001b[0m \u001b[1m4s\u001b[0m 6ms/step - accuracy: 0.6443 - loss: 0.8894 - val_accuracy: 0.6755 - val_loss: 0.8254\n",
            "Epoch 3/3\n",
            "\u001b[1m562/562\u001b[0m \u001b[32m━━━━━━━━━━━━━━━━━━━━\u001b[0m\u001b[37m\u001b[0m \u001b[1m3s\u001b[0m 5ms/step - accuracy: 0.6628 - loss: 0.8461 - val_accuracy: 0.6752 - val_loss: 0.8275\n"
          ]
        }
      ]
    },
    {
      "cell_type": "code",
      "source": [
        "# Evaluate model_3 on whole validation char dataset\n",
        "model_3.evaluate(val_char_dataset)"
      ],
      "metadata": {
        "colab": {
          "base_uri": "https://localhost:8080/"
        },
        "id": "JSOFf_oL5fBo",
        "outputId": "fc6f64d2-010f-4ea6-848b-400a0b183459"
      },
      "execution_count": 63,
      "outputs": [
        {
          "output_type": "stream",
          "name": "stdout",
          "text": [
            "\u001b[1m945/945\u001b[0m \u001b[32m━━━━━━━━━━━━━━━━━━━━\u001b[0m\u001b[37m\u001b[0m \u001b[1m3s\u001b[0m 3ms/step - accuracy: 0.6807 - loss: 0.8112\n"
          ]
        },
        {
          "output_type": "execute_result",
          "data": {
            "text/plain": [
              "[0.8125186562538147, 0.6824440360069275]"
            ]
          },
          "metadata": {},
          "execution_count": 63
        }
      ]
    },
    {
      "cell_type": "code",
      "source": [
        "# Make predictions with character model only\n",
        "model_3_pred_probs = model_3.predict(val_char_dataset)\n",
        "model_3_pred_probs[:10]"
      ],
      "metadata": {
        "colab": {
          "base_uri": "https://localhost:8080/"
        },
        "id": "TnuXYHLo5oWs",
        "outputId": "f33ffcc1-8e4e-4c8b-b283-d146b3cefac5"
      },
      "execution_count": 64,
      "outputs": [
        {
          "output_type": "stream",
          "name": "stdout",
          "text": [
            "\u001b[1m945/945\u001b[0m \u001b[32m━━━━━━━━━━━━━━━━━━━━\u001b[0m\u001b[37m\u001b[0m \u001b[1m2s\u001b[0m 2ms/step\n"
          ]
        },
        {
          "output_type": "execute_result",
          "data": {
            "text/plain": [
              "array([[3.6515826e-01, 4.6416289e-01, 2.4001664e-02, 1.3681999e-01,\n",
              "        9.8571843e-03],\n",
              "       [3.1540045e-01, 5.3131652e-01, 1.5487842e-02, 1.2267316e-01,\n",
              "        1.5122066e-02],\n",
              "       [4.7756663e-01, 1.0069722e-01, 6.2711090e-02, 3.5353673e-01,\n",
              "        5.4883272e-03],\n",
              "       [6.1388155e-03, 2.1733068e-02, 7.9873717e-01, 2.0966507e-03,\n",
              "        1.7129423e-01],\n",
              "       [3.7597918e-03, 2.6551243e-02, 5.2337998e-01, 1.2565983e-03,\n",
              "        4.4505236e-01],\n",
              "       [3.5747592e-04, 8.1857410e-04, 5.3733987e-01, 1.0320963e-04,\n",
              "        4.6138087e-01],\n",
              "       [4.8639784e-03, 3.7556835e-02, 5.0079077e-01, 1.3804106e-03,\n",
              "        4.5540804e-01],\n",
              "       [8.2077213e-02, 1.4780883e-01, 2.5800177e-01, 4.0910009e-02,\n",
              "        4.7120219e-01],\n",
              "       [2.9754944e-04, 1.0302898e-03, 4.2595272e-03, 8.7843579e-04,\n",
              "        9.9353421e-01],\n",
              "       [1.1318073e-02, 3.2576747e-02, 7.9536086e-01, 1.4399714e-02,\n",
              "        1.4634457e-01]], dtype=float32)"
            ]
          },
          "metadata": {},
          "execution_count": 64
        }
      ]
    },
    {
      "cell_type": "code",
      "source": [
        "# Convert predictions to classes\n",
        "model_3_preds = tf.argmax(model_3_pred_probs, axis=1)\n",
        "model_3_preds"
      ],
      "metadata": {
        "colab": {
          "base_uri": "https://localhost:8080/"
        },
        "id": "kXqqMI_6-RAc",
        "outputId": "1dfbc831-49a4-4416-d77c-5dbc6a35e1ef"
      },
      "execution_count": 65,
      "outputs": [
        {
          "output_type": "execute_result",
          "data": {
            "text/plain": [
              "<tf.Tensor: shape=(30212,), dtype=int64, numpy=array([1, 1, 0, ..., 4, 4, 0])>"
            ]
          },
          "metadata": {},
          "execution_count": 65
        }
      ]
    },
    {
      "cell_type": "code",
      "source": [
        "# Calculate Conv1D char only model results\n",
        "model_3_results = calculate_results(y_true=val_labels_encoded,\n",
        "                                        y_pred=model_3_preds)\n",
        "model_3_results"
      ],
      "metadata": {
        "colab": {
          "base_uri": "https://localhost:8080/"
        },
        "id": "WxJzBfcG-VsF",
        "outputId": "354deaba-07c6-4c70-e2ab-ad07652e4de0"
      },
      "execution_count": 66,
      "outputs": [
        {
          "output_type": "execute_result",
          "data": {
            "text/plain": [
              "{'accuracy': 68.24440619621342,\n",
              " 'precision': 0.685786420250566,\n",
              " 'recall': 0.6824440619621343,\n",
              " 'f1': 0.6811277614835535}"
            ]
          },
          "metadata": {},
          "execution_count": 66
        }
      ]
    },
    {
      "cell_type": "markdown",
      "source": [
        "##Model 4: Combining pretrained token embeddngs + character embeddings(hybrid embedding layer)"
      ],
      "metadata": {
        "id": "FX1Ald_B-YhZ"
      }
    },
    {
      "cell_type": "markdown",
      "source": [
        "1. Create a token-level embedding model(similar `model 1`)\n",
        "2. Create a character-level model(similar to `model_3` with slight modification)\n",
        "3. Combining 1 & 2 with a concatenate(`using layers.Concatenate`) the outputs of 1 and 2\n",
        "4. Build a series of output layers on top of 3 similar to Figure 1 and section 4.2 of [Neural Networks for Joint Sentence Classification in Medical Paper Abstracts](https://arxiv.org/abs/1612.05251)\n",
        "5. Construct a model which takes token and character-level sequences as input and produces sequence label probabilities as output"
      ],
      "metadata": {
        "id": "XWK618ZA-yDt"
      }
    },
    {
      "cell_type": "code",
      "source": [
        "# 1. Setup token inputs/model\n",
        "token_inputs = layers.Input(shape=[], dtype=tf.string, name=\"token_input\")\n",
        "# Wrap the TensorFlow Hub layer in a Lambda layer\n",
        "token_embeddings = layers.Lambda(lambda x: tf_hub_embedding_layer(tf.cast(x, tf.string)))(token_inputs)\n",
        "token_output = layers.Dense(128, activation=\"relu\")(token_embeddings)\n",
        "token_model = tf.keras.Model(inputs=token_inputs,\n",
        "                             outputs=token_output)\n",
        "# 2. Setup char inputs/model\n",
        "char_inputs = layers.Input(shape=(1,), dtype=tf.string, name=\"char_input\")\n",
        "char_vectors = char_vectorizer(char_inputs)\n",
        "char_embeddings = char_embed(char_vectors)\n",
        "\n",
        "# Add a Masking layer to ensure right-padding\n",
        "char_embeddings = layers.Masking(mask_value=0)(char_embeddings)  # Mask padding values (0)\n",
        "\n",
        "char_bi_lstm = layers.Bidirectional(layers.LSTM(25))(char_embeddings) # bi-LSTM\n",
        "char_model = tf.keras.Model(inputs=char_inputs,\n",
        "                            outputs=char_bi_lstm)\n",
        "\n",
        "# 3. Concatenate token and char inputs (create hybrid token embedding)\n",
        "token_char_concat = layers.Concatenate(name=\"token_char_hybrid\")([token_model.output,\n",
        "                                                                  char_model.output])\n",
        "\n",
        "# 4. Create output layers - addition of dropout discussed in 4.2 of https://arxiv.org/pdf/1612.05251.pdf\n",
        "combined_dropout = layers.Dropout(0.5)(token_char_concat)\n",
        "combined_dense = layers.Dense(200, activation=\"relu\")(combined_dropout) # slightly different to Figure 1 due to different shapes of token/char embedding layers\n",
        "final_dropout = layers.Dropout(0.5)(combined_dense)\n",
        "output_layer = layers.Dense(num_classes, activation=\"softmax\")(final_dropout)\n",
        "\n",
        "# 5. Construct model with char and token inputs\n",
        "model_4 = tf.keras.Model(inputs=[token_model.input, char_model.input],\n",
        "                         outputs=output_layer,\n",
        "                         name=\"model_4_token_and_char_embeddings\")\n"
      ],
      "metadata": {
        "id": "r9Z8UJe9CP7d"
      },
      "execution_count": 67,
      "outputs": []
    },
    {
      "cell_type": "code",
      "source": [
        "model_4.summary()"
      ],
      "metadata": {
        "colab": {
          "base_uri": "https://localhost:8080/",
          "height": 714
        },
        "id": "tdF6Blp0CWR8",
        "outputId": "69f13e9e-534f-45b9-98b2-d2c731ddb208"
      },
      "execution_count": 68,
      "outputs": [
        {
          "output_type": "display_data",
          "data": {
            "text/plain": [
              "\u001b[1mModel: \"model_4_token_and_char_embeddings\"\u001b[0m\n"
            ],
            "text/html": [
              "<pre style=\"white-space:pre;overflow-x:auto;line-height:normal;font-family:Menlo,'DejaVu Sans Mono',consolas,'Courier New',monospace\"><span style=\"font-weight: bold\">Model: \"model_4_token_and_char_embeddings\"</span>\n",
              "</pre>\n"
            ]
          },
          "metadata": {}
        },
        {
          "output_type": "display_data",
          "data": {
            "text/plain": [
              "┏━━━━━━━━━━━━━━━━━━━━━━━━━━━┳━━━━━━━━━━━━━━━━━━━━━━━━┳━━━━━━━━━━━━━━━━┳━━━━━━━━━━━━━━━━━━━━━━━━┓\n",
              "┃\u001b[1m \u001b[0m\u001b[1mLayer (type)             \u001b[0m\u001b[1m \u001b[0m┃\u001b[1m \u001b[0m\u001b[1mOutput Shape          \u001b[0m\u001b[1m \u001b[0m┃\u001b[1m \u001b[0m\u001b[1m       Param #\u001b[0m\u001b[1m \u001b[0m┃\u001b[1m \u001b[0m\u001b[1mConnected to          \u001b[0m\u001b[1m \u001b[0m┃\n",
              "┡━━━━━━━━━━━━━━━━━━━━━━━━━━━╇━━━━━━━━━━━━━━━━━━━━━━━━╇━━━━━━━━━━━━━━━━╇━━━━━━━━━━━━━━━━━━━━━━━━┩\n",
              "│ char_input (\u001b[38;5;33mInputLayer\u001b[0m)   │ (\u001b[38;5;45mNone\u001b[0m, \u001b[38;5;34m1\u001b[0m)              │              \u001b[38;5;34m0\u001b[0m │ -                      │\n",
              "├───────────────────────────┼────────────────────────┼────────────────┼────────────────────────┤\n",
              "│ char_vectorizer           │ (\u001b[38;5;45mNone\u001b[0m, \u001b[38;5;34m290\u001b[0m)            │              \u001b[38;5;34m0\u001b[0m │ char_input[\u001b[38;5;34m0\u001b[0m][\u001b[38;5;34m0\u001b[0m]       │\n",
              "│ (\u001b[38;5;33mTextVectorization\u001b[0m)       │                        │                │                        │\n",
              "├───────────────────────────┼────────────────────────┼────────────────┼────────────────────────┤\n",
              "│ char_embedding            │ (\u001b[38;5;45mNone\u001b[0m, \u001b[38;5;34m290\u001b[0m, \u001b[38;5;34m25\u001b[0m)        │          \u001b[38;5;34m1,750\u001b[0m │ char_vectorizer[\u001b[38;5;34m1\u001b[0m][\u001b[38;5;34m0\u001b[0m]  │\n",
              "│ (\u001b[38;5;33mEmbedding\u001b[0m)               │                        │                │                        │\n",
              "├───────────────────────────┼────────────────────────┼────────────────┼────────────────────────┤\n",
              "│ token_input (\u001b[38;5;33mInputLayer\u001b[0m)  │ (\u001b[38;5;45mNone\u001b[0m)                 │              \u001b[38;5;34m0\u001b[0m │ -                      │\n",
              "├───────────────────────────┼────────────────────────┼────────────────┼────────────────────────┤\n",
              "│ not_equal_3 (\u001b[38;5;33mNotEqual\u001b[0m)    │ (\u001b[38;5;45mNone\u001b[0m, \u001b[38;5;34m290\u001b[0m, \u001b[38;5;34m25\u001b[0m)        │              \u001b[38;5;34m0\u001b[0m │ char_embedding[\u001b[38;5;34m1\u001b[0m][\u001b[38;5;34m0\u001b[0m]   │\n",
              "├───────────────────────────┼────────────────────────┼────────────────┼────────────────────────┤\n",
              "│ lambda_1 (\u001b[38;5;33mLambda\u001b[0m)         │ (\u001b[38;5;45mNone\u001b[0m, \u001b[38;5;34m512\u001b[0m)            │              \u001b[38;5;34m0\u001b[0m │ token_input[\u001b[38;5;34m0\u001b[0m][\u001b[38;5;34m0\u001b[0m]      │\n",
              "├───────────────────────────┼────────────────────────┼────────────────┼────────────────────────┤\n",
              "│ masking (\u001b[38;5;33mMasking\u001b[0m)         │ (\u001b[38;5;45mNone\u001b[0m, \u001b[38;5;34m290\u001b[0m, \u001b[38;5;34m25\u001b[0m)        │              \u001b[38;5;34m0\u001b[0m │ char_embedding[\u001b[38;5;34m1\u001b[0m][\u001b[38;5;34m0\u001b[0m]   │\n",
              "├───────────────────────────┼────────────────────────┼────────────────┼────────────────────────┤\n",
              "│ any (\u001b[38;5;33mAny\u001b[0m)                 │ (\u001b[38;5;45mNone\u001b[0m, \u001b[38;5;34m290\u001b[0m)            │              \u001b[38;5;34m0\u001b[0m │ not_equal_3[\u001b[38;5;34m0\u001b[0m][\u001b[38;5;34m0\u001b[0m]      │\n",
              "├───────────────────────────┼────────────────────────┼────────────────┼────────────────────────┤\n",
              "│ dense_4 (\u001b[38;5;33mDense\u001b[0m)           │ (\u001b[38;5;45mNone\u001b[0m, \u001b[38;5;34m128\u001b[0m)            │         \u001b[38;5;34m65,664\u001b[0m │ lambda_1[\u001b[38;5;34m0\u001b[0m][\u001b[38;5;34m0\u001b[0m]         │\n",
              "├───────────────────────────┼────────────────────────┼────────────────┼────────────────────────┤\n",
              "│ bidirectional             │ (\u001b[38;5;45mNone\u001b[0m, \u001b[38;5;34m50\u001b[0m)             │         \u001b[38;5;34m10,200\u001b[0m │ masking[\u001b[38;5;34m0\u001b[0m][\u001b[38;5;34m0\u001b[0m],         │\n",
              "│ (\u001b[38;5;33mBidirectional\u001b[0m)           │                        │                │ any[\u001b[38;5;34m0\u001b[0m][\u001b[38;5;34m0\u001b[0m]              │\n",
              "├───────────────────────────┼────────────────────────┼────────────────┼────────────────────────┤\n",
              "│ token_char_hybrid         │ (\u001b[38;5;45mNone\u001b[0m, \u001b[38;5;34m178\u001b[0m)            │              \u001b[38;5;34m0\u001b[0m │ dense_4[\u001b[38;5;34m0\u001b[0m][\u001b[38;5;34m0\u001b[0m],         │\n",
              "│ (\u001b[38;5;33mConcatenate\u001b[0m)             │                        │                │ bidirectional[\u001b[38;5;34m0\u001b[0m][\u001b[38;5;34m0\u001b[0m]    │\n",
              "├───────────────────────────┼────────────────────────┼────────────────┼────────────────────────┤\n",
              "│ dropout (\u001b[38;5;33mDropout\u001b[0m)         │ (\u001b[38;5;45mNone\u001b[0m, \u001b[38;5;34m178\u001b[0m)            │              \u001b[38;5;34m0\u001b[0m │ token_char_hybrid[\u001b[38;5;34m0\u001b[0m][\u001b[38;5;34m…\u001b[0m │\n",
              "├───────────────────────────┼────────────────────────┼────────────────┼────────────────────────┤\n",
              "│ dense_5 (\u001b[38;5;33mDense\u001b[0m)           │ (\u001b[38;5;45mNone\u001b[0m, \u001b[38;5;34m200\u001b[0m)            │         \u001b[38;5;34m35,800\u001b[0m │ dropout[\u001b[38;5;34m0\u001b[0m][\u001b[38;5;34m0\u001b[0m]          │\n",
              "├───────────────────────────┼────────────────────────┼────────────────┼────────────────────────┤\n",
              "│ dropout_1 (\u001b[38;5;33mDropout\u001b[0m)       │ (\u001b[38;5;45mNone\u001b[0m, \u001b[38;5;34m200\u001b[0m)            │              \u001b[38;5;34m0\u001b[0m │ dense_5[\u001b[38;5;34m0\u001b[0m][\u001b[38;5;34m0\u001b[0m]          │\n",
              "├───────────────────────────┼────────────────────────┼────────────────┼────────────────────────┤\n",
              "│ dense_6 (\u001b[38;5;33mDense\u001b[0m)           │ (\u001b[38;5;45mNone\u001b[0m, \u001b[38;5;34m5\u001b[0m)              │          \u001b[38;5;34m1,005\u001b[0m │ dropout_1[\u001b[38;5;34m0\u001b[0m][\u001b[38;5;34m0\u001b[0m]        │\n",
              "└───────────────────────────┴────────────────────────┴────────────────┴────────────────────────┘\n"
            ],
            "text/html": [
              "<pre style=\"white-space:pre;overflow-x:auto;line-height:normal;font-family:Menlo,'DejaVu Sans Mono',consolas,'Courier New',monospace\">┏━━━━━━━━━━━━━━━━━━━━━━━━━━━┳━━━━━━━━━━━━━━━━━━━━━━━━┳━━━━━━━━━━━━━━━━┳━━━━━━━━━━━━━━━━━━━━━━━━┓\n",
              "┃<span style=\"font-weight: bold\"> Layer (type)              </span>┃<span style=\"font-weight: bold\"> Output Shape           </span>┃<span style=\"font-weight: bold\">        Param # </span>┃<span style=\"font-weight: bold\"> Connected to           </span>┃\n",
              "┡━━━━━━━━━━━━━━━━━━━━━━━━━━━╇━━━━━━━━━━━━━━━━━━━━━━━━╇━━━━━━━━━━━━━━━━╇━━━━━━━━━━━━━━━━━━━━━━━━┩\n",
              "│ char_input (<span style=\"color: #0087ff; text-decoration-color: #0087ff\">InputLayer</span>)   │ (<span style=\"color: #00d7ff; text-decoration-color: #00d7ff\">None</span>, <span style=\"color: #00af00; text-decoration-color: #00af00\">1</span>)              │              <span style=\"color: #00af00; text-decoration-color: #00af00\">0</span> │ -                      │\n",
              "├───────────────────────────┼────────────────────────┼────────────────┼────────────────────────┤\n",
              "│ char_vectorizer           │ (<span style=\"color: #00d7ff; text-decoration-color: #00d7ff\">None</span>, <span style=\"color: #00af00; text-decoration-color: #00af00\">290</span>)            │              <span style=\"color: #00af00; text-decoration-color: #00af00\">0</span> │ char_input[<span style=\"color: #00af00; text-decoration-color: #00af00\">0</span>][<span style=\"color: #00af00; text-decoration-color: #00af00\">0</span>]       │\n",
              "│ (<span style=\"color: #0087ff; text-decoration-color: #0087ff\">TextVectorization</span>)       │                        │                │                        │\n",
              "├───────────────────────────┼────────────────────────┼────────────────┼────────────────────────┤\n",
              "│ char_embedding            │ (<span style=\"color: #00d7ff; text-decoration-color: #00d7ff\">None</span>, <span style=\"color: #00af00; text-decoration-color: #00af00\">290</span>, <span style=\"color: #00af00; text-decoration-color: #00af00\">25</span>)        │          <span style=\"color: #00af00; text-decoration-color: #00af00\">1,750</span> │ char_vectorizer[<span style=\"color: #00af00; text-decoration-color: #00af00\">1</span>][<span style=\"color: #00af00; text-decoration-color: #00af00\">0</span>]  │\n",
              "│ (<span style=\"color: #0087ff; text-decoration-color: #0087ff\">Embedding</span>)               │                        │                │                        │\n",
              "├───────────────────────────┼────────────────────────┼────────────────┼────────────────────────┤\n",
              "│ token_input (<span style=\"color: #0087ff; text-decoration-color: #0087ff\">InputLayer</span>)  │ (<span style=\"color: #00d7ff; text-decoration-color: #00d7ff\">None</span>)                 │              <span style=\"color: #00af00; text-decoration-color: #00af00\">0</span> │ -                      │\n",
              "├───────────────────────────┼────────────────────────┼────────────────┼────────────────────────┤\n",
              "│ not_equal_3 (<span style=\"color: #0087ff; text-decoration-color: #0087ff\">NotEqual</span>)    │ (<span style=\"color: #00d7ff; text-decoration-color: #00d7ff\">None</span>, <span style=\"color: #00af00; text-decoration-color: #00af00\">290</span>, <span style=\"color: #00af00; text-decoration-color: #00af00\">25</span>)        │              <span style=\"color: #00af00; text-decoration-color: #00af00\">0</span> │ char_embedding[<span style=\"color: #00af00; text-decoration-color: #00af00\">1</span>][<span style=\"color: #00af00; text-decoration-color: #00af00\">0</span>]   │\n",
              "├───────────────────────────┼────────────────────────┼────────────────┼────────────────────────┤\n",
              "│ lambda_1 (<span style=\"color: #0087ff; text-decoration-color: #0087ff\">Lambda</span>)         │ (<span style=\"color: #00d7ff; text-decoration-color: #00d7ff\">None</span>, <span style=\"color: #00af00; text-decoration-color: #00af00\">512</span>)            │              <span style=\"color: #00af00; text-decoration-color: #00af00\">0</span> │ token_input[<span style=\"color: #00af00; text-decoration-color: #00af00\">0</span>][<span style=\"color: #00af00; text-decoration-color: #00af00\">0</span>]      │\n",
              "├───────────────────────────┼────────────────────────┼────────────────┼────────────────────────┤\n",
              "│ masking (<span style=\"color: #0087ff; text-decoration-color: #0087ff\">Masking</span>)         │ (<span style=\"color: #00d7ff; text-decoration-color: #00d7ff\">None</span>, <span style=\"color: #00af00; text-decoration-color: #00af00\">290</span>, <span style=\"color: #00af00; text-decoration-color: #00af00\">25</span>)        │              <span style=\"color: #00af00; text-decoration-color: #00af00\">0</span> │ char_embedding[<span style=\"color: #00af00; text-decoration-color: #00af00\">1</span>][<span style=\"color: #00af00; text-decoration-color: #00af00\">0</span>]   │\n",
              "├───────────────────────────┼────────────────────────┼────────────────┼────────────────────────┤\n",
              "│ any (<span style=\"color: #0087ff; text-decoration-color: #0087ff\">Any</span>)                 │ (<span style=\"color: #00d7ff; text-decoration-color: #00d7ff\">None</span>, <span style=\"color: #00af00; text-decoration-color: #00af00\">290</span>)            │              <span style=\"color: #00af00; text-decoration-color: #00af00\">0</span> │ not_equal_3[<span style=\"color: #00af00; text-decoration-color: #00af00\">0</span>][<span style=\"color: #00af00; text-decoration-color: #00af00\">0</span>]      │\n",
              "├───────────────────────────┼────────────────────────┼────────────────┼────────────────────────┤\n",
              "│ dense_4 (<span style=\"color: #0087ff; text-decoration-color: #0087ff\">Dense</span>)           │ (<span style=\"color: #00d7ff; text-decoration-color: #00d7ff\">None</span>, <span style=\"color: #00af00; text-decoration-color: #00af00\">128</span>)            │         <span style=\"color: #00af00; text-decoration-color: #00af00\">65,664</span> │ lambda_1[<span style=\"color: #00af00; text-decoration-color: #00af00\">0</span>][<span style=\"color: #00af00; text-decoration-color: #00af00\">0</span>]         │\n",
              "├───────────────────────────┼────────────────────────┼────────────────┼────────────────────────┤\n",
              "│ bidirectional             │ (<span style=\"color: #00d7ff; text-decoration-color: #00d7ff\">None</span>, <span style=\"color: #00af00; text-decoration-color: #00af00\">50</span>)             │         <span style=\"color: #00af00; text-decoration-color: #00af00\">10,200</span> │ masking[<span style=\"color: #00af00; text-decoration-color: #00af00\">0</span>][<span style=\"color: #00af00; text-decoration-color: #00af00\">0</span>],         │\n",
              "│ (<span style=\"color: #0087ff; text-decoration-color: #0087ff\">Bidirectional</span>)           │                        │                │ any[<span style=\"color: #00af00; text-decoration-color: #00af00\">0</span>][<span style=\"color: #00af00; text-decoration-color: #00af00\">0</span>]              │\n",
              "├───────────────────────────┼────────────────────────┼────────────────┼────────────────────────┤\n",
              "│ token_char_hybrid         │ (<span style=\"color: #00d7ff; text-decoration-color: #00d7ff\">None</span>, <span style=\"color: #00af00; text-decoration-color: #00af00\">178</span>)            │              <span style=\"color: #00af00; text-decoration-color: #00af00\">0</span> │ dense_4[<span style=\"color: #00af00; text-decoration-color: #00af00\">0</span>][<span style=\"color: #00af00; text-decoration-color: #00af00\">0</span>],         │\n",
              "│ (<span style=\"color: #0087ff; text-decoration-color: #0087ff\">Concatenate</span>)             │                        │                │ bidirectional[<span style=\"color: #00af00; text-decoration-color: #00af00\">0</span>][<span style=\"color: #00af00; text-decoration-color: #00af00\">0</span>]    │\n",
              "├───────────────────────────┼────────────────────────┼────────────────┼────────────────────────┤\n",
              "│ dropout (<span style=\"color: #0087ff; text-decoration-color: #0087ff\">Dropout</span>)         │ (<span style=\"color: #00d7ff; text-decoration-color: #00d7ff\">None</span>, <span style=\"color: #00af00; text-decoration-color: #00af00\">178</span>)            │              <span style=\"color: #00af00; text-decoration-color: #00af00\">0</span> │ token_char_hybrid[<span style=\"color: #00af00; text-decoration-color: #00af00\">0</span>][<span style=\"color: #00af00; text-decoration-color: #00af00\">…</span> │\n",
              "├───────────────────────────┼────────────────────────┼────────────────┼────────────────────────┤\n",
              "│ dense_5 (<span style=\"color: #0087ff; text-decoration-color: #0087ff\">Dense</span>)           │ (<span style=\"color: #00d7ff; text-decoration-color: #00d7ff\">None</span>, <span style=\"color: #00af00; text-decoration-color: #00af00\">200</span>)            │         <span style=\"color: #00af00; text-decoration-color: #00af00\">35,800</span> │ dropout[<span style=\"color: #00af00; text-decoration-color: #00af00\">0</span>][<span style=\"color: #00af00; text-decoration-color: #00af00\">0</span>]          │\n",
              "├───────────────────────────┼────────────────────────┼────────────────┼────────────────────────┤\n",
              "│ dropout_1 (<span style=\"color: #0087ff; text-decoration-color: #0087ff\">Dropout</span>)       │ (<span style=\"color: #00d7ff; text-decoration-color: #00d7ff\">None</span>, <span style=\"color: #00af00; text-decoration-color: #00af00\">200</span>)            │              <span style=\"color: #00af00; text-decoration-color: #00af00\">0</span> │ dense_5[<span style=\"color: #00af00; text-decoration-color: #00af00\">0</span>][<span style=\"color: #00af00; text-decoration-color: #00af00\">0</span>]          │\n",
              "├───────────────────────────┼────────────────────────┼────────────────┼────────────────────────┤\n",
              "│ dense_6 (<span style=\"color: #0087ff; text-decoration-color: #0087ff\">Dense</span>)           │ (<span style=\"color: #00d7ff; text-decoration-color: #00d7ff\">None</span>, <span style=\"color: #00af00; text-decoration-color: #00af00\">5</span>)              │          <span style=\"color: #00af00; text-decoration-color: #00af00\">1,005</span> │ dropout_1[<span style=\"color: #00af00; text-decoration-color: #00af00\">0</span>][<span style=\"color: #00af00; text-decoration-color: #00af00\">0</span>]        │\n",
              "└───────────────────────────┴────────────────────────┴────────────────┴────────────────────────┘\n",
              "</pre>\n"
            ]
          },
          "metadata": {}
        },
        {
          "output_type": "display_data",
          "data": {
            "text/plain": [
              "\u001b[1m Total params: \u001b[0m\u001b[38;5;34m114,419\u001b[0m (446.95 KB)\n"
            ],
            "text/html": [
              "<pre style=\"white-space:pre;overflow-x:auto;line-height:normal;font-family:Menlo,'DejaVu Sans Mono',consolas,'Courier New',monospace\"><span style=\"font-weight: bold\"> Total params: </span><span style=\"color: #00af00; text-decoration-color: #00af00\">114,419</span> (446.95 KB)\n",
              "</pre>\n"
            ]
          },
          "metadata": {}
        },
        {
          "output_type": "display_data",
          "data": {
            "text/plain": [
              "\u001b[1m Trainable params: \u001b[0m\u001b[38;5;34m114,419\u001b[0m (446.95 KB)\n"
            ],
            "text/html": [
              "<pre style=\"white-space:pre;overflow-x:auto;line-height:normal;font-family:Menlo,'DejaVu Sans Mono',consolas,'Courier New',monospace\"><span style=\"font-weight: bold\"> Trainable params: </span><span style=\"color: #00af00; text-decoration-color: #00af00\">114,419</span> (446.95 KB)\n",
              "</pre>\n"
            ]
          },
          "metadata": {}
        },
        {
          "output_type": "display_data",
          "data": {
            "text/plain": [
              "\u001b[1m Non-trainable params: \u001b[0m\u001b[38;5;34m0\u001b[0m (0.00 B)\n"
            ],
            "text/html": [
              "<pre style=\"white-space:pre;overflow-x:auto;line-height:normal;font-family:Menlo,'DejaVu Sans Mono',consolas,'Courier New',monospace\"><span style=\"font-weight: bold\"> Non-trainable params: </span><span style=\"color: #00af00; text-decoration-color: #00af00\">0</span> (0.00 B)\n",
              "</pre>\n"
            ]
          },
          "metadata": {}
        }
      ]
    },
    {
      "cell_type": "code",
      "source": [
        "# Plot hybrid token and character model\n",
        "from tensorflow.keras.utils import plot_model\n",
        "plot_model(model_4)"
      ],
      "metadata": {
        "colab": {
          "base_uri": "https://localhost:8080/",
          "height": 1000
        },
        "id": "CUe2QjzEDeAH",
        "outputId": "6c6e43c6-87d7-4d9e-ab9e-50ba1f86f391"
      },
      "execution_count": 69,
      "outputs": [
        {
          "output_type": "execute_result",
          "data": {
            "image/png": "[encoded data removed]",
            "text/plain": [
              "<IPython.core.display.Image object>"
            ]
          },
          "metadata": {},
          "execution_count": 69
        }
      ]
    },
    {
      "cell_type": "code",
      "source": [
        "# Compile token char model\n",
        "model_4.compile(loss=\"categorical_crossentropy\",\n",
        "                optimizer=tf.keras.optimizers.Adam(),\n",
        "                metrics=[\"accuracy\"])"
      ],
      "metadata": {
        "id": "znE8XHsxDlKF"
      },
      "execution_count": 70,
      "outputs": []
    },
    {
      "cell_type": "markdown",
      "source": [
        "###Combining token and character data into a `tf.data` `dataset`"
      ],
      "metadata": {
        "id": "Q45vaQiSDzRg"
      }
    },
    {
      "cell_type": "code",
      "source": [
        "# Combine chars and tokens into a dataset\n",
        "train_char_token_data = tf.data.Dataset.from_tensor_slices((train_sentences, train_chars)) # make data\n",
        "train_char_token_labels = tf.data.Dataset.from_tensor_slices(train_labels_one_hot) # make labels\n",
        "train_char_token_dataset = tf.data.Dataset.zip((train_char_token_data, train_char_token_labels)) # combine data and labels\n",
        "\n",
        "# Prefetch and batch train data\n",
        "train_char_token_dataset = train_char_token_dataset.batch(32).prefetch(tf.data.AUTOTUNE)\n",
        "\n",
        "# Repeat same steps validation data\n",
        "val_char_token_data = tf.data.Dataset.from_tensor_slices((val_sentences, val_chars))\n",
        "val_char_token_labels = tf.data.Dataset.from_tensor_slices(val_labels_one_hot)\n",
        "val_char_token_dataset = tf.data.Dataset.zip((val_char_token_data, val_char_token_labels))\n",
        "val_char_token_dataset = val_char_token_dataset.batch(32).prefetch(tf.data.AUTOTUNE)"
      ],
      "metadata": {
        "id": "8abpdRLxD9w6"
      },
      "execution_count": 71,
      "outputs": []
    },
    {
      "cell_type": "code",
      "source": [
        "# Check out training char and token embedding dataset\n",
        "train_char_token_dataset, val_char_token_dataset"
      ],
      "metadata": {
        "colab": {
          "base_uri": "https://localhost:8080/"
        },
        "id": "1fg1wedSEAkW",
        "outputId": "908d5b8c-f6a1-4df4-c5b5-d2fa702d4490"
      },
      "execution_count": 72,
      "outputs": [
        {
          "output_type": "execute_result",
          "data": {
            "text/plain": [
              "(<_PrefetchDataset element_spec=((TensorSpec(shape=(None,), dtype=tf.string, name=None), TensorSpec(shape=(None,), dtype=tf.string, name=None)), TensorSpec(shape=(None, 5), dtype=tf.float64, name=None))>,\n",
              " <_PrefetchDataset element_spec=((TensorSpec(shape=(None,), dtype=tf.string, name=None), TensorSpec(shape=(None,), dtype=tf.string, name=None)), TensorSpec(shape=(None, 5), dtype=tf.float64, name=None))>)"
            ]
          },
          "metadata": {},
          "execution_count": 72
        }
      ]
    },
    {
      "cell_type": "markdown",
      "source": [
        "###Fitting a model on token and character-level sequences"
      ],
      "metadata": {
        "id": "rlRwIqArEDjK"
      }
    },
    {
      "cell_type": "code",
      "source": [
        "# Fit the model on tokens and chars\n",
        "model_4_history = model_4.fit(train_char_token_dataset, # train on dataset of token and characters\n",
        "                              steps_per_epoch=int(0.1 * len(train_char_token_dataset)),\n",
        "                              epochs=3,\n",
        "                              validation_data=val_char_token_dataset,\n",
        "                              validation_steps=int(0.1 * len(val_char_token_dataset)))"
      ],
      "metadata": {
        "colab": {
          "base_uri": "https://localhost:8080/"
        },
        "id": "nFYMgdokELoi",
        "outputId": "bcb58640-1215-4113-e919-d4883a58a87a"
      },
      "execution_count": 92,
      "outputs": [
        {
          "output_type": "stream",
          "name": "stdout",
          "text": [
            "Epoch 1/3\n",
            "\u001b[1m562/562\u001b[0m \u001b[32m━━━━━━━━━━━━━━━━━━━━\u001b[0m\u001b[37m\u001b[0m \u001b[1m32s\u001b[0m 57ms/step - accuracy: 0.7322 - loss: 0.7272 - val_accuracy: 0.7530 - val_loss: 0.6393\n",
            "Epoch 2/3\n",
            "\u001b[1m562/562\u001b[0m \u001b[32m━━━━━━━━━━━━━━━━━━━━\u001b[0m\u001b[37m\u001b[0m \u001b[1m20s\u001b[0m 35ms/step - accuracy: 0.7434 - loss: 0.6812 - val_accuracy: 0.7620 - val_loss: 0.6136\n",
            "Epoch 3/3\n",
            "\u001b[1m562/562\u001b[0m \u001b[32m━━━━━━━━━━━━━━━━━━━━\u001b[0m\u001b[37m\u001b[0m \u001b[1m19s\u001b[0m 33ms/step - accuracy: 0.7481 - loss: 0.6620 - val_accuracy: 0.7616 - val_loss: 0.6252\n"
          ]
        }
      ]
    },
    {
      "cell_type": "code",
      "source": [
        "# Evaluate on the whole validation dataset\n",
        "model_4.evaluate(val_char_token_dataset)"
      ],
      "metadata": {
        "colab": {
          "base_uri": "https://localhost:8080/"
        },
        "id": "ZijXKTWcEPnS",
        "outputId": "65648db9-c065-445b-da1f-71abacb4bd32"
      },
      "execution_count": 74,
      "outputs": [
        {
          "metadata": {
            "tags": null
          },
          "name": "stdout",
          "output_type": "stream",
          "text": [
            "\u001b[1m945/945\u001b[0m \u001b[32m━━━━━━━━━━━━━━━━━━━━\u001b[0m\u001b[37m\u001b[0m \u001b[1m29s\u001b[0m 31ms/step - accuracy: 0.7497 - loss: 0.6493\n"
          ]
        },
        {
          "data": {
            "text/plain": [
              "[0.6474890112876892, 0.7517873644828796]"
            ]
          },
          "execution_count": 74,
          "metadata": {},
          "output_type": "execute_result"
        }
      ]
    },
    {
      "cell_type": "code",
      "source": [
        "# Make predictions using the token-character model hybrid\n",
        "model_4_pred_probs = model_4.predict(val_char_token_dataset)\n",
        "model_4_pred_probs"
      ],
      "metadata": {
        "colab": {
          "base_uri": "https://localhost:8080/"
        },
        "id": "3QuX_772FQi4",
        "outputId": "6865b446-7c29-4389-b3f3-0e08fcf44c77"
      },
      "execution_count": 75,
      "outputs": [
        {
          "output_type": "stream",
          "name": "stdout",
          "text": [
            "\u001b[1m945/945\u001b[0m \u001b[32m━━━━━━━━━━━━━━━━━━━━\u001b[0m\u001b[37m\u001b[0m \u001b[1m19s\u001b[0m 20ms/step\n"
          ]
        },
        {
          "output_type": "execute_result",
          "data": {
            "text/plain": [
              "array([[0.3955389 , 0.26068348, 0.0032926 , 0.33600307, 0.004482  ],\n",
              "       [0.24794863, 0.624866  , 0.00384591, 0.1212227 , 0.00211679],\n",
              "       [0.2372644 , 0.04324143, 0.01784004, 0.6966335 , 0.00502063],\n",
              "       ...,\n",
              "       [0.00532513, 0.02868393, 0.15301007, 0.00258672, 0.8103941 ],\n",
              "       [0.00998976, 0.06520357, 0.15989152, 0.00495911, 0.75995606],\n",
              "       [0.40860176, 0.34034026, 0.17071104, 0.03671408, 0.04363283]],\n",
              "      dtype=float32)"
            ]
          },
          "metadata": {},
          "execution_count": 75
        }
      ]
    },
    {
      "cell_type": "code",
      "source": [
        "# Turn prediction probabilities into prediction classes\n",
        "model_4_preds = tf.argmax(model_4_pred_probs, axis=1)\n",
        "model_4_preds"
      ],
      "metadata": {
        "id": "uZIYlrDwFUxY"
      },
      "execution_count": null,
      "outputs": []
    },
    {
      "cell_type": "code",
      "source": [
        "# Get results of token-char-hybrid model\n",
        "model_4_results = calculate_results(y_true=val_labels_encoded,\n",
        "                                    y_pred=model_4_preds)\n",
        "model_4_results"
      ],
      "metadata": {
        "colab": {
          "base_uri": "https://localhost:8080/"
        },
        "id": "_pIpsWk8FX-F",
        "outputId": "aa1c01b5-a49e-403e-efeb-fe115a28af27"
      },
      "execution_count": 77,
      "outputs": [
        {
          "output_type": "execute_result",
          "data": {
            "text/plain": [
              "{'accuracy': 75.17873692572488,\n",
              " 'precision': 0.7506902463089494,\n",
              " 'recall': 0.7517873692572488,\n",
              " 'f1': 0.7488576446552347}"
            ]
          },
          "metadata": {},
          "execution_count": 77
        }
      ]
    },
    {
      "cell_type": "markdown",
      "source": [
        "##Model 5: Transfer Learning with pretrained token embeddings + character embeddings + positional embeddings"
      ],
      "metadata": {
        "id": "_1BAuDiFFcuK"
      }
    },
    {
      "cell_type": "markdown",
      "source": [
        "**Note:** Any engineered features used to train a model need to be available at test time.In this case,line numbers and total lines are available"
      ],
      "metadata": {
        "id": "TbpDtk5xxbzl"
      }
    },
    {
      "cell_type": "markdown",
      "source": [
        "###Creating positional embeddings"
      ],
      "metadata": {
        "id": "YiUqMqlIyUCh"
      }
    },
    {
      "cell_type": "code",
      "source": [
        "#How many different line numbers are there?\n",
        "train_df[\"line_number\"].value_counts()"
      ],
      "metadata": {
        "colab": {
          "base_uri": "https://localhost:8080/",
          "height": 1000
        },
        "id": "8gnxniHEyeWx",
        "outputId": "e53bf831-df80-48cb-e75a-b834c1fab815"
      },
      "execution_count": 78,
      "outputs": [
        {
          "output_type": "execute_result",
          "data": {
            "text/plain": [
              "line_number\n",
              "0     15000\n",
              "1     15000\n",
              "2     15000\n",
              "3     15000\n",
              "4     14992\n",
              "5     14949\n",
              "6     14758\n",
              "7     14279\n",
              "8     13346\n",
              "9     11981\n",
              "10    10041\n",
              "11     7892\n",
              "12     5853\n",
              "13     4152\n",
              "14     2835\n",
              "15     1861\n",
              "16     1188\n",
              "17      751\n",
              "18      462\n",
              "19      286\n",
              "20      162\n",
              "21      101\n",
              "22       66\n",
              "23       33\n",
              "24       22\n",
              "25       14\n",
              "26        7\n",
              "27        4\n",
              "28        3\n",
              "29        1\n",
              "30        1\n",
              "Name: count, dtype: int64"
            ],
            "text/html": [
              "<div>\n",
              "<style scoped>\n",
              "    .dataframe tbody tr th:only-of-type {\n",
              "        vertical-align: middle;\n",
              "    }\n",
              "\n",
              "    .dataframe tbody tr th {\n",
              "        vertical-align: top;\n",
              "    }\n",
              "\n",
              "    .dataframe thead th {\n",
              "        text-align: right;\n",
              "    }\n",
              "</style>\n",
              "<table border=\"1\" class=\"dataframe\">\n",
              "  <thead>\n",
              "    <tr style=\"text-align: right;\">\n",
              "      <th></th>\n",
              "      <th>count</th>\n",
              "    </tr>\n",
              "    <tr>\n",
              "      <th>line_number</th>\n",
              "      <th></th>\n",
              "    </tr>\n",
              "  </thead>\n",
              "  <tbody>\n",
              "    <tr>\n",
              "      <th>0</th>\n",
              "      <td>15000</td>\n",
              "    </tr>\n",
              "    <tr>\n",
              "      <th>1</th>\n",
              "      <td>15000</td>\n",
              "    </tr>\n",
              "    <tr>\n",
              "      <th>2</th>\n",
              "      <td>15000</td>\n",
              "    </tr>\n",
              "    <tr>\n",
              "      <th>3</th>\n",
              "      <td>15000</td>\n",
              "    </tr>\n",
              "    <tr>\n",
              "      <th>4</th>\n",
              "      <td>14992</td>\n",
              "    </tr>\n",
              "    <tr>\n",
              "      <th>5</th>\n",
              "      <td>14949</td>\n",
              "    </tr>\n",
              "    <tr>\n",
              "      <th>6</th>\n",
              "      <td>14758</td>\n",
              "    </tr>\n",
              "    <tr>\n",
              "      <th>7</th>\n",
              "      <td>14279</td>\n",
              "    </tr>\n",
              "    <tr>\n",
              "      <th>8</th>\n",
              "      <td>13346</td>\n",
              "    </tr>\n",
              "    <tr>\n",
              "      <th>9</th>\n",
              "      <td>11981</td>\n",
              "    </tr>\n",
              "    <tr>\n",
              "      <th>10</th>\n",
              "      <td>10041</td>\n",
              "    </tr>\n",
              "    <tr>\n",
              "      <th>11</th>\n",
              "      <td>7892</td>\n",
              "    </tr>\n",
              "    <tr>\n",
              "      <th>12</th>\n",
              "      <td>5853</td>\n",
              "    </tr>\n",
              "    <tr>\n",
              "      <th>13</th>\n",
              "      <td>4152</td>\n",
              "    </tr>\n",
              "    <tr>\n",
              "      <th>14</th>\n",
              "      <td>2835</td>\n",
              "    </tr>\n",
              "    <tr>\n",
              "      <th>15</th>\n",
              "      <td>1861</td>\n",
              "    </tr>\n",
              "    <tr>\n",
              "      <th>16</th>\n",
              "      <td>1188</td>\n",
              "    </tr>\n",
              "    <tr>\n",
              "      <th>17</th>\n",
              "      <td>751</td>\n",
              "    </tr>\n",
              "    <tr>\n",
              "      <th>18</th>\n",
              "      <td>462</td>\n",
              "    </tr>\n",
              "    <tr>\n",
              "      <th>19</th>\n",
              "      <td>286</td>\n",
              "    </tr>\n",
              "    <tr>\n",
              "      <th>20</th>\n",
              "      <td>162</td>\n",
              "    </tr>\n",
              "    <tr>\n",
              "      <th>21</th>\n",
              "      <td>101</td>\n",
              "    </tr>\n",
              "    <tr>\n",
              "      <th>22</th>\n",
              "      <td>66</td>\n",
              "    </tr>\n",
              "    <tr>\n",
              "      <th>23</th>\n",
              "      <td>33</td>\n",
              "    </tr>\n",
              "    <tr>\n",
              "      <th>24</th>\n",
              "      <td>22</td>\n",
              "    </tr>\n",
              "    <tr>\n",
              "      <th>25</th>\n",
              "      <td>14</td>\n",
              "    </tr>\n",
              "    <tr>\n",
              "      <th>26</th>\n",
              "      <td>7</td>\n",
              "    </tr>\n",
              "    <tr>\n",
              "      <th>27</th>\n",
              "      <td>4</td>\n",
              "    </tr>\n",
              "    <tr>\n",
              "      <th>28</th>\n",
              "      <td>3</td>\n",
              "    </tr>\n",
              "    <tr>\n",
              "      <th>29</th>\n",
              "      <td>1</td>\n",
              "    </tr>\n",
              "    <tr>\n",
              "      <th>30</th>\n",
              "      <td>1</td>\n",
              "    </tr>\n",
              "  </tbody>\n",
              "</table>\n",
              "</div><br><label><b>dtype:</b> int64</label>"
            ]
          },
          "metadata": {},
          "execution_count": 78
        }
      ]
    },
    {
      "cell_type": "code",
      "source": [
        "#Distribution of \"line_number\" column checking\n",
        "train_df.line_number.plot.hist()"
      ],
      "metadata": {
        "colab": {
          "base_uri": "https://localhost:8080/",
          "height": 447
        },
        "id": "cwSolP34yo7U",
        "outputId": "b4c078ec-75fa-45b3-8904-1ff4b53629e6"
      },
      "execution_count": 79,
      "outputs": [
        {
          "output_type": "execute_result",
          "data": {
            "text/plain": [
              "<Axes: ylabel='Frequency'>"
            ]
          },
          "metadata": {},
          "execution_count": 79
        },
        {
          "output_type": "display_data",
          "data": {
            "text/plain": [
              "<Figure size 640x480 with 1 Axes>"
            ],
            "image/png": "[encoded data removed]"
          },
          "metadata": {}
        }
      ]
    },
    {
      "cell_type": "code",
      "source": [
        "#Using Tensorflow to create one_hot_encoding tensors for line_number\n",
        "train_line_number_one_hot = tf.one_hot(train_df[\"line_number\"].to_numpy(),depth=15)\n",
        "val_line_number_one_hot = tf.one_hot(val_df[\"line_number\"].to_numpy(),depth=15)\n",
        "test_line_number_one_hot = tf.one_hot(test_df[\"line_number\"].to_numpy(),depth=15)\n",
        "train_line_number_one_hot[:5]"
      ],
      "metadata": {
        "colab": {
          "base_uri": "https://localhost:8080/"
        },
        "id": "I3bu82JU0wqk",
        "outputId": "121a0759-5d71-4f24-d6ab-d3f4f16c5f25"
      },
      "execution_count": 80,
      "outputs": [
        {
          "output_type": "execute_result",
          "data": {
            "text/plain": [
              "<tf.Tensor: shape=(5, 15), dtype=float32, numpy=\n",
              "array([[1., 0., 0., 0., 0., 0., 0., 0., 0., 0., 0., 0., 0., 0., 0.],\n",
              "       [0., 1., 0., 0., 0., 0., 0., 0., 0., 0., 0., 0., 0., 0., 0.],\n",
              "       [0., 0., 1., 0., 0., 0., 0., 0., 0., 0., 0., 0., 0., 0., 0.],\n",
              "       [0., 0., 0., 1., 0., 0., 0., 0., 0., 0., 0., 0., 0., 0., 0.],\n",
              "       [0., 0., 0., 0., 1., 0., 0., 0., 0., 0., 0., 0., 0., 0., 0.]],\n",
              "      dtype=float32)>"
            ]
          },
          "metadata": {},
          "execution_count": 80
        }
      ]
    },
    {
      "cell_type": "code",
      "source": [
        "#How many different no.of lines are there?\n",
        "train_df[\"total_lines\"].value_counts()"
      ],
      "metadata": {
        "colab": {
          "base_uri": "https://localhost:8080/",
          "height": 962
        },
        "id": "Bhv-UncE2sJ6",
        "outputId": "a1573653-36d6-4a05-cc1c-150dff2d8118"
      },
      "execution_count": 81,
      "outputs": [
        {
          "output_type": "execute_result",
          "data": {
            "text/plain": [
              "total_lines\n",
              "11    24468\n",
              "10    23639\n",
              "12    22113\n",
              "9     19400\n",
              "13    18438\n",
              "14    14610\n",
              "8     12285\n",
              "15    10768\n",
              "7      7464\n",
              "16     7429\n",
              "17     5202\n",
              "6      3353\n",
              "18     3344\n",
              "19     2480\n",
              "20     1281\n",
              "5      1146\n",
              "21      770\n",
              "22      759\n",
              "23      264\n",
              "4       215\n",
              "24      200\n",
              "25      182\n",
              "26       81\n",
              "28       58\n",
              "3        32\n",
              "30       31\n",
              "27       28\n",
              "Name: count, dtype: int64"
            ],
            "text/html": [
              "<div>\n",
              "<style scoped>\n",
              "    .dataframe tbody tr th:only-of-type {\n",
              "        vertical-align: middle;\n",
              "    }\n",
              "\n",
              "    .dataframe tbody tr th {\n",
              "        vertical-align: top;\n",
              "    }\n",
              "\n",
              "    .dataframe thead th {\n",
              "        text-align: right;\n",
              "    }\n",
              "</style>\n",
              "<table border=\"1\" class=\"dataframe\">\n",
              "  <thead>\n",
              "    <tr style=\"text-align: right;\">\n",
              "      <th></th>\n",
              "      <th>count</th>\n",
              "    </tr>\n",
              "    <tr>\n",
              "      <th>total_lines</th>\n",
              "      <th></th>\n",
              "    </tr>\n",
              "  </thead>\n",
              "  <tbody>\n",
              "    <tr>\n",
              "      <th>11</th>\n",
              "      <td>24468</td>\n",
              "    </tr>\n",
              "    <tr>\n",
              "      <th>10</th>\n",
              "      <td>23639</td>\n",
              "    </tr>\n",
              "    <tr>\n",
              "      <th>12</th>\n",
              "      <td>22113</td>\n",
              "    </tr>\n",
              "    <tr>\n",
              "      <th>9</th>\n",
              "      <td>19400</td>\n",
              "    </tr>\n",
              "    <tr>\n",
              "      <th>13</th>\n",
              "      <td>18438</td>\n",
              "    </tr>\n",
              "    <tr>\n",
              "      <th>14</th>\n",
              "      <td>14610</td>\n",
              "    </tr>\n",
              "    <tr>\n",
              "      <th>8</th>\n",
              "      <td>12285</td>\n",
              "    </tr>\n",
              "    <tr>\n",
              "      <th>15</th>\n",
              "      <td>10768</td>\n",
              "    </tr>\n",
              "    <tr>\n",
              "      <th>7</th>\n",
              "      <td>7464</td>\n",
              "    </tr>\n",
              "    <tr>\n",
              "      <th>16</th>\n",
              "      <td>7429</td>\n",
              "    </tr>\n",
              "    <tr>\n",
              "      <th>17</th>\n",
              "      <td>5202</td>\n",
              "    </tr>\n",
              "    <tr>\n",
              "      <th>6</th>\n",
              "      <td>3353</td>\n",
              "    </tr>\n",
              "    <tr>\n",
              "      <th>18</th>\n",
              "      <td>3344</td>\n",
              "    </tr>\n",
              "    <tr>\n",
              "      <th>19</th>\n",
              "      <td>2480</td>\n",
              "    </tr>\n",
              "    <tr>\n",
              "      <th>20</th>\n",
              "      <td>1281</td>\n",
              "    </tr>\n",
              "    <tr>\n",
              "      <th>5</th>\n",
              "      <td>1146</td>\n",
              "    </tr>\n",
              "    <tr>\n",
              "      <th>21</th>\n",
              "      <td>770</td>\n",
              "    </tr>\n",
              "    <tr>\n",
              "      <th>22</th>\n",
              "      <td>759</td>\n",
              "    </tr>\n",
              "    <tr>\n",
              "      <th>23</th>\n",
              "      <td>264</td>\n",
              "    </tr>\n",
              "    <tr>\n",
              "      <th>4</th>\n",
              "      <td>215</td>\n",
              "    </tr>\n",
              "    <tr>\n",
              "      <th>24</th>\n",
              "      <td>200</td>\n",
              "    </tr>\n",
              "    <tr>\n",
              "      <th>25</th>\n",
              "      <td>182</td>\n",
              "    </tr>\n",
              "    <tr>\n",
              "      <th>26</th>\n",
              "      <td>81</td>\n",
              "    </tr>\n",
              "    <tr>\n",
              "      <th>28</th>\n",
              "      <td>58</td>\n",
              "    </tr>\n",
              "    <tr>\n",
              "      <th>3</th>\n",
              "      <td>32</td>\n",
              "    </tr>\n",
              "    <tr>\n",
              "      <th>30</th>\n",
              "      <td>31</td>\n",
              "    </tr>\n",
              "    <tr>\n",
              "      <th>27</th>\n",
              "      <td>28</td>\n",
              "    </tr>\n",
              "  </tbody>\n",
              "</table>\n",
              "</div><br><label><b>dtype:</b> int64</label>"
            ]
          },
          "metadata": {},
          "execution_count": 81
        }
      ]
    },
    {
      "cell_type": "code",
      "source": [
        "#Checking the distribution of total lines\n",
        "train_df.total_lines.plot.hist();"
      ],
      "metadata": {
        "colab": {
          "base_uri": "https://localhost:8080/",
          "height": 431
        },
        "id": "dD48vmaV_k6J",
        "outputId": "c21ea1c9-252a-4b0e-825c-f278fd73982e"
      },
      "execution_count": 82,
      "outputs": [
        {
          "output_type": "display_data",
          "data": {
            "text/plain": [
              "<Figure size 640x480 with 1 Axes>"
            ],
            "image/png": "[encoded data removed]"
          },
          "metadata": {}
        }
      ]
    },
    {
      "cell_type": "code",
      "source": [
        "#Checking the coverage of \"total lines\" values of 20\n",
        "np.percentile(train_df.total_lines,98)"
      ],
      "metadata": {
        "colab": {
          "base_uri": "https://localhost:8080/"
        },
        "id": "yDVzRRYdCzeB",
        "outputId": "3ef4bd4d-9d0b-4d04-a845-008ea5869c1b"
      },
      "execution_count": 83,
      "outputs": [
        {
          "output_type": "execute_result",
          "data": {
            "text/plain": [
              "20.0"
            ]
          },
          "metadata": {},
          "execution_count": 83
        }
      ]
    },
    {
      "cell_type": "code",
      "source": [
        "#Using tensorflow to create one_hot_encoding tensors\n",
        "train_total_lines_one_hot = tf.one_hot(train_df[\"total_lines\"].to_numpy(),depth=20)\n",
        "val_total_lines_one_hot = tf.one_hot(val_df[\"total_lines\"].to_numpy(),depth=20)\n",
        "test_total_lines_one_hot = tf.one_hot(test_df[\"total_lines\"].to_numpy(),depth=20)\n",
        "train_total_lines_one_hot[:5],train_total_lines_one_hot.shape"
      ],
      "metadata": {
        "colab": {
          "base_uri": "https://localhost:8080/"
        },
        "id": "bYvoiKGnDDqg",
        "outputId": "c9471c2d-60b3-4772-bcb5-fc066c308008"
      },
      "execution_count": 84,
      "outputs": [
        {
          "output_type": "execute_result",
          "data": {
            "text/plain": [
              "(<tf.Tensor: shape=(5, 20), dtype=float32, numpy=\n",
              " array([[0., 0., 0., 0., 0., 0., 0., 0., 0., 0., 0., 1., 0., 0., 0., 0.,\n",
              "         0., 0., 0., 0.],\n",
              "        [0., 0., 0., 0., 0., 0., 0., 0., 0., 0., 0., 1., 0., 0., 0., 0.,\n",
              "         0., 0., 0., 0.],\n",
              "        [0., 0., 0., 0., 0., 0., 0., 0., 0., 0., 0., 1., 0., 0., 0., 0.,\n",
              "         0., 0., 0., 0.],\n",
              "        [0., 0., 0., 0., 0., 0., 0., 0., 0., 0., 0., 1., 0., 0., 0., 0.,\n",
              "         0., 0., 0., 0.],\n",
              "        [0., 0., 0., 0., 0., 0., 0., 0., 0., 0., 0., 1., 0., 0., 0., 0.,\n",
              "         0., 0., 0., 0.]], dtype=float32)>,\n",
              " TensorShape([180040, 20]))"
            ]
          },
          "metadata": {},
          "execution_count": 84
        }
      ]
    },
    {
      "cell_type": "code",
      "source": [
        "import tensorflow as tf\n",
        "from tensorflow.keras import layers\n",
        "\n",
        "# 1. Token inputs\n",
        "token_inputs = layers.Input(shape=[], dtype=\"string\", name=\"token_inputs\")\n",
        "token_embeddings = layers.Lambda(lambda x: tf_hub_embedding_layer(tf.cast(x, tf.string)))(token_inputs)\n",
        "token_outputs = layers.Dense(128, activation=\"relu\")(token_embeddings)\n",
        "token_model = tf.keras.Model(inputs=token_inputs, outputs=token_outputs)\n",
        "\n",
        "# 2. Char inputs\n",
        "char_inputs = layers.Input(shape=(1,), dtype=\"string\", name=\"char_inputs\")\n",
        "char_vectors = char_vectorizer(char_inputs)\n",
        "char_embeddings = char_embed(char_vectors)\n",
        "\n",
        "# Add Masking layer for padding\n",
        "masked_char_embeddings = layers.Masking(mask_value=0.0)(char_embeddings)  # Add Masking layer here\n",
        "\n",
        "# Disable cuDNN to allow for masking without right-padding restrictions\n",
        "char_bi_lstm = layers.Bidirectional(layers.LSTM(32, use_cudnn=False))(masked_char_embeddings)  # Disable cuDNN here\n",
        "char_model = tf.keras.Model(inputs=char_inputs, outputs=char_bi_lstm)\n",
        "\n",
        "# 3. Line numbers inputs\n",
        "line_number_inputs = layers.Input(shape=(15,), dtype=tf.int32, name=\"line_number_input\")\n",
        "x = layers.Dense(32, activation=\"relu\")(line_number_inputs)\n",
        "line_number_model = tf.keras.Model(inputs=line_number_inputs, outputs=x)\n",
        "\n",
        "# 4. Total lines inputs\n",
        "total_lines_inputs = layers.Input(shape=(20,), dtype=tf.int32, name=\"total_lines_input\")\n",
        "y = layers.Dense(32, activation=\"relu\")(total_lines_inputs)\n",
        "total_line_model = tf.keras.Model(inputs=total_lines_inputs, outputs=y)\n",
        "\n",
        "# 5. Combine token and char embeddings into a hybrid embedding\n",
        "combined_embeddings = layers.Concatenate(name=\"token_char_hybrid_embedding\")([token_model.output, char_model.output])\n",
        "z = layers.Dense(256, activation=\"relu\")(combined_embeddings)\n",
        "z = layers.Dropout(0.5)(z)\n",
        "\n",
        "# 6. Combine positional embeddings with combined token and char embeddings into a tribrid embedding\n",
        "z = layers.Concatenate(name=\"token_char_positional_embedding\")([line_number_model.output, total_line_model.output, z])\n",
        "\n",
        "# 7. Create output layer\n",
        "output_layer = layers.Dense(5, activation=\"softmax\", name=\"output_layer\")(z)\n",
        "\n",
        "# 8. Put together model\n",
        "model_5 = tf.keras.Model(inputs=[line_number_model.input, total_line_model.input, token_model.input, char_model.input],\n",
        "                         outputs=output_layer)\n",
        "\n",
        "# Model summary to verify the structure\n",
        "model_5.summary()"
      ],
      "metadata": {
        "colab": {
          "base_uri": "https://localhost:8080/",
          "height": 918
        },
        "id": "Di6WPTk0qiBy",
        "outputId": "e56af72a-493f-4e26-ab31-47a93c7798b7"
      },
      "execution_count": 101,
      "outputs": [
        {
          "output_type": "display_data",
          "data": {
            "text/plain": [
              "\u001b[1mModel: \"functional_22\"\u001b[0m\n"
            ],
            "text/html": [
              "<pre style=\"white-space:pre;overflow-x:auto;line-height:normal;font-family:Menlo,'DejaVu Sans Mono',consolas,'Courier New',monospace\"><span style=\"font-weight: bold\">Model: \"functional_22\"</span>\n",
              "</pre>\n"
            ]
          },
          "metadata": {}
        },
        {
          "output_type": "display_data",
          "data": {
            "text/plain": [
              "┏━━━━━━━━━━━━━━━━━━━━━━━━━━━┳━━━━━━━━━━━━━━━━━━━━━━━━┳━━━━━━━━━━━━━━━━┳━━━━━━━━━━━━━━━━━━━━━━━━┓\n",
              "┃\u001b[1m \u001b[0m\u001b[1mLayer (type)             \u001b[0m\u001b[1m \u001b[0m┃\u001b[1m \u001b[0m\u001b[1mOutput Shape          \u001b[0m\u001b[1m \u001b[0m┃\u001b[1m \u001b[0m\u001b[1m       Param #\u001b[0m\u001b[1m \u001b[0m┃\u001b[1m \u001b[0m\u001b[1mConnected to          \u001b[0m\u001b[1m \u001b[0m┃\n",
              "┡━━━━━━━━━━━━━━━━━━━━━━━━━━━╇━━━━━━━━━━━━━━━━━━━━━━━━╇━━━━━━━━━━━━━━━━╇━━━━━━━━━━━━━━━━━━━━━━━━┩\n",
              "│ char_inputs (\u001b[38;5;33mInputLayer\u001b[0m)  │ (\u001b[38;5;45mNone\u001b[0m, \u001b[38;5;34m1\u001b[0m)              │              \u001b[38;5;34m0\u001b[0m │ -                      │\n",
              "├───────────────────────────┼────────────────────────┼────────────────┼────────────────────────┤\n",
              "│ char_vectorizer           │ (\u001b[38;5;45mNone\u001b[0m, \u001b[38;5;34m290\u001b[0m)            │              \u001b[38;5;34m0\u001b[0m │ char_inputs[\u001b[38;5;34m0\u001b[0m][\u001b[38;5;34m0\u001b[0m]      │\n",
              "│ (\u001b[38;5;33mTextVectorization\u001b[0m)       │                        │                │                        │\n",
              "├───────────────────────────┼────────────────────────┼────────────────┼────────────────────────┤\n",
              "│ char_embedding            │ (\u001b[38;5;45mNone\u001b[0m, \u001b[38;5;34m290\u001b[0m, \u001b[38;5;34m25\u001b[0m)        │          \u001b[38;5;34m1,750\u001b[0m │ char_vectorizer[\u001b[38;5;34m5\u001b[0m][\u001b[38;5;34m0\u001b[0m]  │\n",
              "│ (\u001b[38;5;33mEmbedding\u001b[0m)               │                        │                │                        │\n",
              "├───────────────────────────┼────────────────────────┼────────────────┼────────────────────────┤\n",
              "│ token_inputs (\u001b[38;5;33mInputLayer\u001b[0m) │ (\u001b[38;5;45mNone\u001b[0m)                 │              \u001b[38;5;34m0\u001b[0m │ -                      │\n",
              "├───────────────────────────┼────────────────────────┼────────────────┼────────────────────────┤\n",
              "│ not_equal_8 (\u001b[38;5;33mNotEqual\u001b[0m)    │ (\u001b[38;5;45mNone\u001b[0m, \u001b[38;5;34m290\u001b[0m, \u001b[38;5;34m25\u001b[0m)        │              \u001b[38;5;34m0\u001b[0m │ char_embedding[\u001b[38;5;34m5\u001b[0m][\u001b[38;5;34m0\u001b[0m]   │\n",
              "├───────────────────────────┼────────────────────────┼────────────────┼────────────────────────┤\n",
              "│ lambda_5 (\u001b[38;5;33mLambda\u001b[0m)         │ (\u001b[38;5;45mNone\u001b[0m, \u001b[38;5;34m512\u001b[0m)            │              \u001b[38;5;34m0\u001b[0m │ token_inputs[\u001b[38;5;34m0\u001b[0m][\u001b[38;5;34m0\u001b[0m]     │\n",
              "├───────────────────────────┼────────────────────────┼────────────────┼────────────────────────┤\n",
              "│ masking_1 (\u001b[38;5;33mMasking\u001b[0m)       │ (\u001b[38;5;45mNone\u001b[0m, \u001b[38;5;34m290\u001b[0m, \u001b[38;5;34m25\u001b[0m)        │              \u001b[38;5;34m0\u001b[0m │ char_embedding[\u001b[38;5;34m5\u001b[0m][\u001b[38;5;34m0\u001b[0m]   │\n",
              "├───────────────────────────┼────────────────────────┼────────────────┼────────────────────────┤\n",
              "│ any_1 (\u001b[38;5;33mAny\u001b[0m)               │ (\u001b[38;5;45mNone\u001b[0m, \u001b[38;5;34m290\u001b[0m)            │              \u001b[38;5;34m0\u001b[0m │ not_equal_8[\u001b[38;5;34m0\u001b[0m][\u001b[38;5;34m0\u001b[0m]      │\n",
              "├───────────────────────────┼────────────────────────┼────────────────┼────────────────────────┤\n",
              "│ dense_19 (\u001b[38;5;33mDense\u001b[0m)          │ (\u001b[38;5;45mNone\u001b[0m, \u001b[38;5;34m128\u001b[0m)            │         \u001b[38;5;34m65,664\u001b[0m │ lambda_5[\u001b[38;5;34m0\u001b[0m][\u001b[38;5;34m0\u001b[0m]         │\n",
              "├───────────────────────────┼────────────────────────┼────────────────┼────────────────────────┤\n",
              "│ bidirectional_4           │ (\u001b[38;5;45mNone\u001b[0m, \u001b[38;5;34m64\u001b[0m)             │         \u001b[38;5;34m14,848\u001b[0m │ masking_1[\u001b[38;5;34m0\u001b[0m][\u001b[38;5;34m0\u001b[0m],       │\n",
              "│ (\u001b[38;5;33mBidirectional\u001b[0m)           │                        │                │ any_1[\u001b[38;5;34m0\u001b[0m][\u001b[38;5;34m0\u001b[0m]            │\n",
              "├───────────────────────────┼────────────────────────┼────────────────┼────────────────────────┤\n",
              "│ token_char_hybrid_embedd… │ (\u001b[38;5;45mNone\u001b[0m, \u001b[38;5;34m192\u001b[0m)            │              \u001b[38;5;34m0\u001b[0m │ dense_19[\u001b[38;5;34m0\u001b[0m][\u001b[38;5;34m0\u001b[0m],        │\n",
              "│ (\u001b[38;5;33mConcatenate\u001b[0m)             │                        │                │ bidirectional_4[\u001b[38;5;34m0\u001b[0m][\u001b[38;5;34m0\u001b[0m]  │\n",
              "├───────────────────────────┼────────────────────────┼────────────────┼────────────────────────┤\n",
              "│ line_number_input         │ (\u001b[38;5;45mNone\u001b[0m, \u001b[38;5;34m15\u001b[0m)             │              \u001b[38;5;34m0\u001b[0m │ -                      │\n",
              "│ (\u001b[38;5;33mInputLayer\u001b[0m)              │                        │                │                        │\n",
              "├───────────────────────────┼────────────────────────┼────────────────┼────────────────────────┤\n",
              "│ total_lines_input         │ (\u001b[38;5;45mNone\u001b[0m, \u001b[38;5;34m20\u001b[0m)             │              \u001b[38;5;34m0\u001b[0m │ -                      │\n",
              "│ (\u001b[38;5;33mInputLayer\u001b[0m)              │                        │                │                        │\n",
              "├───────────────────────────┼────────────────────────┼────────────────┼────────────────────────┤\n",
              "│ dense_22 (\u001b[38;5;33mDense\u001b[0m)          │ (\u001b[38;5;45mNone\u001b[0m, \u001b[38;5;34m256\u001b[0m)            │         \u001b[38;5;34m49,408\u001b[0m │ token_char_hybrid_emb… │\n",
              "├───────────────────────────┼────────────────────────┼────────────────┼────────────────────────┤\n",
              "│ dense_20 (\u001b[38;5;33mDense\u001b[0m)          │ (\u001b[38;5;45mNone\u001b[0m, \u001b[38;5;34m32\u001b[0m)             │            \u001b[38;5;34m512\u001b[0m │ line_number_input[\u001b[38;5;34m0\u001b[0m][\u001b[38;5;34m…\u001b[0m │\n",
              "├───────────────────────────┼────────────────────────┼────────────────┼────────────────────────┤\n",
              "│ dense_21 (\u001b[38;5;33mDense\u001b[0m)          │ (\u001b[38;5;45mNone\u001b[0m, \u001b[38;5;34m32\u001b[0m)             │            \u001b[38;5;34m672\u001b[0m │ total_lines_input[\u001b[38;5;34m0\u001b[0m][\u001b[38;5;34m…\u001b[0m │\n",
              "├───────────────────────────┼────────────────────────┼────────────────┼────────────────────────┤\n",
              "│ dropout_5 (\u001b[38;5;33mDropout\u001b[0m)       │ (\u001b[38;5;45mNone\u001b[0m, \u001b[38;5;34m256\u001b[0m)            │              \u001b[38;5;34m0\u001b[0m │ dense_22[\u001b[38;5;34m0\u001b[0m][\u001b[38;5;34m0\u001b[0m]         │\n",
              "├───────────────────────────┼────────────────────────┼────────────────┼────────────────────────┤\n",
              "│ token_char_positional_em… │ (\u001b[38;5;45mNone\u001b[0m, \u001b[38;5;34m320\u001b[0m)            │              \u001b[38;5;34m0\u001b[0m │ dense_20[\u001b[38;5;34m0\u001b[0m][\u001b[38;5;34m0\u001b[0m],        │\n",
              "│ (\u001b[38;5;33mConcatenate\u001b[0m)             │                        │                │ dense_21[\u001b[38;5;34m0\u001b[0m][\u001b[38;5;34m0\u001b[0m],        │\n",
              "│                           │                        │                │ dropout_5[\u001b[38;5;34m0\u001b[0m][\u001b[38;5;34m0\u001b[0m]        │\n",
              "├───────────────────────────┼────────────────────────┼────────────────┼────────────────────────┤\n",
              "│ output_layer (\u001b[38;5;33mDense\u001b[0m)      │ (\u001b[38;5;45mNone\u001b[0m, \u001b[38;5;34m5\u001b[0m)              │          \u001b[38;5;34m1,605\u001b[0m │ token_char_positional… │\n",
              "└───────────────────────────┴────────────────────────┴────────────────┴────────────────────────┘\n"
            ],
            "text/html": [
              "<pre style=\"white-space:pre;overflow-x:auto;line-height:normal;font-family:Menlo,'DejaVu Sans Mono',consolas,'Courier New',monospace\">┏━━━━━━━━━━━━━━━━━━━━━━━━━━━┳━━━━━━━━━━━━━━━━━━━━━━━━┳━━━━━━━━━━━━━━━━┳━━━━━━━━━━━━━━━━━━━━━━━━┓\n",
              "┃<span style=\"font-weight: bold\"> Layer (type)              </span>┃<span style=\"font-weight: bold\"> Output Shape           </span>┃<span style=\"font-weight: bold\">        Param # </span>┃<span style=\"font-weight: bold\"> Connected to           </span>┃\n",
              "┡━━━━━━━━━━━━━━━━━━━━━━━━━━━╇━━━━━━━━━━━━━━━━━━━━━━━━╇━━━━━━━━━━━━━━━━╇━━━━━━━━━━━━━━━━━━━━━━━━┩\n",
              "│ char_inputs (<span style=\"color: #0087ff; text-decoration-color: #0087ff\">InputLayer</span>)  │ (<span style=\"color: #00d7ff; text-decoration-color: #00d7ff\">None</span>, <span style=\"color: #00af00; text-decoration-color: #00af00\">1</span>)              │              <span style=\"color: #00af00; text-decoration-color: #00af00\">0</span> │ -                      │\n",
              "├───────────────────────────┼────────────────────────┼────────────────┼────────────────────────┤\n",
              "│ char_vectorizer           │ (<span style=\"color: #00d7ff; text-decoration-color: #00d7ff\">None</span>, <span style=\"color: #00af00; text-decoration-color: #00af00\">290</span>)            │              <span style=\"color: #00af00; text-decoration-color: #00af00\">0</span> │ char_inputs[<span style=\"color: #00af00; text-decoration-color: #00af00\">0</span>][<span style=\"color: #00af00; text-decoration-color: #00af00\">0</span>]      │\n",
              "│ (<span style=\"color: #0087ff; text-decoration-color: #0087ff\">TextVectorization</span>)       │                        │                │                        │\n",
              "├───────────────────────────┼────────────────────────┼────────────────┼────────────────────────┤\n",
              "│ char_embedding            │ (<span style=\"color: #00d7ff; text-decoration-color: #00d7ff\">None</span>, <span style=\"color: #00af00; text-decoration-color: #00af00\">290</span>, <span style=\"color: #00af00; text-decoration-color: #00af00\">25</span>)        │          <span style=\"color: #00af00; text-decoration-color: #00af00\">1,750</span> │ char_vectorizer[<span style=\"color: #00af00; text-decoration-color: #00af00\">5</span>][<span style=\"color: #00af00; text-decoration-color: #00af00\">0</span>]  │\n",
              "│ (<span style=\"color: #0087ff; text-decoration-color: #0087ff\">Embedding</span>)               │                        │                │                        │\n",
              "├───────────────────────────┼────────────────────────┼────────────────┼────────────────────────┤\n",
              "│ token_inputs (<span style=\"color: #0087ff; text-decoration-color: #0087ff\">InputLayer</span>) │ (<span style=\"color: #00d7ff; text-decoration-color: #00d7ff\">None</span>)                 │              <span style=\"color: #00af00; text-decoration-color: #00af00\">0</span> │ -                      │\n",
              "├───────────────────────────┼────────────────────────┼────────────────┼────────────────────────┤\n",
              "│ not_equal_8 (<span style=\"color: #0087ff; text-decoration-color: #0087ff\">NotEqual</span>)    │ (<span style=\"color: #00d7ff; text-decoration-color: #00d7ff\">None</span>, <span style=\"color: #00af00; text-decoration-color: #00af00\">290</span>, <span style=\"color: #00af00; text-decoration-color: #00af00\">25</span>)        │              <span style=\"color: #00af00; text-decoration-color: #00af00\">0</span> │ char_embedding[<span style=\"color: #00af00; text-decoration-color: #00af00\">5</span>][<span style=\"color: #00af00; text-decoration-color: #00af00\">0</span>]   │\n",
              "├───────────────────────────┼────────────────────────┼────────────────┼────────────────────────┤\n",
              "│ lambda_5 (<span style=\"color: #0087ff; text-decoration-color: #0087ff\">Lambda</span>)         │ (<span style=\"color: #00d7ff; text-decoration-color: #00d7ff\">None</span>, <span style=\"color: #00af00; text-decoration-color: #00af00\">512</span>)            │              <span style=\"color: #00af00; text-decoration-color: #00af00\">0</span> │ token_inputs[<span style=\"color: #00af00; text-decoration-color: #00af00\">0</span>][<span style=\"color: #00af00; text-decoration-color: #00af00\">0</span>]     │\n",
              "├───────────────────────────┼────────────────────────┼────────────────┼────────────────────────┤\n",
              "│ masking_1 (<span style=\"color: #0087ff; text-decoration-color: #0087ff\">Masking</span>)       │ (<span style=\"color: #00d7ff; text-decoration-color: #00d7ff\">None</span>, <span style=\"color: #00af00; text-decoration-color: #00af00\">290</span>, <span style=\"color: #00af00; text-decoration-color: #00af00\">25</span>)        │              <span style=\"color: #00af00; text-decoration-color: #00af00\">0</span> │ char_embedding[<span style=\"color: #00af00; text-decoration-color: #00af00\">5</span>][<span style=\"color: #00af00; text-decoration-color: #00af00\">0</span>]   │\n",
              "├───────────────────────────┼────────────────────────┼────────────────┼────────────────────────┤\n",
              "│ any_1 (<span style=\"color: #0087ff; text-decoration-color: #0087ff\">Any</span>)               │ (<span style=\"color: #00d7ff; text-decoration-color: #00d7ff\">None</span>, <span style=\"color: #00af00; text-decoration-color: #00af00\">290</span>)            │              <span style=\"color: #00af00; text-decoration-color: #00af00\">0</span> │ not_equal_8[<span style=\"color: #00af00; text-decoration-color: #00af00\">0</span>][<span style=\"color: #00af00; text-decoration-color: #00af00\">0</span>]      │\n",
              "├───────────────────────────┼────────────────────────┼────────────────┼────────────────────────┤\n",
              "│ dense_19 (<span style=\"color: #0087ff; text-decoration-color: #0087ff\">Dense</span>)          │ (<span style=\"color: #00d7ff; text-decoration-color: #00d7ff\">None</span>, <span style=\"color: #00af00; text-decoration-color: #00af00\">128</span>)            │         <span style=\"color: #00af00; text-decoration-color: #00af00\">65,664</span> │ lambda_5[<span style=\"color: #00af00; text-decoration-color: #00af00\">0</span>][<span style=\"color: #00af00; text-decoration-color: #00af00\">0</span>]         │\n",
              "├───────────────────────────┼────────────────────────┼────────────────┼────────────────────────┤\n",
              "│ bidirectional_4           │ (<span style=\"color: #00d7ff; text-decoration-color: #00d7ff\">None</span>, <span style=\"color: #00af00; text-decoration-color: #00af00\">64</span>)             │         <span style=\"color: #00af00; text-decoration-color: #00af00\">14,848</span> │ masking_1[<span style=\"color: #00af00; text-decoration-color: #00af00\">0</span>][<span style=\"color: #00af00; text-decoration-color: #00af00\">0</span>],       │\n",
              "│ (<span style=\"color: #0087ff; text-decoration-color: #0087ff\">Bidirectional</span>)           │                        │                │ any_1[<span style=\"color: #00af00; text-decoration-color: #00af00\">0</span>][<span style=\"color: #00af00; text-decoration-color: #00af00\">0</span>]            │\n",
              "├───────────────────────────┼────────────────────────┼────────────────┼────────────────────────┤\n",
              "│ token_char_hybrid_embedd… │ (<span style=\"color: #00d7ff; text-decoration-color: #00d7ff\">None</span>, <span style=\"color: #00af00; text-decoration-color: #00af00\">192</span>)            │              <span style=\"color: #00af00; text-decoration-color: #00af00\">0</span> │ dense_19[<span style=\"color: #00af00; text-decoration-color: #00af00\">0</span>][<span style=\"color: #00af00; text-decoration-color: #00af00\">0</span>],        │\n",
              "│ (<span style=\"color: #0087ff; text-decoration-color: #0087ff\">Concatenate</span>)             │                        │                │ bidirectional_4[<span style=\"color: #00af00; text-decoration-color: #00af00\">0</span>][<span style=\"color: #00af00; text-decoration-color: #00af00\">0</span>]  │\n",
              "├───────────────────────────┼────────────────────────┼────────────────┼────────────────────────┤\n",
              "│ line_number_input         │ (<span style=\"color: #00d7ff; text-decoration-color: #00d7ff\">None</span>, <span style=\"color: #00af00; text-decoration-color: #00af00\">15</span>)             │              <span style=\"color: #00af00; text-decoration-color: #00af00\">0</span> │ -                      │\n",
              "│ (<span style=\"color: #0087ff; text-decoration-color: #0087ff\">InputLayer</span>)              │                        │                │                        │\n",
              "├───────────────────────────┼────────────────────────┼────────────────┼────────────────────────┤\n",
              "│ total_lines_input         │ (<span style=\"color: #00d7ff; text-decoration-color: #00d7ff\">None</span>, <span style=\"color: #00af00; text-decoration-color: #00af00\">20</span>)             │              <span style=\"color: #00af00; text-decoration-color: #00af00\">0</span> │ -                      │\n",
              "│ (<span style=\"color: #0087ff; text-decoration-color: #0087ff\">InputLayer</span>)              │                        │                │                        │\n",
              "├───────────────────────────┼────────────────────────┼────────────────┼────────────────────────┤\n",
              "│ dense_22 (<span style=\"color: #0087ff; text-decoration-color: #0087ff\">Dense</span>)          │ (<span style=\"color: #00d7ff; text-decoration-color: #00d7ff\">None</span>, <span style=\"color: #00af00; text-decoration-color: #00af00\">256</span>)            │         <span style=\"color: #00af00; text-decoration-color: #00af00\">49,408</span> │ token_char_hybrid_emb… │\n",
              "├───────────────────────────┼────────────────────────┼────────────────┼────────────────────────┤\n",
              "│ dense_20 (<span style=\"color: #0087ff; text-decoration-color: #0087ff\">Dense</span>)          │ (<span style=\"color: #00d7ff; text-decoration-color: #00d7ff\">None</span>, <span style=\"color: #00af00; text-decoration-color: #00af00\">32</span>)             │            <span style=\"color: #00af00; text-decoration-color: #00af00\">512</span> │ line_number_input[<span style=\"color: #00af00; text-decoration-color: #00af00\">0</span>][<span style=\"color: #00af00; text-decoration-color: #00af00\">…</span> │\n",
              "├───────────────────────────┼────────────────────────┼────────────────┼────────────────────────┤\n",
              "│ dense_21 (<span style=\"color: #0087ff; text-decoration-color: #0087ff\">Dense</span>)          │ (<span style=\"color: #00d7ff; text-decoration-color: #00d7ff\">None</span>, <span style=\"color: #00af00; text-decoration-color: #00af00\">32</span>)             │            <span style=\"color: #00af00; text-decoration-color: #00af00\">672</span> │ total_lines_input[<span style=\"color: #00af00; text-decoration-color: #00af00\">0</span>][<span style=\"color: #00af00; text-decoration-color: #00af00\">…</span> │\n",
              "├───────────────────────────┼────────────────────────┼────────────────┼────────────────────────┤\n",
              "│ dropout_5 (<span style=\"color: #0087ff; text-decoration-color: #0087ff\">Dropout</span>)       │ (<span style=\"color: #00d7ff; text-decoration-color: #00d7ff\">None</span>, <span style=\"color: #00af00; text-decoration-color: #00af00\">256</span>)            │              <span style=\"color: #00af00; text-decoration-color: #00af00\">0</span> │ dense_22[<span style=\"color: #00af00; text-decoration-color: #00af00\">0</span>][<span style=\"color: #00af00; text-decoration-color: #00af00\">0</span>]         │\n",
              "├───────────────────────────┼────────────────────────┼────────────────┼────────────────────────┤\n",
              "│ token_char_positional_em… │ (<span style=\"color: #00d7ff; text-decoration-color: #00d7ff\">None</span>, <span style=\"color: #00af00; text-decoration-color: #00af00\">320</span>)            │              <span style=\"color: #00af00; text-decoration-color: #00af00\">0</span> │ dense_20[<span style=\"color: #00af00; text-decoration-color: #00af00\">0</span>][<span style=\"color: #00af00; text-decoration-color: #00af00\">0</span>],        │\n",
              "│ (<span style=\"color: #0087ff; text-decoration-color: #0087ff\">Concatenate</span>)             │                        │                │ dense_21[<span style=\"color: #00af00; text-decoration-color: #00af00\">0</span>][<span style=\"color: #00af00; text-decoration-color: #00af00\">0</span>],        │\n",
              "│                           │                        │                │ dropout_5[<span style=\"color: #00af00; text-decoration-color: #00af00\">0</span>][<span style=\"color: #00af00; text-decoration-color: #00af00\">0</span>]        │\n",
              "├───────────────────────────┼────────────────────────┼────────────────┼────────────────────────┤\n",
              "│ output_layer (<span style=\"color: #0087ff; text-decoration-color: #0087ff\">Dense</span>)      │ (<span style=\"color: #00d7ff; text-decoration-color: #00d7ff\">None</span>, <span style=\"color: #00af00; text-decoration-color: #00af00\">5</span>)              │          <span style=\"color: #00af00; text-decoration-color: #00af00\">1,605</span> │ token_char_positional… │\n",
              "└───────────────────────────┴────────────────────────┴────────────────┴────────────────────────┘\n",
              "</pre>\n"
            ]
          },
          "metadata": {}
        },
        {
          "output_type": "display_data",
          "data": {
            "text/plain": [
              "\u001b[1m Total params: \u001b[0m\u001b[38;5;34m134,459\u001b[0m (525.23 KB)\n"
            ],
            "text/html": [
              "<pre style=\"white-space:pre;overflow-x:auto;line-height:normal;font-family:Menlo,'DejaVu Sans Mono',consolas,'Courier New',monospace\"><span style=\"font-weight: bold\"> Total params: </span><span style=\"color: #00af00; text-decoration-color: #00af00\">134,459</span> (525.23 KB)\n",
              "</pre>\n"
            ]
          },
          "metadata": {}
        },
        {
          "output_type": "display_data",
          "data": {
            "text/plain": [
              "\u001b[1m Trainable params: \u001b[0m\u001b[38;5;34m134,459\u001b[0m (525.23 KB)\n"
            ],
            "text/html": [
              "<pre style=\"white-space:pre;overflow-x:auto;line-height:normal;font-family:Menlo,'DejaVu Sans Mono',consolas,'Courier New',monospace\"><span style=\"font-weight: bold\"> Trainable params: </span><span style=\"color: #00af00; text-decoration-color: #00af00\">134,459</span> (525.23 KB)\n",
              "</pre>\n"
            ]
          },
          "metadata": {}
        },
        {
          "output_type": "display_data",
          "data": {
            "text/plain": [
              "\u001b[1m Non-trainable params: \u001b[0m\u001b[38;5;34m0\u001b[0m (0.00 B)\n"
            ],
            "text/html": [
              "<pre style=\"white-space:pre;overflow-x:auto;line-height:normal;font-family:Menlo,'DejaVu Sans Mono',consolas,'Courier New',monospace\"><span style=\"font-weight: bold\"> Non-trainable params: </span><span style=\"color: #00af00; text-decoration-color: #00af00\">0</span> (0.00 B)\n",
              "</pre>\n"
            ]
          },
          "metadata": {}
        }
      ]
    },
    {
      "cell_type": "markdown",
      "source": [
        "###Building a tribrid embedding model"
      ],
      "metadata": {
        "id": "aWe4EMsFDdK7"
      }
    },
    {
      "cell_type": "markdown",
      "source": [
        "1. Create a token-level model\n",
        "2. Create a character-level model\n",
        "3. Create a model for the \"line_number\" features\n",
        "4. Create a model for \"total_lines\" features\n",
        "5. Combine o/p's of 1 & 2 `tf.keras.layers.Concatenate`\n",
        "6. Combine the o/p's of 3 ,4 & 5 using the `tf.keras.layers.Concatenate`\n",
        "7. Create o/p layers to accept the tribrid embedding and o/p label probabilites\n",
        "8. Combine inputs of 1, 2, 3, 4 & outputs of into a `tf.keras.Model`"
      ],
      "metadata": {
        "id": "M1qF16aTDjkt"
      }
    },
    {
      "cell_type": "code",
      "source": [
        "# Plot the token, char, positional embedding model\n",
        "from tensorflow.keras.utils import plot_model\n",
        "plot_model(model_5)"
      ],
      "metadata": {
        "colab": {
          "base_uri": "https://localhost:8080/",
          "height": 1000
        },
        "id": "O2k_fCpAq2AO",
        "outputId": "8c5f3420-fc4d-4949-b645-aec1c1c9865a"
      },
      "execution_count": 105,
      "outputs": [
        {
          "output_type": "execute_result",
          "data": {
            "image/png": "[encoded data removed]",
            "text/plain": [
              "<IPython.core.display.Image object>"
            ]
          },
          "metadata": {},
          "execution_count": 105
        }
      ]
    },
    {
      "cell_type": "code",
      "source": [
        "# Check which layers of our model are trainable or not\n",
        "for layer in model_5.layers:\n",
        "  print(layer, layer.trainable)"
      ],
      "metadata": {
        "colab": {
          "base_uri": "https://localhost:8080/"
        },
        "id": "M2_Po4t0bGkx",
        "outputId": "54811685-063d-4601-f9c5-683b2f11aafd"
      },
      "execution_count": 88,
      "outputs": [
        {
          "metadata": {
            "tags": null
          },
          "name": "stdout",
          "output_type": "stream",
          "text": [
            "<InputLayer name=char_inputs, built=True> True\n",
            "<InputLayer name=token_inputs, built=True> True\n",
            "<TextVectorization name=char_vectorizer, built=True> True\n",
            "<Lambda name=lambda_2, built=True> True\n",
            "<Embedding name=char_embedding, built=True> True\n",
            "<Dense name=dense_7, built=True> True\n",
            "<Bidirectional name=bidirectional_1, built=True> True\n",
            "<Concatenate name=token_char_hybrid_embedding, built=True> True\n",
            "<InputLayer name=line_number_input, built=True> True\n",
            "<InputLayer name=total_lines_input, built=True> True\n",
            "<Dense name=dense_10, built=True> True\n",
            "<Dense name=dense_8, built=True> True\n",
            "<Dense name=dense_9, built=True> True\n",
            "<Dropout name=dropout_2, built=True> True\n",
            "<Concatenate name=token_char_positional_embedding, built=True> True\n",
            "<Dense name=output_layer, built=True> True\n"
          ]
        }
      ]
    },
    {
      "cell_type": "code",
      "source": [
        "# Compile token, char, positional embedding model\n",
        "model_5.compile(loss=tf.keras.losses.CategoricalCrossentropy(label_smoothing=0.2), # add label smoothing (examples which are really confident get smoothed a little)\n",
        "                optimizer=tf.keras.optimizers.Adam(),\n",
        "                metrics=[\"accuracy\"])"
      ],
      "metadata": {
        "id": "WiLL6Txao0oc"
      },
      "execution_count": 102,
      "outputs": []
    },
    {
      "cell_type": "markdown",
      "source": [
        "###Create tribrid embedding datasets and fit tribrid model"
      ],
      "metadata": {
        "id": "PVYdCbuCbh3x"
      }
    },
    {
      "cell_type": "markdown",
      "source": [
        "Model compiled!\n",
        "\n",
        "Again, to keep our experiments swift, let's fit on 20,000 examples for 3 epochs.\n",
        "\n",
        "This time our model requires four feature inputs:\n",
        "\n",
        "    1. Train line numbers one-hot tensor (`train_line_numbers_one_hot`)\n",
        "    2. Train total lines one-hot tensor (`train_total_lines_one_hot`)\n",
        "    3. Token-level sequences tensor (`train_sentences`)\n",
        "    4. Char-level sequences tensor (`train_chars`)\n",
        "\n",
        "We can pass these as tuples to our `tf.data.Dataset.from_tensor_slices()` method to create appropriately shaped and batched `PrefetchedDataset's`.\n"
      ],
      "metadata": {
        "id": "8OKk4hxObrE9"
      }
    },
    {
      "cell_type": "code",
      "source": [
        "# Create training and validation datasets (all four kinds of inputs)\n",
        "train_pos_char_token_data = tf.data.Dataset.from_tensor_slices((train_line_number_one_hot, # line numbers\n",
        "                                                                train_total_lines_one_hot, # total lines\n",
        "                                                                train_sentences, # train tokens\n",
        "                                                                train_chars)) # train chars\n",
        "train_pos_char_token_labels = tf.data.Dataset.from_tensor_slices(train_labels_one_hot) # train labels\n",
        "train_pos_char_token_dataset = tf.data.Dataset.zip((train_pos_char_token_data, train_pos_char_token_labels)) # combine data and labels\n",
        "train_pos_char_token_dataset = train_pos_char_token_dataset.batch(32).prefetch(tf.data.AUTOTUNE) # turn into batches and prefetch appropriately\n",
        "\n",
        "# Validation dataset\n",
        "val_pos_char_token_data = tf.data.Dataset.from_tensor_slices((val_line_number_one_hot,\n",
        "                                                              val_total_lines_one_hot,\n",
        "                                                              val_sentences,\n",
        "                                                              val_chars))\n",
        "val_pos_char_token_labels = tf.data.Dataset.from_tensor_slices(val_labels_one_hot)\n",
        "val_pos_char_token_dataset = tf.data.Dataset.zip((val_pos_char_token_data, val_pos_char_token_labels))\n",
        "val_pos_char_token_dataset = val_pos_char_token_dataset.batch(32).prefetch(tf.data.AUTOTUNE) # turn into batches and prefetch appropriately\n",
        "\n",
        "\n",
        "# Check input shapes\n",
        "train_pos_char_token_dataset, val_pos_char_token_dataset"
      ],
      "metadata": {
        "colab": {
          "base_uri": "https://localhost:8080/"
        },
        "id": "qlVpfA4XcEVF",
        "outputId": "e8aae751-4371-432b-90d3-4e04e58f5e1a"
      },
      "execution_count": 103,
      "outputs": [
        {
          "output_type": "execute_result",
          "data": {
            "text/plain": [
              "(<_PrefetchDataset element_spec=((TensorSpec(shape=(None, 15), dtype=tf.float32, name=None), TensorSpec(shape=(None, 20), dtype=tf.float32, name=None), TensorSpec(shape=(None,), dtype=tf.string, name=None), TensorSpec(shape=(None,), dtype=tf.string, name=None)), TensorSpec(shape=(None, 5), dtype=tf.float64, name=None))>,\n",
              " <_PrefetchDataset element_spec=((TensorSpec(shape=(None, 15), dtype=tf.float32, name=None), TensorSpec(shape=(None, 20), dtype=tf.float32, name=None), TensorSpec(shape=(None,), dtype=tf.string, name=None), TensorSpec(shape=(None,), dtype=tf.string, name=None)), TensorSpec(shape=(None, 5), dtype=tf.float64, name=None))>)"
            ]
          },
          "metadata": {},
          "execution_count": 103
        }
      ]
    },
    {
      "cell_type": "code",
      "source": [
        "history_model_5 = model_5.fit(train_pos_char_token_dataset,\n",
        "                              steps_per_epoch=int(0.1 * len(train_pos_char_token_dataset)),\n",
        "                              epochs=3,\n",
        "                              validation_data=val_pos_char_token_dataset,\n",
        "                              validation_steps=int(0.1 * len(val_pos_char_token_dataset)))"
      ],
      "metadata": {
        "colab": {
          "base_uri": "https://localhost:8080/"
        },
        "id": "XrvM9hlsow1F",
        "outputId": "8f35a3f8-1dee-4b85-dad2-4e4e22d585df"
      },
      "execution_count": 104,
      "outputs": [
        {
          "output_type": "stream",
          "name": "stdout",
          "text": [
            "Epoch 1/3\n",
            "\u001b[1m562/562\u001b[0m \u001b[32m━━━━━━━━━━━━━━━━━━━━\u001b[0m\u001b[37m\u001b[0m \u001b[1m24s\u001b[0m 37ms/step - accuracy: 0.6477 - loss: 1.1950 - val_accuracy: 0.8168 - val_loss: 0.9604\n",
            "Epoch 2/3\n",
            "\u001b[1m562/562\u001b[0m \u001b[32m━━━━━━━━━━━━━━━━━━━━\u001b[0m\u001b[37m\u001b[0m \u001b[1m21s\u001b[0m 37ms/step - accuracy: 0.8214 - loss: 0.9606 - val_accuracy: 0.8358 - val_loss: 0.9214\n",
            "Epoch 3/3\n",
            "\u001b[1m562/562\u001b[0m \u001b[32m━━━━━━━━━━━━━━━━━━━━\u001b[0m\u001b[37m\u001b[0m \u001b[1m31s\u001b[0m 56ms/step - accuracy: 0.8291 - loss: 0.9405 - val_accuracy: 0.8324 - val_loss: 0.9274\n"
          ]
        }
      ]
    },
    {
      "cell_type": "code",
      "source": [
        "# Make predictions with token-char-positional hybrid model\n",
        "model_5_pred_probs = model_5.predict(val_pos_char_token_dataset, verbose=1)\n",
        "model_5_pred_probs"
      ],
      "metadata": {
        "id": "6kjyFj8ocpQS",
        "colab": {
          "base_uri": "https://localhost:8080/"
        },
        "outputId": "ab542322-eea1-4f31-83fe-f1b9e03a3f00"
      },
      "execution_count": 106,
      "outputs": [
        {
          "output_type": "stream",
          "name": "stdout",
          "text": [
            "\u001b[1m945/945\u001b[0m \u001b[32m━━━━━━━━━━━━━━━━━━━━\u001b[0m\u001b[37m\u001b[0m \u001b[1m22s\u001b[0m 21ms/step\n"
          ]
        },
        {
          "output_type": "execute_result",
          "data": {
            "text/plain": [
              "array([[0.457907  , 0.08288713, 0.00835816, 0.4344462 , 0.01640161],\n",
              "       [0.5467057 , 0.12837988, 0.03653612, 0.28148735, 0.00689101],\n",
              "       [0.26524875, 0.10983182, 0.0817633 , 0.5006759 , 0.0424802 ],\n",
              "       ...,\n",
              "       [0.03615948, 0.2062301 , 0.06507871, 0.03683332, 0.6556984 ],\n",
              "       [0.03321537, 0.35952982, 0.05953639, 0.03153855, 0.51617986],\n",
              "       [0.21458106, 0.5866437 , 0.08715435, 0.0459992 , 0.06562166]],\n",
              "      dtype=float32)"
            ]
          },
          "metadata": {},
          "execution_count": 106
        }
      ]
    },
    {
      "cell_type": "code",
      "source": [
        "# Turn prediction probabilities into prediction classes\n",
        "model_5_preds = tf.argmax(model_5_pred_probs, axis=1)\n",
        "model_5_preds"
      ],
      "metadata": {
        "colab": {
          "base_uri": "https://localhost:8080/"
        },
        "id": "v_eYnqUGrCSF",
        "outputId": "ef2f01ed-13c2-4aa2-8cd7-27764c06847e"
      },
      "execution_count": 107,
      "outputs": [
        {
          "output_type": "execute_result",
          "data": {
            "text/plain": [
              "<tf.Tensor: shape=(30212,), dtype=int64, numpy=array([0, 0, 3, ..., 4, 4, 1])>"
            ]
          },
          "metadata": {},
          "execution_count": 107
        }
      ]
    },
    {
      "cell_type": "code",
      "source": [
        "# Calculate results of token-char-positional hybrid model\n",
        "model_5_results = calculate_results(y_true=val_labels_encoded,\n",
        "                                    y_pred=model_5_preds)\n",
        "model_5_results"
      ],
      "metadata": {
        "colab": {
          "base_uri": "https://localhost:8080/"
        },
        "id": "Kq_otHfFrJ_G",
        "outputId": "7f85968e-493f-469f-eb64-03d304d83465"
      },
      "execution_count": 108,
      "outputs": [
        {
          "output_type": "execute_result",
          "data": {
            "text/plain": [
              "{'accuracy': 83.98980537534754,\n",
              " 'precision': 0.8397515254550891,\n",
              " 'recall': 0.8398980537534755,\n",
              " 'f1': 0.8394648022252182}"
            ]
          },
          "metadata": {},
          "execution_count": 108
        }
      ]
    },
    {
      "cell_type": "markdown",
      "source": [
        "##Compare model results\n",
        "\n",
        "\n",
        "Now it's time to compare each model's performance against each other.\n",
        "\n",
        "We'll also be able to compare our model's to the PubMed 200k RCT: a Dataset for Sequential Sentence Classification in Medical Abstracts paper.\n",
        "\n",
        "Since all of our model results are in dictionaries, let's combine them into a pandas DataFrame to visualize them."
      ],
      "metadata": {
        "id": "olmbD8KwrMvF"
      }
    },
    {
      "cell_type": "code",
      "source": [
        "# Combine model results into a DataFrame\n",
        "all_model_results = pd.DataFrame({\"baseline\": baseline_results,\n",
        "                                  \"custom_token_embed_conv1d\": model_1_results,\n",
        "                                  \"custom_char_embed_conv1d\": model_3_results,\n",
        "                                  \"hybrid_char_token_embed\": model_4_results,\n",
        "                                  \"tribrid_pos_char_token_embed\": model_5_results})\n",
        "all_model_results = all_model_results.transpose()\n",
        "all_model_results"
      ],
      "metadata": {
        "colab": {
          "base_uri": "https://localhost:8080/",
          "height": 673
        },
        "id": "1QMNAxh4rb00",
        "outputId": "e7fb3250-f81f-4b57-a8f3-af56165bb27f"
      },
      "execution_count": 120,
      "outputs": [
        {
          "output_type": "execute_result",
          "data": {
            "text/plain": [
              "                               accuracy  precision    recall        f1\n",
              "baseline                      72.183238   0.718647  0.721832  0.698925\n",
              "custom_token_embed_conv1d     78.680657   0.783612  0.786807  0.784790\n",
              "custom_char_embed_conv1d      68.244406   0.685786  0.682444  0.681128\n",
              "hybrid_char_token_embed       75.178737   0.750690  0.751787  0.748858\n",
              "tribrid_pos_char_token_embed  83.989805   0.839752  0.839898  0.839465"
            ],
            "text/html": [
              "\n",
              "  <div id=\"df-291ad046-df8c-4e5d-8fc9-cd5d1b15df6b\" class=\"colab-df-container\">\n",
              "    <div>\n",
              "<style scoped>\n",
              "    .dataframe tbody tr th:only-of-type {\n",
              "        vertical-align: middle;\n",
              "    }\n",
              "\n",
              "    .dataframe tbody tr th {\n",
              "        vertical-align: top;\n",
              "    }\n",
              "\n",
              "    .dataframe thead th {\n",
              "        text-align: right;\n",
              "    }\n",
              "</style>\n",
              "<table border=\"1\" class=\"dataframe\">\n",
              "  <thead>\n",
              "    <tr style=\"text-align: right;\">\n",
              "      <th></th>\n",
              "      <th>accuracy</th>\n",
              "      <th>precision</th>\n",
              "      <th>recall</th>\n",
              "      <th>f1</th>\n",
              "    </tr>\n",
              "  </thead>\n",
              "  <tbody>\n",
              "    <tr>\n",
              "      <th>baseline</th>\n",
              "      <td>72.183238</td>\n",
              "      <td>0.718647</td>\n",
              "      <td>0.721832</td>\n",
              "      <td>0.698925</td>\n",
              "    </tr>\n",
              "    <tr>\n",
              "      <th>custom_token_embed_conv1d</th>\n",
              "      <td>78.680657</td>\n",
              "      <td>0.783612</td>\n",
              "      <td>0.786807</td>\n",
              "      <td>0.784790</td>\n",
              "    </tr>\n",
              "    <tr>\n",
              "      <th>custom_char_embed_conv1d</th>\n",
              "      <td>68.244406</td>\n",
              "      <td>0.685786</td>\n",
              "      <td>0.682444</td>\n",
              "      <td>0.681128</td>\n",
              "    </tr>\n",
              "    <tr>\n",
              "      <th>hybrid_char_token_embed</th>\n",
              "      <td>75.178737</td>\n",
              "      <td>0.750690</td>\n",
              "      <td>0.751787</td>\n",
              "      <td>0.748858</td>\n",
              "    </tr>\n",
              "    <tr>\n",
              "      <th>tribrid_pos_char_token_embed</th>\n",
              "      <td>83.989805</td>\n",
              "      <td>0.839752</td>\n",
              "      <td>0.839898</td>\n",
              "      <td>0.839465</td>\n",
              "    </tr>\n",
              "  </tbody>\n",
              "</table>\n",
              "</div>\n",
              "    <div class=\"colab-df-buttons\">\n",
              "\n",
              "  <div class=\"colab-df-container\">\n",
              "    <button class=\"colab-df-convert\" onclick=\"convertToInteractive('df-291ad046-df8c-4e5d-8fc9-cd5d1b15df6b')\"\n",
              "            title=\"Convert this dataframe to an interactive table.\"\n",
              "            style=\"display:none;\">\n",
              "\n",
              "  <svg xmlns=\"http://www.w3.org/2000/svg\" height=\"24px\" viewBox=\"0 -960 960 960\">\n",
              "    <path d=\"M120-120v-720h720v720H120Zm60-500h600v-160H180v160Zm220 220h160v-160H400v160Zm0 220h160v-160H400v160ZM180-400h160v-160H180v160Zm440 0h160v-160H620v160ZM180-180h160v-160H180v160Zm440 0h160v-160H620v160Z\"/>\n",
              "  </svg>\n",
              "    </button>\n",
              "\n",
              "  <style>\n",
              "    .colab-df-container {\n",
              "      display:flex;\n",
              "      gap: 12px;\n",
              "    }\n",
              "\n",
              "    .colab-df-convert {\n",
              "      background-color: #E8F0FE;\n",
              "      border: none;\n",
              "      border-radius: 50%;\n",
              "      cursor: pointer;\n",
              "      display: none;\n",
              "      fill: #1967D2;\n",
              "      height: 32px;\n",
              "      padding: 0 0 0 0;\n",
              "      width: 32px;\n",
              "    }\n",
              "\n",
              "    .colab-df-convert:hover {\n",
              "      background-color: #E2EBFA;\n",
              "      box-shadow: 0px 1px 2px rgba(60, 64, 67, 0.3), 0px 1px 3px 1px rgba(60, 64, 67, 0.15);\n",
              "      fill: #174EA6;\n",
              "    }\n",
              "\n",
              "    .colab-df-buttons div {\n",
              "      margin-bottom: 4px;\n",
              "    }\n",
              "\n",
              "    [theme=dark] .colab-df-convert {\n",
              "      background-color: #3B4455;\n",
              "      fill: #D2E3FC;\n",
              "    }\n",
              "\n",
              "    [theme=dark] .colab-df-convert:hover {\n",
              "      background-color: #434B5C;\n",
              "      box-shadow: 0px 1px 3px 1px rgba(0, 0, 0, 0.15);\n",
              "      filter: drop-shadow(0px 1px 2px rgba(0, 0, 0, 0.3));\n",
              "      fill: #FFFFFF;\n",
              "    }\n",
              "  </style>\n",
              "\n",
              "    <script>\n",
              "      const buttonEl =\n",
              "        document.querySelector('#df-291ad046-df8c-4e5d-8fc9-cd5d1b15df6b button.colab-df-convert');\n",
              "      buttonEl.style.display =\n",
              "        google.colab.kernel.accessAllowed ? 'block' : 'none';\n",
              "\n",
              "      async function convertToInteractive(key) {\n",
              "        const element = document.querySelector('#df-291ad046-df8c-4e5d-8fc9-cd5d1b15df6b');\n",
              "        const dataTable =\n",
              "          await google.colab.kernel.invokeFunction('convertToInteractive',\n",
              "                                                    [key], {});\n",
              "        if (!dataTable) return;\n",
              "\n",
              "        const docLinkHtml = 'Like what you see? Visit the ' +\n",
              "          '<a target=\"_blank\" href=https://colab.research.google.com/notebooks/data_table.ipynb>data table notebook</a>'\n",
              "          + ' to learn more about interactive tables.';\n",
              "        element.innerHTML = '';\n",
              "        dataTable['output_type'] = 'display_data';\n",
              "        await google.colab.output.renderOutput(dataTable, element);\n",
              "        const docLink = document.createElement('div');\n",
              "        docLink.innerHTML = docLinkHtml;\n",
              "        element.appendChild(docLink);\n",
              "      }\n",
              "    </script>\n",
              "  </div>\n",
              "\n",
              "\n",
              "<div id=\"df-a6702225-c493-4f16-98f8-cb39628786a9\">\n",
              "  <button class=\"colab-df-quickchart\" onclick=\"quickchart('df-a6702225-c493-4f16-98f8-cb39628786a9')\"\n",
              "            title=\"Suggest charts\"\n",
              "            style=\"display:none;\">\n",
              "\n",
              "<svg xmlns=\"http://www.w3.org/2000/svg\" height=\"24px\"viewBox=\"0 0 24 24\"\n",
              "     width=\"24px\">\n",
              "    <g>\n",
              "        <path d=\"M19 3H5c-1.1 0-2 .9-2 2v14c0 1.1.9 2 2 2h14c1.1 0 2-.9 2-2V5c0-1.1-.9-2-2-2zM9 17H7v-7h2v7zm4 0h-2V7h2v10zm4 0h-2v-4h2v4z\"/>\n",
              "    </g>\n",
              "</svg>\n",
              "  </button>\n",
              "\n",
              "<style>\n",
              "  .colab-df-quickchart {\n",
              "      --bg-color: #E8F0FE;\n",
              "      --fill-color: #1967D2;\n",
              "      --hover-bg-color: #E2EBFA;\n",
              "      --hover-fill-color: #174EA6;\n",
              "      --disabled-fill-color: #AAA;\n",
              "      --disabled-bg-color: #DDD;\n",
              "  }\n",
              "\n",
              "  [theme=dark] .colab-df-quickchart {\n",
              "      --bg-color: #3B4455;\n",
              "      --fill-color: #D2E3FC;\n",
              "      --hover-bg-color: #434B5C;\n",
              "      --hover-fill-color: #FFFFFF;\n",
              "      --disabled-bg-color: #3B4455;\n",
              "      --disabled-fill-color: #666;\n",
              "  }\n",
              "\n",
              "  .colab-df-quickchart {\n",
              "    background-color: var(--bg-color);\n",
              "    border: none;\n",
              "    border-radius: 50%;\n",
              "    cursor: pointer;\n",
              "    display: none;\n",
              "    fill: var(--fill-color);\n",
              "    height: 32px;\n",
              "    padding: 0;\n",
              "    width: 32px;\n",
              "  }\n",
              "\n",
              "  .colab-df-quickchart:hover {\n",
              "    background-color: var(--hover-bg-color);\n",
              "    box-shadow: 0 1px 2px rgba(60, 64, 67, 0.3), 0 1px 3px 1px rgba(60, 64, 67, 0.15);\n",
              "    fill: var(--button-hover-fill-color);\n",
              "  }\n",
              "\n",
              "  .colab-df-quickchart-complete:disabled,\n",
              "  .colab-df-quickchart-complete:disabled:hover {\n",
              "    background-color: var(--disabled-bg-color);\n",
              "    fill: var(--disabled-fill-color);\n",
              "    box-shadow: none;\n",
              "  }\n",
              "\n",
              "  .colab-df-spinner {\n",
              "    border: 2px solid var(--fill-color);\n",
              "    border-color: transparent;\n",
              "    border-bottom-color: var(--fill-color);\n",
              "    animation:\n",
              "      spin 1s steps(1) infinite;\n",
              "  }\n",
              "\n",
              "  @keyframes spin {\n",
              "    0% {\n",
              "      border-color: transparent;\n",
              "      border-bottom-color: var(--fill-color);\n",
              "      border-left-color: var(--fill-color);\n",
              "    }\n",
              "    20% {\n",
              "      border-color: transparent;\n",
              "      border-left-color: var(--fill-color);\n",
              "      border-top-color: var(--fill-color);\n",
              "    }\n",
              "    30% {\n",
              "      border-color: transparent;\n",
              "      border-left-color: var(--fill-color);\n",
              "      border-top-color: var(--fill-color);\n",
              "      border-right-color: var(--fill-color);\n",
              "    }\n",
              "    40% {\n",
              "      border-color: transparent;\n",
              "      border-right-color: var(--fill-color);\n",
              "      border-top-color: var(--fill-color);\n",
              "    }\n",
              "    60% {\n",
              "      border-color: transparent;\n",
              "      border-right-color: var(--fill-color);\n",
              "    }\n",
              "    80% {\n",
              "      border-color: transparent;\n",
              "      border-right-color: var(--fill-color);\n",
              "      border-bottom-color: var(--fill-color);\n",
              "    }\n",
              "    90% {\n",
              "      border-color: transparent;\n",
              "      border-bottom-color: var(--fill-color);\n",
              "    }\n",
              "  }\n",
              "</style>\n",
              "\n",
              "  <script>\n",
              "    async function quickchart(key) {\n",
              "      const quickchartButtonEl =\n",
              "        document.querySelector('#' + key + ' button');\n",
              "      quickchartButtonEl.disabled = true;  // To prevent multiple clicks.\n",
              "      quickchartButtonEl.classList.add('colab-df-spinner');\n",
              "      try {\n",
              "        const charts = await google.colab.kernel.invokeFunction(\n",
              "            'suggestCharts', [key], {});\n",
              "      } catch (error) {\n",
              "        console.error('Error during call to suggestCharts:', error);\n",
              "      }\n",
              "      quickchartButtonEl.classList.remove('colab-df-spinner');\n",
              "      quickchartButtonEl.classList.add('colab-df-quickchart-complete');\n",
              "    }\n",
              "    (() => {\n",
              "      let quickchartButtonEl =\n",
              "        document.querySelector('#df-a6702225-c493-4f16-98f8-cb39628786a9 button');\n",
              "      quickchartButtonEl.style.display =\n",
              "        google.colab.kernel.accessAllowed ? 'block' : 'none';\n",
              "    })();\n",
              "  </script>\n",
              "</div>\n",
              "\n",
              "  <div id=\"id_7e4db28b-fc6a-4db7-9176-868a023ec291\">\n",
              "    <style>\n",
              "      .colab-df-generate {\n",
              "        background-color: #E8F0FE;\n",
              "        border: none;\n",
              "        border-radius: 50%;\n",
              "        cursor: pointer;\n",
              "        display: none;\n",
              "        fill: #1967D2;\n",
              "        height: 32px;\n",
              "        padding: 0 0 0 0;\n",
              "        width: 32px;\n",
              "      }\n",
              "\n",
              "      .colab-df-generate:hover {\n",
              "        background-color: #E2EBFA;\n",
              "        box-shadow: 0px 1px 2px rgba(60, 64, 67, 0.3), 0px 1px 3px 1px rgba(60, 64, 67, 0.15);\n",
              "        fill: #174EA6;\n",
              "      }\n",
              "\n",
              "      [theme=dark] .colab-df-generate {\n",
              "        background-color: #3B4455;\n",
              "        fill: #D2E3FC;\n",
              "      }\n",
              "\n",
              "      [theme=dark] .colab-df-generate:hover {\n",
              "        background-color: #434B5C;\n",
              "        box-shadow: 0px 1px 3px 1px rgba(0, 0, 0, 0.15);\n",
              "        filter: drop-shadow(0px 1px 2px rgba(0, 0, 0, 0.3));\n",
              "        fill: #FFFFFF;\n",
              "      }\n",
              "    </style>\n",
              "    <button class=\"colab-df-generate\" onclick=\"generateWithVariable('all_model_results')\"\n",
              "            title=\"Generate code using this dataframe.\"\n",
              "            style=\"display:none;\">\n",
              "\n",
              "  <svg xmlns=\"http://www.w3.org/2000/svg\" height=\"24px\"viewBox=\"0 0 24 24\"\n",
              "       width=\"24px\">\n",
              "    <path d=\"M7,19H8.4L18.45,9,17,7.55,7,17.6ZM5,21V16.75L18.45,3.32a2,2,0,0,1,2.83,0l1.4,1.43a1.91,1.91,0,0,1,.58,1.4,1.91,1.91,0,0,1-.58,1.4L9.25,21ZM18.45,9,17,7.55Zm-12,3A5.31,5.31,0,0,0,4.9,8.1,5.31,5.31,0,0,0,1,6.5,5.31,5.31,0,0,0,4.9,4.9,5.31,5.31,0,0,0,6.5,1,5.31,5.31,0,0,0,8.1,4.9,5.31,5.31,0,0,0,12,6.5,5.46,5.46,0,0,0,6.5,12Z\"/>\n",
              "  </svg>\n",
              "    </button>\n",
              "    <script>\n",
              "      (() => {\n",
              "      const buttonEl =\n",
              "        document.querySelector('#id_7e4db28b-fc6a-4db7-9176-868a023ec291 button.colab-df-generate');\n",
              "      buttonEl.style.display =\n",
              "        google.colab.kernel.accessAllowed ? 'block' : 'none';\n",
              "\n",
              "      buttonEl.onclick = () => {\n",
              "        google.colab.notebook.generateWithVariable('all_model_results');\n",
              "      }\n",
              "      })();\n",
              "    </script>\n",
              "  </div>\n",
              "\n",
              "    </div>\n",
              "  </div>\n"
            ],
            "application/vnd.google.colaboratory.intrinsic+json": {
              "type": "dataframe",
              "variable_name": "all_model_results",
              "summary": "{\n  \"name\": \"all_model_results\",\n  \"rows\": 5,\n  \"fields\": [\n    {\n      \"column\": \"accuracy\",\n      \"properties\": {\n        \"dtype\": \"number\",\n        \"std\": 6.037806590553834,\n        \"min\": 68.24440619621342,\n        \"max\": 83.98980537534754,\n        \"num_unique_values\": 5,\n        \"samples\": [\n          78.68065669270489,\n          83.98980537534754,\n          68.24440619621342\n        ],\n        \"semantic_type\": \"\",\n        \"description\": \"\"\n      }\n    },\n    {\n      \"column\": \"precision\",\n      \"properties\": {\n        \"dtype\": \"number\",\n        \"std\": 0.05943417361320001,\n        \"min\": 0.685786420250566,\n        \"max\": 0.8397515254550891,\n        \"num_unique_values\": 5,\n        \"samples\": [\n          0.7836118508263664,\n          0.8397515254550891,\n          0.685786420250566\n        ],\n        \"semantic_type\": \"\",\n        \"description\": \"\"\n      }\n    },\n    {\n      \"column\": \"recall\",\n      \"properties\": {\n        \"dtype\": \"number\",\n        \"std\": 0.06037806590553834,\n        \"min\": 0.6824440619621343,\n        \"max\": 0.8398980537534755,\n        \"num_unique_values\": 5,\n        \"samples\": [\n          0.7868065669270489,\n          0.8398980537534755,\n          0.6824440619621343\n        ],\n        \"semantic_type\": \"\",\n        \"description\": \"\"\n      }\n    },\n    {\n      \"column\": \"f1\",\n      \"properties\": {\n        \"dtype\": \"number\",\n        \"std\": 0.06435376397774478,\n        \"min\": 0.6811277614835535,\n        \"max\": 0.8394648022252182,\n        \"num_unique_values\": 5,\n        \"samples\": [\n          0.7847899171508497,\n          0.8394648022252182,\n          0.6811277614835535\n        ],\n        \"semantic_type\": \"\",\n        \"description\": \"\"\n      }\n    }\n  ]\n}"
            }
          },
          "metadata": {},
          "execution_count": 120
        },
        {
          "output_type": "display_data",
          "data": {
            "text/plain": [
              "<google.colab._quickchart_helpers.SectionTitle at 0x7c0675b1c130>"
            ],
            "text/html": [
              "<h4 class=\"colab-quickchart-section-title\">Distributions</h4>\n",
              "<style>\n",
              "  .colab-quickchart-section-title {\n",
              "      clear: both;\n",
              "  }\n",
              "</style>"
            ]
          },
          "metadata": {}
        },
        {
          "output_type": "display_data",
          "data": {
            "text/plain": [
              "from matplotlib import pyplot as plt\n",
              "all_model_results['accuracy'].plot(kind='hist', bins=20, title='accuracy')\n",
              "plt.gca().spines[['top', 'right',]].set_visible(False)"
            ],
            "text/html": [
              "      <div class=\"colab-quickchart-chart-with-code\" id=\"chart-5b9088e9-53b3-47d5-9ff8-60ad28e46e23\">\n",
              "        <img style=\"width: 180px;\" src=\"data:image/png;base64,iVBORw0KGgoAAAANSUhEUgAAAioAAAGrCAYAAADuNLxTAAAAOXRFWHRTb2Z0d2FyZQBNYXRwbG90\n",
              "bGliIHZlcnNpb24zLjguMCwgaHR0cHM6Ly9tYXRwbG90bGliLm9yZy81sbWrAAAACXBIWXMAAA9h\n",
              "AAAPYQGoP6dpAAAifElEQVR4nO3de1TUdf7H8dcISRdFESFIQFIumSamQiy6v6xOu9oa5W23bTW1\n",
              "RHTN7NhuZuZJ2wpbd0+6XY4o5lqWWuomq22tqdlFE9HNNSwBEyED8ZKOXUSBz+8PT6yTYoLzdT7A\n",
              "83HOnCPDx+H98fLleb7zZcZljDECAACwUDNfDwAAAFAbQgUAAFiLUAEAANYiVAAAgLUIFQAAYC1C\n",
              "BQAAWItQAQAA1iJUAACAtQgVAABgLUIFAABYi1ABAADWIlQANDhVVVWqrq729RgALgJCBcB5e+GF\n",
              "F9SlSxcFBgYqLCxMw4YN08GDB2s+v3DhQnXr1k2tWrXSlVdeqQkTJtR87rPPPlNqaqrCwsLUqlUr\n",
              "JScnq6SkRJIUHR2trKwsj6/lcrn07rvvSpLee+89uVwuLVmyRHFxcbr88stVXl6uN954Qz169FBQ\n",
              "UJDatm2r1NRU7dmzx+NxVq9ereTkZAUFBSk4OFiDBw+WJA0bNkwjR470WJubm6uAgACVl5d77w8N\n",
              "wAUhVACct7CwMK1YsUJHjhzR5s2blZ+fr/Hjx0uSsrKy9Ic//EF/+ctfdOjQIRUWFmrgwIGSpP37\n",
              "9+vnP/+5unTpovz8fB0+fFjPPfecLrvssjp9/aVLl2rTpk1yu90KCQlRy5Yt9dJLL+ngwYP6/PPP\n",
              "ZYzR3XffXbN+zZo1Gjx4sB566CHt379f+/bt09ixYyVJY8eO1euvv66jR4/WrM/MzNSAAQMUGhp6\n",
              "oX9UALzFAEA9rVixwrRp08YYY0znzp3NzJkzz7pu5syZpnPnzrU+Tvv27c28efM87pNk1qxZY4wx\n",
              "Zv369UaS+fzzz885z7Zt24wk43a7jTHG/OpXvzLjxo2rdX1CQoJ5/vnnjTHGHD161FxxxRVm/fr1\n",
              "5/waAC4uzqgAOG8rVqxQSkqKQkNDFRgYqGHDhunw4cOqqqrSnj17FB8ff9bfd67P1cXVV1/t8fGG\n",
              "DRt0yy23KDw8XIGBgbrxxhslqeapm5/6umPHjtXcuXMlSa+++qoiIiLUp0+fC54TgPcQKgDOy5df\n",
              "fqkhQ4Zo/PjxKi4ultvt1iuvvCJJMsYoOjpa+fn5Z/290dHRKigoqPWxW7ZsqW+//bbm46+++uqs\n",
              "65o1+98h68SJE+rfv7/69u2r/Px8ud1ubdiwoWaeH75ubTNJ0u9+9zsVFRXp448/VmZmptLT02td\n",
              "C8A3CBUA5+Wbb75RdXW12rZtq0svvVQFBQXKyMio+fyECRP0zDPPaN26daqqqtKxY8dqwuGee+7R\n",
              "l19+qalTp+rYsWOqqqpSbm5uzYW4PXv21OLFi3XkyBG53W498sgjPznPiRMn9P333ysoKEgtW7bU\n",
              "V199pccee8xjzYQJEzR//nwtX75cJ06c0PHjx7V27dqaz7do0ULDhg3TuHHjtGvXLg0fPtwbf1QA\n",
              "vIhQAXBerrnmGmVkZOiee+5Ry5YtNXz4cA0dOrTm86NHj1ZGRoYefPBBBQUFKTY2Vm+++aYk6cor\n",
              "r9T777+vrVu36uqrr1ZwcLDGjx+v48ePS5KefPJJBQYGKjIyUj169NCAAQN+cp4WLVooKytLTz75\n",
              "pFq0aKF+/fppyJAhHmt+8YtfaPHixZoxY4ZCQkIUERGhzMxMjzVjxozRtm3bNGTIELVp0+YC/5QA\n",
              "eJvL/HCOFACaoCNHjigsLExr165Vr169fD0OgB/hjAqAJquqqkrPPPOMEhISiBTAUv6+HgAAfGHH\n",
              "jh1KTk5Wu3bt9MYbb/h6HAC14KkfAABgLZ76AQAA1iJUAACAtQgVAABgLUIFAABYq1GEyuzZs309\n",
              "AgAAcECjCJW9e/f6egQAAOCARhEqAACgcSJUAACAtQgVAABgLUIFAABYi1ABAADWIlQAAIC1CBUA\n",
              "AGAtQgUAAFiLUAEAANYiVAAAgLUIFQAAYC1CBQAAWMvRUHnggQcUHR0tl8ulTz75pNZ18+fPV2xs\n",
              "rDp27Ki0tDSdPHnSybEAAEAD4WioDB48WB9++KHat29f65o9e/Zo6tSp+uCDD1RYWKj9+/dr7ty5\n",
              "To4FAAAaCEdD5f/+7/8UERFxzjXLli1TamqqwsLC5HK5NGbMGC1evLjW9RUVFXK73R63qqoqb48O\n",
              "AAAs4O/rAYqLiz3OuERHR6u4uLjW9RkZGZo+fbrHfcnJyY7MFv3IakceV5KKZvzKscfG//B36Mmp\n",
              "P4+G+GfREPHvGefSWP9/N7iLaSdPnqyjR4963JKSknw9FgAAcIDPz6hERUVp9+7dNR8XFRUpKiqq\n",
              "1vUBAQEKCAjwuM/Pz8+x+QAAgO/4/IzKoEGDlJ2drbKyMhljNGfOHN11112+HgsAAFjA0VBJT09X\n",
              "RESEvvzyS/3yl79UTEyMJGnUqFHKzs6WJHXo0EHTp09Xr169FBMTo5CQEKWnpzs5FgAAaCAcfeon\n",
              "MzPzrPdnZWV5fJyWlqa0tDQnRwEAAA2Qz5/6AQAAqA2hAgAArEWoAAAAaxEqAADAWoQKAACwFqEC\n",
              "AACsRagAAABrESoAAMBahAoAALAWoQIAAKxFqAAAAGsRKgAAwFqECgAAsBahAgAArEWoAAAAaxEq\n",
              "AADAWoQKAACwFqECAACsRagAAABrESoAAMBahAoAALAWoQIAAKxFqAAAAGsRKgAAwFqECgAAsBah\n",
              "AgAArEWoAAAAaxEqAADAWoQKAACwFqECAACsRagAAABrESoAAMBahAoAALAWoQIAAKxFqAAAAGsR\n",
              "KgAAwFqECgAAsBahAgAArEWoAAAAaxEqAADAWoQKAACwFqECAACsRagAAABrESoAAMBahAoAALAW\n",
              "oQIAAKxFqAAAAGsRKgAAwFqECgAAsBahAgAArEWoAAAAaxEqAADAWoQKAACwFqECAACsRagAAABr\n",
              "ESoAAMBahAoAALAWoQIAAKxFqAAAAGsRKgAAwFqECgAAsJajoVJQUKCUlBTFxcUpMTFReXl5Z6yp\n",
              "rq7WxIkTde2116pr16666aabVFhY6ORYAACggXA0VNLT0zV69Gjl5+dr0qRJGjFixBlrsrOz9dFH\n",
              "H2n79u3673//q1tuuUWPPvqok2MBAIAGwrFQKS8vV25uroYOHSpJGjRokEpKSs44W+JyuVRRUaHj\n",
              "x4/LGCO3262IiAinxgIAAA2Iv1MPXFJSovDwcPn7n/oSLpdLUVFRKi4uVkxMTM2622+/XevXr1dY\n",
              "WJhatmypdu3aacOGDbU+bkVFhSoqKjzuq6qqcmYTAADAp3x+MW1ubq4+/fRT7du3T1999ZVuueUW\n",
              "jRkzptb1GRkZatWqlcctJyfnIk4MAAAuFsdCJTIyUqWlpaqsrJQkGWNUXFysqKgoj3Uvv/yybr75\n",
              "ZrVu3VrNmjXT8OHDtX79+lofd/LkyTp69KjHLSkpyaltAAAAH3IsVEJDQ9W9e3ctWrRIkrR8+XJF\n",
              "RER4PO0jSR06dNC6det04sQJSdKqVavUpUuXWh83ICBAgYGBHjc/Pz+ntgEAAHzIsWtUJCkzM1Mj\n",
              "RozQ008/rcDAQC1YsECSNGrUKKWmpio1NVXjxo3TZ599poSEBF1yySUKCwvTnDlznBwLAAA0EI6G\n",
              "Snx8vDZt2nTG/VlZWTW/DggI0Lx585wcAwAANFA+v5gWAACgNoQKAACwFqECAACsRagAAABrESoA\n",
              "AMBahAoAALAWoQIAAKxFqAAAAGsRKgAAwFqECgAAsBahAgAArEWoAAAAaxEqAADAWoQKAACwFqEC\n",
              "AACsRagAAABrESoAAMBahAoAALAWoQIAAKxFqAAAAGsRKgAAwFqECgAAsBahAgAArEWoAAAAaxEq\n",
              "AADAWoQKAACwFqECAACsRagAAABrESoAAMBahAoAALAWoQIAAKxFqAAAAGsRKgAAwFqECgAAsBah\n",
              "AgAArEWoAAAAaxEqAADAWoQKAACwFqECAACsRagAAABrESoAAMBahAoAALAWoQIAAKxFqAAAAGsR\n",
              "KgAAwFqECgAAsBahAgAArEWoAAAAaxEqAADAWoQKAACwFqECAACsRagAAABrESoAAMBahAoAALAW\n",
              "oQIAAKxFqAAAAGsRKgAAwFqECgAAsBahAgAArEWoAAAAaxEqAADAWoQKAACwlqOhUlBQoJSUFMXF\n",
              "xSkxMVF5eXlnXbdjxw716dNHnTp1UqdOnbRixQonxwIAAA2Ev5MPnp6ertGjR2vEiBFatmyZRowY\n",
              "oS1btnis+e6773THHXfo5ZdfVu/evVVVVaXDhw87ORYAAGggHDujUl5ertzcXA0dOlSSNGjQIJWU\n",
              "lKiwsNBj3Wuvvabk5GT17t1bkuTn56eQkJBaH7eiokJut9vjVlVV5dQ2AACADzkWKiUlJQoPD5e/\n",
              "/6mTNi6XS1FRUSouLvZYt3PnTgUEBKh///7q1q2b7rnnHh04cKDWx83IyFCrVq08bjk5OU5tAwAA\n",
              "+FCdQ+Wdd97x6gCVlZV69913lZmZqf/85z9q166dxo4dW+v6yZMn6+jRox63pKQkr84EAADsUOdQ\n",
              "eeKJJxQfH6/Zs2fL7XbXui4yMlKlpaWqrKyUJBljVFxcrKioKI91UVFRuummm9SuXTu5XC4NHTpU\n",
              "H3/8ca2PGxAQoMDAQI+bn59fXbcBAAAagDqHykcffaQlS5bo008/VVxcnH7/+99r586dZ6wLDQ1V\n",
              "9+7dtWjRIknS8uXLFRERoZiYGI91v/71r7Vly5aa6HnrrbeUkJBQn70AAIBGpl7XqFx//fWaN2+e\n",
              "3n77ba1atUpdu3bVrbfeqh07dnisy8zMVGZmpuLi4jRjxgwtWLBAkjRq1ChlZ2dLOnVG5dFHH1VK\n",
              "Soq6du2qdevWac6cORe4LQAA0BjU68eT3333XT333HPasWOHxo0bp/vuu0/vvfeeBgwY4PFTPfHx\n",
              "8dq0adMZvz8rK8vj42HDhmnYsGH1GQUAADRidQ6VTp06qW3btnrggQc0cODAmutDBg8erPnz53t9\n",
              "QAAA0HTVOVQWLVqkHj16nPVz//rXvy54IAAAgB/U+RqVrVu3erxy7KFDhzRv3jyvDgUAACDVI1Re\n",
              "fPFFtWnTpubj4OBgvfjii14dCgAAQKpHqBhjzriPl7AHAABOqHOohIeH6/XXX6/5eOnSpQoPD/fq\n",
              "UAAAAFI9LqadNWuW7rjjDj388MOSpMsvv1wrV670+mAAAAB1DpVrrrlGO3fu1K5duySdeq0UXsIe\n",
              "AAA4oV4v+OZyudS6dWtVVlZq3759knTGe/gAAABcqDqHyt///nc98MADuuSSS9Ss2alLXFwul8rL\n",
              "y70+HAAAaNrqHCp/+tOftGXLFsXHxzsxDwAAQI06/9RP27ZtiRQAAHBR1DlU7rzzTs2aNUvl5eVy\n",
              "u901NwAAAG+r81M/U6ZMkSRNnDhRLpdLxhi5XC5e9A0AAHhdnUOlurraiTkAAADOUOenfqRTb0z4\n",
              "yiuvSJKOHDmi0tJSrw4FAAAg1fNNCe+9915NmzZN0ql3T7777ru9PRcAAEDdQ2Xu3Ln6+OOPFRgY\n",
              "KEnq2LGjDhw44PXBAAAA6hwqAQEBuuyyyzzu8/ev1wvcAgAAnFOdQyUkJET5+flyuVySTr1SLS+f\n",
              "DwAAnFCvd0/+7W9/q88//1yRkZEKDAzUqlWrnJgNAAA0cXUOlZiYGG3evFm7du2SMYZ3TwYAAI6p\n",
              "c6gUFxdLkq644gpJ4t2TAQCAY+ocKj169Kh5Rdrjx4/ru+++U3BwMO+eDAAAvK7OofLjH0VesWKF\n",
              "tm/f7rWBAAAAflCvV6Y93cCBA7V69WpvzAIAAOChzmdUTn+n5KqqKm3evJl3TwYAAI6oc6i0bt26\n",
              "5hoVPz8/xcbG6m9/+5sTswEAgCaOd08GAADWuuBrVAAAAJxS5zMqzZo1q3n5/NMZY+RyuVRVVeWV\n",
              "wQAAAOocKk888YS+//57jR07VpI0Z84cXXbZZXrwwQe9PRsAAGji6hwq//jHP7R169aaj5988kn1\n",
              "6NFDU6ZM8epgAAAAdb5G5dixYx6vQlteXq5jx455dSgAAACpHmdUHnroISUkJOi2226TJL399tua\n",
              "Nm2at+cCAACoe6ikp6erV69eWr9+vSRp4sSJ6ty5s9cHAwAAqHOoSFJwcLCuu+469enTR5WVlTpx\n",
              "4oSaN2/u7dkAAEATV+drVJYtW6bk5GSNHDlSkpSXl6c777zT23MBAADUPVQyMjK0bds2tW7dWpKU\n",
              "kJCgvXv3ensuAACAuoeKn5+fgoODPe7jaR8AAOCEOodKy5YttX///ppXp127dq3atGnj9cEAAADq\n",
              "fDHtM888o379+umLL75Q7969tWfPHq1evdqJ2QAAQBNXp1Cprq5WVVWV1q9fr40bN8oYo5SUlJrr\n",
              "VQAAALypTqHSrFkzjR49Wtu3b1e/fv2cmgkAAEBSPa5RiY2NVWFhoROzAAAAeKjzNSqHDx9Wt27d\n",
              "lJKSohYtWtTcv2LFCq8OBgAAcN6hMnr0aM2dO1fDhw9XamqqgoKCnJwLAADg/EMlNzdXkjR8+HB1\n",
              "795d27Ztc2woAAAAqR7XqEiSMcbbcwAAAJzhvM+ofP/999qxY4eMMTp+/HjNr3/QtWtXRwYEAABN\n",
              "V51CJTU1tebj03/tcrn0xRdfeHcyAADQ5J13qBQVFTk4BgAAwJnqdY0KAADAxUCoAAAAaxEqAADA\n",
              "WoQKAACwFqECAACsRagAAABrESoAAMBahAoAALAWoQIAAKzlaKgUFBQoJSVFcXFxSkxMVF5eXq1r\n",
              "jTG6+eab1bp1aydHAgAADYijoZKenq7Ro0crPz9fkyZN0ogRI2pd++yzz6pjx45OjgMAABoYx0Kl\n",
              "vLxcubm5Gjp0qCRp0KBBKikpUWFh4Rlr8/Ly9Oabb+qRRx75ycetqKiQ2+32uFVVVXl9fgAA4HuO\n",
              "hUpJSYnCw8Pl73/qfQ9dLpeioqJUXFzsse7kyZNKS0tTZmam/Pz8fvJxMzIy1KpVK49bTk6OI3sA\n",
              "AAC+5fOLaadPn66BAweqU6dO57V+8uTJOnr0qMctKSnJ4SkBAIAv+Dv1wJGRkSotLVVlZaX8/f1l\n",
              "jFFxcbGioqI81m3YsEHFxcV6/vnnVVlZKbfbrejoaG3ZskUhISFnPG5AQIACAgI87jufMzEAAKDh\n",
              "ceyMSmhoqLp3765FixZJkpYvX66IiAjFxMR4rPvggw+0d+9eFRUV6cMPP1RgYKCKiorOGikAAKBp\n",
              "cfSpn8zMTGVmZiouLk4zZszQggULJEmjRo1Sdna2k18aAAA0Ao499SNJ8fHx2rRp0xn3Z2VlnXV9\n",
              "dHS0jhw54uRIAACgAfH5xbQAAAC1IVQAAIC1CBUAAGAtQgUAAFiLUAEAANYiVAAAgLUIFQAAYC1C\n",
              "BQAAWItQAQAA1iJUAACAtQgVAABgLUIFAABYi1ABAADWIlQAAIC1CBUAAGAtQgUAAFiLUAEAANYi\n",
              "VAAAgLUIFQAAYC1CBQAAWItQAQAA1iJUAACAtQgVAABgLUIFAABYi1ABAADWIlQAAIC1CBUAAGAt\n",
              "QgUAAFiLUAEAANYiVAAAgLUIFQAAYC1CBQAAWItQAQAA1iJUAACAtQgVAABgLUIFAABYi1ABAADW\n",
              "IlQAAIC1CBUAAGAtQgUAAFiLUAEAANYiVAAAgLUIFQAAYC1CBQAAWItQAQAA1iJUAACAtQgVAABg\n",
              "LUIFAABYi1ABAADWIlQAAIC1CBUAAGAtQgUAAFiLUAEAANYiVAAAgLUIFQAAYC1CBQAAWItQAQAA\n",
              "1iJUAACAtQgVAABgLUIFAABYi1ABAADWIlQAAIC1HA2VgoICpaSkKC4uTomJicrLyztjzbp165SU\n",
              "lKRrr71WnTt31sMPP6zq6monxwIAAA2Eo6GSnp6u0aNHKz8/X5MmTdKIESPOWBMUFKQlS5Zo586d\n",
              "2rp1qzZu3KiXX37ZybEAAEAD4ViolJeXKzc3V0OHDpUkDRo0SCUlJSosLPRYd/3116tDhw6SpEsv\n",
              "vVTdunVTUVFRrY9bUVEht9vtcauqqnJqGwAAwIccC5WSkhKFh4fL399fkuRyuRQVFaXi4uJaf09Z\n",
              "WZmWLVum/v3717omIyNDrVq18rjl5OR4fX4AAOB71lxM63a7dfvtt+vhhx9Wz549a103efJkHT16\n",
              "1OOWlJR0EScFAAAXi79TDxwZGanS0lJVVlbK399fxhgVFxcrKirqjLXHjh1T3759dccdd2jixInn\n",
              "fNyAgAAFBAR43Ofn5+fV2QEAgB0cO6MSGhqq7t27a9GiRZKk5cuXKyIiQjExMR7rvvnmG/Xt21d9\n",
              "+/bVY4895tQ4AACgAXL0qZ/MzExlZmYqLi5OM2bM0IIFCyRJo0aNUnZ2tiRp9uzZysnJ0YoVK9St\n",
              "Wzd169ZNTz31lJNjAQCABsKxp34kKT4+Xps2bTrj/qysrJpfT5kyRVOmTHFyDAAA0EBZczEtAADA\n",
              "jxEqAADAWoQKAACwFqECAACsRagAAABrESoAAMBahAoAALAWoQIAAKxFqAAAAGsRKgAAwFqECgAA\n",
              "sBahAgAArEWoAAAAaxEqAADAWoQKAACwFqECAACsRagAAABrESoAAMBahAoAALAWoQIAAKxFqAAA\n",
              "AGsRKgAAwFqECgAAsBahAgAArEWoAAAAaxEqAADAWoQKAACwFqECAACsRagAAABrESoAAMBahAoA\n",
              "ALAWoQIAAKxFqAAAAGsRKgAAwFqECgAAsBahAgAArEWoAAAAaxEqAADAWoQKAACwFqECAACsRagA\n",
              "AABrESoAAMBahAoAALAWoQIAAKxFqAAAAGsRKgAAwFqECgAAsBahAgAArEWoAAAAaxEqAADAWoQK\n",
              "AACwFqECAACsRagAAABrESoAAMBahAoAALAWoQIAAKxFqAAAAGsRKgAAwFqECgAAsBahAgAArEWo\n",
              "AAAAazkaKgUFBUpJSVFcXJwSExOVl5d31nXz589XbGysOnbsqLS0NJ08edLJsQAAQAPhaKikp6dr\n",
              "9OjRys/P16RJkzRixIgz1uzZs0dTp07VBx98oMLCQu3fv19z5851ciwAANBAOBYq5eXlys3N1dCh\n",
              "QyVJgwYNUklJiQoLCz3WLVu2TKmpqQoLC5PL5dKYMWO0ePHiWh+3oqJCbrfb41ZVVeXUNgAAgA+5\n",
              "jDHGiQfeunWr7r77bu3atavmvqSkJM2YMUM333xzzX3jx4/XVVddpcmTJ0uSdu7cqb59+6q4uPis\n",
              "jztt2jRNnz7d475rrrlG/fr1q/OMVVVVysnJUVJSkvz8/Or8+xuKprBP9th4NIV9ssfGoSnsUXJ2\n",
              "n+3bt9eECRPOucbfq1/xIpg8ebImTpzocV9AQIACAgLq/Fhut1utWrXSO++8o8DAQG+NaJ2msE/2\n",
              "2Hg0hX2yx8ahKexR8v0+HQuVyMhIlZaWqrKyUv7+/jLGqLi4WFFRUR7roqKitHv37pqPi4qKzlhz\n",
              "uvpGCQAAaHgcu0YlNDRU3bt316JFiyRJy5cvV0REhGJiYjzWDRo0SNnZ2SorK5MxRnPmzNFdd93l\n",
              "1FgAAKABcfSnfjIzM5WZmam4uDjNmDFDCxYskCSNGjVK2dnZkqQOHTpo+vTp6tWrl2JiYhQSEqL0\n",
              "9HQnxwIAAA2Eo9eoxMfHa9OmTWfcn5WV5fFxWlqa0tLSnBzlrAICAvT44483+qeSmsI+2WPj0RT2\n",
              "yR4bh6awR8n3+3Tsp34AAAAuFC+hDwAArEWoAAAAaxEqAADAWoQKAACwVpMKlYqKCt1///2KjY3V\n",
              "ddddV/M+RG+99Za6d++ubt26qUuXLlq4cKGPJ62/Q4cOqVu3bjW3uLg4+fv76/DhwyovL1ffvn0V\n",
              "GxurLl266P333/f1uPVyrj2OHDlScXFxSkhIUK9evbRlyxZfj1sv59rjD9atWyc/Pz/NmjXLd4Ne\n",
              "gHPt0RijadOmKS4uTtddd51uuukmX49bb+faZ05OjpKTk3X99derU6dO+vOf/+zrceuttuNoYznu\n",
              "SLXvsbEcd6Sf/n7ok+OOaUIefPBBc//995vq6mpjjDGlpaWmurraBAUFme3btxtjjNmzZ48JCAgw\n",
              "brfbl6N6zcyZM03//v2NMcaMHDnSPP7448YYY3Jycky7du3MiRMnfDidd5y+x5UrV5qTJ08aY4z5\n",
              "5z//adq3b+/Dybzn9D0aY8yRI0dMYmKi6d+/v3n22Wd9N5gXnb7HWbNmmQEDBpiKigpjzKn/q43F\n",
              "6ftMSEgwK1euNMYYc+jQIRMSEmLy8vJ8OV69nOs42liOO+faY2M57vzU90NfHXeazBmVb7/9VvPn\n",
              "z9dTTz0ll8slSQoLC5MkuVwuHTlyRNKp9zQIDg5uND8XP3/+fN13332SpNdff11jxoyRJCUmJuqq\n",
              "q67Shg0bfDmeV5y+x9TUVPn7n3p5oOTkZO3bt0+VlZW+HM8rTt+jJN1///167LHHFBwc7MOpvOv0\n",
              "Pc6cOVMzZsxQ8+bNJf3v/2pjcPo+Tz/2fPvtt2revLnatGnjw+nqr7bjaGM67tS2x8Z03DnX90Nf\n",
              "HXeaTKjs3r1bbdq00dNPP62ePXvq5z//udauXSuXy6WlS5dq4MCBat++vXr37q2FCxfWHCAbso0b\n",
              "N+rrr79W//79dejQIZ08edLjgB8dHV3ru1Q3FKfv8cdmz56t2267reYA0lD9eI/Lli1Ts2bNlJqa\n",
              "6uPJvOf0Pbrdbu3fv18rV67UDTfcoBtuuEFLly719Yhe8eO/ywULFmjq1KmKiopSXFycnn766QYZ\n",
              "ZbUdR48dO9Zojjvn+72iIR93zrVHnx53Ltq5Gx/bunWrkWQWLlxojDFm27ZtJjg42JSVlZkbb7zR\n",
              "bNiwwRhz6tRkWFiYOXDggC/H9Yp7773X/PGPfzTGGHPw4EHTvHlzj88PGTLEzJ8/3xejec3pezzd\n",
              "K6+8YuLi4kxZWZkPpvKu0/dYWlpqEhISzNdff22MMWb48OGN4qmf0/d46NAhI8lMnz7dGHPq9HN4\n",
              "eLj55JNPfDmiV/z43+tvfvMb8+qrrxpjjNm9e7eJiIhokE/9nDx58qzH0bKyskZz3Kltj6d/r2jo\n",
              "x53a9lhSUuLT406TCZUDBw6YZs2amcrKypr7evbsaWbOnGliY2M91vbs2dP8+9//vtgjetWxY8dM\n",
              "ixYtzGeffVZz3+WXX+7xXH9iYqJZs2aNL8bzirPt0RhjlixZYmJiYszevXt9NJn3/HiPq1atMqGh\n",
              "oaZ9+/amffv25oorrjBBQUHm0Ucf9fGk9Xe2v8cWLVqY3bt313w8ePBgM2/ePF+M5zU/3ueBAwfO\n",
              "+CY+ePBgM3fuXF+Md0G2bNlS63G0sRx3zrVHYxrHcae2Pb755ps+Pe40mVAxxphbb73VrF692hhj\n",
              "zBdffGGCg4NNUVGRadGihdm5c6cxxpiCggITFBTUoP+xGWNMVlaW6dWrl8d9w4cP97io7aqrrmqQ\n",
              "F7X94Gx7XLp0qYmJiTFFRUU+msq7zrbH0zWGMypn22NaWpp54YUXjDGnzrBERUWZzZs3+2I8r/nx\n",
              "PisrK01QUJBZu3atMeZUuERGRpqNGzf6asR6Kysrq/U42liOO+faY2M57pxrj6fjjIqDdu/ebfr0\n",
              "6WO6dOliunbtapYtW2aMMea1116rua9Lly41p2Ibsp/97GfmpZde8rivrKzM3HrrrSYmJsZce+21\n",
              "Zt26dT6azjvOtkd/f38TERFhEhISam4HDx700YQX7mx7PF1jCJWz7fHgwYPm9ttvN507dzadO3eu\n",
              "iZaG7Gz7XLNmjenevbvp2rWr6dSpk/nrX//qo+kuXG3H0cZ03Kltj43puHM+3w8v9nGHNyUEAADW\n",
              "ajI/9QMAABoeQgUAAFiLUAEAANYiVAAAgLUIFQAAYC1CBQAAWItQAQAA1iJUAACAtQgVAABgLUIF\n",
              "AABY6/8BScnRTzEvZOUAAAAASUVORK5CYII=\n",
              "\">\n",
              "      </div>\n",
              "      <script type=\"text/javascript\">\n",
              "        (() => {\n",
              "          const chartElement = document.getElementById(\"chart-5b9088e9-53b3-47d5-9ff8-60ad28e46e23\");\n",
              "          async function getCodeForChartHandler(event) {\n",
              "            const chartCodeResponse =  await google.colab.kernel.invokeFunction(\n",
              "                'getCodeForChart', [\"chart-5b9088e9-53b3-47d5-9ff8-60ad28e46e23\"], {});\n",
              "            const responseJson = chartCodeResponse.data['application/json'];\n",
              "            await google.colab.notebook.addCell(responseJson.code, 'code');\n",
              "          }\n",
              "          chartElement.onclick = getCodeForChartHandler;\n",
              "        })();\n",
              "      </script>\n",
              "      <style>\n",
              "        .colab-quickchart-chart-with-code  {\n",
              "            display: block;\n",
              "            float: left;\n",
              "            border: 1px solid transparent;\n",
              "        }\n",
              "\n",
              "        .colab-quickchart-chart-with-code:hover {\n",
              "            cursor: pointer;\n",
              "            border: 1px solid #aaa;\n",
              "        }\n",
              "      </style>"
            ]
          },
          "metadata": {}
        },
        {
          "output_type": "display_data",
          "data": {
            "text/plain": [
              "from matplotlib import pyplot as plt\n",
              "all_model_results['precision'].plot(kind='hist', bins=20, title='precision')\n",
              "plt.gca().spines[['top', 'right',]].set_visible(False)"
            ],
            "text/html": [
              "      <div class=\"colab-quickchart-chart-with-code\" id=\"chart-c07d6ba2-922e-49e9-a659-5821abbbcb56\">\n",
              "        <img style=\"width: 180px;\" src=\"data:image/png;base64,iVBORw0KGgoAAAANSUhEUgAAAioAAAGrCAYAAADuNLxTAAAAOXRFWHRTb2Z0d2FyZQBNYXRwbG90\n",
              "bGliIHZlcnNpb24zLjguMCwgaHR0cHM6Ly9tYXRwbG90bGliLm9yZy81sbWrAAAACXBIWXMAAA9h\n",
              "AAAPYQGoP6dpAAAjT0lEQVR4nO3de3CU5f2/8feSwFYhEIgBImGJEBKOSQBJOWkBx3L4AgpYQBtK\n",
              "0ISAqK20VdE6ilqJbW1FO5QgFAepRwKaQaujJVpEMAQQEZQQJWw4hlZg8RTY5P79wZif2xDMwj7J\n",
              "neR6zewMu7l58rmjPlzuPuy6jDFGAAAAFmpW3wMAAADUhFABAADWIlQAAIC1CBUAAGAtQgUAAFiL\n",
              "UAEAANYiVAAAgLUIFQAAYC1CBQAAWItQAWCtDRs2qFWrVqqoqPjBtbNnz1ZGRkYdTAWgLrl4C30A\n",
              "AGArnlEB4IiKigpVVlbW9xgAGjhCBUCtDR8+XLfddpsmTZqkiIgIxcfHa+XKlZKkd955Ry6XSy+8\n",
              "8IISEhJ06aWXqqysTCdOnNCcOXPUpUsXRUVFaezYsfr888+rjun3+/XnP/9ZvXr1UkREhGJjY/XY\n",
              "Y48FHNPv90uS8vPzdeWVV6pNmzaKiorS0KFDdfz4cUlSenq60tLSqo578OBBTZkyRR06dFCHDh00\n",
              "depUHTp0qOrr6enpmjZtmm677TZFRUWpQ4cOuv/++x3/GQIIDqECICjLly/XzJkzdfz4cT355JPK\n",
              "yMjQxo0bq77+4osvatOmTfL5fIqOjtbEiRPl8/m0fft2HTp0SH379tW4ceN05swZSdKDDz6oxYsX\n",
              "65lnntHJkyf10Ucf6eqrrz7n905LS9PcuXN14sQJHT58WH/605/UokWLausqKio0btw4hYWFqaio\n",
              "SHv27JExRhMmTAi43mXt2rUaNmyYysrK9Morryg7O1v5+fkh/okBuBiECoCgjB07VuPHj1d4eLjG\n",
              "jh2riRMn6u9//3vV17OzsxUVFSW3260dO3Zo48aNysnJUbt27eR2u/Xoo49q3759+uCDD2SM0aJF\n",
              "i5Sdna3U1FQ1a9ZM7dq10+DBg8/5vVu0aKHPPvtMhw4dUosWLTR48GC1bNmy2rqCggLt2LFDixcv\n",
              "Vps2bRQZGam//e1v2rZtm7Zs2VK1bujQoZo2bZrCwsI0ePBgpaSkqKCgIPQ/NAAXjFABEJQrrrii\n",
              "2v3S0tJzfn3v3r3y+/2KjY1VZGSkIiMjFRUVJUkqLS3Vf/7zH3355ZdKTEys1ffOy8vT559/rgED\n",
              "Big+Pl4PPPBA1ctC31daWqp27dqpbdu2VY9FRUWpbdu28nq9VY9dfvnlAb+vZcuWOnXqVK1mAVA3\n",
              "wut7AAANS0lJSbX7sbGxVfebNfv////TsWNHtWjRQseOHVPz5s2rHcsYo1atWqmoqEh9+/b9we/d\n",
              "t29fPffcc5KkDz/8UKNGjVJsbKwyMzMD1nXu3FnHjx/X8ePHq2Lliy++0PHjx+XxeGq9VwD1j2dU\n",
              "AATl9ddf12uvvaaKigq98cYbWrt2rWbOnHnOtcOGDVOfPn00Z84clZWVSZKOHz+u3Nxcff3113K5\n",
              "XLr99ts1f/58FRYWyhijL774Qps2bap2rNOnT2vFihU6duyYJKlNmzYKCwtTeHj1/99KTU1Vnz59\n",
              "dNttt8nn8+nkyZOaO3euUlJSNHDgwBD+NAA4jVABEJSbb75Zy5cvV2RkpObOnaslS5boqquuOufa\n",
              "sLAwvfXWW7r00kv14x//WBEREUpOTtbatWvlcrkkSQ899JAyMjL085//XBEREUpKStKGDRvOebzV\n",
              "q1erd+/eatmypX7yk58oPT1dM2bMOOf3XbduncrLyxUfH6/u3bvL7/crLy9PYWFhofthAHAcb/gG\n",
              "oNaGDx+uYcOG6ZFHHqnvUQA0ETyjAgAArEWoAAAAa/HSDwAAsBbPqAAAAGsRKgAAwFqECgAAsBah\n",
              "AgAArNUoQmXRokX1PQIAAHBAowiV/fv31/cIAADAAY0iVAAAQONEqAAAAGsRKgAAwFqECgAAsBah\n",
              "AgAArEWoAAAAaxEqAADAWoQKAACwFqECAACsRagAAABrESoAAMBahAoAALCWo6Fyxx13KC4uTi6X\n",
              "Sx9++GGN65YvX67u3burW7duyszM1JkzZ5wcCwAANBCOhsoNN9yg9957T126dKlxzb59+3T//fdr\n",
              "w4YNKi4u1tGjR7V06VInxwIAAA2Eo6Fy9dVXKzY29rxrVq9erQkTJqhjx45yuVyaPXu2nn/++RrX\n",
              "l5eXy+fzBdwqKipCPToAALBAeH0P4PV6A55xiYuLk9frrXH9woULtWDBgoDHBg0a5Mhscfe85shx\n",
              "Jakk+/8cO3ZD5NTPmp9zIH7OdYOfM+pDY/33rsFdTDt//nydPHky4JaamlrfYwEAAAfU+zMqHo9H\n",
              "n332WdX9kpISeTyeGte73W653e6Ax8LCwhybDwAA1J96f0Zl8uTJysvL05EjR2SM0ZIlSzRt2rT6\n",
              "HgsAAFjA0VDJyspSbGysDhw4oFGjRik+Pl6SlJGRoby8PElS165dtWDBAg0dOlTx8fGKjo5WVlaW\n",
              "k2MBAIAGwtGXfnJycs75+LJlywLuZ2ZmKjMz08lRAABAA1TvL/0AAADUhFABAADWIlQAAIC1CBUA\n",
              "AGAtQgUAAFiLUAEAANYiVAAAgLUIFQAAYC1CBQAAWItQAQAA1iJUAACAtQgVAABgLUIFAABYi1AB\n",
              "AADWIlQAAIC1CBUAAGAtQgUAAFiLUAEAANYiVAAAgLUIFQAAYC1CBQAAWItQAQAA1iJUAACAtQgV\n",
              "AABgLUIFAABYi1ABAADWIlQAAIC1CBUAAGAtQgUAAFiLUAEAANYiVAAAgLUIFQAAYC1CBQAAWItQ\n",
              "AQAA1iJUAACAtQgVAABgLUIFAABYi1ABAADWIlQAAIC1CBUAAGAtQgUAAFiLUAEAANYiVAAAgLUI\n",
              "FQAAYC1CBQAAWItQAQAA1iJUAACAtQgVAABgLUIFAABYi1ABAADWIlQAAIC1CBUAAGAtQgUAAFiL\n",
              "UAEAANYiVAAAgLUIFQAAYC1CBQAAWItQAQAA1iJUAACAtQgVAABgLUIFAABYy9FQ2bt3r4YMGaKE\n",
              "hAQNHDhQu3btqramsrJS8+bNU69evZSUlKQRI0aouLjYybEAAEAD4WioZGVladasWSoqKtLdd9+t\n",
              "9PT0amvy8vK0ceNG7dixQx999JGuueYa3XvvvU6OBQAAGgjHQqWsrEyFhYVKS0uTJE2ePFmlpaXV\n",
              "ni1xuVwqLy/Xt99+K2OMfD6fYmNjnRoLAAA0IOFOHbi0tFQxMTEKDz/7LVwulzwej7xer+Lj46vW\n",
              "jR8/Xvn5+erYsaMiIiLUqVMnvfvuuzUet7y8XOXl5QGPVVRUOLMJAABQr+r9YtrCwkJ9/PHHOnjw\n",
              "oA4dOqRrrrlGs2fPrnH9woUL1aZNm4BbQUFBHU4MAADqimOh0rlzZx0+fFh+v1+SZIyR1+uVx+MJ\n",
              "WLdy5UqNHDlSkZGRatasmWbMmKH8/Pwajzt//nydPHky4JaamurUNgAAQD1yLFTat2+v/v37a9Wq\n",
              "VZKk3NxcxcbGBrzsI0ldu3bV+vXrdfr0aUnSunXr1KdPnxqP63a71bp164BbWFiYU9sAAAD1yLFr\n",
              "VCQpJydH6enpevTRR9W6dWutWLFCkpSRkaEJEyZowoQJmjt3rj755BMlJyerefPm6tixo5YsWeLk\n",
              "WAAAoIFwNFQSExO1adOmao8vW7as6tdut1tPP/20k2MAAIAGqt4vpgUAAKgJoQIAAKxFqAAAAGsR\n",
              "KgAAwFqECgAAsBahAgAArEWoAAAAaxEqAADAWoQKAACwFqECAACsRagAAABrESoAAMBahAoAALAW\n",
              "oQIAAKxFqAAAAGsRKgAAwFqECgAAsBahAgAArEWoAAAAaxEqAADAWoQKAACwFqECAACsRagAAABr\n",
              "ESoAAMBahAoAALAWoQIAAKxFqAAAAGsRKgAAwFqECgAAsBahAgAArEWoAAAAaxEqAADAWoQKAACw\n",
              "FqECAACsRagAAABrESoAAMBahAoAALAWoQIAAKxFqAAAAGsRKgAAwFqECgAAsBahAgAArEWoAAAA\n",
              "axEqAADAWoQKAACwFqECAACsRagAAABrESoAAMBahAoAALAWoQIAAKxFqAAAAGsRKgAAwFqECgAA\n",
              "sBahAgAArEWoAAAAaxEqAADAWoQKAACwFqECAACsRagAAABrESoAAMBahAoAALAWoQIAAKzlaKjs\n",
              "3btXQ4YMUUJCggYOHKhdu3adc93OnTs1fPhw9ezZUz179tSaNWucHAsAADQQ4U4ePCsrS7NmzVJ6\n",
              "erpWr16t9PR0bdmyJWDN119/reuuu04rV67UsGHDVFFRoS+++MLJsQAAQAPh2DMqZWVlKiwsVFpa\n",
              "miRp8uTJKi0tVXFxccC65557ToMGDdKwYcMkSWFhYYqOjq7xuOXl5fL5fAG3iooKp7YBAADqkWOh\n",
              "UlpaqpiYGIWHn33SxuVyyePxyOv1BqzbvXu33G63xo0bp5SUFP3iF7/QsWPHajzuwoUL1aZNm4Bb\n",
              "QUGBU9sAAAD1KOhQefPNN0M6gN/v19tvv62cnBxt375dnTp10pw5c2pcP3/+fJ08eTLglpqaGtKZ\n",
              "AACAHYIOlYceekiJiYlatGiRfD5fjes6d+6sw4cPy+/3S5KMMfJ6vfJ4PAHrPB6PRowYoU6dOsnl\n",
              "ciktLU2bN2+u8bhut1utW7cOuIWFhQW7DQAA0AAEHSobN27UCy+8oI8//lgJCQm69dZbtXv37mrr\n",
              "2rdvr/79+2vVqlWSpNzcXMXGxio+Pj5g3ZQpU7Rly5aq6Hn99deVnJx8IXsBAACNzAVdo9KvXz89\n",
              "/fTTeuONN7Ru3TolJSXp2muv1c6dOwPW5eTkKCcnRwkJCcrOztaKFSskSRkZGcrLy5N09hmVe++9\n",
              "V0OGDFFSUpLWr1+vJUuWXOS2AABAY3BBfz357bff1lNPPaWdO3dq7ty5uuWWW/TOO+9o4sSJAX+r\n",
              "JzExUZs2bar2+5ctWxZwf/r06Zo+ffqFjAIAABqxoEOlZ8+euuyyy3THHXdo0qRJVdeH3HDDDVq+\n",
              "fHnIBwQAAE1X0KGyatUqDRgw4Jxf++c//3nRAwEAAHwn6GtUtm7dGvDOsf/973/19NNPh3QoAAAA\n",
              "6QJCZfHixWrXrl3V/aioKC1evDikQwEAAEgXECrGmGqP8Rb2AADACUGHSkxMjF566aWq+y+++KJi\n",
              "YmJCOhQAAIB0ARfTPvHEE7ruuut01113SZIuvfRSvfrqqyEfDAAAIOhQ6dGjh3bv3q09e/ZIOvte\n",
              "KbyFPQAAcMIFveGby+VSZGSk/H6/Dh48KEnVPsMHAADgYgUdKs8884zuuOMONW/eXM2anb3ExeVy\n",
              "qaysLOTDAQCApi3oUHn44Ye1ZcsWJSYmOjEPAABAlaD/1s9ll11GpAAAgDoRdKhcf/31euKJJ1RW\n",
              "Viafz1d1AwAACLWgX/q57777JEnz5s2Ty+WSMUYul4s3fQMAACEXdKhUVlY6MQcAAEA1Qb/0I539\n",
              "YMJnn31WknTixAkdPnw4pEMBAABIF/ihhDfffLMefPBBSWc/Pfmmm24K9VwAAADBh8rSpUu1efNm\n",
              "tW7dWpLUrVs3HTt2LOSDAQAABB0qbrdbl1xyScBj4eEX9Aa3AAAA5xV0qERHR6uoqEgul0vS2Xeq\n",
              "5e3zAQCAEy7o05NvvPFGffrpp+rcubNat26tdevWOTEbAABo4oIOlfj4eH3wwQfas2ePjDF8ejIA\n",
              "AHBM0KHi9XolSS1btpQkPj0ZAAA4JuhQGTBgQNU70n777bf6+uuvFRUVxacnAwCAkAs6VP73ryKv\n",
              "WbNGO3bsCNlAAAAA37mgd6b9vkmTJum1114LxSwAAAABgn5G5fuflFxRUaEPPviAT08GAACOCDpU\n",
              "IiMjq65RCQsLU/fu3fXkk086MRsAAGji+PRkAABgrYu+RgUAAMApQT+j0qxZs6q3z/8+Y4xcLpcq\n",
              "KipCMhgAAEDQofLQQw/pm2++0Zw5cyRJS5Ys0SWXXKJf/epXoZ4NAAA0cUGHytq1a7V169aq+488\n",
              "8ogGDBig++67L6SDAQAABH2NyqlTpwLehbasrEynTp0K6VAAAADSBTyj8utf/1rJyckaO3asJOmN\n",
              "N97Qgw8+GOq5AAAAgg+VrKwsDR06VPn5+ZKkefPmqXfv3iEfDAAAIOhQkaSoqCj17dtXw4cPl9/v\n",
              "1+nTp9WiRYtQzwYAAJq4oK9RWb16tQYNGqSZM2dKknbt2qXrr78+1HMBAAAEHyoLFy7Utm3bFBkZ\n",
              "KUlKTk7W/v37Qz0XAABA8KESFhamqKiogMd42QcAADgh6FCJiIjQ0aNHq96d9l//+pfatWsX8sEA\n",
              "AACCvpj2scce05gxY/T5559r2LBh2rdvn1577TUnZgMAAE1cUKFSWVmpiooK5efn6/3335cxRkOG\n",
              "DKm6XgUAACCUggqVZs2aadasWdqxY4fGjBnj1EwAAACSLuAale7du6u4uNiJWQAAAAIEfY3KF198\n",
              "oZSUFA0ZMkStWrWqenzNmjUhHQwAAKDWoTJr1iwtXbpUM2bM0IQJE9S2bVsn5wIAAKh9qBQWFkqS\n",
              "ZsyYof79+2vbtm2ODQUAACBdwDUqkmSMCfUcAAAA1dT6GZVvvvlGO3fulDFG3377bdWvv5OUlOTI\n",
              "gAAAoOkKKlQmTJhQdf/7v3a5XPr8889DOxkAAGjyah0qJSUlDo4BAABQ3QVdowIAAFAXCBUAAGAt\n",
              "QgUAAFiLUAEAANYiVAAAgLUIFQAAYC1CBQAAWItQAQAA1iJUAACAtRwNlb1792rIkCFKSEjQwIED\n",
              "tWvXrhrXGmM0cuRIRUZGOjkSAABoQBwNlaysLM2aNUtFRUW6++67lZ6eXuPav/zlL+rWrZuT4wAA\n",
              "gAbGsVApKytTYWGh0tLSJEmTJ09WaWmpiouLq63dtWuXXnnlFd1zzz0/eNzy8nL5fL6AW0VFRcjn\n",
              "BwAA9c+xUCktLVVMTIzCw89+7qHL5ZLH45HX6w1Yd+bMGWVmZionJ0dhYWE/eNyFCxeqTZs2AbeC\n",
              "ggJH9gAAAOpXvV9Mu2DBAk2aNEk9e/as1fr58+fr5MmTAbfU1FSHpwQAAPUh3KkDd+7cWYcPH5bf\n",
              "71d4eLiMMfJ6vfJ4PAHr3n33XXm9Xv31r3+V3++Xz+dTXFyctmzZoujo6GrHdbvdcrvdAY/V5pkY\n",
              "AADQ8Dj2jEr79u3Vv39/rVq1SpKUm5ur2NhYxcfHB6zbsGGD9u/fr5KSEr333ntq3bq1SkpKzhkp\n",
              "AACgaXH0pZ+cnBzl5OQoISFB2dnZWrFihSQpIyNDeXl5Tn5rAADQCDj20o8kJSYmatOmTdUeX7Zs\n",
              "2TnXx8XF6cSJE06OBAAAGpB6v5gWAACgJoQKAACwFqECAACsRagAAABrESoAAMBahAoAALAWoQIA\n",
              "AKxFqAAAAGsRKgAAwFqECgAAsBahAgAArEWoAAAAaxEqAADAWoQKAACwFqECAACsRagAAABrESoA\n",
              "AMBahAoAALAWoQIAAKxFqAAAAGsRKgAAwFqECgAAsBahAgAArEWoAAAAaxEqAADAWoQKAACwFqEC\n",
              "AACsRagAAABrESoAAMBahAoAALAWoQIAAKxFqAAAAGsRKgAAwFqECgAAsBahAgAArEWoAAAAaxEq\n",
              "AADAWoQKAACwFqECAACsRagAAABrESoAAMBahAoAALAWoQIAAKxFqAAAAGsRKgAAwFqECgAAsBah\n",
              "AgAArEWoAAAAaxEqAADAWoQKAACwFqECAACsRagAAABrESoAAMBahAoAALAWoQIAAKxFqAAAAGsR\n",
              "KgAAwFqECgAAsBahAgAArEWoAAAAaxEqAADAWoQKAACwlqOhsnfvXg0ZMkQJCQkaOHCgdu3aVW3N\n",
              "+vXrlZqaql69eql379666667VFlZ6eRYAACggXA0VLKysjRr1iwVFRXp7rvvVnp6erU1bdu21Qsv\n",
              "vKDdu3dr69atev/997Vy5UonxwIAAA2EY6FSVlamwsJCpaWlSZImT56s0tJSFRcXB6zr16+funbt\n",
              "Kkn60Y9+pJSUFJWUlNR43PLycvl8voBbRUWFU9sAAAD1yLFQKS0tVUxMjMLDwyVJLpdLHo9HXq+3\n",
              "xt9z5MgRrV69WuPGjatxzcKFC9WmTZuAW0FBQcjnBwAA9c+ai2l9Pp/Gjx+vu+66S1deeWWN6+bP\n",
              "n6+TJ08G3FJTU+twUgAAUFfCnTpw586ddfjwYfn9foWHh8sYI6/XK4/HU23tqVOnNHr0aF133XWa\n",
              "N2/eeY/rdrvldrsDHgsLCwvp7AAAwA6OPaPSvn179e/fX6tWrZIk5ebmKjY2VvHx8QHrvvzyS40e\n",
              "PVqjR4/W7373O6fGAQAADZCjL/3k5OQoJydHCQkJys7O1ooVKyRJGRkZysvLkyQtWrRIBQUFWrNm\n",
              "jVJSUpSSkqLf//73To4FAAAaCMde+pGkxMREbdq0qdrjy5Ytq/r1fffdp/vuu8/JMQAAQANlzcW0\n",
              "AAAA/4tQAQAA1iJUAACAtQgVAABgLUIFAABYi1ABAADWIlQAAIC1CBUAAGAtQgUAAFiLUAEAANYi\n",
              "VAAAgLUIFQAAYC1CBQAAWItQAQAA1iJUAACAtQgVAABgLUIFAABYi1ABAADWIlQAAIC1CBUAAGAt\n",
              "QgUAAFiLUAEAANYiVAAAgLUIFQAAYC1CBQAAWItQAQAA1iJUAACAtQgVAABgLUIFAABYi1ABAADW\n",
              "IlQAAIC1CBUAAGAtQgUAAFiLUAEAANYiVAAAgLUIFQAAYC1CBQAAWItQAQAA1iJUAACAtQgVAABg\n",
              "LUIFAABYi1ABAADWIlQAAIC1CBUAAGAtQgUAAFiLUAEAANYiVAAAgLUIFQAAYC1CBQAAWItQAQAA\n",
              "1iJUAACAtQgVAABgLUIFAABYi1ABAADWIlQAAIC1CBUAAGAtQgUAAFiLUAEAANYiVAAAgLUIFQAA\n",
              "YC1CBQAAWMvRUNm7d6+GDBmihIQEDRw4ULt27TrnuuXLl6t79+7q1q2bMjMzdebMGSfHAgAADYSj\n",
              "oZKVlaVZs2apqKhId999t9LT06ut2bdvn+6//35t2LBBxcXFOnr0qJYuXerkWAAAoIFwLFTKyspU\n",
              "WFiotLQ0SdLkyZNVWlqq4uLigHWrV6/WhAkT1LFjR7lcLs2ePVvPP/98jcctLy+Xz+cLuFVUVDi1\n",
              "DQAAUI9cxhjjxIG3bt2qm266SXv27Kl6LDU1VdnZ2Ro5cmTVY7fffrsuv/xyzZ8/X5K0e/dujR49\n",
              "Wl6v95zHffDBB7VgwYKAx3r06KExY8ZU3a+oqFBBQYFSU1MVFhYWym1Zh702Pk1ln1LT2WtT2afU\n",
              "dPbaVPYpObvXLl266Je//OV514SH9DvWgfnz52vevHkBj7ndbrnd7qr7Pp9Pbdq00ZtvvqnWrVvX\n",
              "9Yh1ir02Pk1ln1LT2WtT2afUdPbaVPYp1f9eHQuVzp076/Dhw/L7/QoPD5cxRl6vVx6PJ2Cdx+PR\n",
              "Z599VnW/pKSk2prv+98oAQAAjZdj16i0b99e/fv316pVqyRJubm5io2NVXx8fMC6yZMnKy8vT0eO\n",
              "HJExRkuWLNG0adOcGgsAADQgjv6tn5ycHOXk5CghIUHZ2dlasWKFJCkjI0N5eXmSpK5du2rBggUa\n",
              "OnSo4uPjFR0draysLCfHAgAADYSj16gkJiZq06ZN1R5ftmxZwP3MzExlZmaG7Pu63W498MADTeIl\n",
              "Ivba+DSVfUpNZ69NZZ9S09lrU9mnVP97dexv/QAAAFws3kIfAABYi1ABAADWIlQAAIC1CBUAAGCt\n",
              "Bhcqtf1E5p07d2r48OHq2bOnevbsqTVr1kiSKisrNW/ePPXq1UtJSUkaMWJEtc8fskFt9rlixQql\n",
              "pKRU3S677DJNmjSp6uvr1q1Tjx491L17d02aNEk+n68ut1BrF7vXnTt36uqrr1aPHj3Up08f3Xzz\n",
              "zfrmm2/qehs/KBT/TL+Tnp4ul8ulEydO1MHkwQvFXr1er8aPH6/ExET16tVLTz31VF1uodZCsdfH\n",
              "HntMvXr1UkpKigYNGqSCgoK63EKt1GafP3R+bUznpPPttTGdk2r7Z6aj5yTTwIwYMcKsWLHCGGPM\n",
              "yy+/bK688spqa7766itzxRVXmA0bNhhjjPH7/aasrMwYY8zatWtNamqqOX36tDHGmIcfftj87Gc/\n",
              "q5vhg1Cbff6v3r17m9WrVxtjjDl16pRp3769+eSTT4wxxsydO9f85je/cWzei3Gxey0qKjI7duww\n",
              "xpz9Zz1lyhTzwAMPODXuBbvYfX4nNzfXZGRkGEnm+PHjDkx68S52r5WVlaZ///7mpZdeqvr6kSNH\n",
              "HJn1Yl3sXrdv3248Ho85deqUMcaYZ5991gwcONCxeS9UbfZ5vvNrYzsnnW+vjemcVJs/M50+JzWo\n",
              "UDl69KiJiIgwZ86cMcacPZl16NDB7N27N2Dd008/bW688cZzHuOVV14xycnJxufzmcrKSvPb3/7W\n",
              "3HnnnY7PHoza7vP7Nm/ebKKjo6v+ZXrppZfMqFGjqr6+a9cu06lTJ2cHvwCh2Ov/+uMf/2hmzJjh\n",
              "xLgXLFT7PHLkiBkwYIDx+XzWhkoo9vrWW2+ZwYMH18m8FyMUe/3www9NTExMVYg99dRTZuLEic4P\n",
              "H4Ta7vN859fGdk4K5s+ShnxO+qF91sU5qUF9KGFpaaliYmIUHn52bJfLJY/HI6/XG/DW/Lt375bb\n",
              "7da4ceN04MABJSUl6fHHH1d0dLTGjx+v/Px8dezYUREREerUqZPefffd+trSOdV2n9+3fPlyTZ8+\n",
              "Xc2bN5d09mnzLl26VH09Li4u4LOXbBGKvX7fV199pWXLlmnhwoWOzh2sUO0zMzNTf/jDHxQREVEn\n",
              "c1+IUOx19+7dio6O1rRp07Rnzx7FxcXp8ccfV9euXetsH7URir0mJyfrzjvv1BVXXKF27drJ7Xbr\n",
              "3//+d53toTZqu8/znV8b2zmptn+WNPRz0g/tsy7OSQ3uGpXa8Pv9evvtt5WTk6Pt27erU6dOmjNn\n",
              "jiSpsLBQH3/8sQ4ePKhDhw7pmmuu0ezZs+t54ovz1Vdf6YUXXtAtt9xS36M47nx7PX36tKZOnaqf\n",
              "/vSnmjhxYj1MFzrn2ueyZcvk8Xg0cuTIepws9M61V7/fr/Xr1+v+++/X9u3bNWrUKE2ZMqUepwyN\n",
              "c+113759WrNmjYqLi3XgwAHdeeedmjp1aj1OeeEa4/m1JrXZa2M4J51vn3V1TmpQofL9T2SWdN5P\n",
              "ZB4xYoQ6deokl8ultLQ0bd68WZK0cuVKjRw5UpGRkWrWrJlmzJih/Pz8Ot/L+dR2n995+eWX1bt3\n",
              "b/Xq1avqMY/Ho/3791fdLykpCahnW4Rir5J05swZTZ06VTExMVq0aJHjcwcrFPvMz8/Xq6++qri4\n",
              "OMXFxUmSkpKStH37dsfnD0ao/v3t16+fevfuLUmaPn26tm3bpjNnzji/gSCEYq+5ubnq27evLr/8\n",
              "cknSzJkztXHjRp0+fdr5DdRSbfd5vvNrYzsn/dCfJY3lnHS+fdbVOalBhUptP5F5ypQp2rJlS9UV\n",
              "5a+//rqSk5Mlnf0QxPXr11edBNatW6c+ffrU4S5+WG33+Z3ly5dXe4Zh9OjR2rZtmz799FNJ0uLF\n",
              "i638VOpQ7NXv92vatGlq166dli5dKpfL5fjcwQrFPv/xj3+otLRUJSUlKikpkSR99NFH6tevn6Oz\n",
              "BysUex0zZowOHDiggwcPSjr733DPnj3P+XJffQrFXrt27aqNGzfqyy+/lHT2nJSQkKAWLVo4O3wQ\n",
              "arvP851fG9s56Xx7bUznpPPts87OSSG/6sVhn376qRk0aJDp3r27GTBggPnoo4+MMcbccsst5tVX\n",
              "X61at3LlStO7d2/Tt29fM3r0aOP1eo0xxnz77bcmIyPD9OjRw/Tt29dce+215rPPPquXvZxPbff5\n",
              "6aefmlatWhmfz1ftGK+++qpJTEw03bp1M9ddd505ceJEnc0fjIvd66pVq4wkk5SUZJKTk01ycrK5\n",
              "9dZb63QPtRGKf6bfJ0svpjUmNHt98803TXJysklKSjJXXXVV1TFsc7F7raysNPfcc49JTEw0SUlJ\n",
              "ZvDgwaawsLBO91AbtdnnD51fG9M56Xx7bUznpGD+zHTqnMSHEgIAAGs1qJd+AABA00KoAAAAaxEq\n",
              "AADAWoQKAACwFqECAACsRagAAABrESoAAMBahAoAALAWoQIAAKxFqAAAAGv9P+m/UCgdGmWaAAAA\n",
              "AElFTkSuQmCC\n",
              "\">\n",
              "      </div>\n",
              "      <script type=\"text/javascript\">\n",
              "        (() => {\n",
              "          const chartElement = document.getElementById(\"chart-c07d6ba2-922e-49e9-a659-5821abbbcb56\");\n",
              "          async function getCodeForChartHandler(event) {\n",
              "            const chartCodeResponse =  await google.colab.kernel.invokeFunction(\n",
              "                'getCodeForChart', [\"chart-c07d6ba2-922e-49e9-a659-5821abbbcb56\"], {});\n",
              "            const responseJson = chartCodeResponse.data['application/json'];\n",
              "            await google.colab.notebook.addCell(responseJson.code, 'code');\n",
              "          }\n",
              "          chartElement.onclick = getCodeForChartHandler;\n",
              "        })();\n",
              "      </script>\n",
              "      <style>\n",
              "        .colab-quickchart-chart-with-code  {\n",
              "            display: block;\n",
              "            float: left;\n",
              "            border: 1px solid transparent;\n",
              "        }\n",
              "\n",
              "        .colab-quickchart-chart-with-code:hover {\n",
              "            cursor: pointer;\n",
              "            border: 1px solid #aaa;\n",
              "        }\n",
              "      </style>"
            ]
          },
          "metadata": {}
        },
        {
          "output_type": "display_data",
          "data": {
            "text/plain": [
              "from matplotlib import pyplot as plt\n",
              "all_model_results['recall'].plot(kind='hist', bins=20, title='recall')\n",
              "plt.gca().spines[['top', 'right',]].set_visible(False)"
            ],
            "text/html": [
              "      <div class=\"colab-quickchart-chart-with-code\" id=\"chart-4e32bc02-e713-4496-89bf-e6a0162e5786\">\n",
              "        <img style=\"width: 180px;\" src=\"data:image/png;base64,iVBORw0KGgoAAAANSUhEUgAAAioAAAGrCAYAAADuNLxTAAAAOXRFWHRTb2Z0d2FyZQBNYXRwbG90\n",
              "bGliIHZlcnNpb24zLjguMCwgaHR0cHM6Ly9tYXRwbG90bGliLm9yZy81sbWrAAAACXBIWXMAAA9h\n",
              "AAAPYQGoP6dpAAAhb0lEQVR4nO3dfVCVdf7/8dcBitpNvIUg8YiK4C14k6yRNd5Mm/ZLLCmzBpUK\n",
              "RGu1zd1Nzdy0dsO2bTZztxXFYUdta0spGWtr13TLTFPUTDEFSjxoKt2sYpYo8Pn94cS3s4gBnovz\n",
              "AZ+PmTMjx8ur9zvrmuccLs5xGWOMAAAALBTg7wEAAADqQqgAAABrESoAAMBahAoAALAWoQIAAKxF\n",
              "qAAAAGsRKgAAwFqECgAAsBahAgAArEWoAGgx5s2bpyFDhtR8PXToUD322GN+nAjAxSJUAACAtQgV\n",
              "AE3mzJkz/h4BQDNDqABwzNChQ/WLX/xC48ePV9u2bTV9+nS9+eab+tnPfqa2bduqe/fuev75573+\n",
              "zCeffKKkpCSFh4erdevWGjx4sEpLSyVJf/nLX9SnTx+FhIQoPDxcEyZM0JdffumP1QA0EUIFgKNy\n",
              "cnI0ceJEffXVVxo9erTuuecePfXUU/rqq6/02muv6ZlnntGLL74oSTp27JhuuOEG9enTR4WFhfr6\n",
              "66+1aNEiXXnllZKk8PBw5ebm6vjx4/rwww9VWFioadOm+XM9AA4jVAA4KikpSbfccosCAgKUlZWl\n",
              "qVOnasSIEQoICFCfPn00ZcoU5eTkSJJWrFih8PBwPfXUUwoJCVFgYKAGDRqkDh06SJKSk5MVExOj\n",
              "gIAAde7cWbNmzdK//vUvf64HwGFB/h4AQMvWpUuXml8XFRVp3bp1+utf/1rzXFVVldxutyTpwIED\n",
              "io2NrfNcubm5+uMf/6ji4mKdPn1a1dXVOnXqlKqqqhQYGOjcEgD8hldUADgqIOD/LjPh4eGaNWuW\n",
              "jh8/XvM4efKkCgoKJElRUVEqKio673kOHTqkO++8U9OmTZPH41F5eblWrFghSTLGOL8IAL8gVAA0\n",
              "mYceekiLFi3SO++8o8rKSlVWVmrPnj167733JEkTJ07UoUOHNHfuXJ08eVJVVVXKz8/Xl19+qW++\n",
              "+UbV1dXq0KGDrrjiChUVFSkzM9PPGwFwGqECoMncdtttWrFihX77298qLCxMYWFhSktLq/nJnauv\n",
              "vlrvvfeetm/fri5duqh9+/aaNm2aTp8+rR49eigzM1MTJ05Uq1atNGnSJKWkpPh5IwBOcxleMwUA\n",
              "AJbiFRUAAGAtQgUAAFiLUAEAANYiVAAAgLUIFQAAYC1CBQAAWItQAQAA1moRobJw4UJ/jwAAABzQ\n",
              "IkLl4MGD/h4BAAA4oEWECgAAaJkIFQAAYC1CBQAAWItQAQAA1iJUAACAtQgVAABgLUIFAABYi1AB\n",
              "AADWIlQAAIC1CBUAAGAtQgUAAFiLUAEAANZyNFSmT5+uqKgouVwuffTRR3Uet2zZMnXv3l3dunVT\n",
              "enq6zp496+RYAACgmXA0VO644w69//776ty5c53HHDhwQHPnztXGjRtVXFysY8eOacmSJU6OBQAA\n",
              "mglHQ+XGG29UZGTkBY9ZtWqVkpKSFB4eLpfLpSlTpuill16q8/iKigqVl5d7Paqqqnw9OgAAsECQ\n",
              "vwfweDxer7hERUXJ4/HUeXxmZqbmz5/v9dzgwYMdmS1q1huOnFeSShb8P8fOjf/D36E3p/59NMd/\n",
              "F80R/z3jQlrq/9/N7mba2bNn68SJE16PhIQEf48FAAAc4PdXVNxutz799NOar0tKSuR2u+s8Pjg4\n",
              "WMHBwV7PBQYGOjYfAADwH7+/opKcnKy8vDwdPXpUxhgtXrxY48eP9/dYAADAAo6GSkZGhiIjI3Xo\n",
              "0CHdfPPNio6OliSlpaUpLy9PktS1a1fNnz9f119/vaKjoxUaGqqMjAwnxwIAAM2Eo9/6ycrKOu/z\n",
              "2dnZXl+np6crPT3dyVEAAEAz5Pdv/QAAANSFUAEAANYiVAAAgLUIFQAAYC1CBQAAWItQAQAA1iJU\n",
              "AACAtQgVAABgLUIFAABYi1ABAADWIlQAAIC1CBUAAGAtQgUAAFiLUAEAANYiVAAAgLUIFQAAYC1C\n",
              "BQAAWItQAQAA1iJUAACAtQgVAABgLUIFAABYi1ABAADWIlQAAIC1CBUAAGAtQgUAAFiLUAEAANYi\n",
              "VAAAgLUIFQAAYC1CBQAAWItQAQAA1iJUAACAtQgVAABgLUIFAABYi1ABAADWIlQAAIC1CBUAAGAt\n",
              "QgUAAFiLUAEAANYiVAAAgLUIFQAAYC1CBQAAWItQAQAA1iJUAACAtQgVAABgLUIFAABYi1ABAADW\n",
              "IlQAAIC1CBUAAGAtQgUAAFiLUAEAANYiVAAAgLUIFQAAYC1CBQAAWItQAQAA1iJUAACAtQgVAABg\n",
              "LUIFAABYi1ABAADWIlQAAIC1CBUAAGAtQgUAAFjL0VApKipSYmKiYmJiNGjQIBUUFNQ6prq6WjNm\n",
              "zFCvXr0UFxenYcOGqbi42MmxAABAM+FoqGRkZGjy5MkqLCzUzJkzlZqaWuuYvLw8bdq0Sbt27dLH\n",
              "H3+sESNG6NFHH3VyLAAA0Ew4FiplZWXKz89XSkqKJCk5OVmlpaW1Xi1xuVyqqKjQ6dOnZYxReXm5\n",
              "IiMjnRoLAAA0I0FOnbi0tFQREREKCjr3j3C5XHK73fJ4PIqOjq45bvTo0dqwYYPCw8PVqlUrdezY\n",
              "Ue+++26d562oqFBFRYXXc1VVVc4sAQAA/MrvN9Pm5+drz549Onz4sD7//HONGDFCU6ZMqfP4zMxM\n",
              "tW7d2uuxdevWJpwYAAA0FcdCpVOnTjpy5IgqKyslScYYeTweud1ur+OWL1+u4cOHq02bNgoICNCk\n",
              "SZO0YcOGOs87e/ZsnThxwuuRkJDg1BoAAMCPHAuVsLAwDRgwQCtXrpQkrV69WpGRkV7f9pGkrl27\n",
              "av369Tpz5owkae3aterTp0+d5w0ODlZISIjXIzAw0Kk1AACAHzl2j4okZWVlKTU1VU899ZRCQkKU\n",
              "k5MjSUpLS1NSUpKSkpL04IMP6pNPPlF8fLwuu+wyhYeHa/HixU6OBQAAmglHQyU2NlabN2+u9Xx2\n",
              "dnbNr4ODg7V06VInxwAAAM2U32+mBQAAqAuhAgAArEWoAAAAaxEqAADAWoQKAACwFqECAACsRagA\n",
              "AABrESoAAMBahAoAALAWoQIAAKxFqAAAAGsRKgAAwFqECgAAsBahAgAArEWoAAAAaxEqAADAWoQK\n",
              "AACwFqECAACsRagAAABrESoAAMBahAoAALAWoQIAAKxFqAAAAGsRKgAAwFqECgAAsBahAgAArEWo\n",
              "AAAAaxEqAADAWoQKAACwFqECAACsRagAAABrESoAAMBahAoAALAWoQIAAKxFqAAAAGsRKgAAwFqE\n",
              "CgAAsBahAgAArEWoAAAAaxEqAADAWoQKAACwFqECAACsRagAAABrESoAAMBahAoAALAWoQIAAKxF\n",
              "qAAAAGsRKgAAwFqECgAAsBahAgAArEWoAAAAaxEqAADAWoQKAACwFqECAACsRagAAABrESoAAMBa\n",
              "hAoAALAWoQIAAKxFqAAAAGsRKgAAwFqECgAAsBahAgAArOVoqBQVFSkxMVExMTEaNGiQCgoKznvc\n",
              "7t27NXToUPXs2VM9e/ZUbm6uk2MBAIBmIsjJk2dkZGjy5MlKTU3VqlWrlJqaqm3btnkd8+2332rM\n",
              "mDFavny5hgwZoqqqKn399ddOjgUAAJoJx15RKSsrU35+vlJSUiRJycnJKi0tVXFxsddxf//73zV4\n",
              "8GANGTJEkhQYGKjQ0NA6z1tRUaHy8nKvR1VVlVNrAAAAP3IsVEpLSxUREaGgoHMv2rhcLrndbnk8\n",
              "Hq/j9u7dq+DgYN16663q16+fJk6cqC+++KLO82ZmZqp169Zej61btzq1BgAA8KMGh8rbb7/t0wEq\n",
              "Kyu1bt06ZWVlaefOnerYsaOmTp1a5/GzZ8/WiRMnvB4JCQk+nQkAANihwaHyxBNPKDY2VgsXLlR5\n",
              "eXmdx3Xq1ElHjhxRZWWlJMkYI4/HI7fb7XWc2+3WsGHD1LFjR7lcLqWkpGjLli11njc4OFghISFe\n",
              "j8DAwIauAQAAmoEGh8qmTZv08ssva8+ePYqJidEDDzygvXv31jouLCxMAwYM0MqVKyVJq1evVmRk\n",
              "pKKjo72OGzdunLZt21YTPW+++abi4+MbswsAAGhhGnWPSv/+/bV06VK99dZbWrt2reLi4nTTTTdp\n",
              "9+7dXsdlZWUpKytLMTExWrBggXJyciRJaWlpysvLk3TuFZVHH31UiYmJiouL0/r167V48eKLXAsA\n",
              "ALQEjfrx5HXr1mnRokXavXu3HnzwQd1///36z3/+o9tvv93rp3piY2O1efPmWn8+Ozvb6+sJEyZo\n",
              "woQJjRkFAAC0YA0OlZ49e6pDhw6aPn26xo4dW3N/yB133KFly5b5fEAAAHDpanCorFy5UgMHDjzv\n",
              "7/3zn/+86IEAAAC+1+B7VLZv3+71zrFfffWVli5d6tOhAAAApEaEygsvvKB27drVfN2+fXu98MIL\n",
              "Ph0KAABAakSoGGNqPcdb2AMAACc0OFQiIiL0yiuv1Hz9j3/8QxERET4dCgAAQGrEzbTPPfecxowZ\n",
              "o0ceeUSS9JOf/ERr1qzx+WAAAAANDpUePXpo79692r9/v6Rz75XCW9gDAAAnNOoN31wul9q0aaPK\n",
              "ykodPnxYkmp9hg8AAMDFanCo/O1vf9P06dN12WWXKSDg3C0uLpdLZWVlPh8OAABc2hocKk8++aS2\n",
              "bdum2NhYJ+YBAACo0eCf+unQoQORAgAAmkSDQ+W2227Tc889p7KyMpWXl9c8AAAAfK3B3/qZM2eO\n",
              "JGnGjBlyuVwyxsjlcvGmbwAAwOcaHCrV1dVOzAEAAFBLg7/1I537YMIVK1ZIko4fP64jR474dCgA\n",
              "AACpkR9KeN9992nevHmSzn168j333OPruQAAABoeKkuWLNGWLVsUEhIiSerWrZu++OILnw8GAADQ\n",
              "4FAJDg7WlVde6fVcUFCj3uAWAADgghocKqGhoSosLJTL5ZJ07p1qeft8AADghEZ9evLdd9+tffv2\n",
              "qVOnTgoJCdHatWudmA0AAFziGhwq0dHR+vDDD7V//34ZY/j0ZAAA4JgGh4rH45Ek/fSnP5UkPj0Z\n",
              "AAA4psGhMnDgwJp3pD19+rS+/fZbtW/fnk9PBgAAPtfgUPnfH0XOzc3Vrl27fDYQAADA9xr1zrQ/\n",
              "NHbsWL3xxhu+mAUAAMBLg19R+eEnJVdVVenDDz/k05MBAIAjGhwqbdq0qblHJTAwUN27d9fzzz/v\n",
              "xGwAAOASx6cnAwAAa130PSoAAABOafArKgEBATVvn/9Dxhi5XC5VVVX5ZDAAAIAGh8oTTzyh7777\n",
              "TlOnTpUkLV68WFdeeaV++ctf+no2AABwiWtwqLz22mvavn17zde/+93vNHDgQM2ZM8engwEAADT4\n",
              "HpWTJ096vQttWVmZTp486dOhAAAApEa8ovKrX/1K8fHxuuWWWyRJb731lubNm+fruQAAABoeKhkZ\n",
              "Gbr++uu1YcMGSdKMGTPUu3dvnw8GAADQ4FCRpPbt26tv374aOnSoKisrdebMGV1++eW+ng0AAFzi\n",
              "GnyPyqpVqzR48GDde++9kqSCggLddtttvp4LAACg4aGSmZmpHTt2qE2bNpKk+Ph4HTx40NdzAQAA\n",
              "NDxUAgMD1b59e6/n+LYPAABwQoNDpVWrVjp27FjNu9O+8847ateunc8HAwAAaPDNtE8//bRGjRql\n",
              "zz77TEOGDNGBAwf0xhtvODEbAAC4xDUoVKqrq1VVVaUNGzbogw8+kDFGiYmJNferAAAA+FKDQiUg\n",
              "IECTJ0/Wrl27NGrUKKdmAgAAkNSIe1S6d++u4uJiJ2YBAADw0uB7VL7++mv169dPiYmJuuqqq2qe\n",
              "z83N9elgAAAA9Q6VyZMna8mSJZo0aZKSkpLUtm1bJ+cCAACof6jk5+dLkiZNmqQBAwZox44djg0F\n",
              "AAAgNeIeFUkyxvh6DgAAgFrq/YrKd999p927d8sYo9OnT9f8+ntxcXGODAgAAC5dDQqVpKSkmq9/\n",
              "+GuXy6XPPvvMt5MBAIBLXr1DpaSkxMExAAAAamvUPSoAAABNgVABAADWIlQAAIC1CBUAAGAtQgUA\n",
              "AFiLUAEAANYiVAAAgLUIFQAAYC1CBQAAWMvRUCkqKlJiYqJiYmI0aNAgFRQU1HmsMUbDhw9XmzZt\n",
              "nBwJAAA0I46GSkZGhiZPnqzCwkLNnDlTqampdR77pz/9Sd26dXNyHAAA0Mw4FiplZWXKz89XSkqK\n",
              "JCk5OVmlpaUqLi6udWxBQYFef/11zZo160fPW1FRofLycq9HVVWVz+cHAAD+51iolJaWKiIiQkFB\n",
              "5z730OVyye12y+PxeB139uxZpaenKysrS4GBgT963szMTLVu3drrsXXrVkd2AAAA/uX3m2nnz5+v\n",
              "sWPHqmfPnvU6fvbs2Tpx4oTXIyEhweEpAQCAPwQ5deJOnTrpyJEjqqysVFBQkIwx8ng8crvdXse9\n",
              "++678ng8+vOf/6zKykqVl5crKipK27ZtU2hoaK3zBgcHKzg42Ou5+rwSAwAAmh/HXlEJCwvTgAED\n",
              "tHLlSknS6tWrFRkZqejoaK/jNm7cqIMHD6qkpETvv/++QkJCVFJSct5IAQAAlxZHv/WTlZWlrKws\n",
              "xcTEaMGCBcrJyZEkpaWlKS8vz8l/NAAAaAEc+9aPJMXGxmrz5s21ns/Ozj7v8VFRUTp+/LiTIwEA\n",
              "gGbE7zfTAgAA1IVQAQAA1iJUAACAtQgVAABgLUIFAABYi1ABAADWIlQAAIC1CBUAAGAtQgUAAFiL\n",
              "UAEAANYiVAAAgLUIFQAAYC1CBQAAWItQAQAA1iJUAACAtQgVAABgLUIFAABYi1ABAADWIlQAAIC1\n",
              "CBUAAGAtQgUAAFiLUAEAANYiVAAAgLUIFQAAYC1CBQAAWItQAQAA1iJUAACAtQgVAABgLUIFAABY\n",
              "i1ABAADWIlQAAIC1CBUAAGAtQgUAAFiLUAEAANYiVAAAgLUIFQAAYC1CBQAAWItQAQAA1iJUAACA\n",
              "tQgVAABgLUIFAABYi1ABAADWIlQAAIC1CBUAAGAtQgUAAFiLUAEAANYiVAAAgLUIFQAAYC1CBQAA\n",
              "WItQAQAA1iJUAACAtQgVAABgLUIFAABYi1ABAADWIlQAAIC1CBUAAGAtQgUAAFiLUAEAANYiVAAA\n",
              "gLUIFQAAYC1CBQAAWItQAQAA1nI0VIqKipSYmKiYmBgNGjRIBQUFtY5Zv369EhIS1KtXL/Xu3VuP\n",
              "PPKIqqurnRwLAAA0E46GSkZGhiZPnqzCwkLNnDlTqamptY5p27atXn75Ze3du1fbt2/XBx98oOXL\n",
              "lzs5FgAAaCYcC5WysjLl5+crJSVFkpScnKzS0lIVFxd7Hde/f3917dpVknTFFVeoX79+KikpqfO8\n",
              "FRUVKi8v93pUVVU5tQYAAPAjx0KltLRUERERCgoKkiS5XC653W55PJ46/8zRo0e1atUq3XrrrXUe\n",
              "k5mZqdatW3s9tm7d6vP5AQCA/1lzM215eblGjx6tRx55RNdee22dx82ePVsnTpzweiQkJDThpAAA\n",
              "oKkEOXXiTp066ciRI6qsrFRQUJCMMfJ4PHK73bWOPXnypEaOHKkxY8ZoxowZFzxvcHCwgoODvZ4L\n",
              "DAz06ewAAMAOjr2iEhYWpgEDBmjlypWSpNWrVysyMlLR0dFex33zzTcaOXKkRo4cqccee8ypcQAA\n",
              "QDPk6Ld+srKylJWVpZiYGC1YsEA5OTmSpLS0NOXl5UmSFi5cqK1btyo3N1f9+vVTv3799Pvf/97J\n",
              "sQAAQDPh2Ld+JCk2NlabN2+u9Xx2dnbNr+fMmaM5c+Y4OQYAAGimrLmZFgAA4H8RKgAAwFqECgAA\n",
              "sBahAgAArEWoAAAAaxEqAADAWoQKAACwFqECAACsRagAAABrESoAAMBahAoAALAWoQIAAKxFqAAA\n",
              "AGsRKgAAwFqECgAAsBahAgAArEWoAAAAaxEqAADAWoQKAACwFqECAACsRagAAABrESoAAMBahAoA\n",
              "ALAWoQIAAKxFqAAAAGsRKgAAwFqECgAAsBahAgAArEWoAAAAaxEqAADAWoQKAACwFqECAACsRagA\n",
              "AABrESoAAMBahAoAALAWoQIAAKxFqAAAAGsRKgAAwFqECgAAsBahAgAArEWoAAAAaxEqAADAWoQK\n",
              "AACwFqECAACsRagAAABrESoAAMBahAoAALAWoQIAAKxFqAAAAGsRKgAAwFqECgAAsBahAgAArEWo\n",
              "AAAAaxEqAADAWoQKAACwFqECAACsRagAAABrESoAAMBahAoAALAWoQIAAKxFqAAAAGs5GipFRUVK\n",
              "TExUTEyMBg0apIKCgvMet2zZMnXv3l3dunVTenq6zp496+RYAACgmXA0VDIyMjR58mQVFhZq5syZ\n",
              "Sk1NrXXMgQMHNHfuXG3cuFHFxcU6duyYlixZ4uRYAACgmXAsVMrKypSfn6+UlBRJUnJyskpLS1Vc\n",
              "XOx13KpVq5SUlKTw8HC5XC5NmTJFL730Up3nraioUHl5udejqqrKqTUAAIAfuYwxxokTb9++Xffc\n",
              "c4/2799f81xCQoIWLFig4cOH1zw3bdo0XXPNNZo9e7Ykae/evRo5cqQ8Hs95zztv3jzNnz/f67ke\n",
              "PXpo1KhRDZ6xqqpKW7duVUJCggIDAxv855uLS2FPdmw5LoU92bFluBR2lJzds3PnznrooYcueEyQ\n",
              "T/+JTWD27NmaMWOG13PBwcEKDg5u8LnKy8vVunVrvf322woJCfHViNa5FPZkx5bjUtiTHVuGS2FH\n",
              "yf97OhYqnTp10pEjR1RZWamgoCAZY+TxeOR2u72Oc7vd+vTTT2u+LikpqXXMDzU2SgAAQPPj2D0q\n",
              "YWFhGjBggFauXClJWr16tSIjIxUdHe11XHJysvLy8nT06FEZY7R48WKNHz/eqbEAAEAz4uhP/WRl\n",
              "ZSkrK0sxMTFasGCBcnJyJElpaWnKy8uTJHXt2lXz58/X9ddfr+joaIWGhiojI8PJsQAAQDPh6D0q\n",
              "sbGx2rx5c63ns7Ozvb5OT09Xenq6k6OcV3BwsB5//PEW/62kS2FPdmw5LoU92bFluBR2lPy/p2M/\n",
              "9QMAAHCxeAt9AABgLUIFAABYi1ABAADWIlQAAIC1Wmyo1PeTm3fv3q2hQ4eqZ8+e6tmzp3JzcyVJ\n",
              "1dXVmjFjhnr16qW4uDgNGzas1ucU+Vt9dszJyVG/fv1qHh06dNDYsWNrfn/t2rXq0aOHunfvrrFj\n",
              "x6q8vLwpV/hRF7vj7t27deONN6pHjx7q06eP7rvvPn333XdNvcaP8sXf5fdSU1Plcrl0/PjxJpi8\n",
              "/nyxo8fj0ejRoxUbG6tevXpp0aJFTbnCj/LFjk8//bR69eqlfv36afDgwdq6dWtTrvCj6rPjj10/\n",
              "bb/uSBe/Z3O49vji7/J7jl53TAs1bNgwk5OTY4wx5tVXXzXXXnttrWNOnTplunTpYjZu3GiMMaay\n",
              "stKUlZUZY4x57bXXTEJCgjlz5owxxpgnn3zS3HnnnU0zfD3VZ8f/1bt3b7Nq1SpjjDEnT540YWFh\n",
              "5pNPPjHGGPPggw+aX//6147N2xgXu2NhYaHZtWuXMebc3++4cePM448/7tS4jXaxe35v9erVJi0t\n",
              "zUgy//3vfx2YtPEudsfq6mozYMAA88orr9T8/tGjRx2ZtbEudsedO3cat9ttTp48aYwxZsWKFWbQ\n",
              "oEGOzdsY9dnxQtfP5nDdMebi92wO156L3fF7Tl93WmSoHDt2zLRq1cqcPXvWGHPuAnf11VeboqIi\n",
              "r+OWLl1q7r777vOe4/XXXzfx8fGmvLzcVFdXm9/85jfm4Ycfdnz2+qrvjj+0ZcsWExoaWvMf3Cuv\n",
              "vGJuvvnmmt8vKCgwHTt2dHbwBvDFjv/rmWeeMZMmTXJi3Ebz1Z5Hjx41AwcONOXl5daFii92/Pe/\n",
              "/22uu+66Jpm3MXyx40cffWQiIiJqAmzRokXm9ttvd374eqrvjhe6ftp+3THGN3v+L9uuPb7asSmu\n",
              "O83uQwnro7S0VBEREQoKOreey+WS2+2Wx+Pxegv/vXv3Kjg4WLfeeqsOHTqkuLg4PfvsswoNDdXo\n",
              "0aO1YcMGhYeHq1WrVurYsaPeffddf61US313/KFly5ZpwoQJuuyyyySdexm9c+fONb8fFRXl9flM\n",
              "/uaLHX/o1KlTys7OVmZmpqNzN5Sv9kxPT9cf/vAHtWrVqknmbghf7Lh3716FhoZq/Pjx2r9/v6Ki\n",
              "ovTss8+qa9euTbbHhfhix/j4eD388MPq0qWL2rVrp+DgYL333ntNtsOPqe+OF7p+2n7dkXyz5w/Z\n",
              "eO3x1Y5Ncd1psfeo1EdlZaXWrVunrKws7dy5Ux07dtTUqVMlSfn5+dqzZ48OHz6szz//XCNGjNCU\n",
              "KVP8PHHjnTp1Si+//LLuv/9+f4/imAvteObMGd111136+c9/rttvv90P0/nO+fbMzs6W2+3W8OHD\n",
              "/TiZ75xvx8rKSq1fv15z587Vzp07dfPNN2vcuHF+nPLinG/HAwcOKDc3V8XFxTp06JAefvhh3XXX\n",
              "XX6csnFa2vWzLvXZs7lfey60Y1Ndd1pkqPzwk5slXfCTm4cNG6aOHTvK5XIpJSVFW7ZskSQtX75c\n",
              "w4cPV5s2bRQQEKBJkyZpw4YNTb5LXeq74/deffVV9e7dW7169ap5zu126+DBgzVfl5SUeBW2v/li\n",
              "R0k6e/as7rrrLkVERGjhwoWOz91Qvthzw4YNWrNmjaKiohQVFSVJiouL086dOx2fvz589d9r//79\n",
              "1bt3b0nShAkTtGPHDp09e9b5BerBFzuuXr1affv21TXXXCNJuvfee7Vp0yadOXPG+QXqob47Xuj6\n",
              "aft1R/LNnpLd1x5f7NhU150WGSr1/eTmcePGadu2bTV3nL/55puKj4+XdO7DEtevX19zgVi7dq36\n",
              "9OnThFtcWH13/N6yZctqvdIwcuRI7dixQ/v27ZMkvfDCC1Z9crUvdqysrNT48ePVrl07LVmyRC6X\n",
              "y/G5G8oXe7744osqLS1VSUmJSkpKJEkff/yx+vfv7+js9eWLHUeNGqVDhw7p8OHDks79/9qzZ8/z\n",
              "fpvPH3yxY9euXbVp0yZ98803ks5dd2JiYnT55Zc7O3w91XfHC10/bb/uSL7Z0/Zrjy92bLLrjs/v\n",
              "erHEvn37zODBg0337t3NwIEDzccff2yMMeb+++83a9asqTlu+fLlpnfv3qZv375m5MiRxuPxGGOM\n",
              "OX36tElLSzM9evQwffv2NTfddJP59NNP/bJLXeq74759+8xVV11lysvLa51jzZo1JjY21nTr1s2M\n",
              "GTPGHD9+vMnmr4+L3XHlypVGkomLizPx8fEmPj7ePPDAA026Q3344u/yh2TZzbTG+GbHt99+28TH\n",
              "x5u4uDhzww031JzDFhe7Y3V1tZk1a5aJjY01cXFx5rrrrjP5+flNusOPqc+OP3b9tP26Y8zF79kc\n",
              "rj2++Lv8IaeuO3woIQAAsFaL/NYPAABoGQgVAABgLUIFAABYi1ABAADWIlQAAIC1CBUAAGAtQgUA\n",
              "AFiLUAEAANYiVAAAgLUIFQAAYK3/D+HrslYKiF2pAAAAAElFTkSuQmCC\n",
              "\">\n",
              "      </div>\n",
              "      <script type=\"text/javascript\">\n",
              "        (() => {\n",
              "          const chartElement = document.getElementById(\"chart-4e32bc02-e713-4496-89bf-e6a0162e5786\");\n",
              "          async function getCodeForChartHandler(event) {\n",
              "            const chartCodeResponse =  await google.colab.kernel.invokeFunction(\n",
              "                'getCodeForChart', [\"chart-4e32bc02-e713-4496-89bf-e6a0162e5786\"], {});\n",
              "            const responseJson = chartCodeResponse.data['application/json'];\n",
              "            await google.colab.notebook.addCell(responseJson.code, 'code');\n",
              "          }\n",
              "          chartElement.onclick = getCodeForChartHandler;\n",
              "        })();\n",
              "      </script>\n",
              "      <style>\n",
              "        .colab-quickchart-chart-with-code  {\n",
              "            display: block;\n",
              "            float: left;\n",
              "            border: 1px solid transparent;\n",
              "        }\n",
              "\n",
              "        .colab-quickchart-chart-with-code:hover {\n",
              "            cursor: pointer;\n",
              "            border: 1px solid #aaa;\n",
              "        }\n",
              "      </style>"
            ]
          },
          "metadata": {}
        },
        {
          "output_type": "display_data",
          "data": {
            "text/plain": [
              "from matplotlib import pyplot as plt\n",
              "all_model_results['f1'].plot(kind='hist', bins=20, title='f1')\n",
              "plt.gca().spines[['top', 'right',]].set_visible(False)"
            ],
            "text/html": [
              "      <div class=\"colab-quickchart-chart-with-code\" id=\"chart-ed0c87d4-0c3f-4ff9-be06-cbf305a34a78\">\n",
              "        <img style=\"width: 180px;\" src=\"data:image/png;base64,iVBORw0KGgoAAAANSUhEUgAAAioAAAGrCAYAAADuNLxTAAAAOXRFWHRTb2Z0d2FyZQBNYXRwbG90\n",
              "bGliIHZlcnNpb24zLjguMCwgaHR0cHM6Ly9tYXRwbG90bGliLm9yZy81sbWrAAAACXBIWXMAAA9h\n",
              "AAAPYQGoP6dpAAAfuElEQVR4nO3de3BU9fnH8c+S6BYLAcFQYsIaISQEJAlBUoyXERwr9CegxCJa\n",
              "KFFzQZ3aSlswUkdR22A7TqV2HAJhsJiqVYKSwduUklpEMAQQMZFLkLABgTi1sHghZJPv7w/GjNsQ\n",
              "yIY92W/C+zWzM2Y5Hp9nxON7dg+7LmOMEQAAgIV6hHsAAACAthAqAADAWoQKAACwFqECAACsRagA\n",
              "AABrESoAAMBahAoAALAWoQIAAKxFqAAAAGsRKgCs0djYqJ/+9Kfq16+fevXqpWPHjoV7JABhRqgA\n",
              "sMbKlStVXl6u2tpaffnll/rrX/+qH/7wh7rooosUFxcX7vEAhAGhAsAae/fu1eDBgxUVFSVJuvTS\n",
              "SzV37lzNnz8/zJMBCJfIcA8AAJKUnZ2tF198UU1NTerVq5euvfZavfXWW5Kk559/PrzDAQgbQgWA\n",
              "FZ5//nnFx8dr7dq1eu+998I9DgBL8NYPAACwFqECAACsRagAAABrcY8KAGv5/X75/X41NjZKkk6c\n",
              "OCFJcrvdcrlc4RwNQCfhFRUA1nryySfVs2dP5eXl6eDBg+rZs6d69uyp/fv3h3s0AJ3EZYwx4R4C\n",
              "AADgdHhFBQAAWItQAQAA1iJUAACAtQgVAABgLUIFAABYi1ABAADWIlQAAIC1ukWoLFq0KNwjAAAA\n",
              "B3SLUOFTKgEA6J66RagAAIDuiVABAADWIlQAAIC1CBUAAGAtQgUAAFiLUAEAANYiVAAAgLUIFQAA\n",
              "YC1CBQAAWItQAQAA1iJUAACAtQgVAABgLUdD5YEHHlB8fLxcLpc+/PDDNo9btmyZhg4dqiFDhig3\n",
              "N1eNjY1OjgUAALoIR0Pltttu03vvvafLLruszWP27dunRx55ROvXr1dNTY2OHDmiJUuWODkWAADo\n",
              "IhwNleuuu05xcXFnPGblypWaPHmyBg4cKJfLpdmzZ+ull15q8/iGhgb5fL6AR1NTU6hHBwAAFogM\n",
              "9wBerzfgFZf4+Hh5vd42jy8sLNSCBQsCnhs7dqwjs8U/9IYj55Wk2oX/58h5u+LM6DxO/f7g90bn\n",
              "4L9vnEl3/e+7y91MW1BQoGPHjgU8MjIywj0WAABwQNhfUfF4PNq7d2/Lz7W1tfJ4PG0e73a75Xa7\n",
              "A56LiIhwbD4AABA+YX9FJSsrS2VlZTp8+LCMMVq8eLGmT58e7rEAAIAFHA2V/Px8xcXF6cCBA7rp\n",
              "ppuUkJAgScrJyVFZWZkkafDgwVqwYIGuvvpqJSQkKDo6Wvn5+U6OBQAAughH3/opKio67fPFxcUB\n",
              "P+fm5io3N9fJUQAAQBcU9rd+AAAA2kKoAAAAaxEqAADAWoQKAACwFqECAACsRagAAABrESoAAMBa\n",
              "hAoAALAWoQIAAKxFqAAAAGsRKgAAwFqECgAAsBahAgAArEWoAAAAaxEqAADAWoQKAACwFqECAACs\n",
              "RagAAABrESoAAMBahAoAALAWoQIAAKxFqAAAAGsRKgAAwFqECgAAsBahAgAArEWoAAAAaxEqAADA\n",
              "WoQKAACwFqECAACsRagAAABrESoAAMBahAoAALAWoQIAAKxFqAAAAGsRKgAAwFqECgAAsBahAgAA\n",
              "rEWoAAAAaxEqAADAWoQKAACwFqECAACsRagAAABrESoAAMBahAoAALAWoQIAAKxFqAAAAGsRKgAA\n",
              "wFqECgAAsBahAgAArEWoAAAAaxEqAADAWoQKAACwFqECAACsRagAAABrESoAAMBahAoAALAWoQIA\n",
              "AKxFqAAAAGsRKgAAwFqECgAAsBahAgAArOVoqOzZs0eZmZlKTEzUmDFjVFVV1eqY5uZmzZkzR8OH\n",
              "D1dKSorGjRunmpoaJ8cCAABdhKOhkp+fr7y8PO3evVvz5s1TdnZ2q2PKysq0YcMGbd++XR999JFu\n",
              "uOEGPfzww06OBQAAugjHQqW+vl6VlZWaMWOGJCkrK0t1dXWtXi1xuVxqaGjQiRMnZIyRz+dTXFyc\n",
              "U2MBAIAuJNKpE9fV1SkmJkaRkaf+ES6XSx6PR16vVwkJCS3HTZo0SeXl5Ro4cKB69+6t2NhYvfvu\n",
              "u22et6GhQQ0NDQHPNTU1ObMEAAAIq7DfTFtZWamPP/5YBw8e1GeffaYbbrhBs2fPbvP4wsJC9enT\n",
              "J+BRUVHRiRMDAIDO4lioDBo0SIcOHZLf75ckGWPk9Xrl8XgCjluxYoXGjx+vvn37qkePHpo1a5bK\n",
              "y8vbPG9BQYGOHTsW8MjIyHBqDQAAEEaOhcqAAQOUnp6ukpISSVJpaani4uIC3vaRpMGDB2vdunU6\n",
              "efKkJGnNmjW64oor2jyv2+1WVFRUwCMiIsKpNQAAQBg5do+KJBUVFSk7O1u///3vFRUVpeXLl0uS\n",
              "cnJyNHnyZE2ePFn333+/PvnkE6WmpuqCCy7QwIEDtXjxYifHAgAAXYSjoZKUlKSNGze2er64uLjl\n",
              "r91ut5YuXerkGAAAoIsK+820AAAAbSFUAACAtQgVAABgLUIFAABYi1ABAADWIlQAAIC1CBUAAGAt\n",
              "QgUAAFiLUAEAANYiVAAAgLUIFQAAYC1CBQAAWItQAQAA1iJUAACAtQgVAABgLUIFAABYi1ABAADW\n",
              "IlQAAIC1CBUAAGAtQgUAAFiLUAEAANYiVAAAgLUIFQAAYC1CBQAAWItQAQAA1iJUAACAtQgVAABg\n",
              "LUIFAABYi1ABAADWIlQAAIC1CBUAAGAtQgUAAFiLUAEAANYiVAAAgLUIFQAAYC1CBQAAWItQAQAA\n",
              "1iJUAACAtQgVAABgLUIFAABYi1ABAADWIlQAAIC1CBUAAGAtQgUAAFiLUAEAANYiVAAAgLUIFQAA\n",
              "YC1CBQAAWItQAQAA1iJUAACAtQgVAABgLUIFAABYi1ABAADWIlQAAIC1CBUAAGAtQgUAAFiLUAEA\n",
              "ANYiVAAAgLUIFQAAYC1CBQAAWItQAQAA1iJUAACAtRwNlT179igzM1OJiYkaM2aMqqqqTnvcjh07\n",
              "dP311ys5OVnJyclatWqVk2MBAIAuItLJk+fn5ysvL0/Z2dlauXKlsrOztXnz5oBjvv76a02ZMkUr\n",
              "VqzQNddco6amJn3xxRdOjgUAALoIx15Rqa+vV2VlpWbMmCFJysrKUl1dnWpqagKOe/HFFzV27Fhd\n",
              "c801kqSIiAhFR0e3ed6Ghgb5fL6AR1NTk1NrAACAMHIsVOrq6hQTE6PIyFMv2rhcLnk8Hnm93oDj\n",
              "qqur5Xa7dfPNNystLU0/+9nP9Pnnn7d53sLCQvXp0yfgUVFR4dQaAAAgjIIOlXfeeSekA/j9fq1d\n",
              "u1ZFRUXatm2bYmNjde+997Z5fEFBgY4dOxbwyMjICOlMAADADkGHyuOPP66kpCQtWrRIPp+vzeMG\n",
              "DRqkQ4cOye/3S5KMMfJ6vfJ4PAHHeTwejRs3TrGxsXK5XJoxY4Y2bdrU5nndbreioqICHhEREcGu\n",
              "AQAAuoCgQ2XDhg16+eWX9fHHHysxMVH33XefqqurWx03YMAApaenq6SkRJJUWlqquLg4JSQkBBw3\n",
              "bdo0bd68uSV63nzzTaWmpnZkFwAA0M106B6VUaNGaenSpXr77be1Zs0apaSk6MYbb9SOHTsCjisq\n",
              "KlJRUZESExO1cOFCLV++XJKUk5OjsrIySadeUXn44YeVmZmplJQUrVu3TosXLz7HtQAAQHfQoT+e\n",
              "vHbtWj377LPasWOH7r//ft1zzz3617/+pVtvvTXgT/UkJSVp48aNrf7+4uLigJ9nzpypmTNndmQU\n",
              "AADQjQUdKsnJybrkkkv0wAMPaOrUqS33h9x2221atmxZyAcEAADnr6BDpaSkRKNHjz7tr7311lvn\n",
              "PBAAAMC3gr5HZcuWLQGfHPuf//xHS5cuDelQAAAAUgdC5bnnnlO/fv1afu7fv7+ee+65kA4FAAAg\n",
              "dSBUjDGtnuMj7AEAgBOCDpWYmBi98sorLT///e9/V0xMTEiHAgAAkDpwM+0zzzyjKVOmaO7cuZKk\n",
              "iy66SKtXrw75YAAAAEGHyrBhw1RdXa1du3ZJOvVZKXyEPQAAcEKHPvDN5XKpb9++8vv9OnjwoCS1\n",
              "+g4fAACAcxV0qDz//PN64IEHdMEFF6hHj1O3uLhcLtXX14d8OAAAcH4LOlSeeOIJbd68WUlJSU7M\n",
              "AwAA0CLoP/VzySWXECkAAKBTBB0qt9xyi5555hnV19fL5/O1PAAAAEIt6Ld+5s+fL0maM2eOXC6X\n",
              "jDFyuVx86BsAAAi5oEOlubnZiTkAAABaCfqtH+nUFxO+8MILkqSjR4/q0KFDIR0KAABA6uCXEt59\n",
              "99167LHHJJ369uQ777wz1HMBAAAEHypLlizRpk2bFBUVJUkaMmSIPv/885APBgAAEHSouN1u9ezZ\n",
              "M+C5yMgOfcAtAADAGQUdKtHR0dq9e7dcLpekU59Uy8fnAwAAJ3To25PvuOMO7dy5U4MGDVJUVJTW\n",
              "rFnjxGwAAOA8F3SoJCQk6IMPPtCuXbtkjOHbkwEAgGOCDhWv1ytJ+v73vy9JfHsyAABwTNChMnr0\n",
              "6JZPpD1x4oS+/vpr9e/fn29PBgAAIRd0qPzvH0VetWqVtm/fHrKBAAAAvtWhT6b9rqlTp+qNN94I\n",
              "xSwAAAABgn5F5bvflNzU1KQPPviAb08GAACOCDpU+vbt23KPSkREhIYOHao///nPTswGAADOc3x7\n",
              "MgAAsNY536MCAADglKBfUenRo0fLx+d/lzFGLpdLTU1NIRkMAAAg6FB5/PHH9c033+jee++VJC1e\n",
              "vFg9e/bUL3/5y1DPBgAAznNBh8prr72mLVu2tPz85JNPavTo0Zo/f35IBwMAAAj6HpXjx48HfApt\n",
              "fX29jh8/HtKhAAAApA68ovKrX/1Kqamp+vGPfyxJevvtt/XYY4+Fei4AAIDgQyU/P19XX321ysvL\n",
              "JUlz5szRiBEjQj4YAABA0KEiSf3799fIkSN1/fXXy+/36+TJk7rwwgtDPRsAADjPBX2PysqVKzV2\n",
              "7FjdddddkqSqqirdcsstoZ4LAAAg+FApLCzU1q1b1bdvX0lSamqq9u/fH+q5AAAAgg+ViIgI9e/f\n",
              "P+A53vYBAABOCDpUevfurSNHjrR8Ou0///lP9evXL+SDAQAABH0z7VNPPaWJEyfq008/1TXXXKN9\n",
              "+/bpjTfecGI2AABwngsqVJqbm9XU1KTy8nK9//77MsYoMzOz5X4VAACAUAoqVHr06KG8vDxt375d\n",
              "EydOdGomAAAASR24R2Xo0KGqqalxYhYAAIAAQd+j8sUXXygtLU2ZmZnq1atXy/OrVq0K6WAAAADt\n",
              "DpW8vDwtWbJEs2bN0uTJk3XxxRc7ORcAAED7Q6WyslKSNGvWLKWnp2vr1q2ODQUAACB14B4VSTLG\n",
              "hHoOAACAVtr9iso333yjHTt2yBijEydOtPz1t1JSUhwZEAAAnL+CCpXJkye3/Pzdv3a5XPr0009D\n",
              "OxkAADjvtTtUamtrHRwDAACgtQ7dowIAANAZCBUAAGAtQgUAAFiLUAEAANYiVAAAgLUIFQAAYC1C\n",
              "BQAAWItQAQAA1iJUAACAtRwNlT179igzM1OJiYkaM2aMqqqq2jzWGKPx48erb9++To4EAAC6EEdD\n",
              "JT8/X3l5edq9e7fmzZun7OzsNo/905/+pCFDhjg5DgAA6GIcC5X6+npVVlZqxowZkqSsrCzV1dWp\n",
              "pqam1bFVVVV6/fXX9dBDD531vA0NDfL5fAGPpqamkM8PAADCz7FQqaurU0xMjCIjT33vocvlksfj\n",
              "kdfrDTiusbFRubm5KioqUkRExFnPW1hYqD59+gQ8KioqHNkBAACEV9hvpl2wYIGmTp2q5OTkdh1f\n",
              "UFCgY8eOBTwyMjIcnhIAAIRDpFMnHjRokA4dOiS/36/IyEgZY+T1euXxeAKOe/fdd+X1evWXv/xF\n",
              "fr9fPp9P8fHx2rx5s6Kjo1ud1+12y+12BzzXnldiAABA1+PYKyoDBgxQenq6SkpKJEmlpaWKi4tT\n",
              "QkJCwHHr16/X/v37VVtbq/fee09RUVGqra09baQAAIDzi6Nv/RQVFamoqEiJiYlauHChli9fLknK\n",
              "yclRWVmZk/9oAADQDTj21o8kJSUlaePGja2eLy4uPu3x8fHxOnr0qJMjAQCALiTsN9MCAAC0hVAB\n",
              "AADWIlQAAIC1CBUAAGAtQgUAAFiLUAEAANYiVAAAgLUIFQAAYC1CBQAAWItQAQAA1iJUAACAtQgV\n",
              "AABgLUIFAABYi1ABAADWIlQAAIC1CBUAAGAtQgUAAFiLUAEAANYiVAAAgLUIFQAAYC1CBQAAWItQ\n",
              "AQAA1iJUAACAtQgVAABgLUIFAABYi1ABAADWIlQAAIC1CBUAAGAtQgUAAFiLUAEAANYiVAAAgLUI\n",
              "FQAAYC1CBQAAWItQAQAA1iJUAACAtQgVAABgLUIFAABYi1ABAADWIlQAAIC1CBUAAGAtQgUAAFiL\n",
              "UAEAANYiVAAAgLUIFQAAYC1CBQAAWItQAQAA1iJUAACAtQgVAABgLUIFAABYi1ABAADWIlQAAIC1\n",
              "CBUAAGAtQgUAAFiLUAEAANYiVAAAgLUIFQAAYC1CBQAAWItQAQAA1iJUAACAtQgVAABgLUIFAABY\n",
              "i1ABAADWcjRU9uzZo8zMTCUmJmrMmDGqqqpqdcy6deuUkZGh4cOHa8SIEZo7d66am5udHAsAAHQR\n",
              "joZKfn6+8vLytHv3bs2bN0/Z2dmtjrn44ov18ssvq7q6Wlu2bNH777+vFStWODkWAADoIhwLlfr6\n",
              "elVWVmrGjBmSpKysLNXV1ammpibguFGjRmnw4MGSpO9973tKS0tTbW1tm+dtaGiQz+cLeDQ1NTm1\n",
              "BgAACCPHQqWurk4xMTGKjIyUJLlcLnk8Hnm93jb/nsOHD2vlypW6+eab2zymsLBQffr0CXhUVFSE\n",
              "fH4AABB+1txM6/P5NGnSJM2dO1dXXnllm8cVFBTo2LFjAY+MjIxOnBQAAHSWSKdOPGjQIB06dEh+\n",
              "v1+RkZEyxsjr9crj8bQ69vjx45owYYKmTJmiOXPmnPG8brdbbrc74LmIiIiQzg4AAOzg2CsqAwYM\n",
              "UHp6ukpKSiRJpaWliouLU0JCQsBxX375pSZMmKAJEybot7/9rVPjAACALsjRt36KiopUVFSkxMRE\n",
              "LVy4UMuXL5ck5eTkqKysTJK0aNEiVVRUaNWqVUpLS1NaWpp+97vfOTkWAADoIhx760eSkpKStHHj\n",
              "xlbPFxcXt/z1/PnzNX/+fCfHAAAAXZQ1N9MCAAD8L0IFAABYi1ABAADWIlQAAIC1CBUAAGAtQgUA\n",
              "AFiLUAEAANYiVAAAgLUIFQAAYC1CBQAAWItQAQAA1iJUAACAtQgVAABgLUIFAABYi1ABAADWIlQA\n",
              "AIC1CBUAAGAtQgUAAFiLUAEAANYiVAAAgLUIFQAAYC1CBQAAWItQAQAA1iJUAACAtQgVAABgLUIF\n",
              "AABYi1ABAADWIlQAAIC1CBUAAGAtQgUAAFiLUAEAANYiVAAAgLUIFQAAYC1CBQAAWItQAQAA1iJU\n",
              "AACAtQgVAABgLUIFAABYi1ABAADWIlQAAIC1CBUAAGAtQgUAAFiLUAEAANYiVAAAgLUIFQAAYC1C\n",
              "BQAAWItQAQAA1iJUAACAtQgVAABgLUIFAABYi1ABAADWIlQAAIC1CBUAAGAtQgUAAFiLUAEAANYi\n",
              "VAAAgLUIFQAAYC1CBQAAWItQAQAA1iJUAACAtQgVAABgLUdDZc+ePcrMzFRiYqLGjBmjqqqq0x63\n",
              "bNkyDR06VEOGDFFubq4aGxudHAsAAHQRjoZKfn6+8vLytHv3bs2bN0/Z2dmtjtm3b58eeeQRrV+/\n",
              "XjU1NTpy5IiWLFni5FgAAKCLcCxU6uvrVVlZqRkzZkiSsrKyVFdXp5qamoDjVq5cqcmTJ2vgwIFy\n",
              "uVyaPXu2XnrppTbP29DQIJ/PF/Boampyag0AABBGLmOMceLEW7Zs0Z133qldu3a1PJeRkaGFCxdq\n",
              "/PjxLc/9/Oc/16WXXqqCggJJUnV1tSZMmCCv13va8z722GNasGBBwHPDhg3TxIkTz3nmpqYmVVRU\n",
              "KCMjQxEREed8PhuxY/fAjt0DO3YP7Nhxl112mX7xi1+c8ZjIkP3TOklBQYHmzJkT8Jzb7Zbb7T7n\n",
              "c/t8PvXp00fvvPOOoqKizvl8NmLH7oEduwd27B7Y0VmOhcqgQYN06NAh+f1+RUZGyhgjr9crj8cT\n",
              "cJzH49HevXtbfq6trW11zHeFKkoAAID9HLtHZcCAAUpPT1dJSYkkqbS0VHFxcUpISAg4LisrS2Vl\n",
              "ZTp8+LCMMVq8eLGmT5/u1FgAAKALcfRP/RQVFamoqEiJiYlauHChli9fLknKyclRWVmZJGnw4MFa\n",
              "sGCBrr76aiUkJCg6Olr5+flOjgUAALoIR+9RSUpK0saNG1s9X1xcHPBzbm6ucnNznRylXdxutx59\n",
              "9NFu/dYSO3YP7Ng9sGP3wI7OcuxP/QAAAJwrPkIfAABYi1ABAADWIlQAAIC1CBUAAGCt8yZU2vtN\n",
              "zjt27ND111+v5ORkJScna9WqVZKk5uZmzZkzR8OHD1dKSorGjRvX6nuLwq09Oy5fvlxpaWktj0su\n",
              "uURTp05t+fU1a9Zo2LBhGjp0qKZOnSqfz9eZK5zRue63Y8cOXXfddRo2bJiuuOIK3X333frmm286\n",
              "e40zCsW/w29lZ2fL5XLp6NGjnTB5+4ViR6/Xq0mTJikpKUnDhw/Xs88+25krnFUodnzqqac0fPhw\n",
              "paWlaezYsaqoqOjMFc6qPTue7bpp8/VGOvcdu8s1p73//3PsmmPOE+PGjTPLly83xhjz6quvmiuv\n",
              "vLLVMV999ZW5/PLLzfr1640xxvj9flNfX2+MMea1114zGRkZ5uTJk8YYY5544gnzk5/8pHOGb6f2\n",
              "7Pi/RowYYVauXGmMMeb48eNmwIAB5pNPPjHGGHP//febX//6147NG6xz3W/37t1m+/btxphT/26n\n",
              "TZtmHn30UafG7ZBz3fFbpaWlJicnx0gy//3vfx2YtOPOdcfm5maTnp5uXnnllZZfP3z4sCOzdtS5\n",
              "7rht2zbj8XjM8ePHjTHGvPDCC2bMmDGOzdsR7dnxTNdN2683xpz7jt3lmtOe//85ec05L0LlyJEj\n",
              "pnfv3qaxsdEYc+pC94Mf/MDs2bMn4LilS5eaO+6447TneP31101qaqrx+XymubnZ/OY3vzEPPvig\n",
              "47O3V3t3/K5NmzaZ6Ojolt98r7zyirnppptafr2qqsrExsY6O3g7hWK///XHP/7RzJo1y4lxOyRU\n",
              "Ox4+fNiMHj3a+Hw+60IlFDv+4x//MFdddVWnzNsRodjxww8/NDExMS0B9uyzz5pbb73V+eHbqb07\n",
              "num6afP1xpjQ7Pi/uuo152w7On3N6XJfStgRdXV1iomJUWTkqXVdLpc8Ho+8Xm/AR/pXV1fL7Xbr\n",
              "5ptv1oEDB5SSkqKnn35a0dHRmjRpksrLyzVw4ED17t1bsbGxevfdd8O1Uivt3fG7li1bppkzZ+qC\n",
              "Cy6QdOrl9Msuu6zl1+Pj4wO+rymcQrHfd3311VcqLi5WYWGho3MHI1Q75ubm6g9/+IN69+7dKXMH\n",
              "IxQ7VldXKzo6WtOnT9euXbsUHx+vp59+WoMHD+60Pc4kFDumpqbqwQcf1OWXX65+/frJ7Xbr3//+\n",
              "d6ftcDbt3fFM102brzdSaHb8rq58zTnbjk5fc86be1Taw+/3a+3atSoqKtK2bdsUGxure++9V5JU\n",
              "WVmpjz/+WAcPHtRnn32mG264QbNnzw7zxB331Vdf6eWXX9Y999wT7lEccab9Tp48qdtvv10/+tGP\n",
              "dOutt4ZhutA43Y7FxcXyeDwaP358GCcLndPt6Pf7tW7dOj3yyCPatm2bbrrpJk2bNi2MU56b0+24\n",
              "b98+rVq1SjU1NTpw4IAefPBB3X777WGcsmO623XzdNqzY1e/5pxpx8645pwXofLdb3KWdMZvch43\n",
              "bpxiY2Plcrk0Y8YMbdq0SZK0YsUKjR8/Xn379lWPHj00a9YslZeXd/oubWnvjt969dVXNWLECA0f\n",
              "PrzlOY/Ho/3797f8XFtbG1Db4RSK/SSpsbFRt99+u2JiYrRo0SLH5w5GKHYsLy/X6tWrFR8fr/j4\n",
              "eElSSkqKtm3b5vj87RGq36ejRo3SiBEjJEkzZ87U1q1b1djY6PwC7RCKHUtLSzVy5EhdeumlkqS7\n",
              "7rpLGzZs0MmTJ51foB3au+OZrps2X2+k0OwodY9rzpl27IxrznkRKu39Judp06Zp8+bNLXeev/nm\n",
              "m0pNTZV06ssT161b13KhWLNmja644opO3OLM2rvjt5YtW9bq1YYJEyZo69at2rlzpyTpueees+ab\n",
              "rEOxn9/v1/Tp09WvXz8tWbJELpfL8bmDEYod//a3v6murk61tbWqra2VJH300UcaNWqUo7O3Vyh2\n",
              "nDhxog4cOKCDBw9KOvXfaXJy8mnf4guHUOw4ePBgbdiwQV9++aWkU9ebxMREXXjhhc4O307t3fFM\n",
              "102brzdSaHbsLtecM+3YKdeckN7xYrGdO3easWPHmqFDh5rRo0ebjz76yBhjzD333GNWr17dctyK\n",
              "FSvMiBEjzMiRI82ECROM1+s1xhhz4sQJk5OTY4YNG2ZGjhxpbrzxRrN3796w7NKW9u64c+dO06tX\n",
              "L+Pz+VqdY/Xq1SYpKckMGTLETJkyxRw9erTT5j+bc92vpKTESDIpKSkmNTXVpKammvvuu69Tdzib\n",
              "UPw7/C5ZdjOtMaHZ8Z133jGpqakmJSXFXHvttS3nsMW57tjc3Gweeughk5SUZFJSUsxVV11lKisr\n",
              "O3WHs2nPjme7btp8vTHm3HfsLtecYP7/58Q1hy8lBAAA1jov3voBAABdE6ECAACsRagAAABrESoA\n",
              "AMBahAoAALAWoQIAAKxFqAAAAGsRKgAAwFqECgAAsBahAgAArPX/w54UlaE//eoAAAAASUVORK5C\n",
              "YII=\n",
              "\">\n",
              "      </div>\n",
              "      <script type=\"text/javascript\">\n",
              "        (() => {\n",
              "          const chartElement = document.getElementById(\"chart-ed0c87d4-0c3f-4ff9-be06-cbf305a34a78\");\n",
              "          async function getCodeForChartHandler(event) {\n",
              "            const chartCodeResponse =  await google.colab.kernel.invokeFunction(\n",
              "                'getCodeForChart', [\"chart-ed0c87d4-0c3f-4ff9-be06-cbf305a34a78\"], {});\n",
              "            const responseJson = chartCodeResponse.data['application/json'];\n",
              "            await google.colab.notebook.addCell(responseJson.code, 'code');\n",
              "          }\n",
              "          chartElement.onclick = getCodeForChartHandler;\n",
              "        })();\n",
              "      </script>\n",
              "      <style>\n",
              "        .colab-quickchart-chart-with-code  {\n",
              "            display: block;\n",
              "            float: left;\n",
              "            border: 1px solid transparent;\n",
              "        }\n",
              "\n",
              "        .colab-quickchart-chart-with-code:hover {\n",
              "            cursor: pointer;\n",
              "            border: 1px solid #aaa;\n",
              "        }\n",
              "      </style>"
            ]
          },
          "metadata": {}
        },
        {
          "output_type": "display_data",
          "data": {
            "text/plain": [
              "<google.colab._quickchart_helpers.SectionTitle at 0x7c0675b1f5b0>"
            ],
            "text/html": [
              "<h4 class=\"colab-quickchart-section-title\">2-d distributions</h4>\n",
              "<style>\n",
              "  .colab-quickchart-section-title {\n",
              "      clear: both;\n",
              "  }\n",
              "</style>"
            ]
          },
          "metadata": {}
        },
        {
          "output_type": "display_data",
          "data": {
            "text/plain": [
              "from matplotlib import pyplot as plt\n",
              "all_model_results.plot(kind='scatter', x='accuracy', y='precision', s=32, alpha=.8)\n",
              "plt.gca().spines[['top', 'right',]].set_visible(False)"
            ],
            "text/html": [
              "      <div class=\"colab-quickchart-chart-with-code\" id=\"chart-d7ce2394-7cc7-49c6-ba21-4df3454bccfc\">\n",
              "        <img style=\"width: 180px;\" src=\"data:image/png;base64,iVBORw0KGgoAAAANSUhEUgAAAjEAAAGkCAYAAADALHSZAAAAOXRFWHRTb2Z0d2FyZQBNYXRwbG90\n",
              "bGliIHZlcnNpb24zLjguMCwgaHR0cHM6Ly9tYXRwbG90bGliLm9yZy81sbWrAAAACXBIWXMAAA9h\n",
              "AAAPYQGoP6dpAAAxMklEQVR4nO3de3RU5b3/8c9kJkyUEG4hJhAmlBMil5hAFuGmIpfDxSqxgC0c\n",
              "DRIEgQpWm3XOotDjst5AtMWi6CEWTLUR8SgcQUSPKBRb1MRUAhK5JEiYiMGACoFIJpnJ8/uD0/kx\n",
              "kiDBDMMO79daey2z55m9v1/UnQ/PfvaMzRhjBAAAYDFhoS4AAADgQhBiAACAJRFiAACAJRFiAACA\n",
              "JRFiAACAJRFiAACAJRFiAACAJRFiAACAJbX4ELN06dJQlwAAAIKgxYeYgwcPhroEAAAQBC0+xAAA\n",
              "gJaJEAMAACyJEAMAACyJEAMAACyJEAMAACyJEAMAACyJEAMAACyJEAMAACyJEAMAACyJEAMAACyJ\n",
              "EAMAAJqsps6noyc9qqnzhayGoIaYkpISDRkyRElJSUpPT1dxcfFZY+rr65Wdna3evXsrJSVFw4cP\n",
              "V2lp6VnjsrKyZLPZdOzYsWCWDAAAzuHICY+e3LRXtyzbpgnPfqBblm3THzft09GTnoteS1BDzKxZ\n",
              "szRz5kzt27dP8+bNU1ZW1llj1q9fr23btmnHjh3auXOnRo4cqQULFgSMWbt2rcLDw4NZKgAA+AFH\n",
              "Tnh0z8vb9VK+W9UerxxhNlV7vMrLP6i5q7Zf9CATtBBTWVmpwsJCZWZmSpImTpyo8vLys2ZZbDab\n",
              "PB6PampqZIxRVVWV4uPj/a9/9dVXWrhwoZYsWRKsUgEAwHnI+6hMpZUn1CnSqfatW6m106H2rVup\n",
              "U6RTpZUnlPfhwYtajyNYBy4vL1dcXJwcjtOnsNlscrlccrvdSkxM9I8bN26ctmzZotjYWLVp00Zd\n",
              "unTR1q1b/a/fddddevzxx9WmTZsfPKfH45HHE5gCfb7Q3asDAKClqKnz6e1dXynCYZfDHjgH4rCH\n",
              "yemw663iw5o97F8UEW6/KDWFfGFvYWGhdu3apUOHDunLL7/UyJEjNXv2bEnSihUr5HK5NGLEiPM6\n",
              "1qJFi9S2bduAraCgIJjlAwBwWTjp8epUnU+tHA1HB6cjTKdqfTrp8V60moIWYrp27aqKigp5vaeb\n",
              "McbI7XbL5XIFjHvxxRc1YsQItWvXTmFhYZo6daq2bNkiSdqyZYvWrVunbt26qVu3bpKklJQUbd++\n",
              "vcFzzp8/X8ePHw/YBgwYEKwWAQC4bEQ6Hboi3K5ab32Dr3u89bqilV2RzqDd5DlL0EJMTEyM0tLS\n",
              "lJeXJ0las2aN4uPjA24lSVL37t21efNm1dbWSpI2bNig5ORkSdJLL72k8vJylZWVqaysTJK0c+dO\n",
              "9evXr8FzOp1ORUVFBWx2+8WZ0gIAoCWLCLdrbPJVqvH65PUFBhmvr14er0839om9aLeSpCCuiZGk\n",
              "nJwcZWVlaeHChYqKilJubq4kacaMGcrIyFBGRobmzJmj3bt3KzU1VeHh4YqNjdXy5cuDWRYAALgA\n",
              "UwZ3U/6Bb1VaeUJOh11OR5g83tMBpkdMG2UOTrio9diMMeainvEiy87O5skmAACaydGTHuV9eFBv\n",
              "FR/WqVqfrmhl1419YpU5OEHRkc6LWsvFu3EFAAAsLzrSqftGJWn2sH/RSY9XkU7HRb2FdCZCDAAA\n",
              "aLKIcHvIwss/hfwRawAAgAtBiAEAAJZEiAEAAJZEiAEAAJZEiAEAAJZEiAEAAJZEiAEAAJZEiAEA\n",
              "AJZEiAEAAJZEiAEAAJZEiAEAAJZEiAEAAJZEiAEAAJZEiAEAAJZEiAEAAJZEiAEAAJZEiAEAAJZE\n",
              "iAEAAJZEiAEAAJZEiAEAAJZEiAEAAJZEiAEAAJZEiAEAAJZEiAEAAJZEiAEAAJZEiAEAAJZEiAEA\n",
              "AJZEiAEAAJZEiAEAAJZEiAEAAJZEiAEAAJZEiAEAAJZEiAEAAJYU1BBTUlKiIUOGKCkpSenp6Sou\n",
              "Lj5rTH19vbKzs9W7d2+lpKRo+PDhKi0tlSR9+umnGjp0qHr27Knk5GTdeeedOnXqVDBLBgAAFhHU\n",
              "EDNr1izNnDlT+/bt07x585SVlXXWmPXr12vbtm3asWOHdu7cqZEjR2rBggWSpIiICC1btkx79uzR\n",
              "jh07VF1drcWLFwezZAAAYBFBCzGVlZUqLCxUZmamJGnixIkqLy/3z7L8k81mk8fjUU1NjYwxqqqq\n",
              "Unx8vCSpR48eSklJkSTZ7Xalp6errKys0XN6PB5VVVUFbD6fLzgNAgCAkApaiCkvL1dcXJwcDoek\n",
              "02HF5XLJ7XYHjBs3bpyGDRum2NhYxcXF6b333tNDDz101vGqq6u1YsUK3XLLLY2ec9GiRWrbtm3A\n",
              "VlBQ0LyNAQCAS0LIF/YWFhZq165dOnTokL788kuNHDlSs2fPDhhTW1urSZMmafTo0Ro/fnyjx5o/\n",
              "f76OHz8esA0YMCDYLQAAgBBwBOvAXbt2VUVFhbxerxwOh4wxcrvdcrlcAeNefPFFjRgxQu3atZMk\n",
              "TZ06VaNHj/a/XldXp0mTJikuLk5Lly495zmdTqecTmfAPrvd3jwNAQCAS0rQZmJiYmKUlpamvLw8\n",
              "SdKaNWsUHx+vxMTEgHHdu3fX5s2bVVtbK0nasGGDkpOTJUler1eTJ09Whw4d9Nxzz8lmswWrXAAA\n",
              "YDFBm4mRpJycHGVlZWnhwoWKiopSbm6uJGnGjBnKyMhQRkaG5syZo927dys1NVXh4eGKjY3V8uXL\n",
              "JUmvvPKK1q5dq5SUFPXr10+SdO211+qZZ54JZtkAAMACbMYYE+oigik7O1tLliwJdRkAAKCZhXxh\n",
              "LwAAwIUgxAAAAEsixAAAAEsixAAAAEsixAAAAEsixAAAAEsixAAAAEsixAAAAEsixAAAAEsixAAA\n",
              "AEsixAAAAEsixAAAAEsixAAAAEsixAAAAEsixAAAAEsixAAAAEsixAAAAEsixAAAAEsixAAAAEsi\n",
              "xAAAAEsixAAAAEsixAAAAEsixAAAAEsixAAAAEsixAAAAEsixAAAAEsixAAAAEsixAAAAEsixAAA\n",
              "AEsixAAAAEsixAAAAEsixAAAAEsixAAAAEsixAAAAEsixAAAAEsKaogpKSnRkCFDlJSUpPT0dBUX\n",
              "F581pr6+XtnZ2erdu7dSUlI0fPhwlZaW+l/fsGGDevbsqR49emjChAmqqqoKZskAAMAighpiZs2a\n",
              "pZkzZ2rfvn2aN2+esrKyzhqzfv16bdu2TTt27NDOnTs1cuRILViwQJJ08uRJTZ8+Xa+//rpKSkrU\n",
              "uXNnPfzww8EsGQAAWETQQkxlZaUKCwuVmZkpSZo4caLKy8sDZlkkyWazyePxqKamRsYYVVVVKT4+\n",
              "XpL01ltvqV+/furZs6ck6e6779bLL7/c6Dk9Ho+qqqoCNp/PF6QOAQBAKDmCdeDy8nLFxcXJ4Th9\n",
              "CpvNJpfLJbfbrcTERP+4cePGacuWLYqNjVWbNm3UpUsXbd26VZLkdruVkJDgH9utWzdVVFTI6/X6\n",
              "j3umRYsW6cEHHwzYN2jQoGC0BwAAQizkC3sLCwu1a9cuHTp0SF9++aVGjhyp2bNnX9Cx5s+fr+PH\n",
              "jwdsAwYMaOaKAQDApSBoMzFdu3YNmDUxxsjtdsvlcgWMe/HFFzVixAi1a9dOkjR16lSNHj1akuRy\n",
              "ubRp0yb/2LKysoDZne9zOp1yOp0B++x2ezN2BQAALhVBm4mJiYlRWlqa8vLyJElr1qxRfHx8wK0k\n",
              "Serevbs2b96s2tpaSaefRkpOTpYkjR07Vp988on27NkjSXr22Wc1efLkYJUMAAAsJGgzMZKUk5Oj\n",
              "rKwsLVy4UFFRUcrNzZUkzZgxQxkZGcrIyNCcOXO0e/dupaamKjw8XLGxsVq+fLkkqU2bNlqxYoV+\n",
              "9rOfyev1Kjk5WS+88EIwSwYAABZhM8aYUBcRTNnZ2VqyZEmoywAAAM0s5At7AQAALgQhBgAAWBIh\n",
              "BgAAWBIhBgAAWBIhBgAAWBIhBgAAWBIhBgAAWBIhBgAAWBIhBgAAWBIhBgAAWBIhBgAAWBIhBgAA\n",
              "WBIhBgAAWBIhBgAAWBIhBgAAWBIhBgAAWBIhBgAAWBIhBgAAWBIhBgAAWBIhBgAAWBIhBgAAWBIh\n",
              "BgAAWBIhBgAAWBIhBgAAWBIhBgAAWBIhBgBaqJo6n46e9KimzhfqUoCgcIS6AABA8zpywqO8j8r0\n",
              "9q6vdKrOpyvC7boxOVaZgxMUHekMdXlAs2EmBgBakCMnPLrn5e16Kd+tao9XjjCbqj1e5eUf1NxV\n",
              "23X0pCfUJQLNhhADAC1I3kdlKq08oU6RTrVv3UqtnQ61b91KnSKdKq08obwPD4a6RKDZEGIAoIWo\n",
              "qfPp7V1fKcJhl8MeeHl32MPkdNj1VvFh1sigxSDEAEALcdLj1ak6n1o5Gr60Ox1hOlXr00mP9yJX\n",
              "BgQHIQYAWohIp0NXhNtV661v8HWPt15XtLIr0skzHWgZCDEA0EJEhNs1Nvkq1Xh98voCg4zXVy+P\n",
              "16cb+8QqItweogqB5kUcB4AWZMrgbso/8K1KK0/I6bDL6QiTx3s6wPSIaaPMwQmhLhFoNkGdiSkp\n",
              "KdGQIUOUlJSk9PR0FRcXnzUmNzdXffv29W/R0dGaMGGC//XFixerd+/e6tu3rwYNGqSCgoJglgwA\n",
              "lhYd6dSy2/opc2CCIiMc8tYbRUY4lDkwQU/f1o/PiUGLYjPGmGAdfMSIEbrjjjuUlZWl1157TYsX\n",
              "L9bHH398zvckJyfrwQcf1MSJE1VUVKRbbrlFxcXFioyMVF5enp566qkmBZns7GwtWbLkx7YCAJZT\n",
              "U3d6EW+k08EtJLRIQZuJqaysVGFhoTIzMyVJEydOVHl5uUpLSxt9T35+viorK5WRkSFJstlsqqur\n",
              "U3V1tSTp2LFjio+Pb/T9Ho9HVVVVAZvPx6OEAC5PEeF2RUc6CTBosYK2Jqa8vFxxcXFyOE6fwmaz\n",
              "yeVyye12KzExscH3rFy5UlOmTFF4eLgkKTU1Vb/+9a/1k5/8RB06dJDT6dT777/f6DkXLVqkBx98\n",
              "MGDfoEGDmqkjAABwKblknk6qrq7W6tWrNX36dP++AwcOaO3atSotLdUXX3yhX//615o0aVKjx5g/\n",
              "f76OHz8esA0YMOBilA8AAC6yoIWYrl27qqKiQl7v6Q9VMsbI7XbL5XI1OP7VV19Vnz591Lt3b/++\n",
              "NWvW6JprrlHnzp0lSdOmTdO2bdtUW1vb4DGcTqeioqICNrudaVQAAFqioIWYmJgYpaWlKS8vT9Lp\n",
              "QBIfH3/OW0lnzsJIUvfu3bVt2zadPHlSkrRhwwYlJSWpVatWwSobAABYRFA/JyYnJ0dZWVlauHCh\n",
              "oqKilJubK0maMWOGMjIy/At49+7dq6KiIm3cuDHg/ePHj9fHH3+s/v37y+l0qnXr1lq1alUwSwYA\n",
              "ABYR1EesLwU8Yg0AQMt0ySzsBQAAaApCDAAAsCRCDAAAsCRCDAAAsCRCDAAAsCRCDAAAsCRCDAAA\n",
              "sCRCDAAAsCRCDAAAsCRCDAAAsKQL+u6kiooKHThwwP8N1ZI0dOjQZisKAADghzQ5xDz66KN64okn\n",
              "1L17d9ntdkmSzWZTQUFBsxcHAADQmCaHmOeff1779+9Xx44dg1EPAADAeWnympirrrqKAAMAAEKu\n",
              "yTMxo0aN0n333afbbrtNERER/v0pKSnNWhgAAMC5NDnEvPjii5KkdevW+ffZbDZ9/vnnzVcVAADA\n",
              "D2hyiDlw4EAw6gAAAGiSC3rEuqCgQO+++64kafTo0erfv3+zFgUAAPBDmryw97nnntOtt96qyspK\n",
              "HTlyRBMnTtSKFSuCURsAAECjmjwTs2zZMv3jH/9Qp06dJEkLFizQyJEjNWPGjGYvDgAAoDEX9LUD\n",
              "/www3/9nAACAi6XJIaZHjx767W9/K7fbLbfbrfvvv189evQIRm0AAACNanKIWb58ufbv36+0tDSl\n",
              "paWptLRU//Vf/xWM2gAAABrV5DUxnTp10urVq4NRCwAAwHk77xCzdetW3XDDDVq/fn2Dr2dkZDRb\n",
              "UQAAAD/kvENMXl6ebrjhBj355JNnvWaz2QgxAADgojrvEPOnP/1JkrRly5agFQMAAHC+mryw9403\n",
              "3lBVVZUk6fe//71uvfVWFRcXN3thAAAA59LkEPPb3/5WUVFR2rFjh/Ly8jRq1CjNnj07GLUBAAA0\n",
              "qskhxuE4fQfqnXfe0cyZMzVr1ixVV1c3e2EAAADn0uQQ4/P5lJ+frzVr1mj48OGSpLq6umYvDAAA\n",
              "4FyaHGIeeeQRzZo1S9dee6169eqlvXv3KikpKRi1AQAANMpmjDGhLiKYsrOztWTJklCXAQAAmtl5\n",
              "P2L98ssv69/+7d/01FNPNfj6r371q2YrCgAA4Iecd4jZs2ePJGn79u1BKwYAAOB8nXeIefDBByVJ\n",
              "ubm5533wkpISTZ06VUePHlXbtm315z//WX369AkYk5ubq6VLl/p//uKLLzR06FCtXbtWkuR2uzVn\n",
              "zhzt27dPdrtdv/zlL3XPPfecdw0AAKBlavLC3gceeEBff/21/+ejR4/6A873zZo1SzNnztS+ffs0\n",
              "b948ZWVlnTVm2rRpKioq8m+xsbG6/fbbJUnGGI0fP1533HGH9u7dq88++0y/+MUvmloyAABogZoc\n",
              "YtatW6eOHTv6f46Ojta6devOGldZWanCwkJlZmZKkiZOnKjy8nKVlpY2euz8/HxVVlb6v4fpvffe\n",
              "k9Pp1M9//nP/mKuuuqrR93s8HlVVVQVsPp+vqS0CAAALaHKIqa+vP2tfbW3tWfvKy8sVFxfn/3A8\n",
              "m80ml8slt9vd6LFXrlypKVOmKDw8XJL02WefqVOnTpo8ebL69eun8ePH6/PPP2/0/YsWLVLbtm0D\n",
              "toKCgqa2CAAALKDJIebqq6/W448/Lp/PJ6/Xq8WLF6tnz54/upDq6mqtXr1a06dP9+/zer3avHmz\n",
              "7r//fm3fvl1jxow55+2k+fPn6/jx4wHbgAEDfnRtAADg0tPkELN06VK9/fbbuuKKK9S6dWu9++67\n",
              "evrpp88a17VrV1VUVMjr9Uo6vb7F7XbL5XI1eNxXX31Vffr0Ue/evf37XC6X+vXr518MPGXKFH3y\n",
              "ySeNfkKw0+lUVFRUwGa325vaIgAAsIAmh5jOnTtr8+bN+vbbb/XNN99o06ZNiouLO2tcTEyM0tLS\n",
              "lJeXJ0las2aN4uPjlZiY2OBxV65cGTALI0k33nijvvjiCx06dEiStHHjRvXq1ct/uwkAAFy+zvsR\n",
              "63/yer1aunSp9u/fr2effVb79+/XwYMHNWLEiLPG5uTkKCsrSwsXLlRUVJT/8ewZM2YoIyPDv4B3\n",
              "7969Kioq0saNGwPe37p1ay1fvlw33XSTjDFq27atVq9efSF9AgCAFqbJXzswe/Zs+Xw+/f3vf9fu\n",
              "3bt17Ngx/eu//qsKCwuDVeOPwtcOAADQMjV5Juajjz5SUVGR+vXrJ0lq164d32INAAAuuiaviYmI\n",
              "iAj42efzNfjYNQAAQDA1OcSkpKQoLy9P9fX1Ki0t1ezZszVs2LAglAYAANC4JoeYJUuW6G9/+5sO\n",
              "Hz6sa6+9VmFhYVq8eHEwagMAAGhUk9bE+Hw+Pfzww8rJyVFOTk6wagIAAPhBTZqJsdvt2rJlS7Bq\n",
              "AQAAOG9Nvp3005/+VI8++qi+/PLLgC9aBAAAuJia/DkxYWFn5x6bzXbJfls0nxMDAEDL1OTPieFx\n",
              "agAAcClocoiRJLfbrffff182m01Dhw5V165dm7suABZUU+fTSY9XkU6HIsL58lUAwdXkELNq1Srd\n",
              "c889Gjp0qCTpvvvu09NPP63Jkyc3e3EArOHICY/yPirT27u+0qk6n64It+vG5FhlDk5QdKQz1OUB\n",
              "aKGaHGIeeughFRYW6ic/+YkkqaysTGPHjiXEAJepIyc8uufl7SqtPKEIh12tHGGq9niVl39QHx34\n",
              "Rstu60eQARAUTX466corr/QHGEnq1q2brrzyymYtCoB15H1UptLKE+oU6VT71q3U2ulQ+9at1CnS\n",
              "qdLKE8r78GCoSwTQQjU5xNx000363e9+py+++ELl5eV66KGHNG7cOB61Bi5DNXU+vb3rK0U47HLY\n",
              "Ay8nDnuYnA673io+rJq6S/PpRQDW1uTbSY8++qik07eVzvTwww9f0o9aA2h+Jz1enarzqZWj4b8P\n",
              "OR1hOlV7erEvC30BNDcesQZwwSKdDl0Rble1x6vWDSx78XjrFRnhUKTzgh6EBIBzavLtJAD4p4hw\n",
              "u8YmX6Uar09eX+BfcLy+enm8Pt3YJ5ZZGABBwV+PAPwoUwZ3U/6Bb1VaeUJOh11OR5g83tMBpkdM\n",
              "G2UOTgh1iQBaKGZiAPwo0ZFOLbutnzIHJigywiFvvVFkhEOZAxP0NI9XAwgiZmIA/GjRkU7dNypJ\n",
              "s4f9C5/YC+CiIcQAaDYR4XbCC4CLhttJAADAkggxAADAkggxAADAkggxAADAkggxAADAkggxAADA\n",
              "kggxAADAkggxAADAkggxAADAkggxAADAkggxAADAkggxAADAkggxAADAkoIaYkpKSjRkyBAlJSUp\n",
              "PT1dxcXFZ43Jzc1V3759/Vt0dLQmTJhw1risrCzZbDYdO3YsmCUDAACLCGqImTVrlmbOnKl9+/Zp\n",
              "3rx5ysrKOmvMtGnTVFRU5N9iY2N1++23B4xZu3atwsPDg1kqAACwmKCFmMrKShUWFiozM1OSNHHi\n",
              "RJWXl6u0tLTR9+Tn56uyslIZGRn+fV999ZUWLlyoJUuWBKtUAABgQY5gHbi8vFxxcXFyOE6fwmaz\n",
              "yeVyye12KzExscH3rFy5UlOmTAmYdbnrrrv0+OOPq02bNj94To/HI4/HE7DP5/P9iC4AAMCl6pJZ\n",
              "2FtdXa3Vq1dr+vTp/n0rVqyQy+XSiBEjzusYixYtUtu2bQO2goKCYJUMAABCKGghpmvXrqqoqJDX\n",
              "65UkGWPkdrvlcrkaHP/qq6+qT58+6t27t3/fli1btG7dOnXr1k3dunWTJKWkpGj79u0NHmP+/Pk6\n",
              "fvx4wDZgwIDmbQwAAFwSgnY7KSYmRmlpacrLy1NWVpbWrFmj+Pj4c95KOnMWRpJeeumlgJ9tNpt2\n",
              "7typdu3aNXgMp9Mpp9MZsM9ut194EwAA4JIV1NtJOTk5ysnJUVJSkh577DHl5uZKkmbMmKH169f7\n",
              "x+3du1dFRUWaNGlSMMsBAAAtiM0YY0JdRDBlZ2fzZBMAAC3QJbOwFwAAoCkIMQAAwJIIMQAAwJII\n",
              "MQAAwJIIMQAAwJIIMQAAwJIIMQAAwJIIMQAAwJIIMQAAwJIIMQAAwJIIMQAAwJIIMQAAwJIIMQAA\n",
              "wJIIMQAAwJIIMQAAwJIIMQAAwJIIMQAAwJIIMQAAwJIIMQAAwJIIMQAAwJIIMQAAwJIIMQAAwJII\n",
              "MQAAwJIIMQAAwJIIMQAAwJIIMQAAwJIIMQAAwJIIMQAAwJIIMQAAwJIIMQAAwJIIMQAAwJIIMQAA\n",
              "wJIIMQAAwJIIMQAAwJIIMQAAwJKCGmJKSko0ZMgQJSUlKT09XcXFxWeNyc3NVd++ff1bdHS0JkyY\n",
              "IEn69NNPNXToUPXs2VPJycm68847derUqWCWDAAALCKoIWbWrFmaOXOm9u3bp3nz5ikrK+usMdOm\n",
              "TVNRUZF/i42N1e233y5JioiI0LJly7Rnzx7t2LFD1dXVWrx4cTBLxmWips6noyc9qqnzhboUAMAF\n",
              "cgTrwJWVlSosLNQ777wjSZo4caLmzp2r0tJSJSYmNvie/Px8VVZWKiMjQ5LUo0cP/2t2u13p6ena\n",
              "tWtXo+f0eDzyeDwB+3w+fknh/ztywqO8j8r09q6vdKrOpyvC7boxOVaZgxMUHekMdXkAgCYI2kxM\n",
              "eXm54uLi5HCczkk2m00ul0tut7vR96xcuVJTpkxReHj4Wa9VV1drxYoVuuWWWxp9/6JFi9S2bduA\n",
              "raCg4Mc3gxbhyAmP7nl5u17Kd6va45UjzKZqj1d5+Qc1d9V2HT3p+eGDAAAuGZfMwt7q6mqtXr1a\n",
              "06dPP+u12tpaTZo0SaNHj9b48eMbPcb8+fN1/PjxgG3AgAHBLBsWkvdRmUorT6hTpFPtW7dSa6dD\n",
              "7Vu3UqdIp0orTyjvw4OhLhEA0ARBCzFdu3ZVRUWFvF6vJMkYI7fbLZfL1eD4V199VX369FHv3r0D\n",
              "9tfV1WnSpEmKi4vT0qVLz3lOp9OpqKiogM1utzdPQ7C0mjqf3t71lSIcdjnsgf/ZO+xhcjrseqv4\n",
              "MGtkAMBCghZiYmJilJaWpry8PEnSmjVrFB8f3+h6mJUrV541C+P1ejV58mR16NBBzz33nGw2W7DK\n",
              "RQt30uPVqTqfWjka/k/e6QjTqVqfTnq8F7kyAMCFCurtpJycHOXk5CgpKUmPPfaYcnNzJUkzZszQ\n",
              "+vXr/eP27t2roqIiTZo0KeD9r7zyitauXavCwkL169dPffv21Zw5c4JZMlqoSKdDV4TbVeutb/B1\n",
              "j7deV7SyK9IZtLXuAIBmZjPGmFAXEUzZ2dlasmRJqMvAJeDJTXv1Ur5bnSKdAbeUvL56HTnpUebA\n",
              "BN03KimEFQIAmoK/duKyMWVwN+Uf+FallSfkdNjldITJ462Xx+tTj5g2yhycEOoSAQBNcMk8nQQE\n",
              "W3SkU8tu66fMgQmKjHDIW28UGeFQ5sAEPX1bPz4nBgAshpkYXFaiI526b1SSZg/7F530eBXpdCgi\n",
              "nCfYAMCKCDG4LEWE2wkvAGBx3E4CAACWRIgBAACWRIgBAACWRIgBAACWRIgBAACWRIgBAACWRIgB\n",
              "AACWRIgBAACWRIgBAACWRIgBAACWRIgBAACWRIgBAACWRIgBAACWRIgBAACWRIgBAACWRIgBAACW\n",
              "RIgBAACWRIgBAACWRIgBAACWRIgBAACWRIgBAACWRIgBAACWRIgBAACWRIgBAACWRIgBAACWRIgB\n",
              "AACWRIgBAACWRIgBAACWRIgBAACWRIgBAACWRIgBAACWFNQQU1JSoiFDhigpKUnp6ekqLi4+a0xu\n",
              "bq769u3r36KjozVhwgT/6xs2bFDPnj3Vo0cPTZgwQVVVVcEsGQAAWERQQ8ysWbM0c+ZM7du3T/Pm\n",
              "zVNWVtZZY6ZNm6aioiL/Fhsbq9tvv12SdPLkSU2fPl2vv/66SkpK1LlzZz388MPBLBkAAFhE0EJM\n",
              "ZWWlCgsLlZmZKUmaOHGiysvLVVpa2uh78vPzVVlZqYyMDEnSW2+9pX79+qlnz56SpLvvvlsvv/xy\n",
              "o+/3eDyqqqoK2Hw+XzN2BQAALhVBCzHl5eWKi4uTw+GQJNlsNrlcLrnd7kbfs3LlSk2ZMkXh4eGS\n",
              "JLfbrYSEBP/r3bp1U0VFhbxeb4PvX7Rokdq2bRuwFRQUNGNXAADgUnHJLOytrq7W6tWrNX369As+\n",
              "xvz583X8+PGAbcCAAc1YJQAAuFQ4gnXgrl27+mdNHA6HjDFyu91yuVwNjn/11VfVp08f9e7d27/P\n",
              "5XJp06ZN/p/LysoCZne+z+l0yul0Buyz2+3N0A0AALjUBG0mJiYmRmlpacrLy5MkrVmzRvHx8UpM\n",
              "TGxw/MqVK8+ahRk7dqw++eQT7dmzR5L07LPPavLkycEqGQAAWEjQZmIkKScnR1lZWVq4cKGioqKU\n",
              "m5srSZoxY4YyMjL8C3j37t2roqIibdy4MeD9bdq00YoVK/Szn/1MXq9XycnJeuGFF4JZMgAAsAib\n",
              "McaEuohgys7O1pIlS0JdBgAAaGaXzMJeAACApiDEAAAASyLEAAAASyLEAAAASyLEAAAASyLEAAAA\n",
              "SyLEAAAASyLEAAAASyLEAAAASyLEAAAASyLEAAAASyLEAAAASyLEAAAASyLEAAAASyLEAAAASyLE\n",
              "AAAASyLEAAAASyLEAAAASyLEAAAASyLEAAAASyLEXKCaOp+OnvSops4X6lIAALgsOUJdgNUcOeFR\n",
              "3kdlenvXVzpV59MV4XbdmByrzMEJio50hro8AAAuG8zENMGREx7d8/J2vZTvVrXHK0eYTdUer/Ly\n",
              "D2ruqu06etIT6hIBALhsEGKaIO+jMpVWnlCnSKfat26l1k6H2rdupU6RTpVWnlDehwdDXSIAAJcN\n",
              "Qsx5qqnz6e1dXynCYZfDHvjH5rCHyemw663iw6yRAQDgIiHEnKeTHq9O1fnUytHwH5nTEaZTtT6d\n",
              "9HgvcmUAAFyeCDHnKdLp0BXhdtV66xt83eOt1xWt7Ip0slYaAICLgRBzniLC7RqbfJVqvD55fYFB\n",
              "xuurl8fr0419YhURbg9RhQAAXF6YNmiCKYO7Kf/AtyqtPCGnwy6nI0we7+kA0yOmjTIHJ4S6RAAA\n",
              "LhvMxDRBdKRTy27rp8yBCYqMcMhbbxQZ4VDmwAQ9fVs/PicGAICLiJmYJoqOdOq+UUmaPexfdNLj\n",
              "VaTTwS0kAABCgBBzgSLC7YQXAABCiNtJAADAkggxAADAkoIaYkpKSjRkyBAlJSUpPT1dxcXFDY77\n",
              "9NNPNWzYMPXq1Uu9evXS2rVrJUn19fXKzs5W7969lZKSouHDh6u0tDSYJQMAAIsIaoiZNWuWZs6c\n",
              "qX379mnevHnKyso6a8x3332nW265RY888oh2796tXbt26frrr5ckrV+/Xtu2bdOOHTu0c+dOjRw5\n",
              "UgsWLAhmyQAAwCKCFmIqKytVWFiozMxMSdLEiRNVXl5+1kzKqlWrNGjQIF133XWSJLvdrk6dOkmS\n",
              "bDabPB6PampqZIxRVVWV4uPjg1UyAACwkKA9nVReXq64uDg5HKdPYbPZ5HK55Ha7lZiY6B/32Wef\n",
              "yel06uabb9YXX3yhlJQU/eEPf1CnTp00btw4bdmyRbGxsWrTpo26dOmirVu3NnpOj8cjj8cTsM/n\n",
              "4wsZAQBoiUK+sNfr9erdd99VTk6Otm/fri5duuiXv/ylJKmwsFC7du3SoUOH9OWXX2rkyJGaPXt2\n",
              "o8datGiR2rZtG7AVFBRcrFYAAMBFFLQQ07VrV1VUVMjrPf2tzsYYud1uuVyugHEul0vDhw9Xly5d\n",
              "ZLPZlJmZqY8++kiS9OKLL2rEiBFq166dwsLCNHXqVG3ZsqXRc86fP1/Hjx8P2AYMGBCsFgEAQAgF\n",
              "LcTExMQoLS1NeXl5kqQ1a9YoPj4+4FaSJP3iF7/Qxx9/rKqqKknSxo0blZqaKknq3r27Nm/erNra\n",
              "WknShg0blJyc3Og5nU6noqKiAja7nQ+kAwCgJQrqJ/bm5OQoKytLCxcuVFRUlHJzcyVJM2bMUEZG\n",
              "hjIyMuRyubRgwQINGTJEYWFh6tKli5577jlJ0pw5c7R7926lpqYqPDxcsbGxWr58eTBLBgAAFmEz\n",
              "xphQFxFMEyZMULdu3S7ovT6fTwUFBRowYECLndGhx5bhcuhRujz6pMeW4XLoUQpunwkJCbr33nvP\n",
              "OabFh5gfo6qqSm3bttXx48cVFRUV6nKCgh5bhsuhR+ny6JMeW4bLoUcp9H2G/OkkAACAC0GIAQAA\n",
              "lkSIAQAAlkSIOQen06kHHnhATqcz1KUEDT22DJdDj9Ll0Sc9tgyXQ49S6PtkYS8AALAkZmIAAIAl\n",
              "EWIAAIAlEWIAAIAlEWL+j8fj0dy5c9WjRw9dc801yszMlHT6u5zS0tLUt29fJScn64UXXghxpRfu\n",
              "66+/Vt++ff1bUlKSHA6HvvnmG1VWVmrs2LHq0aOHkpOT9f7774e63Atyrh6nTZumpKQkpaam6tpr\n",
              "r9XHH38c6nIvyLl6/KfNmzfLbrfrj3/8Y+gK/RHO1aMxRr/73e+UlJSka665RsOHDw91uRfsXH0W\n",
              "FBRo0KBB6tevn3r16qXHH3881OVesMauoy3luiM13mNLue5IP/z7MCTXHQNjjDH33XefmTt3rqmv\n",
              "rzfGGFNRUWHq6+tN+/btzY4dO4wxxhw4cMA4nU5TVVUVylKbzRNPPGFuvvlmY4wx06ZNMw888IAx\n",
              "xpiCggLTpUsXU1tbG8LqmseZPa5bt87U1dUZY4x54403TEJCQggraz5n9miMMceOHTPp6enm5ptv\n",
              "Nk8++WToCmtGZ/b4xz/+0YwfP954PB5jzOn/V1uKM/tMTU0169atM8YY8/XXX5tOnTqZ4uLiUJZ3\n",
              "Qc51HW0p151z9dhSrjs/9PswVNcdZmIkVVdXa+XKlXr00Udls9kkSbGxsZIkm82mY8eOSTr98cod\n",
              "O3ZsMY/MrVy5UtOnT5ck/fd//7dmz54tSUpPT1fnzp21devWUJbXLM7sMSMjQw7H6e88HTRokA4d\n",
              "OiSv1xvK8prFmT1K0ty5c/Wf//mf6tixYwiral5n9vjEE0/oscceU6tWrST9//9XW4Iz+zzz2lNd\n",
              "Xa1WrVqpQ4cOIazuwjV2HW1J153GemxJ151z/T4M1XWHECNp//796tChgxYuXKj+/fvr+uuv13vv\n",
              "vSebzaZXXnlFEyZMUEJCgq677jq98MIL/ounlX3wwQf69ttvdfPNN+vrr79WXV1dwC+Dbt26ye12\n",
              "h7DCH+/MHr9v6dKl+ulPf+q/uFjV93t87bXXFBYWpoyMjBBX1nzO7LGqqkpfffWV1q1bp4EDB2rg\n",
              "wIF65ZVXQl1is/j+v8vc3Fzdf//9crlcSkpK0sKFCy0Z2Bq7jp44caLFXHfO93eFla875+oxpNed\n",
              "izbncwn7xz/+YSSZF154wRhjzCeffGI6duxoDh8+bG644QazdetWY8zp6c7Y2Fhz5MiRUJbbLO68\n",
              "807zH//xH8YYY44ePWpatWoV8PrPf/5zs3LlylCU1mzO7PFMf/nLX0xSUpI5fPhwCKpqXmf2WFFR\n",
              "YVJTU823335rjDFm6tSpLeJ20pk9fv3110aSefDBB40xp6e04+LiTFFRUShLbBbf/+910qRJ5qWX\n",
              "XjLGGLN//34THx9vydtJdXV1DV5HDx8+3GKuO431eObvCqtfdxrrsby8PKTXHUKMMebIkSMmLCzM\n",
              "eL1e/77+/fubJ554wvTo0SNgbP/+/c0777xzsUtsVidOnDCRkZFm9+7d/n1XXnllwNqC9PR0s2nT\n",
              "plCU1ywa6tEYY1avXm0SExPNwYMHQ1RZ8/l+jxs2bDAxMTEmISHBJCQkmNatW5v27dubBQsWhLjS\n",
              "C9fQv8fIyEizf/9+/8+33nqr+dOf/hSK8prN9/s8cuTIWb/gb731VvPcc8+Forwf5eOPP270OtpS\n",
              "rjvn6tGYlnHdaazH119/PaTXHULM/xk1apR58803jTHGfP7556Zjx46mrKzMREZGms8++8wYY0xJ\n",
              "SYlp3769pf9DNMaYFStWmGuvvTZg39SpUwMW2HXu3NmSC+z+qaEeX3nlFZOYmGjKyspCVFXzaqjH\n",
              "M7WEmZiGerzrrrvMM888Y4w5PTPjcrlMfn5+KMprNt/v0+v1mvbt25v33nvPGHM61HTt2tV88MEH\n",
              "oSrxgh0+fLjR62hLue6cq8eWct05V49nYiYmRPbv32+GDRtmkpOTTUpKinnttdeMMcasWrXKvy85\n",
              "Odk/vWtlgwcPNs8//3zAvsOHD5tRo0aZxMRE07t3b7N58+YQVdc8GurR4XCY+Ph4k5qa6t+OHj0a\n",
              "ogp/vIZ6PFNLCDEN9Xj06FEzbtw406dPH9OnTx9/oLGyhvrctGmTSUtLMykpKaZXr17mD3/4Q4iq\n",
              "+/Eau462pOtOYz22pOvO+fw+vNjXHb47CQAAWBJPJwEAAEsixAAAAEsixAAAAEsixAAAAEsixABo\n",
              "Maz6ce4ALgwhBkDQ3H777erfv79SUlJ000036fDhw5KkN998U+np6UpNTVXfvn2Vn58vSfrwww91\n",
              "3XXXKTU1VSkpKVq3bp2k0x9HX1RU5D9u//799de//lWSNGzYMP3qV7/S4MGDNXr0aHm9Xo0ZM0b9\n",
              "+/dXnz59dNttt6m6utr/3tzcXPXt21epqanq37+/ysrKNHfuXC1cuNA/Zu/everatSuhCLjE8Yg1\n",
              "gKA5cuSIOnXqJEl67LHHVFZWpuzsbF133XV6//331bNnT9XV1em7776Tz+dTr1699Nprr+n6669X\n",
              "fX29jh07pg4dOqhbt256/fXX1bdvX0mnQ8zvf/97DRs2TMOGDVNERITeeOMNhYeHyxijb775Rh07\n",
              "dpQxRnfffbcSEhL0m9/8Rn/96181bdo0ffDBB4qLi9N3330nSSovL9eYMWO0f/9+2e123XvvvYqO\n",
              "jtb9998fqj86AOfBet9CBcAyVq1apb/85S+qqalRTU2NoqOjtWnTJo0dO1Y9e/aUJIWHh6tt27Z6\n",
              "8803dfXVV+v666+XJIWFhZ33tzZnZmYqPDxckmSM0ZNPPqk333xTXq9Xx48f15AhQySdngGaMmWK\n",
              "4uLiJElXXnmlJOnqq69W7969tW7dOo0ZM0Yvv/yyPv3002b9swDQ/LidBCAo/v73v+upp57Sxo0b\n",
              "tWvXLi1ZskQ1NTUXdCyHwyGfz+f/+fvHiYyM9P/zqlWrtHnzZm3dulWffvqp/v3f//28znvvvfdq\n",
              "2bJlysvL06hRo3TVVVddUK0ALh5CDICg+Pbbb9WmTRt17NhRtbW1ysnJkSSNGTNG//u//6s9e/ZI\n",
              "kurq6vyzJSUlJfrb3/4mSaqvr9c333wjSUpMTPSvmykoKNDevXvPed7o6GhFRUXpxIkT+vOf/+x/\n",
              "bdy4ccrLy1NFRYUk6bvvvvPfUho9erQOHz6sRx55RHPnzm3ePwwAQUGIARAUY8eO1dVXX+2/RfTP\n",
              "9SyJiYnKzc1VZmamUlNTNXDgQO3du1ft27fX//zP/+g3v/mNUlJSlJaWpm3btkmSHnnkET3zzDNK\n",
              "TU3V888/rz59+jR63jvuuEPfffedrr76at14443+21OSNHToUD3wwAMaM2aMUlNTdcMNN+jIkSOS\n",
              "JJvNpunTpysmJkaDBw8O3h8MgGbDwl4A+D8333yzJk2apClTpoS6FADngZkYAJe9wsJCJSYmKiws\n",
              "TLfddluoywFwnpiJAQAAlsRMDAAAsCRCDAAAsCRCDAAAsCRCDAAAsCRCDAAAsCRCDAAAsCRCDAAA\n",
              "sCRCDAAAsKT/B7tpsgWFFnheAAAAAElFTkSuQmCC\n",
              "\">\n",
              "      </div>\n",
              "      <script type=\"text/javascript\">\n",
              "        (() => {\n",
              "          const chartElement = document.getElementById(\"chart-d7ce2394-7cc7-49c6-ba21-4df3454bccfc\");\n",
              "          async function getCodeForChartHandler(event) {\n",
              "            const chartCodeResponse =  await google.colab.kernel.invokeFunction(\n",
              "                'getCodeForChart', [\"chart-d7ce2394-7cc7-49c6-ba21-4df3454bccfc\"], {});\n",
              "            const responseJson = chartCodeResponse.data['application/json'];\n",
              "            await google.colab.notebook.addCell(responseJson.code, 'code');\n",
              "          }\n",
              "          chartElement.onclick = getCodeForChartHandler;\n",
              "        })();\n",
              "      </script>\n",
              "      <style>\n",
              "        .colab-quickchart-chart-with-code  {\n",
              "            display: block;\n",
              "            float: left;\n",
              "            border: 1px solid transparent;\n",
              "        }\n",
              "\n",
              "        .colab-quickchart-chart-with-code:hover {\n",
              "            cursor: pointer;\n",
              "            border: 1px solid #aaa;\n",
              "        }\n",
              "      </style>"
            ]
          },
          "metadata": {}
        },
        {
          "output_type": "display_data",
          "data": {
            "text/plain": [
              "from matplotlib import pyplot as plt\n",
              "all_model_results.plot(kind='scatter', x='precision', y='recall', s=32, alpha=.8)\n",
              "plt.gca().spines[['top', 'right',]].set_visible(False)"
            ],
            "text/html": [
              "      <div class=\"colab-quickchart-chart-with-code\" id=\"chart-b06e2ce4-39f6-4c83-ae3f-375d14625808\">\n",
              "        <img style=\"width: 180px;\" src=\"data:image/png;base64,iVBORw0KGgoAAAANSUhEUgAAAjEAAAGkCAYAAADALHSZAAAAOXRFWHRTb2Z0d2FyZQBNYXRwbG90\n",
              "bGliIHZlcnNpb24zLjguMCwgaHR0cHM6Ly9tYXRwbG90bGliLm9yZy81sbWrAAAACXBIWXMAAA9h\n",
              "AAAPYQGoP6dpAAAv9klEQVR4nO3de3BUZZ7/8U+nO3QokoBOiImEJiIESEIuaBBwtQRW1N0hCjjC\n",
              "aliChIvirGtqZxjYcVxKFwa3zCzqWkahUoNRmUEYYSl0alxS6lACZk1AIpfEIXS4SHAGCMmSTrpz\n",
              "fn9Q9s8eEkwkJ52HvF9Vp8qcfvqc75fL8cNznj7tsCzLEgAAgGEiwl0AAADA90GIAQAARiLEAAAA\n",
              "IxFiAACAkQgxAADASIQYAABgJEIMAAAwEiEGAAAY6ZoPMWvXrg13CQAAwAbXfIg5duxYuEsAAAA2\n",
              "uOZDDAAAuDYRYgAAgJEIMQAAwEiEGAAAYCRCDAAAMBIhBgAAGIkQAwAAjESIAQAARiLEAAAAIxFi\n",
              "AACAkQgxAACgy5pbA/q60afm1kDYanCF7cwAAMA4Zy74VLq7Vu8fOK2LrQH1j3TqvvQE5U0cprho\n",
              "d4/WYutMTHV1tSZNmqSUlBTl5OSoqqrqsjFtbW0qLCxUamqqMjIyNHnyZNXU1Fw2Lj8/Xw6HQ+fO\n",
              "nbOzZAAA0IEzF3z68dsVenOPV00+v1wRDjX5/Crdc0xPvFWhrxt9PVqPrSFm8eLFWrRokY4cOaJl\n",
              "y5YpPz//sjHbtm3Trl27tG/fPu3fv19Tp07VihUrQsZs2bJFkZGRdpYKAAC+Q+nuWtXUX9DgaLeu\n",
              "G9BPA9wuXTegnwZHu1VTf0Glnxzr0XpsCzH19fUqLy9XXl6eJGnWrFmqq6u7bJbF4XDI5/OpublZ\n",
              "lmWpoaFBSUlJwddPnz6tVatWqaio6DvP6fP51NDQELIFAuG7VwcAwLWiuTWg9w+cVpTLKZczND64\n",
              "nBFyu5x6r+qrHl0jY9uamLq6OiUmJsrlunQKh8Mhj8cjr9erESNGBMdNnz5dZWVlSkhIUExMjIYM\n",
              "GaIPP/ww+PrChQv1/PPPKyYm5jvPuXr1aq1cuTJk34QJE7qpIwAA+q5Gn18XWwPq52p//sPtitDF\n",
              "loAafX5FRTp7pKawfzqpvLxcBw4c0IkTJ3Ty5ElNnTpVS5YskSStW7dOHo9HU6ZM6dSxli9frvPn\n",
              "z4ds48ePt7N8AAD6hGi3S/0jnWrxt7X7us/fpv79nIp299xnhmwLMUOHDtWpU6fk9/slSZZlyev1\n",
              "yuPxhIzbsGGDpkyZokGDBikiIkLz5s1TWVmZJKmsrExbt25VcnKykpOTJUkZGRmqqKho95xut1ux\n",
              "sbEhm9PZM2kQAIBrWVSkU/em36Bmf0D+QGiQ8Qfa5PMHdF9aQo/Nwkg2hpj4+HiNGzdOpaWlkqTN\n",
              "mzcrKSkp5FaSJA0fPlw7d+5US0uLJGn79u1KT0+XJL355puqq6tTbW2tamtrJUn79+9Xdna2XWUD\n",
              "AIAOzJ2YrBHxMTrT6NNfmlrU5PPrL00tOtPo08j4GOVNHNaj9dg651NcXKz8/HytWrVKsbGxKikp\n",
              "kSQVFBQoNzdXubm5Wrp0qQ4ePKjMzExFRkYqISFBr776qp1lAQCA7yEu2q2XH85W6SfH9F7VV7rY\n",
              "ElB0lEs/SksKy3NiHJZlWT16xh5WWFjYqU82AQCAzmtuvbSIN9rt6tFbSN/GE3sBAECXRUU6wxZe\n",
              "vhH2TycBAAB8H4QYAABgJEIMAAAwEiEGAAAYiRADAACMRIgBAABGIsQAAAAjEWIAAICRCDEAAMBI\n",
              "hBgAAGAkQgwAADASIQYAABiJEAMAAIxEiAEAAEYixAAAACMRYgAAgJEIMQAAwEiEGAAAYCRCDAAA\n",
              "MBIhBgAAGIkQAwAAjESIAQAARiLEAAAAIxFiAACAkQgxAADASIQYAABgJEIMAAAwEiEGAAAYiRAD\n",
              "AACMRIgBAABGIsQAAAAjEWIAAICRbA0x1dXVmjRpklJSUpSTk6OqqqrLxrS1tamwsFCpqanKyMjQ\n",
              "5MmTVVNTI0n6/PPPdeedd2r06NFKT0/Xo48+qosXL9pZMgAAMIStIWbx4sVatGiRjhw5omXLlik/\n",
              "P/+yMdu2bdOuXbu0b98+7d+/X1OnTtWKFSskSVFRUXr55Zd16NAh7du3T01NTVqzZo2dJQMAAEPY\n",
              "FmLq6+tVXl6uvLw8SdKsWbNUV1cXnGX5hsPhkM/nU3NzsyzLUkNDg5KSkiRJI0eOVEZGhiTJ6XQq\n",
              "JydHtbW1dpUMAAAM4rLrwHV1dUpMTJTLdekUDodDHo9HXq9XI0aMCI6bPn26ysrKlJCQoJiYGA0Z\n",
              "MkQffvjhZcdramrSunXrtHr16g7P6fP55PP5QvYFAoFu6ggAAPQmYV/YW15ergMHDujEiRM6efKk\n",
              "pk6dqiVLloSMaWlp0ezZszVt2jTNmDGjw2OtXr1aAwcODNn27t1rdwsAACAMbAsxQ4cO1alTp+T3\n",
              "+yVJlmXJ6/XK4/GEjNuwYYOmTJmiQYMGKSIiQvPmzVNZWVnw9dbWVs2ePVuJiYlau3btFc+5fPly\n",
              "nT9/PmQbP3589zcHAADCzrYQEx8fr3Hjxqm0tFSStHnzZiUlJYXcSpKk4cOHa+fOnWppaZEkbd++\n",
              "Xenp6ZIkv9+vOXPm6Prrr9drr70mh8NxxXO63W7FxsaGbE6n04buAABAuNm2JkaSiouLlZ+fr1Wr\n",
              "Vik2NlYlJSWSpIKCAuXm5io3N1dLly7VwYMHlZmZqcjISCUkJOjVV1+VJP3mN7/Rli1blJGRoezs\n",
              "bEnS7bffrv/6r/+ys2wAAGAAh2VZVriLsFNhYaGKiorCXQYAAOhmYV/YCwAA8H0QYgAAgJEIMQAA\n",
              "wEiEGAAAYCRCDAAAMBIhBgAAGIkQAwAAjESIAQAARiLEAAAAIxFiAACAkQgxAADASIQYAABgJEIM\n",
              "AAAwEiEGAAAYiRADAACMRIgBAABGIsQAAAAjEWIAAICRCDEAAMBIhBgAAGAkQgwAADASIQYAABiJ\n",
              "EAMAAIxEiAEAAEYixAAAACMRYgAAgJEIMQAAwEiEGAAAYCRCDAAAMBIhBgAAGIkQAwAAjESIAQAA\n",
              "RiLEAAAAIxFiAACAkWwNMdXV1Zo0aZJSUlKUk5Ojqqqqy8a0tbWpsLBQqampysjI0OTJk1VTUxN8\n",
              "ffv27Ro9erRGjhypmTNnqqGhwc6SAQCAIWwNMYsXL9aiRYt05MgRLVu2TPn5+ZeN2bZtm3bt2qV9\n",
              "+/Zp//79mjp1qlasWCFJamxs1IIFC/Tuu++qurpaN954o5599lk7SwYAAIawLcTU19ervLxceXl5\n",
              "kqRZs2aprq4uZJZFkhwOh3w+n5qbm2VZlhoaGpSUlCRJeu+995Sdna3Ro0dLkh5//HG9/fbbHZ7T\n",
              "5/OpoaEhZAsEAjZ1CAAAwsll14Hr6uqUmJgol+vSKRwOhzwej7xer0aMGBEcN336dJWVlSkhIUEx\n",
              "MTEaMmSIPvzwQ0mS1+vVsGHDgmOTk5N16tQp+f3+4HG/bfXq1Vq5cmXIvgkTJtjRHgAACLOwL+wt\n",
              "Ly/XgQMHdOLECZ08eVJTp07VkiVLvtexli9frvPnz4ds48eP7+aKAQBAb2DbTMzQoUNDZk0sy5LX\n",
              "65XH4wkZt2HDBk2ZMkWDBg2SJM2bN0/Tpk2TJHk8Hv3hD38Ijq2trQ2Z3flrbrdbbrc7ZJ/T6ezG\n",
              "rgAAQG9h20xMfHy8xo0bp9LSUknS5s2blZSUFHIrSZKGDx+unTt3qqWlRdKlTyOlp6dLku699159\n",
              "9tlnOnTokCTplVde0Zw5c+wqGQAAGMS2mRhJKi4uVn5+vlatWqXY2FiVlJRIkgoKCpSbm6vc3Fwt\n",
              "XbpUBw8eVGZmpiIjI5WQkKBXX31VkhQTE6N169bpgQcekN/vV3p6un7961/bWTIAADCEw7IsK9xF\n",
              "2KmwsFBFRUXhLgMAAHSzsC/sBQAA+D4IMQAAwEiEGAAAYCRCDAAAMBIhBgAAGIkQAwAAjESIAQAA\n",
              "RiLEAAAAIxFiAACAkQgxAADASIQYAABgJEIMAAAwEiEGAAAYiRADAACMRIgBAABGIsQAAAAjEWIA\n",
              "AICRCDEAYIjm1oC+bvSpuTUQ7lKAXsEV7gIAAFd25oJPpbtr9f6B07rYGlD/SKfuS09Q3sRhiot2\n",
              "h7s8IGyYiQGAXuzMBZ9+/HaF3tzjVZPPL1eEQ00+v0r3HNMTb1Xo60ZfuEsEwoYQAwC9WOnuWtXU\n",
              "X9DgaLeuG9BPA9wuXTegnwZHu1VTf0GlnxwLd4lA2BBiAKCXam4N6P0DpxXlcsrlDL1cu5wRcruc\n",
              "eq/qK9bIoM8ixABAL9Xo8+tia0D9XO1fqt2uCF1sCajR5+/hyoDegRADAL1UtNul/pFOtfjb2n3d\n",
              "529T/35ORbv5jAb6JkIMAPRSUZFO3Zt+g5r9AfkDoUHGH2iTzx/QfWkJiop0hqlCILyI7wDQi82d\n",
              "mKw9R8+qpv6C3C6n3K4I+fyXAszI+BjlTRwW7hKBsGEmBgB6sbhot15+OFt5tw1TdJRL/jZL0VEu\n",
              "5d02TC89nM1zYtCnMRMDAL1cXLRb/3x3ipbcdbMafX5Fu13cQgJEiAEAY0RFOgkvwLdwOwkAABiJ\n",
              "EAMAAIxEiAEAAEYixAAAACMRYgAAgJFsDTHV1dWaNGmSUlJSlJOTo6qqqsvGlJSUKCsrK7jFxcVp\n",
              "5syZwdfXrFmj1NRUZWVlacKECdq7d6+dJQMAAEPYGmIWL16sRYsW6ciRI1q2bJny8/MvGzN//nxV\n",
              "VlYGt4SEBD3yyCOSpMrKSr3yyivau3evKisr9cQTT+iJJ56ws2QAAGAI20JMfX29ysvLlZeXJ0ma\n",
              "NWuW6urqVFNT0+F79uzZo/r6euXm5kqSHA6HWltb1dTUJEk6d+6ckpKSOny/z+dTQ0NDyBYI8BX1\n",
              "AABci2x72F1dXZ0SExPlcl06hcPhkMfjkdfr1YgRI9p9z/r16zV37lxFRkZKkjIzM/XUU0/ppptu\n",
              "0vXXXy+3262PPvqow3OuXr1aK1euDNk3YcKEbuoIAAD0Jr1mYW9TU5M2btyoBQsWBPcdPXpUW7Zs\n",
              "UU1NjY4fP66nnnpKs2fP7vAYy5cv1/nz50O28ePH90T5AACgh9kWYoYOHapTp07J7/dLkizLktfr\n",
              "lcfjaXf8pk2blJaWptTU1OC+zZs3a+zYsbrxxhslXVo/s2vXLrW0tLR7DLfbrdjY2JDN6eQR3QAA\n",
              "XItsCzHx8fEaN26cSktLJV0KJElJSVe8lfTtWRhJGj58uHbt2qXGxkZJ0vbt25WSkqJ+/frZVTYA\n",
              "ADCErV8AWVxcrPz8fK1atUqxsbEqKSmRJBUUFCg3Nze4gPfw4cOqrKzUjh07Qt4/Y8YMffrpp7r1\n",
              "1lvldrs1YMAAvfXWW3aWDAAADOGwLMsKdxF2KiwsVFFRUbjLAAAA3azXLOwFAADoCkIMAAAwEiEG\n",
              "AAAYiRADAACMRIgBAABGIsQAAAAjEWIAAICRCDEAAMBIhBgAAGAkQgwAADASIQYAABiJEAMAAIxE\n",
              "iAEAAEYixAAAACMRYgAAgJEIMQAAwEiEGAAAYCRCDAAAMBIhBgAAGIkQAwAAjESIAQAARiLEAAAA\n",
              "I7k6O/DFF1+84uv/9E//dNXFAAAAdFanQ0xFRUWHrzkcjm4pBgAAoLM6HWJKSkrsrAMAAKBLOh1i\n",
              "tm3bdsXXc3Nzr7oYAACAzup0iPnVr37V4WsOh4MQAwAAelSnQ0xZWZmddQAAAHRJp0PMt7W2turo\n",
              "0aNqbm4O7svIyOi2ogAAAL5Ll0PM9u3btXDhQp09e1YDBgzQ2bNnNWzYMB09etSO+gAAANrV5Yfd\n",
              "Pf3009q9e7fGjBmjP//5z9qwYYMefPBBO2oDAADoUJdDTEREhIYNGya/3y9JysvL086dO7u9MAAA\n",
              "gCvp8u2kyMhISVJSUpJ+97vfKTk5WWfPnu32wgAAAK6kyzMxTz75pM6ePavnnntOP/3pTzVt2jQ9\n",
              "++yz7Y6trq7WpEmTlJKSopycHFVVVV02pqSkRFlZWcEtLi5OM2fODL7u9Xo1ffp0jRo1SqmpqXrp\n",
              "pZe6WjIAALgGOSzLsuw6+JQpU/SP//iPys/P1zvvvKM1a9bo008/veJ70tPTtXLlSs2aNUuWZenW\n",
              "W2/Vz372M/3oRz+SJJ0+fVo33HBDp2soLCxUUVHRVfUBAAB6ny7PxDzzzDP685//HPz566+/1sqV\n",
              "Ky8bV19fr/LycuXl5UmSZs2apbq6OtXU1HR47D179qi+vj744Lz/+Z//kdvtDgYYSV0KMAAA4NrV\n",
              "5RCzdetW/eAHPwj+HBcXp61bt142rq6uTomJiXK5Li27cTgc8ng88nq9HR57/fr1mjt3bnDdzRdf\n",
              "fKHBgwdrzpw5ys7O1owZM/SnP/2pw/f7fD41NDSEbIFAoKstAgAAA3Q5xLS1tV22r6Wl5aoLaWpq\n",
              "0saNG7VgwYLgPr/fr507d+rpp59WRUWF7rnnHj300EMdHmP16tUaOHBgyLZ3796rrg0AAPQ+XQ4x\n",
              "o0aN0vPPP69AICC/3681a9Zo9OjRl40bOnSoTp06FfwotmVZ8nq98ng87R5306ZNSktLU2pqanCf\n",
              "x+NRdna20tLSJElz587VZ599ptbW1naPsXz5cp0/fz5kGz9+fFdbBAAABuhyiFm7dq3ef/999e/f\n",
              "XwMGDNAHH3zQ7ieG4uPjNW7cOJWWlkqSNm/erKSkJI0YMaLd465fvz5kFkaS7rvvPh0/flwnTpyQ\n",
              "JO3YsUNjxowJ3m76a263W7GxsSGb0+nsaosAAMAAXX5OzI033qidO3eqqalJkjRgwIAOxxYXFys/\n",
              "P1+rVq1SbGysSkpKJEkFBQXKzc0NLuA9fPiwKisrtWPHjpD3DxgwQK+++qr+/u//XpZlaeDAgdq4\n",
              "cWNXSwYAANegLn/E2u/3a+3atfryyy/1yiuv6Msvv9SxY8c0ZcoUu2q8KnzEGgCAa1OXZ2KeeOIJ\n",
              "BQIB/fGPf5Qk/eAHP9Ds2bNVXl7e7cUBAAB0pMshZvfu3aqsrFR2drYkadCgQR0utAUAALBLlxf2\n",
              "RkVFhfwcCATa/dg1AACAnbocYjIyMlRaWqq2tjbV1NRoyZIluuuuu2woDQAAoGNdDjFFRUX6+OOP\n",
              "9dVXX+n2229XRESE1qxZY0dtAAAAHerSmphAIKBnn31WxcXFKi4utqsmAACA79SlmRin06mysjK7\n",
              "agEAAOi0Lt9O+ru/+zv9+7//u06ePBnyRYsArn3NrQF93ehTcytfrAog/Lr8sLuIiP+fexwOhyzL\n",
              "ksPh6LXfFs3D7oCrd+aCT6W7a/X+gdO62BpQ/0in7ktPUN7EYYqLdoe7PAB9VJefE8PHqYG+5cwF\n",
              "n378doVq6i8oyuVUP1eEmnx+le45pt1H/6KXH84myAAIiy7fTgLQt5TurlVN/QUNjnbrugH9NMDt\n",
              "0nUD+mlwtFs19RdU+smxcJcIoI8ixADoUHNrQO8fOK0ol1MuZ+jlwuWMkNvl1HtVX7FGBkBYEGIA\n",
              "dKjR59fF1oD6udq/VLhdEbrYElCjz9/DlQEAIQbAFUS7Xeof6VSLv/21cD5/m/r3cyra3eXldQBw\n",
              "1QgxADoUFenUvek3qNkfkD8QGmT8gTb5/AHdl5agqEhnmCoE0JfxzycAVzR3YrL2HD2rmvoLcruc\n",
              "crsi5PNfCjAj42OUN3FYuEsE0EcxEwPgiuKi3Xr54Wzl3TZM0VEu+dssRUe5lHfbML3Ex6sBhBEz\n",
              "MQC+U1y0W/98d4qW3HWzGn1+Rbtd3EICEHaEGACdFhXpJLwA6DW4nQQAAIxEiAEAAEYixAAAACMR\n",
              "YgAAgJEIMQAAwEiEGAAAYCRCDAAAMBIhBgAAGIkQAwAAjESIAQAARiLEAAAAIxFiAACAkQgxAADA\n",
              "SIQYAABgJEIMAAAwkq0hprq6WpMmTVJKSopycnJUVVV12ZiSkhJlZWUFt7i4OM2cOfOycfn5+XI4\n",
              "HDp37pydJQMAAEPYGmIWL16sRYsW6ciRI1q2bJny8/MvGzN//nxVVlYGt4SEBD3yyCMhY7Zs2aLI\n",
              "yEg7SwUAAIaxLcTU19ervLxceXl5kqRZs2aprq5ONTU1Hb5nz549qq+vV25ubnDf6dOntWrVKhUV\n",
              "FX3nOX0+nxoaGkK2QCBw9c0AAIBex7YQU1dXp8TERLlcLkmSw+GQx+OR1+vt8D3r16/X3LlzQ2Zd\n",
              "Fi5cqOeff14xMTHfec7Vq1dr4MCBIdvevXuvvhkAANDr9JqFvU1NTdq4caMWLFgQ3Ldu3Tp5PB5N\n",
              "mTKlU8dYvny5zp8/H7KNHz/erpIBAEAY2RZihg4dqlOnTsnv90uSLMuS1+uVx+Npd/ymTZuUlpam\n",
              "1NTU4L6ysjJt3bpVycnJSk5OliRlZGSooqKi3WO43W7FxsaGbE6ns3sbAwAAvYLLrgPHx8dr3Lhx\n",
              "Ki0tVX5+vjZv3qykpCSNGDGi3fHr168PmYWRpDfffDPkZ4fDof3792vQoEF2lQ0AAAxh6+2k4uJi\n",
              "FRcXKyUlRb/85S9VUlIiSSooKNC2bduC4w4fPqzKykrNnj3bznIAAMA1xGFZlhXuIuxUWFjYqU82\n",
              "AQAAs/Sahb0AAABdQYgBAABGIsQAAAAjEWIAAICRCDEAAMBIhBgAAGAkQgwAADASIQYAABiJEAMA\n",
              "AIxEiAEAAEYixAAAACMRYgAAgJEIMQAAwEiEGAAAYCRCDAAAMBIhBgAAGIkQAwAAjESIAQAARiLE\n",
              "AAAAIxFiAACAkQgxAADASIQYAABgJEIMAAAwEiEGAAAYiRADAACMRIgBAABGIsQAAAAjEWIAAICR\n",
              "CDEwUnNrQF83+tTcGgh3KQCAMHGFuwCgK85c8Kl0d63eP3BaF1sD6h/p1H3pCcqbOExx0e5wlwcA\n",
              "6EHMxMAYZy749OO3K/TmHq+afH65Ihxq8vlVuueYnnirQl83+sJdIgCgBxFiYIzS3bWqqb+gwdFu\n",
              "XTegnwa4XbpuQD8Njnarpv6CSj85Fu4SAQA9iBADIzS3BvT+gdOKcjnlcob+sXU5I+R2OfVe1Ves\n",
              "kQGAPoQQAyM0+vy62BpQP1f7f2TdrghdbAmo0efv4coAAOFia4iprq7WpEmTlJKSopycHFVVVV02\n",
              "pqSkRFlZWcEtLi5OM2fOlCR9/vnnuvPOOzV69Gilp6fr0Ucf1cWLF+0sGb1UtNul/pFOtfjb2n3d\n",
              "529T/35ORbtZqw4AfYWtIWbx4sVatGiRjhw5omXLlik/P/+yMfPnz1dlZWVwS0hI0COPPCJJioqK\n",
              "0ssvv6xDhw5p3759ampq0po1a+wsGb1UVKRT96bfoGZ/QP5AaJDxB9rk8wd0X1qCoiKdYaoQANDT\n",
              "bAsx9fX1Ki8vV15eniRp1qxZqqurU01NTYfv2bNnj+rr65WbmytJGjlypDIyMiRJTqdTOTk5qq2t\n",
              "7fD9Pp9PDQ0NIVsgwBqJa8XcickaER+jM40+/aWpRU0+v/7S1KIzjT6NjI9R3sRh4S4RANCDbAsx\n",
              "dXV1SkxMlMt1aXrf4XDI4/HI6/V2+J7169dr7ty5ioyMvOy1pqYmrVu3Tvfff3+H71+9erUGDhwY\n",
              "su3du/fqm0GvEBft1ssPZyvvtmGKjnLJ32YpOsqlvNuG6aWHs3lODAD0Mb1mAUFTU5M2btyo3bt3\n",
              "X/ZaS0uLZs+erWnTpmnGjBkdHmP58uUqLCwM2ff00093e60In7hot/757hQtuetmNfr8ina7uIUE\n",
              "AH2UbSFm6NChOnXqlPx+v1wulyzLktfrlcfjaXf8pk2blJaWptTU1JD9ra2tmj17thITE7V27dor\n",
              "ntPtdsvtDv3XuNPJ/+CuRVGRTsILAPRxtt1Oio+P17hx41RaWipJ2rx5s5KSkjRixIh2x69fv14L\n",
              "FiwI2ef3+zVnzhxdf/31eu211+RwOOwqFwAAGMbWTycVFxeruLhYKSkp+uUvf6mSkhJJUkFBgbZt\n",
              "2xYcd/jwYVVWVmr27Nkh7//Nb36jLVu2qLy8XNnZ2crKytLSpUvtLBkAABjCYVmWFe4i7FRYWKii\n",
              "oqJwlwEAALoZT+wFAABGIsQAAAAjEWIAAICRCDEAAMBIhBgAAGAkQgwAADASIQYAABiJEAMAAIxE\n",
              "iAEAAEYixAAAACMRYgAAgJEIMQAAwEiEGAAAYCRCDAAAMBIhBgAAGIkQAwAAjESIAQAARiLEAAAA\n",
              "IxFiAACAkQgxAADASIQYAABgJEIMAAAwEiEGAAAYiRADAACMRIgBAABGIsQAAAAjEWIAAICRCDEA\n",
              "AMBIhBgAAGAkQgwAADASIQYAABiJEAMAAIxEiAEAAEayNcRUV1dr0qRJSklJUU5Ojqqqqi4bU1JS\n",
              "oqysrOAWFxenmTNnBl/fvn27Ro8erZEjR2rmzJlqaGiws2QAAGAIW0PM4sWLtWjRIh05ckTLli1T\n",
              "fn7+ZWPmz5+vysrK4JaQkKBHHnlEktTY2KgFCxbo3XffVXV1tW688UY9++yzdpYMAAAMYVuIqa+v\n",
              "V3l5ufLy8iRJs2bNUl1dnWpqajp8z549e1RfX6/c3FxJ0nvvvafs7GyNHj1akvT444/r7bfftqtk\n",
              "AABgEJddB66rq1NiYqJcrkuncDgc8ng88nq9GjFiRLvvWb9+vebOnavIyEhJktfr1bBhw4KvJycn\n",
              "69SpU/L7/cHjfpvP55PP5wvZFwgEuqslAADQi/Sahb1NTU3auHGjFixY8L2PsXr1ag0cODBk27t3\n",
              "bzdWCQAAegvbQszQoUODsyaSZFmWvF6vPB5Pu+M3bdqktLQ0paamBvd5PB4dO3Ys+HNtbW3I7M5f\n",
              "W758uc6fPx+yjR8/vhu7AgAAvYVtISY+Pl7jxo1TaWmpJGnz5s1KSkq64q2kv56Fuffee/XZZ5/p\n",
              "0KFDkqRXXnlFc+bM6fCcbrdbsbGxIZvT6eymjgAAQG9i25oYSSouLlZ+fr5WrVql2NhYlZSUSJIK\n",
              "CgqUm5sbXMB7+PBhVVZWaseOHSHvj4mJ0bp16/TAAw/I7/crPT1dv/71r+0sGQAAGMJhWZYV7iLs\n",
              "VFhYqKKionCXAQAAulmvWdgLAADQFYQYAABgJEIMAAAwEiEGAAAYiRADAACMRIgBAABGIsQAAAAj\n",
              "EWIAAICRCDEAAMBIhBgAAGAkQgwAADASIQYAABiJEAMAAIxEiAEAAEYixAAAACMRYgAAgJEIMQAA\n",
              "wEiEGAAAYCRCDAAAMBIhBgAAGIkQAwAAjESIAQAARiLEAAAAIxFiAACAkQgxAADASIQYAABgJEIM\n",
              "AAAwEiHme2puDejrRp+aWwPhLgUAgD7JFe4CTHPmgk+lu2v1/oHTutgaUP9Ip+5LT1DexGGKi3aH\n",
              "uzwAAPoMZmK64MwFn378doXe3ONVk88vV4RDTT6/Svcc0xNvVejrRl+4SwQAoM8gxHRB6e5a1dRf\n",
              "0OBot64b0E8D3C5dN6CfBke7VVN/QaWfHAt3iQAA9BmEmE5qbg3o/QOnFeVyyuUM/WVzOSPkdjn1\n",
              "XtVXrJEBAKCHEGI6qdHn18XWgPq52v8lc7sidLEloEafv4crAwCgbyLEdFK026X+kU61+Nvafd3n\n",
              "b1P/fk5Fu1krDQBAT7A1xFRXV2vSpElKSUlRTk6Oqqqq2h33+eef66677tKYMWM0ZswYbdmyRZLU\n",
              "1tamwsJCpaamKiMjQ5MnT1ZNTY2dJXcoKtKpe9NvULM/IH8gNMj4A23y+QO6Ly1BUZHOsNQHAEBf\n",
              "Y2uIWbx4sRYtWqQjR45o2bJlys/Pv2zM//3f/+n+++/Xc889p4MHD+rAgQO64447JEnbtm3Trl27\n",
              "tG/fPu3fv19Tp07VihUr7Cz5iuZOTNaI+BidafTpL00tavL59ZemFp1p9GlkfIzyJg4LW20AAPQ1\n",
              "toWY+vp6lZeXKy8vT5I0a9Ys1dXVXTaT8tZbb2nChAn6m7/5G0mS0+nU4MGDJUkOh0M+n0/Nzc2y\n",
              "LEsNDQ1KSkrq8Jw+n08NDQ0hWyDQfQtt46LdevnhbOXdNkzRUS752yxFR7mUd9swvfRwNs+JAQCg\n",
              "B9m2gKOurk6JiYlyuS6dwuFwyOPxyOv1asSIEcFxX3zxhdxut374wx/q+PHjysjI0AsvvKDBgwdr\n",
              "+vTpKisrU0JCgmJiYjRkyBB9+OGHHZ5z9erVWrlyZci+CRMmdGtfcdFu/fPdKVpy181q9PkV7XZx\n",
              "CwkAgDAI+8Jev9+vDz74QMXFxaqoqNCQIUP02GOPSZLKy8t14MABnThxQidPntTUqVO1ZMmSDo+1\n",
              "fPlynT9/PmQbP368LXVHRToVF+0mwAAAECa2zcQMHTpUp06dkt/vl8vlkmVZ8nq98ng8IeM8Ho8m\n",
              "T56sIUOGSJLy8vJ0zz33SJI2bNigKVOmaNCgQZKkefPmadq0aR2e0+12y+0OvaXjdBIyAAC4Ftk2\n",
              "ExMfH69x48aptLRUkrR582YlJSWF3EqSpIceekiffvqpGhoaJEk7duxQZmamJGn48OHauXOnWlpa\n",
              "JEnbt29Xenq6XSUDAACD2PpQk+LiYuXn52vVqlWKjY1VSUmJJKmgoEC5ubnKzc2Vx+PRihUrNGnS\n",
              "JEVERGjIkCF67bXXJElLly7VwYMHlZmZqcjISCUkJOjVV1+1s2QAAGAIh2VZVriLsFNhYaGKiorC\n",
              "XQYAAOhmYV/YCwAA8H0QYgAAgJEIMQAAwEiEGAAAYCRCDAAAMBIhBgAAGOma/4j1zJkzlZycHLIv\n",
              "EAho7969Gj9+/DX9RN++0qfUd3rtK31KfafXvtKnRK/XIjv7HDZsmJ588skrjrnmQ0x7GhoaNHDg\n",
              "QJ0/f16xsbHhLsc2faVPqe/02lf6lPpOr32lT4ler0Xh7pPbSQAAwEiEGAAAYCRCDAAAMFKfDDFu\n",
              "t1vPPPOM3G53uEuxVV/pU+o7vfaVPqW+02tf6VOi12tRuPvskwt7AQCA+frkTAwAADAfIQYAABiJ\n",
              "EAMAAIx0TYWY6upqTZo0SSkpKcrJyVFVVVW74z7//HPdddddGjNmjMaMGaMtW7ZIktra2lRYWKjU\n",
              "1FRlZGRo8uTJqqmp6ckWOq0zvZaUlCgrKyu4xcXFaebMmcHXt2/frtGjR2vkyJGaOXOmGhoaerKF\n",
              "TrnaPj///HPdeeedGj16tNLT0/Xoo4/q4sWLPd1Gp3TH7+k38vPz5XA4dO7cuR6ovGu6o0+v16vp\n",
              "06dr1KhRSk1N1UsvvdSTLXRad/S6Zs0apaamKisrSxMmTNDevXt7soVO6Uyf33V9NeF6JF19r6Zc\n",
              "k7rj9/Qbtl6PrGvI5MmTrZKSEsuyLGvTpk3WrbfeetmYpqYm66abbrI+/vhjy7Isy+/3W/X19ZZl\n",
              "Wdbvfvc7a/z48VZLS4tlWZb17LPPWj/60Y96pvgu6kyvfy0tLc165513LMuyrAsXLljx8fHWwYMH\n",
              "LcuyrKVLl1r/8i//Ylu939fV9nnkyBFr3759lmVd+r1+6KGHrGeeecaucq/K1fb6jc2bN1sFBQWW\n",
              "JOvs2bM2VHp1rrbPtrY2a9y4cdZvf/vb4OtfffWVLbVeravttaKiwvJ4PNaFCxcsy7KsN954w8rJ\n",
              "ybGt3u+rM31e6fpqyvXIsq6+V1OuSVfb5zfsvh5dMyHm9OnTVkxMjNXa2mpZ1qUL3Q033GBVV1eH\n",
              "jHv99detf/iHf2j3GO+++66VmZlpNTQ0WG1tbdZPfvIT66mnnrK99q7qbK/ftnv3bmvw4MHBP2y/\n",
              "/e1vrXvuuSf4elVVlTVkyBB7C++i7ujzr/3Hf/yHNW/ePDvKvSrd1etXX31l3XLLLVZDQ0OvDDHd\n",
              "0ecf/vAHa+LEiT1S79Xojl4rKyutxMTEYEh76aWXrBkzZthffBd0ts8rXV9NuB5ZVvf0+td64zWp\n",
              "u/rsieuRq/vndsKjrq5OiYmJcrkuteRwOOTxeOT1ejVixIjguC+++EJut1s//OEPdfz4cWVkZOiF\n",
              "F17Q4MGDNX36dJWVlSkhIUExMTEaMmSIPvzww3C11KHO9vpt69ev19y5cxUZGSnp0nT8sGHDgq8n\n",
              "Jyfr1KlT8vv9weOGW3f0+W1NTU1at26dVq9ebWvd30d39bpw4UI9//zziomJ6ZG6u6o7+vziiy80\n",
              "ePBgzZkzR4cPH1ZycrJeeOEFDR8+vMf66Izu6DUzM1NPPfWUbrrpJl1//fVyu9366KOPeqyHzuhs\n",
              "n1e6vppwPZK6p9dv663XpO7qsyeuR9fUmpjO8Pv9+uCDD1RcXKyKigoNGTJEjz32mCSpvLxcBw4c\n",
              "0IkTJ3Ty5ElNnTpVS5YsCXPFV6+pqUkbN27UggULwl2Kra7UZ0tLi2bPnq1p06ZpxowZYaiue7XX\n",
              "67p16+TxeDRlypQwVta92uvT7/dr586devrpp1VRUaF77rlHDz30UBir7B7t9Xr06FFt2bJFNTU1\n",
              "On78uJ566inNnj07jFV+f9fq9bU9nen1WrgmXanPnroeXTMhZujQocHkLkmWZcnr9crj8YSM83g8\n",
              "mjx5soYMGSKHw6G8vDzt3r1bkrRhwwZNmTJFgwYNUkREhObNm6eysrIe7+W7dLbXb2zatElpaWlK\n",
              "TU0N7vN4PDp27Fjw59ra2pDk3Rt0R5+S1NraqtmzZysxMVFr1661ve7vozt6LSsr09atW5WcnKzk\n",
              "5GRJUkZGhioqKmyvv7O6689udna20tLSJElz587VZ599ptbWVvsb6ILu6HXz5s0aO3asbrzxRknS\n",
              "/PnztWvXLrW0tNjfQCd1ts8rXV9NuB5J3dOr1PuvSd3RZ09dj66ZEBMfH69x48aptLRU0qW//ElJ\n",
              "SZdN2z700EP69NNPgyvfd+zYoczMTEnS8OHDtXPnzuAFYvv27UpPT+/BLjqns71+Y/369ZfNTtx7\n",
              "77367LPPdOjQIUnSK6+8ojlz5thbeBd1R59+v19z5szR9ddfr9dee00Oh8P2ur+P7uj1zTffVF1d\n",
              "nWpra1VbWytJ2r9/v7Kzs22tvSu6o8/77rtPx48f14kTJyRd+js8ZsyYdm8hhlN39Dp8+HDt2rVL\n",
              "jY2Nki5dk1JSUtSvXz97i++CzvZ5peurCdcjqXt6NeGa1B199tj1qNtX2YTRoUOHrAkTJlgjR460\n",
              "brnlFmv//v2WZVnWggULrK1btwbHbdiwwUpLS7PGjh1r3XvvvZbX67Usy7Kam5utgoICa/To0dbY\n",
              "sWOtu+++2/ryyy/D0st36Wyvhw4dsqKjo62GhobLjrF161Zr1KhR1s0332zdf//91rlz53qs/s66\n",
              "2j5LS0stSVZGRoaVmZlpZWZmWo8//niP9tBZ3fF7+m3qhQt7Lat7+vz9739vZWZmWhkZGdYdd9wR\n",
              "PEZvc7W9trW1WT/72c+sUaNGWRkZGdbEiROt8vLyHu2hMzrT53ddX024HlnW1fdqyjWpO35Pv82u\n",
              "6xHfnQQAAIx0zdxOAgAAfQshBgAAGIkQAwAAjESIAWCsX/ziF3rzzTevOKagoKBXPioBwNVjYS+A\n",
              "sOttT2YFYAZmYgDYxuFw6Oc//7mys7OVkpISMmvicDj0zDPPKCcnR8uXL9eFCxe0cOFCjR8/XhkZ\n",
              "GVq0aFHw+RMnTpzQgw8+qLFjxyojI0NPP/20pEvfjvuf//mfkqT//u//VkZGhrKyspSenq6tW7dK\n",
              "ku666y69++67kqT6+nrNnDlTY8eOVXp6uoqLi4P1JCcn6xe/+IUmTpyom266Sc8991wP/AoBuBr8\n",
              "0weArRwOhyoqKvSnP/1Jt956q26//fbgEzydTqc+/fRTSdKiRYt0xx136PXXX5dlWVq4cKHWrl2r\n",
              "n/zkJ8rLy9O0adP0zjvvSJLOnDlz2Xl+/vOfq7i4WBMnTlRbW1vwgZbf9uMf/1ijRo3Sli1bVF9f\n",
              "r1tuuUWZmZmaMGGCJOncuXP65JNP9PXXX+vmm2/W/PnzNWTIEJt+ZQBcLUIMAFsVFBRIuvR0zzvv\n",
              "vFMfffRRMMQ8+uijwXHvvvuuPvnkExUVFUmSLl68KKfTqcbGRv3xj3/U73//++DYwYMHX3aeqVOn\n",
              "6sknn9SDDz6oadOmKSsr67IxH3zwgf73f/9X0qWnks6cOVMffPBBMMQ8/PDDkqS4uDgNHz5cR48e\n",
              "JcQAvRghBkCP+vZj1qOjo4P/bVmWNm/erJSUlJDx3zxy/7sUFRWpqqpKZWVlmjdvnh555BH99Kc/\n",
              "7XQtkhQVFRX8b6fTGfzuGAC9E2tiANiqpKRE0qUv9fv44491xx13tDvugQce0Jo1a4LB4ezZs6qp\n",
              "qVF0dLTuvPNOvfDCC8Gx7d1OOnTokNLS0vTEE0/oscceC36x67f97d/+rV5//fXgMbZs2aK77777\n",
              "qnsEEB6EGAC2CgQCys7O1rRp0/Tiiy8GbyX9tV/96lfq37+/srKylJGRoalTpwa/OO6NN95QeXm5\n",
              "0tLSlJWVpZdffvmy969YsUJpaWnKzs7WG2+8oX/7t3+7bMyLL76ogwcPauzYsZo8ebL+9V//Vbfd\n",
              "dls3dgugJ/ERawC2cTgcOnv2rAYNGhTuUgBcg5iJAQAARmJhLwDbMNELwE7MxAAAACMRYgAAgJEI\n",
              "MQAAwEiEGAAAYCRCDAAAMBIhBgAAGIkQAwAAjESIAQAARvp/91OSEWSZmkMAAAAASUVORK5CYII=\n",
              "\">\n",
              "      </div>\n",
              "      <script type=\"text/javascript\">\n",
              "        (() => {\n",
              "          const chartElement = document.getElementById(\"chart-b06e2ce4-39f6-4c83-ae3f-375d14625808\");\n",
              "          async function getCodeForChartHandler(event) {\n",
              "            const chartCodeResponse =  await google.colab.kernel.invokeFunction(\n",
              "                'getCodeForChart', [\"chart-b06e2ce4-39f6-4c83-ae3f-375d14625808\"], {});\n",
              "            const responseJson = chartCodeResponse.data['application/json'];\n",
              "            await google.colab.notebook.addCell(responseJson.code, 'code');\n",
              "          }\n",
              "          chartElement.onclick = getCodeForChartHandler;\n",
              "        })();\n",
              "      </script>\n",
              "      <style>\n",
              "        .colab-quickchart-chart-with-code  {\n",
              "            display: block;\n",
              "            float: left;\n",
              "            border: 1px solid transparent;\n",
              "        }\n",
              "\n",
              "        .colab-quickchart-chart-with-code:hover {\n",
              "            cursor: pointer;\n",
              "            border: 1px solid #aaa;\n",
              "        }\n",
              "      </style>"
            ]
          },
          "metadata": {}
        },
        {
          "output_type": "display_data",
          "data": {
            "text/plain": [
              "from matplotlib import pyplot as plt\n",
              "all_model_results.plot(kind='scatter', x='recall', y='f1', s=32, alpha=.8)\n",
              "plt.gca().spines[['top', 'right',]].set_visible(False)"
            ],
            "text/html": [
              "      <div class=\"colab-quickchart-chart-with-code\" id=\"chart-265e38e3-da26-4ddc-a1cb-0b2756ad2edb\">\n",
              "        <img style=\"width: 180px;\" src=\"data:image/png;base64,iVBORw0KGgoAAAANSUhEUgAAAjEAAAGkCAYAAADALHSZAAAAOXRFWHRTb2Z0d2FyZQBNYXRwbG90\n",
              "bGliIHZlcnNpb24zLjguMCwgaHR0cHM6Ly9tYXRwbG90bGliLm9yZy81sbWrAAAACXBIWXMAAA9h\n",
              "AAAPYQGoP6dpAAAtCUlEQVR4nO3df2xUdb7/8dcwU6aEUpBAbaUdKlsqtLW/1lboquFHRMwuRYpL\n",
              "2aUsRWphxc2uzd1wMTFGvQH1RnaJXENdSHPZqrhsucIl6l5XyP7gK2BjC1L50d5rmYKV4l2hPy6d\n",
              "dqbn+wex2dkWLDCn0095PpJPIud8zjnvt+Dh5eeczjgsy7IEAABgmBHhLgAAAOBGEGIAAICRCDEA\n",
              "AMBIhBgAAGAkQgwAADASIQYAABiJEAMAAIxEiAEAAEYa9iFm8+bN4S4BAADYYNiHmDNnzoS7BAAA\n",
              "YINhH2IAAMDwRIgBAABGIsQAAAAjEWIAAICRCDEAAMBIhBgAAGAkQgwAADASIQYAABiJEAMAAIxE\n",
              "iAEAAEYixAAAgOvW2R3QV+0+dXYHwlaDrSGmvr5eeXl5Sk5OVk5Ojurq6vrM6enpUVlZmVJSUpSe\n",
              "nq7Zs2eroaGhz7zi4mI5HA5dvHjRzpIBAMA1XGjz6VcfnNLCLQdV8Nr/08ItB/XrD07rq3bfoNdi\n",
              "a4hZvXq1SktLdfr0aa1bt07FxcV95uzdu1cHDx7U0aNHdezYMc2dO1dPP/100Jzdu3crIiLCzlIB\n",
              "AMC3uNDm08/eqtEbh73q8PnlGuFQh8+vysNn9OSbNYMeZGwLMS0tLaqurlZRUZEkafHixWpqauqz\n",
              "yuJwOOTz+dTZ2SnLstTa2qr4+Pje/efPn9eGDRu0adOmb72mz+dTa2tr0AgEwrfMBQDAcFJ5qFEN\n",
              "LW2aGOXWbaNHarTbpdtGj9TEKLcaWtpU+dGZQa3HthDT1NSkuLg4uVwuSVfCisfjkdfrDZq3YMEC\n",
              "zZo1S7GxsYqLi9OHH36o559/vnf/448/rpdfflljxoz51mtu3LhRY8eODRpHjhwJbWMAANyCOrsD\n",
              "ev/4eUW6nHI5g+ODyzlCbpdT79V9OajvyIT9xd7q6modP35c586d0xdffKG5c+dqzZo1kqRt27bJ\n",
              "4/Fozpw5AzrX+vXrdenSpaCRm5trZ/kAANwS2n1+Xe4OaKSr/+jgdo3Q5a6A2n3+QavJthCTkJCg\n",
              "5uZm+f1XmrEsS16vVx6PJ2jejh07NGfOHI0bN04jRozQihUrdODAAUnSgQMHtGfPHiUmJioxMVGS\n",
              "lJ6erpqamn6v6Xa7FR0dHTScTqddLQIAcMuIcrs0KsKpLn9Pv/t9/h6NGulUlNs1aDXZFmJiYmKU\n",
              "nZ2tyspKSVJVVZXi4+OVlJQUNG/KlCnav3+/urq6JEn79u1TWlqaJOmNN95QU1OTGhsb1djYKEk6\n",
              "duyYsrKy7CobAAD0IzLCqflpt6vTH5A/EBxk/IEe+fwBPZwaq8iIwVs8sDUulZeXq7i4WBs2bFB0\n",
              "dLQqKiokSSUlJcrPz1d+fr7Wrl2rEydOKCMjQxEREYqNjdXWrVvtLAsAANyA5TMTdfjzr9XQ0ia3\n",
              "yym3a4R8/isBZmrMGBXNnDyo9Tgsy7IG9YqDrKysbEA/2QQAAL7dV+0+VX50Ru/VfanLXQGNGunU\n",
              "w6mxKpo5WROi3INay+A9uAIAAMabEOXWLx5M1ppZ31G7z68ot2tQHyH9PUIMAAC4bpERzrCFl2+E\n",
              "/UesAQAAbgQhBgAAGIkQAwAAjESIAQAARiLEAAAAIxFiAACAkQgxAADASIQYAABgJEIMAAAwEiEG\n",
              "AAAYiRADAACMRIgBAABGIsQAAAAjEWIAAICRCDEAAMBIhBgAAGAkQgwAADASIQYAABiJEAMAAIxE\n",
              "iAEAAEYixAAAACMRYgAAgJEIMQAAwEiEGAAAYCRCDAAAMBIhBgAAGIkQAwAAjESIAQAARiLEAAAA\n",
              "IxFiAACAkQgxAADASLaGmPr6euXl5Sk5OVk5OTmqq6vrM6enp0dlZWVKSUlRenq6Zs+erYaGBknS\n",
              "p59+qgceeEDTpk1TWlqaHnvsMV2+fNnOkgEAgCFsDTGrV69WaWmpTp8+rXXr1qm4uLjPnL179+rg\n",
              "wYM6evSojh07prlz5+rpp5+WJEVGRmrLli06efKkjh49qo6ODr300kt2lgwAAAxhW4hpaWlRdXW1\n",
              "ioqKJEmLFy9WU1NT7yrLNxwOh3w+nzo7O2VZllpbWxUfHy9Jmjp1qtLT0yVJTqdTOTk5amxsvOo1\n",
              "fT6fWltbg0YgELCnQQAAEFa2hZimpibFxcXJ5XJJuhJWPB6PvF5v0LwFCxZo1qxZio2NVVxcnD78\n",
              "8EM9//zzfc7X0dGhbdu2aeHChVe95saNGzV27NigceTIkdA2BgAAhoSwv9hbXV2t48eP69y5c/ri\n",
              "iy80d+5crVmzJmhOV1eXCgsLNW/ePC1atOiq51q/fr0uXboUNHJzc+1uAQAAhIHLrhMnJCSoublZ\n",
              "fr9fLpdLlmXJ6/XK4/EEzduxY4fmzJmjcePGSZJWrFihefPm9e7v7u5WYWGh4uLitHnz5mte0+12\n",
              "y+12B21zOp2haQgAAAwptq3ExMTEKDs7W5WVlZKkqqoqxcfHKykpKWjelClTtH//fnV1dUmS9u3b\n",
              "p7S0NEmS3+/X0qVLNX78eL3++utyOBx2lQsAAAxj20qMJJWXl6u4uFgbNmxQdHS0KioqJEklJSXK\n",
              "z89Xfn6+1q5dqxMnTigjI0MRERGKjY3V1q1bJUlvv/22du/erfT0dGVlZUmSvve97+nf/u3f7Cwb\n",
              "AAAYwGFZlhXuIuxUVlamTZs2hbsMAAAQYmF/sRcAAOBGEGIAAICRCDEAAMBIhBgAAGAkQgwAADAS\n",
              "IQYAABiJEAMAAIxEiAEAAEYixAAAACMRYgAAgJEIMQAAwEiEGAAAYCRCDAAAMBIhBgAAGIkQAwAA\n",
              "jESIAQAARiLEAAAAIxFiAACAkQgxAADASIQYAABgJEIMAAAwEiEGAAAYiRADAACMRIgBAABGIsQA\n",
              "AAAjEWIAAICRCDEAAMBIhBgAAGAkQgwAADASIQYAABiJEAMAAIxEiAEAAEYixAAAACMRYgAAgJFs\n",
              "DTH19fXKy8tTcnKycnJyVFdX12dOT0+PysrKlJKSovT0dM2ePVsNDQ29+/ft26dp06Zp6tSpKigo\n",
              "UGtrq50lAwAAQ9gaYlavXq3S0lKdPn1a69atU3FxcZ85e/fu1cGDB3X06FEdO3ZMc+fO1dNPPy1J\n",
              "am9v16pVq/TOO++ovr5ed9xxh1544QU7SwYAAIawLcS0tLSourpaRUVFkqTFixerqakpaJVFkhwO\n",
              "h3w+nzo7O2VZllpbWxUfHy9Jeu+995SVlaVp06ZJkp544gm99dZbV72mz+dTa2tr0AgEAjZ1CAAA\n",
              "wsll14mbmpoUFxcnl+vKJRwOhzwej7xer5KSknrnLViwQAcOHFBsbKzGjBmjSZMm6U9/+pMkyev1\n",
              "avLkyb1zExMT1dzcLL/f33vev7dx40Y999xzQdtmzJhhR3sAACDMwv5ib3V1tY4fP65z587piy++\n",
              "0Ny5c7VmzZobOtf69et16dKloJGbmxviigEAwFBg20pMQkJC0KqJZVnyer3yeDxB83bs2KE5c+Zo\n",
              "3LhxkqQVK1Zo3rx5kiSPx6MPPvigd25jY2PQ6s4/crvdcrvdQducTmcIuwIAAEOFbSsxMTExys7O\n",
              "VmVlpSSpqqpK8fHxQY+SJGnKlCnav3+/urq6JF35aaS0tDRJ0vz58/XJJ5/o5MmTkqTXXntNS5cu\n",
              "tatkAABgENtWYiSpvLxcxcXF2rBhg6Kjo1VRUSFJKikpUX5+vvLz87V27VqdOHFCGRkZioiIUGxs\n",
              "rLZu3SpJGjNmjLZt26ZHHnlEfr9faWlp+vd//3c7SwYAAIZwWJZlhbsIO5WVlWnTpk3hLgMAAIRY\n",
              "2F/sBQAAuBGEGAAAYCRCDAAAMBIhBgAAGIkQAwAAjESIAQAARiLEAAAAIxFiAACAkQgxAADASIQY\n",
              "AABgJEIMAAAwEiEGAAAYiRADAACMRIgBAABGIsQAAAAjEWIAAICRCDEAAMBIhBgAAGAkQgwAADAS\n",
              "IQYAABiJEAMAAIxEiAGAYaqzO6Cv2n3q7A6EuxTAFq5wFwAACK0LbT5VHmrU+8fP63J3QKMinHo4\n",
              "LVZFMydrQpQ73OUBIcNKDAAMIxfafPrZWzV647BXHT6/XCMc6vD5VXn4jJ58s0ZftfvCXSIQMoQY\n",
              "ABhGKg81qqGlTROj3Lpt9EiNdrt02+iRmhjlVkNLmyo/OhPuEoGQIcQAwDDR2R3Q+8fPK9LllMsZ\n",
              "fHt3OUfI7XLqvboveUcGwwYhBgCGiXafX5e7Axrp6v/W7naN0OWugNp9/kGuDLAHIQYAhokot0uj\n",
              "Ipzq8vf0u9/n79GokU5FufmZDgwPhBgAGCYiI5yan3a7Ov0B+QPBQcYf6JHPH9DDqbGKjHCGqUIg\n",
              "tIjjADCMLJ+ZqMOff62Glja5XU65XSPk818JMFNjxqho5uRwlwiEDCsxADCMTIhya8uPs1R072RF\n",
              "Rbrk77EUFelS0b2T9eqPs/icGAwrrMQAwDAzIcqtXzyYrDWzvqN2n19RbhePkDAsEWIAYJiKjHAS\n",
              "XjCs2fo4qb6+Xnl5eUpOTlZOTo7q6ur6zKmoqFBmZmbvmDBhggoKCnr3v/TSS0pJSVFmZqZmzJih\n",
              "I0eO2FkyAAAwhK0hZvXq1SotLdXp06e1bt06FRcX95mzcuVK1dbW9o7Y2FgtW7ZMklRbW6vXXntN\n",
              "R44cUW1trZ588kk9+eSTdpYMAAAMYVuIaWlpUXV1tYqKiiRJixcvVlNTkxoaGq56zOHDh9XS0qL8\n",
              "/HxJksPhUHd3tzo6OiRJFy9eVHx8/FWP9/l8am1tDRqBAJ9MCQDAcGTbOzFNTU2Ki4uTy3XlEg6H\n",
              "Qx6PR16vV0lJSf0es337di1fvlwRERGSpIyMDD311FO68847NX78eLndbv35z3++6jU3btyo5557\n",
              "LmjbjBkzQtQRAAAYSobMj1h3dHRo586dWrVqVe+2zz//XLt371ZDQ4POnj2rp556SoWFhVc9x/r1\n",
              "63Xp0qWgkZubOxjlAwCAQWZbiElISFBzc7P8/ivf0WFZlrxerzweT7/zd+3apdTUVKWkpPRuq6qq\n",
              "0t1336077rhD0pX3Zw4ePKiurq5+z+F2uxUdHR00nE7ezAcAYDiyLcTExMQoOztblZWVkq4Ekvj4\n",
              "+Gs+Svr7VRhJmjJlig4ePKj29nZJ0r59+5ScnKyRI0faVTYAADCErZ8TU15eruLiYm3YsEHR0dGq\n",
              "qKiQJJWUlCg/P7/3Bd5Tp06ptrZW7777btDxixYt0scff6x77rlHbrdbo0eP1ptvvmlnyQAAwBAO\n",
              "y7KscBdhp7KyMm3atCncZQAAgBAbMi/2AgAAXA9CDAAAMBIhBgAAGIkQAwAAjESIAQAARiLEAAAA\n",
              "IxFiAACAkQgxAADASIQYAABgJEIMAAAwEiEGAAAYiRADAACMRIgBAABGIsQAAAAjEWIAAICRCDEA\n",
              "AMBIhBgAAGAkQgwAADASIQYAABiJEAMAAIxEiAEAAEYixAAAACMRYgAAgJEIMQAAwEiEGAAAYCRC\n",
              "DAAAMBIhBgAAGIkQAwAAjESIAQAARiLEAAAAIxFiAACAkQgxAADASIQYAABgJFtDTH19vfLy8pSc\n",
              "nKycnBzV1dX1mVNRUaHMzMzeMWHCBBUUFPTu93q9WrBgge666y6lpKTo1VdftbNkAABgiJsOMcnJ\n",
              "yVfdt3r1apWWlur06dNat26diouL+8xZuXKlamtre0dsbKyWLVsmSbIsS4sWLdJPfvITnTp1Sp99\n",
              "9pmWLFlysyUDAIBhwDWQSceOHbvqvra2tn63t7S0qLq6Wv/1X/8lSVq8eLGefPJJNTQ0KCkpqd9j\n",
              "Dh8+rJaWFuXn50uSPvzwQ7ndbv3whz/snXP77bcPpGQAADDMDSjEZGZmKjExUZZl9dn3v//7v/0e\n",
              "09TUpLi4OLlcVy7hcDjk8Xjk9XqvGmK2b9+u5cuXKyIiQpL02WefaeLEiVq6dKlOnTqlxMREvfLK\n",
              "K5oyZUq/x/t8Pvl8vqBtgUBgIC0CAADDDCjETJ48WX/96191xx139NmXkJAQkkI6Ojq0c+dOHTp0\n",
              "qHeb3+/X/v37dejQIaWmpmrr1q1asmSJqqur+z3Hxo0b9dxzzwVtmzFjRkjqAwAAQ8uA3om58847\n",
              "9T//8z/97vv+97/f7/aEhAQ1NzfL7/dLuvJ+i9frlcfj6Xf+rl27lJqaqpSUlN5tHo9HWVlZSk1N\n",
              "lSQtX75cn3zyibq7u/s9x/r163Xp0qWgkZubO5AWAQCAYQYUYi5evKj77rtP9913X599W7du7feY\n",
              "mJgYZWdnq7KyUpJUVVWl+Pj4az5KWrVqVdC2hx9+WGfPntW5c+ckSe+++66mT5/e+7jpH7ndbkVH\n",
              "RwcNp9M5kBYBAIBhBvQ4qbOzU2+//baam5u1d+/ePvu/eRH3H5WXl6u4uFgbNmxQdHS0KioqJEkl\n",
              "JSXKz8/vPe7UqVOqra3Vu+++G3T86NGjtXXrVn3/+9+XZVkaO3asdu7ceV0NAgCA4clh9fe27j/Y\n",
              "u3evtm7dqr/85S+65557gk/gcGj//v22FXizysrKtGnTpnCXAQAAQmxAKzHfrJr8/Oc/1+bNm+2u\n",
              "CQAA4Ftd14fdEWAAAMBQwXcnAQAAIxFiAACAkQgxAADASIQYAABgJEIMAAAwEiEGAAAYiRADAACM\n",
              "RIgBAABGIsQAAAAjEWIAAICRCDEAAMBIhBgAIdPZHdBX7T51dgfCXQqAW8CAvsUaAK7lQptPlYca\n",
              "9f7x87rcHdCoCKceTotV0czJmhDlDnd5AIYpVmIA3JQLbT797K0avXHYqw6fX64RDnX4/Ko8fEZP\n",
              "vlmjr9p94S4RwDBFiAFwUyoPNaqhpU0To9y6bfRIjXa7dNvokZoY5VZDS5sqPzoT7hIBDFOEGAA3\n",
              "rLM7oPePn1ekyymXM/h24nKOkNvl1Ht1X/KODABbEGIA3LB2n1+XuwMa6er/VuJ2jdDlroDaff5B\n",
              "rgzArYAQA+CGRbldGhXhVJe/p9/9Pn+PRo10KsrNzxAACD1CDIAbFhnh1Py029XpD8gfCA4y/kCP\n",
              "fP6AHk6NVWSEM0wVAhjO+N8jADdl+cxEHf78azW0tMntcsrtGiGf/0qAmRozRkUzJ4e7RADDFCsx\n",
              "AG7KhCi3tvw4S0X3TlZUpEv+HktRkS4V3TtZr/44i8+JAWAbVmIA3LQJUW794sFkrZn1HbX7/Ipy\n",
              "u3iEBMB2hBgAIRMZ4SS8ABg0PE4CAABGIsQAAAAjEWIAAICRCDEAAMBIhBgAAGAkQgwAADASIQYA\n",
              "ABiJEAMAAIxEiAEAAEayNcTU19crLy9PycnJysnJUV1dXZ85FRUVyszM7B0TJkxQQUFBn3nFxcVy\n",
              "OBy6ePGinSUDAABD2BpiVq9erdLSUp0+fVrr1q1TcXFxnzkrV65UbW1t74iNjdWyZcuC5uzevVsR\n",
              "ERF2lgoAAAxjW4hpaWlRdXW1ioqKJEmLFy9WU1OTGhoarnrM4cOH1dLSovz8/N5t58+f14YNG7Rp\n",
              "06ZvvabP51Nra2vQCAQCN98MAAAYcmwLMU1NTYqLi5PLdeU7Jh0Ohzwej7xe71WP2b59u5YvXx60\n",
              "6vL444/r5Zdf1pgxY771mhs3btTYsWODxpEjR26+GQAAMOQMmRd7Ozo6tHPnTq1atap327Zt2+Tx\n",
              "eDRnzpwBnWP9+vW6dOlS0MjNzbWrZAAAEEa2hZiEhAQ1NzfL7/dLkizLktfrlcfj6Xf+rl27lJqa\n",
              "qpSUlN5tBw4c0J49e5SYmKjExERJUnp6umpqavo9h9vtVnR0dNBwOp2hbQwAAAwJLrtOHBMTo+zs\n",
              "bFVWVqq4uFhVVVWKj49XUlJSv/O3b98etAojSW+88UbQrx0Oh44dO6Zx48bZVTYAADCErY+TysvL\n",
              "VV5eruTkZL344ouqqKiQJJWUlGjv3r29806dOqXa2loVFhbaWQ4AABhGHJZlWeEuwk5lZWUD+skm\n",
              "AABgliHzYi8AAMD1IMQAAAAjEWIAAICRCDEAAMBIhBgAAGAkQgwAADASIQYAABiJEAMAAIxEiAEA\n",
              "AEYixAAAACMRYgAAgJEIMQAAwEiEGAAAYCRCDAAAMBIhBgAAGIkQAwAAjESIAQAARiLEAAAAIxFi\n",
              "AACAkQgxAADASIQYAABgJEIMAAAwEiEGAAAYiRADAACMRIgBAABGIsQAAAAjEWIAAICRCDEAAMBI\n",
              "hBgAAGAkQgwAADASIQYAABiJEAMAAIxEiAEAAEayNcTU19crLy9PycnJysnJUV1dXZ85FRUVyszM\n",
              "7B0TJkxQQUGBJOnTTz/VAw88oGnTpiktLU2PPfaYLl++bGfJAADAELaGmNWrV6u0tFSnT5/WunXr\n",
              "VFxc3GfOypUrVVtb2ztiY2O1bNkySVJkZKS2bNmikydP6ujRo+ro6NBLL71kZ8kAAMAQtoWYlpYW\n",
              "VVdXq6ioSJK0ePFiNTU1qaGh4arHHD58WC0tLcrPz5ckTZ06Venp6ZIkp9OpnJwcNTY22lUyAAAw\n",
              "iG0hpqmpSXFxcXK5XJIkh8Mhj8cjr9d71WO2b9+u5cuXKyIios++jo4Obdu2TQsXLrzq8T6fT62t\n",
              "rUEjEAjcfDMAAGDIGTIv9nZ0dGjnzp1atWpVn31dXV0qLCzUvHnztGjRoqueY+PGjRo7dmzQOHLk\n",
              "iJ1lAwCAMLEtxCQkJKi5uVl+v1+SZFmWvF6vPB5Pv/N37dql1NRUpaSkBG3v7u5WYWGh4uLitHnz\n",
              "5mtec/369bp06VLQyM3NDU1DAABgSLEtxMTExCg7O1uVlZWSpKqqKsXHxyspKanf+du3b++zCuP3\n",
              "+7V06VKNHz9er7/+uhwOxzWv6Xa7FR0dHTScTmdoGgIAAEOKrY+TysvLVV5eruTkZL344ouqqKiQ\n",
              "JJWUlGjv3r29806dOqXa2loVFhYGHf/2229r9+7dqq6uVlZWljIzM7V27Vo7SwYAAIZwWJZlhbsI\n",
              "O5WVlWnTpk3hLgMAAITYkHmxFwAA4HoQYgAAgJEIMQAAwEiEGAAAYCRCDAAAMBIhBgAAGIkQAwAA\n",
              "jESIAQAARiLEAAAAIxFiAACAkQgxAADASIQYAABgJEIMAAAwEiEGAAAYiRADAACMRIgBAABGIsQA\n",
              "AAAjEWIAAICRCDEAAMBIhBgAAGAkQgwAADASIQYAABiJEAMAAIxEiAEAAEYixAAAACMRYgAAgJEI\n",
              "MQAAwEiEGAAAYCRCDAAAMBIhBgAAGIkQAwAAjESIAQAARiLEAAAAIxFiAACAkWwNMfX19crLy1Ny\n",
              "crJycnJUV1fXZ05FRYUyMzN7x4QJE1RQUNC7f9++fZo2bZqmTp2qgoICtba22lkybhGd3QF91e5T\n",
              "Z3cg3KUAAG6QrSFm9erVKi0t1enTp7Vu3ToVFxf3mbNy5UrV1tb2jtjYWC1btkyS1N7erlWrVumd\n",
              "d95RfX297rjjDr3wwgt2loxh7kKbT7/64JQWbjmogtf+nxZuOahff3BaX7X7wl0aAOA62RZiWlpa\n",
              "VF1draKiIknS4sWL1dTUpIaGhqsec/jwYbW0tCg/P1+S9N577ykrK0vTpk2TJD3xxBN66623rnq8\n",
              "z+dTa2tr0AgE+D9tXHGhzaefvVWjNw571eHzyzXCoQ6fX5WHz+jJN2sIMgBgGNtCTFNTk+Li4uRy\n",
              "uSRJDodDHo9HXq/3qsds375dy5cvV0REhCTJ6/Vq8uTJvfsTExPV3Nwsv9/f7/EbN27U2LFjg8aR\n",
              "I0dC2BVMVnmoUQ0tbZoY5dZto0dqtNul20aP1MQotxpa2lT50ZlwlwgAuA5D5sXejo4O7dy5U6tW\n",
              "rbrhc6xfv16XLl0KGrm5uSGsEqbq7A7o/ePnFelyyuUM/mPvco6Q2+XUe3Vf8o4MABjEZdeJExIS\n",
              "eldNXC6XLMuS1+uVx+Ppd/6uXbuUmpqqlJSU3m0ej0cffPBB768bGxuDVnf+kdvtltvtDtrmdDpD\n",
              "0A1M1+7z63J3QCNd/ed2t2uELncF1O7zKzKCPzMAYALbVmJiYmKUnZ2tyspKSVJVVZXi4+OVlJTU\n",
              "7/zt27f3WYWZP3++PvnkE508eVKS9Nprr2np0qV2lYxhLMrt0qgIp7r8Pf3u9/l7NGqkU1Fu23I9\n",
              "ACDEbH2cVF5ervLyciUnJ+vFF19URUWFJKmkpER79+7tnXfq1CnV1taqsLAw6PgxY8Zo27ZteuSR\n",
              "R5SUlKSzZ8/qmWeesbNkDFOREU7NT7tdnf6A/IHgIOMP9MjnD+jh1FhWYQDAIA7LsqxwF2GnsrIy\n",
              "bdq0KdxlYAj4qt2nJ9+sUUNLm9wup9yuEfL5rwSYqTFj9OqPszQhyv3tJwIADAlD5sVewG4Totza\n",
              "8uMsFd07WVGRLvl7LEVFulR072QCDAAYiBcAcEuZEOXWLx5M1ppZ31G7z68ot4tHSABgKEIMbkmR\n",
              "EU7CCwAYjsdJAADASIQYAABgJEIMAAAwEiEGAAAYiRADAACMRIgBAABGIsQAAAAjEWIAAICRCDEA\n",
              "AMBIhBgAAGAkQgwAADASIQYAABiJEAMAAIxEiAEAAEYixAAAACMRYgAAgJEIMQAAwEiEGAAAYCRC\n",
              "DAAAMBIhBgAAGIkQAwAAjESIAQAARiLEAAAAIxFiAACAkQgxAADASIQYAABgJELMDersDuirdp86\n",
              "uwPhLgUAgFuSK9wFmOZCm0+Vhxr1/vHzutwd0KgIpx5Oi1XRzMmaEOUOd3kAANwyWIm5DhfafPrZ\n",
              "WzV647BXHT6/XCMc6vD5VXn4jJ58s0ZftfvCXSIAALcMQsx1qDzUqIaWNk2Mcuu20SM12u3SbaNH\n",
              "amKUWw0tbar86Ey4SwQA4JZha4ipr69XXl6ekpOTlZOTo7q6un7nffrpp5o1a5amT5+u6dOna/fu\n",
              "3ZKknp4elZWVKSUlRenp6Zo9e7YaGhrsLPmqOrsDev/4eUW6nHI5g/+1uZwj5HY59V7dl7wjAwDA\n",
              "ILE1xKxevVqlpaU6ffq01q1bp+Li4j5z/u///k8LFy7Uv/zLv+jEiRM6fvy47r//fknS3r17dfDg\n",
              "QR09elTHjh3T3Llz9fTTT9tZ8lW1+/y63B3QSFf//8rcrhG63BVQu88/yJUBAHBrsi3EtLS0qLq6\n",
              "WkVFRZKkxYsXq6mpqc9KyptvvqkZM2bovvvukyQ5nU5NnDhRkuRwOOTz+dTZ2SnLstTa2qr4+Pir\n",
              "XtPn86m1tTVoBAKhWRmJcrs0KsKpLn9P/9f292jUSKei3LwrDQDAYLAtxDQ1NSkuLk4u15W/1B0O\n",
              "hzwej7xeb9C8zz77TG63Wz/4wQ+UmZmpn/zkJ7pw4YIkacGCBZo1a5ZiY2MVFxenDz/8UM8///xV\n",
              "r7lx40aNHTs2aBw5ciQk/URGODU/7XZ1+gPyB4KDjD/QI58/oIdTYxUZ4QzJ9QAAwLWF/cVev9+v\n",
              "P/7xjyovL1dNTY0mTZqkn/70p5Kk6upqHT9+XOfOndMXX3yhuXPnas2aNVc91/r163Xp0qWgkZub\n",
              "G7Jal89MVFLMGF1o9+lvHV3q8Pn1t44uXWj3aWrMGBXNnByyawEAgGuz7dlHQkKCmpub5ff75XK5\n",
              "ZFmWvF6vPB5P0DyPx6PZs2dr0qRJkqSioiI99NBDkqQdO3Zozpw5GjdunCRpxYoVmjdv3lWv6Xa7\n",
              "5XYHf1aL0xm6lZEJUW5t+XGWKj86o/fqvtTlroCiIl36YWo8nxMDAMAgs20lJiYmRtnZ2aqsrJQk\n",
              "VVVVKT4+XklJSUHzlixZoo8//litra2SpHfffVcZGRmSpClTpmj//v3q6uqSJO3bt09paWl2lTwg\n",
              "E6Lc+sWDydqz9nva/USe9qz9nn7xYDIBBgCAQWbrW6jl5eUqLi7Whg0bFB0drYqKCklSSUmJ8vPz\n",
              "lZ+fL4/Ho6efflp5eXkaMWKEJk2apNdff12StHbtWp04cUIZGRmKiIhQbGystm7damfJAxYZ4eT9\n",
              "FwAAwshhWZYV7iLsVFZWpk2bNoW7DAAAEGJhf7EXAADgRhBiAACAkQgxAADASIQYAABgJEIMAAAw\n",
              "EiEGAAAYiRADAACMRIgBAABGIsQAAAAjDftP7C0oKFBiYuINHRsIBHTkyBHl5uaG9IskhxJ6HB5u\n",
              "hR6lW6NPehweboUeJXv7nDx5sn7+859fc86wDzE3o7W1VWPHjtWlS5cUHR0d7nJsQY/Dw63Qo3Rr\n",
              "9EmPw8Ot0KMU/j55nAQAAIxEiAEAAEYixAAAACMRYq7B7Xbr2WefldvtDncptqHH4eFW6FG6Nfqk\n",
              "x+HhVuhRCn+fvNgLAACMxEoMAAAwEiEGAAAYiRADAACMdEuGmPr6euXl5Sk5OVk5OTmqq6vrd96n\n",
              "n36qWbNmafr06Zo+fbp2794tSerp6VFZWZlSUlKUnp6u2bNnq6GhYTBb+FYD6bGiokKZmZm9Y8KE\n",
              "CSooKOjdv2/fPk2bNk1Tp05VQUGBWltbB7OFb3WzPX766ad64IEHNG3aNKWlpemxxx7T5cuXB7uN\n",
              "bxWK38tvFBcXy+Fw6OLFi4NQ+cCFokev16sFCxborrvuUkpKil599dXBbOFbhaLHl156SSkpKcrM\n",
              "zNSMGTN05MiRwWxhQAbS57fdQ4fDvedaPZpw7wnF7+M3bL3vWLeg2bNnWxUVFZZlWdauXbuse+65\n",
              "p8+cjo4O684777T+8pe/WJZlWX6/32ppabEsy7L+4z/+w8rNzbW6urosy7KsF154wfrhD384OMUP\n",
              "0EB6/EepqanW73//e8uyLKutrc2KiYmxTpw4YVmWZa1du9b6p3/6J9vqvRE32+Pp06eto0ePWpZ1\n",
              "5fd3yZIl1rPPPmtXuTfsZvv8RlVVlVVSUmJJsr7++msbKr1xN9tjT0+PlZ2dbf3ud7/r3f/ll1/a\n",
              "UuuNutkea2pqLI/HY7W1tVmWZVm//e1vrZycHNvqvVED6fNa99Dhcu+5Vo8m3Htutsdv2H3fueVC\n",
              "zPnz560xY8ZY3d3dlmVdufndfvvtVn19fdC83/zmN9aPfvSjfs/xzjvvWBkZGVZra6vV09Nj/fKX\n",
              "v7Seeuop22sfqIH2+PcOHTpkTZw4sfcP4+9+9zvroYce6t1fV1dnTZo0yd7Cr0MoevxH//qv/2qt\n",
              "WLHCjnJvWKj6/PLLL63vfve7Vmtr65ALMaHo8YMPPrBmzpw5KPXeiFD0WFtba8XFxfWGs1dffdVa\n",
              "tGiR/cVfh4H2ea176HC591zP3xND7d4Tqh4H477jCv3aztDW1NSkuLg4uVxXWnc4HPJ4PPJ6vUpK\n",
              "Suqd99lnn8ntdusHP/iBzp49q/T0dL3yyiuaOHGiFixYoAMHDig2NlZjxozRpEmT9Kc//SlcLfUx\n",
              "0B7/3vbt27V8+XJFRERIurI0P3ny5N79iYmJam5ult/v7z1vOIWix7/X0dGhbdu2aePGjbbWfb1C\n",
              "1efjjz+ul19+WWPGjBmUuq9HKHr87LPPNHHiRC1dulSnTp1SYmKiXnnlFU2ZMmXQ+riWUPSYkZGh\n",
              "p556SnfeeafGjx8vt9utP//5z4PWw0AMtM9r3UOHy71noH9PDMV7T6h6HIz7zi35TsxA+P1+/fGP\n",
              "f1R5eblqamo0adIk/fSnP5UkVVdX6/jx4zp37py++OILzZ07V2vWrAlzxTeuo6NDO3fu1KpVq8Jd\n",
              "im2u1WNXV5cKCws1b948LVq0KAzVhU5/fW7btk0ej0dz5swJY2Wh01+Pfr9f+/fv1zPPPKOamho9\n",
              "9NBDWrJkSRirvDn99fj5559r9+7damho0NmzZ/XUU0+psLAwjFXeuOF2D+3PQHo0/d5zrR4H675z\n",
              "y4WYhISE3lQvSZZlyev1yuPxBM3zeDyaPXu2Jk2aJIfDoaKiIh06dEiStGPHDs2ZM0fjxo3TiBEj\n",
              "tGLFCh04cGDQe7magfb4jV27dik1NVUpKSm92zwej86cOdP768bGxqBkHm6h6FGSuru7VVhYqLi4\n",
              "OG3evNn2uq9XKPo8cOCA9uzZo8TERCUmJkqS0tPTVVNTY3v9AxGqP69ZWVlKTU2VJC1fvlyffPKJ\n",
              "uru77W9gAELRY1VVle6++27dcccdkqSVK1fq4MGD6urqsr+BARpon9e6hw6Xe8+3/T0xlO89oehx\n",
              "sO47t1yIiYmJUXZ2tiorKyVduTHEx8f3WdJdsmSJPv7449634t99911lZGRIkqZMmaL9+/f33jz2\n",
              "7duntLS0Qezi2gba4ze2b9/eZ4Vi/vz5+uSTT3Ty5ElJ0muvvaalS5faW/h1CEWPfr9fS5cu1fjx\n",
              "4/X666/L4XDYXvf1CkWfb7zxhpqamtTY2KjGxkZJ0rFjx5SVlWVr7QMVih4ffvhhnT17VufOnZN0\n",
              "5b/X6dOn9/voMBxC0eOUKVN08OBBtbe3S7py30lOTtbIkSPtLf46DLTPa91Dh8u951o9DvV7Tyh6\n",
              "HLT7TsjfsjHAyZMnrRkzZlhTp061vvvd71rHjh2zLMuyVq1aZe3Zs6d33o4dO6zU1FTr7rvvtubP\n",
              "n295vV7Lsiyrs7PTKikpsaZNm2bdfffd1oMPPmj993//d1h6uZqB9njy5EkrKirKam1t7XOOPXv2\n",
              "WHfddZf1ne98x1q4cKF18eLFQat/IG62x8rKSkuSlZ6ebmVkZFgZGRnWE088Mag9DEQofi//nobY\n",
              "i72WFZoe//CHP1gZGRlWenq6df/99/eeY6i42R57enqsf/7nf7buuusuKz093Zo5c6ZVXV09qD0M\n",
              "xED6/LZ76HC491yrRxPuPaH4ffx7dt13+O4kAABgpFvucRIAABgeCDEAAMBIhBgAAGAkQgyAYW/W\n",
              "rFl65513JF35Hpdf//rXYa0HQGgQYgAMKd98NgUAfBtCDICwczgcevbZZ5WTk6P169erra1Njz/+\n",
              "uHJzc5Wenq7S0tLez6I4d+6cHn30Ud19991KT0/XM888I0l68803de+99yorK0sZGRn6z//8z3C2\n",
              "BGAQDI2PQARwy3M6nfr4448lSaWlpbr//vv1m9/8RpZl6fHHH9fmzZv1y1/+UkVFRZo3b55+//vf\n",
              "S5IuXLggSXrooYf0ox/9SA6HQ42NjZoxY4bOnDkjt9sdtp4A2IsQA2BIeOyxx3r/+Z133tFHH32k\n",
              "TZs2SZIuX74sp9Op9vZ2/fWvf9Uf/vCH3rkTJ06UdOW7hZYtW6azZ8/K5XLpb3/7mz7//HNNmzZt\n",
              "cBsBMGgIMQCGhKioqN5/tixLVVVVSk5ODprzzUfu92fp0qV68cUX9eijj0qSxo8fr87OTnuKBTAk\n",
              "8E4MgCHnkUce0UsvvdT7ku/XX3+thoYGRUVF6YEHHtArr7zSO/ebx0lff/217rzzTklSZWWlvv76\n",
              "68EvHMCgIsQAGHJ+9atfadSoUcrMzFR6errmzp3b+yVyv/3tb1VdXa3U1FRlZmZqy5YtkqTNmzfr\n",
              "0UcfVVZWlmpqaq76DdEAhg++OwkAABiJlRgAAGAkQgwAADASIQYAABiJEAMAAIxEiAEAAEYixAAA\n",
              "ACMRYgAAgJEIMQAAwEiEGAAAYCRCDAAAMNL/BwyUpJy7v/1aAAAAAElFTkSuQmCC\n",
              "\">\n",
              "      </div>\n",
              "      <script type=\"text/javascript\">\n",
              "        (() => {\n",
              "          const chartElement = document.getElementById(\"chart-265e38e3-da26-4ddc-a1cb-0b2756ad2edb\");\n",
              "          async function getCodeForChartHandler(event) {\n",
              "            const chartCodeResponse =  await google.colab.kernel.invokeFunction(\n",
              "                'getCodeForChart', [\"chart-265e38e3-da26-4ddc-a1cb-0b2756ad2edb\"], {});\n",
              "            const responseJson = chartCodeResponse.data['application/json'];\n",
              "            await google.colab.notebook.addCell(responseJson.code, 'code');\n",
              "          }\n",
              "          chartElement.onclick = getCodeForChartHandler;\n",
              "        })();\n",
              "      </script>\n",
              "      <style>\n",
              "        .colab-quickchart-chart-with-code  {\n",
              "            display: block;\n",
              "            float: left;\n",
              "            border: 1px solid transparent;\n",
              "        }\n",
              "\n",
              "        .colab-quickchart-chart-with-code:hover {\n",
              "            cursor: pointer;\n",
              "            border: 1px solid #aaa;\n",
              "        }\n",
              "      </style>"
            ]
          },
          "metadata": {}
        },
        {
          "output_type": "display_data",
          "data": {
            "text/plain": [
              "<google.colab._quickchart_helpers.SectionTitle at 0x7c0675b1e8c0>"
            ],
            "text/html": [
              "<h4 class=\"colab-quickchart-section-title\">Values</h4>\n",
              "<style>\n",
              "  .colab-quickchart-section-title {\n",
              "      clear: both;\n",
              "  }\n",
              "</style>"
            ]
          },
          "metadata": {}
        },
        {
          "output_type": "display_data",
          "data": {
            "text/plain": [
              "from matplotlib import pyplot as plt\n",
              "all_model_results['accuracy'].plot(kind='line', figsize=(8, 4), title='accuracy')\n",
              "plt.gca().spines[['top', 'right']].set_visible(False)"
            ],
            "text/html": [
              "      <div class=\"colab-quickchart-chart-with-code\" id=\"chart-7f6a6928-4e0f-4731-bb25-8d5f113790a2\">\n",
              "        <img style=\"width: 180px;\" src=\"data:image/png;base64,iVBORw0KGgoAAAANSUhEUgAAAtEAAAFuCAYAAABHvUQ6AAAAOXRFWHRTb2Z0d2FyZQBNYXRwbG90\n",
              "bGliIHZlcnNpb24zLjguMCwgaHR0cHM6Ly9tYXRwbG90bGliLm9yZy81sbWrAAAACXBIWXMAAA9h\n",
              "AAAPYQGoP6dpAABi2klEQVR4nO3deVhUZRsG8HtgWEQWAUXcEBcQlWVERMQ1NZc0t1zKBVDT3DWz\n",
              "1LLSstQyU1NzX3IFdzM/LfcUDRRwxQ3FDVDZFwVmeb8/yEkU1EHgDHD/rmuuS4aZMzeHw/Hh8M7z\n",
              "yIQQAkRERERE9NoMpA5ARERERFTSsIgmIiIiItIRi2giIiIiIh2xiCYiIiIi0hGLaCIiIiIiHbGI\n",
              "JiIiIiLSEYtoIiIiIiIdsYgmIiIiItIRi2giIiIiIh2xiCYiIiIi0hGLaCIiIiIiHbGIJiIqRmq1\n",
              "GhqNRuoYRET0hlhEE1GZsHjxYri6usLS0hL29vYYNGgQ4uPjtZ9ft24dFAoFrKysULlyZYwfP177\n",
              "ucjISHTr1g329vawsrKCj48P7t69CwBwdHTEypUrc72WTCbDwYMHAQBHjx6FTCbDli1b4OzsDDMz\n",
              "Mzx8+BBbt25F48aNYW1tjYoVK6Jbt264detWru388ccf8PHxgbW1NWxtbdG7d28AwKBBgzB48OBc\n",
              "jz1z5gxMTEzw8OHDwttpRESULxbRRFQm2NvbY8eOHUhOTsY///yDa9euYezYsQCAlStXYtKkSZg7\n",
              "dy4SEhJw48YN9OrVCwDw4MEDtGzZEq6urrh27RoSExPxyy+/oFy5cjq9fmBgIE6dOoXU1FRUqlQJ\n",
              "FhYWWL16NeLj43HlyhUIIdC/f3/t4//66y/07t0bn3zyCR48eID79+9j5MiRAICRI0ciKCgIKSkp\n",
              "2scvW7YMPXv2hJ2d3ZvuKiIieg0yIYSQOgQRUXHbuXMnPvzwQyQkJMDV1RUBAQGYNGnSC4+bO3cu\n",
              "1q5di4sXL+a5HUdHR0ybNg0ffvih9j6ZTIa//voL7du3x9GjR/HWW2/hypUrqFevXr55wsPD4enp\n",
              "idTUVFhYWKBr165wdHTEokWL8ny8QqHAsGHDMHr0aKSmpqJq1arYu3cv2rRpo9uOICKiAuGVaCIq\n",
              "E3bs2AFfX1/Y2dnB0tISgwYNQmJiItRqNW7dupVvgfuyz+miVq1auT4+duwY2rVrhypVqsDS0hKt\n",
              "W7cGAO1yjFe97siRI7F8+XIAwMaNG1G9enUW0ERExYhFNBGVevfu3UOfPn0wduxY3LlzB6mpqVi/\n",
              "fj0AQAgBR0dHXLt2Lc/nOjo64vr16/lu28LCAhkZGdqPY2Ji8nycgcF/p9vs7Gx07doVnTp1wrVr\n",
              "15Camopjx45p8zx93fwyAcCAAQMQHR2N06dPY9myZfjoo4/yfSwRERU+FtFEVOqlp6dDo9GgYsWK\n",
              "MDU1xfXr1zFr1izt58ePH485c+bg8OHDUKvVSEtL0xa1fn5+uHfvHr788kukpaVBrVbjzJkz2jcl\n",
              "enl5YfPmzUhOTkZqaiqmTJnyyjzZ2dl48uQJrK2tYWFhgZiYGEybNi3XY8aPH49Vq1Zh+/btyM7O\n",
              "RmZmJg4dOqT9vLm5OQYNGoTRo0fj6tWr8Pf3L4xdRUREr4lFNBGVei4uLpg1axb8/PxgYWEBf39/\n",
              "DBw4UPv54cOHY9asWZgwYQKsra3h5OSEXbt2AQAqV66M48eP4+zZs6hVqxZsbW0xduxYZGZmAgBm\n",
              "zpwJS0tL1KhRA40bN0bPnj1fmcfc3BwrV67EzJkzYW5ujs6dO6NPnz65HtOhQwds3rwZs2fPRqVK\n",
              "lVC9enUsW7Ys12NGjBiBsLAw9OnTBzY2Nm+4l4iISBd8YyERUQmVnJwMe3t7HDp0CM2bN5c6DhFR\n",
              "mcIr0UREJZBarcacOXPg4eHBApqISAJyqQMQEZFuLly4AB8fH1SrVg1bt26VOg4RUZnE5RxERERE\n",
              "RDricg4iIiIiIh2xiCYiIiIi0hGLaCIiIiIiHelNEb1gwQKpIxARERERvRa9KaJv374tdQQiIiIi\n",
              "oteiN0U0EREREVFJwSKaiIiIiEhHLKKJiIiIiHTEIpqIiIiISEcsoomIiIiIdMQimoiIiIhIRyyi\n",
              "iYiIiIh0xCKaiIiIiEhHLKKJiIiIiHSkcxG9b98+eHp6QqFQwNXVFevWrcv1+cOHD8PQ0BDz588v\n",
              "rIxERERERHpFrsuDhRAYOHAgjh49Cnd3d0RHR8PFxQW9evWChYUFUlJSMGXKFLzzzjtFlZeIiIiI\n",
              "AKg1AoYGMqljlFk6X4mWyWRITk4GAKSmpsLW1hYmJiYAgDFjxmDatGmwtbV96TaysrKQmpqa66ZW\n",
              "q3VPT0RERFQGZWSp0GdpMLaE3JE6SpmlUxEtk8kQGBiIXr16oWbNmmjRogXWrVsHY2NjbNu2DQYG\n",
              "BujWrdsrtzNr1ixYWVnluoWEhBT4iyAiIiIqK5RqDUZvCkPYnWTM2X8FyY+zpY5UJulURKtUKsyc\n",
              "ORM7duzA7du3cejQIQwaNAj37t3DzJkzsWDBgtfaztSpU5GSkpLr5u3tXaAvgIiIiKisEEJgyvYL\n",
              "OHr1EUyNDLAqoAkqmBlLHatM0mlNdEREBGJiYtCqVSsAQJMmTVC9enWcPXsWsbGxUCgUAID4+Hjs\n",
              "2bMHjx49wnfffffCdkxMTLRLQJ4yNDQs4JdAREREVDb8cOAqtofdg6GBDEsGeMLTwVrqSGWWTkV0\n",
              "jRo1EBsbi8jISNSvXx83btxAVFQUGjVqhAcPHmgfFxAQAIVCgQkTJhR2XiIiIqIyac3JW/j1aBQA\n",
              "YFYvN7R1qSxxorJNpyK6cuXKWL58Ofr27QsDAwNoNBosWrQIDg4ORZWPiIiIqMzbez4G3+y9DAD4\n",
              "tGM99PWqIXEikgkhhNQhAGDixImYN2+e1DGIiIiI9EpwVDwCVociW62BX7OamNGtIWQytraTGicW\n",
              "EhEREempSzEpGP7bWWSrNXjHzR5fv8sCWl+wiCYiIiLSQ3cTHyNgTSjSs1RoWssG8/oqOFxFj7CI\n",
              "JiIiItIziRnZ8F8dgkdpWXCxt8ByPy+YGrGTmT5hEU1ERESkRx5nqzBkbShuxmegWoVyWDvYG1bl\n",
              "jKSORc9hEU1ERESkJ5RqDUZvDEPE3WRUMDPCuiFNYG9lKnUsygOLaCIiIiI9IITA1B0XcOTpNEL/\n",
              "JqhrZyF1LMoHi2giIiIiPTD3z6vYdjZnGuHi/p5oXJPTCPUZi2giIiIiia0LjsbiIznTCL/v6Yp2\n",
              "9TmNUN+xiCYiIiKS0B/nYzH990sAgE/edka/JpwEXRKwiCYiIiKSyKmoBHwcGAEhgEE+NTGmbV2p\n",
              "I9FrYhFNREREJIHI2FQM/+0MstUadGpoj+kc512isIgmIiIiKmb3kh7Df3UI0rJU8K5lg/nvcxph\n",
              "ScMimoiIiKgYJWVkw291CB6mZaFeZQus4DTCEolFNBEREVExeZytwpB1obj5KANVrUyxdkgTTiMs\n",
              "oVhEExERERUDlVqDMZvCEX4nGVbljPDbUG9UsSondSwqIBbRREREREVMCIHPd17A4SsPYSI3wOoA\n",
              "L04jLOFYRBMREREVsXl/XUPQmXswkAGL+nuicU0bqSPRG2IRTURERFSE1p+Kxi+HbwAAvuvphrcb\n",
              "cBphacAimoiIiKiI7LsQi6/25Ewj/Li9Mz7w5jTC0oJFNBEREVEROH0zARO25EwjHNDUAePacRph\n",
              "acIimoiIiKiQXYlLxbB/pxF2aFAZ33R35TTCUoZFNBEREVEhup/8JGcaYaYKTRytsfCDRpxGWAqx\n",
              "iCYiIiIqJEkZ2fBb9Q8epGbBubI5Vvo14TTCUopFNBEREVEheJKtxtB1oYh6lIEqVqZYO9gbVmac\n",
              "RlhasYgmIiIiekMqtQZjN4ch7Ok0wiHeqFqB0whLMxbRRERERG9ACIFpuy7iYGTONMJV/l5wqsxp\n",
              "hKUdi2giIiKiN/DzwevYEnoXBjJg4QeN4OXIaYRlgc5F9L59++Dp6QmFQgFXV1esW7cOADB48GA4\n",
              "OzvDw8MDzZs3R2hoaKGHJSIiItInG07fxsJD1wEAM3u4oWNDe4kTUXGR6/JgIQQGDhyIo0ePwt3d\n",
              "HdHR0XBxcUGvXr3Qs2dPrFixAnK5HHv37kWfPn0QHR1dRLGJiIiIpLX/Yiy+3H0RADChvRP6N+U0\n",
              "wrJEpyIaAGQyGZKTkwEAqampsLW1hYmJCbp166Z9jI+PD+7fvw+VSgW5/MWXyMrKQlZWVq771Gq1\n",
              "rlGIiIiIJBFyKxHj/p1G+IG3A8a3c5I6EhUznYpomUyGwMBA9OrVC+XLl0dSUhJ27NgBY2PjXI9b\n",
              "sGAB3nnnnTwLaACYNWsWZsyYkes+Hx8fHaMTERERFb+rcWn4cF0oslUavN2gMr7t3pDTCMsgndZE\n",
              "q1QqzJw5Ezt27MDt27dx6NAhDBo0CPHx8drHbNiwAUFBQVi+fHm+25k6dSpSUlJy3by9vQv+VRAR\n",
              "EREVg6fTCFMzVWhc0xq/fNAIckP2aSiLdPquR0REICYmBq1atQIANGnSBNWrV0d4eDgAIDAwEDNm\n",
              "zMBff/2FypUr57sdExMTWFpa5roZGnKaDxEREemv5MfZ8F8dgrjUTDjZmWOVvxenEZZhOhXRNWrU\n",
              "QGxsLCIjIwEAN27cQFRUFOrVq4egoCBMmzYNBw8ehIMDF9YTERFR6ZGpVGPoujO48TAd9pamWDfE\n",
              "GxXMjF/9RCq1dFoTXblyZSxfvhx9+/aFgYEBNBoNFi1aBAcHB9SpUwf29vbo3r279vGHDh2Cra1t\n",
              "oYcmIiIiKi4qtQZjNoXj7O0kWJrK8dtQTiOkAnTn+OCDD/DBBx+8cL9SqSyUQERERET6QgiBL3df\n",
              "wsHIBzCWG2ClfxM4cxohgRMLiYiIiPI1/+B1bA65kzON8P1G8K7FaYSUg0U0ERERUR42/nMbC/6d\n",
              "RvhNd1d0cuU0QvoPi2giIiKi5xy4FIcvd+VMIxzXzgkDfWpKnIj0DYtoIiIiomeERidi3OZwaATw\n",
              "fpMa+Lg9pxHSi1hEExEREf3r2oM0DF0biiyVBu3r22FmD1dOI6Q8sYgmIiIiAhDzzDRCT4cK+OUD\n",
              "T04jpHzxyCAiIqIyL+WxEv6rQxCbkom6duZYHdAE5Yw5jZDyxyKaiIiIyrRMpRof/haK6w/TUdnS\n",
              "hNMI6bWwiCYiIqIyS60RGLc5HKHRSbAwlWPdEG9U4zRCeg0soomIiKhMyplGeBF/Xv53GqGfF1zs\n",
              "LaWORSUEi2giIiIqkxYeuoFN/9yBTAYsfF+BprVtpY5EJQiLaCIiIipzNofcwc8HrwF4Oo2wisSJ\n",
              "qKRhEU1ERERlyl+XH+CLnRcAAGPb1sUgTiOkAmARTURERGXGmehEjNkUBo0A+npVx8S3naWORCUU\n",
              "i2giIiIqE64/SMPQdWeQpdKgnYsdvu/pxmmEVGAsoomIiKjUi03JmUaY8kSJRg4VsKg/pxHSm+HR\n",
              "Q0RERKVaymMlAlaHIiYlE7Urlcdqf04jpDfHIpqIiIhKrUylGsN+O4OrD9JgZ2GC34Z4w7o8pxHS\n",
              "m2MRTURERKWSWiMwYUsEQqITtdMIq1ubSR2LSgkW0URERFTqCCHw1e6L2H8pDsaGBljh54X6VTiN\n",
              "kAoPi2giIiIqdRYdvoGN/04jnP++Aj6cRkiFjEU0ERERlSpbQu7gp79yphFOf7ch3nHjNEIqfCyi\n",
              "iYiIqNQ4ePkBPv93GuHot+rA39dR2kBUarGIJiIiolLh7O1EjP53GmGfxtUxqUM9qSNRKcYimoiI\n",
              "iEq8Gw//m0bY1sUOs3pxGiEVLRbRREREVKLFpWTCf3Uokh8roahRAYv6N+I0QipyOh9h+/btg6en\n",
              "JxQKBVxdXbFu3ToAwMOHD9GpUyc4OTnB1dUVx48fL/SwRERERM9KeaJEwJoQ3E9+gtoVy2N1QBOY\n",
              "GculjkVlgE5HmRACAwcOxNGjR+Hu7o7o6Gi4uLigV69emDJlCnx8fLB//36EhoaiZ8+euHXrFoyM\n",
              "jIoqOxEREZVhT6cRXonLmUa4bog3bDiNkIqJzr+qyWQyJCcnAwBSU1Nha2sLExMTBAUF4caNGwCA\n",
              "Jk2aoGrVqjh27Bjat2//wjaysrKQlZWV6z61Wl2A+ERERFQWqTUCHwdGIORWIixM5Fg72Bs1bDiN\n",
              "kIqPTkW0TCZDYGAgevXqhfLlyyMpKQk7duxAWloalEol7O3ttY91dHTEnTt38tzOrFmzMGPGjFz3\n",
              "+fj4FCA+ERERlTVCCMz4/RL+dzFnGuEyv8ZoUJXTCKl46bQmWqVSYebMmdixYwdu376NQ4cOYdCg\n",
              "QVCpVDq96NSpU5GSkpLr5u3trdM2iIiIqGxacjQKv526DZkMmNfPA751Kkodicogna5ER0REICYm\n",
              "Bq1atQKQs2yjevXqOH/+PORyOeLi4rRXo6Ojo+Hg4JDndkxMTGBiYpLrPkNDw4LkJyIiojIkKPQu\n",
              "fjxwFQDwddcG6OpeVeJEVFbpdCW6Ro0aiI2NRWRkJADgxo0biIqKQr169dCnTx8sXboUABAaGor7\n",
              "9++jdevWhZ+YiIiIyqRDkQ8w9d9phCPb1EFA81oSJ6KyTKcr0ZUrV8by5cvRt29fGBgYQKPRYNGi\n",
              "RXBwcMCcOXMwaNAgODk5wdjYGBs2bGBnDiIiIioUYXeSMHpTGNQagfc8q+OzjpxGSNKSCSGE1CEA\n",
              "YOLEiZg3b57UMYiIiEjP3HiYjt5Lg5H8WIk29SphhZ8XjDhMhSTGI5CIiIj01oPUTPivDkHyYyU8\n",
              "qlthyQBPFtCkF3gUEhERkV5KzVTCf3XONMJanEZIeoZFNBEREemdTKUaw9blTCOsZGGC34Z4w9bc\n",
              "5NVPJComLKKJiIhIr6g1AhODIvDPrUSYm8ixdnATTiMkvcMimoiIiPSGEALf/H4J+y7EwchQhuWD\n",
              "GqNhVSupYxG9gEU0ERER6Y0lR6Ow7tRtAMC8vgr41uU0QtJPLKKJiIhIL2w98980wq+6NsC7HpxG\n",
              "SPqLRTQRERFJ7siVh5iyI2ca4YjWdTCkBacRkn5jEU1ERESSCr+ThFEbc6YR9vKshsmdOI2Q9B+L\n",
              "aCIiIpLMzUfpGLI2FE+UarRyroQ577lDJpNJHYvolVhEExERkSQepmbCb3UIkv6dRvgrpxFSCcIj\n",
              "lYiIiIpdaqYS/mtCcS/pCRxtzbA6oAnKm3AaIZUcLKKJiIioWGWp1Pjot7OIjE1FRXMT/DakKacR\n",
              "UonDIpqIiIiKjUYjMDHoHE7dTNBOI3Sw5TRCKnlYRBMREVGxEELgm72X8cf5WBgZyrB0YGO4VuM0\n",
              "QiqZWEQTERFRsVh67CbWBkcDAH7qq0ALJ04jpJKLRTTRa0h+nI2HqZlSxyAiKrG2nb2HOfuvAAC+\n",
              "7NoA3TiNkEo4FtFEr3Ao8gFazDmC1j8excX7KVLHISIqcY5cfYjJ288DAD5qVRtDOY2QSgEW0UT5\n",
              "EELg16NR+PC3M0jPUuGJUo3Rm8KQmqmUOhoRUYkRcTcZozbkTCPs2agaJndykToSUaFgEU2Uh0yl\n",
              "GhMCIzBn/xUIAbzfpAaqVSiH2wmP8dnW8xBCSB2RiEjvPTuNsKVTRcx5zx0GBpxGSKUDi2ii58Sm\n",
              "PEHfZaewOyIGcgMZvu3hitnvuWPxAE8YGcqw/1Ic1pyMljomEZFee5iWM40wMSMb7tWtsHRgYxjL\n",
              "WXZQ6cGjmegZYXeS0G3RSZy/lwJrMyOsH9oUg3xqAgAUNSrgi3fqAwC+3xeJsDtJUkYlItJbaZlK\n",
              "BKzOmUZYk9MIqZRiEU30r21n7+H9ZafxKC0L9SpbYM+YFmhWxzbXY/x9HdHFrQpUGoExG8OQlJEt\n",
              "UVoiIv2UpVJjxIazuBybiormxvhtiDcqchohlUIsoqnMU2sEvvvjMiZtPYdstQYdGlTG9lG+qGHz\n",
              "4gQtmUyG2e+5wdHWDDEpmZgYFAGNhuujiYiAnGmEnwSdw8kbCShvbIg1Ad6oaVte6lhERYJFNJVp\n",
              "KU+UGLI2FCv+vgUAGNe2LpYObAzzl/zZ0cLUCEsGNIaJ3ABHrj7Cr8eiiisuEZHeEkLg2z8uY+/T\n",
              "aYSDGsOtOqcRUunFIprKrKhH6ei5+CSOXXsEUyMDLO7viYkd6r3WO8cbVLXEN90bAgB++vMqTt9M\n",
              "KOq4RER6bfnxm9o3Xc/t44GWTpWkDURUxFhEU5l09OpD9Fh8EjfjM1DVyhTbRviii3sVnbbR16sG\n",
              "enlWg0YAYzeH42EaJxoSUdm0I+weZv0vZxrhtC710V1RTeJEREVPpyI6ISEBCoVCe3N2doZcLkdi\n",
              "YiJCQkLg4+ODRo0aoX79+vjhhx+KKjNRgQkhsOL4TQxZG4q0TBW8alpj95gWcK2m+58cZTIZZvZw\n",
              "hXNlczxKy8L4zRFQc300EZUxx649wmfbcqYRDmtZCx+2rC1xIqLioVMRbWtri4iICO1t+PDh6Ny5\n",
              "M2xsbDB8+HB8/vnnCA8Px8mTJzF37lxcvny5qHIT6SxTqcakrefx3b5IaATQz6sGNg5rikoWBX/X\n",
              "uJmxHEsGeMLM2BCnbiZgwcFrhZiYiEi/nbubjJEbzkKlEeihqIqpnetLHYmo2LzRco5Vq1Zh6NCh\n",
              "AHKuyiUnJwMAMjIyYGxsDBsbmzyfl5WVhdTU1Fw3tVr9JlGIXuphaiY+WHEa28PuwdBAhunvNsDs\n",
              "99xgIjd8423XtbPArF5uAIBfjtzAsWuP3nibRET67lZ8BoasDcXj7JxphD/09uA0QipTClxEBwcH\n",
              "IykpCV27dgUArFmzBl9++SUcHBzg7OyM77//Hvb29nk+d9asWbCyssp1CwkJKWgUopc6dzcZ3Rad\n",
              "RPidZFiVM8K6wd4IaF4LMlnhney7K6qhf1MHCAFM2BKOmOQnhbZtIiJ9kzON8B8kZGTDtZolfuU0\n",
              "QiqDCnzEr1q1Cn5+fpDLc1qBzZ49G7NmzcKdO3dw6dIlfPHFF/ku55g6dSpSUlJy3by9vQsahShf\n",
              "uyPuo++yU4hLzURdO3PsHt0cLZwqFslrfdW1ARpWtUTSYyXGbg6HUq0pktchIpJSepYKg9eE4m7i\n",
              "EzjYmGFNgPdL24ISlVYFKqLT09MRFBSEIUOGAADi4+Oxc+dO9O/fHwBQu3Zt+Pj44OTJk3k+38TE\n",
              "BJaWlrluhoZv/md1oqfUGoE5+69g/JYIZKk0aOtih52jfOFYseia/psaGWLJAE9YmMpx9nYSfth/\n",
              "pchei4hICtkqDUasP4tLMamwLZ8zjfBN3ldCVJIVqIgODAyEh4cHXFxcAADW1tYoX748Dh8+DCCn\n",
              "qP7nn3/g6upaeEmJXlNaphLDfzuDX4/mDEEZ2aYOVvh5wcLUqMhfu6ZtefzY2wMAsOLvW/jzUlyR\n",
              "vyYRUXHQaAQmbT2HEzfiYWZsiDWDmxTphQkifVegv7+sWrUKw4YN035saGiIoKAgfPrpp1CpVFAq\n",
              "lZgwYQKaNWtWaEGJXkd0fAY+/O0MbjxMh4ncAD/0di/2fqWdXO0xtEUtrDpxC59sPYc/7C3hYPvi\n",
              "CHEiopLk+32R2HMuBnIDGZYObAz36hWkjkQkqQIV0cHBwS/c1759e5w9e/aNAxEV1Mkb8Ri1MQwp\n",
              "T5SobGmC5YO84FGjgiRZJndyQdidJITfScboTWHYOqIZTI24ZImISqYVx29i5YlbAIAf+7ijlTOn\n",
              "ERLxrbRU4gkhsObkLfitDkHKEyUUNSrg9zEtJCugAcBYnjNG3NrMCBfup+C7PyIly0JE9CZ2hd/H\n",
              "d/tyzmGfv+OCno2qS5yISD+wiKYSLUulxpTtFzDj98tQawR6eVbDluE+sLM0lToaqlYoh3n9FACA\n",
              "9advY8+5GGkDERHp6Pi1R5i09RwAYGiLWhjGaYREWiyiqcSKT8/CgBX/IPDMXRjIgGld6uOnPh56\n",
              "tWzirXp2GP1WHQDAlO3nceNhusSJiIhez/l7yRjx7zTCbh5V8cU79Qu1vz5RSccimkqkSzEp6PbL\n",
              "CZy5nQQLUzlWBzTBhy1r6+UJ/uP2zvCpbYPH2WqM3hiGJ9mczklE+i06PgOD1+RMI2xRtyLm9uE0\n",
              "QqLnsYimEueP87Ho/espxKRkonbF8tg1ujna1LOTOla+5IYGWPh+I1Q0N8HVB2n4cvdFqSMREeXr\n",
              "UVoW/NeEICEjGw2rWuLXgZ6cRkiUB/5UUImh0QjM+/MqRm8KwxOlGq2cK2Hn6OaoU8lc6mivZGdp\n",
              "ioUfKGAgA7advYegM3eljkRE9IL0LBWGrA3F7YTHqGFTDmsGNymWHvtEJRGLaCoRMrJUGLHhLBYe\n",
              "vgEAGNayFtYENIFVuZJzcvetUxET33YGAHy56yIiY1MlTkRE9J9slQYjN5zFhfsp/04jbAo7C+nf\n",
              "pE2kr1hEk967m/gY7/0ajD8vP4CxoQHm9vHAF10awLAErs8b1aYuWjtXQpZKg9Ebw5CWqZQ6EhER\n",
              "NBqBz7adw9/Xc6YRrg5oglqcRkj0UiyiSa+dikpAt0UncCUuDZUsTLDlIx/0blxye5QaGMjwcz8F\n",
              "qliZ4mZ8BqbuuAAhhNSxiKiMm73/CnZF5EwjXDLAU9I++0QlBYto0lsbTt/GoFX/IOmxEm7VrLBn\n",
              "THN4OlhLHeuN2ZQ3xqL+jSA3kGHv+VhsOH1b6khEVIat/Psmlh+/CQD4obe7Xr9Rm0ifsIgmvaNU\n",
              "azBt1wVM23VR259064hmqGJVTupohaZxTRtM6ewCAPh2byTO30uWNhARlUm7I+5j5r8TVad0dkEv\n",
              "z5L7lz6i4sYimvRKYkY2Bq78BxtO34FMBkzu5IIF7yv0aoBKYRnaohY6NKiMbLUGozaGIeUx10cT\n",
              "UfH5+/p/0wiHNK+Fj1pxGiGRLlhEk96IjE1Ft0Un8M+tRJibyLHSzwsj29TRywEqhUEmk+HHPh5w\n",
              "sDHDvaQn+GTrOa6PJqJicfF+CkasPwulWqCrexVM68JphES6YhFNeuHApTi892sw7iU9QU1bM+wc\n",
              "5Yt29StLHavIWZUzwpIBnjA2NMDByAdY8fdNqSMRUSl3OyEDAWtCkJGthm8dW/zUl9MIiQqCRTRJ\n",
              "SgiBXw5dx0frz+JxthrN69pi9+jmcKpsIXW0YuNazQpfvdsAADBn/1WciU6UOBERlVbx6VnwXx2C\n",
              "+PRs1K9iiWWDGsNEXvqWyxEVBxbRJJnH2SqM2RSOn/66BgAI8HXEusHeqGBmLHGy4jegqQO6eVSF\n",
              "WiMwZlM4EtKzpI5ERKVMxr/TCKMTHqO6dTms4zRCojfCIpokcT/5CXr/egp/XIiFkaEMs3u5YXq3\n",
              "hpAbls1DUiaTYVYvN9SpVB5xqZmYEBgBtYbro4mocGSrNBix4SzO30uBTXlj/DbEG3aWnEZI9CbK\n",
              "ZsVCkgqNTkS3X07gcmwqbMsbY9MwH7zv7SB1LMmVN5FjyYDGMDUywN/X47H4yA2pIxFRKaDRCEze\n",
              "fh5/X49HOaOcaYS1K5lLHYuoxGMRTcUqMPQO+q84jYSMbDSoYok9Y1ugiaON1LH0Rj17C8zs4QYA\n",
              "+PngNZy8ES9xIiIq6eYcuIKd4fdhaCDDkoGeUHAaIVGhYBFNxUKl1mD6nkuYvP0ClGqBd9zssW1k\n",
              "M1SrUHoGqBSW3o2ro59XDQgBjN8SjgepmVJHIqISatWJW1h2LKfrz5z33PEWpxESFRoW0VTkkh9n\n",
              "I2BNKNYGRwMAJr7tjMX9PWFmLJc2mB6b0b0hXOwtEJ+ejbGbw6FSa6SOREQlzJ5zMfh272UAOYOr\n",
              "ejfmNEKiwsQimorU9Qdp6L74JE7ciIeZsSGWDmyMce2c2NT/FUyNDLFkgCfMTeQIuZWo7WBCRPQ6\n",
              "Tt6IxydBEQByOh+NaM1phESFjUU0FZlDkQ/Qc0kwbv/bTmnHKF90crWXOlaJUbuSOWa/l7M++tej\n",
              "UTh85YHEiYioJLh4PwUf/TuNsIt7FXzVtQEvXBAVARbRVOiEEPj1aBQ+/O0M0rNUaFrLBnvGtICL\n",
              "vaXU0Uqcru5V4d+sJgDg48BzuJf0WOJERKTP7iY+RsCaUKRnqeBT2wbzOI2QqMiwiKZClalUY0Jg\n",
              "BObsvwIhcoaIbPiwKWzKl70BKoXl8y714VHdCilPlBi9KRzZKq6PJqIXJaRnwW91COLTs1C/iiWW\n",
              "+3lxGiFREWIRTYUmLiUTfZedwu6IGMgNZPi2hyu+6+kGozI6QKWwmMgNsai/JyxN5Th3Nxmz/hcp\n",
              "dSQi0jNPpxHeis9AtQo50wgtOY2QqEjpVN0kJCRAoVBob87OzpDL5UhMTIQQAtOnT4ezszPc3Nzw\n",
              "1ltvFVVm0kNhd5Lw7qITOH8vBdZmRlg/tCkG+dSUOlapUcPGDPP6KgAAa05GY9+FWGkDEZHeUKo1\n",
              "GLUxDOf+Pf/+NpTTCImKg049xmxtbREREaH9eO7cuTh27BhsbGywYMECnD9/HhcvXoSxsTHi4uIK\n",
              "OyvpqW1n7+HzHReQrdagXmULrPT3Qg0bM6ljlTrtG1TGR61rY9mxm/hs23k0qGIJx4rlpY5FRBIS\n",
              "Imca4bFrj7TTCOtwGiFRsXijRr2rVq3CrFmzAAA//vgjDh8+DGPjnLWv9vb5d2HIyspCVlZWrvvU\n",
              "avWbRCEJqDUCs/8XiRV/3wIAdGhQGfP6KWBuwv7PRWVSh3oIu52E0OgkjNoYhh2jfGFqxDWPRGXV\n",
              "nP1XsSMsZxrh4gGN0MjBWupIRGVGgRerBgcHIykpCV27dkVqaioePHiA3bt3o2nTpmjatCkCAwPz\n",
              "fe6sWbNgZWWV6xYSElLQKCSBlCdKDFkbqi2gx7Wti6UDG7OALmJGhgb45QNP2JY3xuXYVMz4/ZLU\n",
              "kYhIIqtP3MLSY1EAgNm93NDWpbLEiYjKlgIX0atWrYKfnx/kcjlUKhVUKhWePHmCf/75B4GBgfj4\n",
              "449x7ty5PJ87depUpKSk5Lp5e3sX+Iug4hX1KB09F5/EsWuPYGpkgMX9PTGxQz22USom9lammP++\n",
              "AjIZsDnkLnaE3ZM6EhEVs9/PxeDbP3KmEX7asR76eNWQOBFR2VOgIjo9PR1BQUEYMmQIAMDGxgbm\n",
              "5uYYOHAgAMDR0RHNmzdHaGhons83MTGBpaVlrpuhIf8kXRIcvfoQPRafxM34DFS1MsW2Eb7o4l5F\n",
              "6lhlTkunShjX1gkA8MXOi7j+IE3iRERUXIJvxOOToHMQAvBvVhOj2tSROhJRmVSgIjowMBAeHh5w\n",
              "cXHR3vfBBx9g//79AIDExESEhITA3d29cFKS5IQQWHH8JoasDUVapgpeNa2xe0wLuFazkjpamTWu\n",
              "nRNa1K2IJ0o1Rm4MQ0aWSupIRFTELsWkYPj6s8hWa/COmz2+erchpxESSaRARfSqVaswdOjQXPfN\n",
              "mjUL+/fvh6urK1q1aoXJkydziUYpkalUY9LW8/huXyQ0AujnVQMbhzVFJQsTqaOVaYYGMsx/XwE7\n",
              "CxPceJiOL3ZegBBC6lhEVESenUbYtJYN5vVVwJDL6IgkU6B3gQUHB79wn62tLfbs2fPGgUi/PEzN\n",
              "xEcbziL8TjIMDWT4skt9+Ps68sqHnqhoboJF/T3xwYrT2BURA+9atujf1EHqWERUyJ5OI3yUlgUX\n",
              "ewus8PdiZx4iiXGUHOXr/L1kdFt0EuF3kmFVzgjrBnsjoHktFtB6xruWDT7tWA8AMP33S7h4P0Xi\n",
              "RERUmB5nqzBk3Zn/phEO8eY0QiI9wCKa8rQ74j76LD2FuNRM1LUzx+7RzdHCqaLUsSgfw1vWRjsX\n",
              "O2SrNBi9KQypmUqpIxFRIVCqNRi9MQzn7iajgpkR1g3xRmVOIyTSCyyiKRe1RmDO/isYvyUCWSoN\n",
              "2rrYYecoX07G03MGBjL81NcD1SqUw+2Ex/hs63mujyYq4YQQmLL9Ao5czWknujqgCeracRohkb5g\n",
              "EU1aaZlKDP/tDH49mtO8f2SbOljh5wUL/tmwRKhgZozFAzxhZCjD/ktxWHMyWupIRPQGfjxwFdvD\n",
              "7uVMI+zvCU9OIyTSKyyiCQAQHZ+BnkuCcejKQ5jIDbDgfQUmd3LhO79LGEWNCvjinfoAgO/3RSLs\n",
              "TpLEiYioINaevIUl/17QmNXTDe3qcxohkb5hEU04eSMe3RefxI2H6ahsaYKgj5qhu6Ka1LGogPx9\n",
              "HdHFrQpUGoExG8OQlJEtdSQi0sEf52MxY2/ONMJJHZzRtwmnERLpIxbRZZgQAmtO3oLf6hCkPFFC\n",
              "UaMCfh/TAh41Kkgdjd6ATCbD7Pfc4GhrhpiUTEwMioBGw/XRRCXBqagEfBwYASGAQT41MfqtulJH\n",
              "IqJ8sIguo7JUakzZfgEzfr8MtUagl2c1bBnuAzu+67tUsDA1wpIBjWEiN8CRq4+w9HiU1JGI6BUu\n",
              "x6Ri+G9nkK3WoLOrPaZ34zRCIn3GIroMik/PwoAV/yDwzF0YyIBpXerjpz4ebNxfyjSoaolvujcE\n",
              "AMw9cBWnbyZInIiI8nMlLhX+a0KQlqWCdy0b/NyP0wiJ9B2L6DLmUkwKuv1yAmduJ8HCVI7VAU3w\n",
              "YcvavNpRSvX1qoFentWgEcDYzeF4lJYldSQies6J6/Ho8+up/6YR+nEaIVFJwCK6DPnjfCx6/3oK\n",
              "MSmZqF2xPHaNbo429eykjkVFSCaTYWYPVzhXNsejtCyM3xIONddHE+mNrWfuIuDfK9BNa9kgcHgz\n",
              "WJVjW1GikoBFdBmg0QjM+/MqRm8KwxOlGq2cK2Hn6OaoU4lN+8sCM2M5lgzwhJmxIYKjErDg4DWp\n",
              "IxGVeUIIzD94DZ9uOw+VRqCbR1X8NtQbVmYsoIlKChbRpVxGlgojNpzFwsM3AADDWtbCmoAmvNJR\n",
              "xtS1s8CsXm4AgF+O3MCxa48kTkRUdinVGny67TzmH7wOABjVpg7m91PARM4lHEQlCYvoUuxu4mO8\n",
              "92sw/rz8AMaGBpjbxwNfdGnAN6uUUd0V1TCgqQOEAD4OjEBsyhOpIxGVOWmZSgxZG4ptZ+/BQAZ8\n",
              "19MVn3VygQHPy0QlDovoUupUVAK6LTqBK3FpqGRhgi0f+aB34+pSxyKJfdm1ARpWtURiRjbGbAqH\n",
              "Uq2ROhJRmRGb8gR9lp7C39fjYWZsiJX+XhjQtKbUsYiogFhEl0IbTt/GoFX/IOmxEm7VrLBnTHN4\n",
              "OlhLHYv0gKmRIZYM8ISFqRxnbyfhxwNXpY5EVCZExqai5+JgXIlLQ0VzEwQOb4a2LhzlTVSSsYgu\n",
              "RZRqDabtuoBpuy5CpRHorqiKrSOaoYpVOamjkR6paVseP/b2AAAsP34Tf16KkzgRUel24no8+i49\n",
              "hbjUTNS1M8fOUb5wq24ldSwiekMsokuJxIxsDFz5DzacvgOZDJjcyQXz+ynYa5Ty1MnVHkNb1AIA\n",
              "fLL1HO4kPJY4EVHp9HwLu+0jfFHDxkzqWERUCFhElwKRsanotugE/rmVCHMTOVb6eWFkmzocoEIv\n",
              "NaWzCzwdKiAtU4XRm8KQqVRLHYmo1BBCYMHB62xhR1SKsYgu4Q5cisN7vwbjXtIT1LQ1w85RvmhX\n",
              "n+vs6NWMDA2wqL8nrM2McOF+Cr77I1LqSESlglKtwWfbzuPnf3uyj2QLO6JSiUV0CSWEwC+HruOj\n",
              "9WfxOFuN5nVtsXt0czhVtpA6GpUgVSuUw7x+CgDA+tO3sedcjLSBiEq4py3stj7Twm4yW9gRlUos\n",
              "okugx9kqjNkUjp/+yrnKEeDriHWDvVHBzFjiZFQSvVXPDmPeqgsAmLr9PKIepUuciKhkikvJZAs7\n",
              "ojKERXQJcz/5CXr/egp/XIiFkaEMs3u5YXq3hpAb8ltJBTehvRN8atsgI1uNURvC8CSb66OJdHEl\n",
              "LhU9l5xkCzuiMoSVVwkSGp2Ibr+cwOXYVNiWN8amYT5439tB6lhUCsgNDbDw/UaoaG6Cqw/S8NXu\n",
              "i1JHIioxTlyPR59fTyE2hS3siMoSFtElRGDoHfRfcRoJGdloUMUSe8a2QBNHG6ljUSliZ2mKhR8o\n",
              "YCADtp69h6Azd6WORKT32MKOqOxiEa3nVGoNpu+5hMnbL0CpFujiVgXbRjZDtQocoEKFz7dORUx8\n",
              "2xkA8OWui4iMTZU4EZF+Ygs7ImIRrceSH2cjYE0o1gZHAwA+edsZi/o3gpmxXNpgVKqNalMXrZ0r\n",
              "IUulweiNYUjPUkkdiUivsIUdEQE6FtEJCQlQKBTam7OzM+RyORITE7WPOXz4MAwNDTF//vzCzlqm\n",
              "XH+Qhu6LT+LEjZx3eS8d2Bhj2zlxgAoVOQMDGX7up0AVK1PcjM/AlO3nIYSQOhaRXmALOyJ6SqdL\n",
              "mra2toiIiNB+PHfuXBw7dgw2Njlrc1NSUjBlyhS88847hRqyrDkU+QDjt0QgPUuF6tblsNLfCy72\n",
              "llLHojLEprwxFvX3RL9lp7D3fCya1rLBoGaOUsciklRcSiYC1oTgSlwayhkZYvGARuzAQVSGvdFy\n",
              "jlWrVmHo0KHaj8eMGYNp06bB1tb2pc/LyspCampqrptazZZaQgj8ejQKH/52Bun/vkllz5gWLKBJ\n",
              "Eo1rWmNKZxcAwLd7I3H+XrK0gYgk9EILu498WEATlXEFLqKDg4ORlJSErl27AgC2bdsGAwMDdOvW\n",
              "7ZXPnTVrFqysrHLdQkJCChqlVMhUqjEhMAJz9l+BEMBAHwds+LApbMpzgApJZ2iLWujQoDKy1RqM\n",
              "2hiGlMdKqSMRFbtnW9jVqVQeO0f5wr16BaljEZHEClxEr1q1Cn5+fpDL5YiLi8PMmTOxYMGC13ru\n",
              "1KlTkZKSkuvm7e1d0CglXlxKJvouO4XdETGQG8jwbQ9XzOzhBiMOUCGJyWQy/NjHAw42ZriX9ASf\n",
              "bD3H9dFUpmw7e0/bws67lg12jGzOFnZEBEDHNdFPpaenIygoCKGhoQCAs2fPIjY2FgqFAgAQHx+P\n",
              "PXv24NGjR/juu+9eeL6JiQlMTExy3WdoWDbf1Rx2JwkfrT+LR2lZsDYzwpIBjdGszsuXwxAVJ6ty\n",
              "RlgywBO9lgTjYOQDrPj7Joa3qiN1LKIiJYTAwkM3tB043vWoirl93NmBg4i0ClREBwYGwsPDAy4u\n",
              "Oeslu3TpggcPHmg/HxAQAIVCgQkTJhRKyNJq29l7+HzHBWSrNahX2QIr/b14hYP0kms1K3z1bgNM\n",
              "23URc/ZfhaeDNbw47IdKKaVag893XMDWs/cA5LSw+7RDPXbgIKJcCrRe4Pk3FJJu1BqB7/64jElb\n",
              "zyFbrUGHBpWxfRSnXJF+G9DUAd08qkKtERizKRwJ6VlSRyIqdM+3sJvZgy3siChvBboSHRwc/NLP\n",
              "r127tiCbLRNSnigxbnM4jl17BAAY17YuJrR35gma9J5MJsOsXm64FJOCqEcZmBAYgbWDvWHIY5dK\n",
              "iedb2C3q3wjt6rMDBxHlje9cK0ZRj9LRc/FJHLv2CKZGBljc3xMT+SdCKkHKm8ixZEBjmBoZ4O/r\n",
              "8Vh85IbUkYgKRV4t7FhAE9HLsIguJkevPkSPxSdxMz4DVa1MsW2EL7q4V5E6FpHO6tlbYGYPNwDA\n",
              "zwev4eSNeIkTEb2ZkzfYwo6IdMciuogJIbDi+E0MWRuKtEwVvGpaY/eYFnCtZiV1NKIC6924Ovp5\n",
              "1YAQwPgt4XiQmil1JKIC2Xb2HvxXs4UdEemORXQRylSqMWnreXy3LxIaAfTzqoGNw5qikoXJq59M\n",
              "pOdmdG8IF3sLxKdnY+zmcKjUGqkjEb02IQQWHLyOSVvPQaUReNejKtYP9YaVmZHU0YiohGARXUQe\n",
              "pmbigxWnsT3sHgwNZJj+bgPMfs+NPUap1DA1MsSSAZ4wN5Ej5FYifvrrmtSRiF6LUq3BZ9vOa3tA\n",
              "j2hdBwv6KXh+JiKdsIguAufvJaPbopMIv5MMq3JGWDfYGwHNa0Em4xsIqXSpXckcs9/LWR/969Eo\n",
              "HL7y4BXPIJJWXi3spnRmCzsi0h2L6EK2O+I++iw9hbjUTNS1M8fu0c3Rwqmi1LGIikxX96rwb1YT\n",
              "APBx4DncS3oscSKivMWlZKLP0lP4+3o8yhkZYoWfFwb61JQ6FhGVUCyiC4laIzBn/xWM3xKBLJUG\n",
              "bV3ssHOULxwrlpc6GlGR+7xLfXhUt0LKEyXGbApHtorro0m/sIUdERU2FtGFIC1TieG/ncGvR6MA\n",
              "5IyIXeHnBQtTvkGFygYTuSEW9feEVTkjRNxNxqz/RUodiUiLLeyIqCiwiH5D0fEZ6LkkGIeuPISJ\n",
              "3AAL3ldgcicXTnGjMqeGjRnm9fUAAKw5GY3/XYiVOBERW9gRUdFhEf0GTt6IR/fFJ3HjYTrsLU2x\n",
              "dUQzdFdUkzoWkWTa1a+Mj1rXBgB8tu08ouMzJE5EZRVb2BFRUWMRXQBCCKw9eQt+q0OQ8kQJRY0K\n",
              "2DOmOf88SARgUod6aOJojbQsFUZtDEOmUi11JCpjlGoNJm9nCzsiKlosonWUrdJg6o4LmP77Zag1\n",
              "Ar08q2HLcB/YWZpKHY1ILxgZGuCXDzxhW94Yl2NTMeP3y1JHojLkaQu7oDNsYUdERYtFtA7i07PQ\n",
              "f8VpbAm9CwMZMK1LffzUxwOmRry6QfQseytTzH9fAZkM2BxyBzvD70kdicqAuJRM9F12mi3siKhY\n",
              "sIh+TZdiUtDtlxM4czsJFqZyrA5ogg9b1uYAFaJ8tHSqhHFtnQAAn++4iOsP0iRORKXZ0xZ2kbGp\n",
              "bGFHRMWCRfRr+ON8LHr/egoxKZmoXbE8do1ujjb17KSORaT3xrVzQou6FfFEqcbIjWHIyFJJHYlK\n",
              "IbawIyIpsIh+CY1GYN5f1zB6UxieKNVo5VwJO0c3R51K5lJHIyoRDA1kmP++ApUtTXDjYTq+2HkB\n",
              "QgipY1Ep8nwLu+0jfdnCjoiKBYvofGRkqTBy41ksPHQdADCsZS2sCWgCq3Jsj0Ski4rmJvjlA08Y\n",
              "GsiwKyIGW0LvSh2JSoH8WthVMDOWOhoRlREsovNwN/Ex3vs1GAcuPYCxoQHm9vHAF10acIAKUQF5\n",
              "17LBpx3rAQC+3nMJF++nSJyISjK2sCMifcAi+jmnohLQbdEJXIlLQyULE2z5yAe9G1eXOhZRiTe8\n",
              "ZW20c7FDtkqD0ZvCkJqplDoSlUDPt7D7li3siEgiLKKfseH0bQxa9Q+SHivhXt0Kv49pAU8Ha6lj\n",
              "EZUKBgYy/NTXA9UqlMPthMeYvO0810eTTvJqYTeILeyISCIsopHzp8Fpuy5g2q6LUGkEuiuqIuij\n",
              "ZrC34gAVosJUwcwYiwd4wshQhv9djMOak9FSR6ISIncLO2O2sCMiyZX5IjoxIxuDVv2DDafvQCYD\n",
              "Jndywfx+Cg5QISoiihoV8MU79QEA3++LRNidJIkTkb57sYVdc7awIyLJlekiOjI2Fd0WncDpm4kw\n",
              "N5FjpZ8XRrapwwEqREXM39cRXdyqQKURGLspHEkZ2VJHIj21/dkWdo5sYUdE+qPMFtEHLsXhvV+D\n",
              "cS/pCWrammHnKF/+aZComMhkMsx+zw21KpbH/eQnmBgUAY2G66PpP0IILDx0HZ8808LuN7awIyI9\n",
              "UuaKaCEEfjl0HR+tP4vH2Wo0r2uL3aObw6myhdTRiMoUC1MjLO7vCRO5AY5cfYSlx6OkjkR64mkL\n",
              "u3l/5W5hx2V2RKRPylwR/SgtC6tO3gIABPg6Yt1gXtkgkkqDqpb4pntDAMDcA1dx+maCxIlIamxh\n",
              "R0QlhVyXByckJKBdu3bajx8/foybN2/i4cOH+OSTT3Dy5EmUK1cO5ubmmD9/Ppo0aVLogd+UnaUp\n",
              "lgzwxJ2Ex3jf20HqOERlXl+vGvjnViJ2hN3H2M3h2DeuJSpZmEgdiyQQl5KJwWtDERmbinJGhljU\n",
              "vxGX2RGR3tKpiLa1tUVERIT247lz5+LYsWOwsbFBz549sWLFCsjlcuzduxd9+vRBdHR0IcctHL51\n",
              "KsK3jtQpiAjIWR89s4crLt5PwbUH6Ri/JRzrhzblhNAy5kpcKgavCUVsSiYqmhtjdUATduAgIr32\n",
              "Rss5Vq1ahaFDhwIAunXrBrk8pyb38fHB/fv3oVKp8nxeVlYWUlNTc93UavWbRCGiEszMWI4lAzxh\n",
              "ZmyI4KgELPh3nDOVDWxhR0QlUYGL6ODgYCQlJaFr164vfG7BggV45513tEX182bNmgUrK6tct5CQ\n",
              "kIJGIaJSoK6dBWb1cgMA/HLkBo5deyRxIioObGFHRCVVgYvoVatWwc/P74VCecOGDQgKCsLy5cvz\n",
              "fe7UqVORkpKS6+bt7V3QKERUSnRXVMOApg4QAvg4MAKxKU+kjkRFhC3siKik02lN9FPp6ekICgpC\n",
              "aGhorvsDAwMxY8YMHDp0CJUr5/9mEBMTE5iY5H7jkKEhWxcREfBl1wY4dy8ZF++nYsymcGwZ7gMj\n",
              "wzLXSKhUU6o1+GLnBQSduQcgp4XdZx3rsQMHEZUoBfqfKTAwEB4eHnBxcdHeFxQUhGnTpuHgwYNw\n",
              "cGDXCyIqGFMjQyzp3xgWpnKcvZ2EHw9clToSFSK2sCOi0qJARfSzbyh8asCAAcjMzET37t2hUCig\n",
              "UCiQkMCer0SkOwdbM/zY2wMAsPz4Tfx5KU7iRFQY4lIy0XfZafx9PR7ljAyxws8Lg3xqSh2LiKhA\n",
              "CrScIzg4+IX7lErlG4chInqqk6s9hraohVUnbmHS1nP4o4ol33BWgrGFHRGVNlxoSER6a0pnF3g6\n",
              "VEBqpgqjNoYhS8VWmCXRsy3sarOFHRGVEiyiiUhvGRkaYFF/T1ibGeHC/RTM3BspdSTS0fMt7Haw\n",
              "hR0RlRIsoolIr1WtUA7z+ikAAOtP38aeczHSBqLX8nwLu67uVdjCjohKFRbRRKT33qpnhzFv1QUA\n",
              "TN1+HlGP0iVORC+jVGswZfsFzPsrZ/LkR61rY+H7jWBqxFamRFR6sIgmohJhQnsn+NS2QUa2GqM2\n",
              "hOFJNtdH66O0TCWGrjuDwDN3c1rYdW+IqZ3rs4UdEZU6LKKJqESQGxpg4QeNUNHcBFcfpOGr3Rel\n",
              "jkTPeZCa08Lu+LVHKGdkiOWDvDComaPUsYiIigSLaCIqMewsTLHwAwUMZMDWs/cQdOau1JHoX1fj\n",
              "0tBz8UlExqaiorkxtgz3QfsG+U+uJSIq6VhEE1GJ4lunIia+7QwA+Gr3RVyJS5U4EZ28EY/evwYj\n",
              "5pkWdh41Kkgdi4ioSLGIJqISZ1SbumjtXAmZSg1GbQhDepZK6khl1rMt7Jo4WrOFHRGVGSyiiajE\n",
              "MTCQ4ed+ClSxMsXN+AxM3XEBQgipY5UpebWwWz+0KVvYEVGZwSKaiEokm/LGWNTfE3IDGX4/F4MN\n",
              "p29LHanMYAs7IiIW0URUgjWuaY0pnV0AAN/ujcT5e8nSBioD2MKOiCgHi2giKtGGtqiFjg0rI1ut\n",
              "waiNYUh5rJQ6UqnFFnZERP9hEU1EJZpMJsMPvT3gYGOGe0lP8MnWc1wfXQTYwo6IKDcW0URU4lmV\n",
              "M8KSAZ4wNjTAwcgHWPn3LakjlSrBbGFHRPQCFtFEVCq4VrPCV+82AADM3n8FZ6ITJU5UOuwIuwf/\n",
              "NWxhR0T0PBbRRFRqDGjqgO6KqlBrBMZsCkdCepbUkUosIQR+OXQdE4POQalmCzsiouexiCaiUkMm\n",
              "k+H7nm6oU6k84lIzMSEwAhoN10fr6mkLu5/Ywo6IKF8soomoVClvIseSAY1hamSAv6/HY9GRG1JH\n",
              "KlHSs1RsYUdE9BpYRBNRqVPP3gIze7gBAH4+eA0nb8RLnKhkeJCaib5LT7GFHRHRa2ARTUSlUu/G\n",
              "1dHPqwaEAMZvCcfD1EypI+m1py3sLrOFHRHRa2ERTUSl1ozuDeFib4H49GyM2RwOlVojdSS9xBZ2\n",
              "RES6YxFNRKWWqZEhlgzwhLmJHCG3EjHv3zfK0X/Ywo6IqGBYRBNRqVa7kjnmvOcOAFhyNAqHrzyQ\n",
              "OJF+eL6FXRe2sCMi0gmLaCIq9bq4V0GAryMA4OPAc7iX9FjaQBJ7oYVdq9r4hS3siIh0wiKaiMqE\n",
              "qe+4wKO6FVKeKDFmUziyVWVzffTzLey+6d4QU99hCzsiIl3pVEQnJCRAoVBob87OzpDL5UhMTMTD\n",
              "hw/RqVMnODk5wdXVFcePHy+qzEREOjORG2JRf09YlTNCxN1kzPpfpNSRit2zLexMjQywbJAX/NjC\n",
              "joioQOS6PNjW1hYRERHaj+fOnYtjx47BxsYGQ4YMgY+PD/bv34/Q0FD07NkTt27dgpGRUWFnJiIq\n",
              "kBo2ZpjX1wND153BmpPR8Ha0QWe3KlLHKhZX49IweE0IYlIyUdHcGKv8m7ADBxHRG3ij5RyrVq3C\n",
              "0KFDAQBBQUEYMWIEAKBJkyaoWrUqjh07lufzsrKykJqamuumVqvfJAoR0WtpV78yPmpdGwDw2bbz\n",
              "iI7PkDhR0Xu+hd2OkWxhR0T0pgpcRAcHByMpKQldu3ZFQkIClEol7O3ttZ93dHTEnTt38nzurFmz\n",
              "YGVllesWEhJS0ChERDr5tEM9eDvaIC1LhVEbw5CpLL2/xOfVws7Bli3siIjeVIGL6FWrVsHPzw9y\n",
              "uU4rQgAAU6dORUpKSq6bt7d3QaMQEelEbmiAhR80gm15Y1yOTcWM3y9LHanQsYUdEVHRKlARnZ6e\n",
              "jqCgIAwZMgRAzlppuVyOuLg47WOio6Ph4OCQ5/NNTExgaWmZ62ZoyNZKRFR87K1MseD9RpDJgM0h\n",
              "d7Az/J7UkQqNUq3B1B1sYUdEVJQKVEQHBgbCw8MDLi4u2vv69OmDpUuXAgBCQ0Nx//59tG7dunBS\n",
              "EhEVgRZOFTG+nRMA4PMdF3H9QZrEid7c0xZ2W0LZwo6IqCgVqIh+9g2FT82ZMwfBwcFwcnJCQEAA\n",
              "NmzYwM4cRKT3xrZ1Qou6FfFEqcbIjWF4nK2SOlKBsYUdEVHxkQkhhNQhAGDixImYN2+e1DGIqAyK\n",
              "T89Cl4V/40FqFno2qoZ5fT0gk5WsK7dsYUdEVLw4sZCIyryK5ib45QNPGBrIsDP8PraE3pU6kk7Y\n",
              "wo6IqPixiCYiAuBdywafdqwHAPh6zyVcikmRONHreb6F3fYRbGFHRFQcWEQTEf1reMvaaF/fDtkq\n",
              "DUZtDENqplLqSPnKr4WddXm2sCMiKg4soomI/mVgIMPcPh6oVqEcbic8xuRt56EnbxvJhS3siIik\n",
              "xyKaiOgZFcyMsXiAJ4wMZfjfxTisDY6WOlIubGFHRKQfWEQTET1HUaMCpnVpAAD4fl8kwu8kSZwo\n",
              "B1vYERHpDxbRRER58GtWE13cqkCpFhizKRxJGdmS5rkal4aei0/icmwqKpobY8vwZni7QWVJMxER\n",
              "lWUsoomI8iCTyTD7PTfUqlge95OfYGJQBDQaadZHB9+IR++l/7awq5jTwk7BFnZERJJiEU1ElA8L\n",
              "UyMs7u8JE7kBjlx9hKXHo4o9w87wf1vYZf7bwm4kW9gREekDFtFERC/RoKolvuneEAAw98BVnL6Z\n",
              "UCyvK4TAosPX8XEgW9gREekjFtFERK/Q16sG3vOsDo0Axm0Ox6O0rCJ9vact7Ob+mdPCbjhb2BER\n",
              "6R0W0UREryCTyfBtj4ZwrmyOh2lZGL8lHOoiWh+dnqXCh8+1sPucLeyIiPQOi2giotdgZizHkgGe\n",
              "MDM2RHBUAhYcul7or/G0hd0xtrAjItJ7LKKJiF5TXTsLzOrlBgD45fB1HL/2qNC2/WwLO9vybGFH\n",
              "RKTvWEQTEemgu6IaBjR1gBDAhMAIxKY8eeNtPt/CbucotrAjItJ3LKKJiHT0ZdcGcK1micSMbIzd\n",
              "FA6lWlPgbbGFHRFRycQimohIR6ZGhljSvzEsTOU4czsJPx64qvM22MKOiKhkYxFNRFQADrZm+LG3\n",
              "BwBg+fGb+PNS3Gs/ly3siIhKPhbRREQF1MnVHh+2qAUAmLT1HO4mPn7lc9jCjoiodGARTUT0BiZ3\n",
              "doGnQwWkZqowamMYslTqfB/LFnZERKUHi2giojdgZGiARf09YW1mhAv3U/DdH5F5Pu7aA7awIyIq\n",
              "TVhEExG9oaoVyuHnfgoAwG+nbuP3czG5Ph98Ix7v/coWdkREpQmLaCKiQtCmnh3GvFUXADBl+3lE\n",
              "PUoHkLuFnVdNtrAjIiot5FIHICIqLSa0d8KZ24k4fTMRozaEobObPeYfzBkP3sWtCn7q68EOHERE\n",
              "pQSvRBMRFRK5oQEWftAIFc1NcPVBmraAHt6qNn75gC3siIhKExbRRESFyM7CFL980AgGMsBABszo\n",
              "xhZ2RESlEZdzEBEVsmZ1bLF7dAsYGAANq1pJHYeIiIqAzleis7KyMGbMGDg5OcHNzQ0DBw4EAOzb\n",
              "tw+enp5QKBRwdXXFunXrCj0sEVFJ4VbdigU0EVEppvOV6ClTpkAmk+HatWuQyWSIi4uDEAIDBw7E\n",
              "0aNH4e7ujujoaLi4uKBXr16wsLAoitxERERERJLRqYjOyMjAqlWrcO/ePchkOev77O3tIYSATCZD\n",
              "cnIyACA1NRW2trYwMTHJcztZWVnIysrKdZ9anf+ULyIiIiIifaLTco6oqCjY2Njg+++/h5eXF1q2\n",
              "bIlDhw5BJpMhMDAQvXr1Qs2aNdGiRQusW7cOxsbGeW5n1qxZsLKyynULCQkplC+IiIiIiKio6VRE\n",
              "q1Qq3L59Gw0aNMCZM2ewcOFC9OvXDw8ePMDMmTOxY8cO3L59G4cOHcKgQYMQHx+f53amTp2KlJSU\n",
              "XDdvb+9C+YKIiIiIiIqaTkW0g4MDDAwMMGDAAABAo0aNUKtWLaxfvx4xMTFo1aoVAKBJkyaoXr06\n",
              "wsPD89yOiYkJLC0tc90MDdk/lYiIiIhKBp2K6IoVK6Jdu3Y4cOAAAODWrVu4desW+vTpg9jYWERG\n",
              "RgIAbty4gaioKNSrV6/wExMRERERSUzn7hxLly7F0KFDMXnyZBgYGGDZsmWoWbMmli9fjr59+8LA\n",
              "wAAajQaLFi2Cg4NDUWQmIiIiIpKUTAghpA4BABMnTsS8efOkjkFERERE9Eoc+01EREREpCMW0URE\n",
              "REREOmIRTURERESkI71ZE92rVy84OjoWy2up1WqEhITA29ubrfWew32TN+6X/HHf5I37JW/cL/nj\n",
              "vskb90v+pNg3NWvWxPjx44vltfSd3hTRxSk1NRVWVlZISUmBpaWl1HH0CvdN3rhf8sd9kzful7xx\n",
              "v+SP+yZv3C/5476RFpdzEBERERHpiEU0EREREZGOWEQTEREREemoTBbRJiYm+Prrr2FiYiJ1FL3D\n",
              "fZM37pf8cd/kjfslb9wv+eO+yRv3S/64b6RVJt9YSERERET0JsrklWgiIiIiojfBIpqIiIiISEcs\n",
              "oomIiIiIdMQimoiIiIhIR3pfRMtkMiQnJxf560yfPh0TJkwAAOzZswcff/xxkb8mEREREZVMel9E\n",
              "S6Fbt274+eefpY6hV6ZPn47MzMxiea2IiAhs2bLltR579OhRKBSKog1UiNq0aYNdu3a98Xa8vLxw\n",
              "9OjRN95OYQgNDYWvry/MzMzQo0ePfB83ffp0/PzzzwgICCi2bM8rKcdLYeXcu3cv2rRp88bbKSwy\n",
              "mQwODg6QyWSIiIh46WMrVqyI6OhonffFV199hY0bN+b5uUWLFhX4+AsICMD8+fML9NzXUZbOe6/6\n",
              "/0ShUCAtLQ0A4OjoqD1WXnXeO3PmDPr165fn59LT0yGTyXTOXlyio6NRoUKFIn2N+fPnIy4u7rUe\n",
              "W1j/VxUHKc+XJaKInjt3Lho1agRnZ+dcJ8cBAwbAy8sL7u7u6NKli/bgePToETp06AA3Nze4u7tj\n",
              "8ODBubbl7e0NT09PdOrUCbdv337h9dauXastBo4ePQpXV1eMGjUKHh4eaNiwIc6cOaN97IEDB9Ci\n",
              "RQs0btwY3t7eOHLkSBHtBWnNmDFDL4tokl6VKlUwf/78V/7iOWPGDCiVymJKVbRUKpXUEUqs//3v\n",
              "f6hZs2aRbFulUuGbb77BgAEDimT7b+plx01ZOu/l9//J0/0TEREBCwsLnbapUqng5eWFwMDAQslY\n",
              "Ur3sGNOliKbXUyKKaJlMhvDwcOzfvx9jx45FdHQ0gJwD4syZMzh//jxatmyJ6dOnAwA2bNiAWrVq\n",
              "4cKFCzh//jx++uknAMCmTZtw9epVnDp1CmFhYRgwYABGjRr1yte/cuUK/P39ce7cOYwdOxZffPEF\n",
              "AODmzZuYPn069u3bh7Nnz2LTpk3o378/srKyimQ/FMSpU6fQokULeHh4wN3dHbt37871mz2Q+7f7\n",
              "mTNnon79+lAoFFAoFLh9+zZGjBgBAGjZsiUUCgUePnyIhw8folevXnBzc4OrqyuWLVum3Z6joyOm\n",
              "TZsGX19f1KhRA0uXLsWaNWvQrFkzODo6vvQ/iocPH+Krr77CkSNHoFAotK994MABeHp6wt3dHa1b\n",
              "t8bly5dfeG5qaio6dOiAb775RvucvH7BedUvRnlRKpWYMmUKvL29oVAo0LdvXyQlJQHIuUI1fPhw\n",
              "tG/fHrVq1cKQIUMQEhKCNm3aoHbt2pg4cWKubR06dAhNmjRB3bp18cknn+Bpq/a4uDj07dsX3t7e\n",
              "cHNzw7Rp07TPCQ4OhkKhgKurKwYPHvxaRdwff/yBJk2awMPDAwqFAv/8889L92V+++XUqVOwt7dH\n",
              "1apVtcdQ9erVYWtrC6VSierVq2PUqFG4desWgNzHkLu7O7p27aq9wjJ79mzs2bOnSI+hp+bMmQM3\n",
              "Nzd4eHjAx8cHjx8/BpDzn0xe33uVSoWOHTvCy8sLDRs2RP/+/ZGRkaHdNw0bNsTQoUOhUCiwc+fO\n",
              "fF83NDQUbdu2hZeXFxo1aoStW7cC+O9K05dffglPT084OTnh5MmT+Pjjj7Xf24sXL2q3o1Kp4Ofn\n",
              "B1dXVzRu3DjXz+z69evRtGlTeHp6olWrVjh37hyAnON01KhRcHJyeu1f6lNSUvDhhx/C1dUVHh4e\n",
              "GDJkCICcK3dDhgyBq6srXF1dMWPGDO1z2rRpg0mTJqFly5aoU6eO9uf07t27sLOzQ3Z2tvaxAQEB\n",
              "WLBggfbj3bt3IzY2Fl26dMGaNWsAANu2bUOjRo1Qv359uLu7Y9KkSUhKSsL169dfui/y+r48e8U4\n",
              "LS0N/fr1Q7169dCiRQtcuHDhlfvj/v376N27t/YizJdffqn9XGRkJNq1awdnZ2f06tVL+3UeOnQI\n",
              "zZo1Q6NGjdCwYUOsWrUq19c/ZMgQtGrVCq6urnm+Zlk671lZWQH47/+Tdu3aoVatWrCwsED58uUx\n",
              "bdo07TLO4OBgxMTEoH379qhYsSIuXLiQ62ff0dERkydPhre3N/z9/V+4Irls2TI4OTmhUaNGr/XX\n",
              "5bVr16Jt27bo1q0bGjRogFatWmnrDbVajU8//VT78zB27Fjt93/lypVo0KABFAoF3NzctOfa/KxZ\n",
              "swYKhQIeHh7w8vLSvgYAfP3112jcuDHq1q2Lffv2ae/P76Lh0/PK5MmT4enpiUWLFuX5mt988w1i\n",
              "YmLQr18/KBQKREREvPRn/Fnbt2+Hh4cHoqKikJaWhmHDhsHb2xvu7u4YPny4dj/kd154mZJ2vnyB\n",
              "0HMARHR0tPbj7t27i3Xr1gkhhJg/f75o3LixaNiwoahTp45o2rSpEEKI4OBgUaNGDTFx4kSxa9cu\n",
              "kZmZKYQQok+fPsLR0VF4eHgIDw8P4erqKlxdXYUQQnz99ddi/PjxQggh1qxZI7p37y6EEOLIkSOi\n",
              "Xr162tePiIgQderUEUIIsXjxYlGxYkXt9jw8PETVqlXFtWvXinSfvK6EhARhZ2cnjh8/LoQQQq1W\n",
              "i4SEBFGzZk0RHh6ufVzjxo3FkSNHRGJiorCyshKPHz8WQgiRkZEhnjx5IoTI+T4kJSVpn9O3b18x\n",
              "ZcoUIYQQDx48ENWrVxenTp0SQghRs2ZNMWHCBCGEENevXxempqbi22+/FUIIERISIipWrPjS3M/u\n",
              "/6fbt7GxEefPnxdCCLFhwwZRv359odFoxJEjR4SHh4e4c+eO8PT01B4bUVFRwsfHR6SkpGhz2Nvb\n",
              "i8zMTHHkyBFhaGgoTp8+LYQQ4tdffxUdOnR4aabvvvtOfPPNN9qPv/nmGzFq1CghhBD+/v7Cx8dH\n",
              "PHnyRGRlZYk6deqIHj16iOzsbJGeni7s7OzExYsXhRBCtG7dWrRt21ZkZ2eLjIwM0bhxY7Fx40Yh\n",
              "hBAdOnQQR48eFUIIoVQqRceOHUVQUJDIysoS1atXF3/99ZcQQogDBw4IAOLIkSP55r169aqoVKmS\n",
              "iIyMFEIIkZ2dLZKTk1+5L5/fL2+99Zaws7MTixcvFg0bNtQeQ1ZWVmLgwIHa12vcuLGYPHmy6Ny5\n",
              "c65jaPz48aJ///5Co9EIAMLJyUn4+/sLIYr2GFq7dq1o0qSJSE5OFkIIkZiYKFQq1Uu/9xqNRsTH\n",
              "x2v/PWLECDFr1iwhRM55QCaTab8/+UlKShIKhULExMQIIYR49OiRqFGjhrh37564deuWACB27twp\n",
              "hBBi5cqVonz58uLw4cNCCCF++OEH0bt3b+3rARAHDx4UQggRGBgo6tWrJzQajThx4oTo3Lmz9rx2\n",
              "/Phx0aBBAyGEEIsWLRJt27YVWVlZIisrS7Rp00a0bt36pZkDAgLEyJEjhVqtFkII8fDhQyGEEJ99\n",
              "9pno37+/UKvVIj09XSgUCrFlyxYhRM5x3KNHD6FUKsXjx4+Fo6OjCA4OFkII8fbbb4utW7cKIYRI\n",
              "S0sT1tbW2v0KQMydO1fUrFlT7NixQ5ibmwulUiliYmKEgYGB2Lt3rxBCiBEjRggA4tatWy/dF3l9\n",
              "X/z9/cXPP/8shBBi0qRJYtCgQUKj0Yjk5GTh4uKiPf7y06ZNG/H9999rP366P/z9/YW3t7fIyMgQ\n",
              "KpVK+Pr6ik2bNgkh/ju+hMg57zo4OIi7d+9qn+fu7i5SU1Nf+rpl6bwHQCxfvlwIIUTVqlVFnTp1\n",
              "RGpqqva8B0B7TqhcubIYNGiQ2L9/vwAg7OzsxMmTJ4UQOeeJoUOHCo1GI4QQ2v0ihBAXLlwQlStX\n",
              "1v4sTp06Vbyq5FmzZo0wNjYWly9fFkIIMWfOHPH2228LIYRYsmSJaN26tcjMzBRKpVJ07txZzJ49\n",
              "WwghhKWlpfZ1srOzRVpaWr6vceTIEeHo6Kh9fEZGhsjIyNCeH7Zt2yaEEOJ///ufcHZ21j7v6XEo\n",
              "hBCzZs0SH330kRBCaJ/39Bh4mef/73/Vz/jOnTvFTz/9JFq0aKH9GR42bJj2tTQajRg6dKj44Ycf\n",
              "tM/J77yQl5J4vnxeibgS/TyZTIYTJ05g4cKF2LdvHy5evIh58+Zp/zzUrFkzREREoGnTptixYwea\n",
              "NGkCtVoNIQSmTp2KiIgIRERE4MKFC691ZcLU1FT7b0NDQ+1VQCEE3n77be32IiIicP/+fTg5ORXN\n",
              "F66jU6dOoV69emjZsiUAwMDAADY2Nvk+3tLSEk5OThg4cCCWLVuGxMTEXF/7sw4ePIiPPvoIAGBn\n",
              "Z4devXrh4MGD2s8/XZdWt25dmJqaonfv3gByrnonJibq9GbRf/75B25ubnBzcwOQ8xt5TEwM7t+/\n",
              "DwB48OABWrVqhR9++AF+fn4AgP379+PGjRto1aoVFAoFevfuDQMDA9y5c0ebq2nTpgByjpeoqKiX\n",
              "Zti1axc2bNigvUK/efNm7ZVXAOjevTtMTU1hbGwMNzc3dOzYEUZGRihfvjwaNGigvaIGAH5+fjAy\n",
              "MoKZmRkGDhyIgwcPIiMjA4cOHcL48eOhUCjg5eWFGzdu4OrVq7hy5Qrkcjnat28PAOjQoQNq1679\n",
              "0rx//fUXOnXqBBcXFwCAkZERrKysXrkvn98vkZGRqFevHkaNGgWVSoWzZ8/C2toa6enp6N69+wuv\n",
              "a2RklOsYOnjwIIYPH65di/j0OACK9hjau3cvRowYob3qZW1tDUNDwzy/xqffeyEEfv75ZzRq1Aju\n",
              "7u74448/cl3NqF27Nlq3bv3S/R4cHIybN2+ic+fOUCgU2u/Z1atXAeScS54uFfPy8oK5uTneeust\n",
              "AIC3t3eu48TR0RHt2rUDAPTt2xdxcXG4e/cudu/ejXPnzqFp06ZQKBQYO3YsEhMT8eTJExw6dAh+\n",
              "fn4wNjaGsbGx9qryy+zduxeTJk2CgUHOfweVKlUCkPP9GTZsGAwMDFC+fHn4+fnhr7/+0j6vX79+\n",
              "kMvlKFeuHBQKhXY/Dh48WHuFeevWrWjbti1sbW21z3u61KJWrVqQy+WIi4tDaGgoHB0dceDAAQDA\n",
              "tWvXIJfLX7kvXvV9OXToEIYOHQqZTAYrKyv079//pfsiPT0dJ06cwCeffKK97+n+AICePXvCzMwM\n",
              "hoaG8Pb21n7NCQkJ6NOnD1xdXdG2bVskJCTkukrWp08fnZcnlObzHpBzZTwjIwOxsbHIyMhAy5Yt\n",
              "tec94L9jwNTUFEOHDkXHjh1Ru3ZttGzZMtd5IiAgIM+1zocPH0bnzp1RpUoVAMDIkSNfa7/7+vqi\n",
              "fv36AIDhw4fj6NGjUKvVOHjwIAICAmBiYgK5XI5hw4Zpfx7atWuHQYMGYcGCBbh16xbMzc3z3f4f\n",
              "f/yBQYMGaXOZmZlp94mpqSl69eoF4MXvz6ZNm+Dl5QVXV1esXLky17nJyMgIAwcOfK2v71mv+hmf\n",
              "OXMmDh06hL/++kv7M7xr1y78+OOPUCgUaNSoEf7++2/t9wzI/7yQl5J4vnye/NUPkd6aNWswffp0\n",
              "REdH4++//8b8+fNx4cIFWFhYwNbWFtnZ2bn+FHzr1i1Uq1YNffv2RadOnWBnZ4f09HT06NEDP/30\n",
              "E3r37g0bGxsolUpcvHgRjRo1KlCujh07YsaMGTh//jzc3d0BACEhIfD29i6Ur7uoyOVyqNVq7cdP\n",
              "f/kwNDTE6dOnERwcjKNHj8LHxwebN2/WFuEv8/xJ7PlfPJ5+LJPJIJPJCnVNaYUKFVC3bl3s3bsX\n",
              "bdu2hUwm0/6Cs2nTphcef//+/Xx/McqPEAK//PILOnTokOfn8/t6X2f7T/MCwOnTp1/4xeX8+fN5\n",
              "PqcoPJ/72ePkaXGUnp4OuVyOWrVqaT/39BiSyWS5jqFr167h/Pnz2iLnZbmL6xjK73uzadMmHD58\n",
              "GMeOHYOlpSUWLlyIw4cPax/7sv8YnxJCoGHDhggODn7hc9HR0TAxMcnza3o+S16eft1CCPj7++P7\n",
              "779/ZZ7CPE5e9f15mr1nz54YN24cYmNjsXbtWnz22Wev9bwqVapg69at8PPzQ1RU1CuPlaeff53v\n",
              "S35fg67yyz5ixAi888472L59O2QyGTw9PXOt+dUl4+sqTee9iRMn4tNPP831ufye8/znX3ffFvY5\n",
              "89ntbd++HWfPnsXRo0fxzjvvYObMmXj//fd13qaJiYl2u8+ef59eNDx16hTs7OywZ88efPXVV9rn\n",
              "mZmZaX8JfhPP76OmTZvizz//xM2bN9GgQQMAOcfE9u3b4ezsnOc2dDkGSsP5skRciVar1WjUqBE6\n",
              "dOiAhQsXwtHREZ06dUK9evW0V1qfXQd19OhRNG7cGAqFAr6+vvjxxx9hZWWFAQMGICAgAG+99ZZ2\n",
              "neiz/0nqqm7duti0aRM++ugjeHh4oH79+kX67m1d+fr64vr16/j7778BABqNBomJiahbt652zVZI\n",
              "SIj2t760tDQ8ePAALVu2xJdffokWLVogPDwcAGBhYYGUlBTtttu3b48VK1YAyHkj544dO/D2228X\n",
              "Sm5LS8tcr+Xj44MLFy5or+xs2bIF1apVQ7Vq1QDknHh27NiBmJgYDBs2DBqNBh07dsTBgwdzFaAh\n",
              "ISEFztSjRw/8/PPP2nW1jx8/xqVLlwq0rQ0bNkCpVOLJkyfYtGkT2rdvr/0Ne/bs2drHxcTE4N69\n",
              "e3BxcYFKpdKu1zp48OArryB17NgRBw4cwJUrVwDkrP1KSUl55b58nomJifYYGjRoEIKCgrBgwQLU\n",
              "qVMnz2NIqVTmOobq1KmDDRs2QAgBCwsLBAUFabddlMdQt27dsHTpUu1xlJycnOsXgrwkJSWhYsWK\n",
              "sLS0RFpaGtauXavz6/r6+uLWrVu5rpRFRETkWiP8uqKjo7Xf823btqFy5cqoXr06unXrhg0bNmiv\n",
              "Lmo0Gu3a1vbt22uPr+zsbO0V4Zfp1q0b5s6dC41GAyDne/F0W6tWrYIQAhkZGVi/fn2+xdSzTE1N\n",
              "0adPH0yfPh1RUVHo1KnTK5/z9K8erVu3Rs+ePeHp6ZnrTaj57YtXad++PdasWQMhBFJTU7F58+aX\n",
              "Pt7c3BytWrXSvo8G+G9/vExSUhJq1qwJmUyG48ePa9dc6qIsnfcMDAzg7e0Nc3Nz2Nvb49ChQ9rH\n",
              "xcTEAACcnZ2hUqmQmZmJtWvXas97J06c0F5xfJm2bdti//792rXDS5cufa2cp06d0p43V65cibfe\n",
              "eguGhoZo3749fvvtN2RnZ0OlUmHlypXo0KEDVCoVoqKi4OXlhUmTJqF3794v3efvvvsuNmzYgNjY\n",
              "WAA5+/Tp/s1PUlJSvhcNdfH8Mfaqn/G3334bq1evxrvvvouwsDAAOcfEnDlztAVsUlJSrivRuiiJ\n",
              "58vn6f2V6Ke/qX777be57jcyMnrhXbjfffcdgJwrZs925HjWuHHjMG7cuBfuf/qmRCDnz0NP2yC1\n",
              "adMm159NXF1dc70JoH379to/Qegba2tr7Ny5E5988gnS0tJgYGCAb7/9FjNnzoS/vz+WLVuGZs2a\n",
              "oWHDhgBy3mDUu3dvZGRkQCaTwcnJCf7+/gCATz75BG+//TbMzMzw559/YuHChRg5ciTc3NwghMAX\n",
              "X3yh/TPhm2rXrh3mzp0Ld3d3+Pr6YunSpdi4cSP8/PygUqlgbW2NrVu35vqt0cjICJs2bcKHH36I\n",
              "AQMGYP369dpfcB4/fozs7Gw0atQozys0r2Py5MnIyspC06ZNta87efJk7b7TRf369dG8eXMkJiai\n",
              "e/fu2isWGzduxMSJE+Hq6gqZTIby5ctj2bJlqF69OgIDAzFq1Cio1WrtmwVfpm7dulizZg0GDhwI\n",
              "pVIJQ0NDLF26FN7e3q/cl88yNDTE1q1btcdQdnY29u3bhwMHDmDMmDFYtmwZ6tevD5lMhsWLF0Op\n",
              "VMLR0RGVKlWCra0tnJ2dYWBgABcXF1SoUAGPHj3SvrGwKI+hQYMGISYmBr6+vpDL5ShfvnyuE3Ve\n",
              "/Pz8sHv3btSrVw+VKlVCy5Yt8+ze8zLW1tb4448/MGnSJHzyySdQKpVwcHAoUKuohg0bYu3atRg3\n",
              "bhyMjY2xefNmyGQytGzZEj/88AN69uwJlUqF7OxsdOnSBV5eXhg2bBguXryIBg0awNraGi1btsTZ\n",
              "s2df+jo///wzPv74Y7i5ucHIyAhNmjTBihUr8OWXX2LcuHHa5QR9+vRB3759Xyv74MGD4e3tjcmT\n",
              "J2uX0TzVoEEDPHz4EB07dtS+Sa1SpUpYvXo1JkyYgPv376NHjx65loDkty9e5csvv8SHH34IFxcX\n",
              "VKpUCS1atHjlG7/Xr1+PsWPHomHDhjAyMkL37t3zfcPVU7Nnz8aoUaPw7bffQqFQFOg4LkvnvaZN\n",
              "m2LRokVYvXo1GjRogPj4+FznPQAwNjZGYGAg2rRpg7179+L333+HsbExevToAV9f31e+nqurK6ZP\n",
              "n46WLVvC3Nxcu0ziVXx9fTF58mTcuHEDtra2+O233wDkLO2IioqCp6cngJzaYMKECVCr1RgyZAgS\n",
              "ExMhl8tRqVKllxZjrVq1wtdff42OHTtCJpPB2NgY27Zte2mmTp06YcOGDahXrx5sbW3Rvn177bIe\n",
              "XYwbNw7Dhg2DmZkZ1q5d+1o/4y1btsSWLVvQu3dvrF+/Hj///DOmTJkChUIBAwMDyOVy/PDDD6hb\n",
              "t67OeUri+fJ5MvG0SiUiIpLQ3LlzERkZmau7BVFxWbt2LXbt2lVi+iOT9PT+SjQREZV+DRs2hEwm\n",
              "w/79+6WOQkT0WnglmiTx8OHDPNdXvv322/jxxx8lSJSzFiuvaWb+/v56Owa+W7du2rVeT1lbW5fa\n",
              "oT/PkvIYGjFiBE6fPv3C/adOnUK5cuWK9LULYt++ffj8889fuH/q1Kn5TngrzVauXJlnP91ffvnl\n",
              "td5IXVA870mvuL4HXl5eL7zxrWHDhvlO0yws33zzDXbs2PHC/du3b0edOnWK9LXzU9LOl7pgEU1E\n",
              "REREpKMS0Z2DiIiIiEifsIgmIiIiItIRi2giIiIiIh2xiCYiIiIi0hGLaCIiIiIiHbGIJiIiIiLS\n",
              "EYtoIiIiIiId/R+MuaELtdF1uQAAAABJRU5ErkJggg==\n",
              "\">\n",
              "      </div>\n",
              "      <script type=\"text/javascript\">\n",
              "        (() => {\n",
              "          const chartElement = document.getElementById(\"chart-7f6a6928-4e0f-4731-bb25-8d5f113790a2\");\n",
              "          async function getCodeForChartHandler(event) {\n",
              "            const chartCodeResponse =  await google.colab.kernel.invokeFunction(\n",
              "                'getCodeForChart', [\"chart-7f6a6928-4e0f-4731-bb25-8d5f113790a2\"], {});\n",
              "            const responseJson = chartCodeResponse.data['application/json'];\n",
              "            await google.colab.notebook.addCell(responseJson.code, 'code');\n",
              "          }\n",
              "          chartElement.onclick = getCodeForChartHandler;\n",
              "        })();\n",
              "      </script>\n",
              "      <style>\n",
              "        .colab-quickchart-chart-with-code  {\n",
              "            display: block;\n",
              "            float: left;\n",
              "            border: 1px solid transparent;\n",
              "        }\n",
              "\n",
              "        .colab-quickchart-chart-with-code:hover {\n",
              "            cursor: pointer;\n",
              "            border: 1px solid #aaa;\n",
              "        }\n",
              "      </style>"
            ]
          },
          "metadata": {}
        },
        {
          "output_type": "display_data",
          "data": {
            "text/plain": [
              "from matplotlib import pyplot as plt\n",
              "all_model_results['precision'].plot(kind='line', figsize=(8, 4), title='precision')\n",
              "plt.gca().spines[['top', 'right']].set_visible(False)"
            ],
            "text/html": [
              "      <div class=\"colab-quickchart-chart-with-code\" id=\"chart-41a5c27e-6ea5-4687-ac8f-4c3f85a1cf58\">\n",
              "        <img style=\"width: 180px;\" src=\"data:image/png;base64,iVBORw0KGgoAAAANSUhEUgAAAtsAAAFuCAYAAABQn9TzAAAAOXRFWHRTb2Z0d2FyZQBNYXRwbG90\n",
              "bGliIHZlcnNpb24zLjguMCwgaHR0cHM6Ly9tYXRwbG90bGliLm9yZy81sbWrAAAACXBIWXMAAA9h\n",
              "AAAPYQGoP6dpAABvpklEQVR4nO3dd1wUd/7H8ddSVQSsKIrYsAHSBFQsMWo05WIvSUTFXtNM7jxz\n",
              "l0u9mOTSo0YTDcZujPWMl1yKaWpUVOy9gRUrIEjZ3fn94WV/IVYUHMr7+XjM46G7U947Ozt89rvf\n",
              "74zFMAwDEREREREpcE5mBxARERERKalUbIuIiIiIFBIV2yIiIiIihUTFtoiIiIhIIVGxLSIiIiJS\n",
              "SFRsi4iIiIgUEhXbIiIiIiKFRMW2iIiIiEghUbEtIiIiIlJIVGyLiJjs559/pnz58thstpvOO3Lk\n",
              "SIYOHXoXUomISEGw6HbtIiIiIiKFQy3bIiJ3wGazYbfbzY4hIiJFlIptEZE/aNeuHWPHjqVHjx54\n",
              "enoSEBDArFmzAPjhhx+wWCwsWLCAhg0bUq5cOVJSUrh48SKjRo2idu3aVK5cmQcffJBDhw451mm1\n",
              "WnnnnXcIDAzE09MTPz8/3njjjTzrtFqtAKxevZrIyEi8vb2pXLkyrVq14sKFCwDExcURGxvrWO/x\n",
              "48fp06cP1apVo1q1avTt25cTJ044no+Li+ORRx5h7NixVK5cmWrVqvH8888X+j4UEZErVGyLiFzD\n",
              "jBkzGDRoEBcuXOCDDz5g6NChrFmzxvH8woULWbduHWlpaVStWpXu3buTlpbGli1bOHHiBE2bNuVP\n",
              "f/oTubm5ALz44otMmTKFmTNnkpqayrZt22jbtu01tx0bG8uYMWO4ePEiJ0+e5K233sLNze2q+Ww2\n",
              "G3/6059wdnZm37597N27F8Mw6NKlS57+30uXLqV169akpKSwbNkyXn/9dVavXl3Ae0xERK5FxbaI\n",
              "yDU8+OCDPPzww7i4uPDggw/SvXt3Pv30U8fzr7/+OpUrV8bd3Z2tW7eyZs0apk2bRqVKlXB3d+e1\n",
              "117j8OHDrF+/HsMweP/993n99deJjo7GycmJSpUq0bJly2tu283NjYMHD3LixAnc3Nxo2bIlHh4e\n",
              "V823YcMGtm7dypQpU/D29qZChQp89NFHbN68mY0bNzrma9WqFY888gjOzs60bNmSsLAwNmzYUPA7\n",
              "TURErqJiW0TkGurWrXvV/5OTk6/5/P79+7Farfj5+VGhQgUqVKhA5cqVAUhOTubs2bNcunSJRo0a\n",
              "3dK2V6xYwaFDh2jWrBkBAQG88MILji4mv5ecnEylSpWoWLGi47HKlStTsWJFkpKSHI/VqFEjz3Ie\n",
              "Hh6kp6ffUhYREbkzLmYHEBEpio4cOXLV//38/Bz/d3L6/7aK6tWr4+bmxpkzZ3B1db1qXYZhUL58\n",
              "efbt20fTpk1vuu2mTZsyb948ABITE+ncuTN+fn4MGzYsz3y1atXiwoULXLhwwVFwnz9/ngsXLuDv\n",
              "73/Lr1VERAqPWrZFRK5h1apVfPnll9hsNr766iuWLl3KoEGDrjlv69atCQ4OZtSoUaSkpABw4cIF\n",
              "Fi9eTGZmJhaLhccff5wJEyaQkJCAYRicP3+edevWXbWunJwc4uPjOXPmDADe3t44Ozvj4nJ120h0\n",
              "dDTBwcGMHTuWtLQ0UlNTGTNmDGFhYURFRRXg3hARkdulYltE5BoGDx7MjBkzqFChAmPGjGHq1Km0\n",
              "adPmmvM6OzvzzTffUK5cOZo3b46npyehoaEsXboUi8UCwMsvv8zQoUPp168fnp6ehISE8PPPP19z\n",
              "fV988QVBQUF4eHhwzz33EBcXx8CBA6+53ZUrV5KdnU1AQAANGjTAarWyYsUKnJ2dC25niIjIbdNN\n",
              "bURE/qBdu3a0bt2aV1991ewoIiJSzKllW0RERESkkKjYFhEREREpJOpGIiIiIiJSSNSyLSIiIiJS\n",
              "SFRsi4iIiIgUEhXbIiIiIiKFpFgW2++//77ZEUREREREbqpYFttHjx41O4KIiIiIyE0Vy2JbRERE\n",
              "RKQ4ULEtIiIiIlJIVGyLiIiIiBQSFdsiIiIiIoVExbaIiIiISCFRsS0iIiIiUkhUbIuIiIiIFBIV\n",
              "2yIiIiIihUTFtoiIiIhIIcl3sb1//35iYmJo2LAhUVFR7Ny586p57HY748aNIzAwkJCQEO69914O\n",
              "HDhw1XxxcXFYLBYuXrx4W+FFRERERIqyfBfbI0aMYPjw4ezbt4/x48cTFxd31TwrVqxgzZo1bN26\n",
              "lW3bttGhQweee+65PPMsWbIEV1fX2w4uIiIiIrfGZjfMjlBq5avYTklJISEhgdjYWAB69uxJcnLy\n",
              "Va3WFouF7OxssrKyMAyDtLQ0/Pz8HM+fPn2a1157jXfeeeem28zOziYtLS3PZLPZ8hNbREREpNRa\n",
              "f+gcD7z/E4fPZpgdpVTKV7GdnJyMr68vLi4uwJWi2t/fn6SkpDzzPfzww7Rr147q1avj6+vLd999\n",
              "x8svv+x4ftiwYbz55pt4enredJsTJ07E29s7z7Rhw4b8xBYREREplQ6kXGL47E3sO32Jj364ukuv\n",
              "FL5CGSCZkJDAjh07OH78OCdOnKBDhw6MHDkSgOnTp+Pv70/79u1vaV0TJkwgNTU1zxQdHV0YsUVE\n",
              "RERKjLOXshk0cwOpl3MJq1WBl7oEmx2pVMpXsV2rVi1OnjyJ1WoFwDAMkpKS8Pf3zzPfrFmzaN++\n",
              "PRUqVMDJyYmBAweyevVqAFavXs3y5cupU6cOderUASAkJIQtW7Zcc5vu7u54eXnlmZydnfP7OkVE\n",
              "RERKjcs5NoZ8lkDy+cv4VyrH9IGRlHVT/WSGfBXbPj4+REREMGfOHAAWL16Mn58fAQEBeearV68e\n",
              "33//PTk5OQCsXLmS4OAr36bmzp1LcnIyR44c4ciRIwBs27aN8PDwO30tIiIiIqWezW7w5IItbE2+\n",
              "SIVyrswcFEWV8u5mxyq1XPK7wLRp04iLi+O1117Dy8uL+Ph4AIYOHUqXLl3o0qULY8aMYffu3YSG\n",
              "huLq6kr16tWZOnVqgYcXERERkbxe/XIX/911GjdnJz7uH0m9quXNjlSqWQzDKHbXghk3btwtXclE\n",
              "REREpDT59JfDvLxyFwAfPhrOw6E1TE4kuoOkiIiISAnw9c5TvPLllUJ7/P2NVWgXESq2RURERIq5\n",
              "xOSLPLlgC4YBj0b7M/KeemZHkv9RsS0iIiJSjCWdy2TIzI1k5dpp16gqr3QNwmKxmB1L/kfFtoiI\n",
              "iEgxdTEzh7iZGziXkUNQDS8mPRaBi7PKu6JE74aIiIhIMZRttTF89iYOncnA17sMn8ZFUd493xea\n",
              "k0KmYltERESkmLHbDf68aBsbDp/H092F+EFRVPMqY3YsuQYV2yIiIiLFzNvf7GXF1hO4OFn4KLYZ\n",
              "jat7mR1JrkPFtoiIiEgxMn9DEpNXHwRgYo+mtG5QxeREciMqtkVERESKiR/2pvD3ZTsAeKJDA3pH\n",
              "1jI5kdyMim0RERGRYmDXiTTGzN2MzW7QI7wmT3dsYHYkuQUqtkVERESKuJOplxk8cyMZOTZa1qvM\n",
              "6z1DdC3tYkLFtoiIiEgRlp6Vy6D4jZxKy6KBT3mm9m+Gm4tKuOJC75SIiIhIEZVrszN67mb2nEqn\n",
              "Snl3Po2Lwrusq9mxJB9UbIuIiIgUQYZh8PelO/h5/1nKujrzaVwktSqVMzuW5JOKbREREZEiaPLq\n",
              "AyxMSMbJApMeCyfEr4LZkeQ2qNgWERERKWKWbTnOW//dB8BLXYLo0KSayYnkdqnYFhERESlCfj10\n",
              "jj9/sRWAYW3q0r9lHXMDyR1RsS0iIiJSRBxISWf4rARybQYPNq3OhAeamB1J7pCKbREREZEi4Ex6\n",
              "NnHxG0nLshLhX4F3+oTh5KRraRd3KrZFRERETJaZY2XIZxs5duEytSuX45MBkZRxdTY7lhQAFdsi\n",
              "IiIiJrLZDZ6Yn8i2Y6lULOfKzEHRVC7vbnYsKSAqtkVERERMYhgGr6zcxbe7T+Pm4sT0gZHUreJh\n",
              "diwpQCq2RUREREwy45fDzFx7BIB3+4TRrHYlcwNJgVOxLSIiImKCr3ac5J+rdgMw4YHGPBTia3Ii\n",
              "KQwqtkVERETuss1JF3hyQSKGAbEt/Bnetp7ZkaSQqNgWERERuYuOnstg6GcJZFvttG/sw4sPB2Gx\n",
              "6BJ/JZWKbREREZG75EJGDnHxGzmfkUNwTS8+fDQcF2eVYyVZvt/d/fv3ExMTQ8OGDYmKimLnzp1X\n",
              "zWO32xk3bhyBgYGEhIRw7733cuDAAQC2b99O27Ztady4McHBwQwePJjLly/f+SsRERERKcKycm0M\n",
              "n53A4bMZ1KxQlk8HRuHh7mJ2LClk+S62R4wYwfDhw9m3bx/jx48nLi7uqnlWrFjBmjVr2Lp1K9u2\n",
              "baNDhw4899xzAJQpU4ZJkyaxZ88etm7dSkZGBm+88cYdvxARERGRospuN3h20VY2HrmAZxkX4gdF\n",
              "4eNVxuxYchfkq9hOSUkhISGB2NhYAHr27ElycrKj1fo3FouF7OxssrKyMAyDtLQ0/Pz8AGjQoAEh\n",
              "ISEAODs7ExUVxZEjR667zezsbNLS0vJMNpstP7FFRERETPXm13tZue0kLk4WpsU2o2E1T7MjyV2S\n",
              "r2I7OTkZX19fXFyu/ORhsVjw9/cnKSkpz3wPP/ww7dq1o3r16vj6+vLdd9/x8ssvX7W+jIwMpk+f\n",
              "TteuXa+7zYkTJ+Lt7Z1n2rBhQ35ii4iIiJhm7vqjTP3xIACv9wwhJqCKyYnkbiqUHvkJCQns2LGD\n",
              "48ePc+LECTp06MDIkSPzzJOTk0Pfvn3p1KkT3bt3v+66JkyYQGpqap4pOjq6MGKLiIiIFKjVe1P4\n",
              "x/Ir49ue6tiAXs38TE4kd1u+euXXqlWLkydPYrVacXFxwTAMkpKS8Pf3zzPfrFmzaN++PRUqVABg\n",
              "4MCBdOrUyfF8bm4uffv2xdfXl/fff/+G23R3d8fd3T3PY87OzvmJLSIiInLX7Tieypi5m7HZDXpG\n",
              "+PFkhwZmRxIT5Ktl28fHh4iICObMmQPA4sWL8fPzIyAgIM989erV4/vvvycnJweAlStXEhwcDIDV\n",
              "auWRRx6hUqVKfPzxx7qupIiIiJQ4xy9eZvDMjWTm2IipX5mJPZqq5iml8n29mWnTphEXF8drr72G\n",
              "l5cX8fHxAAwdOpQuXbrQpUsXxowZw+7duwkNDcXV1ZXq1aszdepUABYuXMiSJUsICQkhPDwcgFat\n",
              "WjF58uQCfFkiIiIi5kjLymVw/EZS0rNpWK08H8U2w81F19IurSyGYRhmh8ivcePG8c4775gdQ0RE\n",
              "RCSPXJudQfEb+eXAWXw83Vk6phU1K5Q1O5aYSF+zRERERAqAYRhMWLKdXw6cpZybM5/GRanQFhXb\n",
              "IiIiIgXhw+8P8MWmYzhZYPJjEQTX9DY7khQBKrZFRERE7tCSzcd455t9ALzcNZh7G/uYnEiKChXb\n",
              "IiIiIndg7YGzjF+8DYAR99QjtkVtkxNJUaJiW0REROQ27Tudzog5m8i1GTwU4sv4zo3NjiRFjIpt\n",
              "ERERkduQkp7FoPiNpGdZiaxdkbd7h+LkpGtpS14qtkVERETyKSPbypCZCRy/eJm6VTz4ZEAkZVx1\n",
              "h2u5moptERERkXyw2uw8MX8L24+nUsnDjfi4KCp6uJkdS4ooFdsiIiIit8gwDF769y6+25OCu4sT\n",
              "nwyIpE4VD7NjSRGmYltERETkFk3/+TCzfz2KxQLv9Q2jWe2KZkeSIk7FtoiIiMgtWLX9JP9ctRuA\n",
              "vz3YhAea+pqcSIoDFdsiIiIiN7Hp6HmeWpgIwICWtRnSuq65gaTYULEtIiIicgNHzmYw9LMEcqx2\n",
              "Ojbx4YWHg7BYdIk/uTUqtkVERESu43xGDnHxG7iQmUuInzcfPBqOs66lLfmgYltERETkGrJybQyb\n",
              "lcCRc5nUrFCW6QMjKefmYnYsKWZUbIuIiIj8gd1u8MznW9l09AKeZVyYOSgKH88yZseSYkjFtoiI\n",
              "iMgfvPHVHr7cfhJXZwvT+jejQTVPsyNJMaViW0REROR3Zv96lGk/HQLgzV4hxNSvYnIiKc5UbIuI\n",
              "iIj8z3e7T/PC8h0AjLuvId3D/UxOJMWdim0RERERYPuxVMbO24LdgD6RfjzePsDsSFICqNgWERGR\n",
              "Uu/YhUwGf7aRy7k22jSowj+7N9W1tKVAqNgWERGRUi31ci6D4jdyJj2bxtU9mdwvAldnlUhSMHQk\n",
              "iYiISKmVY7UzcvYm9qdcopqXO5/GReFVxtXsWFKCqNgWERGRUskwDP66ZBvrDp3Dw82ZT+OiqFGh\n",
              "rNmxpIRRsS0iIiKl0nvf7mfJ5uM4O1mY1C+CoBreZkeSEkjFtoiIiJQ6ixKSef+7/QC80jWYexv5\n",
              "mJxISioV2yIiIlKqrDlwlglLtgMwql19Hmvub3IiKclUbIuIiEipsfdUOiNnb8JqN3g4tAZ/7tTI\n",
              "7EhSwuW72N6/fz8xMTE0bNiQqKgodu7cedU8drudcePGERgYSEhICPfeey8HDhxwPL9y5UoaN25M\n",
              "gwYN6NGjB2lpaXf2KkRERERu4nRaFoPiN5CebSW6TiXe6h2Ck5OupS2FK9/F9ogRIxg+fDj79u1j\n",
              "/PjxxMXFXTXPihUrWLNmDVu3bmXbtm106NCB5557DoBLly4xZMgQli1bxv79+6lRowavvPLKHb8Q\n",
              "ERERkevJyLYyeOZGTqRmUa+KB9P6N8PdxdnsWFIK5KvYTklJISEhgdjYWAB69uxJcnJynlZrAIvF\n",
              "QnZ2NllZWRiGQVpaGn5+fgD85z//ITw8nMaNGwMwevRo5s+ff91tZmdnk5aWlmey2Wz5epEiIiJS\n",
              "elltdsbO28zOE2lU9nBj5qBoKnq4mR1LSgmX/MycnJyMr68vLi5XFrNYLPj7+5OUlERAQIBjvocf\n",
              "fpjVq1dTvXp1PD09qVmzJj/++CMASUlJ1K5d2zFvnTp1OHnyJFar1bHe35s4cSIvvfRSnsdatGiR\n",
              "n9giIiJSShmGwQsrdrJ67xnKuDoxfWAk/pXLmR1LSpFCGSCZkJDAjh07OH78OCdOnKBDhw6MHDny\n",
              "ttY1YcIEUlNT80zR0dEFnFhERERKomk/HWLu+iQsFnivbzjh/hXNjiSlTL5atmvVqpWnFdowDJKS\n",
              "kvD3z3vJnFmzZtG+fXsqVKgAwMCBA+nUqRMA/v7+fPPNN455jxw5kqe1/I/c3d1xd3fP85izs/pY\n",
              "iYiIyI2t3HaC1/+zB4C/PxTI/cHVTU4kpVG+WrZ9fHyIiIhgzpw5ACxevBg/P788XUgA6tWrx/ff\n",
              "f09OTg5w5eojwcHBANx///1s3ryZPXuuHPxTpkzhkUceueMXIiIiIvKbhCPnGff5VgDiYuowpHVd\n",
              "kxNJaZWvlm2AadOmERcXx2uvvYaXlxfx8fEADB06lC5dutClSxfGjBnD7t27CQ0NxdXVlerVqzN1\n",
              "6lQAPD09mT59Ot26dcNqtRIcHMxnn31WsK9KRERESq1DZy4xdFYCOVY79wVW4/k/BZodSUoxi2EY\n",
              "htkh8mvcuHG88847ZscQERGRIubcpWy6T1lL0vlMQv28WTC8JWXd1P1UzKM7SIqIiEiJkJVrY+is\n",
              "BJLOZ1KrUlmmD4xSoS2mU7EtIiIixZ7dbvD0wkS2JF3Eu6wr8XHRVPV0v/mCIoVMxbaIiIgUe6+t\n",
              "2s1/dpzCzdmJj/s3I8CnvNmRRAAV2yIiIlLMfbb2CNN/OQzAv3qH0LxeZZMTifw/FdsiIiJSbH27\n",
              "6zQv/XsnAH/u3IiuYTVNTiSSl4ptERERKZa2HbvI4/O3YDfgkahajG5X3+xIIldRsS0iIiLFTvL5\n",
              "TAbPTOByro22DavySrdgLBaL2bFErqJiW0RERIqV1MxcBs3cyNlL2TSu7snkx8JxdVZJI0WTjkwR\n",
              "EREpNrKtNkbMSeBAyiWqe5UhflAUnmVczY4lcl0qtkVERKRYMAyDvy7ezq+HzlPe3YX4QVH4epc1\n",
              "O5bIDanYFhERkWLh3W/2sXTLcZydLEzuF0ETXy+zI4nclIptERERKfI+35jMB98fAOC17sHc07Cq\n",
              "yYlEbo2KbRERESnSft5/hueWbgdg7L0B9I3yNzmRyK1TsS0iIiJF1u6TaYyasxmr3aBrWA2e6dTQ\n",
              "7Egi+aJiW0RERIqkU6lZDJ65kUvZVprXrcSbvUJ0LW0pdlRsi4iISJFzKdvKoJkbOZmaRf2qHnzc\n",
              "PxJ3F2ezY4nkm4ptERERKVJybXbGzN3M7pNpVCnvxsxB0XiX07W0pXhSsS0iIiJFhmEY/GP5Dn7c\n",
              "d4Yyrk7MGBhFrUrlzI4lcttUbIuIiEiR8dGPB5m/IRmLBT54JJzQWhXMjiRyR1Rsi4iISJGwPPE4\n",
              "b361F4AX/hRIp6DqJicSuXMqtkVERMR06w+d48+LtgEwuFVd4lrVNTmRSMFQsS0iIiKmOnjmEsNn\n",
              "byLHZqdzUDX+9lATsyOJFBgV2yIFKPVyLh/9cJA9p9LMjiIiUiycvZRNXPwGUi/nElarAu/1DcfZ\n",
              "SdfSlpJDxbZIATlyNoMeU9bwxld7ePTjX0k+n2l2JBGRIu1yjo0hnyWQfP4y/pXKMX1gJGXddC1t\n",
              "KVlUbIsUgF8PnaPblDUcPJMBwIXMXEbN3URWrs3kZCIiRZPNbvDUwi1sTb5IhXKuxA+Kokp5d7Nj\n",
              "iRQ4Fdsid2jhxiRip6/nYmYuobUqsGxMKyp5uLHjeBp/W7oDwzDMjigiUuT888vdfL3zNG7OTnzc\n",
              "P5L6VcubHUmkUKjYFrlNNrvBP7/cxfjF27HaDf4U4svC4S0Iq1WBSY+G42SBxZuPMfvXo2ZHFREp\n",
              "UuLXHObTNYcBeKtPKNF1K5mcSKTw5LvY3r9/PzExMTRs2JCoqCh27tx51Tzx8fGEhYU5pipVqtCj\n",
              "Rw/H82+88QaBgYGEhYXRokULNmzYcGevQuQuu5RtZfisBD75+cofi6c6NuDDR8Mp43qlr2FMQBUm\n",
              "PHBlNP3L/97FxiPnTcsqIlKUfL3zFC+v3AXAX+5vRJfQGiYnEilc+S62R4wYwfDhw9m3bx/jx48n\n",
              "Li7uqnkGDRpEYmKiY6pevTr9+vUDIDExkSlTprBhwwYSExMZO3YsY8eOveMXInK3HLuQSa+P1vLd\n",
              "nhTcXZz48NFwnurYEIsl7+j5oW3q8qcQX6x2g9FzN3M6LcukxCIiRUNi8kWeXLAFw4BHo/0ZdU99\n",
              "syOJFLp8FdspKSkkJCQQGxsLQM+ePUlOTubAgQPXXWb9+vWkpKTQpUsXACwWC7m5uWRkXBlIdvHi\n",
              "Rfz8/K67fHZ2NmlpaXkmm02DzsQcm46ep9vkNew5lU5VT3cWjmjJw9dplbFYLLzZK4RG1Tw5k57N\n",
              "qDmbyLHa73JiEZGiIfl8JkM/20hWrp12jaryStegqxopREqifBXbycnJ+Pr64uLiAlwpJvz9/UlK\n",
              "SrruMjNmzKB///64uroCEBoaytNPP03dunXx8/Pj3Xff5cMPP7zu8hMnTsTb2zvPpG4nYoZlW47z\n",
              "6MfrOXsph0BfL5aPaUVYrQo3XKacmwvT+jfDq4wLm5Mu8vLKq7tdiYiUdBczcxgYv8Fx/pz0WAQu\n",
              "zho2JqVDoR7pGRkZLFiwgCFDhjgeO3z4MEuWLOHAgQMcO3aMp59+mr59+153HRMmTCA1NTXPFB0d\n",
              "XZixRfKw2w3e+novTy1MJMdmp1NgNb4Y1ZIaFcre0vJ1qnjw/iPhWCww59ckPk9ILuTEIiJFR7bV\n",
              "xvDZmzh0JgNf7zLED4qivLuL2bFE7pp8Fdu1atXi5MmTWK1WAAzDICkpCX9//2vOv2jRIoKCgggM\n",
              "DHQ8tnjxYpo2bUqNGld+eh80aBBr1qwhJyfnmutwd3fHy8srz+TsrAvey92RmWNlzLzNTFp9pavU\n",
              "qHb1mRrbjHJu+ftDcW9jH57q0BCAvy/bwbZjFws6qohIkWO3G/zli21sOHweT3cX4gdFUc2rjNmx\n",
              "RO6qfBXbPj4+REREMGfOHOBK4ezn50dAQMA1558xY0aeVm2AevXqsWbNGi5dugTAypUradiwIW5u\n",
              "breTX6TQnErNos+0dfxnxyncnJ14u3co4+9vjNNt3kb48fYBdGxSjRyrnZGzN3HuUnYBJxYRKVre\n",
              "/mYvyxNP4OJk4aPYZjSu7mV2JJG7Lt+/40ybNo24uDhee+01vLy8iI+PB2Do0KF06dLFMRBy7969\n",
              "JCYmsmrVqjzLd+/enY0bNxIZGYm7uzseHh7MmzevAF6KSMHZduwiQz9LICU9m0oebkzr34yoOnd2\n",
              "HVgnJwvv9A2l26Q1HDqbwePztzBrcLT6LYpIiTR/QxKTVx8E4LUeTWndoIrJiUTMYTGK4e3txo0b\n",
              "xzvvvGN2DCmhVm0/ybjPE8nKtdOwWnlmDIyiVqVyBbb+/afT6Tp5DZk5Noa1qcvfHgq8+UIiIsXI\n",
              "j/vOMHjmRmx2gyfaBzCuUyOzI4mYRk1qIv9jGAYffref0XM3k5Vr595GVVk8KqZAC22ABtU8eat3\n",
              "KACf/HyYFVtPFOj6RUTMtOtEGqPnbMJmN+gRXpOn72todiQRU6nYFgGycm08tTCRt7/ZB8DgVnWZ\n",
              "PjAKzzKuhbK9B5v6MvJ/N3MY/8U29pxKK5TtiIjcTSdTLzN45kYycmy0rFeZ13uG6FraUuqp2JZS\n",
              "LyU9i0c+/tUxiOe17k35x8OBON/mQMhb9efOjWjToAqXc22MmL2J1MzcQt2eiEhhSs/KZVD8Rk6l\n",
              "ZRHgU56psc1wc1GZIaJPgZRqu0+m0W3SGhKTL+Jd1pVZg6N5rPm1L2VZ0JydLHzwSDg1K5Tl6LlM\n",
              "nlq4Bbu92A2hEBEh12Zn9NzN7DmVTpXy7sTHReFdrnB+GRQpblRsS6n1za7T9PxoLSdSs6hXxYNl\n",
              "Y1oRE3B3R8tX/N+VTtxdnFi99wzvfbvvrm5fROROGYbB35fu4Of9Zynr6syncZEFPtZFpDhTsS2l\n",
              "jmEYTPvxIMNnJ5CZY6NVQGWWjm5F3SoepuQJrunNxB5NAfjg+wN8s+u0KTlERG7H5NUHWJiQjJMF\n",
              "Pnw0nBC/CmZHEilSVGxLqZJjtfOXL7Yx8T97MAzo19yfmYOiTf+5s0eEH3ExdQAYtzCRg2cumZpH\n",
              "RORWLNtynLf+e+UXuRe7BNExsJrJiUSKHhXbUmqcz8ghdsZ6Fm06hpMFXnw4kFe7BeNaRG4q87eH\n",
              "mhBdpxLp2VZGzN7EpWyr2ZFERK7r10Pn+MsX2wAY1qYuA1rWMTeQSBFVNKoMkUK2/3Q63SavYcPh\n",
              "83i6u/BpXBRxreoWqUtSuTo7MalfONW83DmQcok/L9pKMbznlIiUAgdS0hk+K4Ecm50Hgqsz4YEm\n",
              "ZkcSKbJUbEuJ9+O+M/SYspak85n4VyrHktExtGvkY3asa/LxLMOUfs1wdbbwnx2n+OjHg2ZHEhHJ\n",
              "40x6NnHxG0nLshLhX4F3+4bhVMiXShUpzlRsS4llGAYz1xxmUPwG0rOtRNepxLIxrWhQzdPsaDfU\n",
              "rHZFXuwSBMBbX+/lp31nTE4kInJFZo6VoZ9t5NiFy9SuXI5PBkRSxtXZ7FgiRZqKbSmRcm12nl++\n",
              "gxf/vQu7Ab2a+TF7aDSVPNzMjnZLHov2p29kLewGPLFgC8nnM82OJCKlnM1u8MT8RLYeS6ViOVdm\n",
              "Doqmcnl3s2OJFHkqtqXESc28chezOb8mYbHAhAca869eIbi7FJ/WF4vFwktdgwj18+ZiZi4jZm/i\n",
              "co7N7FgiUkoZhsErK3fx7e7TuLk48cmASNMulypS3KjYlhLl8NkMun+0hl8OnKWcmzMf949kxD31\n",
              "i9RAyFtVxtWZj2KbUdnDjV0n03hu6XYNmBQRU3y65ggz1x4B4N0+YUTWqWRuIJFiRMW2lBhrD56l\n",
              "2+Q1HDqTQQ3vMnwxMob7ivk1X2tUKMukxyJwdrKwdMtxPvvfHzsRkbvlqx0nefXLXcCVXwofCvE1\n",
              "OZFI8aJiW0qE+RuSGDBjA6mXcwmrVYFlY1sRWMPL7FgFomX9ykx4oDEAr365mw2Hz5ucSERKi81J\n",
              "F3hyQSKGAbEt/Bnetp7ZkUSKHRXbUqzZ7Ff6EU5Ysh2r3aBLaA0WDG+Bj2cZs6MVqCGt69IltAZW\n",
              "u8HouZs4lZpldiQRKeGOnstg2GcJZFvttG/sw4sPBxXLLnkiZlOxLcVWelYuQz/byIxfDgMw7r6G\n",
              "vP9IWIm8DJXFYuH1nk1pXN2Ts5dyGDlnE9lWDZgUkcJxISOHQfEbOZeRQ3BNLz58NByXInK3XZHi\n",
              "Rp8cKZaSz2fS66N1rN57hjKuTkx+LIInOjQo0a0u5dxcmNa/GV5lXEhMvshL/95ldiQRKYGycm0M\n",
              "n53AobNXxr98OjAKD3cXs2OJFFsqtqXYSThynm6T17D3dDo+nu58PqJlqRmwU7uyBx88Go7FAvPW\n",
              "J7FwY5LZkUSkBLHbDZ5dtJWNRy7g6e5C/KBofLxKVrc8kbtNxbYUK0s2H+OxT9ZzLiOHoBpeLB/b\n",
              "ihC/CmbHuqvaNfLhmfsaAvD8sp0kJl80N5CIlBj/+u9eVm47iYuThan9m9GoetG+465IcaBiW4oF\n",
              "u93gza/2MO7zreTY7NwfVJ1FI1vi613W7GimGN0ugE6B1cix2Rk1ZxNnL2WbHUlEirl565P46IeD\n",
              "ALzeM4RWAVVMTiRSMqjYliIvM8fKqLmbmPK/PwJj7q3PlH4RlHMrvX0InZwsvN0nlHpVPTiZmsWY\n",
              "uZvJtdnNjiUixdTqvSk8v3wHAE91bECvZn4mJxIpOVRsS5F2MvUyvaeu4+udp3FzduLdvqH8uXNj\n",
              "nJxK7kDIW+VZxpWP+zfDw82Z9YfP8/p/9pgdSUSKoR3HUxkzdzM2u0HPCD+e7NDA7EgiJYqKbSmy\n",
              "tiZfpMukNew8kUZlDzfmD29O93C1tvxegI8nb/cJA2DGL4dZnnjc3EAiUqycuHiZwTM3kpljI6Z+\n",
              "ZSb2aFqir+okYgYV21Ikrdx2gj7T1nEmPZtG1TxZPrYVzWpXMjtWkXR/cHXG3FsfgPGLt7HrRJrJ\n",
              "iUSkOEjLymVQ/EZS0rNpWK08H8U2w81FZYFIQdOnSooUwzB4/9v9jJ23xXHXssWjY/CrWM7saEXa\n",
              "uPsa0bZhVbJy7YyYk8DFzByzI4lIEZZrszN6zmb2nk6nqqc78YOi8S7ranYskRIp38X2/v37iYmJ\n",
              "oWHDhkRFRbFz586r5omPjycsLMwxValShR49ejieT0pK4uGHH6ZRo0YEBgby4Ycf3tmrkBIhK9fG\n",
              "EwsSeffbfQAMa1OXTwZEUl43U7gpZycLHzwSRq1KZUk+f5knFiRisxtmxxKRIsgwDJ5bsp1fDpyl\n",
              "nJsz8XFR1KxQOq/sJHI35LvYHjFiBMOHD2ffvn2MHz+euLi4q+YZNGgQiYmJjql69er069cPuPIh\n",
              "7969OwMGDGDv3r3s2rWLPn363PELkeItJT2LRz7+lX9vPYGLk4U3ejblbw8F4qyBkLesQjk3psVG\n",
              "UsbViZ/2neHdb/aZHUlEiqAPvz/Aok3HcLLA5MciCK7pbXYkkRItX8V2SkoKCQkJxMbGAtCzZ0+S\n",
              "k5M5cODAdZdZv349KSkpdOnSBYDvvvsOd3d3evfu7ZinWrVq110+OzubtLS0PJPNZstPbCnidp5I\n",
              "pdukNSQmX6RCOVdmD2lO3yh/s2MVS4E1vHi9RwgAk1Yf4Oudp0xOJCJFyZLNx3jnf1/EX+4azL2N\n",
              "fUxOJFLy5avYTk5OxtfXFxeXKz/rWywW/P39SUq6/i2jZ8yYQf/+/XF1vdIXbNeuXVStWpVHHnmE\n",
              "8PBwunfvzqFDh667/MSJE/H29s4zbdiwIT+xpQj7785T9J66jhOpWdSv6sGy0a1oWb+y2bGKtW7h\n",
              "NRnUqg4Az3y+lQMpl8wNJCJFwtoDZxm/eBsAI9rWI7ZFbZMTiZQOhTpAMiMjgwULFjBkyBDHY1ar\n",
              "le+//57nn3+eLVu20Llz5xt2I5kwYQKpqal5pujo6MKMLXeBYRhM/fEgI+ZsIjPHRpsGVVgyuhV1\n",
              "qniYHa1EeO7BJjSvW4lL2VZGzE4gPSvX7EgiYqL9p9MZMWcTuTaDh0J8GX9/Y7MjiZQa+Sq2a9Wq\n",
              "xcmTJ7FarcCVgikpKQl//2v/5L9o0SKCgoIIDAx0PObv7094eDhBQUEA9O/fn82bN5Obe+1iwN3d\n",
              "HS8vrzyTs7NzfmJLEZNttfHnL7bx+n/2YBjQv0Vt4uOiNBK+ALk6OzHpsQiqe5Xh4JkMnl20FbsG\n",
              "TIqUSinpWcTFbyQ9y0pk7Yq83TtUNwYTuYvyVWz7+PgQERHBnDlzAFi8eDF+fn4EBARcc/4ZM2bk\n",
              "adUGeOCBBzh27BjHj1+5+caqVato0qSJo5uJlGznLmUTO309X2w6hrOThZe7BvFKt2BcnHUVyoJW\n",
              "1dOdj2IjcHN24uudp/nox4NmRxKRuywj28qQmQkcv3iZulU8+HhAJGVc1WAlcjfl+5pq06ZNIy4u\n",
              "jtdeew0vLy/i4+MBGDp0KF26dHEMhNy7dy+JiYmsWrUqz/IeHh5MnTqVhx56CMMw8Pb2ZsGCBQXw\n",
              "UqSo23c6nSGfbST5/GU8y7gw+bEI2jasanasEi3cvyIvdQ1iwpLtvPXfvQTV8KJdIw2IEikNbHaD\n",
              "J+ZvYfvxVCp5uBEfF0UlDzezY4mUOhbDMIrdb8vjxo3jnXfeMTuG5MPqvSk8MW8L6dlWalcux4yB\n",
              "kQT4eJodq9SYsGQb8zck413WlX+PbY1/Zd0kSKQkMwyDF1bsZNa6o7i7ODFvWAua1a5odiyRUkm/\n",
              "3UuhMgyDT385zJCZG0nPttK8biWWjW6lQvsue7FLEGG1KpB6OZcRczZxOUeXzxQpyab/fJhZ645i\n",
              "scB7fcNUaIuYSMW2FJpcm52/LdvByyt3YTegb2QtZg9pTkX9jHnXubs481FsBFXKu7H7ZBp/XbKN\n",
              "YvijlojcglXbT/LPVbsBeO6BJjzQ1NfkRCKlm4ptKRQXM3MY+OkG5q1PwmKBvz3YhNd7NsXNRYec\n",
              "WXy9yzL5sQicnSwsTzzBp2uOmB1JRArYpqPneWphIgADWtZmaJu65gYSERXbUvAOnblE9ylrWXvw\n",
              "HB5uzkwfEMmwtvWwWHSpKbM1r1eZvz3YBIDXVu1m3cFzJicSkYJy5GwGw2ZtIsdqp2MTH154OEjn\n",
              "XZEiQMW2FKi1B87SfcpaDp/NoGaFsnwxKoYOTaqZHUt+Z1CrOnQLq4HNbjB23mZOpl42O5KI3KHz\n",
              "GTnExW/gfEYOTWt688Gj4TjrWtoiRYKKbSkw89YnMeDTDaReziXCvwLLxrSiia+X2bHkDywWCxN7\n",
              "hBDo68W5jBxGztlMtlUDJkWKq6xcG8NmJXDkXCY1K5RlRlwk5dzyfWVfESkkKrbljlltdl76906e\n",
              "W7odq92gW1gN5g1rQVVPd7OjyXWUdXNmWv9meJd1ZWvyRV5YvtPsSCJyG+x2g2c+38qmoxfwLOPC\n",
              "zEFR+HiWMTuWiPyOim25I2lZuQydlUD8/wbb/blzI97tG6Y7lBUDtSqV44NHw7FYYMHGZOatTzI7\n",
              "kojk0xtf7eHL7SdxdbYwrX8zGlTTZVVFihoV23Lbks9n0nPKWn7Ye4Yyrk581C+CMfcGaEBOMXJP\n",
              "w6o826kRAC+s2MHmpAsmJxKRWzX716NM++kQAG/0DCGmfhWTE4nItajYltuy8ch5uk5ew/6US1Tz\n",
              "cmfRiBhdy7WYGt2uPvcHVSfXZjB6zmbOpGebHUlEbuL7Pad5YfkOAMbd15AeEX4mJxKR61GxLfn2\n",
              "xaZjPPbJr45R7yvGtqapn7fZseQ2WSwW3uoTSv2qHpxKy2LM3M3k2uxmxxKR69h09AJj523BbkCf\n",
              "SD8ebx9gdiQRuQEV23LL7HaD1/+zh2cXbSXXZvBg0+p8PqIl1bw0GKe4K+/uwscDIinv7sKGI+f5\n",
              "55e7zY4kItewPPE4j37yK5k5NloHVOGf3Zuq655IEadiW25JRraVkXM2MfXHgwA80T6ASY9GUNZN\n",
              "AyFLivpVy/NOn1AAZq49wtItx0xOJCK/sdsN3vlmH08uSHTctGZa/2a4OuvPuEhRp0+p3NSJi5fp\n",
              "NXUd/911GjcXJ95/JIxxnRrhpBsmlDidgqo7fpKesGQ7O0+kmpxIRC7n2Hh8/hY++G4/ACPa1mNa\n",
              "/0g83HUtbZHiQMW23FBi8kW6Tl7D7pNpVCnvxvxhLegaVtPsWFKInurYkHaNqpKVa2fE7E1cyMgx\n",
              "O5JIqXU6LYu+H69zXN7vzV4hTHiwie4OKVKMqNiW61qx9QR9p63jTHo2jat7smxMK5rVrmh2LClk\n",
              "zk4W3u8bjn+lchy7cJknFmzBZjfMjiVS6mw/lkqXSb+w7VgqFcu5MndoC/pE1jI7lojkk4ptuYph\n",
              "XOkb+MT8LWT/r2/gF6Ni8KtYzuxocpd4l3NlWv9mlHV15uf9Z3n7v3vNjiRSqvxn+0l6T1vL6bRs\n",
              "GviUZ/mY1kTXrWR2LBG5DSq2JY+sXBtjr9E3sLz6BpY6TXy9eKNXCABTfjjIVztOmpxIpOQzDINJ\n",
              "3+9n1NzNZOXauadhVRaPjsG/sho7RIorVVDikJKWxbBZCWw9loqrs4V/dmtKnyj9ZFmadQmtwbbk\n",
              "i0z/5TDPfL6V+lXL63bQIoUkK9fGXxdvY1niCQAGtarD3x5sgouuOCJSrOkTLADsOJ5Kl0lr2Pq/\n",
              "voFzhjRXoS0A/PWBxrSoV4mMHBsjZm8iLSvX7EgiJc6Z9Gwe/eRXliWewMXJwj+7B/PCw0EqtEVK\n",
              "AH2Kha92nKL31HWcSssiwKc8y8a0onm9ymbHkiLCxdmJSY9F4OtdhkNnMxi3cCt2DZgUKTC7T6bR\n",
              "bfIatiRdxKuMC7MGR9OveW2zY4lIAVGxXYoZhsGUHw4wcs4mLufaaNuwKktGx1C7sofZ0aSIqVLe\n",
              "namxzXBzceLb3aeZvPqA2ZFESoRvd52m50drOX7xMnWreLBsTCtiAqqYHUtECpCK7VIq22rjmUVb\n",
              "efOrK1eZiIupw6cDI/Eq42pyMimqQmtV4NWuwQC88+0+Vu9NMTmRSPFlGAYf/3SQYbMTyMyxEVO/\n",
              "MstGt6Je1fJmRxORAqZiuxQ6dymbfp+sZ8nm4zg7WXilWzAvdlHfQLm5PlG16NfcH8OAJ+dv4cjZ\n",
              "DLMjiRQ7OVY7f/liG6+t2oNhwGPN/flscDTe5dTYIVISqboqZfaeSqfr5DUkHL2AVxkXPhsUTf8W\n",
              "6hsot+4fDwcS7l+BtCwrI+dsIjPHanYkkWLjfEYOsdPXs2jTMZws8OLDgfyzWzCuauwQKbH06S5F\n",
              "Vu9JoedHazl24TJ1Kpdj6ZhWtG6gvoGSP+4uzkyNbUaV8u7sOZXO+MXbMQwNmBS5mf2n0+k2eQ0b\n",
              "jpzH092FT+OiiGtVF4tFt14XKclUbJcChmEw/edDDPlsI5eyrbSoV4mlo1tRX30D5TZV8yrDR7ER\n",
              "uDhZ+PfWE8z45bDZkUSKtB/2ptBjylqSzmfiX6kcS0bH0K6Rj9mxROQuULFdwuXa7Dy3dDuvfrkb\n",
              "uwGPRNVi1uDmVPRwMzuaFHNRdSrx/J8CAZj4nz2sPXjW5EQiRY9hGMxcc5jBMzeSnm0luk4llo1p\n",
              "pZtDiZQi+S629+/fT0xMDA0bNiQqKoqdO3deNU98fDxhYWGOqUqVKvTo0eOq+eLi4rBYLFy8ePG2\n",
              "wsuNXczMYcCMDczfkIyTBf7+UBMm9miKm4u+Y0nBGNCyNj3Ca2KzG4ydt4XjFy+bHUmkyMi12fn7\n",
              "sh28+O9d2A3o3cyPOUObU0mNHSKlSr6rrhEjRjB8+HD27dvH+PHjiYuLu2qeQYMGkZiY6JiqV69O\n",
              "v3798syzZMkSXF018rqwHDxziW6T17Du0DnKu7swfWAkQ9vUU99AKVAWi4XXejQlqIYX5zNyGDVn\n",
              "E1m5NrNjiZguNTOXuPgNzF2fhMUCzz3YmDd7haixQ6QUytenPiUlhYSEBGJjYwHo2bMnycnJHDhw\n",
              "/RtcrF+/npSUFLp06eJ47PTp07z22mu88847N91mdnY2aWlpeSabTX/Mb+SX/WfpPnkNR85lUrNC\n",
              "WRaPiqF942pmx5ISqozrlQGTFcu5su1YKv9YvkMDJqVUO3TmEt2nrGHNgXOUc3Pm4/6RDG9bX40d\n",
              "IqVUvort5ORkfH19cXFxAa60avn7+5OUlHTdZWbMmEH//v3ztGIPGzaMN998E0/Pm/dZmzhxIt7e\n",
              "3nmmDRs25Cd2qTLn16MMjN9AWpaVZrUrsnxsKxpVV99AKVy1KpXjg0fDcbLA5wnHmLv++ucEkZJs\n",
              "7YGzdJ+ylkNnMxyNHfcFqrFDpDQr1N+zMjIyWLBgAUOGDHE8Nn36dPz9/Wnfvv0trWPChAmkpqbm\n",
              "maKjowsrcrFltdl5ccVO/r5sBza7QY/wmswb1pwq5d3NjialRJsGVflz58YAvPTvnWw6esHkRCJ3\n",
              "19z1Rxnw6QZSL+cS4V+BZWNa0cTXy+xYImKyfBXbtWrV4uTJk1itV25iYRgGSUlJ+Pv7X3P+RYsW\n",
              "ERQURGBgoOOx1atXs3z5curUqUOdOnUACAkJYcuWLddch7u7O15eXnkmZ2fn/MQu8dKychn8WQIz\n",
              "1x4B4M+dG/F2n1DcXbSf5O4aeU89HmxanVybwag5m0hJzzI7kkihs9rsvPTvnfxt6Q6sdoNuYTWY\n",
              "N6wFVT3V2CEi4JKfmX18fIiIiGDOnDnExcWxePFi/Pz8CAgIuOb8M2bMyNOqDTB37tw8/7dYLGzb\n",
              "to0KFSrkL7kAcPRcBkM+S+BAyiXKujrzbt9Q7g/2NTuWlFIWi4U3e4Wy//Ql9qdcYszczcwd2kKD\n",
              "wqTESsvK5fF5W/hx3xkAnu3UkDH3Bqh/tog45Psv4LRp05g2bRoNGzbk9ddfJz4+HoChQ4eyYsUK\n",
              "x3x79+4lMTGRvn37FlxayWP9oXN0m7yGAymXqO5VhkUjW6rQFtOVd3dhWv9meLq7sPHIBf755S6z\n",
              "I4kUiqRzmfScspYf952hjKsTH/WLYGz7Biq0RSQPi1EMLxswbty4W7qSSUn2eUIyf1u6nVybQYif\n",
              "N58MiKSaVxmzY4k4fLvrNENnJQDwdu9QejbzMzmRSMFZf+gcI+ds4kJmLtW83Jk+IIqmft5mxxKR\n",
              "Iki/7RYzNrvBxFW7+csX28i1GTwU4svC4S1VaEuR0zGwGk90aADAc0u3s+N4qsmJRArG5wnJxM5Y\n",
              "z4XMXEL8vFkxtrUKbRG5LhXbxUhGtpURszcx7adDADzZoQGTHg2nrJsGQkrR9FSHBrRv7EO21c6I\n",
              "2Zs4n5FjdiSR23ZVY0dTNXaIyM2p2C4mjl+8TM+P1vLt7tO4uTjxwaPhPH1fQ/UNlCLNycnCu33D\n",
              "qFO5HMcvXuaJ+Vuw2uxmxxLJtz82djzRoQEfqrFDRG6Biu1iYHPSBbpOWsOeU+lUKe/OwuEt6BJa\n",
              "w+xYIrfEu6wr0/pHUtbVmV8OnOVf/91rdiSRfPljY8f7j4Qx7r6GODmpsUNEbk7FdhG3PPE4j3z8\n",
              "K2cvZdPE14sVY1sR7l/R7Fgi+dKouif/6h0CwLQfD/HltpMmJxK5NZuOXqDrpF/yNHZ0DatpdiwR\n",
              "KUZUbBdRdrvBO//dy5MLEsmx2rkvsBpfjGxJjQplzY4mclv+FFKD4W3rAfDnL7ay73S6yYlEbmzZ\n",
              "luM8+smvnL2UQxNfL5arsUNEboOK7SLoco6Nx+dv4YPvDwAw8p76TItthod7vu5BJFLk/KVzI1oF\n",
              "VCYzx8aI2ZtIvZxrdiSRq9jtBm//dy9PLczb2FFTjR0ichtUbBcxp9Oy6PvxOr7cfhJXZwv/6hXC\n",
              "Xx9orL6BUiK4ODvxwSPh1KxQlsNnMxi3MBG7vdhd6l9KsMs5NsbO38yHauwQkQKiYrsI2XE8lS6T\n",
              "fmHbsVQqlnNl7tAW9I6sZXYskQJVubw7U2Ob4ebixHd7Uvjg+/1mRxIB4FRqFn2mrWPV9lO4Olt4\n",
              "q3eoGjtE5I6p2C4i/rP9JL2mruV0WjYNfMqzfExroutWMjuWSKFo6ufNP7sFA/Det/v5bvdpkxNJ\n",
              "abft2EW6TPqF7cdTqeThxrxhLeilu56KSAFQsW0ywzCY9P1+Rs3dTFaunXsaVmXx6Bj8K5czO5pI\n",
              "oeodWYv+LWoD8NTCRA6fzTA5kZRWq7afpM+0daSkZ9OwWnmWj2lFVB01dohIwVCxbaKsXBvjPt/K\n",
              "W//dB8CgVnWYMTASrzKuJicTuTue/1MgkbUrkp5lZcTsBDKyrWZHklLEMAw+/G4/o//X2NGuUVUW\n",
              "j4qhViU1dohIwVGxbZIz6dk89smvLN1yHBcnC//sHswLDwfh4qy3REoPNxcnpvSLoKqnO/tOX+Iv\n",
              "i7dhGBowKYUvK9fGUwsTefubK40dg1vVZcbAKDzV2CEiBUyVnQn2nEqj2+Q1bE66iFcZF2YNjqZf\n",
              "89pmxxIxhY9XGT7qF4GLk4Uvt53k4//dDluksKSkZ/HIx7+yPPEELk4WXuvelH88HIizBkKKSCFQ\n",
              "sX2Xfbf7ND2nrOX4xcvUreLBsjGtiAmoYnYsEVNF1qnECw8HAvDGV3tYc+CsyYmkpNp1Io1uk9aQ\n",
              "mHwR77KuzBoSzWPN/c2OJSIlmIrtu8QwDKb/fIihsxLIyLERU78yS0fHUK9qebOjiRQJsS1q06uZ\n",
              "H3YDxs7bzLELmWZHkhLmm12n6TV1LSdSs6j3W2NHfTV2iEjhUrF9F+RY7UxYsp1Xv9yNYcBjzf35\n",
              "bHA0Fcq5mR1NpMiwWCy82i2YpjW9uZCZy8g5m8jKtZkdS0oAwzCY+uNBhs9OIDPHRuuAKiwd3Yq6\n",
              "VTzMjiYipYCK7UJ2ISOH/jPWs2BjMk4W+MefAvlnt2BcNRBS5CplXJ35KDaCSh5u7Diext+W7tCA\n",
              "Sbkj2VYbf/5iG6//Zw+GAbEt/IkfFIV3OQ2EFJG7QxVfITqQcoluU9aw/vB5yru7MCMuisGt62Kx\n",
              "aBCOyPX4VSzHpEfDcbLA4s3HmPPrUbMjSTF17lI2sdPX88WmYzhZ4KUuQbzarakaO0TkrtIZp5D8\n",
              "vP8M3aes4ei5TGpVKsuS0THc28jH7FgixUJMQBX++kBjAF769y4Sjpw3OZEUN/tOp9Ntyho2HrmA\n",
              "p7sLMwdFMzCmjtmxRKQUUrFdCGatO0Jc/EbSs6xE1anIstGtaFjN0+xYIsXKsDb1eCjEF6vdYNTc\n",
              "zZxOyzI7khQTq/em0GPKWpLPX8a/UjmWjomhbcOqZscSkVJKxXYBstrs/GP5Dv6xfCc2u0HPCD/m\n",
              "DG1O5fLuZkcTKXYsFgtv9gyhUTVPzqRnM3ruZnKsdrNjSRFmGAaf/nKYITM3cinbSnTdSiwf04oA\n",
              "HzV2iIh5VGwXkNTLuQyauZFZ645iscBfH2jMW71DcHdxNjuaSLHl4e7CtP7N8CzjwqajF3hl5S6z\n",
              "I0kRlWuz89zSHby8chd2A/pE+jFnSHMqeuiqTyJiLhXbBeDI2Qx6TFnDz/vPUtbVmamxzRh5T30N\n",
              "hBQpAHWqePD+I2FYLDD716MsSkg2O5IUMRczcxgwYwPzNyRhscDfH2rCGz1DcHPRnzgRMZ/ORHfo\n",
              "10Pn6DZlDQfPZODrXYYvRrWkc1B1s2OJlCjtG1fjqQ4NAfjbsh1sO3bR3EBSZBw8c4nuU9ay7tA5\n",
              "PNycmT4gkqFt6qmxQ0SKDBXbd2DhxiT6z1jPxcxcQmtVYPnYVgTV8DY7lkiJ9Hj7ADo28SHHamfk\n",
              "7E2cu5RtdiQx2S/7z9J98hoOn82gZoWyLB4dQ4cm1cyOJSKSh4rt22CzG/zzy12MX7ydXJvBw6E1\n",
              "WDi8BT6eZcyOJlJiOTlZeKdvGHWreHAiNYvH52/BatOAydJqzq9HGRi/gbQsK81qV2T52FY0ru5l\n",
              "diwRkavku9jev38/MTExNGzYkKioKHbu3HnVPPHx8YSFhTmmKlWq0KNHDwC2b99O27Ztady4McHB\n",
              "wQwePJjLly/f+Su5Sy5lWxk+K4FPfj4MwNMdG/LBI2GUcdVASJHC5lXGlWn9m1HOzZm1B8/x5td7\n",
              "zY4kd5nVZufFFTv5+7Id2OwG3cNrMndoc6roqk8iUkTlu9geMWIEw4cPZ9++fYwfP564uLir5hk0\n",
              "aBCJiYmOqXr16vTr1w+AMmXKMGnSJPbs2cPWrVvJyMjgjTfeuOMXcjccu5BJr4/W8t2eFNxdnJj0\n",
              "WDhPdmygvoEid1HDap681TsUgI9/OsS/t54wOZHcLWlZuQz+LIGZa48A8OfOjXinT6gaO0SkSMtX\n",
              "sZ2SkkJCQgKxsbEA9OzZk+TkZA4cOHDdZdavX09KSgpdunQBoEGDBoSEhADg7OxMVFQUR44cue7y\n",
              "2dnZpKWl5ZlsNlt+YheITUfP023yGvacSqeqpzsLR7TkTyE17noOEYEHm/oy8p76APzli23sOZVm\n",
              "ciIpbEfPZdBjylp+2nfmf1d9imDMvQFq7BCRIi9fxXZycjK+vr64uLgAV2464e/vT1JS0nWXmTFj\n",
              "Bv3798fV1fWq5zIyMpg+fTpdu3a97vITJ07E29s7z7Rhw4b8xL5jy7Yc59GP13P2Ug5BNbxYMbYV\n",
              "YbUq3NUMIpLXs50a0jqgCpdzbYyYvYnUzFyzI0khWX/oHN0mr+FAyiWqe5Vh0ciW3B/sa3YsEZFb\n",
              "UqgDJDMyMliwYAFDhgy56rmcnBz69u1Lp06d6N69+3XXMWHCBFJTU/NM0dHRhRnbwW43eOvrvTy1\n",
              "MJEcm53OQdVYNLIlvt5l78r2ReT6XJyd+PDRcGpWKMvRc5k8tXALdrthdiwpYJ9vTCZ2xnouZOYS\n",
              "6ufNirGtCK6pqz6JSPGRr2K7Vq1anDx5EqvVCly5NW5SUhL+/v7XnH/RokUEBQURGBiY5/Hc3Fz6\n",
              "9u2Lr68v77///g236e7ujpeXV57J2fnu9M/7dM1hJq2+0kVmdLv6fNSvGeXcXO7KtkXk5ip6uDGt\n",
              "fzPcXZxYvfcM73233+xIUkBsdoPXVu3mL4u3kWszeCjEl4UjWuLjpas+iUjxkq9i28fHh4iICObM\n",
              "mQPA4sWL8fPzIyAg4Jrzz5gx46pWbavVyiOPPEKlSpX4+OOPi3R/u8ea+9OsdkXe6RPKX+5vjJNT\n",
              "0c0qUloF1/RmYo+mAHzw3X6+2XXa5ERyp3676tPHPx0C4MkODZj0aLgGQopIsWQxDCNfv7vu3buX\n",
              "uLg4zp07h5eXF/Hx8TRt2pShQ4fSpUsXx0DIvXv3EhkZyYkTJ/D09HQsP3fuXGJjYwkJCXEU2q1a\n",
              "tWLy5Mm3nGHcuHG88847+Yl92+x2Q0W2SDHwwvIdfLbuKJ7uLiwb24r6VcubHUluw7ELmQz9LIE9\n",
              "p9Jxd3HiX71D6RKqwegiUnzlu9guCu5msS0ixUOuzc5jn/zKxiMXaOBTnqVjWlHeXd2+ipNNR88z\n",
              "YvYmzl7KoaqnOx/3b0a4f0WzY4mI3BHdQVJESgRXZycm94ugmpc7+1Mu8ZcvtlIM2xJKraVbjjmu\n",
              "+hTo68XyMa1UaItIiaBiW0RKDB/PMkzp1wxXZwurtp9i6o+HzI4kN2G3G/zr6z08vXArOTY7nQKr\n",
              "8cWoltSooKs+iUjJoGJbREqUZrUr8sLDQQD86+s9/Lz/jMmJ5Hoyc6yMnruZyasPAleu+jQ1Vld9\n",
              "EpGSRcW2iJQ4/Zr70yfSD7sBj8/fQvL5TLMjyR+cTL1Mn2nr+GrnKdycnXTVJxEpsVRsi0iJY7FY\n",
              "eLlrMKF+3lzMzGXknE1k5drMjiX/szX5Il0nrWHH8TQqe7gxb1hzekT4mR1LRKRQqNgWkRKpjKsz\n",
              "H8U2o7KHGztPpPHcku0aMFkErNx2gj7T1pGSnk2jap4sG9OKyDqVzI4lIlJoVGyLSIlVo0JZPnws\n",
              "HGcnC0u2HOeztUfMjlRqGYbB+9/uZ+y8LWRb7bRv7MMXo1pSq1I5s6OJiBQqFdsiUqLF1K/ChAca\n",
              "A/Dql7vZcPi8yYlKn6xcG08sSOTdb/cBMLR1XT4ZEIlnGVeTk4mIFD4V2yJS4g1pXZeHQ2tgtRuM\n",
              "nruZU6lZZkcqNVLSsuj78a/8e+sJXJwsvN6jKX//UyDOGggpIqWEim0RKfEsFgtv9GxK4+qenL2U\n",
              "zai5m8i2asBkYdtxPJWuk9ewNfkiFcq5MntIcx6J9jc7lojIXaViW0RKhXJuLkzr3wyvMi5sSbrI\n",
              "S//eZXakEu3rnafoPXUdJ1OzqF/Vg2WjW9GyfmWzY4mI3HUqtkWk1Khd2YP3Hw3HYoF565NYuDHJ\n",
              "7EgljmEYfPTDQUbO2cTlXBttGlRhyehW1KniYXY0ERFTqNgWkVLl3kY+jOvYEIDnl+0kMfmiuYFK\n",
              "kGyrjWcWbeWNr/ZgGDCgZW3i46LwLquBkCJSeqnYFpFSZ8y9AdwXWI0cm51RczZx9lK22ZGKvXOX\n",
              "sun3yXqWbD6Os5OFl7sG8XLXYFyc9WdGREo3nQVFpNRxcrLwTp9Q6lXx4GRqFmPnbcZqs5sdq9ja\n",
              "eyqdrpPXkHD0Ap5lXJg5KIoBLeuYHUtEpEhQsS0ipZJnGVc+HtAMDzdnfj10non/2WN2pGJp9Z4U\n",
              "en60lmMXLlO7cjmWjm5FmwZVzY4lIlJkqNgWkVIrwMeTt/uEAjDjl8MsTzxucqLiwzAMpv98iCGf\n",
              "beRStpUW9SqxbHQrAnzKmx1NRKRIUbEtIqXa/cG+jG5XH4Dxi7ex+2SayYmKvhyrneeWbufVL3dj\n",
              "N+CRqFrMGtycih5uZkcTESlyVGyLSKn3TKdGtGlQhaxcOyNmb+JiZo7ZkYqsCxk5DPh0PfM3JONk\n",
              "gb8/1ISJPZri5qI/JyIi16Kzo4iUes5OFj54JBy/imVJOp/JkwsSsdkNs2MVOQdSLtF9yhp+PXSe\n",
              "8u4uTB8YydA29bBYdOt1EZHrUbEtIgJU9HBjWv9mlHF14sd9Z3jv231mRypSft5/hu5T1nDkXCZ+\n",
              "FcuyeFQM7RtXMzuWiEiRp2JbROR/gmp483qPEAA+/P4AX+88ZXKiomH2uiPExW8kPctKZO2KLBvT\n",
              "ikbVPc2OJSJSLKjYFhH5nW7hNRnUqg4Az3y+lQMpl8wNZCKrzc4/lu/g+eU7sdkNekTUZO6w5lQp\n",
              "7252NBGRYkPFtojIHzz3YBOi61biUraVEbMTSM/KNTvSXZd6OZdBMzcya91RLBYYf39j3u4diruL\n",
              "s9nRRESKFRXbIiJ/4OrsxOTHIqjuVYaDZzJ4dtFWDKP0DJg8cjaDHlPW8PP+s5R1dWZqbDNGtauv\n",
              "gZAiIrdBxbaIyDVU9XTno9gI3Jyd+Hrnaab8cNDsSHfFuoPn6DZlDQfPZODrXYZFI1vSOai62bFE\n",
              "RIotFdsiItcR7l+Rl7oGAfDWf/fy474zJicqXAs3JtF/xnouZuYSWqsCy8e0Irimt9mxRESKtXwX\n",
              "2/v37ycmJoaGDRsSFRXFzp07r5onPj6esLAwx1SlShV69OjheH7lypU0btyYBg0a0KNHD9LSdMc2\n",
              "ESmaHo3259HoWhgGPDF/C0nnMs2OVOBsdoNXV+5i/OLtWO0GD4fWYOHwFvh4lTE7mohIsZfvYnvE\n",
              "iBEMHz6cffv2MX78eOLi4q6aZ9CgQSQmJjqm6tWr069fPwAuXbrEkCFDWLZsGfv376dGjRq88sor\n",
              "d/xCREQKy4tdggitVYHUy7mMmLOJyzk2syMVmPSsXIbNSmD6L4cBeLpjQz54JIwyrhoIKSJSEPJV\n",
              "bKekpJCQkEBsbCwAPXv2JDk5mQMHDlx3mfXr15OSkkKXLl0A+M9//kN4eDiNGzcGYPTo0cyfP/92\n",
              "84uIFDp3F2emxkZQpbwbu0+m8dcl20rEgMnk85n0+mgd3+9Jwd3FiUmPhfNkxwYaCCkiUoDyVWwn\n",
              "Jyfj6+uLi4sLABaLBX9/f5KSkq67zIwZM+jfvz+urq4AJCUlUbt2bcfzderU4eTJk1it1msun52d\n",
              "TVpaWp7JZis5rUoiUjz4epdl0mMRODtZWJ54gvg1R8yOdEcSjpyn2+Q17D2djo+nO5+PaMmfQmqY\n",
              "HUtEpMQp1AGSGRkZLFiwgCFDhtz2OiZOnIi3t3eeacOGDQWYUkTk1rSoV5m/PdgEgH+u2s2vh86Z\n",
              "nOj2LNl8jMc+Wc+5jByCanixfGwrQmtVMDuWiEiJlK9iu1atWnlaoQ3DICkpCX9//2vOv2jRIoKC\n",
              "gggMDHQ85u/vz9GjRx3/P3LkSJ7W8j+aMGECqampeabo6Oj8xBYRKTCDWtWha1gNbHaDsfM2czL1\n",
              "stmRbpndbvDmV3sY9/lWcmx27g+qzqKRLfH1Lmt2NBGREitfxbaPjw8RERHMmTMHgMWLF+Pn50dA\n",
              "QMA1558xY8ZVrdr3338/mzdvZs+ePQBMmTKFRx555LrbdHd3x8vLK8/k7KyBOyJiDovFwus9Qmji\n",
              "68XZSzmMnLOZbGvR79qWmWNl1NxNjuuFj7m3PlP6RVDO7doNHSIiUjDy3Y1k2rRpTJs2jYYNG/L6\n",
              "668THx8PwNChQ1mxYoVjvr1795KYmEjfvn3zLO/p6cn06dPp1q0bAQEBHDt2jOeff/4OX4aIyN1T\n",
              "1s2ZabHN8C7rytbki7y44upLoBYlJy5eptdH6/h652ncnJ14t28of+7cGCcnDYQUESlsFqMYDqkf\n",
              "N24c77zzjtkxRKSU+3HfGeLiN2AYMLFHUx6NvnaXOjMlJl9k2KwEzqRnU6W8G9P6R9KsdkWzY4mI\n",
              "lBq6g6SIyG26p2FVnu3UCIAXlu9kS9IFkxPltWLrCfpOW8eZ9GwaV/dk2ZhWKrRFRO4yFdsiIndg\n",
              "dLv6dA6qRo7Nzqg5mzmTnm12JAzD4N1v9vHE/C1kW+10aOzDF6Ni8KtYzuxoIiKljoptEZE7YLFY\n",
              "eKt3KPWrenAqLYsx8zaTa7Oblicr18bY+Vt4/7v9AAxvW4+PB0RS3l0DIUVEzKBiW0TkDnmWcXUU\n",
              "tBsOn+e1VbtNyZGSlkXfaev4cttJXJ0tvNkzhOcebIKzBkKKiJhGxbaISAGoX7U8b/cJBSB+zRGW\n",
              "bjl2V7e/43gqXSatYeuxVCqUc2X2kOb0iap1VzOIiMjVVGyLiBSQzkHVGXvvlfsOTFiynZ0nUu/K\n",
              "dr/acZLeU9dxKi2L+lU9WD6mFS3qVb4r2xYRkRtTsS0iUoCevq8h9zSsSlaunRGzN3ExM6fQtmUY\n",
              "BpNXH2DknM1czrXRpkEVlo5pRe3KHoW2TRERyR8V2yIiBcjZycIHj4TjX6kcxy5c5vH5W7DZC/52\n",
              "BtlWG898vpV/fb0XgLiYOsTHReFVxrXAtyUiIrdPxbaISAHzLufKtP7NKOPqxM/7z/L2f/cW6PrP\n",
              "XsrmsU/Ws2TLcZydLLzSLZgXuwTh4qxTuohIUaMzs4hIIWji68UbPUMAmPLDQb7acbJA1rvnVBpd\n",
              "J61h09ELeJVx4bNB0fRvUbtA1i0iIgVPxbaISCHpGlaTIa3rAvDM51s5kJJ+R+v7bvdpek5Zy/GL\n",
              "l6lbxYOlY1rRukGVgogqIiKFRMW2iEghmvBAY1rUq0RGjo3hszeRnpWb73UYhsH0nw8xdFYCGTk2\n",
              "WtarzNLRMdSvWr4QEouISEFSsS0iUohcnJ2Y9FgEvt5lOHQmg3Gfb8WejwGTOVY7f128nVe/3I1h\n",
              "wKPRtZg1JJoK5dwKMbWIiBQUFdsiIoWsSnl3PopthpuzE9/sOs3k1QduabkLGTn0n7GehQnJOFng\n",
              "H38K5LXuTXHVQEgRkWJDZ2wRkbsgrFYFXukWBMA73+5j9d6UG85/ICWdblPWsP7wecq7uzAjLorB\n",
              "retisejW6yIixYmKbRGRu6RvlD+PNffHMODJ+Vs4ei7jmvP9tO8M3aes5ei5TGpVKsuS0THc28jn\n",
              "LqcVEZGCoGJbROQueuHhQML9K5CWZWXE7E1k5ljzPP/Z2iMMmrmR9CwrUXUqsmx0KxpW8zQprYiI\n",
              "3CkV2yIid5G7izMf9WtGlfLu7DmVzvjF2zEMg1ybneeX7eCFFTux2Q16RvgxZ2hzKpd3NzuyiIjc\n",
              "ARezA4iIlDbVvcswpV8Ej33yK//eeoL6VT1IOHKBXw6cxWKB8fc3ZkTbeuqfLSJSAqhlW0TEBNF1\n",
              "K/H3h5oA8N63+/nlwFnKuTkzLbYZI++pr0JbRKSEULEtImKSgTF16BFeE4Aa3mVYNLIlnYKqm5xK\n",
              "REQKkrqRiIiYxGKx8EavEB5s6kuz2hWp6KEb1YiIlDQqtkVETOTq7ETHwGpmxxARkUKibiQiIiIi\n",
              "IoVExbaIiIiISCFRsS0iIiIiUkhUbIuIiIiIFBIV2yIiIiIihSTfxfb+/fuJiYmhYcOGREVFsXPn\n",
              "zmvOt337dtq1a0eTJk1o0qQJS5YsAcButzNu3DgCAwMJCQnh3nvv5cCBA3f2KkREREREiqB8F9sj\n",
              "Roxg+PDh7Nu3j/HjxxMXF3fVPJmZmXTt2pVXX32V3bt3s2PHDtq0aQPAihUrWLNmDVu3bmXbtm10\n",
              "6NCB55577o5fiIiIiIhIUZOvYjslJYWEhARiY2MB6NmzJ8nJyVe1TM+bN48WLVrQunVrAJydnala\n",
              "tSpw5SYO2dnZZGVlYRgGaWlp+Pn5XXeb2dnZpKWl5ZlsNlu+XqSIiIiIiBnyVWwnJyfj6+uLi8uV\n",
              "e+FYLBb8/f1JSkrKM9+uXbtwd3fnT3/6E2FhYQwYMIAzZ84A8PDDD9OuXTuqV6+Or68v3333HS+/\n",
              "/PJ1tzlx4kS8vb3zTBs2bMjv6xQRERERuesKZYCk1Wrl22+/Zdq0aWzZsoWaNWsyatQoABISEtix\n",
              "YwfHjx/nxIkTdOjQgZEjR153XRMmTCA1NTXPFB0dXRixRUREREQKVL5u116rVi1OnjyJ1WrFxcUF\n",
              "wzBISkrC398/z3z+/v7ce++91KxZE4DY2Fg6d+4MwKxZs2jfvj0VKlQAYODAgXTq1Om623R3d8fd\n",
              "3T3PY87OzvmJLSIiIiJiinwV2z4+PkRERDBnzhzi4uJYvHgxfn5+BAQE5JmvT58+zJgxg7S0NLy8\n",
              "vFi1ahWhoaEA1KtXj1WrVvHss8/i5ubGypUrCQ4OzlfoI0eOMG7cuHwtc7tsNhsbNmwgOjpaRf7v\n",
              "aL9cn/bNtWm/XJ/2zbVpv1yf9s21ab9cm1n7pXbt2jz55JN3bXtFlcUwDCM/C+zdu5e4uDjOnTuH\n",
              "l5cX8fHxNG3alKFDh9KlSxe6dOkCwOzZs3njjTdwcnKiZs2afPzxx9SqVYvs7GzGjh3LL7/8gqur\n",
              "K9WrV2fq1KnUq1evUF7gnUpLS8Pb25vU1FS8vLzMjlNkaL9cn/bNtWm/XJ/2zbVpv1yf9s21ab9c\n",
              "m/aLufLVsg3QqFEj1q1bd9Xj06dPz/P//v37079//6vmc3d355NPPsnvZkVEREREih3dQVJERERE\n",
              "pJCo2BYRERERKSQqtm/C3d2dF1544aoropR22i/Xp31zbdov16d9c23aL9enfXNt2i/Xpv1irnwP\n",
              "kBQRERERkVujlm0RERERkUKiYltEREREpJCo2BYRERERKSQqtkVERERECkmJKbYtFgsXL14s9O28\n",
              "+OKLPPXUUwCsWLGCp59+utC3KSIiIiLFU4kpts3QpUsX3n33XbNjFDkvvvgiWVlZd2VbiYmJLFiw\n",
              "4Jbm/eGHHwgLCyvcQAWoXbt2LFu27I7XExkZyQ8//HDH6ykIGzduJCYmhnLlytGtW7drzvPb8TNp\n",
              "0iTi4uLuar7fFJdjpaByrly5knbt2t3xegrKE088gcViwWKxkJiYeMN5q1SpwpEjR4D8749//OMf\n",
              "zJ0795rP3cnxFxcXx3vvvXdby96K0nLeu9nfkrCwMNLT0wGoU6dOnmPlRue9hIQE+vbte83nLl26\n",
              "hMViua3sd8ORI0eoUKFCoW7jvffe49SpU7c0b0H9nbobzDxflqhi+6233iI8PJyGDRvmOYH269eP\n",
              "yMhIQkJCeOihhxwH0ZkzZ+jUqRNNmzYlJCSEQYMG5VlXdHQ0ERER3H///Rw9evSq7c2cOdNRMPzw\n",
              "ww8EBwczevRoQkNDCQoKIiEhwTHv119/TevWrWnWrBnR0dGsXr26kPaC+V566aUiWWyL+Xx9fXnv\n",
              "vfdu+CX1bh4/hc1qtZodoVjq1asXALVq1Sq0bVitVl5++WX69etXaNu4Ezc6dkrLee9654Lf9k1i\n",
              "YiKenp75WqfVaiUyMpKFCxcWSMbi6kbHV36Kbbk1JarYtlgsbNmyha+++orHH3/c0drx3nvvkZCQ\n",
              "wLZt22jTpg0vvvgiAHPmzKFu3bps376dbdu28fbbbwMwb9489u7dy7p169i8eTP9+vVj9OjRN93+\n",
              "nj17GDhwIFu3buXxxx/nb3/7GwCHDh3ixRdfZNWqVWzatIl58+bx2GOPkZ2dXSj74XatW7eO1q1b\n",
              "ExoaSkhICMuXL79ha8Grr75KkyZNCAsLIywsjKNHjzJy5EgA2rRpQ1hYGCkpKaSkpNCjRw+aNm1K\n",
              "cHAw06ZNc6yvTp06/P3vfycmJoZatWoxdepU4uPjadmyJXXq1LnhH5SUlBT+8Y9/sHr1asLCwhzb\n",
              "/vrrr4mIiCAkJIR77rmHXbt2XbVsWloanTp14uWXX3Ysc60vQzf7EnUtubm5/PWvfyU6OpqwsDD6\n",
              "9OnDhQsXgCstXsOHD6djx47UrVuXwYMHs2HDBtq1a0e9evUYN25cnnV99913REVFERAQwDPPPMNv\n",
              "l8U/deoUffr0ITo6mqZNm/L3v//dsczatWsJCwsjODiYQYMG3VLB9+WXXxIVFUVoaChhYWGsX7/+\n",
              "hvvyWvvl008/pXXr1lSuXBlfX1/H8fPll19SvXp1cnNz6datG5mZmbi7u7N37948x8/OnTupX78+\n",
              "ADVr1uTFF1/k8uXLhXb8/OaNN96gadOmhIaG0qJFCzIzM4Erf4yu9b5brVY6d+5MZGQkQUFBPPbY\n",
              "Y2RkZDj2S1BQEEOGDCEsLIylS5ded7sbN26kffv2REZGEh4ezqJFi4D/b7l6/vnniYiIoEGDBqxZ\n",
              "s4ann37a8b7u2LHDsR6r1cqAAQMIDg6mWbNmeT6vs2fPpnnz5kRERNC2bVu2bt0KXDlGR48eTYMG\n",
              "DW75y39qaipDhw4lODiY0NBQBg8eDFxpCRw8eDDBwcEEBwfz0ksvOZZp164dzz77LG3atKF+/fqO\n",
              "z2hycjI+Pj7k5OQ45o2Li+P9998HoG3btgCkp6cTGxtL3bp1iY+PB2D8+PF4eHgQEhLCX/7yFwzD\n",
              "oFWrVo5j83r741rvze9boNPT0+nbty+NGjWidevWbN++/ab75Pjx4/Tq1cvRYPP88887ntu9ezcd\n",
              "OnSgYcOG9OjRw/Fav/vuO1q2bEl4eDhBQUHMmDEjzz4YPHgwbdu2JTg4+JrbLC3nPR8fHwACAgII\n",
              "CwvjwQcf5NFHH6Vq1ap4enrStGnTPN1Hs7Oz6dSpE2XLlsXLy4sTJ0441lenTh3Gjx9PdHQ0AwcO\n",
              "vKqFc9q0aTRo0IDw8PBb+rV65syZtG/fni5duhAYGEjbtm0d9YbNZuPPf/6z4/Pw+OOPO9776dOn\n",
              "ExgYSFhYGE2bNnWcZ68nPj6esLAwQkNDiYyMdGwD4IUXXqBZs2YEBASwatUqx+PXa1z87bwyfvx4\n",
              "IiIimDRp0jW3+fLLL3PixAn69u1LWFgYiYmJN/yM/97ixYsJDQ3l4MGDpKenM2zYMKKjowkJCWH4\n",
              "8OGO/XC988KNFLfz5VWMEgIwjhw54vh/165djc8++8wwDMN47733jGbNmhlBQUFG/fr1jebNmxuG\n",
              "YRhr1641atWqZYwbN85YtmyZkZWVZRiGYfTu3duoU6eOERoaaoSGhhrBwcFGcHCwYRiG8cILLxhP\n",
              "PvmkYRiGER8fb3Tt2tUwDMNYvXq10ahRI8f2ExMTjfr16xuGYRiTJ082qlSp4lhfaGioUaNGDWPf\n",
              "vn2Fuk/y49y5c4aPj4/x008/GYZhGDabzTh37pxRu3ZtY8uWLY75mjVrZqxevdo4f/684e3tbWRm\n",
              "ZhqGYRgZGRnG5cuXDcO48l5cuHDBsUyfPn2Mv/71r4ZhGMbp06cNPz8/Y926dYZhGEbt2rWNp556\n",
              "yjAMw9i/f79RpkwZ45VXXjEMwzA2bNhgVKlS5Ya5f/8e/Lb+SpUqGdu2bTMMwzDmzJljNGnSxLDb\n",
              "7cbq1auN0NBQIykpyYiIiHAcHwcPHjRatGhhpKamOnJUr17dyMrKMlavXm04Ozsbv/76q2EYhvHR\n",
              "Rx8ZnTp1umGmf/7zn8bLL7/s+P/LL79sjB492jAMwxg4cKDRokUL4/Lly0Z2drZRv359o1u3bkZO\n",
              "To5x6dIlw8fHx9ixY4dhGIZxzz33GO3btzdycnKMjIwMo1mzZsbcuXMNwzCMTp06GT/88INhGIaR\n",
              "m5trdO7c2fj888+N7Oxsw8/Pz/jmm28MwzCMr7/+2gCM1atXXzfv3r17japVqxq7d+82DMMwcnJy\n",
              "jIsXL950X/5+v7z11luGm5ub8dNPPxlr1qwxAgMDHcfP8OHDjXHjxhmG8f/Hz6RJkwwXF5c8x89T\n",
              "Tz1l9O/f3/FZbty4sTFw4MBCPX5mzpxpREVFGRcvXjQMwzDOnz9vWK3WG77vdrvdOHv2rOPfI0eO\n",
              "NCZOnGgYxpXzgMVicbw313PhwgUjLCzMOHHihGEYhnHmzBmjVq1axrFjx4zDhw8bgLF06VLDMAxj\n",
              "+vTphoeHh/H9998bhmEYb775ptGrVy/H9gDj22+/NQzDMBYuXGg0atTIsNvtxi+//GI88MADjvPa\n",
              "Tz/9ZAQGBhqGYRiTJk0y2rdvb2RnZxvZ2dlGu3btjHvuueeGmePi4oxRo0YZNpvNMAzDSElJMQzD\n",
              "MP7yl78Yjz32mGGz2YxLly4ZYWFhxoIFCwzDuHIMd+vWzcjNzTUyMzONOnXqGGvXrjUMwzDuu+8+\n",
              "Y9GiRYZhGEZ6erpRsWJFx341jCvnkYoVKxpbtmwxdu/ebZQvX944fvy4UbFiRaNGjRrGnj17jGnT\n",
              "phmAERMTc9P9ca33ZuDAgca7775rGIZhPPvss0b//v0Nu91uXLx40XH83Ui7du2M1157zfH/3/bJ\n",
              "wIEDjejoaCMjI8OwWq1GTEyMMW/ePMMw/v8YM4wr511/f38jOTnZsVxISIiRlpZ2w+2WlvMeYISG\n",
              "hhpz5841Bg4caJQvX95YtWqVYRhXznuAER8fb2RnZxvOzs5Gx44dDbvdbnz++ecGYHz44YeGYVw5\n",
              "TwwZMsSw2+2GYRiOfWIYhrF9+3ajWrVqjs/ihAkTjJuVRvHx8Yabm5uxa9cuwzAM44033jDuu+8+\n",
              "wzAMY8qUKcY999xjZGVlGbm5ucYDDzxgvP7664ZhGIaXl5djOzk5OUZ6evp1t7F69WqjTp06jvkz\n",
              "MjKMjIwMx/nhiy++MAzDMP7zn/8YDRs2dCz32zFoGIYxceJEY8SIEYZhGI7lfnv/b+SPf/dv9hlf\n",
              "unSp8fbbbxutW7d2fIaHDRvm2JbdbjeGDBlivPnmm45lrndeuJbieL78oxLVsv1HFouFX375hQ8+\n",
              "+IBVq1axY8cO3nnnHcfPUi1btiQxMZHmzZuzZMkSoqKisNlsGIbBhAkTSExMJDExke3bt99SK0eZ\n",
              "MmUc/3Z2dna0KBqGwX333edYX2JiIsePH6dBgwaF88Jvw7p162jUqBFt2rQBwMnJiUqVKl13fi8v\n",
              "Lxo0aEBsbCzTpk3j/PnzeV7/73377beMGDECAB8fH3r06MG3337reP63vnMBAQGUKVPG8RNyZGQk\n",
              "58+fz9fA1/Xr19O0aVOaNm0KXPmWf+LECY4fPw7A6dOnadu2LW+++SYDBgwA4KuvvuLAgQO0bduW\n",
              "sLAwevXqhZOTE0lJSY5czZs3B64cMwcPHrxhhmXLljFnzhxHi+38+fM5fPiw4/muXbtSpkwZ3Nzc\n",
              "aNq0KZ07d8bV1RUPDw8CAwPZv3+/Y94BAwbg6upKuXLliI2N5dtvvyUjI4PvvvuOJ598krCwMCIj\n",
              "Izlw4AB79+5lz549uLi40LFjRwA6depEvXr1bpj3m2++4f7776dx48YAuLq64u3tfdN9+fv94ubm\n",
              "hpOTE23atCEmJgabzebYT//+97/zdNECKFu2LOXLl89z/Pz4448MGTIEAG9vbx577DGgcI+flStX\n",
              "MnLkSLy9vQGoWLEizs7OV72+37/vhmHw7rvvEh4eTkhICF9++WWe1pF69epxzz333HCfr127lkOH\n",
              "DvHAAw8QFhbmeL/27t0LXDmX/NZFLTIykvLly3PvvfcCEB0dnecYqVOnDh06dACgT58+nDp1iuTk\n",
              "ZJYvX87WrVtp3rw5YWFhPP7445w/f57Lly/z3XffMWDAANzc3HBzc3O0Ut/IypUrefbZZ3FyuvJn\n",
              "o2rVqsCV92fYsGE4OTnh4eHBgAED+OabbxzL9e3bFxcXF8qWLUtYWJhjPw4aNMjRWr1o0SLat29P\n",
              "5cqV82zTw8MDgMaNG+Pi4sJXX31FaGgoTz75JJMnT2bIkCFYLBbHZ/lG++Nm7813333nWN/vj7/r\n",
              "uXTpEr/88gvPPPOM47Hf9glA9+7dKVeuHM7OzkRHRzte97lz5+jduzfBwcG0b9+ec+fO5Wl56927\n",
              "d767RpTU8x5cOX6+/fZbrFYrGRkZTJgwwXHeA9i/fz979uwB4O9//zsWi4XevXvj5eXFpk2bHOuM\n",
              "i4u7Zl/s77//ngceeABfX18ARo0adUv7PCYmhiZNmgAwfPhwfvjhB2w2G99++y1xcXG4u7vj4uLC\n",
              "sGHDHJ+HDh060L9/f95//30OHz5M+fLlr7v+L7/8kv79+ztylStXjnLlygFXzg89evQArn5v5s2b\n",
              "R2RkJMHBwUyfPj3PucnV1ZXY2Nhben2/d7PP+Kuvvsp3333HN9984/gML1u2jH/961+EhYURHh7O\n",
              "zz//zIEDBxzLXO+8cC3F8Xz5Ry75XqIIi4+P58UXX+TIkSP8/PPPvPfee2zfvh1PT08qV65MTk5O\n",
              "np+gDx8+TM2aNenTpw/3338/Pj4+XLp0iW7duvH222/Tq1cvKlWqRG5uLjt27CA8PPy2cnXu3JmX\n",
              "XnqJbdu2ERISAsCGDRuIjo4ukNddmFxcXLDZbI7///ZFxdnZmV9//ZW1a9fyww8/0KJFC+bPn+8o\n",
              "1m/kjye8P35J+e3/vw2QKsh+rxUqVCAgIICVK1fSvn17LBaL48vQvHnzrpr/+PHj1/0SdT2GYfDh\n",
              "hx/SqVOnaz5/vdd7K+v/LS/Ar7/+etUXnG3btl1zmcLwx9y/5YL/L6Ryc3OpUKGC4yfx344fJycn\n",
              "2rZty1NPPeU4fn77Q3Kz3Hfr+Lne+zJv3jy+//57fvzxR7y8vPjggw/4/vvvHfPe6A/obwzDICgo\n",
              "iLVr11713JEjR3B3d7/ma/pjlmv57XUbhsHAgQN57bXXbpqnII+Rm70/v2Xv3r07TzzxBCdPnmTm\n",
              "zJn85S9/ueG6nJ2dHeeiYcOGERgYSGxsLIZhOP74Xi/Pb+u5lffmeq8jv673ukeOHMmDDz7I4sWL\n",
              "sVgsRERE5OmXnJ+Mt6qknvcsFgt//vOfHV8Q/rjM79/DW92vBX2+/P36Fi9ezKZNm/jhhx948MEH\n",
              "efXVV3nkkUfyvU53d3fHen//ufitcXHdunX4+PiwYsUK/vGPfziWK1eunOPL8p344z5q3rw5//3v\n",
              "fzl06BCBgYHAleNh8eLFNGzY8JrryM/7XxLOlyWqZdtmsxEeHk6nTp344IMPqFOnDvfffz+NGjVy\n",
              "tNr+vp/WDz/8QLNmzQgLCyMmJoZ//etfeHt7069fP+Li4rj33nsdfVh//8c0vwICApg3bx4jRowg\n",
              "NDSUJk2aFOpI9dsRExPD/v37+fnnnwGw2+2cP3+egIAAR7+yDRs2OL5Jpqenc/r0adq0acPzzz9P\n",
              "69at2bJlCwCenp6kpqY61t2xY0c++eQT4Mqg1CVLlnDfffcVSG4vL68822rRogXbt293tBQtWLCA\n",
              "mjVrUrNmTeDKSWrJkiWcOHGCYcOGYbfb6dy5M99++22eQnXDhg23nalbt268++67jr6/mZmZ7Ny5\n",
              "87bWNWfOHHJzc7l8+TLz5s2jY8eOjm/tr7/+umO+EydOcOzYMRo3bozVanX0Kfv2229v2iLVuXNn\n",
              "vv76a0frUG5uLqmpqTfdl78XGhqK1Wp1HD/9+vVj4cKF2O32PF8wfzt+Ll++TFZWVp7jp1atWsTH\n",
              "x+Pp6cmxY8eYP38+ULjHT5cuXZg6darjGLp48WKeL5fXcuHCBapUqYKXlxfp6enMnDkz39uNiYnh\n",
              "8OHDeVroExMT8/RhvlVHjhxxvN9ffPEF1apVw8/Pjy5dujBnzhxHIWK32x39bjt27Og4tnJychwt\n",
              "zDfSpUsX3nrrLex2O3DlvfhtXTNmzMAwDDIyMpg9e/Z1C67fK1OmDL179+bFF1/k4MGD3H///Tdd\n",
              "JiIigm3btnH69Gm6du3qWOa3XyNutD9upmPHjsTHx2MYBmlpaY7j73rKly9P27ZtHWN94P/3yY1c\n",
              "uHCB2rVrY7FY+Omnnxz9QvOjtJz3PD09WbBgAR07dsTV1ZUGDRrkOe/BlS8Gv/0qN3HiRACWLFlC\n",
              "amoqERERN91W+/bt+eqrrxx9m6dOnXpLGdetW+c4Z06fPp17770XZ2dnOnbsyKxZs8jJycFqtTJ9\n",
              "+nQ6deqE1Wrl4MGDREZG8uyzz9KrV68b7u+HH36YOXPmcPLkSeDK/vxt317PhQsXrtu4mB9/PL5u\n",
              "9hm/7777+PTTT3n44YfZvHkzcOV4eOONNxyF7oULF/K0bOdHcTxf/lGJadn+7VvvK6+8kudxV1fX\n",
              "q0Yd//Of/wSutL798eft3zzxxBM88cQTVz3+2+BKuPKz1G+XhmrXrl2en2uCg4PzDGbo2LHjDVtf\n",
              "zFaxYkWWLl3KM888Q3p6Ok5OTrzyyiu8+uqrDBw4kGnTptGyZUuCgoKAK4OlevXqRUZGBhaLhQYN\n",
              "GjBw4EAAnnnmGe677z7KlSvHf//7Xz744ANGjRpF06ZNMQyDv/3tb46fJ+9Uhw4deOuttwgJCSEm\n",
              "JoapU6cyd+5cBgwYgNVqpWLFiixatCjPN1FXV1fmzZvH0KFD6devH7Nnz3Z8GcrMzCQnJ4fw8PBr\n",
              "tvjcivHjx5OdnU3z5s0d2x0/frxj3+VHkyZNaNWqFefPn6dr166OVpC5c+cybtw4goODsVgseHh4\n",
              "MG3aNPz8/Fi4cCGjR4/GZrM5Bj3eSEBAAPHx8cTGxpKbm4uzszNTp04lOjr6pvvyN97e3lStWpW/\n",
              "/vWvjuPnt8HHW7duJTQ0lJYtWxIQEEDv3r3Jzc0lLS0NV1dXfHx8aNGiBZ999hnPPPMMbm5uREVF\n",
              "4eHhweXLlwv1+Onfvz8nTpwgJiYGFxcXPDw88pzQr2XAgAEsX76cRo0aUbVqVdq0aXPNqxXdSMWK\n",
              "Ffnyyy959tlneeaZZ8jNzcXf3/+2LqEVFBTEzJkzeeKJJ3Bzc2P+/PlYLBbatGnDm2++Sffu3bFa\n",
              "reTk5PDQQw8RGRnJsGHD2LFjB4GBgVSsWJE2bdrk+cn9Wt59912efvppmjZtiqurK1FRUXzyySc8\n",
              "//zzPPHEE44uDL1796ZPnz63lH3QoEFER0czfvz4PAXzb92Gjh8/TufOnR3dKipXrsynn37qeE1p\n",
              "aWlUrFjxlvbHzTz//PMMHTqUxo0bU7VqVVq3bn3TQeyzZ8/m8ccfJygoCFdXV7p27XrdwWO/ef31\n",
              "1xk9ejSvvPIKYWFht3Usl5bznouLC0lJSbzxxhvUqFGD2NhY9u7d6zjvAZw/fx43NzeqVq3K5s2b\n",
              "KVu2LK6urvj6+l53kOnvBQcH8+KLL9KmTRvKly/v6J5xMzExMYwfP54DBw5QuXJlZs2aBVzpUnLw\n",
              "4EFHod+uXTueeuopbDYbgwcP5vz587i4uFC1atUbFm1t27blhRdeoHPnzlgsFtzc3Pjiiy9umOn+\n",
              "++9nzpw5NGrUiMqVK9OxY0dHV6L8eOKJJxg2bBjlypVj5syZt/QZb9OmDQsWLKBXr17Mnj2bd999\n",
              "l7/+9a+EhYXh5OSEi4sLb775JgEBAfnOUxzPl39kMX7/26+IiEgx8NZbb7F79+48V/MQuRtmzpzJ\n",
              "smXLis31pcV8JaZlW0RESoegoCAsFgtfffWV2VFERG5KLdtS5KWkpFyzD+h9993Hv/71LxMSXekv\n",
              "dq27yw0cOJCnn3767ge6BV26dLlqIFHFihVL9A2WwNzjZ+TIkfz6669XPb5u3TrKli1bqNu+HatW\n",
              "reK555676vEJEyZc9457Jd306dOveU3iDz/88JYGhN8unffMdbf2f2Rk5FUD+IKCgq57Z9OC8vLL\n",
              "L7NkyZKrHl+8eLHjfgd3W3E7X+aHim0RERERkUJSoq5GIiIiIiJSlKjYFhEREREpJCq2RUREREQK\n",
              "iYptEREREZFComJbRERERKSQqNgWERERESkkKrZFRERERArJ/wESy9XSnLVargAAAABJRU5ErkJg\n",
              "gg==\n",
              "\">\n",
              "      </div>\n",
              "      <script type=\"text/javascript\">\n",
              "        (() => {\n",
              "          const chartElement = document.getElementById(\"chart-41a5c27e-6ea5-4687-ac8f-4c3f85a1cf58\");\n",
              "          async function getCodeForChartHandler(event) {\n",
              "            const chartCodeResponse =  await google.colab.kernel.invokeFunction(\n",
              "                'getCodeForChart', [\"chart-41a5c27e-6ea5-4687-ac8f-4c3f85a1cf58\"], {});\n",
              "            const responseJson = chartCodeResponse.data['application/json'];\n",
              "            await google.colab.notebook.addCell(responseJson.code, 'code');\n",
              "          }\n",
              "          chartElement.onclick = getCodeForChartHandler;\n",
              "        })();\n",
              "      </script>\n",
              "      <style>\n",
              "        .colab-quickchart-chart-with-code  {\n",
              "            display: block;\n",
              "            float: left;\n",
              "            border: 1px solid transparent;\n",
              "        }\n",
              "\n",
              "        .colab-quickchart-chart-with-code:hover {\n",
              "            cursor: pointer;\n",
              "            border: 1px solid #aaa;\n",
              "        }\n",
              "      </style>"
            ]
          },
          "metadata": {}
        },
        {
          "output_type": "display_data",
          "data": {
            "text/plain": [
              "from matplotlib import pyplot as plt\n",
              "all_model_results['recall'].plot(kind='line', figsize=(8, 4), title='recall')\n",
              "plt.gca().spines[['top', 'right']].set_visible(False)"
            ],
            "text/html": [
              "      <div class=\"colab-quickchart-chart-with-code\" id=\"chart-f5736c04-cbf8-4c0e-b850-70453fb11f22\">\n",
              "        <img style=\"width: 180px;\" src=\"data:image/png;base64,iVBORw0KGgoAAAANSUhEUgAAAtsAAAFuCAYAAABQn9TzAAAAOXRFWHRTb2Z0d2FyZQBNYXRwbG90\n",
              "bGliIHZlcnNpb24zLjguMCwgaHR0cHM6Ly9tYXRwbG90bGliLm9yZy81sbWrAAAACXBIWXMAAA9h\n",
              "AAAPYQGoP6dpAABmYElEQVR4nO3dd3hUZdrH8e+kUhNqDBBCMQQIIQ0SMAIiIJZdQhNQaugIYkH3\n",
              "RdzVVXTBXgHFBYJKFUFBRF1BXBWQECD0EqQkFAk1gUDKzDzvH5FZQw8kTMrvc13numByyn3OnJzc\n",
              "c+Y5920xxhhERERERKTAuTg7ABERERGRkkrJtoiIiIhIIVGyLSIiIiJSSJRsi4iIiIgUEiXbIiIi\n",
              "IiKFRMm2iIiIiEghUbItIiIiIlJIlGyLiIiIiBQSJdsiIiIiIoVEybaISDHywgsv0KpVK8f/27Zt\n",
              "yz/+8Q8nRiQiIlejZFtEREREpJAo2RYRKUDZ2dnODkFERIoQJdsiIjehbdu2PProozz00ENUrlyZ\n",
              "xx57jGXLltGiRQsqV65MgwYNeO+99/Iss2PHDmJiYvD19cXb25uWLVuSkpICwOTJkwkODsbLywtf\n",
              "X1/69evH8ePHnbFrIiJSAJRsi4jcpLi4OPr378+JEyfo1KkTvXv3ZsKECZw4cYIvvviC119/ndmz\n",
              "ZwNw9OhRWrduTXBwMLt37+bkyZO8//77lC1bFgBfX18WLVrE6dOnWbt2Lbt372b06NHO3D0REbkJ\n",
              "SrZFRG5STEwMDzzwAC4uLkydOpVHHnmE9u3b4+LiQnBwMCNGjCAuLg6ATz/9FF9fXyZMmICXlxeu\n",
              "rq5ERkZSrVo1ALp3705gYCAuLi7UqVOHZ555hv/85z/O3D0REbkJbs4OQESkuKtXr57j30lJSSxf\n",
              "vpwPPvjA8ZrNZsPf3x+Affv20bBhwyuua9GiRbzxxhvs2bOHzMxM7HY7GRkZ2Gw2XF1dC28nRESk\n",
              "UOjOtojITXJx+d+l1NfXl2eeeYbTp087pjNnzrBt2zYA6tatS1JS0mXXc/DgQXr06MHo0aNJTk4m\n",
              "PT2dTz/9FABjTOHviIiIFDgl2yIiBejxxx/n/fffZ8WKFVitVqxWK1u3buWnn34CoH///hw8eJDn\n",
              "nnuOM2fOYLPZSEhI4Pjx45w9exa73U61atUoU6YMSUlJTJw40cl7JCIiN0PJtohIAerSpQuffvop\n",
              "zz//PD4+Pvj4+DBkyBBHRZHbbruNn376ifXr11OvXj2qVq3K6NGjyczMpFGjRkycOJH+/ftTsWJF\n",
              "BgwYQN++fZ28RyIicjMsRt9NioiIiIgUCt3ZFhEREREpJEq2RUREREQKiZJtEREREZFComRbRERE\n",
              "RKSQKNkWERERESkkSrZFRERERApJsUy23333XWeHICIiIiJyTcUy2T5w4ICzQxARERERuaZimWyL\n",
              "iIiIiBQHSrZFRERERAqJkm0RERERkUKiZFtEREREpJAo2RYRERERKSRKtkVEREREComSbRERERGR\n",
              "QqJkW0RERESkkCjZFhEREREpJPlOtpOSkoiOjiYwMJDIyEi2bdt2yTx2u50xY8YQFBRESEgId999\n",
              "N3v27LlkvtjYWCwWC6dPn76h4EVEREREirJ8J9vDhw9n2LBh7N69m7FjxxIbG3vJPEuWLGHVqlVs\n",
              "2rSJzZs30759e5599tk88yxatAh3d/cbDlxEREREro/NbpwdQqmVr2Q7NTWVhIQE+vbtC0D37t1J\n",
              "SUm55K61xWIhKyuLzMxMjDGkp6fj5+fn+PnRo0eZMGECb7311jW3mZWVRXp6ep7JZrPlJ2wRERGR\n",
              "Uit+30nuf/cn9h/PcHYopVK+ku2UlBRq1KiBm5sbkJtU+/v7k5ycnGe+Tp060bZtW3x9falRowYr\n",
              "Vqxg/Pjxjp8PHTqU1157jYoVK15zmxMnTsTb2zvPFB8fn5+wRUREREqlXb+fYcjH69h99CyTV146\n",
              "pFcKX6E8IJmQkMDWrVs5dOgQhw8fpn379owYMQKAadOm4e/vT7t27a5rXePGjSMtLS3PFBUVVRhh\n",
              "i4iIiJQYh06fZ8CMeNIzrTSrU5mXugQ7O6RSKV/Jdu3atTly5AhWqxUAYwzJycn4+/vnme+TTz6h\n",
              "Xbt2VKpUCRcXFwYMGMDKlSsBWLlyJYsXL6Zu3brUrVsXgJCQEDZu3HjZbXp6euLl5ZVncnV1ze9+\n",
              "ioiIiJQap89lM2BGPL+nZ9LApwLTBzSnjLvyJ2fIV7Lt4+NDREQEs2bNAmDhwoX4+fkREBCQZ776\n",
              "9evzww8/kJ2dDcDSpUsJDs79NDV79mxSUlLYv38/+/fvB2Dz5s2Eh4ff7L6IiIiIlHqZOTYGf5zA\n",
              "ntSz+HqV4eNBUVQq5+HssEott/wuMHXqVGJjY5kwYQJeXl7ExcUBMGTIEGJiYoiJiWHUqFHs2LGD\n",
              "0NBQ3N3d8fX15cMPPyzw4EVERETkf6w2O4/O2cj6A6fwKuPGJ4OjqFmprLPDKtUsxphiVwtmzJgx\n",
              "11XJRERERKS0MMbw7BdbmBufgoebC7MGtyCqXhVnh1XqqYOkiIiISAnwzvIk5san4GKB9x4KV6Jd\n",
              "RCjZFhERESnmZq89wLsrkgAY3zmY+4J9nRyRXKBkW0RERKQY+27b7zz35VYAHmvfgL4t6zg5Ivkz\n",
              "JdsiIiIixdS6/Sd5bO5G7AYeiqzNkx0aODskuYiSbREREZFiaPfRMwyeuY4sq50OjX14uUswFovF\n",
              "2WHJRZRsi4iIiBQzh//UHTLCvxLvPxyBm6vSuqJI74qIiIhIMZJ2LocBM+I5kpZJgE8FZsRGUtZD\n",
              "3SGLKiXbIiIiIsVEZo6NIZ+sIyn1LLd5eao7ZDGgZFtERESkGLDa7Dw2dyPr9p+iYhk3Ph4URS11\n",
              "hyzylGyLiIiIFHHGGJ5bvI3/bD+Kh5sL0/o3p5Gvl7PDkuugZFtERESkiHtvxR7mxidjscB7D4XR\n",
              "on5VZ4ck10nJtoiIiEgRNjc+mbeX7wYudIes4eSIJD+UbIuIiIgUUd9vP8rfv9gCwOh2AfRTd8hi\n",
              "R8m2iIiISBGUsP8kj87ZgN1Az+Z+jLkn0NkhyQ1Qsi0iIiJSxCQdPcPgjxPIstpp38iHCV2bqjtk\n",
              "MaVkW0RERKQIOZKW2x0y7XwO4f6VmNRb3SGLM71zIiIiIkVE2rkcYmes43BaJvWrl2fGAHWHLO6U\n",
              "bIuIiIgUAZk5NoZ+ksCuo2fwqejJJ4OiqFxe3SGLOyXbIiIiIk5msxsen7eR+P0nHd0h/SqXc3ZY\n",
              "UgCUbIuIiIg4kTGG5xdv5bttR/FwdeHf/ZvTuIa6Q5YUSrZFREREnGjSD3uYvTa3O+Q7D4XRUt0h\n",
              "SxQl2yIiIiJOMi8+mTe/z+0O+UKnJjzQVN0hSxol2yIiIiJOsHz7UZ79ozvkqLtvZ0B0XecGJIVC\n",
              "ybaIiIjILbb+wElG/dEdskczP57u2NDZIUkhUbItIiIicgvtSf1fd8h2jXyY2E3dIUsyJdsiIiIi\n",
              "t8jvaZkMmLGO0+dyCKtdiUm9w9UdsoTTuysiIiJyC6SdzyE2Lp5Dp89Tv1p5ZsRGUs7DzdlhSSHL\n",
              "d7KdlJREdHQ0gYGBREZGsm3btkvmsdvtjBkzhqCgIEJCQrj77rvZs2cPAFu2bKFNmzY0atSI4OBg\n",
              "Bg0axPnz529+T0RERESKqAvdIXf+ntsd8uNBUVRRd8hSId/J9vDhwxk2bBi7d+9m7NixxMbGXjLP\n",
              "kiVLWLVqFZs2bWLz5s20b9+eZ599FoAyZcowadIkdu7cyaZNm8jIyODVV1+96R0RERERKYpsdsOT\n",
              "8xOJ33eSip5uzBwYRe0q6g5ZWuQr2U5NTSUhIYG+ffsC0L17d1JSUhx3rS+wWCxkZWWRmZmJMYb0\n",
              "9HT8/PwAaNCgASEhIQC4uroSGRnJ/v37r7jNrKws0tPT80w2my0/YYuIiIg4hTGGF7/axjdbf8fD\n",
              "1YWp/ZsRVFPdIUuTfCXbKSkp1KhRAze33PFFFosFf39/kpOT88zXqVMn2rZti6+vLzVq1GDFihWM\n",
              "Hz/+kvVlZGQwbdo0OnfufMVtTpw4EW9v7zxTfHx8fsIWERERcYopP/7GJ2sOYLHAW71Cib69mrND\n",
              "klusUB6QTEhIYOvWrRw6dIjDhw/Tvn17RowYkWee7OxsevXqRceOHenatesV1zVu3DjS0tLyTFFR\n",
              "UYURtoiIiEiB+WxdCq9/twuAf/41iL+G1HRyROIM+XoEtnbt2hw5cgSr1YqbmxvGGJKTk/H3988z\n",
              "3yeffEK7du2oVKkSAAMGDKBjx46On+fk5NCrVy9q1KjBu+++e9Vtenp64unpmec1V1fX/IQtIiIi\n",
              "ckut2HGUcX90h3yk7e3E3lnPyRGJs+TrzraPjw8RERHMmjULgIULF+Ln50dAQECe+erXr88PP/xA\n",
              "dnY2AEuXLiU4OBgAq9XKQw89RJUqVfjoo49UxF1ERERKlA3Jpxg1ZwM2u6F7hB//d6+6Q5Zm+S7u\n",
              "OHXqVGJjY5kwYQJeXl7ExcUBMGTIEGJiYoiJiWHUqFHs2LGD0NBQ3N3d8fX15cMPPwRg/vz5LFq0\n",
              "iJCQEMLDwwG48847mTx5cgHuloiIiMittyf1LINmriMzx07bhtV5pbu6Q5Z2FmOMcXYQ+TVmzBje\n",
              "eustZ4chIiIi4nA0PZNuU1Zz6PR5Qv28mTuspZrWiDpIioiIiNys9MwcBszI7Q5ZT90h5U+UbIuI\n",
              "iIjchMwcG0M/zu0OWb2iJ58MiqJqBc9rLyilgpJtERERkRtksxvGfJbI2n0nqeDpxsyBkeoOKXko\n",
              "2RYRERG5AcYYxn+1jWVbfsfd1cJH/ZrRpKa3s8OSIkbJtoiIiMgNmPLjb3y85gAAb/UMIzpA3SHl\n",
              "Ukq2RURERPJpQcL/ukM+/9cgOoWqO6RcnpJtERERkXxYuTOVZxbldocccdftDGql7pByZUq2RURE\n",
              "RK7TxuRTjJyd2x2yW0Qtxt6n7pBydUq2RURERK7D3mO53SHP59hoE1idV7uHqDukXJOSbREREZFr\n",
              "SE3PpP+MeE6dyyHUz5sP+kTg7qo0Sq5NZ4mIiIjIVaRn5jAgbh0HT52nbtVyzIiNpLynukPK9VGy\n",
              "LSIiInIFWVYbwz9Zz44j6VSr4Mkng1qoO6Tki5JtERERkcuw2w1jPtvEmr0nHN0h/auqO6Tkj5Jt\n",
              "ERERkYsYYxi/dDtfbz6Cu6uFD/s2I7iWukNK/inZFhEREbnIh//dy8zV+wF4s2cYrRqoO6TcGCXb\n",
              "IiIiIn/y+fqDvPrtTgCe+2sQMeoOKTdBybaIiIjIH1buSmXsws0ADG9Tn8HqDik3Scm2iIiICJCY\n",
              "cpqRs3K7Q3YNr8XY+xo5OyQpAZRsi4iISKn35+6QrRtU49XuIbi4qDuk3Dwl2yIiIlKqpZ7J7Q55\n",
              "MiObED9vPuzbDA83pUhSMHQmiYiISKl1JjOH2Bm53SHrqDukFAIl2yIiIlIqZVltjJi1nu1H0qlW\n",
              "wYNPBkVRTd0hpYAp2RYREZFSx243PPXZJlbtOUF5D1fiYqOoU7W8s8OSEkjJtoiIiJQqxhhe+no7\n",
              "Sy90h+zXjKZ+6g4phUPJtoiIiJQqH/20l7hV+wF4o0corRtUd25AUqIp2RYREZFSY9GGg0z8Jrc7\n",
              "5D/+0pjOYbWcHJGUdPlOtpOSkoiOjiYwMJDIyEi2bdt2yTx2u50xY8YQFBRESEgId999N3v27HH8\n",
              "fOnSpTRq1IgGDRrQrVs30tPTb24vRERERK7hv7uP8X+f53aHHNq6HkNa13dyRFIa5DvZHj58OMOG\n",
              "DWP37t2MHTuW2NjYS+ZZsmQJq1atYtOmTWzevJn27dvz7LPPAnD27FkGDx7Ml19+SVJSEjVr1uSl\n",
              "l1666R0RERERuZJNKad5ZNZ6rHZDl7CajLu/sbNDklIiX8l2amoqCQkJ9O3bF4Du3buTkpKS5641\n",
              "gMViISsri8zMTIwxpKen4+fnB8A333xDeHg4jRrltkAdOXIkc+fOveI2s7KySE9PzzPZbLZ87aSI\n",
              "iIiUXvuOZzBo5jrOZed2h3ztwVB1h5RbJl9V21NSUqhRowZubrmLWSwW/P39SU5OJiAgwDFfp06d\n",
              "WLlyJb6+vlSsWJFatWrx3//+F4Dk5GTq1KnjmLdu3bocOXIEq9XqWO+fTZw4kRdffDHPay1btsxP\n",
              "2CIiIlJK5XaHXMuJjGyCa3nxgbpDyi1WKGdbQkICW7du5dChQxw+fJj27dszYsSIG1rXuHHjSEtL\n",
              "yzNFRUUVcMQiIiJS0pzNsjIwbh0pJ8/jX6UccbFRVFB3SLnF8nXG1a5dO89daGMMycnJ+Pv755nv\n",
              "k08+oV27dlSqVAmAAQMG0LFjRwD8/f35/vvvHfPu378/z93yi3l6euLpmbebk6ura37CFhERkVIm\n",
              "22pnxKfr2XY4narlc7tDVq+o7pBy6+XrzraPjw8RERHMmjULgIULF+Ln55dnCAlA/fr1+eGHH8jO\n",
              "zgZyq48EBwcDcN9997FhwwZ27swtuzNlyhQeeuihm94REREREcjtDvn0gk38suc45TxciRsYSd1q\n",
              "6g4pzpHv71KmTp1KbGwsEyZMwMvLi7i4OACGDBlCTEwMMTExjBo1ih07dhAaGoq7uzu+vr58+OGH\n",
              "AFSsWJFp06bRpUsXrFYrwcHBfPzxxwW7VyIiIlJqTVi2gyWbDuPmYuHDvs0I8avk7JCkFLMYY4yz\n",
              "g8ivMWPG8NZbbzk7DBERESli/v3TXv61bAcAb/cKpWu4n5MjktJOj+OKiIhIifDlxkOORPvZBxop\n",
              "0ZYiQcm2iIiIFHs/7T7G0ws2ATC4VT2GqjukFBFKtkVERKRY23zwNCP+6A4ZE1qTvz/QGItFTWuk\n",
              "aFCyLSIiIsXW/uMZDIzL7Q7ZKqAab/RQd0gpWpRsi4iISLF07EwWA+LiOZGRTZOaXnzQN0LdIaXI\n",
              "0RkpIiIixc7ZLCsDZ8Zz4MQ5alcpS9zASCqWcXd2WCKXULItIiIixUq21c4js9az9dCF7pAt8KlY\n",
              "xtlhiVyWkm0REREpNux2w/99vomfk3K7Q86IjaSeukNKEaZkW0RERIqNV77dyZeJud0hp/SJILR2\n",
              "JWeHJHJVSrZFRESkWJj2814++mkvAK89GELbhj5Ojkjk2pRsi4iISJG3OPEQL3+d2x3ymfsb0S1C\n",
              "3SGleFCyLSIiIkXaz0n/6w456M56DG+j7pBSfCjZFhERkSJr66E0Rny6nhyb4a8hNfjHX9QdUooX\n",
              "JdsiIiJSJB04kUFsXDwZ2Taib6/Kmz3VHVKKHyXbIiIiUuQcP5vFgBnxHD+bTeMaXkzt1wxPN1dn\n",
              "hyWSb0q2RUREpEjJyLIyMG4d+0+cw69yWT5Wd0gpxpRsixQgYwx7j50lx2Z3digiIsVSttXOiFnr\n",
              "2XIojSrlPfhkUBQ+XuoOKcWXkm2RApJttfP3L7fS7s3/0uffa5Vwi4jkk91uGLtwMz8nHaese253\n",
              "yPrVKzg7LJGbomRbpACcOJtF3+lrmbM2GYD4/Sd5/btdTo5KRKR4efW7nXyx8RCuLham9I0gTN0h\n",
              "pQRQsi1yk3YcSSdm0iri952kgqebo/7rRz/t5T/bfndydCIixcP0X/Yx9b+53SFf7R7C3eoOKSWE\n",
              "m7MDECnOvt16hDGfbeJcto26VcsxbUBzAnwqkmMzzFi1j6cXbOLrGl7UrlLO2aGKiBRZSzYd5qWl\n",
              "2wEYe18jHmym7pBScujOtsgNsNsN7yzfzYhZGziXbaN1g2osHtWKAJ+KQG4r4bDalUjPtDJqzgay\n",
              "rDYnRywiUjSt2nOcpz5LBCA2ui4j7lJ3SClZlGyL5NO57NwE+p3lSUBu6+C42Ei8y/2vLJWHmwuT\n",
              "+0RQqZw7mw+m8a+vdzgrXBGRImvroTSG/9Ed8i8hNXj+r0HqDikljpJtkXw4eOoc3T9Ywzdbf8fd\n",
              "1cJr3UN4vlMQbq6X/irVqlSWt3uGAfDJmgN8tenwLY5WRKToSj5xjti4dZzNstKyfhXeUndIKaGU\n",
              "bItcp/h9J+k8aRU7jqRTrYIHc4e2pGdk7asuc3cjH0a2vR2AZxZu5rdjZ29FqCIiRdrxs1n0n7GW\n",
              "42ezaFzDi4/6N1d3SCmxlGyLXIe58cn0mfYrJzKyaVLTi8WPtqJ53SrXteyYewJpUa8KGdk2Rs3e\n",
              "wPlsjd8WkdIrI8vK4Jm53SFrVcrtDuml7pBSginZFrmKHJudfy7eyrhFWxxjCj8fEU2tSmWvex1u\n",
              "ri68/3A41Sp4sPP3Mzy/eGshRiwiUnTl2OyMnL2BTQfTqFzOnU8GqzuklHz5TraTkpKIjo4mMDCQ\n",
              "yMhItm3bdsk8cXFxhIWFOaZq1arRrVs3x89fffVVgoKCCAsLo2XLlsTHx9/cXogUglMZ2QyYEc/H\n",
              "aw4A8HTHQCY9HE5Zj/x/1enjVYb3HgrHxQIL1h/ks4SUgg5XRKRIMya3O+R/dx9zdIe8Xd0hpRTI\n",
              "d7I9fPhwhg0bxu7duxk7diyxsbGXzDNw4EASExMdk6+vL3369AEgMTGRKVOmEB8fT2JiIo8++iiP\n",
              "PvroTe+ISEHaffQMnSevYvVvJyjv4cpH/ZrxaLsGN/WUfHRANZ7sEAjA84u3svP39IIKV0SkyHv1\n",
              "210s2pDbHXJyn3DC/Ss7OySRWyJfyXZqaioJCQn07dsXgO7du5OSksKePXuuuMzatWtJTU0lJiYG\n",
              "AIvFQk5ODhkZGQCcPn0aP78rF6/PysoiPT09z2SzacyrFJ7l24/SdfIqkk+eo3aVsiwcGU3HJr4F\n",
              "su5RdwfQJrA6mTm5X6WezbIWyHpFRIqyGb/s48P//gbAK92a0q7RbU6OSOTWyVeynZKSQo0aNXBz\n",
              "y208abFY8Pf3Jzk5+YrLTJ8+nX79+uHunvvwQ2hoKE8++ST16tXDz8+Pt99+m/fff/+Ky0+cOBFv\n",
              "b+88k4adSGEwxjB55R6GfppARraNO+pXZfGoVjTy9Sqwbbi4WHi7Zyi+XmXYeyyDcYu2YIwpsPWL\n",
              "iBQ1X206zEtf53aH/Nu9DenR/OpVnERKmkJ9QDIjI4N58+YxePBgx2v79u1j0aJF7Nmzh4MHD/Lk\n",
              "k0/Sq1evK65j3LhxpKWl5ZmioqIKM2wphc5n2xg9dyOvf7cLY6D/HXX4ZHAUVcp7FPi2qlbwZHKf\n",
              "cNxcLHy16TCz1l75w6qISHG2es9xnvpsE8bAgDvqOEqhipQm+Uq2a9euzZEjR7Bac7/6NsaQnJyM\n",
              "v7//ZedfsGABTZo0ISgoyPHawoULadq0KTVr1gRyx3evWrWK7Ozsy67D09MTLy+vPJOrq2pxSsE5\n",
              "fPo8PaauZunmI7i5WPhX12DGdw7G/TKNagpKszpVGHtfIwBe+mo7mw+eLrRtiYg4w7bDaQz7dD3Z\n",
              "NjsPNPXl+U5N1B1SSqV8ZRM+Pj5EREQwa9YsIDdx9vPzIyAg4LLzT58+Pc9dbYD69euzatUqzp7N\n",
              "be6xdOlSAgMD8fAo+DuIItey/sApYiatYuuhdKqU92D2kBb0aVHnlmx7SOt63BN0G9l/lMJKO5dz\n",
              "S7YrIlLYUk7+rztki3pVeKtnGK7qDimllFt+F5g6dSqxsbFMmDABLy8v4uLiABgyZAgxMTGOByF3\n",
              "7dpFYmIiy5Yty7N8165dWbduHc2bN8fT05Py5cszZ86cAtgVkfxZkJDC37/YSrbNTiPfivy7f3Nq\n",
              "Vyl3y7ZvsVh448FQ/jrpZ1JOnufpzzfxUb9muvMjIsXaibNZ9J8Rz7EzWbnX1gHNKeOub6Sl9LKY\n",
              "Yvh01pgxY3jrrbecHYYUU1abnYnf7GT6L/sAuK+JL2/2DKW8Z74/exaILQfT6P7BarJtdv7+QGOG\n",
              "tqnvlDhERG7WuWwrD/97LZtSTlOrUlkWjYzmNjWtkVJOHSSlVEk7l8PAmescifbj7RswpU+E0xJt\n",
              "gKZ+3jzXKfe5hle+3UnC/pNOi0VE5Ebl2OyMmr2BTSmnqVTOnY8HRSnRFkHJtpQie1LP0mXKKn5O\n",
              "Ok5Zd1em9IngyXsCcSkC4wj7tvCnU2hNbHbDo3M2cuJslrNDEhG5bsYYnlm4hZW7jlHG3YUZsZEE\n",
              "+Kg7pAgo2ZZSYuWuVLpOXsW+4xnUqlSWzx+5gwea1nB2WA4Wi4WJ3ZpSv3p5fk/P5In5idjtxW6E\n",
              "l4iUUq9/t4uFGw7mdofsHUGEukOKOCjZlhLNGMNHP/3GoJnrOJNlJbJuZRY/eidNano7O7RLVPB0\n",
              "Y0qfCMq4u/Bz0nEmr7xyZ1YRkaJi5qp9TPkxtzvkxK5Nad9Y3SFF/kzJtpRYmTk2nvpsExOW7cQY\n",
              "eCiyNrOHtKRaBU9nh3ZFjXy9eKlzMABvL9/N6j3HnRyRiMiVfb35CC8uze0O+XTHQHpGqjukyMWU\n",
              "bEuJdDQ9k14f/cqijYdwdbHwYkwTJnZriodb0T/lezSvTc/mftgNPDZvI6npmc4OSUTkEmt+O8GT\n",
              "8xMxBvq1rMOouy/fc0OktCv6mYdIPiWmnKbT+784noj/dFAUA6LrFqv61S/GBNPItyLHz2Yzeu5G\n",
              "rDa7s0MSEXHYfjidYZ8kkG2zc3+wLy/EqDukyJUo2ZYS5YuNB+k5dQ2pZ7Jo4FOBxaPuJDqgmrPD\n",
              "yreyHq5M7hNBeQ9X1u47yVvf73Z2SCIiwIXukPGcybISVa8Kb/dSd0iRq1GyLSWCzW6Y+M0Onpy/\n",
              "iWyrnQ6NfVg0Mpo6Vcs7O7Qbdnv1CrzSPQSAKT/+xsqdqU6OSERKu5MZ2QyIiyf1TBYNb8vtvKvu\n",
              "kCJXp2Rbir30zByGfLyOqf/dC8Cou2/no37NqVjG3cmR3bxOoTXpf0cdAJ78LJFDp887OSIRKa3O\n",
              "ZVsZNHMde49lUNO7DB8PisK7bPG/zooUNiXbUqztO55B18mrWLnrGJ5uLrz7UBh/u7dRkWhUU1D+\n",
              "/pfGhPh5c/pcDqNmbyDbqvHbInJr5djsPDpnI4l/PAvzyeAofL3VHVLkeijZlmLr56RjdJ70C78d\n",
              "y8DXqwyfj4imc1gtZ4dV4DzdXJncOwKvMm4kppzmlW92OjskESlFjDE8u2gLP+xMpYy7C9MHRBLg\n",
              "U9HZYYkUG0q2pdgxxjDjl30MmBFPeqaVcP9KLBl9J039il6jmoJSu0o53uwZBsCMVfv4ZssR5wYk\n",
              "IqXGm//ZzYL1B3GxwKSHI2hWR90hRfJDybYUK1lWG2MXbmb80u3YDTzYzI95w1riU7Hkf515T9Bt\n",
              "DG9TH4D/+3wz+49nODkiESnpPlmzn0l/dLOd0LUpHYLUHVIkv5RsS7Fx7EwWvf+9ls8Scu+w/OMv\n",
              "jXn9wRA83UrPk/BP39uQ5nUqcybLysjZG8jMsTk7JBEpoZZtOcI/l2wDYMw9gTwU5e/kiESKJyXb\n",
              "UixsPZRGzKRfWH/gFF5l3IgbGMWQ1vVLXRMFd1cX3u8dTpXyHmw/ks6LX213dkgiUgL9uvcET8zL\n",
              "7Q7Zp4U/o9upO6TIjVKyLUXeV5sO8+CHqzmSlkn96uX5ctSd3BVY3dlhOU0N77K80ysMiwXmxifz\n",
              "xcaDzg5JREqQHUfSGfpxbnfI+5r4Mr5zcKm7sSFSkJRsS5Fltxve+G4Xo+duJDPHTtuG1fly1J3U\n",
              "r17B2aE5XZvA6oxu1wCAZxdtJenoGSdHJCIlwcFTf+oOWbcK7zyk7pAiN0vJthRJZ7OsDJ+13vFg\n",
              "zvA29Zk+IBKvEtCopqA83r4BdwZU5XyOjZGzN3Au2+rskESkGDuVkc2AGfEcTc8i8LYK6g4pUkCU\n",
              "bEuRk3ziHN2mrOL77UfxcHPhrZ6hjHugse6uXMTVxcI7vcLxqehJUupZ/vHFVowxzg5LRIqh89k2\n",
              "Bn28jt/+3B2ynG5uiBQEJdtSpKz+7Tgxk39h99Gz+FT0ZP6wlnSL8HN2WEVW9YqevP9wOK4uFhZt\n",
              "PMT8dSnODklEihmrzc6jczawMfk03mXd+XhQFDW8yzo7LJESQ8m2FAnGGD5ds59+0+M5fS6HUD9v\n",
              "ljzainB/NU+4lhb1q/J0x4YAPL9kG9sOpzk5IhEpLowx/P2LrazYmYqnmwvTBzSnwW3qDilSkJRs\n",
              "i9NlW+38/cutPLd4Gza7oUtYTeYPvwNf75LfqKagDG9Tn3aNfMi22hk1ewPpmTnODklEioG3v9/N\n",
              "/IQUXCzw/sPhNK9bxdkhiZQ4SrbFqU6czaLv9LXMWZuMxQLP3N+It3uF6aGcfHJxsfBmj1BqVSrL\n",
              "/hPnGPv5Zo3fFpGr+vTXA7z3Q+5D6C93aUrHJr5OjkikZFKyLU6z40g6MZNWEb/vJBU83Zg+oDkj\n",
              "7rpd9VxvUOXyHkzqHY67q4Vvtv7OzNX7nR2SiBRR3249wvOLtwLwRIcG9G6h7pAihUXJtjjFt1uP\n",
              "0P2D1Rw6fZ66Vcvx5aho2jW6zdlhFXvh/pV59oHGAExYtoONyaecHJGIFDVr957gsT+6Q/Zu4c/j\n",
              "7Rs4OySREi3fyXZSUhLR0dEEBgYSGRnJtm3bLpknLi6OsLAwx1StWjW6devm+HlycjKdOnWiYcOG\n",
              "BAUF8f7779/cXkixYbcb3lm+mxGzNnAu20brBtVYPKoVAT56IKegxEbX5f5gX3JshkfnbORURraz\n",
              "QxKRImLn7+kM+SSBbKudjkG38ZK6Q4oUunwn28OHD2fYsGHs3r2bsWPHEhsbe8k8AwcOJDEx0TH5\n",
              "+vrSp08fIPfJ565du9K/f3927drF9u3b6dmz503viBR957KtjJqzgXeWJwEw6M56xMVGqpZrAbNY\n",
              "LLz6YAh1q5bj0OnzjPksEbtd47dFSrtDp88TO2MdZzKtNK9Tmff+KBsqIoUrX8l2amoqCQkJ9O3b\n",
              "F4Du3buTkpLCnj17rrjM2rVrSU1NJSYmBoAVK1bg6elJjx49HPPcdtuVhw9kZWWRnp6eZ7LZbPkJ\n",
              "W4qAg6fO0f2DNXyz9XfcXS281j2E5zsF4eaqkUyFwauMO5P7RODh5sLKXceY+tNeZ4ckIk50+lxu\n",
              "d8jf0zNp4FOBaQPUHVLkVslXppOSkkKNGjVwc3MDcu+g+fv7k5ycfMVlpk+fTr9+/XB3z717uX37\n",
              "dqpXr85DDz1EeHg4Xbt2Ze/eKycCEydOxNvbO88UHx+fn7DFyeL3naTzpFXsOJJOtQoezB3akp6R\n",
              "tZ0dVonXpKY342OaAPDGf3axdu8JJ0ckIs5wPtvGoJnr2JN6lhp/dIesVM7D2WGJlBqFelsxIyOD\n",
              "efPmMXjwYMdrVquVH374geeee46NGzdy7733XnUYybhx40hLS8szRUVFFWbYUoDmxifTZ9qvnMjI\n",
              "pklNLxY/2kp1XG+hXpG16RZeC5vdMHruRo6dyXJ2SCJyC1ltdkbP3ciG5NN4lXHj40FR1Kyk7pAi\n",
              "t1K+ku3atWtz5MgRrFYrkDv+Ojk5GX//y5cMWrBgAU2aNCEoKMjxmr+/P+Hh4TRpknvHrV+/fmzY\n",
              "sIGcnMs34fD09MTLyyvP5Oqqr76KuhybnX8u3sq4RVvIsRn+ElKDz0dEU0sX+VvKYrHwctdgGvhU\n",
              "IPVMFk/M34hN47dFSgVjDM8t3sryHUdzu0PGRhKo7pAit1y+km0fHx8iIiKYNWsWAAsXLsTPz4+A\n",
              "gIDLzj99+vQ8d7UB7r//fg4ePMihQ4cAWLZsGY0bN3YMM5Hi71RG7tjAj9ccAODpjoFMejicsh76\n",
              "kOQM5Tzc+KBvBGXdXVm15wTvrkhydkgicgu8szyJufG53SHfezicSH2rKOIUbvldYOrUqcTGxjJh\n",
              "wgS8vLyIi4sDYMiQIcTExDgehNy1axeJiYksW7Ysz/Lly5fnww8/5C9/+QvGGLy9vZk3b14B7IoU\n",
              "BbuPnmHIxwkknzxHeQ9X3u4Vpq5kRUCAT0UmdAvmyfmbeP+HJJrXqUybwOrODktECsmsXw84Pli/\n",
              "1CWYe3UdFnEaiymGPZ3HjBnDW2+95eww5CLLtx/l8Xkbyci2UbtKWf7dvzmNfL2cHZb8ybhFW5gb\n",
              "n0yV8h58/VgranhrWI9ISfPt1t8ZOXs9dgOPt2/Ak/cEOjskkVJNddfkphljmLxyD0M/TSAj28Yd\n",
              "9auyeFQrJdpF0D87BRFUw4uTGdmMnrORHJvd2SGJSAFat/8kj83biN3Aw1G1eaKDukOKOJuSbbkp\n",
              "57NtPDYvkde/24Ux0P+OOnwyOIoq5VVWqigq4+7KB30jqOjpRsKBU7zx3S5nhyQiBWT30TMMnrmO\n",
              "bKudDo3VHVKkqFCyLTfs8Onz9Ji6mq82HcbNxcK/ugYzvnMw7mpUU6TVqVqe13uEADD1p718v/2o\n",
              "kyMSkZt1+PR5BsyIJz3TSrM6lXn/4XA1DRMpIvSbKDdk/YFTxExaxdZD6VQp78HsIS3o06KOs8OS\n",
              "63RfcA0G3VkPgKc+SyTl5DknRyQiN+r0uWz6z4jnSFomAT4VmD6guao/iRQhSrYl3xYkpPDwR79y\n",
              "/GwWjXwrsnjUnbSoX9XZYUk+PXN/I8L9K5GeaWXUnA1kWW3ODklE8ikzx8aQjxPYk3oWXy91hxQp\n",
              "ipRsy3Wz2uy8tHQ7f/t8M9k2O/c18WXhI9HUrlLO2aHJDfBwc2FS7wgqlXNn88E0/vX1DmeHJCL5\n",
              "cKE7ZMKBU1T8ozukGoeJFD1KtuW6pJ3LYeDMdUz/ZR+QW05qSp8Iynvmu1S7FCG1KpXl7Z5hAHyy\n",
              "5gBfbTrs3IBE5Lrkdofcxvfbj+Lh5sK0/s1p6KvukCJFkZJtuaY9qWfpMmUVPycdp6y7K1P6RPDk\n",
              "PYG4uOgp95Lg7kY+jGx7OwDPLNzM3mNnnRyRiFzLuyuSmBufnNsd8qEwDeUTKcKUbMtVrdyVStfJ\n",
              "q9h3PINalcry+SN38EDTGs4OSwrYmHsCaVGvChnZNkbO3sD5bI3fFimKjDF89NNvvLM8tzvk+M7B\n",
              "3Besa7JIUaZkWy7rwgV90Mx1nMmyElm3MosfvZMmNb2dHZoUAjdXF95/OJxqFTzZ+fsZ/rlkq7ND\n",
              "EpGL2OyGF5ZsY8KynQA81r4BfVuqCpRIUadkWy6RmWPjqc82MWHZTswfXchmD2lJtQqezg5NCpGP\n",
              "VxneezgMFwt8lnCQBQkpzg5JRP5wPtvGiFnr+XjNAQD+8ZfGPKnukCLFgpJtyeNoeia9PvqVRRsP\n",
              "4epiYXznJkzo2hQPN50qpUH07dV4skMgAM8t3srO39OdHJGIHD+bxUP//tXxMOTk3hEMaV1f3SFF\n",
              "igllUOKQmHKaTu//wqaU01Qq586ng6Lof0ddXdBLmVF3B9AmsDqZOXZGzt7A2Syrs0MSKbV+O3aW\n",
              "blNWO67Lc4a04C8hGqMtUpwo2RYAvth4kJ5T15B6JosGPhVYPOpOogOqOTsscQIXFwvv9ArD16sM\n",
              "e49lMG7RFowxzg5LpNRJ2H+S7h+sJvnkOfyrlGPRI9E0r1vF2WGJSD4p2S7lbHbDxG928OT8TWRb\n",
              "7XRo7MOikdHUqVre2aGJE1Up78HkPuG4uVj4atNhZq1NdnZIIqXK15uP0HvaWk6fyyG0diUWjYym\n",
              "fvUKzg5LRG6Aku1SLD0zhyEfr2Pqf/cCMOru2/moX3MqlnF3cmRSFDSrU4Wx9zUC4KWvtrPlYJqT\n",
              "IxIp+Ywx/PunvYyas4Fsq517gm5j3lA9oC5SnCnZLqX2Hc+g6+RVrNx1DE83F957OJy/3dtIjWok\n",
              "jyGt63FP0G1k2+yMnLOetHM5zg5JpMS6UNrvX8t2ADDgjjp82LcZZT1cnRyZiNwMJdul0M9Jx+g8\n",
              "6Rd+O5aBr1cZPh8RTUxoTWeHJUWQxWLhjR6h1K5SlpST53n6800avy1SCC4u7ff3BxrzQkwTXHUD\n",
              "RKTYU7JdihhjmPHLPgbMiCc900q4fyWWjL6Tpn5qVCNX5l3WnSm9m+Hh6sL3248y7ed9zg5JpES5\n",
              "XGm/oW1U2k+kpFCyXUpkWW2MXbiZ8Uu3YzfwYDM/5g1riU/FMs4OTYqBpn7ePNcpCIBXvt1Jwv6T\n",
              "To5IpGTYe1Fpv9kq7SdS4ijZLgWOncmi97/X8lnCQVwsuZ3HXn8wBE83jQOU69e3hT+dQmtisxse\n",
              "nbORE2eznB2SSLGWsP8k3f4o7Ve7SlkWPhJNpEr7iZQ4SrZLuK2H0oiZ9AvrD5zCq4wbMwdGqfOY\n",
              "3BCLxcLEbk2pX708v6dn8uRnm7DbNX5b5EYs25K3tN8XI+/kdpX2EymRlGyXYF9tOsyDH67mSFom\n",
              "9auX58tRd9ImsLqzw5JirIKnG1P6RFDG3YWfdh9j8so9zg5JpFgxxjDtZ5X2EylNlGyXQHa74Y3v\n",
              "djF67kYyc+y0bVidL0fdqYYIUiAa+XrxUudgAN5evpvVe447OSKR4uFCab+Xv96BMSrtJ1JaKNku\n",
              "Yc5mWRk+az2T/rjjOLxNfaYPiMRLjWqkAPVoXpuezf2wG3hsXiKp6ZnODkmkSFNpP5HSS8l2CZJ8\n",
              "4hzdpqxylI96q2co4x5orIu5FIoXY4Jp5FuR42ezGD13I1ab3dkhiRRJKu0nUrop2S4hVv92nJjJ\n",
              "v7D76Fl8Knry2fA76Bbh5+ywpAQr6+HKlD4RlPdwZe2+k7y9fLezQxIpclTaT0TynWwnJSURHR1N\n",
              "YGAgkZGRbNu27ZJ54uLiCAsLc0zVqlWjW7dul8wXGxuLxWLh9OnTNxS85D5s8+ma/fSbHp/7VLuf\n",
              "N0sebUVY7UrODk1KgfrVK/BK9xAAJq/8jZU7U50ckUjRodJ+IgI3kGwPHz6cYcOGsXv3bsaOHUts\n",
              "bOwl8wwcOJDExETH5OvrS58+ffLMs2jRItzdNY74ZmRb7fz9y608t3gbNruhS1hN5g+/A19vNaqR\n",
              "W6dTaE3631EHgCc/S+TQ6fNOjkjE+fKU9vPzVmk/kVIsX8l2amoqCQkJ9O3bF4Du3buTkpLCnj1X\n",
              "Lv+1du1aUlNTiYmJcbx29OhRJkyYwFtvvXXNbWZlZZGenp5nstls+Qm7RDpxNou+09cyZ20yFgs8\n",
              "c38j3u4VRhl3PdUut97f/9KYED9vTp/LYdTs3JJmIqXRxaX9OjS+jbnDVNpPpDTLV7KdkpJCjRo1\n",
              "cHNzA3KbXPj7+5OcnHzFZaZPn06/fv3y3MUeOnQor732GhUrVrzmNidOnIi3t3eeKT4+Pj9hlzg7\n",
              "jqQTM2kV8ftOUtHTjekDmjPirtv1sI04jaebK5N7R+BVxo3ElNO88s1OZ4ckcsvZ7IYXv9ruKO3X\n",
              "/446TO3XjHIebs4OTUScqFAfkMzIyGDevHkMHjzY8dq0adPw9/enXbt217WOcePGkZaWlmeKiooq\n",
              "rJCLvG+3HqH7B6s5dPo8dauW44tR0bRrdJuzwxKhdpVyvNkzDIAZq/bx7dYjzg1I5Ba6UNpv5ur9\n",
              "QG5pvxdV2k9EyGeyXbt2bY4cOYLVagVyvy5LTk7G39//svMvWLCAJk2aEBQU5Hht5cqVLF68mLp1\n",
              "61K3bl0AQkJC2Lhx42XX4enpiZeXV57J1bX0DZWw2w3vLN/NiFkbOJdto3WDaiwe1YoAn2t/OyBy\n",
              "q9wTdBvD29QH4G8LNrP/eIaTIxIpfCrtJyJXk69k28fHh4iICGbNmgXAwoUL8fPzIyAg4LLzT58+\n",
              "Pc9dbYDZs2eTkpLC/v372b9/PwCbN28mPDz8BsIvHc5lWxk1ZwPvLE8CYNCd9YiLjcS7nB4wlaLn\n",
              "6Xsb0rxOZc5kWRk5ewOZOXrGQkoulfYTkWvJ9zCSqVOnMnXqVAIDA3nllVeIi4sDYMiQISxZssQx\n",
              "365du0hMTKRXr14FF20pdPDUObp/sIZvtv6Ou6uF17qH8HynINxcVSJdiiZ3Vxfe7x1OlfIebD+S\n",
              "zvil250dkkihUGk/EbkeFmOMcXYQ+TVmzJjrqmRS3MXvO8kjs9ZzIiObahU8+LBvM5rrQi7FxE+7\n",
              "jzEgLh5j4J1eYXQJr+XskEQKzLItR3hifiLZVjuhft5MGxBJ9YqqOCIil9Lt0SJqbnwyfab9yomM\n",
              "bIJrebHk0VZKtKVYaRNYndHtGgAwbtEWko6ecXJEIjfvSqX9lGiLyJUo2S5icmx2/rl4K+MWbSHH\n",
              "ZvhLSA0WDI+mZqWyzg5NJN8eb9+AOwOqcj7HxsjZGziXbXV2SCI3TKX9RORGKNkuQk5lZDNgRjwf\n",
              "rzkAwNMdA5n0cDhlPUpf9RUpGVxdLLzTKxyfip4kpZ7lH19spRiOXBNRaT8RuWFKtouI3UfP0Hny\n",
              "Klb/doLyHq581K8Zj7ZroNJRUuxVr+jJ+w+H4+piYdHGQ8xfl+LskETy5eLSfpN6h6u0n4hcNyXb\n",
              "RcDy7UfpOnmV44n2RSPvpGMTX2eHJVJgWtSvytMdGwLw/JJtbDuc5uSIRK7P5Ur7/TWkprPDEpFi\n",
              "RMm2ExljmLxyD0M/TSAj28Yd9auyZFQrGvqqUY2UPMPb1KddIx+yrXZGzd5AemaOs0MSuSqV9hOR\n",
              "gqBk20nOZ9t4bF4ir3+3y/GgzSeDo6hc3sPZoYkUChcXC2/2CKVWpbLsP3GOZxZu1vhtKbKWbTlC\n",
              "72lrOX0uh1A/bxY9cie3V6/g7LBEpBhSsu0Eh0+fp8fU1Xy16TBuLhb+1TWY8Z2DcVejGinhKpf3\n",
              "YFLvcNxdLSzb8rvjYTORokKl/USkoCm7u8XWHzhFzKRVbD2UTpXyHswe0oI+Leo4OyyRWybcvzLP\n",
              "PtAYgAnLdrAx+ZSTIxLJpdJ+IlIYlGzfQgsSUnj4o185fjaLRr4VWTzqTlrUr+rssERuudjoujzQ\n",
              "1Jccm+HRORs5fS7b2SFJKXc+28YjKu0nIoVAyfYtYLXZeWnpdv72+WaybXbua+LLwkeiqV2lnLND\n",
              "E3EKi8XCK91DqFu1HIdOn2fMZ5uw2zV+W5zj+NksHv73r/xHpf1EpBAo2S5kaedyGDhzHdN/2Qfk\n",
              "dtSb0ieC8p76WlJKN68y7kzuE4GHmws/7Exl6k97nR2SlEIXSvslqrSfiBQSJduFaE/qWbpMWcXP\n",
              "Sccp6+7KlD4RPHlPIC76WlIEgCY1vRkf0wSAN/6zi7V7Tzg5IilN1h84SXeV9hORQqZku5Cs3JVK\n",
              "18mr2Hc8g1qVyvL5I3fwQNMazg5LpMjpFVmbbuG1sNkNo+du5NiZLGeHJKXAN1uO8PC/13JKpf1E\n",
              "pJAp2S5gxhg++uk3Bs1cx5ksK1F1q7D40TtpUtPb2aGJFEkWi4WXuwbTwKcCqWeyeGL+Rmwavy2F\n",
              "5EJpv5GO0n4+Ku0nIoVKyXYBysyx8dRnm5iwbCfGwMNRtZk1pAXVKugiLnI15Tzc+KBvBGXdXVm1\n",
              "5wTvrkhydkhSAl2+tF9zlfYTkUKlZLuAHE3PpNdHv7Jo4yFcXSyM79yECV2b4uGmQyxyPQJ8KjKx\n",
              "W1MA3v8hiZ92H3NyRFKSXFza79kHGqm0n4jcEsoEC8CmlNPETPqFTX88zf7poCj631FXZaNE8qlL\n",
              "eC16t/DHGHhifiK/p2U6OyQpAfKU9nPNLe03rM3tukaLyC2hZPsmfbHxID2mruFoehYNfCqweNSd\n",
              "RAdUc3ZYIsXW838NIqiGFyczsnl0zgZybHZnhyTF2J9L+3mXdWeWSvuJyC2mZPsG2eyGid/s4Mn5\n",
              "mxwP2SwaGU2dquWdHZpIsVbG3ZUP+kZQ0dONhAOneOO7Xc4OSYqpi0v7LRoZTVQ9lfYTkVtLyfYN\n",
              "SM/MYcjH65j639wmHI/eHcBH/ZpTsYy7kyMTKRnqVC3P6z1CAJj6016+337UyRFJcaPSfiJSVCjZ\n",
              "zqd9xzPoOnkVK3cdw9PNhfceDufpexuqUY1IAbsvuAaD7qwHwFOfJZJy8pyTI5LiQKX9RKSoUbKd\n",
              "Dz8nHaPzpF/47VgGvl5l+HxENDGhGvsnUlieub8R4f6VSM+0MmrOBrKsNmeHJEXYxaX9+rVUaT8R\n",
              "cT4l29fBGMOMX/YxYEY86ZlWwv0rsWT0nTT1U6MakcLk4ebCpN4RVCrnzuaDaUz4eoezQ5Ii6nKl\n",
              "/cZ3Vmk/EXE+JdvXkGW1MXbhZsYv3Y7dwIPN/Jg3rCU+Fcs4OzSRUqFWpbK83SsMgI/XHOCrTYed\n",
              "G5AUOScuKu33/sMq7SciRYeS7as4diaL3v9ey2cJB3GxwHN/DeL1B0PwdHN1dmgipcrdDX0Ydfft\n",
              "ADyzcDN7j511ckRSVOw9dpZuH+Qt7ddJw/tEpAhRsn0Vy3ccZf2BU3iVcWPmwCgGt6qnOyUiTvJk\n",
              "h0Ba1KtCRraNkbM3cD5b47dLuwul/Q6cUGk/ESm68p1sJyUlER0dTWBgIJGRkWzbtu2SeeLi4ggL\n",
              "C3NM1apVo1u3bgBs2bKFNm3a0KhRI4KDgxk0aBDnz5+/+T0pBA9F1uaJDg34ctSdtAms7uxwREo1\n",
              "tz+GB1Sr4MnO38/wzyVbnR2SOJFK+4lIcZHvZHv48OEMGzaM3bt3M3bsWGJjYy+ZZ+DAgSQmJjom\n",
              "X19f+vTpA0CZMmWYNGkSO3fuZNOmTWRkZPDqq6/e9I4UBovFwhMdAqmvC7hIkeDjVYb3Hg7DxQKf\n",
              "JRxkQUKKs0OSW0yl/USkuMlXsp2amkpCQgJ9+/YFoHv37qSkpLBnz54rLrN27VpSU1OJiYkBoEGD\n",
              "BoSE5DarcHV1JTIykv37919x+aysLNLT0/NMNpu+PhYpraJvr8aTHQIBeG7xVnb+nu7kiORWUWk/\n",
              "ESmO8pVsp6SkUKNGDdzcci9sFosFf39/kpOTr7jM9OnT6devH+7ul3ZXzMjIYNq0aXTu3PmKy0+c\n",
              "OBFvb+88U3x8fH7CFpESZtTdAbQJrE5mjp2RszdwNsvq7JCkkKm0n4gUV4X6gGRGRgbz5s1j8ODB\n",
              "l/wsOzubXr160bFjR7p27XrFdYwbN460tLQ8U1RUVGGGLSJFnIuLhXd6heHrVYa9xzIYt2gLxhhn\n",
              "hyWFRKX9RKQ4y1eyXbt2bY4cOYLVmnsXyRhDcnIy/v7+l51/wYIFNGnShKCgoDyv5+Tk0KtXL2rU\n",
              "qMG777571W16enri5eWVZ3J1Vek9kdKuSnkPJvcJx83FwlebDjNr7ZW/YZPiS6X9RKS4y1ey7ePj\n",
              "Q0REBLNmzQJg4cKF+Pn5ERAQcNn5p0+ffsldbavVykMPPUSVKlX46KOPdGdCRG5YszpVeOb+RgC8\n",
              "9NV2thxMc3JEUpAuLu238BGV9hOR4iffw0imTp3K1KlTCQwM5JVXXiEuLg6AIUOGsGTJEsd8u3bt\n",
              "IjExkV69euVZfv78+SxatIiEhATCw8MJCwtj1KhRN7kbIlJaDW5Vj3uCbiPbZmfknPWknc9xdkhS\n",
              "AP5c2i/kj9J+AT6qDCUixY/FFMOBjmPGjOGtt95ydhgiUkSknc/hr+//TMrJ83QMuo2p/ZrpW7Ni\n",
              "bNrPe/nXstyKIx0a+/Dew+GqOCIixZY6SIpIsedd1p0pvZvh4erCf7YfZfov+5wdktwAm93wwpJt\n",
              "Ku0nIiWKkm0RKRGa+nnzXKfch7Ff+WYn6w+cdHJEkh/ns22MnP2/0n7j7ldpPxEpGZRsi0iJ0beF\n",
              "P51Ca2K1G0bN3siJs1nODkmuw4XSft9t+19pv+F3qbSfiJQMSrZFpMSwWCxM7NaU+tXL83t6Jk9+\n",
              "tgm7vdg9llKq7DueodJ+IlKiKdkWkRKlgqcbH/RpRhl3F37afYzJK/c4OyS5gvUHTtJtyioOnDiH\n",
              "X2WV9hORkknJtoiUOA19K/Jyl6YAvL18N6v3HHdyRHKxb7YcofefSvt9MVKl/USkZFKyLSIl0oPN\n",
              "/OjZ3A+7gcfmJZKanunskOQP03/Zx8g5G8iy2mnfyId5w1pSvaKns8MSESkUSrZFpMR6MSaYRr4V\n",
              "OX42i9FzN2K12Z0dUql2obTfS0u3Ywz0benP1H7NVNpPREo0JdsiUmKV9XBlSp8Iynu4snbfSd5e\n",
              "vtvZIZValyvt91LnYNxc9WdIREo2XeVEpESrX70Cr3QPAWDyyt9YuSvVyRGVPirtJyKlmZJtESnx\n",
              "OoXWpP8ddQB4cn4ih06fd3JEpYdK+4lIaadkW0RKhb//pTEhft6cPpfDo3M2kG3V+O3CptJ+IiJK\n",
              "tkWklPB0c2Vy7wi8yrixMfk0r3yz09khlWgq7ScikkvJtoiUGrWrlOPNnmEAzFi1j2+3HnFuQCWU\n",
              "SvuJiPyPkm0RKVXuCbqN4W3qA/C3BZs5cCLDyRGVHDa74cWvVNpPROTPlGyLSKnz9L0NiaxbmTNZ\n",
              "VkbO3kBmjs3ZIRV7F0r7xa3aD6i0n4jIBboKikip4+7qwvsPR1ClvAfbDqczful2Z4dUrJ04m0Xv\n",
              "aSrtJyJyOUq2RaRU8vUuwzu9wrBYYM7aZL7ceMjZIRVLF0r7bUxWaT8RkctRsi0ipVabwOqMbtcA\n",
              "gGe/2MKe1DNOjqh4WX/glEr7iYhcg5JtESnVHm/fgDsDqnIu28YjszZwLtvq7JCKhdzSfr+qtJ+I\n",
              "yDUo2RaRUs3VxcI7vcLxqehJUupZ/vHFVowxzg6rSFNpPxGR66dkW0RKveoVPXn/4XBcXSws2niI\n",
              "+etSnB1SkaTSfiIi+adkW0QEaFG/Kk93bAjA80u2se1wmpMjKlouLu33jEr7iYhcF10lRUT+MLxN\n",
              "fdo38iHbamfU7A2kZ+Y4O6Qi4eLSfu89HM4IlfYTEbkuSrZFRP7g4mLhzZ6h1KpUlv0nzvHMws2l\n",
              "fvz2xaX9Ph0cRYxK+4mIXDcl2yIif1KpnAeTeofj7mph2Zbf+Xj1fmeH5DSXlva7gxb1qzo7LBGR\n",
              "YiXfyXZSUhLR0dEEBgYSGRnJtm3bLpknLi6OsLAwx1StWjW6devm+PnSpUtp1KgRDRo0oFu3bqSn\n",
              "p9/cXoiIFKBw/8o8+0BjAP61bAcbk085OaJb78+l/ZrW8mbRyGgCfCo6OywRkWIn38n28OHDGTZs\n",
              "GLt372bs2LHExsZeMs/AgQNJTEx0TL6+vvTp0weAs2fPMnjwYL788kuSkpKoWbMmL7300k3viIhI\n",
              "QYqNrssDTX3JsRkenbOR0+eynR3SLXNxab/5w1viU7GMs8MSESmW8pVsp6amkpCQQN++fQHo3r07\n",
              "KSkp7Nmz54rLrF27ltTUVGJiYgD45ptvCA8Pp1GjRgCMHDmSuXPnXnH5rKws0tPT80w2my0/YYuI\n",
              "5JvFYuGV7iHUrVqOQ6fP89Rnm7DbS/b4bZX2ExEpePlKtlNSUqhRowZubrkXXovFgr+/P8nJyVdc\n",
              "Zvr06fTr1w93d3cAkpOTqVOnjuPndevW5ciRI1itl+/aNnHiRLy9vfNM8fHx+QlbROSGeJVxZ0qf\n",
              "Zni4ubBiZypTf9rr7JAKTWaOSvuJiBSGQr2KZmRkMG/ePAYPHnzD6xg3bhxpaWl5pqioqAKMUkTk\n",
              "yoJqejE+pgkAb/xnF2v3nnByRAXvxNksHv63SvuJiBSGfCXbtWvXznMX2hhDcnIy/v7+l51/wYIF\n",
              "NGnShKCgIMdr/v7+HDhwwPH//fv357lbfjFPT0+8vLzyTK6urvkJW0TkpvSKrE238FrY7IbRczdy\n",
              "7EyWs0MqMCrtJyJSuPKVbPv4+BAREcGsWbMAWLhwIX5+fgQEBFx2/unTp19yV/u+++5jw4YN7Ny5\n",
              "E4ApU6bw0EMP3UjsIiK3hMVi4eWuwTTwqUDqmSyemL8RWwkYv63SfiIihS/fw0imTp3K1KlTCQwM\n",
              "5JVXXiEuLg6AIUOGsGTJEsd8u3btIjExkV69euVZvmLFikybNo0uXboQEBDAwYMHee65525yN0RE\n",
              "Clc5Dzc+6BtBWXdXVu05wXsrkpwd0k1RaT8RkVvDYophe7QxY8bw1ltvOTsMESmFvtx4iCfmJ2Kx\n",
              "wMcDo2gTWN3ZIeXb9F/28fLXuRVH2jfy4f3e4ao4IiJSSPSYuYhIPnQJr0XvFv4YA0/MT+T3tExn\n",
              "h3TdVNpPROTWU7ItIpJPz/81iCY1vTiZkc3ouRvIsdmdHdI1qbSfiIhz6CorIpJPZdxdmdIngoqe\n",
              "bqzbf4o3vtvl7JCuSqX9REScR8m2iMgNqFO1PK/3CAFg6k97+X77USdHdHl/Lu3nVcZNpf1ERG4x\n",
              "JdsiIjfovuAaDLqzHgBPfZZIyslzTo4or4tL+y0aGa3SfiIit5iSbRGRm/DM/Y0I969EeqaVUXM2\n",
              "kGW1OTskAL7dqtJ+IiJFgZJtEZGb4OHmwqTeEVQq587mg2lM+HqHs0Ni+i/7eGT2BrKsdto38mHe\n",
              "sJb4VCzj7LBEREolJdsiIjepVqWyvN0rDICP1xzgq02HnRLHxaX9+rTILe1X3lOl/UREnEXJtohI\n",
              "Abi7oQ+j7r4dgGcWbmbvsbO3dPuZOTZGzd6Qp7Tfy11U2k9ExNl0FRYRKSBPdgikRb0qZGTbGDl7\n",
              "A5k5t2b89oXSft9u+x0PVxfefShMpf1ERIoIJdsiIgXEzdWF9x8Op1oFT3b+fobnF28t9G3uP55B\n",
              "94tK+3UOq1Xo2xURkeujZFtEpAD5eJXhvYfDcLHAZwkHWZCQUmjbWn/gFN0+WM3+E+eoVUml/URE\n",
              "iiIl2yIiBSz69mo82SEQgOcWb2XX72cKfBsXSvudzMimaS1vvhil0n4iIkWRkm0RkUIw6u4A2gRW\n",
              "JzPHziOz13M2y1pg6/5zab92Ku0nIlKkKdkWESkELi4W3ukVhq9XGfYey2Dcoi0YY25qnZcr7feR\n",
              "SvuJiBRpSrZFRApJlfIeTO4TjpuLha82HWb22uQbXpdK+4mIFE+6SouIFKJmdarwzP2NABj/1Xa2\n",
              "HEzL9zpU2k9EpPhSsi0iUsgGt6pHx6DbyLbZGTlnPWnnc657WZX2ExEp3pRsi4gUMovFwus9Qqld\n",
              "pSwpJ8/ztwWbrmv8tkr7iYgUf0q2RURuAe+y7kzp3QwPVxf+s/0o03/Zd9X5VdpPRKRkULItInKL\n",
              "NPXz5rlOQQC88s1O1h84edn5Zqi0n4hIiaFkW0TkFurbwp+Y0JpY7YZH52zkZEa242c2u2H8V9sZ\n",
              "r9J+IiIlhpJtEZFbyGKxMKFbU+pXL8+RtEyemJ+I3W4cpf1mrModXjL2PpX2ExEpCXS7RETkFqvg\n",
              "6cYHfZrRefIv/LT7GK9+u5N1+0+yIfk0Hq4uvN4jRBVHRERKCN0yERFxgoa+FXm5S1MApv60lw1/\n",
              "lPb7RKX9RERKFCXbIiJO8mAzP3o29wNwlPZrqdJ+IiIlioaRiIg40YSuTekY5EuzOpWpXN7D2eGI\n",
              "iEgBy/ed7aSkJKKjowkMDCQyMpJt27Zddr4tW7bQtm1bGjduTOPGjVm0aBEAdrudMWPGEBQUREhI\n",
              "CHfffTd79uy5ub0QESmm3Fxd6BB0mxJtEZESKt/J9vDhwxk2bBi7d+9m7NixxMbGXjLPuXPn6Ny5\n",
              "My+//DI7duxg69attG7dGoAlS5awatUqNm3axObNm2nfvj3PPvvsTe+IiIiIiEhRk69kOzU1lYSE\n",
              "BPr27QtA9+7dSUlJueTO9Jw5c2jZsiWtWrUCwNXVlerVqwO5Za+ysrLIzMzEGEN6ejp+fn5X3GZW\n",
              "Vhbp6el5JpvNlq+dFBERERFxhnwl2ykpKdSoUQM3t9yh3haLBX9/f5KTk/PMt337djw9PfnrX/9K\n",
              "WFgY/fv359ixYwB06tSJtm3b4uvrS40aNVixYgXjx4+/4jYnTpyIt7d3nik+Pj6/+ykiIiIicssV\n",
              "SjUSq9XK8uXLmTp1Khs3bqRWrVo88sgjACQkJLB161YOHTrE4cOHad++PSNGjLjiusaNG0daWlqe\n",
              "KSoqqjDCFhEREREpUPmqRlK7dm2OHDmC1WrFzc0NYwzJycn4+/vnmc/f35+7776bWrVya8X27duX\n",
              "e++9F4BPPvmEdu3aUalSJQAGDBhAx44dr7hNT09PPD0987zm6uqan7BFRERERJwiX3e2fXx8iIiI\n",
              "YNasWQAsXLgQPz8/AgIC8szXs2dP1q1bR3p6OgDLli0jNDQUgPr16/PDDz+QnZ0NwNKlSwkODr7p\n",
              "HRERERERKWryXWd76tSpxMbGMmHCBLy8vIiLiwNgyJAhxMTEEBMTg7+/P88++yzR0dG4uLhQq1Yt\n",
              "PvroIwBGjRrFjh07CA0Nxd3dHV9fXz788MOC3SsRERERkSLAYowxzg4iv8aMGcNbb73l7DBERERE\n",
              "RK5K7dpFRERERAqJkm0RERERkUKiZFtEREREpJAUyzHb3bp1o27durdkWzabjfj4eKKiolRy8E90\n",
              "XK5Mx+bydFyuTMfm8nRcrkzH5vJ0XC7PWcelTp06PP7447dse0VVsUy2b6X09HS8vb1JS0vDy8vL\n",
              "2eEUGTouV6Zjc3k6LlemY3N5Oi5XpmNzeToul6fj4lwaRiIiIiIiUkiUbIuIiIiIFBIl2yIiIiIi\n",
              "hUTJ9jV4enryz3/+E09PT2eHUqTouFyZjs3l6bhcmY7N5em4XJmOzeXpuFyejotz6QFJEREREZFC\n",
              "ojvbIiIiIiKFRMm2iIiIiEghUbItIiIiIlJIlGyLiIiIiBSSEpNsWywWTp8+XejbeeGFF3jiiScA\n",
              "WLJkCU8++WShb1NEREREiqcSk2w7Q0xMDG+//bazwyhyXnjhBTIzM2/JthITE5k3b951zfvjjz8S\n",
              "FhZWuAEVoLZt2/Lll1/e9HqaN2/Ojz/+eNPrKQjr1q0jOjqacuXK0aVLl8vOc+H8mTRpErGxsbc0\n",
              "vguKy7lSUHEuXbqUtm3b3vR6Cspjjz2GxWLBYrGQmJh41XmrVavG/v37gfwfj+eff57Zs2df9mc3\n",
              "c/7Fxsbyzjvv3NCy16O0XPeu9bckLCyMM2fOAFC3bt0858rVrnsJCQn06tXrsj87e/YsFovlhmK/\n",
              "Ffbv30+lSpUKdRvvvPMOv//++3XNW1B/p24FZ14vS1Sy/cYbbxAeHk5gYGCeC2ifPn1o3rw5ISEh\n",
              "/OUvf3GcRMeOHaNjx440bdqUkJAQBg4cmGddUVFRREREcN9993HgwIFLtjdz5kxHwvDjjz8SHBzM\n",
              "yJEjCQ0NpUmTJiQkJDjm/e6772jVqhXNmjUjKiqKlStXFtJRcL4XX3yxSCbb4nw1atTgnXfeueqH\n",
              "1Ft5/hQ2q9Xq7BCKpQcffBCA2rVrF9o2rFYr48ePp0+fPoW2jZtxtXOntFz3rnQtuHBsEhMTqVix\n",
              "Yr7WabVaad68OfPnzy+QGIurq51f+Um25fqUqGTbYrGwceNGvv32W0aPHu242/HOO++QkJDA5s2b\n",
              "ad26NS+88AIAs2bNol69emzZsoXNmzfz5ptvAjBnzhx27drFmjVr2LBhA3369GHkyJHX3P7OnTsZ\n",
              "MGAAmzZtYvTo0fz9738HYO/evbzwwgssW7aM9evXM2fOHHr37k1WVlahHIcbtWbNGlq1akVoaCgh\n",
              "ISEsXrz4qncLXn75ZRo3bkxYWBhhYWEcOHCAESNGANC6dWvCwsJITU0lNTWVbt260bRpU4KDg5k6\n",
              "dapjfXXr1uUf//gH0dHR1K5dmw8//JC4uDjuuOMO6tate9U/KKmpqTz//POsXLmSsLAwx7a/++47\n",
              "IiIiCAkJ4a677mL79u2XLJuenk7Hjh0ZP368Y5nLfRi61oeoy8nJyeGZZ54hKiqKsLAwevbsyalT\n",
              "p4DcO17Dhg2jQ4cO1KtXj0GDBhEfH0/btm2pX78+Y8aMybOuFStWEBkZSUBAAE899RQXyuL//vvv\n",
              "9OzZk6ioKJo2bco//vEPxzKrV68mLCyM4OBgBg4ceF0J39dff01kZCShoaGEhYWxdu3aqx7Lyx2X\n",
              "GTNm0KpVK6pWrUqNGjUc58/XX3+Nr68vOTk5dOnShXPnzuHp6cmuXbvynD/btm3j9ttvB6BWrVq8\n",
              "8MILnD9/vtDOnwteffVVmjZtSmhoKC1btuTcuXNA7h+jy73vVquVe++9l+bNm9OkSRN69+5NRkaG\n",
              "47g0adKEwYMHExYWxhdffHHF7a5bt4527drRvHlzwsPDWbBgAfC/O1fPPfccERERNGjQgFWrVvHk\n",
              "k0863tetW7c61mO1Wunfvz/BwcE0a9Ysz+/rp59+SosWLYiIiKBNmzZs2rQJyD1HR44cSYMGDa77\n",
              "w39aWhpDhgwhODiY0NBQBg0aBOTeCRw0aBDBwcEEBwfz4osvOpZp27YtTz/9NK1bt+b22293/I6m\n",
              "pKTg4+NDdna2Y97Y2FjeffddANq0aQPAmTNn6Nu3L/Xq1SMuLg6AsWPHUr58eUJCQvi///s/jDHc\n",
              "eeedjnPzSsfjcu/Nn+9Anzlzhl69etGwYUNatWrFli1brnlMDh06xIMPPui4YfPcc885frZjxw7a\n",
              "t29PYGAg3bp1c+zrihUruOOOOwgPD6dJkyZMnz49zzEYNGgQbdq0ITg4+LLbLC3XPR8fHwACAgII\n",
              "CwvjgQce4OGHH6Z69epUrFiRpk2b5hk+mpWVRceOHSlbtixeXl4cPnzYsb66desyduxYoqKiGDBg\n",
              "wCV3OKdOnUqDBg0IDw+/rm+rZ86cSbt27YiJiSEoKIg2bdo48g2bzcbf/vY3x+/D6NGjHe/9tGnT\n",
              "CAoKIiwsjKZNmzqus1cSFxdHWFgYoaGhNG/e3LENgH/+8580a9aMgIAAli1b5nj9SjcXL1xXxo4d\n",
              "S0REBJMmTbrsNsePH8/hw4fp1asXYWFhJCYmXvV3/M8WLlxIaGgov/32G2fOnGHo0KFERUUREhLC\n",
              "sGHDHMfhSteFqylu18tLmBICMPv373f8v3Pnzubjjz82xhjzzjvvmGbNmpkmTZqY22+/3bRo0cIY\n",
              "Y8zq1atN7dq1zZgxY8yXX35pMjMzjTHG9OjRw9StW9eEhoaa0NBQExwcbIKDg40xxvzzn/80jz/+\n",
              "uDHGmLi4ONO5c2djjDErV640DRs2dGw/MTHR3H777cYYYyZPnmyqVavmWF9oaKipWbOm2b17d6Ee\n",
              "k/w4ceKE8fHxMT/99JMxxhibzWZOnDhh6tSpYzZu3OiYr1mzZmblypXm5MmTxtvb25w7d84YY0xG\n",
              "RoY5f/68MSb3vTh16pRjmZ49e5pnnnnGGGPM0aNHjZ+fn1mzZo0xxpg6deqYJ554whhjTFJSkilT\n",
              "pox56aWXjDHGxMfHm2rVql017j+/BxfWX6VKFbN582ZjjDGzZs0yjRs3Nna73axcudKEhoaa5ORk\n",
              "ExER4Tg/fvvtN9OyZUuTlpbmiMPX19dkZmaalStXGldXV/Prr78aY4z54IMPTMeOHa8a07/+9S8z\n",
              "fvx4x//Hjx9vRo4caYwxZsCAAaZly5bm/PnzJisry9x+++2mS5cuJjs725w9e9b4+PiYrVu3GmOM\n",
              "ueuuu0y7du1Mdna2ycjIMM2aNTOzZ882xhjTsWNH8+OPPxpjjMnJyTH33nuv+eyzz0xWVpbx8/Mz\n",
              "33//vTHGmO+++84AZuXKlVeMd9euXaZ69epmx44dxhhjsrOzzenTp695LP98XN544w3j4eFhfvrp\n",
              "J7Nq1SoTFBTkOH+GDRtmxowZY4z53/kzadIk4+bmluf8eeKJJ0y/fv0cv8uNGjUyAwYMKNTzZ+bM\n",
              "mSYyMtKcPn3aGGPMyZMnjdVqver7brfbzfHjxx3/HjFihJk4caIxJvc6YLFYHO/NlZw6dcqEhYWZ\n",
              "w4cPG2OMOXbsmKldu7Y5ePCg2bdvnwHMF198YYwxZtq0aaZ8+fLmhx9+MMYY89prr5kHH3zQsT3A\n",
              "LF++3BhjzPz5803Dhg2N3W43v/zyi7n//vsd17WffvrJBAUFGWOMmTRpkmnXrp3JysoyWVlZpm3b\n",
              "tuauu+66asyxsbHmkUceMTabzRhjTGpqqjHGmP/7v/8zvXv3NjabzZw9e9aEhYWZefPmGWNyz+Eu\n",
              "XbqYnJwcc+7cOVO3bl2zevVqY4wx99xzj1mwYIExxpgzZ86YypUrO46rMbnXkcqVK5uNGzeaHTt2\n",
              "mAoVKphDhw6ZypUrm5o1a5qdO3eaqVOnGsBER0df83hc7r0ZMGCAefvtt40xxjz99NOmX79+xm63\n",
              "m9OnTzvOv6tp27atmTBhguP/F47JgAEDTFRUlMnIyDBWq9VER0ebOXPmGGP+d44Zk3vd9ff3Nykp\n",
              "KY7lQkJCTHp6+lW3W1que4AJDQ01s2fPNgMGDDAVKlQwy5YtM8bkXvcAExcXZ7Kysoyrq6vp0KGD\n",
              "sdvt5rPPPjOAef/9940xudeJwYMHG7vdbowxjmNijDFbtmwxt912m+N3cdy4ceZaqVFcXJzx8PAw\n",
              "27dvN8YY8+qrr5p77rnHGGPMlClTzF133WUyMzNNTk6Ouf/++80rr7xijDHGy8vLsZ3s7Gxz5syZ\n",
              "K25j5cqVpm7duo75MzIyTEZGhuP68PnnnxtjjPnmm29MYGCgY7kL56AxxkycONEMHz7cGGMcy114\n",
              "/6/m4r/71/od/+KLL8ybb75pWrVq5fgdHjp0qGNbdrvdDB482Lz22muOZa50Xbic4ni9vFiJurN9\n",
              "MYvFwi+//MJ7773HsmXL2Lp1K2+99Zbja6k77riDxMREWrRowaJFi4iMjMRms2GMYdy4cSQmJpKY\n",
              "mMiWLVuu6y5HmTJlHP92dXV13FE0xnDPPfc41peYmMihQ4do0KBB4ez4DVizZg0NGzakdevWALi4\n",
              "uFClSpUrzu/l5UWDBg3o27cvU6dO5eTJk3n2/8+WL1/O8OHDAfDx8aFbt24sX77c8fMLY+cCAgIo\n",
              "U6aM4yvk5s2bc/LkyXw9+Lp27VqaNm1K06ZNgdxP+YcPH+bQoUMAHD16lDZt2vDaa6/Rv39/AL79\n",
              "9lv27NlDmzZtCAsL48EHH8TFxYXk5GRHXC1atAByz5nffvvtqjF8+eWXzJo1y3HHdu7cuezbt8/x\n",
              "886dO1OmTBk8PDxo2rQp9957L+7u7pQvX56goCCSkpIc8/bv3x93d3fKlStH3759Wb58ORkZGaxY\n",
              "sYLHH3+csLAwmjdvzp49e9i1axc7d+7Ezc2NDh06ANCxY0fq169/1Xi///577rvvPho1agSAu7s7\n",
              "3t7e1zyWfz4uHh4euLi40Lp1a6Kjo7HZbI7j9NVXX+UZogVQtmxZKlSokOf8+e9//8vgwYMB8Pb2\n",
              "pnfv3kDhnj9Lly5lxIgReHt7A1C5cmVcXV0v2b8/v+/GGN5++23Cw8MJCQnh66+/znN3pH79+tx1\n",
              "111XPearV69m79693H///YSFhTner127dgG515ILQ9SaN29OhQoVuPvuuwGIiorKc47UrVuX9u3b\n",
              "A9CzZ09+//13UlJSWLx4MZs2baJFixaEhYUxevRoTp48yfnz51mxYgX9+/fHw8MDDw8Px13qq1m6\n",
              "dClPP/00Li65fzaqV68O5L4/Q4cOxcXFhfLly9O/f3++//57x3K9evXCzc2NsmXLEhYW5jiOAwcO\n",
              "dNytXrBgAe3ataNq1ap5tlm+fHkAGjVqhJubG99++y2hoaE8/vjjTJ48mcGDB2OxWBy/y1c7Htd6\n",
              "b1asWOFY35/Pvys5e/Ysv/zyC0899ZTjtQvHBKBr166UK1cOV1dXoqKiHPt94sQJevToQXBwMO3a\n",
              "tePEiRN57rz16NEj30MjSup1D3LPn+XLl2O1WsnIyGDcuHGO6x5AUlISO3fuBOAf//gHFouFHj16\n",
              "4OXlxfr16x3rjI2NvexY7B9++IH777+fGjVqAPDII49c1zGPjo6mcePGAAwbNowff/wRm83G8uXL\n",
              "iY2NxdPTEzc3N4YOHer4fWjfvj39+vXj3XffZd++fVSoUOGK6//666/p16+fI65y5cpRrlw5IPf6\n",
              "0K1bN+DS92bOnDk0b96c4OBgpk2blufa5O7uTt++fa9r//7sWr/jL7/8MitWrOD77793/A5/+eWX\n",
              "vP7664SFhREeHs7PP//Mnj17HMtc6bpwOcXxenkxt3wvUYTFxcXxwgsvsH//fn7++WfeeecdtmzZ\n",
              "QsWKFalatSrZ2dl5voLet28ftWrVomfPntx33334+Phw9uxZunTpwptvvsmDDz5IlSpVyMnJYevW\n",
              "rYSHh99QXPfeey8vvvgimzdvJiQkBID4+HiioqIKZL8Lk5ubGzabzfH/Cx9UXF1d+fXXX1m9ejU/\n",
              "/vgjLVu2ZO7cuY5k/WouvuBd/CHlwv8vPCBVkONeK1WqREBAAEuXLqVdu3ZYLBbHh6E5c+ZcMv+h\n",
              "Q4eu+CHqSowxvP/++3Ts2PGyP7/S/l7P+i/EC/Drr79e8gFn8+bNl12mMFwc94W44H+JVE5ODpUq\n",
              "VXJ8JX7h/HFxcaFNmzY88cQTjvPnwh+Sa8V9q86fK70vc+bM4YcffuC///0vXl5evPfee/zwww+O\n",
              "ea/2B/QCYwxNmjRh9erVl/xs//79eHp6XnafLo7lci7stzGGAQMGMGHChGvGU5DnyLXenwuxd+3a\n",
              "lccee4wjR44wc+ZM/u///u+q63J1dXVci4YOHUpQUBB9+/bFGOP443uleC6s53remyvtR35dab9H\n",
              "jBjBAw88wMKFC7FYLEREROQZl5yfGK9XSb3uWSwW/va3vzk+IFy8zJ/fw+s9rgV9vfzz+hYuXMj6\n",
              "9ev58ccfeeCBB3j55Zd56KGH8r1OT09Px3r//Htx4ebimjVr8PHxYcmSJTz//POO5cqVK+f4sHwz\n",
              "Lj5GLVq04D//+Q979+4lKCgIyD0fFi5cSGBg4GXXkZ/3vyRcL0vUnW2bzUZ4eDgdO3bkvffeo27d\n",
              "utx33300bNjQcdf2z+O0fvzxR5o1a0ZYWBjR0dG8/vrreHt706dPH2JjY7n77rsdY1j//Mc0vwIC\n",
              "ApgzZw7Dhw8nNDSUxo0bF+qT6jciOjqapKQkfv75ZwDsdjsnT54kICDAMa4sPj7e8UnyzJkzHD16\n",
              "lNatW/Pcc8/RqlUrNm7cCEDFihVJS0tzrLtDhw78+9//BnIfSl20aBH33HNPgcTt5eWVZ1stW7Zk\n",
              "y5YtjjtF8+bNo1atWtSqVQvIvUgtWrSIw4cPM3ToUOx2O/feey/Lly/Pk6jGx8ffcExdunTh7bff\n",
              "doz9PXfuHNu2bbuhdc2aNYucnBzOnz/PnDlz6NChg+NT+yuvvOKY7/Dhwxw8eJBGjRphtVodY8qW\n",
              "L19+zTtS9957L999953j7lBOTg5paWnXPJZ/FhoaitVqdZw/ffr0Yf78+djt9jwfMC+cP+fPnycz\n",
              "MzPP+VO7dm3i4uKoWLEiBw8eZO7cuUDhnj8xMTF8+OGHjnPo9OnTeT5cXs6pU6eoVq0aXl5enDlz\n",
              "hpkzZ+Z7u9HR0ezbty/PHfrExMQ8Y5iv1/79+x3v9+eff85tt92Gn58fMTExzJo1y5GI2O12x7jb\n",
              "Dh06OM6t7Oxsxx3mq4mJieGNN97AbrcDue/FhXVNnz4dYwwZGRl8+umnV0y4/qxMmTL06NGDF154\n",
              "gd9++4377rvvmstERESwefNmjh49SufOnR3LXPg24mrH41o6dOhAXFwcxhjS09Md59+VVKhQgTZt\n",
              "2jie9YH/HZOrOXXqFHXq1MFisfDTTz85xoXmR2m57lWsWJF58+bRoUMH3N3dadCgQZ7rHuR+MLjw\n",
              "rdzEiRMBWLRoEWlpaURERFxzW+3atePbb791jG3+8MMPryvGNWvWOK6Z06ZN4+6778bV1ZUOHTrw\n",
              "ySefkJ2djdVqZdq0aXTs2BGr1cpvv/1G8+bNefrpp3nwwQeverw7derErFmzOHLkCJB7PC8c2ys5\n",
              "derUFW8u5sfF59e1fsfvueceZsyYQadOndiwYQOQez68+uqrjkT31KlTee5s50dxvF5erMTc2b7w\n",
              "qfell17K87q7u/slTx3/61//AnLvvl389fYFjz32GI899tglr194uBJyv5a6UBqqbdu2eb6uCQ4O\n",
              "zvMwQ4cOHa5698XZKleuzBdffMFTTz3FmTNncHFx4aWXXuLll19mwIABTJ06lTvuuIMmTZoAuQ9L\n",
              "Pfjgg2RkZGCxWGjQoAEDBgwA4KmnnuKee+6hXLly/Oc//+G9997jkUceoWnTphhj+Pvf/+74evJm\n",
              "tW/fnjfeeIOQkBCio6P58MMPmT17Nv3798dqtVK5cmUWLFiQ55Oou7s7c+bMYciQIfTp04dPP/3U\n",
              "8WHo3LlzZGdnEx4eftk7Ptdj7NixZGVl0aJFC8d2x44d6zh2+dG4cWPuvPNOTp48SefOnR13QWbP\n",
              "ns2YMWMIDg7GYrFQvnx5pk6dip+fH/Pnz2fkyJHYbDbHQ49XExAQQFxcHH379iUnJwdXV1c+/PBD\n",
              "oqKirnksL/D29qZ69eo888wzjvPnwsPHmzZtIjQ0lDvuuIOAgAB69OhBTk4O6enpuLu74+PjQ8uW\n",
              "Lfn444956qmn8PDwIDIykvLly3P+/PlCPX/69evH4cOHiY6Oxs3NjfLly+e5oF9O//79Wbx4MQ0b\n",
              "NqR69eq0bt36stWKrqZy5cp8/fXXPP300zz11FPk5OTg7+9/QyW0mjRpwsyZM3nsscfw8PBg7ty5\n",
              "WCwWWrduzWuvvUbXrl2xWq1kZ2fzl7/8hebNmzN06FC2bt1KUFAQlStXpnXr1nm+cr+ct99+myef\n",
              "fJKmTZvi7u5OZGQk//73v3nuued47LHHHEMYevToQc+ePa8r9oEDBxIVFcXYsWPzJMwXhg0dOnSI\n",
              "e++91zGsomrVqsyYMcOxT+np6VSuXPm6jse1PPfccwwZMoRGjRpRvXp1WrVqdc2H2D/99FNGjx5N\n",
              "kyZNcHd3p3Pnzld8eOyCV155hZEjR/LSSy8RFhZ2Q+dyabnuubm5kZyczKuvvkrNmjXp27cvu3bt\n",
              "clz3AE6ePImHhwfVq1dnw4YNlC1bFnd3d2rUqHHFh0z/LDg4mBdeeIHWrVtToUIFx/CMa4mOjmbs\n",
              "2LHs2bOHqlWr8sknnwC5Q0p+++03R6Lftm1bnnjiCWw2G4MGDeLkyZO4ublRvXr1qyZtbdq04Z//\n",
              "/Cf33nsvFosFDw8PPv/886vGdN999zFr1iwaNmxI1apV6dChg2MoUX489thjDB06lHLlyjFz5szr\n",
              "+h1v3bo18+bN48EHH+TTTz/l7bff5plnniEsLAwXFxfc3Nx47bXXCAgIyHc8xfF6eTGL+fN3vyIi\n",
              "IsXAG2+8wY4dO/JU8xC5FWbOnMmXX35ZbOpLi/OVmDvbIiJSOjRp0gSLxcK3337r7FBERK5Jd7al\n",
              "yEtNTb3sGNB77rmH119/3QkR5Y4Xu1x3uQEDBvDkk0/e+oCuQ0xMzCUPElWuXLlEN1gC554/I0aM\n",
              "4Ndff73k9TVr1lC2bNlC3faNWLZsGc8+++wlr48bN+6KHfdKumnTpl22JvH7779/XQ+E3yhd95zr\n",
              "Vh3/5s2bX/IAX5MmTa7Y2bSgjB8/nkWLFl3y+sKFCx39Dm614na9zA8l2yIiIiIihaREVSMRERER\n",
              "ESlKlGyLiIiIiBQSJdsiIiIiIoVEybaIiIiISCFRsi0iIiIiUkiUbIuIiIiIFBIl2yIiIiIiheT/\n",
              "AenPT3AFaeL6AAAAAElFTkSuQmCC\n",
              "\">\n",
              "      </div>\n",
              "      <script type=\"text/javascript\">\n",
              "        (() => {\n",
              "          const chartElement = document.getElementById(\"chart-f5736c04-cbf8-4c0e-b850-70453fb11f22\");\n",
              "          async function getCodeForChartHandler(event) {\n",
              "            const chartCodeResponse =  await google.colab.kernel.invokeFunction(\n",
              "                'getCodeForChart', [\"chart-f5736c04-cbf8-4c0e-b850-70453fb11f22\"], {});\n",
              "            const responseJson = chartCodeResponse.data['application/json'];\n",
              "            await google.colab.notebook.addCell(responseJson.code, 'code');\n",
              "          }\n",
              "          chartElement.onclick = getCodeForChartHandler;\n",
              "        })();\n",
              "      </script>\n",
              "      <style>\n",
              "        .colab-quickchart-chart-with-code  {\n",
              "            display: block;\n",
              "            float: left;\n",
              "            border: 1px solid transparent;\n",
              "        }\n",
              "\n",
              "        .colab-quickchart-chart-with-code:hover {\n",
              "            cursor: pointer;\n",
              "            border: 1px solid #aaa;\n",
              "        }\n",
              "      </style>"
            ]
          },
          "metadata": {}
        },
        {
          "output_type": "display_data",
          "data": {
            "text/plain": [
              "from matplotlib import pyplot as plt\n",
              "all_model_results['f1'].plot(kind='line', figsize=(8, 4), title='f1')\n",
              "plt.gca().spines[['top', 'right']].set_visible(False)"
            ],
            "text/html": [
              "      <div class=\"colab-quickchart-chart-with-code\" id=\"chart-a7e7760c-237a-4e06-a136-303f6a095ccf\">\n",
              "        <img style=\"width: 180px;\" src=\"data:image/png;base64,iVBORw0KGgoAAAANSUhEUgAAAtsAAAFuCAYAAABQn9TzAAAAOXRFWHRTb2Z0d2FyZQBNYXRwbG90\n",
              "bGliIHZlcnNpb24zLjguMCwgaHR0cHM6Ly9tYXRwbG90bGliLm9yZy81sbWrAAAACXBIWXMAAA9h\n",
              "AAAPYQGoP6dpAABt6klEQVR4nO3dd3gUBeLG8e+mU1JogUASQockpJEEiIIICJYTkCIqLXQEKxZE\n",
              "zzvb2c8uiAeGEhBEQDjrCcJ5AhIChNA7JoQSWippm53fH5z7M0cNJEzK+3mefR5Iprw7O5l9d3aK\n",
              "xTAMAxERERERKXMOZgcQEREREamqVLZFRERERMqJyraIiIiISDlR2RYRERERKScq2yIiIiIi5URl\n",
              "W0RERESknKhsi4iIiIiUE5VtEREREZFyorItIiIiIlJOVLZFRG6goqIihgwZQt26dalduzaZmZlm\n",
              "RxIRkXKksi0icgN9+eWXrF69msOHD5OTk8OcOXPo2LEjNWvWxNfX1+x4IiJSxlS2RURuoAMHDtC8\n",
              "eXM8PDwAaNy4MU8//TTPPfecyclERKQ8OJkdQESkuoiNjWXBggUUFxdTu3ZtunTpwnfffQfA7Nmz\n",
              "zQ0nIiLlQmVbROQGmT17NgEBAaxcuZJffvnF7DgiInID6DASEREREZFyorItIiIiIlJOVLZFRERE\n",
              "RMqJjtkWETGR1WrFarVSVFQEQH5+PgCurq5YLBYzo4mISBnQnm0RERO98sor1KhRg3HjxpGWlkaN\n",
              "GjWoUaMGv/32m9nRRESkDFgMwzDMDiEiIiIiUhVpz7aIiIiISDlR2RYRERERKScq2yIiIiIi5URl\n",
              "W0RERESknKhsi4iIiIiUE5VtEREREZFyUinL9vvvv292BBERERGRK6qUZVs3exARERGRyqBSlm0R\n",
              "ERERkcpAZVtEREREpJyobIuIiIiIlBOVbRERERGRcqKyLSIiIiJSTlS2RURERETKicq2iIiIiEg5\n",
              "UdkWERERESknpS7b+/btIyYmhtatWxMVFcWOHTsuGMZmszF58mQCAwMJCQnh1ltvZf/+/RcMFxsb\n",
              "i8ViISMj45rCi4iIiIhUZKUu2+PHj2fcuHHs3buXKVOmEBsbe8EwK1asYO3atWzdupXk5GR69OjB\n",
              "s88+W2KYpUuX4uzsfM3BRUREREQqulKV7fT0dBITExk6dCgAAwYMIDU19YK91haLhYKCAvLz8zEM\n",
              "g6ysLHx9fe2/P3HiBK+++irvvPPOFedZUFBAVlZWiUdxcXFpYouIiIhUa8U2w+wI1VapynZqaio+\n",
              "Pj44OTkB50u1v78/KSkpJYa7++676datG40aNcLHx4dVq1bx0ksv2X8/duxY3nzzTdzd3a84z9de\n",
              "ew1PT88Sj4SEhNLEFhEREam2Nhw8zR3v/8yhU7lmR6mWyuUEycTERLZv305aWhpHjx6lR48eTJgw\n",
              "AYCZM2fi7+9P9+7dr2paU6dOJTMzs8QjOjq6PGKLiIiIVCn707MZOzeRvSdymL7mwvPnpPyVqmz7\n",
              "+flx7NgxrFYrAIZhkJKSgr+/f4nh5s6dS/fu3fHy8sLBwYERI0awevVqAFavXs3y5csJCAggICAA\n",
              "gJCQELZs2XLRebq6uuLh4VHi4ejoWNrnKSIiIlKtpGflM+KzjWTlWwn39+KlvsFmR6qWSlW2vb29\n",
              "iYiIID4+HoAlS5bg6+tLy5YtSwzXvHlzfvrpJwoLCwH4+uuvCQ4+/wLPnz+f1NRUDh8+zOHDhwFI\n",
              "Tk4mPDz8ep+LiIiIiAC5BVZGzdlIWkYeAfVqMnN4JG7O2llpBqfSjjBjxgxiY2N59dVX8fDwIC4u\n",
              "DoAxY8bQp08f+vTpw6RJk9i1axehoaE4OzvTqFEjPvnkkzIPLyIiIiIlWYttTFqwme1pWdSr5cKc\n",
              "UdHUq+1qdqxqy2IYRqU7PXXy5MlXdSUTERERkerEMAymLt3Gwo2puDk7sHBcZ8L8vMyOVa3pDpIi\n",
              "IiIiVcRHP+1n4cZUHCzw4f0RKtoVgMq2iIiISBXw5aYj/P3HvQC82CeI2wIbmpxIQGVbREREpNL7\n",
              "z76TPLMkGYDxtzRnWOcAcwOJncq2iIiISCW282gWD8ZvxmozuDu0MVN6tzU7kvyByraIiIhIJXU0\n",
              "I4+RsxPIKbDSsVld3h4UgoODxexY8gcq2yIiIiKVUGZeESPjNnIiq4BW3rX5dFgkrk66lnZFo7It\n",
              "IiIiUskUWm1MmLeJPSey8XZ3ZfaoaDxrOpsdSy5CZVtERESkEjEMgylLkll/8DS1XByJGxlFE68a\n",
              "ZseSS1DZFhEREalE3v7XHpZtScPRwcK0oR0IauxpdiS5DJVtERERkUpi/obf+Hj1AQBe69+eW1o3\n",
              "MDmRXInKtoiIiEglsGrXCZ7/ajsAj/Zoxb2RfiYnkquhsi0iIiJSwW1NzeChBVuwGTCogy+P9Wxl\n",
              "diS5SirbIiIiIhVYyulzjJ6zkbyiYrq0qs+r/dtjseha2pWFyraIiIhIBXU2t5DYuARO5RQS6OPB\n",
              "tCERODuqvlUmerVEREREKqD8omLGzk3k4KlcmnjVIG5kFO5uupZ2ZaOyLSIiIlLB2GwGk79IIvG3\n",
              "s7i7ORE3MoqGHm5mx5JroLItIiIiUsH87dtdfLvtOC6ODnw6LJLWDd3NjiTXSGVbREREpAKZ9csh\n",
              "Zv1yCIC3BoXQuUU9kxPJ9VDZFhEREakgvtt2jFe+2QnAlNvb0jesicmJ5HqpbIuIiIhUAImHz/Do\n",
              "oiQMA4Z28mfCLc3NjiRlQGVbRERExGQHTuYwZm4ihVYbPds15MU+wbqWdhWhsi0iIiJiopPZBcTG\n",
              "JZBxrohQPy8+vD8cRwcV7apCZVtERETEJOcKrYyes5HUM3n4163JrBGR1HBxNDuWlCGVbRERERET\n",
              "WIttPLxgC8lHMqlT05k5o6KpX9vV7FhSxlS2RURERG4wwzD4y4odrNqdjquTAzNHRNGsfi2zY0k5\n",
              "UNkWERERucGmrTnAgg0pWCzw/n3hdGhax+xIUk5UtkVERERuoK+2pPHWD3sA+MufArk9uJHJiaQ8\n",
              "lbps79u3j5iYGFq3bk1UVBQ7duy4YBibzcbkyZMJDAwkJCSEW2+9lf379wOwbds2unbtStu2bQkO\n",
              "DmbUqFHk5eVd/zMRERERqeDW7T/FU19uBWDMzc0YeVMzkxNJeSt12R4/fjzjxo1j7969TJkyhdjY\n",
              "2AuGWbFiBWvXrmXr1q0kJyfTo0cPnn32WQDc3Nz46KOP2L17N1u3biU3N5c33njjup+IiIiISEW2\n",
              "53g24+dtoqjY4K4QH569s53ZkeQGKFXZTk9PJzExkaFDhwIwYMAAUlNT7Xutf2exWCgoKCA/Px/D\n",
              "MMjKysLX1xeAVq1aERISAoCjoyNRUVEcPnz4kvMsKCggKyurxKO4uLg0sUVERERMdTwzn9i4BLIL\n",
              "rEQH1OXvg0Jx0LW0q4VSle3U1FR8fHxwcnICzpdqf39/UlJSSgx39913061bNxo1aoSPjw+rVq3i\n",
              "pZdeumB6ubm5zJw5k759+15ynq+99hqenp4lHgkJCaWJLSIiImKa7PwiYuMSOJaZT4sGtfh0eAfc\n",
              "nHUt7eqiXE6QTExMZPv27aSlpXH06FF69OjBhAkTSgxTWFjI4MGD6dWrF/fcc88lpzV16lQyMzNL\n",
              "PKKjo8sjtoiIiEiZKrTaeDB+M7uPZ1O/tiuzR0bjVdPF7FhyAzmVZmA/Pz+OHTuG1WrFyckJwzBI\n",
              "SUnB39+/xHBz586le/fueHl5ATBixAh69epl/31RURGDBw/Gx8eH999//7LzdHV1xdW15AXeHR31\n",
              "aVBEREQqNsMweGZpMr/sP0VNF0fiYqPwq1vT7Fhyg5Vqz7a3tzcRERHEx8cDsGTJEnx9fWnZsmWJ\n",
              "4Zo3b85PP/1EYWEhAF9//TXBwcEAWK1W7rvvPurWrcunn36KxaLjlURERKTqeffHvSzdnIajg4WP\n",
              "H4igva+n2ZHEBKXasw0wY8YMYmNjefXVV/Hw8CAuLg6AMWPG0KdPH/r06cOkSZPYtWsXoaGhODs7\n",
              "06hRIz755BMAFi1axNKlSwkJCSE8PByAm266iY8//rgMn5aIiIiIeRYmpPDBT+cvIPFKv2Bubett\n",
              "ciIxi8UwDMPsEKU1efJk3nnnHbNjiIiIiFxg9Z50xsxJpNhm8HD3ljzRq43ZkcREuoOkiIiISBnZ\n",
              "npbJpPmbKbYZ9I9owuTbWpsdSUymsi0iIiJSBlLPnGPk7I2cKyzm5pb1eb1/iM5NE5VtERERkeuV\n",
              "ca6QkbM3cjK7gLaN3Jk2NAIXJ9UsUdkWERERuS75RcWMm7uJ/ek5NPJwI25kFB5uzmbHkgpCZVtE\n",
              "RETkGtlsBk8s3krC4TO4uzoxe1QUPp41zI4lFYjKtoiIiMg1ev373XyTfAxnRwufDOtA20YeZkeS\n",
              "CkZlW0REROQazFl3mE9/PgjAGwNCuKllfZMTSUWksi0iIiJSSj/sOM4L/9wBwFO929A/wtfkRFJR\n",
              "qWyLiIiIlMLmlLM88vkWDAPuj/ZnYrcWZkeSCkxlW0REROQqHT6Vy5g5iRRYbXRv683LfYN0LW25\n",
              "LJVtERERkatwOqeAEXEJnMktpH0TTz68PxwnR1UpuTytISIiIiJXkFdYzKg5ifx2+hy+dWowKzaS\n",
              "Wq5OZseSSkBlW0REROQyim0GjyzcwtbUDDxrODN7ZDTe7m5mx5JKQmVbRERE5BIMw+DFf+7gx50n\n",
              "cHFyYOaISFp61zY7llQiKtsiIiIil/DpzweZu/43LBZ4994wogLqmh1JKhmVbREREZGLWLH1KK99\n",
              "txuA5+5sx10hPiYnkspIZVtERETkf/x68DRPfrEVgJE3BTCmS3OTE0llpbItIiIi8gf7TmQzbm4i\n",
              "hcU2bg9qxJ/vCjQ7klRiKtsiIiIi/3UiK5/YuI1k5Vvp0LQO790XhqODbloj105lW0RERATIKbAy\n",
              "Mm4jaRl5NKtfi38Mj8TN2dHsWFLJqWyLiIhItVdUbGPi/M3sPJZFvVouzB4ZRd1aLmbHkipAZVtE\n",
              "RESqNcMweG7ZNn7eexI3ZwdmxUbRtF4ts2NJFaGyLSIiItXaB6v280XiERws8NH9EYT5eZkdSaoQ\n",
              "lW0RERGpthYnpvLuyr0AvNQ3mJ6BDU1OJFWNyraIiIhUSz/vPcnUpdsAeLBbC4Z2ampyIqmKVLZF\n",
              "RESk2tlxNJOJ8zdjtRn0DWvMU73amB1JqqhSl+19+/YRExND69atiYqKYseOHRcMY7PZmDx5MoGB\n",
              "gYSEhHDrrbeyf/9++++//vpr2rZtS6tWrejfvz9ZWVnX9yxERERErlJaRh4j4zaSU2ClU/O6vDkw\n",
              "BAddS1vKSanL9vjx4xk3bhx79+5lypQpxMbGXjDMihUrWLt2LVu3biU5OZkePXrw7LPPApCTk8Po\n",
              "0aP56quv2LdvH40bN+bll1++7iciIiIiciWZeUWMjEsgPbuA1g1rM2NYJK5Oupa2lJ9Sle309HQS\n",
              "ExMZOnQoAAMGDCA1NbXEXmsAi8VCQUEB+fn5GIZBVlYWvr6+AHz33XeEh4fTtm1bACZOnMjnn39+\n",
              "yXkWFBSQlZVV4lFcXFyqJykiIiJSYC1m/LxE9p7IoaGHK3Ejo/Gs4Wx2LKninEozcGpqKj4+Pjg5\n",
              "nR/NYrHg7+9PSkoKLVu2tA939913s3r1aho1aoS7uztNmjTh3//+NwApKSk0bfr/JyAEBARw7Ngx\n",
              "rFarfbp/9Nprr/Hiiy+W+FmnTp1KE1tERESqOZvN4Okvk/n14BlquTjyWWwUTbxqmB1LqoFyOUEy\n",
              "MTGR7du3k5aWxtGjR+nRowcTJky4pmlNnTqVzMzMEo/o6OgyTiwiIiJV2Vv/2sPypKM4OViYPrQD\n",
              "QY09zY4k1USp9mz7+fmV2AttGAYpKSn4+/uXGG7u3Ll0794dLy8vAEaMGEGvXr0A8Pf358cff7QP\n",
              "e/jw4RJ7y/+Xq6srrq6uJX7m6Khjq0REROTqxP/6G9PXHADgtf7t6dq6gcmJpDop1Z5tb29vIiIi\n",
              "iI+PB2DJkiX4+vqWOIQEoHnz5vz0008UFhYC568+EhwcDMDtt9/O5s2b2b17NwDTpk3jvvvuu+4n\n",
              "IiIiIvK/Vu48wV+Wbwfg8Z6tGRTpZ3IiqW5KtWcbYMaMGcTGxvLqq6/i4eFBXFwcAGPGjKFPnz70\n",
              "6dOHSZMmsWvXLkJDQ3F2dqZRo0Z88sknALi7uzNz5kz69euH1WolODiYOXPmlO2zEhERkWovKTWD\n",
              "hz7fjM2AwZF+PNKj5ZVHEiljFsMwDLNDlNbkyZN55513zI4hIiIiFdRvp3PpP20dp3ML6dq6AbNG\n",
              "ROLsqHv5yY2ntU5ERESqlDO5hcTGbeR0biFBjT2YNiRCRVtMozVPREREqoz8omLGzNnIoVO5NPGq\n",
              "QVxsFLVdS33UrEiZUdkWERGRKqHYZvDYwiQ2p2Tg4ebE7JFReHu4mR1LqjmVbREREakSXvlmJ9/v\n",
              "OI6LowP/GB5Jq4buZkcSUdkWERGRym/mfw4St/YwAG/fG0rH5vXMDSTyXyrbIiIiUql9k3yMv327\n",
              "C4Cpd7SlT2hjkxOJ/D+VbREREam0Nh4+w+NfJGEYMLxzU8Z1bW52JJESVLZFRESkUtqfnsOYOYkU\n",
              "Wm3cFtiQv94dhMViMTuWSAkq2yIiIlLppGfnExuXQGZeEWF+XnxwXziODiraUvGobIuIiEilkltg\n",
              "ZfTsRI6czaNpvZrMGhFJDRdHs2OJXJTKtoiIiFQa1mIbDy3YzLa0TOrWcmHOyGjq1XY1O5bIJals\n",
              "i4iISKVgGAbPL9/B6j0ncXN2YOaISALq1zI7lshlqWyLiIhIpTBtzQE+T0jBYoH37wsnwr+O2ZFE\n",
              "rkhlW0RERCq8pZuP8NYPewB44e4gegc1MjmRyNVR2RYREZEKbe3+Uzz9ZTIA47o2Z0RMgLmBREpB\n",
              "ZVtEREQqrN3Hs5gwbxNWm8GfQnx45va2ZkcSKRWVbREREamQjmXmEfvZRrILrEQ3q8vbg0Jx0LW0\n",
              "pZJR2RYREZEKJyu/iJFxGzmelU9L79p8OqwDbs66lrZUPirbIiIiUqEUWm08GL+J3cezaeDuyuyR\n",
              "UXjVdDE7lsg1UdkWERGRCsMwDJ5Zmsza/aep6eJIXGwUvnVqmh1L5JqpbIuUofUHTtPtrdW8t3Kv\n",
              "2VFERCqld37cy9LNaTg6WJg2JILgJp5mRxK5LirbImUk+UgGY+cmcvj0Od5buY8VW4+aHUlEpFJZ\n",
              "sCGFD3/aD8Cr9wTTrY23yYlErp/KtkgZ2J+ezYjPEsgpsFK/9vnjCp9Zksy+E9kmJxMRqRxW707n\n",
              "+eXbAXike0sGR/mbnEikbKhsi1yntIw8hs1K4Oy5IkJ9PVn1RDdiWtTjXGExD87fTG6B1eyIIiIV\n",
              "2rYjmUxasJlim8GACF8ev6212ZFEyozKtsh1OJVTwLCZGziWef7SVHEjo/Gs4cwH94fT0MOV/ek5\n",
              "PLN0G4ZhmB1VRKRCSj1zjpGzN3KusJibW9bntf7tsVh0LW2pOlS2Ra5RVn4RIz5L4OCpXJp41WDe\n",
              "6Gjq1jp/CEn92q589EAEjg4W/rn1KPN+/c3ktCIiFU/GuUJGxCVwKqeAto3cmT40AhcnVROpWkq9\n",
              "Ru/bt4+YmBhat25NVFQUO3bsuGCYuLg4wsLC7I/69evTv39/++/feOMNAgMDCQsLo1OnTiQkJFzf\n",
              "sxC5wfKLihkzJ5EdR7OoX9uFeaOj8fGsUWKYqIC6TL3j/G2FX/56J1tSzpoRVUSkQsovKmbs3EQO\n",
              "nszFx9ON2SOjcXdzNjuWSJkrddkeP34848aNY+/evUyZMoXY2NgLhhk5ciRJSUn2R6NGjRgyZAgA\n",
              "SUlJTJs2jYSEBJKSknjooYd46KGHrvuJiNwoRcU2Js3fTMKhM7i7OjF7ZDTNG9S+6LCjb27GHcGN\n",
              "KCo2mDR/M2dyC29wWhGRisdmM3jii61sPHwWd7fz29FGnm5mxxIpF6Uq2+np6SQmJjJ06FAABgwY\n",
              "QGpqKvv377/kOBs2bCA9PZ0+ffoAYLFYKCoqIjc3F4CMjAx8fX2vNb/IDWWzGTz9ZTKrdqfj6uTA\n",
              "rNioy14D1mKx8ObAEJrVr8XRzHweW5SEzabjt0Wkenv12118s+0Yzo4WZgzrQJtG7mZHEik3TqUZ\n",
              "ODU1FR8fH5yczo9msVjw9/cnJSWFli1bXnScWbNmMWzYMJydz381FBoayuOPP06zZs2oW7curq6u\n",
              "/Pzzz5ecZ0FBAQUFBSV+VlxcXJrYImXCMAxe+nony7ak4eRgYfrQCKKb1b3ieO5uzkwbEsE909by\n",
              "896TfPjTfh7t2eoGJBYRqXji1h5i5i+HAHhrYCgxLeqbnEikfJXrWQi5ubksXLiQ0aNH23926NAh\n",
              "li5dyv79+zly5AiPP/44gwcPvuQ0XnvtNTw9PUs8dIy3mOG9lfuYve4wFgv8/d5QurdteNXjtvPx\n",
              "4JV+7c9PZ9Veft57srxiiohUWN9vP8ZLX+8E4KnebegX3sTkRCLlr1Rl28/Pj2PHjmG1nr9usGEY\n",
              "pKSk4O9/8QvPL168mKCgIAIDA+0/W7JkCe3bt6dx48bA+eO7165dS2HhxY9lnTp1KpmZmSUe0dHR\n",
              "pYktct3i1h7i/VX7AHixTxB9w0r/BjGwgy/3R/thGPDowi0czcgr65giIhXWpt/O8OjCJAwDHujo\n",
              "z8RuLcyOJHJDlKpse3t7ExERQXx8PHC+OPv6+l72EJI/7tUGaN68OWvXriUnJweAr7/+mtatW+Pi\n",
              "4nLRabi6uuLh4VHi4ejoWJrYItdl6eYjvPjP83tiJt/WmuGdA655Wn+9O4jgJh6cPVfExPmbKbTa\n",
              "yiiliEjFdfBkDmPmJFJgtdGjrTcv9QnStbSl2ij1YSQzZsxgxowZtG7dmtdff524uDgAxowZw4oV\n",
              "K+zD7dmzh6SkpAsOEbnnnnvo06cPkZGRhIaG8v7777NgwYLrfBoi5WPlzhM89WUyAKNuasbD3S/+\n",
              "wfJquTk7Mn1IBzzcnEhKzeDVb3eVRUwRkQrrVE4BsXEb7XfZ/fCBcJwcdS1tqT4sRiW8td3kyZN5\n",
              "5513zI4hVdyvB08z/LMECq02BkT48tbAEBwcymZPzMqdJxgzNxGAD+8P5+7QxmUyXRGRiuRcoZX7\n",
              "/7GBrakZ+NWtwdIHb6KBu6vZsURuKH20FLmI7WmZjJmTSKHVRs92DXljQPsyK9oAPQMb8uB/j1d8\n",
              "Zkky+9NzymzaIiIVgbXYxiOfb2FragZeNZ2ZPTJaRVuqJZVtkf+xPz2H4Z8lkFNgpVPzunxUTl95\n",
              "PnFbazo3r0duYTEPxm8it8Ba5vMQETGDYRi88M8drNyVjouTAzOHR9LiEjf/EqnqVLZF/iAtI4/h\n",
              "szZwJreQ9k08+cfwSNycy+eEXCdHB96/Pwxvd1f2pefw3LJtVMKjukRELvDJvw8S/2sKFgu8PziM\n",
              "yIAr35NApKpS2Rb5r9M5BQybtYGjmfk0b1CL2SOjcHdzLtd5eru78dEDETg6WPgq6SjxG1LKdX4i\n",
              "IuVteVIab3y/G4A/3xXIHe19TE4kYi6VbREgO7+IEXEJHDyZS2NPN+JHd6Re7RtzbGF0s7pMub0N\n",
              "AC//cydbUzNuyHxFRMra+gOneXLxVuD8FZxG39zM5EQi5lPZlmovv6iYMXMS2Z6WRb1aLswb05HG\n",
              "XjVuaIaxXZrTO6ghhcU2Js7fzNnci9/kSUSkotp7Iptx8xIpKja4s30j/nxXO7MjiVQIKttSrVmL\n",
              "bTy0YAsbDp2htqsTc0ZFm3ISj8Vi4a1BoQTUq0laRh6Pf5GEzabjt0WkcjiRlU/sZwlk51uJbFqH\n",
              "d+4NK9MrOIlUZirbUm3ZbAZPL0lm5a4TuDo5MHNEJMFNPE3L4+HmzLQhHXB1cmDNnpN8vHq/aVlE\n",
              "RK5Wdn4RsXEb7ee7lOeJ5SKVkcq2VEuGYfDS1ztZujkNRwcLHz8QQafm9cyORWBjD17uFwzAOyv3\n",
              "8su+UyYnEhG5tKL/Hvq261gW9Wu7MGdkNHVquZgdS6RCUdmWaumDVfuZve4wAG8PCqFnYENzA/3B\n",
              "vZF+DI70wzDgkYVbOJaZZ3YkEZELGIbB1KXb+M++U9RwduSz2Cj86tY0O5ZIhaOyLdXOnHWHeXfl\n",
              "XgBeuDuQe8J9TU50oRf7BhHo48GZ3EImzd9ModVmdiQRkRLeW7mPLzcdwcECHz0QToivl9mRRCok\n",
              "lW2pVr7aksZfV+wA4LGerYi9qWJelsrN2ZHpQyNwd3Nic0oGr3+32+xIIiJ2X2xM5f1V+wB4uV8w\n",
              "PdpVnG8HRSoalW2pNlbtOsET/73+a2xMAI/2aGVyostrWq8Wfx8UCsBnaw/xTfIxkxOJiMC/955k\n",
              "6rJtAEy6tQVDOjY1OZFIxaayLdXChoOnmTh/M8U2g3vCm/CXPwVisVT8y1L1CmrE+FuaA/D0l1s5\n",
              "cDLH5EQiUp1tT8tkYvwm+7b0yV5tzI4kUuGpbEuVtz0tkzFzEimw2ujZzps3B4ZUquu/PtWrDR2b\n",
              "1SW3sJgH4zdxrtBqdiQRqYbSMvIYNXsjuYXFxLSoxxsDQirFTgsRs6lsS5V28GQOIz5LILvASnSz\n",
              "unz0QATOjpVrtXdydODDB8Jp4O7K3hM5PLdsO4ahG96IyI2Tea6I2M8SSM8uoE1Ddz4Z1gEXp8q1\n",
              "LRUxi/5SpMo6lpnHsFkJnM4tJLiJBzNHVN4bLXi7u/HR/eE4OlhYtiWNBQkpZkcSkWqiwFrMuHmJ\n",
              "7EvPoZGHG3Ejo/BwczY7lkilobItVdKZ3EKGztxAWkYezevXYvbI6Er/5tCxeT2e6n3++MgXV+wk\n",
              "+UiGuYFEpMqz2QyeXJzMhkNnqO3qRNzIKBp71TA7lkilorItVU5OgZXYuAQOnMzFx9ONeWM6Ur+2\n",
              "q9mxysT4rs25LbAhhcU2HozfTMa5QrMjiUgV9sYPu/nn1qM4OViYPjSCdj4eZkcSqXRUtqVKyS8q\n",
              "ZuycRJKPZFK3lgvzRnekSRXaC2OxWHh7UChN69UkLSOPxxclYbPp+G0RKXtz1x9mxr8PAvD6gBC6\n",
              "tGpgciKRykllW6oMa7GNhz/fwvqDp6nt6sSckdG09K5tdqwy51nDmWlDInBxcmD1npNM//cBsyOJ\n",
              "SBXz484TvPDfG4A9cVtrBnaoeHfaFaksVLalSrDZDJ5Zuo0fd57AxcmBfwyPpL2vp9mxyk1QY09e\n",
              "7hsEwN//tYe1+0+ZnEhEqootKWd5+PPN2Ay4L8qPh7q3NDuSSKWmsi2VnmEY/O3bXXy56QiODhY+\n",
              "fiCCzi3qmR2r3A2O8mdQB19sBjzy+RaOZ+abHUlEKrnDp3IZMyeR/CIb3do04JV+wbqWtsh1UtmW\n",
              "Su/j1fuZ9cshAN4cEMJtgQ1NTnTjvNwvmHY+HpzOLeShBZspKraZHUlEKqnTOQXExv3/5VI/fiAC\n",
              "p0p2XwKRikh/RVKpzVt/mLf/tReAv/wpkAHV7LhCN2dHpg+JwN3VicTfzvL6d7vNjiQilVBeYTFj\n",
              "5iZy+PQ5mnjV4LPYKGq5OpkdS6RKUNmWSmt5Uhp/+e8JPI/0aMWom5uZnMgcAfVr8fa9oQDM+uUQ\n",
              "3207ZnIiEalMim0Gjy7cwpaUDDxrODNnVBTe7m5mxxKpMlS2pVJavTudJ77YimHAiM5NebxnK7Mj\n",
              "map3UCPGdW0OwFNfJnPwZI7JiUSkMjAMg5e/3sm/dp7AxfH8yeUtvd3NjiVSpZS6bO/bt4+YmBha\n",
              "t25NVFQUO3bsuGCYuLg4wsLC7I/69evTv39/++9TUlK4++67adOmDYGBgXz44YfX9yykWtl4+AwT\n",
              "4jdhtRn0DWvMX+8O0gk8wNO92xAdUJecAisT528mr7DY7EgiUsHN/M8hZq87DMA7g0OJblbX3EAi\n",
              "VVCpy/b48eMZN24ce/fuZcqUKcTGxl4wzMiRI0lKSrI/GjVqxJAhQ4Dzn6Lvuecehg8fzp49e9i5\n",
              "cyf33nvvdT8RqR52HM1k1OyNFFhtdG/rzduDQnFwUNEGcHJ04KMHwqlf25Xdx7N57qttGIZueCMi\n",
              "F/d18lH+9u0uAJ67sx1/CmlsciKRqqlUZTs9PZ3ExESGDh0KwIABA0hNTWX//v2XHGfDhg2kp6fT\n",
              "p08fAFatWoWrqyuDBg2yD9Ow4aWvHlFQUEBWVlaJR3Gx9thVR4dO5TLiswSy861EB9Tl4wcicNaZ\n",
              "8iV4e7jx4f3hOFhg6eY0Fm5MNTuSiFRACYfOMHnRVgBiYwIY06V6nvMiciOUqqmkpqbi4+ODk9P5\n",
              "M5QtFgv+/v6kpKRccpxZs2YxbNgwnJ2dAdi5cycNGjTgvvvuIzw8nHvuuYeDBw9ecvzXXnsNT0/P\n",
              "Eo+EhITSxJYq4HhmPkNnbuBUTiGBPh7MjI2khouj2bEqpM4t6vFk7zYA/HXFDranZZqcSEQqkv3p\n",
              "2Yydm0hhsY3eQQ15/k+BOhRPpByV627B3NxcFi5cyOjRo+0/s1qt/PTTTzz//PNs2bKF3r17X/Yw\n",
              "kqlTp5KZmVniER0dXZ6xpYI5k1vI0FkbSMvIo1n9WswdHY2Hm7PZsSq0CV1b0LOdN4VWGxPiN5F5\n",
              "rsjsSCJSAaRn5TPis41k5hUR7u/F+/eF46hD8UTKVanKtp+fH8eOHcNqtQLnj79OSUnB39//osMv\n",
              "XryYoKAgAgMD7T/z9/cnPDycoKDzt5oeNmwYmzdvpqjo4mXA1dUVDw+PEg9HR+3RrC5yCqyMjEtg\n",
              "f3oOjTzcmDc6mvq1Xc2OVeE5OFj4+6Aw/OrW4MjZPCZ/kYTNpuO3Raqz3AIro+ZsJC0jj4B6NZk5\n",
              "PBI3Z72fipS3UpVtb29vIiIiiI+PB2DJkiX4+vrSsmXLiw4/a9asEnu1Ae644w6OHDlCWloaAN9+\n",
              "+y3t2rWzH2Yi8rv8omLGzU1k65FM6tR0Jn5MNL51apodq9LwrOnM9CEdcHFyYNXudKb/+4DZkUTE\n",
              "JNZiG5MWbGZ7WhZ1a7kwe2Q09bTjQuSGKPVhJDNmzGDGjBm0bt2a119/nbi4OADGjBnDihUr7MPt\n",
              "2bOHpKQkBg8eXGL8WrVq8cknn3DXXXcRGhrKhx9+yMKFC6/zaUhVYy228ejCLaw7cJpaLo7MHhmt\n",
              "a79eg+AmnrzU5/y3SH//1x7WHThlciIRudEMw+DPX21nzZ6TuDk7MGtEJAH1a5kdS6TasBiV8Npg\n",
              "kydP5p133jE7hpQTwzB4+stkFm86goujA7NHRhHTsr7ZsSotwzB4cnEySzYfoX5tF755pAsNPXR3\n",
              "OJHq4sNV+/j7j3txsMCMYZHcFnjpK4CJSNnTddOkQjEMg1e/3cXiTUdwsMCHD4SraF8ni8XCK/2C\n",
              "advInVM5hTy0YDNFxTazY4nIDbBk0xH+/uNeAF7sE6SiLWIClW2pUKatOcA//nMIgDcGhNA7qJHJ\n",
              "iaqGGi6OTB/aAXdXJzYePsub3+82O5KIlLP/7DvJlCXJAIy/pTnDOgeYG0ikmlLZlgoj/tffeOuH\n",
              "PQD8+a52DIr0MzlR1dKsfi3eGhQCwD/+c4jvtx8zOZGIlJedR7N4MH4zVpvB3aGNmdK7rdmRRKot\n",
              "lW2pEFZsPcrzy7cD8HD3lozp0tzkRFXT7cE+jLn5/J3inlqczKFTuSYnEpGydjQjj5GzE8gpsNKx\n",
              "WV3eHhSCg66lLWIalW0x3Zo96UxelIRhwLBOTZl8W2uzI1VpU+5oS1RAHbILrDwYv4m8wmKzI4lI\n",
              "GcnMK2Jk3EZOZBXQyrs2nw6LxNVJ19IWMZPKtpgq8fAZJsRvwmoz6BPamBf7BOm2weXM2dGBjx6I\n",
              "oH5tF3Yfz+b55duphBclEpH/UWi1MWHeJvacyKaBuytxI6PwrKl7WIiYTWVbTLPzaBYjZ28kv8hG\n",
              "tzYN+Pu9ofqq8wZp6OHGB/eH42CBLzcdYdHGVLMjich1MAyDKUuSWX/w/L0J4mKjdBMwkQpCZVtM\n",
              "cfhULsM/SyA730pk0zpMH9IBZ0etjjdSTIv6PNGrDQB/WbGD7WmZJicSkWv19r/2sGxLGo4OFqYN\n",
              "7UBwE0+zI4nIf6ndyA13PDOfobM2cCqngHY+HsyKjaKGi44pNMODt7SgR1tvCq02Js7fTGZekdmR\n",
              "RKSU5m/4jY9XHwDgtf7tuaV1A5MTicgfqWzLDZVxrpDhn23gyNk8AurVZO6oaDxr6JhCszg4WHjn\n",
              "3jB869Qg5cw5nvhiKzabjt8WqSxW7TrB81+dv5LToz1aca8umSpS4ahsyw2TW2AlNm4je0/k0NDD\n",
              "lXmjO9LA3dXsWNWeZ01npg/pgIujAyt3nWDGzwfNjiQiV2FragYPLdiCzYBBHXx5rGcrsyOJyEWo\n",
              "bMsNUWAtZvy8TSSlZuBV05n40R3xq6uTdyqK9r6evNAnCIC3ftjN+gOnTU4kIpeTcvoco+dsJK+o\n",
              "mC6t6vNq//a6kpNIBaWyLeWu2Gbw2MIkftl/ipoujsweGU2rhu5mx5L/cX+0H/3Dm2Az4OHPt5Ce\n",
              "lW92JBG5iDO5hcTGJXAqp5B2Ph5MGxKhE8xFKjD9dUq5MgyDZ5du47vtx3FxdOAfwyMJ8/MyO5Zc\n",
              "hMVi4W/3tKdNQ3dO5RTw0OdbsBbbzI4lIn9w6FQuA6ev4+CpXBp7ujF7ZBTubjrvRaQiU9mWcvX6\n",
              "d7tZlJiKgwU+uD+Mm1rWNzuSXEYNF0emD42gtqsTCYfO8NYPe8yOJCL/teHgae6ZtpaDp3Jp4lWD\n",
              "uaOjaejhZnYsEbkClW0pN9PXHLCfbPd6/xBuD/YxOZFcjeYNavPmwBAAZvx8kB92HDc5kYgs2XSE\n",
              "obM2kHGuiFA/L5ZNiqGltw7HE6kMVLalXCzYkMIb3+8G4Lk723FvlC5HVZnc2d6HUTc1A+DJL7by\n",
              "2+lckxOJVE82m8HbP+zhicVbKSo2uKu9D4vGdcLbXXu0RSoLlW0pc18nH+W5r7YBMOnWFozt2tzk\n",
              "RHItpt7Zlg5N65BdYGVC/Gbyi4rNjiRSreQXFfPw51v4aPV+4Pz29MP7w3Fz1k3ARCoTlW0pU//e\n",
              "e5LHFyVhGPBAR3+e/O/twKXycXZ04OMHIqhXy4Vdx7L4y/LtZkcSqTZOZhdw36e/8s22Yzg7Wnhr\n",
              "YAhP9W6Lg4Mu7ydS2ahsS5nZ9NsZJszbRFGxwZ9CfHi5b7Cu+1rJNfJ044P7w3GwwBeJR/hiY6rZ\n",
              "kUSqvD3Hs+n38Vr7fQnmje7IIN0ZUqTSUtmWMrHrWBYj487fYOGW1g14594wHLUHpkq4qWV9Jt/W\n",
              "GoDnl29nx9FMkxOJVF1r9qQzYPo60jLyaFa/Fssm3kSn5vXMjiUi10FlW67bb6dzGf5ZAln5Vjo0\n",
              "rcP0oRG4OGnVqkomdmvJrW0aUGC1MXH+ZjLzisyOJFLlzF1/mFGzN5JTYKVjs7osmxhDs/q1zI4l\n",
              "ItdJjUiuy4msfIbO2sDJ7ALaNnLnsxFR1HRxMjuWlDEHBwvvDg6jiVcNfjt9jqcWb8UwDLNjiVQJ\n",
              "xTaDF1bs4C/Ld2AzYGAHX+aN7ohXTRezo4lIGVDZlmuWca6Q4bMSSD2TR9N6NZk7KhrPmrqTWVXl\n",
              "VdPl/LcWjg78a+cJPv3vNdRF5NrlFFgZOzeR2esOA/D07W14a2CIvh0UqUL01yzX5FyhlZGzN7Ln\n",
              "RDbe7q7Ej+6It+5kVuWF+Hrxl7sDAXjzhz1sOHja5EQilVdaRh4Dp6/jp93puDo5MG1IBBO7tdSJ\n",
              "5SJVjMq2lFqBtZjx8zaxJSUDzxrnz5T3q1vT7Fhygwzp6E+/sMYU2wwe+nwL6dn5ZkcSqXS2pmbQ\n",
              "7+O17D6eTf3ariwa35k72+suuyJVUanL9r59+4iJiaF169ZERUWxY8eOC4aJi4sjLCzM/qhfvz79\n",
              "+/e/YLjY2FgsFgsZGRnXFF5uvGKbweRFW/nPvlPUdHEkbmQUbRrplsHVicVi4dX+7WndsDYnswt4\n",
              "eMEWrMU2s2OJVBrfbz/G4E/X2891Wf7QTYT5eZkdS0TKSanL9vjx4xk3bhx79+5lypQpxMbGXjDM\n",
              "yJEjSUpKsj8aNWrEkCFDSgyzdOlSnJ11fG9lYhgGf/5qm/0mCzOGdSDCv47ZscQENV2cmD60A7Vc\n",
              "HNlw6Axv/2uv2ZFEKjzDMJi2Zv9/78hqo1ubBiye0JkmXjXMjiYi5ahUZTs9PZ3ExESGDh0KwIAB\n",
              "A0hNTWX//v2XHGfDhg2kp6fTp08f+89OnDjBq6++yjvvvHPFeRYUFJCVlVXiUVys20ab4Y3v9/B5\n",
              "QioOFnj/vnC6tGpgdiQxUYsGtXlzYCgAn/z7AD/uPGFyIpGKq9Bq4+kvk3nz+z0AxMYEMHN4JO5u\n",
              "2ukkUtWVqmynpqbi4+ODk9P5S7tZLBb8/f1JSUm55DizZs1i2LBhJfZijx07ljfffBN39ysffvDa\n",
              "a6/h6elZ4pGQkFCa2FIGPvn3AT759wEAXr2nvY4tFADuCvFh5E0BAEz+IonfTueaG0ikAso4V8jw\n",
              "zzaweNMRHCzwYp8gXugThJOjTpsSqQ7K9S89NzeXhQsXMnr0aPvPZs6cib+/P927d7+qaUydOpXM\n",
              "zMwSj+jo6PKKLBexMCGF17/bDcDUO9pyX7S/yYmkIpl6Rzsi/L3IzrfyYPxm8ov0zZPI7w6dyqX/\n",
              "tHX8evAMtV2dmBUbxYiYALNjicgNVKqy7efnx7Fjx7BarcD5489SUlLw9794+Vq8eDFBQUEEBgba\n",
              "f7Z69WqWL19OQEAAAQEBAISEhLBly5aLTsPV1RUPD48SD0dHx9LEluvw7bZjPLtsGwATbmnB+Fta\n",
              "mJxIKhoXJwc+HhJB3Vou7DyWxQsrLjxpWqQ62nDwNPdMW8vBU7k08arBlw925tY23mbHEpEbrFRl\n",
              "29vbm4iICOLj4wFYsmQJvr6+tGzZ8qLDz5o1q8RebYD58+eTmprK4cOHOXz4MADJycmEh4dfQ3wp\n",
              "T//Zd5JHF27BZsD90X5Mub2N2ZGkgvLxrMH794VhscDCjaksTkw1O5KIqZZsOsLQWRvIOFdEqJ8X\n",
              "yybF0LaRh9mxRMQEpT6MZMaMGcyYMYPWrVvz+uuvExcXB8CYMWNYsWKFfbg9e/aQlJTE4MGDyy6t\n",
              "3DCbU84ybu4miooN7mrvwyv92utGC3JZXVo14PGerQH481fb2Xk0y+REIjeezWbw9g97eGLxVvv2\n",
              "c9G4Tni766ZfItWVxTAMw+wQpTV58uSrupKJXJs9x7O5d8Z6MvOK6NKqPrNGROnWwXJVbDaDkbM3\n",
              "8u+9JwmoV5MVD9+Mh662INVEflExT3yxlW+2HQNg0q0teOK2Njg4aEeFSHWmBiUlpJw+x7BZG8jM\n",
              "KyLC34sZwzqoaMtVc3Cw8N7gMJp41eDw6XM8vTiZSvh5XqTUTmYXcN+nv9rvQ/DWwBCe6t1WRVtE\n",
              "VLbl/6Vn5TN01gbSswto09Cdz2KjqOniZHYsqWTq1HLh4yERODta+H7HcWb+55DZkUTK1Z7j2fT7\n",
              "eC1JqRl41XRm3uiODIr0MzuWiFQQKtsCQOa5IoZ/lkDKmXP4163JvNHReNV0MTuWVFJhfl785U/n\n",
              "r0L0+ve7STh0xuREIuVjzZ50BkxfR1pGHs3q12LZxJvo1Lye2bFEpAJR2RbOFVoZNWcju49n08Dd\n",
              "lfjRHfH20Mk8cn2GdmpK37DGFNsMHlqwmfTsfLMjiZSpeesPM2r2RnIKrHRsVpdlE2NoVr+W2bFE\n",
              "pIJR2a7mCq02JsRvZtNvZ/Fwc2Le6Gj869U0O5ZUARaLhVfvaU9L79qkZxfw6OdJWIttZscSuW7F\n",
              "NoMXVuzg+eU7sBkwsIMv80Z31LeBInJRKtvVWLHNYPIXSfy89yQ1nB2JGxmt68BKmarl6sQnQyOo\n",
              "6eLI+oOneefHvWZHErkuOQVWxs5NZPa6wwA8fXsb3hoYohPJReSStHWopgzD4Pnl2/k6+fyZ858M\n",
              "60CHpnXMjiVVUEtvd94YEALAtDUHWLnzhMmJRK5NWkYeA6ev46fd6bg6OTBtSAQTu7XUPQhE5LJU\n",
              "tqupt37Yw4INKVgs8N7gcG5p3cDsSFKF3R3amNiYAAAmf5FEyulz5gYSKaWtqRn0+3gtu49nU7+2\n",
              "K4vGd+bO9j5mxxKRSkBluxr69OcDTFtzAIBX72nPXSF6w5Dy9+yd7Qjz8yIr38rEBZvILyo2O5LI\n",
              "Vfl++zEGf7qek9kFtG3kzvKHbiLMz8vsWCJSSahsVzNfbEzl1W93AzDl9rbcH+1vciKpLlycHPh4\n",
              "SAR1ajqzPS2LF/+50+xIIpdlGAbT1xxgQvxm8otsdGvTgMUTOtPEq4bZ0USkElHZrka+336MZ5Ym\n",
              "AzC+a3Me7NbC5ERS3TTxqsH794VjscDnCSks2XTE7EgiF1VotTFlSTJvfH9+50RsTAAzh0fi7uZs\n",
              "cjIRqWxUtquJX/ad4pHPk7AZMDjSj2fuaGt2JKmmurZuwKM9WgHw3Ffb2H08y+REIiVlnCtk+Gcb\n",
              "+CLxCA4WeLFPEC/0CcLJUW+ZIlJ62nJUA1tSzjJuXiKFxTbuCG7Eq/3b6+x5MdUj3VvRtXUD8ots\n",
              "PBi/maz8IrMjiQBw6FQu/aet49eDZ6jt6sSs2ChG/PfkXhGRa6GyXcXtPZHNyNkbOVdYzM0t6/Pe\n",
              "fWE4Oqhoi7kcHCy8NziMxp5uHDqVy5QvkzEMw+xYUs1tOHiae6at5eCpXJp41eDLBztzaxtvs2OJ\n",
              "SCWnsl2FpZ45x7BZG8g4V0SYnxczhnXA1cnR7FgiANSt5cLHQyJwdrTw3fbjzPrlkNmRpBpbsukI\n",
              "Q/+7vQz182LZpBjd5EtEyoTKdhWVnp3PsFkbOJFVQOuGtZk9Mopark5mxxIpIdy/Dn++KxCA17/b\n",
              "TeLhMyYnkurGZjN4+4c9PLF4K0XFBne192HRuE54u7uZHU1EqgiV7SooM6+IEZ9t5PDpc/jWqcG8\n",
              "0R3xqulidiyRixreuSl3hzbGajOYtGAzp3IKzI4k1UR+UTEPf76Fj1bvB2DSrS348P5w3Jz1DaCI\n",
              "lB2V7Somr7CY0bM3sutYFvVruxI/uiMNPbSHRioui8XC6/3b06JBLU5kFfDI51sotun4bSlfJ7ML\n",
              "uO/TX/lm2zGcHS28NTCEp3q3xUHntIhIGVPZrkIKrTYenL+JxN/O4uHmxLzR0QTUr2V2LJErquXq\n",
              "xCdDO1DTxZF1B07z7o97zY4kVdie49n0+3gtSakZeNV0Zt7ojgyK9DM7lohUUSrbVUSxzeCJxVtZ\n",
              "s+ckbs4OfBYbRTsfndwjlUerhu681r89AB+t3s9Pu0+YnEiqojV70hkwfR1pGXk0q1+LZRNvolPz\n",
              "embHEpEqTGW7CjAMg7+u2M4/tx7F2dHCJ0M7EBlQ1+xYIqXWN6wJwzs3BeDxRVtJPXPO5ERSlcxb\n",
              "f5hRszeSU2ClY7O6LJsYQzN9+yci5Uxluwr4+7/2Ev9rChYLvHNvGN10XVipxJ67qx2hfl5k5hUx\n",
              "cf5m8ouKzY4klVyxzeCFFTt4fvkObAYM7OCrE8dF5IZR2a7kZv7noP1M+pf7BnN3aGOTE4lcH1cn\n",
              "Rz5+IByvms5sS8vk5a93mh1JKrGcAitj5yYye91hAJ6+vQ1vDQzBxUlvfyJyY2hrU4l9kZjKK9/s\n",
              "AuCp3m0Y2qmpyYlEyoZvnZq8NzgMiwXmb0hh2ZYjZkeSSigtI4+B09fx0+50XJ0cmDYkgondWmKx\n",
              "6IojInLjqGxXUj/sOM4zS5IBGNulGRO7tTA5kUjZ6tbGm4e7twJg6tJt7DmebXIiqUy2pmbQ7+O1\n",
              "7D6eTf3ariwa35k72/uYHUtEqiGV7Upo3f5TPLxgCzYD7o305dk722lPjVRJj/ZoRZdW9ckvsvFg\n",
              "/Cay84vMjiSVwPfbjzH40/WczC6gbSN3lj90E2F+XmbHEpFqSmW7ktmamsHYuYkUFtvoHdSQV+9p\n",
              "r6ItVZajg4X3Bofh4+nGwVO5PLNkG4ahG97IxRmGwfQ1B5gQv5n8Ihvd2jRg8YTONPGqYXY0EanG\n",
              "Sl229+3bR0xMDK1btyYqKoodO3ZcMExcXBxhYWH2R/369enfvz8A27Zto2vXrrRt25bg4GBGjRpF\n",
              "Xl7e9T+TamDfiWxi4xLILSzmppb1eP++cJwc9XlJqrZ6tV356IEInBwsfLPtGHFrD5sdSSqgQquN\n",
              "KUuSeeP73QDExgQwc3gk7m7OJicTkequ1E1t/PjxjBs3jr179zJlyhRiY2MvGGbkyJEkJSXZH40a\n",
              "NWLIkCEAuLm58dFHH7F79262bt1Kbm4ub7zxxnU/karuyNlzDJuVwNlzRYT6ejJjWCRuzo5mxxK5\n",
              "ITo0rcNzd7UD4NVvd7HptzMmJ5KKJONcIcM/28AXiUdwsMCLfYJ4oU+QdkaISIVQqi1Reno6iYmJ\n",
              "DB06FIABAwaQmprK/v37LznOhg0bSE9Pp0+fPgC0atWKkJAQABwdHYmKiuLw4cOXHL+goICsrKwS\n",
              "j+Li6nXd3ZPZBQyblcDxrHxaeddm9shoars6mR1L5IaKjQngrhAfrDaDSfO3cCqnwOxIUgEcOpVL\n",
              "/2nr+PXgGWq7OjErNooRMQFmxxIRsStV2U5NTcXHxwcnp/NFz2Kx4O/vT0pKyiXHmTVrFsOGDcPZ\n",
              "+cKv8nJzc5k5cyZ9+/a95PivvfYanp6eJR4JCQmliV2pZeUXMeKzBA6dyqWJVw3mje5InVq6EYNU\n",
              "PxaLhTcGhNC8QS2OZ+Xz6MItFNt0/HZ1tuHgae6ZtpaD/90+fvlgZ27VTb1EpIIp1+/YcnNzWbhw\n",
              "IaNHj77gd4WFhQwePJhevXpxzz33XHIaU6dOJTMzs8QjOjq6PGNXGHmFxYyZncjOY1nUr+1C/JiO\n",
              "NPJ0MzuWiGlquzrxydAO1HB2ZO3+07y/cq/ZkcQkSzYdYeisDWScKyLUz4tlk2Jo28jD7FgiIhco\n",
              "Vdn28/Pj2LFjWK1W4PyZ3ykpKfj7+190+MWLFxMUFERgYGCJnxcVFTF48GB8fHx4//33LztPV1dX\n",
              "PDw8SjwcHav+scpFxTYmLdhMwuEzuLs5MWdUNM3q1zI7lojpWjd057X+7QH44Kf9rN6TbnIiuZFs\n",
              "NoO3f9jDE4u3UlRscFd7HxaN64S3u3ZEiEjFVKqy7e3tTUREBPHx8QAsWbIEX19fWrZsedHhZ82a\n",
              "dcFebavVyn333UfdunX59NNPddm6i7DZDJ5cvJWfdqfj5uzAZ7FRBDX2NDuWSIXRL7wJQzud/5D/\n",
              "+KIkjpw9Z3IiuRHyi4p5eOEWPlp9/jyhSbe24MP7w3WyuIhUaKU+jGTGjBnMmDGD1q1b8/rrrxMX\n",
              "FwfAmDFjWLFihX24PXv2kJSUxODBg0uMv2jRIpYuXUpiYiLh4eGEhYUxadKk63waVYdhGLzwzx0s\n",
              "TzqKk4OF6UM6EBVQ1+xYIhXO838KJMTXk4xzRUycv5kCa/U6cbq6OZldwH2f/so3ycdwdrTw1sAQ\n",
              "nurdFgcH7bARkYrNYlTCO0RMnjyZd955x+wY5eKdH/fywap9WCzw3uAw+oY1MTuSSIWVeuYcf/rw\n",
              "FzLzihjWqSkv9ws2O5KUgz3Hsxk1eyNpGXl41XTmk6Ed6NS8ntmxRESuii5CWoHM+uUQH6zaB8BL\n",
              "fYNVtEWuwK9uTd4bHAbAvF9/Y3lSmrmBpMyt2ZPOgOnrSMvIo1n9WiybeJOKtohUKirbFcSSTUd4\n",
              "+eudADxxW2uGdWpqciKRyuHWtt483P38eSPPLNnG3hPZJieSsjJv/WFGzd5IToGVjs3qsmxijE4U\n",
              "F5FKR2W7AvjXjuM8vSQZgNE3N+Oh7hc/4VRELu6xnq25qWU98oqKmRC/iZwCq9mR5DoU2wxe/OcO\n",
              "nl++A5sBAzv4Mm90R7xq6h4DIlL5qGybbP2B0zz0+fmbcwzs4Mtzd7bTFVpESsnRwcL794XTyMON\n",
              "gydzmbIkmUp4OooAOQVWxs5NJG7tYQCevr0Nbw0MwcVJb1ciUjlp62Wi5CMZjJ2bSKHVRq/Ahrze\n",
              "v73OrBe5RvVru/LxkHCcHCx8k3yMOesOmx1JSiktI4+B09fx0+50XJ0cmDYkgondWmoHhIhUairb\n",
              "JtmfnkNs3PljETs3r8cH94fj5KiXQ+R6dGhal6l3tgPgb9/uYnPKWZMTydXamppBv4/Xsvt4NvVr\n",
              "u7JofGfubO9jdiwRkeumdmeCtIw8hs3awJncQkJ8PfnHiEjdlEGkjIy6KYC72vtQVGwwaf5mTucU\n",
              "mB1JruD77ccY/Ol6TmYX0LaRO8sfuokwPy+zY4mIlAmV7RvsVE4Bw2Zu4FhmPi0a1GL2yGhquzqZ\n",
              "HUukyrBYLLw+oD3N69fiWGY+jy1Kotim47crIsMwmL7mABPiN5NfZKNbmwYsntCZJl41zI4mIlJm\n",
              "VLZvoKz8IkZ8lsDBU7k08apB/JiO1K2ls+tFypq7mzPThkbg5uzAf/adsl+/XiqOQquNKUuSeeP7\n",
              "3QDExgQwc3gk7m7OJicTESlbKts3SH5RMWPmJLLjaBb1arkwb3Q0Pp7aeyNSXto28uDVe9oD8MFP\n",
              "+1izJ93kRPK7jHOFjPgsgS8Sj+BggRf7BPFCnyCdtyIiVZK2bDdAUbGNSfM3k3DoDO6uTswZFU3z\n",
              "BrXNjiVS5fWP8OWBjv4YBjy2KIm0jDyzI1V7h07l0n/aOtYfPE1tVydmxUYxIibA7FgiIuVGZbuc\n",
              "2WwGT3+ZzKr/XspqVmwUwU08zY4lUm385U+BtG/iSca5IibO30yBtdjsSNXWhoOnuWfaWvuhdF8+\n",
              "2Jlb23ibHUtEpFypbJcjwzB46eudLNuShpODhelDI4huVtfsWCLVipuzI9OGROBZw5mtqRn87Ztd\n",
              "ZkeqlpZsOsLQWRvIOFdEqJ8XyybF0LaRh9mxRETKncp2OXp/1T5m//fGGm8PCqV724bmBhKppvzq\n",
              "1uTdwaEAzF3/G8uT0kxOVH3YbAZv/7CHJxZvpajY4K72Piwa1wlvdzezo4mI3BAq2+Ukbu0h3lt5\n",
              "/goIL/YJol94E5MTiVRv3ds2ZNKtLQCYunQb+05km5yo6ssvKubhhVv4aPV+ACbd2oIP7w/XfQVE\n",
              "pFpR2S4HSzcf4cV/7gTg8Z6tdfKPSAUx+bY2xLSox7nCYh6cv5ncAqvZkaqsk9kF3Pfpr3yTfAxn\n",
              "RwtvDwrlqd5tcXDQrddFpHpR2S5jK3ee4KkvkwEYeVMAj/RoaXIiEfmdo4OFD+4Pp6GHK/vTc3hm\n",
              "6TYMQze8KWt7jmfT7+O1JKVm4FXTmXmjOzKwg6/ZsURETKGyXYZ+PXiaiQs2U2wz6B/ehOfvCsRi\n",
              "0V4ckYqkfm1XPnogAkcHC//cepR5v/5mdqQqZc2edAZMX0daRh7N6tdi2cSb6NS8ntmxRERMo7Jd\n",
              "RranZTJmTiKFVhs92zXkjYEh+rpUpIKKCqjL1DvaAvDy1zvZknLW5ERVw7z1hxk1eyM5BVY6NqvL\n",
              "sokxNKtfy+xYIiKmUtkuAwdO5jD8swRyCqx0al6Xjx4Ix1l3QhOp0Ebf3Iw7ghtRVGwwaf5mzuQW\n",
              "mh2p0iq2Gbz4zx08v3wHNgMGdvBl3uiOeNV0MTuaiIjp1Aiv09GMPIbN3MCZ3ELaN/HkH8Mjdaa9\n",
              "SCVgsVh4c2AIzerX4mhmPo8tSqLYpuO3SyunwMrYuYnErT0MwNO3t+GtgSG4OOntRUQEVLavy+mc\n",
              "AobO2sDRzHyaN6jF7JFRuLs5mx1LRK6Su5sz04ZE4ObswM97T/LhT/vMjlSppGXkMXD6On767x1y\n",
              "pw2JYGK3ljpXRUTkD1S2r1F2fhEj4hI4eDKXxp5uxI/uSL3armbHEpFSaufjwSv92gPnb0T1896T\n",
              "JieqHLamZtDv47XsPp5N/dquLBrfmTvb+5gdS0SkwlHZvgb5RcWMmZPI9rQs6tZyYd6YjjT2qmF2\n",
              "LBG5RgM7+HJ/tB+GAY8u3MLRjDyzI1Vo328/xuBP13Myu4C2jdxZ/tBNhPl5mR1LRKRCUtkuJWux\n",
              "jYcWbGHDoTPUdnVi7qhoWjSobXYsEblOf707iKDGHpw9V8TE+ZsptNrMjlThGIbB9DUHmBC/mfwi\n",
              "G93aNGDxhM400c4GEZFLUtkuBZvN4OklyazcdQIXJwdmjogkuImn2bFEpAy4OTsyfUgHPNycSErN\n",
              "4NVvd5kdqUIptNqYsiSZN77fDUBsTAAzh0fqPBURkSsoddnet28fMTExtG7dmqioKHbs2HHBMHFx\n",
              "cYSFhdkf9evXp3///vbff/3117Rt25ZWrVrRv39/srKyru9Z3ACGYfDyNztZujkNRwcL0x6I0I0a\n",
              "RKoY/3o1eefeMABmrzvMP7ceNTdQBZFxrpARnyXwReIRHCzwYp8gXugThJMucSoickWl3lKOHz+e\n",
              "cePGsXfvXqZMmUJsbOwFw4wcOZKkpCT7o1GjRgwZMgSAnJwcRo8ezVdffcW+ffto3LgxL7/88nU/\n",
              "kfL24U/77Ze2entQCD0DG5obSETKRc/AhjzYrQUAzyxJZn96jsmJzHXoVC79p61j/cHT1HZ1YlZs\n",
              "FCNiAsyOJSJSaZSqbKenp5OYmMjQoUMBGDBgAKmpqezfv/+S42zYsIH09HT69OkDwHfffUd4eDht\n",
              "256/e9vEiRP5/PPPLzl+QUEBWVlZJR7FxcWliX3d5qw7zDs/7gXgr3cHck+47w2dv4jcWE/c1prO\n",
              "zeuRW1jMg/GbyC2wmh3JFBsOnuaeaWs5eCqXJl41+PLBztzaxtvsWCIilUqpynZqaio+Pj44OTkB\n",
              "528K4e/vT0pKyiXHmTVrFsOGDcPZ+fxxfSkpKTRt2tT++4CAAI4dO4bVevE3s9deew1PT88Sj4SE\n",
              "hNLEvi5fbUnjryvOHyrzaI9WjLyp2Q2bt4iYw8nRgffvD8Pb3ZV96Tk8u2wbhlG9bnizZNMRhs7a\n",
              "QMa5IkL9vFg2KYa2jTzMjiUiUumU6wF3ubm5LFy4kNGjR1/zNKZOnUpmZmaJR3R0dBmmvLSfdp/g\n",
              "icVbgfMnAz3Ws9UNma+ImM/b3Y2PHojA0cHC8qSjxP/6m9mRbgibzeDtH/bwxOKtFBUb3NXeh0Xj\n",
              "OuHt7mZ2NBGRSqlUZdvPz6/EXmjDMEhJScHf3/+iwy9evJigoCACAwPtP/P39+e33/7/Tevw4cMl\n",
              "9pb/L1dXVzw8PEo8HB1vzO3Qvd3d8KrhzD3hTfjLnwJ1VzSRaia6WV2m3N4GgJe+3klSaoa5gcpZ\n",
              "flExDy/cwkerzx8aOOnWFnx4fzhuzjdmmysiUhWVqmx7e3sTERFBfHw8AEuWLMHX15eWLVtedPhZ\n",
              "s2ZdsFf79ttvZ/Pmzezeff7yUdOmTeO+++67luzlLriJJ8sfuok3B4bg4KCiLVIdje3SnN5BDSkq\n",
              "Npg0fzNncwvNjlQuTmYXcN+nv/JN8jGcHS28PSiUp3q31bZPROQ6lfowkhkzZjBjxgxat27N66+/\n",
              "TlxcHABjxoxhxYoV9uH27NlDUlISgwcPLjG+u7s7M2fOpF+/frRs2ZIjR47w/PPPX+fTKD++dWri\n",
              "rMtbiVRbFouFtwaF0rReTdIy8nj8iyRstqp1/Pae49n0+3gtSakZeNV0Zt7ojgzsoBPBRUTKgsWo\n",
              "hGf9TJ48mXfeecfsGCJSjew8msU909ZSYLUx+bbWPNKjapzDsWZPOg8t2EJOgZVm9WvxWWwUzerX\n",
              "MjuWiEiVoV22IiJXIbCxBy/3Cwbg3ZV7+WXfKZMTXb956w8zavZGcgqsdGxWl2UTY1S0RUTKmMq2\n",
              "iMhVujfSj8GRfhgGPLJwC8cy88yOdE2KbQYv/nMHzy/fgc2AgR18mTe6I141XcyOJiJS5ahsi4iU\n",
              "wot9gwj08eBMbiGT5m+m0GozO1Kp5BRYGTs30X5H3Kdvb8NbA0NwcdLbgYhIedDWVUSkFNycHZk+\n",
              "NAJ3Nyc2p2Tw2ne7zI501Y5m5DFw+jp+2p2Oq5MD04ZEMLFbS13WVESkHKlsi4iUUtN6tfj7oFAA\n",
              "4tYe5uvkoyYnurKtqRn0/Xgtu49nU7+2K4vGd+bO9j5mxxIRqfJUtkVErkGvoEaMv6U5AFO+TObA\n",
              "yRyTE13a99uPMfjT9ZzMLqBtI3eWP3QTYX5eZscSEakWVLZFRK7RU73a0LFZXXILi3kwfhPnCq1m\n",
              "RyrBMAymrznAhPjN5BfZ6NamAYsndKaJVw2zo4mIVBsq2yIi18jJ0YEPHwingbsre0/k8Nyy7VSU\n",
              "WxcUWm1MWZLMG9+fv1tvbEwAM4dH4u7mbHIyEZHqRWVbROQ6eLu78eH94Tg6WFi2JY35G1LMjkTm\n",
              "uSJGfJbAF4lHcLDAi32CeKFPEE66G66IyA2nLa+IyHXq1LweT/VuA8BL/9xJ8pEM07IcPpXLPdPW\n",
              "sv7gaWq7OjErNooRMQGm5RERqe5UtkVEysD4rs25LbAhhcU2HozfTMa5whueYcPB0/SbtpaDp3Jp\n",
              "4lWDLx/szK1tvG94DhER+X8q2yIiZcBisfD2oFCa1qtJWkYejy9Kwma7ccdvL9l0hKGzNpBxrohQ\n",
              "Py+WTYqhbSOPGzZ/ERG5OJVtEZEy4lnDmWlDInBxcmD1npNMW7O/3Odpsxm8/cMenli8laJig7va\n",
              "+7BoXCe83d3Kfd4iInJlKtsiImUoqLEnL/cNAuCdH/eydv+pcptXflExDy/cwkerz5f6Sbe24MP7\n",
              "w3Fzdiy3eYqISOmobIuIlLHBUf4M6uCLzYBHPt/C8cz8Mp/HyewC7vv0V75JPoaz4/lDWJ7q3RYH\n",
              "B916XUSkIlHZFhEpBy/3C6adjwencwt5aMFmioptZTbtPcez6ffxWpJSM/Cq6cy80R0Z2MG3zKYv\n",
              "IiJlR2VbRKQcuDk7Mn1IBO6uTiT+dpbXv9tdJtNdsyedAdPXkZaRR7P6tVg28SY6Na9XJtMWEZGy\n",
              "p7ItIlJOAurX4q1BoQDM+uUQ3247dl3Tm7f+MKNmbySnwErHZnVZNjGGZvVrlUVUEREpJyrbIiLl\n",
              "6PbgRozr2hyAp79M5uDJnFJPo9hm8OI/d/D88h3YDBjYwZd5ozviVdOlrOOKiEgZU9kWESlnT/du\n",
              "Q3RAXXIKrEycv5m8wuKrHjenwMrYuYnErT18flq3t+GtgSG4OGnzLSJSGWhrLSJSzpwcHfjogXDq\n",
              "13Zl9/FsnvtqG4Zx5RveHM3IY+D0dfy0Ox1XJwemDYlgYreWWCy64oiISGWhsi0icgN4e7jx4f3h\n",
              "OFhg6eY0Pk9IvezwW1Mz6PvxWnYfz6Z+bVcWje/Mne19blBaEREpKyrbIiI3SOcW9XiydxsAXlix\n",
              "g21HMi863PfbjzH40/WczC6gbSN3lj90E2F+XjcwqYiIlBWVbRGRG2hC1xb0bOdNYbGNB+dvIvNc\n",
              "kf13hmEwfc0BJsRvJr/IRrc2DVg8oTNNvGqYmFhERK6HyraIyA3k4GDh74PC8KtbgyNn85j8RRI2\n",
              "m0Gh1caUJcm88f3563HHxgQwc3gk7m7OJicWEZHr4WR2ABGR6sazpjPTh3Sg//R1rNqdztv/2sOW\n",
              "lAzWHzyNgwX+encQI2ICzI4pIiJloNR7tvft20dMTAytW7cmKiqKHTt2XHS4bdu20a1bN9q1a0e7\n",
              "du1YunQpADabjcmTJxMYGEhISAi33nor+/fvv75nISJSyQQ38eTFPkEATFtzgPUHT1Pb1YlZsVEq\n",
              "2iIiVUipy/b48eMZN24ce/fuZcqUKcTGxl4wzLlz5+jbty+vvPIKu3btYvv27XTp0gWAFStWsHbt\n",
              "WrZu3UpycjI9evTg2Wefve4nIiJS2dwX5ceACF8AmnjV4MsHO3NrG2+TU4mISFkq1WEk6enpJCYm\n",
              "8q9//QuAAQMG8NBDD7F//35atmxpH27BggV06tSJm2++GQBHR0caNGgAgMVioaCggPz8fJycnMjK\n",
              "ysLX1/eS8ywoKKCgoKDEz4qLr/6GECIiFZXFYuH1Ae25I7gRHZrWoU4t3RFSRKSqKdWe7dTUVHx8\n",
              "fHByOt/RLRYL/v7+pKSklBhu586duLq68qc//YmwsDCGDx/OyZMnAbj77rvp1q0bjRo1wsfHh1Wr\n",
              "VvHSSy9dcp6vvfYanp6eJR4JCQmlfZ4iIhWSs6MDPQMbqmiLiFRR5XI1EqvVysqVK5kxYwZbtmyh\n",
              "SZMmPPjggwAkJiayfft20tLSOHr0KD169GDChAmXnNbUqVPJzMws8YiOji6P2CIiIiIiZapUh5H4\n",
              "+flx7NgxrFYrTk5OGIZBSkoK/v7+JYbz9/fn1ltvpUmTJgAMHTqU3r17AzB37ly6d++Ol5cXACNG\n",
              "jKBXr16XnKerqyuurq4lfubo6Fia2CIiIiIipijVnm1vb28iIiKIj48HYMmSJfj6+pY4Xhvg3nvv\n",
              "ZePGjWRlZQHw7bffEhoaCkDz5s356aefKCwsBODrr78mODj4up+IiIiIiEhFU+rrbM+YMYPY2Fhe\n",
              "ffVVPDw8iIuLA2DMmDH06dOHPn364O/vz7PPPktMTAwODg40adKETz/9FIBJkyaxa9cuQkNDcXZ2\n",
              "plGjRnzyySdl+6xERERERCoAi2EYhtkhSmvy5Mm88847ZscQEREREbks3a5dRERERKScqGyLiIiI\n",
              "iJQTlW0RERERkXKisi0iIiIiUk5UtkVEREREyonKtoiIiIhIOamUl/7r378/AQEBN2RexcXFJCQk\n",
              "EB0drTtX/oGWy6Vp2VyclsuladlcnJbLpWnZXJyWy8WZtVyaNm3Ko48+esPmV1FVyrJ9I2VlZeHp\n",
              "6UlmZiYeHh5mx6kwtFwuTcvm4rRcLk3L5uK0XC5Ny+bitFwuTsvFXDqMRERERESknKhsi4iIiIiU\n",
              "E5VtEREREZFyorJ9Ba6urvz1r3/F1dXV7CgVipbLpWnZXJyWy6Vp2VyclsuladlcnJbLxWm5mEsn\n",
              "SIqIiIiIlBPt2RYRERERKScq2yIiIiIi5URlW0RERESknKhsi4iIiIiUkypTti0WCxkZGeU+nxde\n",
              "eIHHHnsMgBUrVvD444+X+zxFREREpHKqMmXbDH369OHdd981O0aF88ILL5Cfn39D5pWUlMTChQuv\n",
              "atg1a9YQFhZWvoHKULdu3fjqq6+uezqRkZGsWbPmuqdTFjZu3EhMTAw1a9akX79+Fx3m9/Xno48+\n",
              "IjY29obm+11lWVfKKufXX39Nt27drns6ZeWRRx7BYrFgsVhISkq67LD169fn8OHDQOmXx1/+8hfm\n",
              "z59/0d9dz/oXGxvLe++9d03jXo3qst270ntJWFgY2dnZAAQEBJRYVy633UtMTGTw4MEX/V1OTg4W\n",
              "i+Wast8Ihw8fxsvLq1zn8d5773H8+PGrGras3qduBDO3l1WqbL/99tuEh4fTunXrEhvQIUOGEBkZ\n",
              "SUhICHfddZd9JTp58iS9evWiffv2hISEMHLkyBLTio6OJiIigttvv53ffvvtgvnNnj3bXhjWrFlD\n",
              "cHAwEydOJDQ0lKCgIBITE+3D/vDDD9x888106NCB6OhoVq9eXU5LwXwvvvhihSzbYj4fHx/ee++9\n",
              "y35IvZHrT3mzWq1mR6iUBg4cCICfn1+5zcNqtfLSSy8xZMiQcpvH9bjculNdtnuX2hb8vmySkpJw\n",
              "d3cv1TStViuRkZEsWrSoTDJWVpdbv0pTtuXqVKmybbFY2LJlC99//z0PP/ywfW/He++9R2JiIsnJ\n",
              "yXTp0oUXXngBgPj4eJo1a8a2bdtITk7m73//OwALFixgz549rF+/ns2bNzNkyBAmTpx4xfnv3r2b\n",
              "ESNGsHXrVh5++GGee+45AA4ePMgLL7zAt99+y6ZNm1iwYAEPPPAABQUF5bIcrtX69eu5+eabCQ0N\n",
              "JSQkhOXLl192b8Err7xCu3btCAsLIywsjN9++40JEyYA0KVLF8LCwkhPTyc9PZ3+/fvTvn17goOD\n",
              "mTFjhn16AQEB/PnPfyYmJgY/Pz8++eQT4uLi6Ny5MwEBAZd9Q0lPT+cvf/kLq1evJiwszD7vH374\n",
              "gYiICEJCQrjlllvYuXPnBeNmZWXRq1cvXnrpJfs4F/swdKUPURdTVFTEM888Q3R0NGFhYdx7772c\n",
              "PXsWOL/Ha9y4cfTs2ZNmzZoxatQoEhIS6NatG82bN2fy5MklprVq1SqioqJo2bIlTzzxBL9fFv/4\n",
              "8ePce++9REdH0759e/785z/bx1m3bh1hYWEEBwczcuTIqyp833zzDVFRUYSGhhIWFsaGDRsuuywv\n",
              "tlw+++wzbr75ZurVq4ePj499/fnmm29o1KgRRUVF9OvXj3PnzuHq6sqePXtKrD87duygRYsWADRp\n",
              "0oQXXniBvLy8clt/fvfGG2/Qvn17QkND6dSpE+fOnQPOvxld7HW3Wq307t2byMhIgoKCeOCBB8jN\n",
              "zbUvl6CgIEaPHk1YWBjLli275Hw3btxI9+7diYyMJDw8nMWLFwP/v+fq+eefJyIiglatWrF27Voe\n",
              "f/xx++u6fft2+3SsVivDhw8nODiYDh06lPh7nTdvHh07diQiIoKuXbuydetW4Pw6OnHiRFq1anXV\n",
              "H/4zMzMZM2YMwcHBhIaGMmrUKOD8nsBRo0YRHBxMcHAwL774on2cbt268eSTT9KlSxdatGhh/xtN\n",
              "TU3F29ubwsJC+7CxsbG8//77AHTt2hWA7Oxshg4dSrNmzYiLiwNgypQp1KpVi5CQEJ5++mkMw+Cm\n",
              "m26yr5uXWh4Xe23+uAc6OzubwYMH06ZNG26++Wa2bdt2xWWSlpbGwIED7Ttsnn/+efvvdu3aRY8e\n",
              "PWjdujX9+/e3P9dVq1bRuXNnwsPDCQoKYtasWSWWwahRo+jatSvBwcEXnWd12e55e3sD0LJlS8LC\n",
              "wrjzzju5//77adCgAe7u7rRv377E4aMFBQX06tWLGjVq4OHhwdGjR+3TCwgIYMqUKURHRzNixIgL\n",
              "9nDOmDGDVq1aER4eflXfVs+ePZvu3bvTp08fAgMD6dq1q71vFBcX89RTT9n/Hh5++GH7az9z5kwC\n",
              "AwMJCwujffv29u3spcTFxREWFkZoaCiRkZH2eQD89a9/pUOHDrRs2ZJvv/3W/vNL7Vz8fbsyZcoU\n",
              "IiIi+Oijjy46z5deeomjR48yePBgwsLCSEpKuuzf+B8tWbKE0NBQDhw4QHZ2NmPHjiU6OpqQkBDG\n",
              "jRtnXw6X2i5cTmXbXl7AqCIA4/Dhw/b/9+3b15gzZ45hGIbx3nvvGR06dDCCgoKMFi1aGB07djQM\n",
              "wzDWrVtn+Pn5GZMnTza++uorIz8/3zAMwxg0aJAREBBghIaGGqGhoUZwcLARHBxsGIZh/PWvfzUe\n",
              "ffRRwzAMIy4uzujbt69hGIaxevVqo02bNvb5JyUlGS1atDAMwzA+/vhjo379+vbphYaGGo0bNzb2\n",
              "7t1brsukNE6fPm14e3sbP//8s2EYhlFcXGycPn3aaNq0qbFlyxb7cB06dDBWr15tnDlzxvD09DTO\n",
              "nTtnGIZh5ObmGnl5eYZhnH8tzp49ax/n3nvvNZ555hnDMAzjxIkThq+vr7F+/XrDMAyjadOmxmOP\n",
              "PWYYhmHs27fPcHNzM15++WXDMAwjISHBqF+//mVz//E1+H36devWNZKTkw3DMIz4+HijXbt2hs1m\n",
              "M1avXm2EhoYaKSkpRkREhH39OHDggNGpUycjMzPTnqNRo0ZGfn6+sXr1asPR0dH49ddfDcMwjOnT\n",
              "pxu9evW6bKa//e1vxksvvWT//0svvWRMnDjRMAzDGDFihNGpUycjLy/PKCgoMFq0aGH069fPKCws\n",
              "NHJycgxvb29j+/bthmEYxi233GJ0797dKCwsNHJzc40OHToY8+fPNwzDMHr16mWsWbPGMAzDKCoq\n",
              "Mnr37m188cUXRkFBgeHr62v8+OOPhmEYxg8//GAAxurVqy+Zd8+ePUaDBg2MXbt2GYZhGIWFhUZG\n",
              "RsYVl+Ufl8vbb79tuLi4GD///LOxdu1aIzAw0L7+jBs3zpg8ebJhGP+//nz00UeGk5NTifXnscce\n",
              "M4YNG2b/W27btq0xYsSIcl1/Zs+ebURFRRkZGRmGYRjGmTNnDKvVetnX3WazGadOnbL/e8KECcZr\n",
              "r71mGMb57YDFYrG/Npdy9uxZIywszDh69KhhGIZx8uRJw8/Pzzhy5Ihx6NAhAzCWLVtmGIZhzJw5\n",
              "06hVq5bx008/GYZhGG+++aYxcOBA+/wAY+XKlYZhGMaiRYuMNm3aGDabzfjll1+MO+64w75d+/nn\n",
              "n43AwEDDMAzjo48+Mrp3724UFBQYBQUFRrdu3YxbbrnlspljY2ONBx980CguLjYMwzDS09MNwzCM\n",
              "p59+2njggQeM4uJiIycnxwgLCzMWLlxoGMb5dbhfv35GUVGRce7cOSMgIMBYt26dYRiGcdtttxmL\n",
              "Fy82DMMwsrOzjTp16tiXq2Gc347UqVPH2LJli7Fr1y6jdu3aRlpamlGnTh2jcePGxu7du40ZM2YY\n",
              "gBETE3PF5XGx12bEiBHGu+++axiGYTz55JPGsGHDDJvNZmRkZNjXv8vp1q2b8eqrr9r///syGTFi\n",
              "hBEdHW3k5uYaVqvViImJMRYsWGAYxv+vY4Zxfrvr7+9vpKam2scLCQkxsrKyLjvf6rLdA4zQ0FBj\n",
              "/vz5xogRI4zatWsb3377rWEY57d7gBEXF2cUFBQYjo6ORs+ePQ2bzWZ88cUXBmB8+OGHhmGc306M\n",
              "Hj3asNlshmEY9mViGIaxbds2o2HDhva/xalTpxpXqkZxcXGGi4uLsXPnTsMwDOONN94wbrvtNsMw\n",
              "DGPatGnGLbfcYuTn5xtFRUXGHXfcYbz++uuGYRiGh4eHfT6FhYVGdnb2JeexevVqIyAgwD58bm6u\n",
              "kZuba98+fPnll4ZhGMZ3331ntG7d2j7e7+ugYRjGa6+9ZowfP94wDMM+3u+v/+X87/v+lf7Gly1b\n",
              "Zvz97383br75Zvvf8NixY+3zstlsxujRo40333zTPs6ltgsXUxm3l/+rSu3Z/l8Wi4VffvmFDz74\n",
              "gG+//Zbt27fzzjvv2L+W6ty5M0lJSXTs2JGlS5cSFRVFcXExhmEwdepUkpKSSEpKYtu2bVe1l8PN\n",
              "zc3+b0dHR/seRcMwuO222+zTS0pKIi0tjVatWpXPE78G69evp02bNnTp0gUABwcH6tate8nhPTw8\n",
              "aNWqFUOHDmXGjBmcOXOmxPP/o5UrVzJ+/HgAvL296d+/PytXrrT//vdj51q2bImbm5v9K+TIyEjO\n",
              "nDlTqhNfN2zYQPv27Wnfvj1w/lP+0aNHSUtLA+DEiRN07dqVN998k+HDhwPw/fffs3//frp27UpY\n",
              "WBgDBw7EwcGBlJQUe66OHTsC59eZAwcOXDbDV199RXx8vH2P7eeff86hQ4fsv+/bty9ubm64uLjQ\n",
              "vn17evfujbOzM7Vq1SIwMJB9+/bZhx0+fDjOzs7UrFmToUOHsnLlSnJzc1m1ahWPPvooYWFhREZG\n",
              "sn//fvbs2cPu3btxcnKiZ8+eAPTq1YvmzZtfNu+PP/7I7bffTtu2bQFwdnbG09Pzisvyj8vFxcUF\n",
              "BwcHunTpQkxMDMXFxfbl9M9//rPEIVoANWrUoHbt2iXWn3//+9+MHj0aAE9PTx544AGgfNefr7/+\n",
              "mgkTJuDp6QlAnTp1cHR0vOD5/fF1NwyDd999l/DwcEJCQvjmm29K7B1p3rw5t9xyy2WX+bp16zh4\n",
              "8CB33HEHYWFh9tdrz549wPltye+HqEVGRlK7dm1uvfVWAKKjo0usIwEBAfTo0QOAe++9l+PHj5Oa\n",
              "msry5cvZunUrHTt2JCwsjIcffpgzZ86Ql5fHqlWrGD58OC4uLri4uNj3Ul/O119/zZNPPomDw/m3\n",
              "jQYNGgDnX5+xY8fi4OBArVq1GD58OD/++KN9vMGDB+Pk5ESNGjUICwuzL8eRI0fa91YvXryY7t27\n",
              "U69evRLzrFWrFgBt27bFycmJ77//ntDQUB599FE+/vhjRo8ejcVisf8tX255XOm1WbVqlX16f1z/\n",
              "LiUnJ4dffvmFJ554wv6z35cJwD333EPNmjVxdHQkOjra/rxPnz7NoEGDCA4Opnv37pw+fbrEnrdB\n",
              "gwaV+tCIqrrdg/Prz8qVK7FareTm5jJ16lT7dg9g37597N69G4A///nPWCwWBg0ahIeHB5s2bbJP\n",
              "MzY29qLHYv/000/ccccd+Pj4APDggw9e1TKPiYmhXbt2AIwbN441a9ZQXFzMypUriY2NxdXVFScn\n",
              "J8aOHWv/e+jRowfDhg3j/fff59ChQ9SuXfuS0//mm28YNmyYPVfNmjWpWbMmcH770L9/f+DC12bB\n",
              "ggVERkYSHBzMzJkzS2ybnJ2dGTp06FU9vz+60t/4K6+8wqpVq/jxxx/tf8NfffUVb731FmFhYYSH\n",
              "h/Of//yH/fv328e51HbhYirj9vJ/OZV6jAosLi6OF154gcOHD/Of//yH9957j23btuHu7k69evUo\n",
              "LCws8RX0oUOHaNKkCffeey+333473t7e5OTk0K9fP/7+978zcOBA6tatS1FREdu3byc8PPyacvXu\n",
              "3ZsXX3yR5ORkQkJCAEhISCA6OrpMnnd5cnJyori42P7/3z+oODo68uuvv7Ju3TrWrFlDp06d+Pzz\n",
              "z+1l/XL+d4P3vx9Sfv//7ydIleVxr15eXrRs2ZKvv/6a7t27Y7FY7B+GFixYcMHwaWlpl/wQdSmG\n",
              "YfDhhx/Sq1evi/7+Us/3aqb/e16AX3/99YIPOMnJyRcdpzz8b+7fc8H/F6mioiK8vLzsX4n/vv44\n",
              "ODjQtWtXHnvsMfv68/sbyZVy36j151Kvy4IFC/jpp5/497//jYeHBx988AE//fSTfdjLvYH+zjAM\n",
              "goKCWLdu3QW/O3z4MK6urhd9Tv+b5WJ+f96GYTBixAheffXVK+Ypy3XkSq/P79nvueceHnnkEY4d\n",
              "O8bs2bN5+umnLzstR0dH+7Zo7NixBAYGMnToUAzDsL/5XirP79O5mtfmUs+jtC71vCdMmMCdd97J\n",
              "kiVLsFgsRERElDguuTQZr1ZV3e5ZLBaeeuop+weE/x3nj6/h1S7Xst5e/nF6S5YsYdOmTaxZs4Y7\n",
              "77yTV155hfvuu6/U03R1dbVP949/F7/vXFy/fj3e3t6sWLGCv/zlL/bxatasaf+wfD3+dxl17NiR\n",
              "f/3rXxw8eJDAwEDg/PqwZMkSWrdufdFplOb1rwrbyyq1Z7u4uJjw8HB69erFBx98QEBAALfffjtt\n",
              "2rSx77X943Faa9asoUOHDoSFhRETE8Nbb72Fp6cnQ4YMITY2lltvvdV+DOsf30xLq2XLlixYsIDx\n",
              "48cTGhpKu3btyvVM9WsRExPDvn37+M9//gOAzWbjzJkztGzZ0n5cWUJCgv2TZHZ2NidOnKBLly48\n",
              "//zz3HzzzWzZsgUAd3d3MjMz7dPu2bMn//jHP4DzJ6UuXbqU2267rUxye3h4lJhXp06d2LZtm31P\n",
              "0cKFC2nSpAlNmjQBzm+kli5dytGjRxk7diw2m43evXuzcuXKEkU1ISHhmjP169ePd999137s77lz\n",
              "59ixY8c1TSs+Pp6ioiLy8vJYsGABPXv2tH9qf/311+3DHT16lCNHjtC2bVusVqv9mLKVK1decY9U\n",
              "7969+eGHH+x7h4qKisjMzLzisvyj0NBQrFarff0ZMmQIixYtwmazlfiA+fv6k5eXR35+fon1x8/P\n",
              "j7i4ONzd3Tly5Aiff/45UL7rT58+ffjkk0/s61BGRkaJD5cXc/bsWerXr4+HhwfZ2dnMnj271PON\n",
              "iYnh0KFDJfbQJyUllTiG+WodPnzY/np/+eWXNGzYEF9fX/r06UN8fLy9iNhsNvtxtz179rSvW4WF\n",
              "hfY9zJfTp08f3n77bWw2G3D+tfh9WrNmzcIwDHJzc5k3b94lC9cfubm5MWjQIF544QUOHDjA7bff\n",
              "fsVxIiIiSE5O5sSJE/Tt29c+zu/fRlxueVxJz549iYuLwzAMsrKy7OvfpdSuXZuuXbvaz/WB/18m\n",
              "l3P27FmaNm2KxWLh559/th8XWhrVZbvn7u7OwoUL6dmzJ87OzrRq1arEdg/OfzD4/Vu51157DYCl\n",
              "S5eSmZlJRETEFefVvXt3vv/+e/uxzZ988slVZVy/fr19mzlz5kxuvfVWHB0d6dmzJ3PnzqWwsBCr\n",
              "1crMmTPp1asXVquVAwcOEBkZyZNPPsnAgQMvu7zvvvtu4uPjOXbsGHB+ef6+bC/l7Nmzl9y5WBr/\n",
              "u35d6W/8tttu47PPPuPuu+9m8+bNwPn14Y033rAX3bNnz5bYs10alXF7+b+qzJ7t3z/1vvzyyyV+\n",
              "7uzsfMFZx3/729+A83vf/vfr7d898sgjPPLIIxf8/PeTK+H811K/XxqqW7duJb6uCQ4OLnEyQ8+e\n",
              "PS+798VsderUYdmyZTzxxBNkZ2fj4ODAyy+/zCuvvMKIESOYMWMGnTt3JigoCDh/stTAgQPJzc3F\n",
              "YrHQqlUrRowYAcATTzzBbbfdRs2aNfnXv/7FBx98wIMPPkj79u0xDIPnnnvO/vXk9erRowdvv/02\n",
              "ISEhxMTE8MknnzB//nyGDx+O1WqlTp06LF68uMQnUWdnZxYsWMCYMWMYMmQI8+bNs38YOnfuHIWF\n",
              "hYSHh190j8/VmDJlCgUFBXTs2NE+3ylTptiXXWm0a9eOm266iTNnztC3b1/7XpD58+czefJkgoOD\n",
              "sVgs1KpVixkzZuDr68uiRYuYOHEixcXF9pMeL6dly5bExcUxdOhQioqKcHR05JNPPiE6OvqKy/J3\n",
              "np6eNGjQgGeeeca+/vx+8vHWrVsJDQ2lc+fOtGzZkkGDBlFUVERWVhbOzs54e3vTqVMn5syZwxNP\n",
              "PIGLiwtRUVHUqlWLvLy8cl1/hg0bxtGjR4mJicHJyYlatWqV2KBfzPDhw1m+fDlt2rShQYMGdOnS\n",
              "5aJXK7qcOnXq8M033/Dkk0/yxBNPUFRUhL+//zVdQisoKIjZs2fzyCOP4OLiwueff47FYqFLly68\n",
              "+eab3HPPPVitVgoLC7nrrruIjIxk7NixbN++ncDAQOrUqUOXLl1KfOV+Me+++y6PP/447du3x9nZ\n",
              "maioKP7xj3/w/PPP88gjj9gPYRg0aBD33nvvVWUfOXIk0dHRTJkypURh/v2wobS0NHr37m0/rKJe\n",
              "vXp89tln9ueUlZVFnTp1rmp5XMnzzz/PmDFjaNu2LQ0aNODmm2++4kns8+bN4+GHHyYoKAhnZ2f6\n",
              "9u17yZPHfvf6668zceJEXn75ZcLCwq5pXa4u2z0nJydSUlJ44403aNy4MUOHDmXPnj327R7AmTNn\n",
              "cHFxoUGDBmzevJkaNWrg7OyMj4/PJU8y/aPg4GBeeOEFunTpQu3ate2HZ1xJTEwMU6ZMYf/+/dSr\n",
              "V4+5c+cC5w8pOXDggL3od+vWjccee4zi4mJGjRrFmTNncHJyokGDBpctbV27duWvf/0rvXv3xmKx\n",
              "4OLiwpdffnnZTLfffjvx8fG0adOGevXq0bNnT/uhRKXxyCOPMHbsWGrWrMns2bOv6m+8S5cuLFy4\n",
              "kIEDBzJv3jzeffddnnnmGcLCwnBwcMDJyYk333yTli1bljpPZdxe/i+L8cfvfkVERCqBt99+m127\n",
              "dpW4mofIjTB79my++uqrSnN9aTFfldmzLSIi1UNQUBAWi4Xvv//e7CgiIlekPdtS4aWnp1/0GNDb\n",
              "bruNt956y4RE548Xu9jd5UaMGMHjjz9+4wNdhT59+lxwIlGdOnWq9A2WwNz1Z8KECfz6668X/Hz9\n",
              "+vXUqFGjXOd9Lb799lueffbZC34+derUS95xr6qbOXPmRa9J/OGHH17VCeHXSts9c92o5R8ZGXnB\n",
              "CXxBQUGXvLNpWXnppZdYunTpBT9fsmSJ/X4HN1pl216Whsq2iIiIiEg5qVJXIxERERERqUhUtkVE\n",
              "REREyonKtoiIiIhIOVHZFhEREREpJyrbIiIiIiLlRGVbRERERKScqGyLiIiIiJST/wPrpOBzpdlP\n",
              "3AAAAABJRU5ErkJggg==\n",
              "\">\n",
              "      </div>\n",
              "      <script type=\"text/javascript\">\n",
              "        (() => {\n",
              "          const chartElement = document.getElementById(\"chart-a7e7760c-237a-4e06-a136-303f6a095ccf\");\n",
              "          async function getCodeForChartHandler(event) {\n",
              "            const chartCodeResponse =  await google.colab.kernel.invokeFunction(\n",
              "                'getCodeForChart', [\"chart-a7e7760c-237a-4e06-a136-303f6a095ccf\"], {});\n",
              "            const responseJson = chartCodeResponse.data['application/json'];\n",
              "            await google.colab.notebook.addCell(responseJson.code, 'code');\n",
              "          }\n",
              "          chartElement.onclick = getCodeForChartHandler;\n",
              "        })();\n",
              "      </script>\n",
              "      <style>\n",
              "        .colab-quickchart-chart-with-code  {\n",
              "            display: block;\n",
              "            float: left;\n",
              "            border: 1px solid transparent;\n",
              "        }\n",
              "\n",
              "        .colab-quickchart-chart-with-code:hover {\n",
              "            cursor: pointer;\n",
              "            border: 1px solid #aaa;\n",
              "        }\n",
              "      </style>"
            ]
          },
          "metadata": {}
        }
      ]
    },
    {
      "cell_type": "code",
      "source": [
        "# Reduce the accuracy to same scale as other metrics\n",
        "all_model_results[\"accuracy\"] = all_model_results[\"accuracy\"]/100"
      ],
      "metadata": {
        "id": "_nY10xEJvSJT"
      },
      "execution_count": 121,
      "outputs": []
    },
    {
      "cell_type": "code",
      "source": [
        "# Plot and compare all of the model results\n",
        "all_model_results.plot(kind=\"bar\", figsize=(10, 7)).legend(bbox_to_anchor=(1.0, 1.0));"
      ],
      "metadata": {
        "colab": {
          "base_uri": "https://localhost:8080/",
          "height": 798
        },
        "id": "tjQU860LvbLl",
        "outputId": "90355aae-5e33-4688-8623-b0904c8fca11"
      },
      "execution_count": 122,
      "outputs": [
        {
          "output_type": "display_data",
          "data": {
            "text/plain": [
              "<Figure size 1000x700 with 1 Axes>"
            ],
            "image/png": "[encoded data removed]"
          },
          "metadata": {}
        }
      ]
    },
    {
      "cell_type": "markdown",
      "source": [
        "Since the `PubMed 200k RCT: a Dataset for Sequential Sentence Classification in Medical Abstracts` paper compares their tested model's F1-scores on the test dataset, let's take at our model's F1-scores."
      ],
      "metadata": {
        "id": "hFFKXvgcvdVU"
      }
    },
    {
      "cell_type": "markdown",
      "source": [
        "> 🔑 Note: We could've also made these comparisons in TensorBoard using the `TensorBoard` `callback during training.`"
      ],
      "metadata": {
        "id": "u7P80fyGvifE"
      }
    },
    {
      "cell_type": "code",
      "source": [
        "# Sort model results by f1-score\n",
        "all_model_results.sort_values(\"f1\", ascending=False)[\"f1\"].plot(kind=\"bar\", figsize=(10, 7));"
      ],
      "metadata": {
        "colab": {
          "base_uri": "https://localhost:8080/",
          "height": 798
        },
        "id": "vW9XwoyZwa38",
        "outputId": "b94d8c2c-631e-4579-9b2a-07b7d3a0c382"
      },
      "execution_count": 124,
      "outputs": [
        {
          "output_type": "display_data",
          "data": {
            "text/plain": [
              "<Figure size 1000x700 with 1 Axes>"
            ],
            "image/png": "[encoded data removed]"
          },
          "metadata": {}
        }
      ]
    },
    {
      "cell_type": "markdown",
      "source": [
        "Though, in comparison to the results reported in Table 3 of the PubMed 200k RCT: a Dataset for Sequential Sentence Classification in Medical Abstracts paper, our model's F1-score is still underperforming (the authors model achieves an F1-score of 90.0 on the 20k RCT dataset versus our F1-score of ~82.6)."
      ],
      "metadata": {
        "id": "3Iwsk86DwfOU"
      }
    }
  ]
}